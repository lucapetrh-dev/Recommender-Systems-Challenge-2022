{
 "cells": [
  {
   "cell_type": "code",
   "execution_count": 1,
   "metadata": {
    "collapsed": true
   },
   "outputs": [],
   "source": [
    "import pandas as pd\n",
    "import numpy as np\n",
    "import scipy.sparse as sps\n",
    "import matplotlib.pyplot as pyplot\n",
    "import time\n",
    "\n",
    "from Evaluation.Evaluator import EvaluatorHoldout\n",
    "from Data_manager.split_functions.split_train_validation_random_holdout import split_train_in_two_percentage_global_sample\n",
    "from Utils.DataReader import load_urm, load_icm, load_target\n",
    "from Recommenders.SLIM.SLIMElasticNetRecommender import SLIMElasticNetRecommender"
   ]
  },
  {
   "cell_type": "code",
   "execution_count": 9,
   "outputs": [
    {
     "name": "stdout",
     "output_type": "stream",
     "text": [
      "Warning: 3118 (7.49 %) of 41629 users have no sampled items\n",
      "Warning: 1 (0.00 %) of 41629 users have no train items\n",
      "Warning: 4300 (10.33 %) of 41629 users have no sampled items\n",
      "EvaluatorHoldout: Ignoring 4300 (10.3%) Users that have less than 1 test interactions\n",
      "EvaluatorHoldout: Ignoring 3118 ( 7.5%) Users that have less than 1 test interactions\n"
     ]
    }
   ],
   "source": [
    "URM_all = load_urm()\n",
    "\n",
    "URM_train, URM_test = split_train_in_two_percentage_global_sample(URM_all, train_percentage = 0.85)\n",
    "URM_train, URM_validation = split_train_in_two_percentage_global_sample(URM_train, train_percentage = 0.85)\n",
    "\n",
    "evaluator_validation = EvaluatorHoldout(URM_validation, cutoff_list=[10])\n",
    "evaluator_test = EvaluatorHoldout(URM_test, cutoff_list=[10])"
   ],
   "metadata": {
    "collapsed": false
   }
  },
  {
   "cell_type": "code",
   "execution_count": 10,
   "outputs": [],
   "source": [
    "recommender_class = SLIMElasticNetRecommender"
   ],
   "metadata": {
    "collapsed": false
   }
  },
  {
   "cell_type": "code",
   "execution_count": 11,
   "outputs": [],
   "source": [
    "import os\n",
    "\n",
    "output_folder_path = \"Experiments/\"\n",
    "\n",
    "# If directory does not exist, create\n",
    "if not os.path.exists(output_folder_path):\n",
    "    os.makedirs(output_folder_path)\n",
    "\n",
    "n_cases = 50\n",
    "n_random_starts = int(n_cases*0.3)\n",
    "metric_to_optimize = \"MAP\"\n",
    "cutoff_to_optimize = 10"
   ],
   "metadata": {
    "collapsed": false
   }
  },
  {
   "cell_type": "code",
   "execution_count": 12,
   "outputs": [],
   "source": [
    "from skopt.space import Real, Integer, Categorical\n",
    "\n",
    "hyperparameters_range_dictionary = {\n",
    "    \"l1_ratio\": Real(low = 0.001, high = 0.01, prior = 'log-uniform'),\n",
    "    \"alpha\": Real(low = 0.01, high = 0.1, prior = 'log-uniform'),\n",
    "    \"positive_only\": Categorical([True]),\n",
    "    \"topK\": Integer(200,450)\n",
    "}"
   ],
   "metadata": {
    "collapsed": false
   }
  },
  {
   "cell_type": "code",
   "execution_count": 13,
   "outputs": [],
   "source": [
    "earlystopping_keywargs = {\"validation_every_n\": 5,\n",
    "                          \"stop_on_validation\": True,\n",
    "                          \"evaluator_object\": evaluator_validation,\n",
    "                          \"lower_validations_allowed\": 5,\n",
    "                          \"validation_metric\": metric_to_optimize,\n",
    "                          }"
   ],
   "metadata": {
    "collapsed": false
   }
  },
  {
   "cell_type": "code",
   "execution_count": 14,
   "outputs": [],
   "source": [
    "from HyperparameterTuning.SearchBayesianSkopt import SearchBayesianSkopt\n",
    "\n",
    "#create a bayesian optimizer object, we pass the recommender and the evaluator\n",
    "hyperparameterSearch = SearchBayesianSkopt(recommender_class,\n",
    "                                           evaluator_validation=evaluator_validation)"
   ],
   "metadata": {
    "collapsed": false
   }
  },
  {
   "cell_type": "code",
   "execution_count": 15,
   "outputs": [],
   "source": [
    "from HyperparameterTuning.SearchAbstractClass import SearchInputRecommenderArgs\n",
    "\n",
    "#provide data needed to create instance of model (one on URM_train, the other on URM_all)\n",
    "recommender_input_args = SearchInputRecommenderArgs(\n",
    "    CONSTRUCTOR_POSITIONAL_ARGS = [URM_train],     # For a CBF model simply put [URM_train, ICM_train]\n",
    "    CONSTRUCTOR_KEYWORD_ARGS = {},\n",
    "    FIT_POSITIONAL_ARGS = [],\n",
    "    FIT_KEYWORD_ARGS = earlystopping_keywargs\n",
    ")\n",
    "recommender_input_args_last_test = SearchInputRecommenderArgs(\n",
    "    CONSTRUCTOR_POSITIONAL_ARGS = [URM_all],\n",
    "    CONSTRUCTOR_KEYWORD_ARGS = {},\n",
    "    FIT_POSITIONAL_ARGS = [],\n",
    "    FIT_KEYWORD_ARGS = earlystopping_keywargs\n",
    ")"
   ],
   "metadata": {
    "collapsed": false
   }
  },
  {
   "cell_type": "code",
   "execution_count": 16,
   "outputs": [
    {
     "name": "stdout",
     "output_type": "stream",
     "text": [
      "Iteration No: 1 started. Evaluating function at random point.\n",
      "SearchBayesianSkopt: Testing config: {'l1_ratio': 0.003183567349249954, 'alpha': 0.07166923356367623, 'positive_only': True, 'topK': 245}\n",
      "SLIMElasticNetRecommender: URM Detected 1 ( 0.0%) users with no interactions.\n",
      "SearchBayesianSkopt: Config 0 Exception. Config: {'l1_ratio': 0.003183567349249954, 'alpha': 0.07166923356367623, 'positive_only': True, 'topK': 245} - Exception: Traceback (most recent call last):\n",
      "  File \"C:\\Users\\Luca\\DataspellProjects\\Recommender-Systems-Challenge-2022\\HyperparameterTuning\\SearchAbstractClass.py\", line 468, in _objective_function\n",
      "    result_df, recommender_instance = self._evaluate_on_validation(current_fit_hyperparameters_dict, was_already_evaluated_flag, was_already_evaluated_index)\n",
      "  File \"C:\\Users\\Luca\\DataspellProjects\\Recommender-Systems-Challenge-2022\\HyperparameterTuning\\SearchAbstractClass.py\", line 326, in _evaluate_on_validation\n",
      "    recommender_instance, train_time = self._fit_model(current_fit_hyperparameters)\n",
      "  File \"C:\\Users\\Luca\\DataspellProjects\\Recommender-Systems-Challenge-2022\\HyperparameterTuning\\SearchAbstractClass.py\", line 297, in _fit_model\n",
      "    recommender_instance.fit(*self.recommender_input_args.FIT_POSITIONAL_ARGS,\n",
      "  File \"C:\\Users\\Luca\\miniconda3\\lib\\site-packages\\sklearn\\utils\\_testing.py\", line 320, in wrapper\n",
      "    return fn(*args, **kwargs)\n",
      "TypeError: fit() got an unexpected keyword argument 'validation_every_n'\n",
      "\n",
      "\n"
     ]
    },
    {
     "name": "stderr",
     "output_type": "stream",
     "text": [
      "Traceback (most recent call last):\n",
      "  File \"C:\\Users\\Luca\\DataspellProjects\\Recommender-Systems-Challenge-2022\\HyperparameterTuning\\SearchAbstractClass.py\", line 468, in _objective_function\n",
      "    result_df, recommender_instance = self._evaluate_on_validation(current_fit_hyperparameters_dict, was_already_evaluated_flag, was_already_evaluated_index)\n",
      "  File \"C:\\Users\\Luca\\DataspellProjects\\Recommender-Systems-Challenge-2022\\HyperparameterTuning\\SearchAbstractClass.py\", line 326, in _evaluate_on_validation\n",
      "    recommender_instance, train_time = self._fit_model(current_fit_hyperparameters)\n",
      "  File \"C:\\Users\\Luca\\DataspellProjects\\Recommender-Systems-Challenge-2022\\HyperparameterTuning\\SearchAbstractClass.py\", line 297, in _fit_model\n",
      "    recommender_instance.fit(*self.recommender_input_args.FIT_POSITIONAL_ARGS,\n",
      "  File \"C:\\Users\\Luca\\miniconda3\\lib\\site-packages\\sklearn\\utils\\_testing.py\", line 320, in wrapper\n",
      "    return fn(*args, **kwargs)\n",
      "TypeError: fit() got an unexpected keyword argument 'validation_every_n'\n"
     ]
    },
    {
     "name": "stdout",
     "output_type": "stream",
     "text": [
      "Iteration No: 1 ended. Evaluation done at random point.\n",
      "Time taken: 0.5434\n",
      "Function value obtained: 65504.0000\n",
      "Current minimum: 65504.0000\n",
      "Iteration No: 2 started. Evaluating function at random point.\n",
      "SearchBayesianSkopt: Testing config: {'l1_ratio': 0.00886093806520026, 'alpha': 0.023103099725073482, 'positive_only': True, 'topK': 420}\n",
      "SLIMElasticNetRecommender: URM Detected 1 ( 0.0%) users with no interactions.\n",
      "SearchBayesianSkopt: Config 1 Exception. Config: {'l1_ratio': 0.00886093806520026, 'alpha': 0.023103099725073482, 'positive_only': True, 'topK': 420} - Exception: Traceback (most recent call last):\n",
      "  File \"C:\\Users\\Luca\\DataspellProjects\\Recommender-Systems-Challenge-2022\\HyperparameterTuning\\SearchAbstractClass.py\", line 468, in _objective_function\n",
      "    result_df, recommender_instance = self._evaluate_on_validation(current_fit_hyperparameters_dict, was_already_evaluated_flag, was_already_evaluated_index)\n",
      "  File \"C:\\Users\\Luca\\DataspellProjects\\Recommender-Systems-Challenge-2022\\HyperparameterTuning\\SearchAbstractClass.py\", line 326, in _evaluate_on_validation\n",
      "    recommender_instance, train_time = self._fit_model(current_fit_hyperparameters)\n",
      "  File \"C:\\Users\\Luca\\DataspellProjects\\Recommender-Systems-Challenge-2022\\HyperparameterTuning\\SearchAbstractClass.py\", line 297, in _fit_model\n",
      "    recommender_instance.fit(*self.recommender_input_args.FIT_POSITIONAL_ARGS,\n",
      "  File \"C:\\Users\\Luca\\miniconda3\\lib\\site-packages\\sklearn\\utils\\_testing.py\", line 320, in wrapper\n",
      "    return fn(*args, **kwargs)\n",
      "TypeError: fit() got an unexpected keyword argument 'validation_every_n'\n",
      "\n",
      "\n",
      "Iteration No: 2 ended. Evaluation done at random point.\n",
      "Time taken: 0.1369\n",
      "Function value obtained: 65504.0000\n",
      "Current minimum: 65504.0000\n",
      "Iteration No: 3 started. Evaluating function at random point.\n",
      "SearchBayesianSkopt: Testing config: {'l1_ratio': 0.004219805979182752, 'alpha': 0.07251147143659786, 'positive_only': True, 'topK': 374}\n",
      "SLIMElasticNetRecommender: URM Detected 1 ( 0.0%) users with no interactions.\n",
      "SearchBayesianSkopt: Config 2 Exception. Config: {'l1_ratio': 0.004219805979182752, 'alpha': 0.07251147143659786, 'positive_only': True, 'topK': 374} - Exception: Traceback (most recent call last):\n",
      "  File \"C:\\Users\\Luca\\DataspellProjects\\Recommender-Systems-Challenge-2022\\HyperparameterTuning\\SearchAbstractClass.py\", line 468, in _objective_function\n",
      "    result_df, recommender_instance = self._evaluate_on_validation(current_fit_hyperparameters_dict, was_already_evaluated_flag, was_already_evaluated_index)\n",
      "  File \"C:\\Users\\Luca\\DataspellProjects\\Recommender-Systems-Challenge-2022\\HyperparameterTuning\\SearchAbstractClass.py\", line 326, in _evaluate_on_validation\n",
      "    recommender_instance, train_time = self._fit_model(current_fit_hyperparameters)\n",
      "  File \"C:\\Users\\Luca\\DataspellProjects\\Recommender-Systems-Challenge-2022\\HyperparameterTuning\\SearchAbstractClass.py\", line 297, in _fit_model\n",
      "    recommender_instance.fit(*self.recommender_input_args.FIT_POSITIONAL_ARGS,\n",
      "  File \"C:\\Users\\Luca\\miniconda3\\lib\\site-packages\\sklearn\\utils\\_testing.py\", line 320, in wrapper\n",
      "    return fn(*args, **kwargs)\n",
      "TypeError: fit() got an unexpected keyword argument 'validation_every_n'\n",
      "\n",
      "\n"
     ]
    },
    {
     "name": "stderr",
     "output_type": "stream",
     "text": [
      "Traceback (most recent call last):\n",
      "  File \"C:\\Users\\Luca\\DataspellProjects\\Recommender-Systems-Challenge-2022\\HyperparameterTuning\\SearchAbstractClass.py\", line 468, in _objective_function\n",
      "    result_df, recommender_instance = self._evaluate_on_validation(current_fit_hyperparameters_dict, was_already_evaluated_flag, was_already_evaluated_index)\n",
      "  File \"C:\\Users\\Luca\\DataspellProjects\\Recommender-Systems-Challenge-2022\\HyperparameterTuning\\SearchAbstractClass.py\", line 326, in _evaluate_on_validation\n",
      "    recommender_instance, train_time = self._fit_model(current_fit_hyperparameters)\n",
      "  File \"C:\\Users\\Luca\\DataspellProjects\\Recommender-Systems-Challenge-2022\\HyperparameterTuning\\SearchAbstractClass.py\", line 297, in _fit_model\n",
      "    recommender_instance.fit(*self.recommender_input_args.FIT_POSITIONAL_ARGS,\n",
      "  File \"C:\\Users\\Luca\\miniconda3\\lib\\site-packages\\sklearn\\utils\\_testing.py\", line 320, in wrapper\n",
      "    return fn(*args, **kwargs)\n",
      "TypeError: fit() got an unexpected keyword argument 'validation_every_n'\n",
      "Traceback (most recent call last):\n",
      "  File \"C:\\Users\\Luca\\DataspellProjects\\Recommender-Systems-Challenge-2022\\HyperparameterTuning\\SearchAbstractClass.py\", line 468, in _objective_function\n",
      "    result_df, recommender_instance = self._evaluate_on_validation(current_fit_hyperparameters_dict, was_already_evaluated_flag, was_already_evaluated_index)\n",
      "  File \"C:\\Users\\Luca\\DataspellProjects\\Recommender-Systems-Challenge-2022\\HyperparameterTuning\\SearchAbstractClass.py\", line 326, in _evaluate_on_validation\n",
      "    recommender_instance, train_time = self._fit_model(current_fit_hyperparameters)\n",
      "  File \"C:\\Users\\Luca\\DataspellProjects\\Recommender-Systems-Challenge-2022\\HyperparameterTuning\\SearchAbstractClass.py\", line 297, in _fit_model\n",
      "    recommender_instance.fit(*self.recommender_input_args.FIT_POSITIONAL_ARGS,\n",
      "  File \"C:\\Users\\Luca\\miniconda3\\lib\\site-packages\\sklearn\\utils\\_testing.py\", line 320, in wrapper\n",
      "    return fn(*args, **kwargs)\n",
      "TypeError: fit() got an unexpected keyword argument 'validation_every_n'\n"
     ]
    },
    {
     "name": "stdout",
     "output_type": "stream",
     "text": [
      "Iteration No: 3 ended. Evaluation done at random point.\n",
      "Time taken: 0.1462\n",
      "Function value obtained: 65504.0000\n",
      "Current minimum: 65504.0000\n",
      "Iteration No: 4 started. Evaluating function at random point.\n",
      "SearchBayesianSkopt: Testing config: {'l1_ratio': 0.003196171350897768, 'alpha': 0.03915950644390028, 'positive_only': True, 'topK': 237}\n",
      "SLIMElasticNetRecommender: URM Detected 1 ( 0.0%) users with no interactions.\n",
      "SearchBayesianSkopt: Config 3 Exception. Config: {'l1_ratio': 0.003196171350897768, 'alpha': 0.03915950644390028, 'positive_only': True, 'topK': 237} - Exception: Traceback (most recent call last):\n",
      "  File \"C:\\Users\\Luca\\DataspellProjects\\Recommender-Systems-Challenge-2022\\HyperparameterTuning\\SearchAbstractClass.py\", line 468, in _objective_function\n",
      "    result_df, recommender_instance = self._evaluate_on_validation(current_fit_hyperparameters_dict, was_already_evaluated_flag, was_already_evaluated_index)\n",
      "  File \"C:\\Users\\Luca\\DataspellProjects\\Recommender-Systems-Challenge-2022\\HyperparameterTuning\\SearchAbstractClass.py\", line 326, in _evaluate_on_validation\n",
      "    recommender_instance, train_time = self._fit_model(current_fit_hyperparameters)\n",
      "  File \"C:\\Users\\Luca\\DataspellProjects\\Recommender-Systems-Challenge-2022\\HyperparameterTuning\\SearchAbstractClass.py\", line 297, in _fit_model\n",
      "    recommender_instance.fit(*self.recommender_input_args.FIT_POSITIONAL_ARGS,\n",
      "  File \"C:\\Users\\Luca\\miniconda3\\lib\\site-packages\\sklearn\\utils\\_testing.py\", line 320, in wrapper\n",
      "    return fn(*args, **kwargs)\n",
      "TypeError: fit() got an unexpected keyword argument 'validation_every_n'\n",
      "\n",
      "\n",
      "Iteration No: 4 ended. Evaluation done at random point.\n",
      "Time taken: 0.1409\n",
      "Function value obtained: 65504.0000\n",
      "Current minimum: 65504.0000\n",
      "Iteration No: 5 started. Evaluating function at random point.\n",
      "SearchBayesianSkopt: Testing config: {'l1_ratio': 0.001330864591820635, 'alpha': 0.017939683124930494, 'positive_only': True, 'topK': 329}\n",
      "SLIMElasticNetRecommender: URM Detected 1 ( 0.0%) users with no interactions.\n",
      "SearchBayesianSkopt: Config 4 Exception. Config: {'l1_ratio': 0.001330864591820635, 'alpha': 0.017939683124930494, 'positive_only': True, 'topK': 329} - Exception: Traceback (most recent call last):\n",
      "  File \"C:\\Users\\Luca\\DataspellProjects\\Recommender-Systems-Challenge-2022\\HyperparameterTuning\\SearchAbstractClass.py\", line 468, in _objective_function\n",
      "    result_df, recommender_instance = self._evaluate_on_validation(current_fit_hyperparameters_dict, was_already_evaluated_flag, was_already_evaluated_index)\n",
      "  File \"C:\\Users\\Luca\\DataspellProjects\\Recommender-Systems-Challenge-2022\\HyperparameterTuning\\SearchAbstractClass.py\", line 326, in _evaluate_on_validation\n",
      "    recommender_instance, train_time = self._fit_model(current_fit_hyperparameters)\n",
      "  File \"C:\\Users\\Luca\\DataspellProjects\\Recommender-Systems-Challenge-2022\\HyperparameterTuning\\SearchAbstractClass.py\", line 297, in _fit_model\n",
      "    recommender_instance.fit(*self.recommender_input_args.FIT_POSITIONAL_ARGS,\n",
      "  File \"C:\\Users\\Luca\\miniconda3\\lib\\site-packages\\sklearn\\utils\\_testing.py\", line 320, in wrapper\n",
      "    return fn(*args, **kwargs)\n",
      "TypeError: fit() got an unexpected keyword argument 'validation_every_n'\n",
      "\n",
      "\n"
     ]
    },
    {
     "name": "stderr",
     "output_type": "stream",
     "text": [
      "Traceback (most recent call last):\n",
      "  File \"C:\\Users\\Luca\\DataspellProjects\\Recommender-Systems-Challenge-2022\\HyperparameterTuning\\SearchAbstractClass.py\", line 468, in _objective_function\n",
      "    result_df, recommender_instance = self._evaluate_on_validation(current_fit_hyperparameters_dict, was_already_evaluated_flag, was_already_evaluated_index)\n",
      "  File \"C:\\Users\\Luca\\DataspellProjects\\Recommender-Systems-Challenge-2022\\HyperparameterTuning\\SearchAbstractClass.py\", line 326, in _evaluate_on_validation\n",
      "    recommender_instance, train_time = self._fit_model(current_fit_hyperparameters)\n",
      "  File \"C:\\Users\\Luca\\DataspellProjects\\Recommender-Systems-Challenge-2022\\HyperparameterTuning\\SearchAbstractClass.py\", line 297, in _fit_model\n",
      "    recommender_instance.fit(*self.recommender_input_args.FIT_POSITIONAL_ARGS,\n",
      "  File \"C:\\Users\\Luca\\miniconda3\\lib\\site-packages\\sklearn\\utils\\_testing.py\", line 320, in wrapper\n",
      "    return fn(*args, **kwargs)\n",
      "TypeError: fit() got an unexpected keyword argument 'validation_every_n'\n",
      "Traceback (most recent call last):\n",
      "  File \"C:\\Users\\Luca\\DataspellProjects\\Recommender-Systems-Challenge-2022\\HyperparameterTuning\\SearchAbstractClass.py\", line 468, in _objective_function\n",
      "    result_df, recommender_instance = self._evaluate_on_validation(current_fit_hyperparameters_dict, was_already_evaluated_flag, was_already_evaluated_index)\n",
      "  File \"C:\\Users\\Luca\\DataspellProjects\\Recommender-Systems-Challenge-2022\\HyperparameterTuning\\SearchAbstractClass.py\", line 326, in _evaluate_on_validation\n",
      "    recommender_instance, train_time = self._fit_model(current_fit_hyperparameters)\n",
      "  File \"C:\\Users\\Luca\\DataspellProjects\\Recommender-Systems-Challenge-2022\\HyperparameterTuning\\SearchAbstractClass.py\", line 297, in _fit_model\n",
      "    recommender_instance.fit(*self.recommender_input_args.FIT_POSITIONAL_ARGS,\n",
      "  File \"C:\\Users\\Luca\\miniconda3\\lib\\site-packages\\sklearn\\utils\\_testing.py\", line 320, in wrapper\n",
      "    return fn(*args, **kwargs)\n",
      "TypeError: fit() got an unexpected keyword argument 'validation_every_n'\n"
     ]
    },
    {
     "name": "stdout",
     "output_type": "stream",
     "text": [
      "Iteration No: 5 ended. Evaluation done at random point.\n",
      "Time taken: 0.1417\n",
      "Function value obtained: 65504.0000\n",
      "Current minimum: 65504.0000\n",
      "Iteration No: 6 started. Evaluating function at random point.\n",
      "SearchBayesianSkopt: Testing config: {'l1_ratio': 0.0014338377451667652, 'alpha': 0.021192402523163654, 'positive_only': True, 'topK': 446}\n",
      "SLIMElasticNetRecommender: URM Detected 1 ( 0.0%) users with no interactions.\n",
      "SearchBayesianSkopt: Config 5 Exception. Config: {'l1_ratio': 0.0014338377451667652, 'alpha': 0.021192402523163654, 'positive_only': True, 'topK': 446} - Exception: Traceback (most recent call last):\n",
      "  File \"C:\\Users\\Luca\\DataspellProjects\\Recommender-Systems-Challenge-2022\\HyperparameterTuning\\SearchAbstractClass.py\", line 468, in _objective_function\n",
      "    result_df, recommender_instance = self._evaluate_on_validation(current_fit_hyperparameters_dict, was_already_evaluated_flag, was_already_evaluated_index)\n",
      "  File \"C:\\Users\\Luca\\DataspellProjects\\Recommender-Systems-Challenge-2022\\HyperparameterTuning\\SearchAbstractClass.py\", line 326, in _evaluate_on_validation\n",
      "    recommender_instance, train_time = self._fit_model(current_fit_hyperparameters)\n",
      "  File \"C:\\Users\\Luca\\DataspellProjects\\Recommender-Systems-Challenge-2022\\HyperparameterTuning\\SearchAbstractClass.py\", line 297, in _fit_model\n",
      "    recommender_instance.fit(*self.recommender_input_args.FIT_POSITIONAL_ARGS,\n",
      "  File \"C:\\Users\\Luca\\miniconda3\\lib\\site-packages\\sklearn\\utils\\_testing.py\", line 320, in wrapper\n",
      "    return fn(*args, **kwargs)\n",
      "TypeError: fit() got an unexpected keyword argument 'validation_every_n'\n",
      "\n",
      "\n",
      "Iteration No: 6 ended. Evaluation done at random point.\n",
      "Time taken: 0.1446\n",
      "Function value obtained: 65504.0000\n",
      "Current minimum: 65504.0000\n",
      "Iteration No: 7 started. Evaluating function at random point.\n",
      "SearchBayesianSkopt: Testing config: {'l1_ratio': 0.0013546785316843756, 'alpha': 0.03892472293507244, 'positive_only': True, 'topK': 397}\n",
      "SLIMElasticNetRecommender: URM Detected 1 ( 0.0%) users with no interactions.\n",
      "SearchBayesianSkopt: Config 6 Exception. Config: {'l1_ratio': 0.0013546785316843756, 'alpha': 0.03892472293507244, 'positive_only': True, 'topK': 397} - Exception: Traceback (most recent call last):\n",
      "  File \"C:\\Users\\Luca\\DataspellProjects\\Recommender-Systems-Challenge-2022\\HyperparameterTuning\\SearchAbstractClass.py\", line 468, in _objective_function\n",
      "    result_df, recommender_instance = self._evaluate_on_validation(current_fit_hyperparameters_dict, was_already_evaluated_flag, was_already_evaluated_index)\n",
      "  File \"C:\\Users\\Luca\\DataspellProjects\\Recommender-Systems-Challenge-2022\\HyperparameterTuning\\SearchAbstractClass.py\", line 326, in _evaluate_on_validation\n",
      "    recommender_instance, train_time = self._fit_model(current_fit_hyperparameters)\n",
      "  File \"C:\\Users\\Luca\\DataspellProjects\\Recommender-Systems-Challenge-2022\\HyperparameterTuning\\SearchAbstractClass.py\", line 297, in _fit_model\n",
      "    recommender_instance.fit(*self.recommender_input_args.FIT_POSITIONAL_ARGS,\n",
      "  File \"C:\\Users\\Luca\\miniconda3\\lib\\site-packages\\sklearn\\utils\\_testing.py\", line 320, in wrapper\n",
      "    return fn(*args, **kwargs)\n",
      "TypeError: fit() got an unexpected keyword argument 'validation_every_n'\n",
      "\n",
      "\n"
     ]
    },
    {
     "name": "stderr",
     "output_type": "stream",
     "text": [
      "Traceback (most recent call last):\n",
      "  File \"C:\\Users\\Luca\\DataspellProjects\\Recommender-Systems-Challenge-2022\\HyperparameterTuning\\SearchAbstractClass.py\", line 468, in _objective_function\n",
      "    result_df, recommender_instance = self._evaluate_on_validation(current_fit_hyperparameters_dict, was_already_evaluated_flag, was_already_evaluated_index)\n",
      "  File \"C:\\Users\\Luca\\DataspellProjects\\Recommender-Systems-Challenge-2022\\HyperparameterTuning\\SearchAbstractClass.py\", line 326, in _evaluate_on_validation\n",
      "    recommender_instance, train_time = self._fit_model(current_fit_hyperparameters)\n",
      "  File \"C:\\Users\\Luca\\DataspellProjects\\Recommender-Systems-Challenge-2022\\HyperparameterTuning\\SearchAbstractClass.py\", line 297, in _fit_model\n",
      "    recommender_instance.fit(*self.recommender_input_args.FIT_POSITIONAL_ARGS,\n",
      "  File \"C:\\Users\\Luca\\miniconda3\\lib\\site-packages\\sklearn\\utils\\_testing.py\", line 320, in wrapper\n",
      "    return fn(*args, **kwargs)\n",
      "TypeError: fit() got an unexpected keyword argument 'validation_every_n'\n",
      "Traceback (most recent call last):\n",
      "  File \"C:\\Users\\Luca\\DataspellProjects\\Recommender-Systems-Challenge-2022\\HyperparameterTuning\\SearchAbstractClass.py\", line 468, in _objective_function\n",
      "    result_df, recommender_instance = self._evaluate_on_validation(current_fit_hyperparameters_dict, was_already_evaluated_flag, was_already_evaluated_index)\n",
      "  File \"C:\\Users\\Luca\\DataspellProjects\\Recommender-Systems-Challenge-2022\\HyperparameterTuning\\SearchAbstractClass.py\", line 326, in _evaluate_on_validation\n",
      "    recommender_instance, train_time = self._fit_model(current_fit_hyperparameters)\n",
      "  File \"C:\\Users\\Luca\\DataspellProjects\\Recommender-Systems-Challenge-2022\\HyperparameterTuning\\SearchAbstractClass.py\", line 297, in _fit_model\n",
      "    recommender_instance.fit(*self.recommender_input_args.FIT_POSITIONAL_ARGS,\n",
      "  File \"C:\\Users\\Luca\\miniconda3\\lib\\site-packages\\sklearn\\utils\\_testing.py\", line 320, in wrapper\n",
      "    return fn(*args, **kwargs)\n",
      "TypeError: fit() got an unexpected keyword argument 'validation_every_n'\n"
     ]
    },
    {
     "name": "stdout",
     "output_type": "stream",
     "text": [
      "Iteration No: 7 ended. Evaluation done at random point.\n",
      "Time taken: 0.1320\n",
      "Function value obtained: 65504.0000\n",
      "Current minimum: 65504.0000\n",
      "Iteration No: 8 started. Evaluating function at random point.\n",
      "SearchBayesianSkopt: Testing config: {'l1_ratio': 0.003064099749027975, 'alpha': 0.02652663943872226, 'positive_only': True, 'topK': 367}\n",
      "SLIMElasticNetRecommender: URM Detected 1 ( 0.0%) users with no interactions.\n",
      "SearchBayesianSkopt: Config 7 Exception. Config: {'l1_ratio': 0.003064099749027975, 'alpha': 0.02652663943872226, 'positive_only': True, 'topK': 367} - Exception: Traceback (most recent call last):\n",
      "  File \"C:\\Users\\Luca\\DataspellProjects\\Recommender-Systems-Challenge-2022\\HyperparameterTuning\\SearchAbstractClass.py\", line 468, in _objective_function\n",
      "    result_df, recommender_instance = self._evaluate_on_validation(current_fit_hyperparameters_dict, was_already_evaluated_flag, was_already_evaluated_index)\n",
      "  File \"C:\\Users\\Luca\\DataspellProjects\\Recommender-Systems-Challenge-2022\\HyperparameterTuning\\SearchAbstractClass.py\", line 326, in _evaluate_on_validation\n",
      "    recommender_instance, train_time = self._fit_model(current_fit_hyperparameters)\n",
      "  File \"C:\\Users\\Luca\\DataspellProjects\\Recommender-Systems-Challenge-2022\\HyperparameterTuning\\SearchAbstractClass.py\", line 297, in _fit_model\n",
      "    recommender_instance.fit(*self.recommender_input_args.FIT_POSITIONAL_ARGS,\n",
      "  File \"C:\\Users\\Luca\\miniconda3\\lib\\site-packages\\sklearn\\utils\\_testing.py\", line 320, in wrapper\n",
      "    return fn(*args, **kwargs)\n",
      "TypeError: fit() got an unexpected keyword argument 'validation_every_n'\n",
      "\n",
      "\n",
      "Iteration No: 8 ended. Evaluation done at random point.\n",
      "Time taken: 0.1447\n",
      "Function value obtained: 65504.0000\n",
      "Current minimum: 65504.0000\n",
      "Iteration No: 9 started. Evaluating function at random point.\n",
      "SearchBayesianSkopt: Testing config: {'l1_ratio': 0.0028453001593016663, 'alpha': 0.02034966857487157, 'positive_only': True, 'topK': 366}\n",
      "SLIMElasticNetRecommender: URM Detected 1 ( 0.0%) users with no interactions.\n",
      "SearchBayesianSkopt: Config 8 Exception. Config: {'l1_ratio': 0.0028453001593016663, 'alpha': 0.02034966857487157, 'positive_only': True, 'topK': 366} - Exception: Traceback (most recent call last):\n",
      "  File \"C:\\Users\\Luca\\DataspellProjects\\Recommender-Systems-Challenge-2022\\HyperparameterTuning\\SearchAbstractClass.py\", line 468, in _objective_function\n",
      "    result_df, recommender_instance = self._evaluate_on_validation(current_fit_hyperparameters_dict, was_already_evaluated_flag, was_already_evaluated_index)\n",
      "  File \"C:\\Users\\Luca\\DataspellProjects\\Recommender-Systems-Challenge-2022\\HyperparameterTuning\\SearchAbstractClass.py\", line 326, in _evaluate_on_validation\n",
      "    recommender_instance, train_time = self._fit_model(current_fit_hyperparameters)\n",
      "  File \"C:\\Users\\Luca\\DataspellProjects\\Recommender-Systems-Challenge-2022\\HyperparameterTuning\\SearchAbstractClass.py\", line 297, in _fit_model\n",
      "    recommender_instance.fit(*self.recommender_input_args.FIT_POSITIONAL_ARGS,\n",
      "  File \"C:\\Users\\Luca\\miniconda3\\lib\\site-packages\\sklearn\\utils\\_testing.py\", line 320, in wrapper\n",
      "    return fn(*args, **kwargs)\n",
      "TypeError: fit() got an unexpected keyword argument 'validation_every_n'\n",
      "\n",
      "\n"
     ]
    },
    {
     "name": "stderr",
     "output_type": "stream",
     "text": [
      "Traceback (most recent call last):\n",
      "  File \"C:\\Users\\Luca\\DataspellProjects\\Recommender-Systems-Challenge-2022\\HyperparameterTuning\\SearchAbstractClass.py\", line 468, in _objective_function\n",
      "    result_df, recommender_instance = self._evaluate_on_validation(current_fit_hyperparameters_dict, was_already_evaluated_flag, was_already_evaluated_index)\n",
      "  File \"C:\\Users\\Luca\\DataspellProjects\\Recommender-Systems-Challenge-2022\\HyperparameterTuning\\SearchAbstractClass.py\", line 326, in _evaluate_on_validation\n",
      "    recommender_instance, train_time = self._fit_model(current_fit_hyperparameters)\n",
      "  File \"C:\\Users\\Luca\\DataspellProjects\\Recommender-Systems-Challenge-2022\\HyperparameterTuning\\SearchAbstractClass.py\", line 297, in _fit_model\n",
      "    recommender_instance.fit(*self.recommender_input_args.FIT_POSITIONAL_ARGS,\n",
      "  File \"C:\\Users\\Luca\\miniconda3\\lib\\site-packages\\sklearn\\utils\\_testing.py\", line 320, in wrapper\n",
      "    return fn(*args, **kwargs)\n",
      "TypeError: fit() got an unexpected keyword argument 'validation_every_n'\n",
      "Traceback (most recent call last):\n",
      "  File \"C:\\Users\\Luca\\DataspellProjects\\Recommender-Systems-Challenge-2022\\HyperparameterTuning\\SearchAbstractClass.py\", line 468, in _objective_function\n",
      "    result_df, recommender_instance = self._evaluate_on_validation(current_fit_hyperparameters_dict, was_already_evaluated_flag, was_already_evaluated_index)\n",
      "  File \"C:\\Users\\Luca\\DataspellProjects\\Recommender-Systems-Challenge-2022\\HyperparameterTuning\\SearchAbstractClass.py\", line 326, in _evaluate_on_validation\n",
      "    recommender_instance, train_time = self._fit_model(current_fit_hyperparameters)\n",
      "  File \"C:\\Users\\Luca\\DataspellProjects\\Recommender-Systems-Challenge-2022\\HyperparameterTuning\\SearchAbstractClass.py\", line 297, in _fit_model\n",
      "    recommender_instance.fit(*self.recommender_input_args.FIT_POSITIONAL_ARGS,\n",
      "  File \"C:\\Users\\Luca\\miniconda3\\lib\\site-packages\\sklearn\\utils\\_testing.py\", line 320, in wrapper\n",
      "    return fn(*args, **kwargs)\n",
      "TypeError: fit() got an unexpected keyword argument 'validation_every_n'\n"
     ]
    },
    {
     "name": "stdout",
     "output_type": "stream",
     "text": [
      "Iteration No: 9 ended. Evaluation done at random point.\n",
      "Time taken: 0.1323\n",
      "Function value obtained: 65504.0000\n",
      "Current minimum: 65504.0000\n",
      "Iteration No: 10 started. Evaluating function at random point.\n",
      "SearchBayesianSkopt: Testing config: {'l1_ratio': 0.0028910130925582636, 'alpha': 0.013004002541920698, 'positive_only': True, 'topK': 339}\n",
      "SLIMElasticNetRecommender: URM Detected 1 ( 0.0%) users with no interactions.\n",
      "SearchBayesianSkopt: Config 9 Exception. Config: {'l1_ratio': 0.0028910130925582636, 'alpha': 0.013004002541920698, 'positive_only': True, 'topK': 339} - Exception: Traceback (most recent call last):\n",
      "  File \"C:\\Users\\Luca\\DataspellProjects\\Recommender-Systems-Challenge-2022\\HyperparameterTuning\\SearchAbstractClass.py\", line 468, in _objective_function\n",
      "    result_df, recommender_instance = self._evaluate_on_validation(current_fit_hyperparameters_dict, was_already_evaluated_flag, was_already_evaluated_index)\n",
      "  File \"C:\\Users\\Luca\\DataspellProjects\\Recommender-Systems-Challenge-2022\\HyperparameterTuning\\SearchAbstractClass.py\", line 326, in _evaluate_on_validation\n",
      "    recommender_instance, train_time = self._fit_model(current_fit_hyperparameters)\n",
      "  File \"C:\\Users\\Luca\\DataspellProjects\\Recommender-Systems-Challenge-2022\\HyperparameterTuning\\SearchAbstractClass.py\", line 297, in _fit_model\n",
      "    recommender_instance.fit(*self.recommender_input_args.FIT_POSITIONAL_ARGS,\n",
      "  File \"C:\\Users\\Luca\\miniconda3\\lib\\site-packages\\sklearn\\utils\\_testing.py\", line 320, in wrapper\n",
      "    return fn(*args, **kwargs)\n",
      "TypeError: fit() got an unexpected keyword argument 'validation_every_n'\n",
      "\n",
      "\n",
      "Iteration No: 10 ended. Evaluation done at random point.\n",
      "Time taken: 0.1515\n",
      "Function value obtained: 65504.0000\n",
      "Current minimum: 65504.0000\n",
      "Iteration No: 11 started. Evaluating function at random point.\n",
      "SearchBayesianSkopt: Testing config: {'l1_ratio': 0.002167610133666832, 'alpha': 0.017413323447568258, 'positive_only': True, 'topK': 421}\n",
      "SLIMElasticNetRecommender: URM Detected 1 ( 0.0%) users with no interactions.\n",
      "SearchBayesianSkopt: Config 10 Exception. Config: {'l1_ratio': 0.002167610133666832, 'alpha': 0.017413323447568258, 'positive_only': True, 'topK': 421} - Exception: Traceback (most recent call last):\n",
      "  File \"C:\\Users\\Luca\\DataspellProjects\\Recommender-Systems-Challenge-2022\\HyperparameterTuning\\SearchAbstractClass.py\", line 468, in _objective_function\n",
      "    result_df, recommender_instance = self._evaluate_on_validation(current_fit_hyperparameters_dict, was_already_evaluated_flag, was_already_evaluated_index)\n",
      "  File \"C:\\Users\\Luca\\DataspellProjects\\Recommender-Systems-Challenge-2022\\HyperparameterTuning\\SearchAbstractClass.py\", line 326, in _evaluate_on_validation\n",
      "    recommender_instance, train_time = self._fit_model(current_fit_hyperparameters)\n",
      "  File \"C:\\Users\\Luca\\DataspellProjects\\Recommender-Systems-Challenge-2022\\HyperparameterTuning\\SearchAbstractClass.py\", line 297, in _fit_model\n",
      "    recommender_instance.fit(*self.recommender_input_args.FIT_POSITIONAL_ARGS,\n",
      "  File \"C:\\Users\\Luca\\miniconda3\\lib\\site-packages\\sklearn\\utils\\_testing.py\", line 320, in wrapper\n",
      "    return fn(*args, **kwargs)\n",
      "TypeError: fit() got an unexpected keyword argument 'validation_every_n'\n",
      "\n",
      "\n"
     ]
    },
    {
     "name": "stderr",
     "output_type": "stream",
     "text": [
      "Traceback (most recent call last):\n",
      "  File \"C:\\Users\\Luca\\DataspellProjects\\Recommender-Systems-Challenge-2022\\HyperparameterTuning\\SearchAbstractClass.py\", line 468, in _objective_function\n",
      "    result_df, recommender_instance = self._evaluate_on_validation(current_fit_hyperparameters_dict, was_already_evaluated_flag, was_already_evaluated_index)\n",
      "  File \"C:\\Users\\Luca\\DataspellProjects\\Recommender-Systems-Challenge-2022\\HyperparameterTuning\\SearchAbstractClass.py\", line 326, in _evaluate_on_validation\n",
      "    recommender_instance, train_time = self._fit_model(current_fit_hyperparameters)\n",
      "  File \"C:\\Users\\Luca\\DataspellProjects\\Recommender-Systems-Challenge-2022\\HyperparameterTuning\\SearchAbstractClass.py\", line 297, in _fit_model\n",
      "    recommender_instance.fit(*self.recommender_input_args.FIT_POSITIONAL_ARGS,\n",
      "  File \"C:\\Users\\Luca\\miniconda3\\lib\\site-packages\\sklearn\\utils\\_testing.py\", line 320, in wrapper\n",
      "    return fn(*args, **kwargs)\n",
      "TypeError: fit() got an unexpected keyword argument 'validation_every_n'\n",
      "Traceback (most recent call last):\n",
      "  File \"C:\\Users\\Luca\\DataspellProjects\\Recommender-Systems-Challenge-2022\\HyperparameterTuning\\SearchAbstractClass.py\", line 468, in _objective_function\n",
      "    result_df, recommender_instance = self._evaluate_on_validation(current_fit_hyperparameters_dict, was_already_evaluated_flag, was_already_evaluated_index)\n",
      "  File \"C:\\Users\\Luca\\DataspellProjects\\Recommender-Systems-Challenge-2022\\HyperparameterTuning\\SearchAbstractClass.py\", line 326, in _evaluate_on_validation\n",
      "    recommender_instance, train_time = self._fit_model(current_fit_hyperparameters)\n",
      "  File \"C:\\Users\\Luca\\DataspellProjects\\Recommender-Systems-Challenge-2022\\HyperparameterTuning\\SearchAbstractClass.py\", line 297, in _fit_model\n",
      "    recommender_instance.fit(*self.recommender_input_args.FIT_POSITIONAL_ARGS,\n",
      "  File \"C:\\Users\\Luca\\miniconda3\\lib\\site-packages\\sklearn\\utils\\_testing.py\", line 320, in wrapper\n",
      "    return fn(*args, **kwargs)\n",
      "TypeError: fit() got an unexpected keyword argument 'validation_every_n'\n"
     ]
    },
    {
     "name": "stdout",
     "output_type": "stream",
     "text": [
      "Iteration No: 11 ended. Evaluation done at random point.\n",
      "Time taken: 0.1272\n",
      "Function value obtained: 65504.0000\n",
      "Current minimum: 65504.0000\n",
      "Iteration No: 12 started. Evaluating function at random point.\n",
      "SearchBayesianSkopt: Testing config: {'l1_ratio': 0.0022598055108969638, 'alpha': 0.032409814536710456, 'positive_only': True, 'topK': 290}\n",
      "SLIMElasticNetRecommender: URM Detected 1 ( 0.0%) users with no interactions.\n",
      "SearchBayesianSkopt: Config 11 Exception. Config: {'l1_ratio': 0.0022598055108969638, 'alpha': 0.032409814536710456, 'positive_only': True, 'topK': 290} - Exception: Traceback (most recent call last):\n",
      "  File \"C:\\Users\\Luca\\DataspellProjects\\Recommender-Systems-Challenge-2022\\HyperparameterTuning\\SearchAbstractClass.py\", line 468, in _objective_function\n",
      "    result_df, recommender_instance = self._evaluate_on_validation(current_fit_hyperparameters_dict, was_already_evaluated_flag, was_already_evaluated_index)\n",
      "  File \"C:\\Users\\Luca\\DataspellProjects\\Recommender-Systems-Challenge-2022\\HyperparameterTuning\\SearchAbstractClass.py\", line 326, in _evaluate_on_validation\n",
      "    recommender_instance, train_time = self._fit_model(current_fit_hyperparameters)\n",
      "  File \"C:\\Users\\Luca\\DataspellProjects\\Recommender-Systems-Challenge-2022\\HyperparameterTuning\\SearchAbstractClass.py\", line 297, in _fit_model\n",
      "    recommender_instance.fit(*self.recommender_input_args.FIT_POSITIONAL_ARGS,\n",
      "  File \"C:\\Users\\Luca\\miniconda3\\lib\\site-packages\\sklearn\\utils\\_testing.py\", line 320, in wrapper\n",
      "    return fn(*args, **kwargs)\n",
      "TypeError: fit() got an unexpected keyword argument 'validation_every_n'\n",
      "\n",
      "\n",
      "Iteration No: 12 ended. Evaluation done at random point.\n",
      "Time taken: 0.1463\n",
      "Function value obtained: 65504.0000\n",
      "Current minimum: 65504.0000\n",
      "Iteration No: 13 started. Evaluating function at random point.\n",
      "SearchBayesianSkopt: Testing config: {'l1_ratio': 0.0015841611416699726, 'alpha': 0.027897741754022386, 'positive_only': True, 'topK': 346}\n",
      "SLIMElasticNetRecommender: URM Detected 1 ( 0.0%) users with no interactions.\n",
      "SearchBayesianSkopt: Config 12 Exception. Config: {'l1_ratio': 0.0015841611416699726, 'alpha': 0.027897741754022386, 'positive_only': True, 'topK': 346} - Exception: Traceback (most recent call last):\n",
      "  File \"C:\\Users\\Luca\\DataspellProjects\\Recommender-Systems-Challenge-2022\\HyperparameterTuning\\SearchAbstractClass.py\", line 468, in _objective_function\n",
      "    result_df, recommender_instance = self._evaluate_on_validation(current_fit_hyperparameters_dict, was_already_evaluated_flag, was_already_evaluated_index)\n",
      "  File \"C:\\Users\\Luca\\DataspellProjects\\Recommender-Systems-Challenge-2022\\HyperparameterTuning\\SearchAbstractClass.py\", line 326, in _evaluate_on_validation\n",
      "    recommender_instance, train_time = self._fit_model(current_fit_hyperparameters)\n",
      "  File \"C:\\Users\\Luca\\DataspellProjects\\Recommender-Systems-Challenge-2022\\HyperparameterTuning\\SearchAbstractClass.py\", line 297, in _fit_model\n",
      "    recommender_instance.fit(*self.recommender_input_args.FIT_POSITIONAL_ARGS,\n",
      "  File \"C:\\Users\\Luca\\miniconda3\\lib\\site-packages\\sklearn\\utils\\_testing.py\", line 320, in wrapper\n",
      "    return fn(*args, **kwargs)\n",
      "TypeError: fit() got an unexpected keyword argument 'validation_every_n'\n",
      "\n",
      "\n"
     ]
    },
    {
     "name": "stderr",
     "output_type": "stream",
     "text": [
      "Traceback (most recent call last):\n",
      "  File \"C:\\Users\\Luca\\DataspellProjects\\Recommender-Systems-Challenge-2022\\HyperparameterTuning\\SearchAbstractClass.py\", line 468, in _objective_function\n",
      "    result_df, recommender_instance = self._evaluate_on_validation(current_fit_hyperparameters_dict, was_already_evaluated_flag, was_already_evaluated_index)\n",
      "  File \"C:\\Users\\Luca\\DataspellProjects\\Recommender-Systems-Challenge-2022\\HyperparameterTuning\\SearchAbstractClass.py\", line 326, in _evaluate_on_validation\n",
      "    recommender_instance, train_time = self._fit_model(current_fit_hyperparameters)\n",
      "  File \"C:\\Users\\Luca\\DataspellProjects\\Recommender-Systems-Challenge-2022\\HyperparameterTuning\\SearchAbstractClass.py\", line 297, in _fit_model\n",
      "    recommender_instance.fit(*self.recommender_input_args.FIT_POSITIONAL_ARGS,\n",
      "  File \"C:\\Users\\Luca\\miniconda3\\lib\\site-packages\\sklearn\\utils\\_testing.py\", line 320, in wrapper\n",
      "    return fn(*args, **kwargs)\n",
      "TypeError: fit() got an unexpected keyword argument 'validation_every_n'\n",
      "Traceback (most recent call last):\n",
      "  File \"C:\\Users\\Luca\\DataspellProjects\\Recommender-Systems-Challenge-2022\\HyperparameterTuning\\SearchAbstractClass.py\", line 468, in _objective_function\n",
      "    result_df, recommender_instance = self._evaluate_on_validation(current_fit_hyperparameters_dict, was_already_evaluated_flag, was_already_evaluated_index)\n",
      "  File \"C:\\Users\\Luca\\DataspellProjects\\Recommender-Systems-Challenge-2022\\HyperparameterTuning\\SearchAbstractClass.py\", line 326, in _evaluate_on_validation\n",
      "    recommender_instance, train_time = self._fit_model(current_fit_hyperparameters)\n",
      "  File \"C:\\Users\\Luca\\DataspellProjects\\Recommender-Systems-Challenge-2022\\HyperparameterTuning\\SearchAbstractClass.py\", line 297, in _fit_model\n",
      "    recommender_instance.fit(*self.recommender_input_args.FIT_POSITIONAL_ARGS,\n",
      "  File \"C:\\Users\\Luca\\miniconda3\\lib\\site-packages\\sklearn\\utils\\_testing.py\", line 320, in wrapper\n",
      "    return fn(*args, **kwargs)\n",
      "TypeError: fit() got an unexpected keyword argument 'validation_every_n'\n"
     ]
    },
    {
     "name": "stdout",
     "output_type": "stream",
     "text": [
      "Iteration No: 13 ended. Evaluation done at random point.\n",
      "Time taken: 0.3258\n",
      "Function value obtained: 65504.0000\n",
      "Current minimum: 65504.0000\n",
      "Iteration No: 14 started. Evaluating function at random point.\n",
      "SearchBayesianSkopt: Testing config: {'l1_ratio': 0.0015202986495068402, 'alpha': 0.02659997255409595, 'positive_only': True, 'topK': 257}\n",
      "SLIMElasticNetRecommender: URM Detected 1 ( 0.0%) users with no interactions.\n",
      "SearchBayesianSkopt: Config 13 Exception. Config: {'l1_ratio': 0.0015202986495068402, 'alpha': 0.02659997255409595, 'positive_only': True, 'topK': 257} - Exception: Traceback (most recent call last):\n",
      "  File \"C:\\Users\\Luca\\DataspellProjects\\Recommender-Systems-Challenge-2022\\HyperparameterTuning\\SearchAbstractClass.py\", line 468, in _objective_function\n",
      "    result_df, recommender_instance = self._evaluate_on_validation(current_fit_hyperparameters_dict, was_already_evaluated_flag, was_already_evaluated_index)\n",
      "  File \"C:\\Users\\Luca\\DataspellProjects\\Recommender-Systems-Challenge-2022\\HyperparameterTuning\\SearchAbstractClass.py\", line 326, in _evaluate_on_validation\n",
      "    recommender_instance, train_time = self._fit_model(current_fit_hyperparameters)\n",
      "  File \"C:\\Users\\Luca\\DataspellProjects\\Recommender-Systems-Challenge-2022\\HyperparameterTuning\\SearchAbstractClass.py\", line 297, in _fit_model\n",
      "    recommender_instance.fit(*self.recommender_input_args.FIT_POSITIONAL_ARGS,\n",
      "  File \"C:\\Users\\Luca\\miniconda3\\lib\\site-packages\\sklearn\\utils\\_testing.py\", line 320, in wrapper\n",
      "    return fn(*args, **kwargs)\n",
      "TypeError: fit() got an unexpected keyword argument 'validation_every_n'\n",
      "\n",
      "\n",
      "Iteration No: 14 ended. Evaluation done at random point.\n",
      "Time taken: 0.1745\n",
      "Function value obtained: 65504.0000\n",
      "Current minimum: 65504.0000\n",
      "Iteration No: 15 started. Evaluating function at random point.\n",
      "SearchBayesianSkopt: Testing config: {'l1_ratio': 0.005710405138784147, 'alpha': 0.02790729085330083, 'positive_only': True, 'topK': 259}\n",
      "SLIMElasticNetRecommender: URM Detected 1 ( 0.0%) users with no interactions.\n",
      "SearchBayesianSkopt: Config 14 Exception. Config: {'l1_ratio': 0.005710405138784147, 'alpha': 0.02790729085330083, 'positive_only': True, 'topK': 259} - Exception: Traceback (most recent call last):\n",
      "  File \"C:\\Users\\Luca\\DataspellProjects\\Recommender-Systems-Challenge-2022\\HyperparameterTuning\\SearchAbstractClass.py\", line 468, in _objective_function\n",
      "    result_df, recommender_instance = self._evaluate_on_validation(current_fit_hyperparameters_dict, was_already_evaluated_flag, was_already_evaluated_index)\n",
      "  File \"C:\\Users\\Luca\\DataspellProjects\\Recommender-Systems-Challenge-2022\\HyperparameterTuning\\SearchAbstractClass.py\", line 326, in _evaluate_on_validation\n",
      "    recommender_instance, train_time = self._fit_model(current_fit_hyperparameters)\n",
      "  File \"C:\\Users\\Luca\\DataspellProjects\\Recommender-Systems-Challenge-2022\\HyperparameterTuning\\SearchAbstractClass.py\", line 297, in _fit_model\n",
      "    recommender_instance.fit(*self.recommender_input_args.FIT_POSITIONAL_ARGS,\n",
      "  File \"C:\\Users\\Luca\\miniconda3\\lib\\site-packages\\sklearn\\utils\\_testing.py\", line 320, in wrapper\n",
      "    return fn(*args, **kwargs)\n",
      "TypeError: fit() got an unexpected keyword argument 'validation_every_n'\n",
      "\n",
      "\n"
     ]
    },
    {
     "name": "stderr",
     "output_type": "stream",
     "text": [
      "Traceback (most recent call last):\n",
      "  File \"C:\\Users\\Luca\\DataspellProjects\\Recommender-Systems-Challenge-2022\\HyperparameterTuning\\SearchAbstractClass.py\", line 468, in _objective_function\n",
      "    result_df, recommender_instance = self._evaluate_on_validation(current_fit_hyperparameters_dict, was_already_evaluated_flag, was_already_evaluated_index)\n",
      "  File \"C:\\Users\\Luca\\DataspellProjects\\Recommender-Systems-Challenge-2022\\HyperparameterTuning\\SearchAbstractClass.py\", line 326, in _evaluate_on_validation\n",
      "    recommender_instance, train_time = self._fit_model(current_fit_hyperparameters)\n",
      "  File \"C:\\Users\\Luca\\DataspellProjects\\Recommender-Systems-Challenge-2022\\HyperparameterTuning\\SearchAbstractClass.py\", line 297, in _fit_model\n",
      "    recommender_instance.fit(*self.recommender_input_args.FIT_POSITIONAL_ARGS,\n",
      "  File \"C:\\Users\\Luca\\miniconda3\\lib\\site-packages\\sklearn\\utils\\_testing.py\", line 320, in wrapper\n",
      "    return fn(*args, **kwargs)\n",
      "TypeError: fit() got an unexpected keyword argument 'validation_every_n'\n",
      "Traceback (most recent call last):\n",
      "  File \"C:\\Users\\Luca\\DataspellProjects\\Recommender-Systems-Challenge-2022\\HyperparameterTuning\\SearchAbstractClass.py\", line 468, in _objective_function\n",
      "    result_df, recommender_instance = self._evaluate_on_validation(current_fit_hyperparameters_dict, was_already_evaluated_flag, was_already_evaluated_index)\n",
      "  File \"C:\\Users\\Luca\\DataspellProjects\\Recommender-Systems-Challenge-2022\\HyperparameterTuning\\SearchAbstractClass.py\", line 326, in _evaluate_on_validation\n",
      "    recommender_instance, train_time = self._fit_model(current_fit_hyperparameters)\n",
      "  File \"C:\\Users\\Luca\\DataspellProjects\\Recommender-Systems-Challenge-2022\\HyperparameterTuning\\SearchAbstractClass.py\", line 297, in _fit_model\n",
      "    recommender_instance.fit(*self.recommender_input_args.FIT_POSITIONAL_ARGS,\n",
      "  File \"C:\\Users\\Luca\\miniconda3\\lib\\site-packages\\sklearn\\utils\\_testing.py\", line 320, in wrapper\n",
      "    return fn(*args, **kwargs)\n",
      "TypeError: fit() got an unexpected keyword argument 'validation_every_n'\n"
     ]
    },
    {
     "name": "stdout",
     "output_type": "stream",
     "text": [
      "SearchBayesianSkopt: Search interrupted. No valid config was found during the initial random initialization\n",
      "\n"
     ]
    }
   ],
   "source": [
    "hyperparameterSearch.search(recommender_input_args = recommender_input_args,\n",
    "                            recommender_input_args_last_test = recommender_input_args_last_test,\n",
    "                            hyperparameter_search_space = hyperparameters_range_dictionary,\n",
    "                            n_cases = n_cases,\n",
    "                            n_random_starts = n_random_starts,\n",
    "                            save_model = \"last\",\n",
    "                            output_folder_path = output_folder_path, # Where to save the results\n",
    "                            output_file_name_root = recommender_class.RECOMMENDER_NAME, # How to call the files\n",
    "                            metric_to_optimize = metric_to_optimize,\n",
    "                            cutoff_to_optimize = cutoff_to_optimize,\n",
    "                            )"
   ],
   "metadata": {
    "collapsed": false
   }
  },
  {
   "cell_type": "code",
   "execution_count": 17,
   "outputs": [
    {
     "data": {
      "text/plain": "dict_keys(['algorithm_name_recommender', 'algorithm_name_search', 'cutoff_to_optimize', 'exception_list', 'hyperparameters_best', 'hyperparameters_best_index', 'hyperparameters_df', 'metric_to_optimize', 'result_on_earlystopping_df', 'result_on_last', 'result_on_test_best', 'result_on_test_df', 'result_on_validation_best', 'result_on_validation_df', 'time_df', 'time_on_last_df', 'time_on_test_avg', 'time_on_test_total', 'time_on_train_avg', 'time_on_train_total', 'time_on_validation_avg', 'time_on_validation_total'])"
     },
     "execution_count": 17,
     "metadata": {},
     "output_type": "execute_result"
    }
   ],
   "source": [
    "from Recommenders.DataIO import DataIO\n",
    "\n",
    "#explore the results of the search\n",
    "data_loader = DataIO(folder_path = output_folder_path)\n",
    "search_metadata = data_loader.load_data(recommender_class.RECOMMENDER_NAME + \"_metadata.zip\")\n",
    "\n",
    "search_metadata.keys()"
   ],
   "metadata": {
    "collapsed": false
   }
  },
  {
   "cell_type": "code",
   "execution_count": 18,
   "outputs": [
    {
     "data": {
      "text/plain": "    l1_ratio     alpha positive_only topK\n0   0.003184  0.071669          True  245\n1   0.008861  0.023103          True  420\n2    0.00422  0.072511          True  374\n3   0.003196   0.03916          True  237\n4   0.001331   0.01794          True  329\n5   0.001434  0.021192          True  446\n6   0.001355  0.038925          True  397\n7   0.003064  0.026527          True  367\n8   0.002845   0.02035          True  366\n9   0.002891  0.013004          True  339\n10  0.002168  0.017413          True  421\n11   0.00226   0.03241          True  290\n12  0.001584  0.027898          True  346\n13   0.00152    0.0266          True  257\n14   0.00571  0.027907          True  259\n15       NaN       NaN           NaN  NaN\n16       NaN       NaN           NaN  NaN\n17       NaN       NaN           NaN  NaN\n18       NaN       NaN           NaN  NaN\n19       NaN       NaN           NaN  NaN\n20       NaN       NaN           NaN  NaN\n21       NaN       NaN           NaN  NaN\n22       NaN       NaN           NaN  NaN\n23       NaN       NaN           NaN  NaN\n24       NaN       NaN           NaN  NaN\n25       NaN       NaN           NaN  NaN\n26       NaN       NaN           NaN  NaN\n27       NaN       NaN           NaN  NaN\n28       NaN       NaN           NaN  NaN\n29       NaN       NaN           NaN  NaN\n30       NaN       NaN           NaN  NaN\n31       NaN       NaN           NaN  NaN\n32       NaN       NaN           NaN  NaN\n33       NaN       NaN           NaN  NaN\n34       NaN       NaN           NaN  NaN\n35       NaN       NaN           NaN  NaN\n36       NaN       NaN           NaN  NaN\n37       NaN       NaN           NaN  NaN\n38       NaN       NaN           NaN  NaN\n39       NaN       NaN           NaN  NaN\n40       NaN       NaN           NaN  NaN\n41       NaN       NaN           NaN  NaN\n42       NaN       NaN           NaN  NaN\n43       NaN       NaN           NaN  NaN\n44       NaN       NaN           NaN  NaN\n45       NaN       NaN           NaN  NaN\n46       NaN       NaN           NaN  NaN\n47       NaN       NaN           NaN  NaN\n48       NaN       NaN           NaN  NaN\n49       NaN       NaN           NaN  NaN",
      "text/html": "<div>\n<style scoped>\n    .dataframe tbody tr th:only-of-type {\n        vertical-align: middle;\n    }\n\n    .dataframe tbody tr th {\n        vertical-align: top;\n    }\n\n    .dataframe thead th {\n        text-align: right;\n    }\n</style>\n<table border=\"1\" class=\"dataframe\">\n  <thead>\n    <tr style=\"text-align: right;\">\n      <th></th>\n      <th>l1_ratio</th>\n      <th>alpha</th>\n      <th>positive_only</th>\n      <th>topK</th>\n    </tr>\n  </thead>\n  <tbody>\n    <tr>\n      <th>0</th>\n      <td>0.003184</td>\n      <td>0.071669</td>\n      <td>True</td>\n      <td>245</td>\n    </tr>\n    <tr>\n      <th>1</th>\n      <td>0.008861</td>\n      <td>0.023103</td>\n      <td>True</td>\n      <td>420</td>\n    </tr>\n    <tr>\n      <th>2</th>\n      <td>0.00422</td>\n      <td>0.072511</td>\n      <td>True</td>\n      <td>374</td>\n    </tr>\n    <tr>\n      <th>3</th>\n      <td>0.003196</td>\n      <td>0.03916</td>\n      <td>True</td>\n      <td>237</td>\n    </tr>\n    <tr>\n      <th>4</th>\n      <td>0.001331</td>\n      <td>0.01794</td>\n      <td>True</td>\n      <td>329</td>\n    </tr>\n    <tr>\n      <th>5</th>\n      <td>0.001434</td>\n      <td>0.021192</td>\n      <td>True</td>\n      <td>446</td>\n    </tr>\n    <tr>\n      <th>6</th>\n      <td>0.001355</td>\n      <td>0.038925</td>\n      <td>True</td>\n      <td>397</td>\n    </tr>\n    <tr>\n      <th>7</th>\n      <td>0.003064</td>\n      <td>0.026527</td>\n      <td>True</td>\n      <td>367</td>\n    </tr>\n    <tr>\n      <th>8</th>\n      <td>0.002845</td>\n      <td>0.02035</td>\n      <td>True</td>\n      <td>366</td>\n    </tr>\n    <tr>\n      <th>9</th>\n      <td>0.002891</td>\n      <td>0.013004</td>\n      <td>True</td>\n      <td>339</td>\n    </tr>\n    <tr>\n      <th>10</th>\n      <td>0.002168</td>\n      <td>0.017413</td>\n      <td>True</td>\n      <td>421</td>\n    </tr>\n    <tr>\n      <th>11</th>\n      <td>0.00226</td>\n      <td>0.03241</td>\n      <td>True</td>\n      <td>290</td>\n    </tr>\n    <tr>\n      <th>12</th>\n      <td>0.001584</td>\n      <td>0.027898</td>\n      <td>True</td>\n      <td>346</td>\n    </tr>\n    <tr>\n      <th>13</th>\n      <td>0.00152</td>\n      <td>0.0266</td>\n      <td>True</td>\n      <td>257</td>\n    </tr>\n    <tr>\n      <th>14</th>\n      <td>0.00571</td>\n      <td>0.027907</td>\n      <td>True</td>\n      <td>259</td>\n    </tr>\n    <tr>\n      <th>15</th>\n      <td>NaN</td>\n      <td>NaN</td>\n      <td>NaN</td>\n      <td>NaN</td>\n    </tr>\n    <tr>\n      <th>16</th>\n      <td>NaN</td>\n      <td>NaN</td>\n      <td>NaN</td>\n      <td>NaN</td>\n    </tr>\n    <tr>\n      <th>17</th>\n      <td>NaN</td>\n      <td>NaN</td>\n      <td>NaN</td>\n      <td>NaN</td>\n    </tr>\n    <tr>\n      <th>18</th>\n      <td>NaN</td>\n      <td>NaN</td>\n      <td>NaN</td>\n      <td>NaN</td>\n    </tr>\n    <tr>\n      <th>19</th>\n      <td>NaN</td>\n      <td>NaN</td>\n      <td>NaN</td>\n      <td>NaN</td>\n    </tr>\n    <tr>\n      <th>20</th>\n      <td>NaN</td>\n      <td>NaN</td>\n      <td>NaN</td>\n      <td>NaN</td>\n    </tr>\n    <tr>\n      <th>21</th>\n      <td>NaN</td>\n      <td>NaN</td>\n      <td>NaN</td>\n      <td>NaN</td>\n    </tr>\n    <tr>\n      <th>22</th>\n      <td>NaN</td>\n      <td>NaN</td>\n      <td>NaN</td>\n      <td>NaN</td>\n    </tr>\n    <tr>\n      <th>23</th>\n      <td>NaN</td>\n      <td>NaN</td>\n      <td>NaN</td>\n      <td>NaN</td>\n    </tr>\n    <tr>\n      <th>24</th>\n      <td>NaN</td>\n      <td>NaN</td>\n      <td>NaN</td>\n      <td>NaN</td>\n    </tr>\n    <tr>\n      <th>25</th>\n      <td>NaN</td>\n      <td>NaN</td>\n      <td>NaN</td>\n      <td>NaN</td>\n    </tr>\n    <tr>\n      <th>26</th>\n      <td>NaN</td>\n      <td>NaN</td>\n      <td>NaN</td>\n      <td>NaN</td>\n    </tr>\n    <tr>\n      <th>27</th>\n      <td>NaN</td>\n      <td>NaN</td>\n      <td>NaN</td>\n      <td>NaN</td>\n    </tr>\n    <tr>\n      <th>28</th>\n      <td>NaN</td>\n      <td>NaN</td>\n      <td>NaN</td>\n      <td>NaN</td>\n    </tr>\n    <tr>\n      <th>29</th>\n      <td>NaN</td>\n      <td>NaN</td>\n      <td>NaN</td>\n      <td>NaN</td>\n    </tr>\n    <tr>\n      <th>30</th>\n      <td>NaN</td>\n      <td>NaN</td>\n      <td>NaN</td>\n      <td>NaN</td>\n    </tr>\n    <tr>\n      <th>31</th>\n      <td>NaN</td>\n      <td>NaN</td>\n      <td>NaN</td>\n      <td>NaN</td>\n    </tr>\n    <tr>\n      <th>32</th>\n      <td>NaN</td>\n      <td>NaN</td>\n      <td>NaN</td>\n      <td>NaN</td>\n    </tr>\n    <tr>\n      <th>33</th>\n      <td>NaN</td>\n      <td>NaN</td>\n      <td>NaN</td>\n      <td>NaN</td>\n    </tr>\n    <tr>\n      <th>34</th>\n      <td>NaN</td>\n      <td>NaN</td>\n      <td>NaN</td>\n      <td>NaN</td>\n    </tr>\n    <tr>\n      <th>35</th>\n      <td>NaN</td>\n      <td>NaN</td>\n      <td>NaN</td>\n      <td>NaN</td>\n    </tr>\n    <tr>\n      <th>36</th>\n      <td>NaN</td>\n      <td>NaN</td>\n      <td>NaN</td>\n      <td>NaN</td>\n    </tr>\n    <tr>\n      <th>37</th>\n      <td>NaN</td>\n      <td>NaN</td>\n      <td>NaN</td>\n      <td>NaN</td>\n    </tr>\n    <tr>\n      <th>38</th>\n      <td>NaN</td>\n      <td>NaN</td>\n      <td>NaN</td>\n      <td>NaN</td>\n    </tr>\n    <tr>\n      <th>39</th>\n      <td>NaN</td>\n      <td>NaN</td>\n      <td>NaN</td>\n      <td>NaN</td>\n    </tr>\n    <tr>\n      <th>40</th>\n      <td>NaN</td>\n      <td>NaN</td>\n      <td>NaN</td>\n      <td>NaN</td>\n    </tr>\n    <tr>\n      <th>41</th>\n      <td>NaN</td>\n      <td>NaN</td>\n      <td>NaN</td>\n      <td>NaN</td>\n    </tr>\n    <tr>\n      <th>42</th>\n      <td>NaN</td>\n      <td>NaN</td>\n      <td>NaN</td>\n      <td>NaN</td>\n    </tr>\n    <tr>\n      <th>43</th>\n      <td>NaN</td>\n      <td>NaN</td>\n      <td>NaN</td>\n      <td>NaN</td>\n    </tr>\n    <tr>\n      <th>44</th>\n      <td>NaN</td>\n      <td>NaN</td>\n      <td>NaN</td>\n      <td>NaN</td>\n    </tr>\n    <tr>\n      <th>45</th>\n      <td>NaN</td>\n      <td>NaN</td>\n      <td>NaN</td>\n      <td>NaN</td>\n    </tr>\n    <tr>\n      <th>46</th>\n      <td>NaN</td>\n      <td>NaN</td>\n      <td>NaN</td>\n      <td>NaN</td>\n    </tr>\n    <tr>\n      <th>47</th>\n      <td>NaN</td>\n      <td>NaN</td>\n      <td>NaN</td>\n      <td>NaN</td>\n    </tr>\n    <tr>\n      <th>48</th>\n      <td>NaN</td>\n      <td>NaN</td>\n      <td>NaN</td>\n      <td>NaN</td>\n    </tr>\n    <tr>\n      <th>49</th>\n      <td>NaN</td>\n      <td>NaN</td>\n      <td>NaN</td>\n      <td>NaN</td>\n    </tr>\n  </tbody>\n</table>\n</div>"
     },
     "execution_count": 18,
     "metadata": {},
     "output_type": "execute_result"
    }
   ],
   "source": [
    "hyperparameters_df = search_metadata[\"hyperparameters_df\"]\n",
    "hyperparameters_df"
   ],
   "metadata": {
    "collapsed": false
   }
  },
  {
   "cell_type": "code",
   "execution_count": 21,
   "outputs": [],
   "source": [
    "result_on_validation_df = search_metadata[\"result_on_validation_df\"]\n",
    "result_on_validation_df"
   ],
   "metadata": {
    "collapsed": false
   }
  },
  {
   "cell_type": "code",
   "execution_count": 22,
   "outputs": [],
   "source": [
    "best_hyperparameters = search_metadata[\"hyperparameters_best\"]\n",
    "best_hyperparameters"
   ],
   "metadata": {
    "collapsed": false
   }
  },
  {
   "cell_type": "code",
   "execution_count": null,
   "outputs": [],
   "source": [
    "recommender = SLIMElasticNetRecommender(URM_all)\n",
    "recommender.fit(...)"
   ],
   "metadata": {
    "collapsed": false
   }
  },
  {
   "cell_type": "code",
   "execution_count": null,
   "outputs": [],
   "source": [
    "recommender.save_model(output_folder_path, file_name = recommender.RECOMMENDER_NAME + \"_my_own_save.zip\" )"
   ],
   "metadata": {
    "collapsed": false
   }
  },
  {
   "cell_type": "code",
   "execution_count": null,
   "outputs": [],
   "source": [
    "test_users = pd.read_csv('../Dataset/data_target_users_test.csv')"
   ],
   "metadata": {
    "collapsed": false
   }
  },
  {
   "cell_type": "code",
   "execution_count": null,
   "outputs": [],
   "source": [
    "user_id = test_users['user_id']\n",
    "recommendations = []\n",
    "for user in user_id:\n",
    "    recommendations.append(recommender.recommend(user, cutoff=10))"
   ],
   "metadata": {
    "collapsed": false
   }
  },
  {
   "cell_type": "code",
   "execution_count": null,
   "outputs": [],
   "source": [
    "for index in range(len(recommendations)):\n",
    "    recommendations[index]=np.array(recommendations[index])\n",
    "\n",
    "test_users['item_list']= recommendations\n",
    "test_users['item_list'] = pd.DataFrame([str(line).strip('[').strip(']').replace(\"'\",\"\") for line in test_users['item_list']])\n",
    "test_users.to_csv('..\\Submissions\\Submission_04_RP3Beta_MixedRatings.csv', index=False)"
   ],
   "metadata": {
    "collapsed": false
   }
  }
 ],
 "metadata": {
  "kernelspec": {
   "display_name": "Python 3",
   "language": "python",
   "name": "python3"
  },
  "language_info": {
   "codemirror_mode": {
    "name": "ipython",
    "version": 2
   },
   "file_extension": ".py",
   "mimetype": "text/x-python",
   "name": "python",
   "nbconvert_exporter": "python",
   "pygments_lexer": "ipython2",
   "version": "2.7.6"
  }
 },
 "nbformat": 4,
 "nbformat_minor": 0
}
