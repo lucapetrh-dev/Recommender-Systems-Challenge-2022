{
 "cells": [
  {
   "cell_type": "code",
   "execution_count": 1,
   "metadata": {
    "collapsed": true
   },
   "outputs": [],
   "source": [
    "import pandas as pd\n",
    "import numpy as np\n",
    "import scipy.sparse as sps\n",
    "import matplotlib.pyplot as pyplot\n",
    "import time\n",
    "\n",
    "from Evaluation.Evaluator import EvaluatorHoldout\n",
    "from Data_manager.split_functions.split_train_validation_random_holdout import split_train_in_two_percentage_global_sample\n",
    "from Utils.DataReader import load_urm, load_icm, load_target\n",
    "from Recommenders.SLIM.SLIMElasticNetRecommender import SLIMElasticNetRecommender"
   ]
  },
  {
   "cell_type": "code",
   "execution_count": 2,
   "outputs": [
    {
     "name": "stdout",
     "output_type": "stream",
     "text": [
      "Warning: 3136 (7.53 %) of 41629 users have no sampled items\n",
      "Warning: 1 (0.00 %) of 41629 users have no train items\n",
      "Warning: 4297 (10.32 %) of 41629 users have no sampled items\n",
      "EvaluatorHoldout: Ignoring 4297 (10.3%) Users that have less than 1 test interactions\n",
      "EvaluatorHoldout: Ignoring 3136 ( 7.5%) Users that have less than 1 test interactions\n"
     ]
    }
   ],
   "source": [
    "URM_all = load_urm()\n",
    "\n",
    "URM_train, URM_test = split_train_in_two_percentage_global_sample(URM_all, train_percentage = 0.85)\n",
    "URM_train, URM_validation = split_train_in_two_percentage_global_sample(URM_train, train_percentage = 0.85)\n",
    "\n",
    "evaluator_validation = EvaluatorHoldout(URM_validation, cutoff_list=[10])\n",
    "evaluator_test = EvaluatorHoldout(URM_test, cutoff_list=[10])"
   ],
   "metadata": {
    "collapsed": false
   }
  },
  {
   "cell_type": "code",
   "execution_count": 3,
   "outputs": [],
   "source": [
    "recommender_class = SLIMElasticNetRecommender"
   ],
   "metadata": {
    "collapsed": false
   }
  },
  {
   "cell_type": "code",
   "execution_count": 4,
   "outputs": [],
   "source": [
    "import os\n",
    "\n",
    "output_folder_path = \"Experiments/\"\n",
    "\n",
    "# If directory does not exist, create\n",
    "if not os.path.exists(output_folder_path):\n",
    "    os.makedirs(output_folder_path)\n",
    "\n",
    "n_cases = 50\n",
    "n_random_starts = int(n_cases*0.3)\n",
    "metric_to_optimize = \"MAP\"\n",
    "cutoff_to_optimize = 10"
   ],
   "metadata": {
    "collapsed": false
   }
  },
  {
   "cell_type": "code",
   "execution_count": 5,
   "outputs": [],
   "source": [
    "from skopt.space import Real, Integer, Categorical\n",
    "\n",
    "hyperparameters_range_dictionary = {\n",
    "    \"topK\": Integer(200,450),\n",
    "    \"l1_ratio\": Real(low = 0.001, high = 0.01, prior = 'log-uniform'),\n",
    "    \"alpha\": Real(low = 0.01, high = 0.1, prior = 'log-uniform'),\n",
    "    #\"positive_only\": Categorical([True]),\n",
    "}"
   ],
   "metadata": {
    "collapsed": false
   }
  },
  {
   "cell_type": "markdown",
   "source": [
    "earlystopping_keywargs = {\"validation_every_n\": 15,\n",
    "                          \"stop_on_validation\": True,\n",
    "                          \"evaluator_object\": evaluator_validation,\n",
    "                          \"lower_validations_allowed\": 5,\n",
    "                          \"validation_metric\": metric_to_optimize,\n",
    "                          }"
   ],
   "metadata": {
    "collapsed": false
   }
  },
  {
   "cell_type": "code",
   "execution_count": 14,
   "outputs": [],
   "source": [
    "from HyperparameterTuning.SearchBayesianSkopt import SearchBayesianSkopt\n",
    "\n",
    "#create a bayesian optimizer object, we pass the recommender and the evaluator\n",
    "hyperparameterSearch = SearchBayesianSkopt(recommender_class,\n",
    "                                           evaluator_validation=evaluator_validation)"
   ],
   "metadata": {
    "collapsed": false
   }
  },
  {
   "cell_type": "code",
   "execution_count": 15,
   "outputs": [],
   "source": [
    "from HyperparameterTuning.SearchAbstractClass import SearchInputRecommenderArgs\n",
    "\n",
    "#provide data needed to create instance of model (one on URM_train, the other on URM_all)\n",
    "recommender_input_args = SearchInputRecommenderArgs(\n",
    "    CONSTRUCTOR_POSITIONAL_ARGS = [URM_train],     # For a CBF model simply put [URM_train, ICM_train]\n",
    "    CONSTRUCTOR_KEYWORD_ARGS = {},\n",
    "    FIT_POSITIONAL_ARGS = [],\n",
    "    FIT_KEYWORD_ARGS ={}\n",
    ")\n",
    "recommender_input_args_last_test = SearchInputRecommenderArgs(\n",
    "    CONSTRUCTOR_POSITIONAL_ARGS = [URM_all],\n",
    "    CONSTRUCTOR_KEYWORD_ARGS = {},\n",
    "    FIT_POSITIONAL_ARGS = [],\n",
    "    FIT_KEYWORD_ARGS ={}\n",
    ")"
   ],
   "metadata": {
    "collapsed": false
   }
  },
  {
   "cell_type": "code",
   "execution_count": 16,
   "outputs": [
    {
     "name": "stdout",
     "output_type": "stream",
     "text": [
      "Iteration No: 1 started. Evaluating function at random point.\n",
      "SearchBayesianSkopt: Testing config: {'topK': 346, 'l1_ratio': 0.0054681396119886155, 'alpha': 0.011534453570454347}\n",
      "SLIMElasticNetRecommender: URM Detected 1 ( 0.0%) users with no interactions.\n"
     ]
    },
    {
     "ename": "KeyboardInterrupt",
     "evalue": "",
     "output_type": "error",
     "traceback": [
      "\u001B[1;31m---------------------------------------------------------------------------\u001B[0m",
      "\u001B[1;31mKeyboardInterrupt\u001B[0m                         Traceback (most recent call last)",
      "Input \u001B[1;32mIn [16]\u001B[0m, in \u001B[0;36m<cell line: 1>\u001B[1;34m()\u001B[0m\n\u001B[1;32m----> 1\u001B[0m \u001B[43mhyperparameterSearch\u001B[49m\u001B[38;5;241;43m.\u001B[39;49m\u001B[43msearch\u001B[49m\u001B[43m(\u001B[49m\u001B[43mrecommender_input_args\u001B[49m\u001B[43m \u001B[49m\u001B[38;5;241;43m=\u001B[39;49m\u001B[43m \u001B[49m\u001B[43mrecommender_input_args\u001B[49m\u001B[43m,\u001B[49m\n\u001B[0;32m      2\u001B[0m \u001B[43m                            \u001B[49m\u001B[43mrecommender_input_args_last_test\u001B[49m\u001B[43m \u001B[49m\u001B[38;5;241;43m=\u001B[39;49m\u001B[43m \u001B[49m\u001B[43mrecommender_input_args_last_test\u001B[49m\u001B[43m,\u001B[49m\n\u001B[0;32m      3\u001B[0m \u001B[43m                            \u001B[49m\u001B[43mhyperparameter_search_space\u001B[49m\u001B[43m \u001B[49m\u001B[38;5;241;43m=\u001B[39;49m\u001B[43m \u001B[49m\u001B[43mhyperparameters_range_dictionary\u001B[49m\u001B[43m,\u001B[49m\n\u001B[0;32m      4\u001B[0m \u001B[43m                            \u001B[49m\u001B[43mn_cases\u001B[49m\u001B[43m \u001B[49m\u001B[38;5;241;43m=\u001B[39;49m\u001B[43m \u001B[49m\u001B[43mn_cases\u001B[49m\u001B[43m,\u001B[49m\n\u001B[0;32m      5\u001B[0m \u001B[43m                            \u001B[49m\u001B[43mn_random_starts\u001B[49m\u001B[43m \u001B[49m\u001B[38;5;241;43m=\u001B[39;49m\u001B[43m \u001B[49m\u001B[43mn_random_starts\u001B[49m\u001B[43m,\u001B[49m\n\u001B[0;32m      6\u001B[0m \u001B[43m                            \u001B[49m\u001B[43msave_model\u001B[49m\u001B[43m \u001B[49m\u001B[38;5;241;43m=\u001B[39;49m\u001B[43m \u001B[49m\u001B[38;5;124;43m\"\u001B[39;49m\u001B[38;5;124;43mlast\u001B[39;49m\u001B[38;5;124;43m\"\u001B[39;49m\u001B[43m,\u001B[49m\n\u001B[0;32m      7\u001B[0m \u001B[43m                            \u001B[49m\u001B[43moutput_folder_path\u001B[49m\u001B[43m \u001B[49m\u001B[38;5;241;43m=\u001B[39;49m\u001B[43m \u001B[49m\u001B[43moutput_folder_path\u001B[49m\u001B[43m,\u001B[49m\u001B[43m \u001B[49m\u001B[38;5;66;43;03m# Where to save the results\u001B[39;49;00m\n\u001B[0;32m      8\u001B[0m \u001B[43m                            \u001B[49m\u001B[43moutput_file_name_root\u001B[49m\u001B[43m \u001B[49m\u001B[38;5;241;43m=\u001B[39;49m\u001B[43m \u001B[49m\u001B[43mrecommender_class\u001B[49m\u001B[38;5;241;43m.\u001B[39;49m\u001B[43mRECOMMENDER_NAME\u001B[49m\u001B[43m,\u001B[49m\u001B[43m \u001B[49m\u001B[38;5;66;43;03m# How to call the files\u001B[39;49;00m\n\u001B[0;32m      9\u001B[0m \u001B[43m                            \u001B[49m\u001B[43mmetric_to_optimize\u001B[49m\u001B[43m \u001B[49m\u001B[38;5;241;43m=\u001B[39;49m\u001B[43m \u001B[49m\u001B[43mmetric_to_optimize\u001B[49m\u001B[43m,\u001B[49m\n\u001B[0;32m     10\u001B[0m \u001B[43m                            \u001B[49m\u001B[43mcutoff_to_optimize\u001B[49m\u001B[43m \u001B[49m\u001B[38;5;241;43m=\u001B[39;49m\u001B[43m \u001B[49m\u001B[43mcutoff_to_optimize\u001B[49m\u001B[43m,\u001B[49m\n\u001B[0;32m     11\u001B[0m \u001B[43m                            \u001B[49m\u001B[43m)\u001B[49m\n",
      "File \u001B[1;32m~\\DataspellProjects\\Recommender-Systems-Challenge-2022\\HyperparameterTuning\\SearchBayesianSkopt.py:340\u001B[0m, in \u001B[0;36mSearchBayesianSkopt.search\u001B[1;34m(self, recommender_input_args, hyperparameter_search_space, metric_to_optimize, cutoff_to_optimize, n_cases, n_random_starts, output_folder_path, output_file_name_root, save_model, save_metadata, resume_from_saved, recommender_input_args_last_test, evaluate_on_test, max_total_time, terminate_on_memory_error)\u001B[0m\n\u001B[0;32m    333\u001B[0m         \u001B[38;5;28mself\u001B[39m\u001B[38;5;241m.\u001B[39mn_loaded_counter \u001B[38;5;241m=\u001B[39m \u001B[38;5;28mself\u001B[39m\u001B[38;5;241m.\u001B[39mmodel_counter\n\u001B[0;32m    336\u001B[0m     \u001B[38;5;28;01mif\u001B[39;00m \u001B[38;5;28mself\u001B[39m\u001B[38;5;241m.\u001B[39mn_calls \u001B[38;5;241m-\u001B[39m \u001B[38;5;28mself\u001B[39m\u001B[38;5;241m.\u001B[39mmodel_counter \u001B[38;5;241m>\u001B[39m \u001B[38;5;241m0\u001B[39m:\n\u001B[0;32m    337\u001B[0m         \u001B[38;5;66;03m# When resuming an incomplete search the gp_minimize will continue to tell you \"Evaluating function at random point\" instead\u001B[39;00m\n\u001B[0;32m    338\u001B[0m         \u001B[38;5;66;03m# of \"Searching for the next optimal point\". This may be due to a bug in the print rather than the underlying process\u001B[39;00m\n\u001B[0;32m    339\u001B[0m         \u001B[38;5;66;03m# https://github.com/scikit-optimize/scikit-optimize/issues/949\u001B[39;00m\n\u001B[1;32m--> 340\u001B[0m         \u001B[38;5;28mself\u001B[39m\u001B[38;5;241m.\u001B[39mresult \u001B[38;5;241m=\u001B[39m \u001B[43mgp_minimize\u001B[49m\u001B[43m(\u001B[49m\u001B[38;5;28;43mself\u001B[39;49m\u001B[38;5;241;43m.\u001B[39;49m\u001B[43m_objective_function_list_input\u001B[49m\u001B[43m,\u001B[49m\n\u001B[0;32m    341\u001B[0m \u001B[43m                                  \u001B[49m\u001B[38;5;28;43mself\u001B[39;49m\u001B[38;5;241;43m.\u001B[39;49m\u001B[43mhyperparams_values\u001B[49m\u001B[43m,\u001B[49m\n\u001B[0;32m    342\u001B[0m \u001B[43m                                  \u001B[49m\u001B[43mbase_estimator\u001B[49m\u001B[38;5;241;43m=\u001B[39;49m\u001B[38;5;28;43;01mNone\u001B[39;49;00m\u001B[43m,\u001B[49m\n\u001B[0;32m    343\u001B[0m \u001B[43m                                  \u001B[49m\u001B[43mn_calls\u001B[49m\u001B[38;5;241;43m=\u001B[39;49m\u001B[38;5;28;43mmax\u001B[39;49m\u001B[43m(\u001B[49m\u001B[38;5;241;43m0\u001B[39;49m\u001B[43m,\u001B[49m\u001B[43m \u001B[49m\u001B[38;5;28;43mself\u001B[39;49m\u001B[38;5;241;43m.\u001B[39;49m\u001B[43mn_calls\u001B[49m\u001B[43m \u001B[49m\u001B[38;5;241;43m-\u001B[39;49m\u001B[43m \u001B[49m\u001B[38;5;28;43mself\u001B[39;49m\u001B[38;5;241;43m.\u001B[39;49m\u001B[43mmodel_counter\u001B[49m\u001B[43m)\u001B[49m\u001B[43m,\u001B[49m\n\u001B[0;32m    344\u001B[0m \u001B[43m                                  \u001B[49m\u001B[43mn_initial_points\u001B[49m\u001B[38;5;241;43m=\u001B[39;49m\u001B[43m \u001B[49m\u001B[38;5;28;43mmax\u001B[39;49m\u001B[43m(\u001B[49m\u001B[38;5;241;43m0\u001B[39;49m\u001B[43m,\u001B[49m\u001B[43m \u001B[49m\u001B[38;5;28;43mself\u001B[39;49m\u001B[38;5;241;43m.\u001B[39;49m\u001B[43mn_random_starts\u001B[49m\u001B[43m \u001B[49m\u001B[38;5;241;43m-\u001B[39;49m\u001B[43m \u001B[49m\u001B[38;5;28;43mself\u001B[39;49m\u001B[38;5;241;43m.\u001B[39;49m\u001B[43mmodel_counter\u001B[49m\u001B[43m)\u001B[49m\u001B[43m,\u001B[49m\n\u001B[0;32m    345\u001B[0m \u001B[43m                                  \u001B[49m\u001B[43minitial_point_generator\u001B[49m\u001B[43m \u001B[49m\u001B[38;5;241;43m=\u001B[39;49m\u001B[43m \u001B[49m\u001B[38;5;124;43m\"\u001B[39;49m\u001B[38;5;124;43mrandom\u001B[39;49m\u001B[38;5;124;43m\"\u001B[39;49m\u001B[43m,\u001B[49m\n\u001B[0;32m    346\u001B[0m \u001B[43m                                  \u001B[49m\u001B[43macq_func\u001B[49m\u001B[38;5;241;43m=\u001B[39;49m\u001B[38;5;28;43mself\u001B[39;49m\u001B[38;5;241;43m.\u001B[39;49m\u001B[43macq_func\u001B[49m\u001B[43m,\u001B[49m\n\u001B[0;32m    347\u001B[0m \u001B[43m                                  \u001B[49m\u001B[43macq_optimizer\u001B[49m\u001B[38;5;241;43m=\u001B[39;49m\u001B[38;5;28;43mself\u001B[39;49m\u001B[38;5;241;43m.\u001B[39;49m\u001B[43macq_optimizer\u001B[49m\u001B[43m,\u001B[49m\n\u001B[0;32m    348\u001B[0m \u001B[43m                                  \u001B[49m\u001B[43mx0\u001B[49m\u001B[38;5;241;43m=\u001B[39;49m\u001B[38;5;28;43mself\u001B[39;49m\u001B[38;5;241;43m.\u001B[39;49m\u001B[43mx0\u001B[49m\u001B[43m,\u001B[49m\n\u001B[0;32m    349\u001B[0m \u001B[43m                                  \u001B[49m\u001B[43my0\u001B[49m\u001B[38;5;241;43m=\u001B[39;49m\u001B[38;5;28;43mself\u001B[39;49m\u001B[38;5;241;43m.\u001B[39;49m\u001B[43my0\u001B[49m\u001B[43m,\u001B[49m\n\u001B[0;32m    350\u001B[0m \u001B[43m                                  \u001B[49m\u001B[43mrandom_state\u001B[49m\u001B[38;5;241;43m=\u001B[39;49m\u001B[38;5;28;43mself\u001B[39;49m\u001B[38;5;241;43m.\u001B[39;49m\u001B[43mrandom_state\u001B[49m\u001B[43m,\u001B[49m\n\u001B[0;32m    351\u001B[0m \u001B[43m                                  \u001B[49m\u001B[43mverbose\u001B[49m\u001B[38;5;241;43m=\u001B[39;49m\u001B[38;5;28;43mself\u001B[39;49m\u001B[38;5;241;43m.\u001B[39;49m\u001B[43mverbose\u001B[49m\u001B[43m,\u001B[49m\n\u001B[0;32m    352\u001B[0m \u001B[43m                                  \u001B[49m\u001B[43mcallback\u001B[49m\u001B[38;5;241;43m=\u001B[39;49m\u001B[38;5;28;43;01mNone\u001B[39;49;00m\u001B[43m,\u001B[49m\n\u001B[0;32m    353\u001B[0m \u001B[43m                                  \u001B[49m\u001B[43mn_points\u001B[49m\u001B[38;5;241;43m=\u001B[39;49m\u001B[38;5;28;43mself\u001B[39;49m\u001B[38;5;241;43m.\u001B[39;49m\u001B[43mn_point\u001B[49m\u001B[43m,\u001B[49m\n\u001B[0;32m    354\u001B[0m \u001B[43m                                  \u001B[49m\u001B[43mn_restarts_optimizer\u001B[49m\u001B[38;5;241;43m=\u001B[39;49m\u001B[38;5;28;43mself\u001B[39;49m\u001B[38;5;241;43m.\u001B[39;49m\u001B[43mn_restarts_optimizer\u001B[49m\u001B[43m,\u001B[49m\n\u001B[0;32m    355\u001B[0m \u001B[43m                                  \u001B[49m\u001B[43mxi\u001B[49m\u001B[38;5;241;43m=\u001B[39;49m\u001B[38;5;28;43mself\u001B[39;49m\u001B[38;5;241;43m.\u001B[39;49m\u001B[43mxi\u001B[49m\u001B[43m,\u001B[49m\n\u001B[0;32m    356\u001B[0m \u001B[43m                                  \u001B[49m\u001B[43mkappa\u001B[49m\u001B[38;5;241;43m=\u001B[39;49m\u001B[38;5;28;43mself\u001B[39;49m\u001B[38;5;241;43m.\u001B[39;49m\u001B[43mkappa\u001B[49m\u001B[43m,\u001B[49m\n\u001B[0;32m    357\u001B[0m \u001B[43m                                  \u001B[49m\u001B[43mnoise\u001B[49m\u001B[38;5;241;43m=\u001B[39;49m\u001B[38;5;28;43mself\u001B[39;49m\u001B[38;5;241;43m.\u001B[39;49m\u001B[43mnoise\u001B[49m\u001B[43m,\u001B[49m\n\u001B[0;32m    358\u001B[0m \u001B[43m                                  \u001B[49m\u001B[43mn_jobs\u001B[49m\u001B[38;5;241;43m=\u001B[39;49m\u001B[38;5;28;43mself\u001B[39;49m\u001B[38;5;241;43m.\u001B[39;49m\u001B[43mn_jobs\u001B[49m\u001B[43m)\u001B[49m\n\u001B[0;32m    360\u001B[0m \u001B[38;5;28;01mexcept\u001B[39;00m \u001B[38;5;167;01mValueError\u001B[39;00m \u001B[38;5;28;01mas\u001B[39;00m e:\n\u001B[0;32m    361\u001B[0m     traceback\u001B[38;5;241m.\u001B[39mprint_exc()\n",
      "File \u001B[1;32m~\\miniconda3\\lib\\site-packages\\skopt\\optimizer\\gp.py:259\u001B[0m, in \u001B[0;36mgp_minimize\u001B[1;34m(func, dimensions, base_estimator, n_calls, n_random_starts, n_initial_points, initial_point_generator, acq_func, acq_optimizer, x0, y0, random_state, verbose, callback, n_points, n_restarts_optimizer, xi, kappa, noise, n_jobs, model_queue_size)\u001B[0m\n\u001B[0;32m    254\u001B[0m \u001B[38;5;28;01mif\u001B[39;00m base_estimator \u001B[38;5;129;01mis\u001B[39;00m \u001B[38;5;28;01mNone\u001B[39;00m:\n\u001B[0;32m    255\u001B[0m     base_estimator \u001B[38;5;241m=\u001B[39m cook_estimator(\n\u001B[0;32m    256\u001B[0m         \u001B[38;5;124m\"\u001B[39m\u001B[38;5;124mGP\u001B[39m\u001B[38;5;124m\"\u001B[39m, space\u001B[38;5;241m=\u001B[39mspace, random_state\u001B[38;5;241m=\u001B[39mrng\u001B[38;5;241m.\u001B[39mrandint(\u001B[38;5;241m0\u001B[39m, np\u001B[38;5;241m.\u001B[39miinfo(np\u001B[38;5;241m.\u001B[39mint32)\u001B[38;5;241m.\u001B[39mmax),\n\u001B[0;32m    257\u001B[0m         noise\u001B[38;5;241m=\u001B[39mnoise)\n\u001B[1;32m--> 259\u001B[0m \u001B[38;5;28;01mreturn\u001B[39;00m \u001B[43mbase_minimize\u001B[49m\u001B[43m(\u001B[49m\n\u001B[0;32m    260\u001B[0m \u001B[43m    \u001B[49m\u001B[43mfunc\u001B[49m\u001B[43m,\u001B[49m\u001B[43m \u001B[49m\u001B[43mspace\u001B[49m\u001B[43m,\u001B[49m\u001B[43m \u001B[49m\u001B[43mbase_estimator\u001B[49m\u001B[38;5;241;43m=\u001B[39;49m\u001B[43mbase_estimator\u001B[49m\u001B[43m,\u001B[49m\n\u001B[0;32m    261\u001B[0m \u001B[43m    \u001B[49m\u001B[43macq_func\u001B[49m\u001B[38;5;241;43m=\u001B[39;49m\u001B[43macq_func\u001B[49m\u001B[43m,\u001B[49m\n\u001B[0;32m    262\u001B[0m \u001B[43m    \u001B[49m\u001B[43mxi\u001B[49m\u001B[38;5;241;43m=\u001B[39;49m\u001B[43mxi\u001B[49m\u001B[43m,\u001B[49m\u001B[43m \u001B[49m\u001B[43mkappa\u001B[49m\u001B[38;5;241;43m=\u001B[39;49m\u001B[43mkappa\u001B[49m\u001B[43m,\u001B[49m\u001B[43m \u001B[49m\u001B[43macq_optimizer\u001B[49m\u001B[38;5;241;43m=\u001B[39;49m\u001B[43macq_optimizer\u001B[49m\u001B[43m,\u001B[49m\u001B[43m \u001B[49m\u001B[43mn_calls\u001B[49m\u001B[38;5;241;43m=\u001B[39;49m\u001B[43mn_calls\u001B[49m\u001B[43m,\u001B[49m\n\u001B[0;32m    263\u001B[0m \u001B[43m    \u001B[49m\u001B[43mn_points\u001B[49m\u001B[38;5;241;43m=\u001B[39;49m\u001B[43mn_points\u001B[49m\u001B[43m,\u001B[49m\u001B[43m \u001B[49m\u001B[43mn_random_starts\u001B[49m\u001B[38;5;241;43m=\u001B[39;49m\u001B[43mn_random_starts\u001B[49m\u001B[43m,\u001B[49m\n\u001B[0;32m    264\u001B[0m \u001B[43m    \u001B[49m\u001B[43mn_initial_points\u001B[49m\u001B[38;5;241;43m=\u001B[39;49m\u001B[43mn_initial_points\u001B[49m\u001B[43m,\u001B[49m\n\u001B[0;32m    265\u001B[0m \u001B[43m    \u001B[49m\u001B[43minitial_point_generator\u001B[49m\u001B[38;5;241;43m=\u001B[39;49m\u001B[43minitial_point_generator\u001B[49m\u001B[43m,\u001B[49m\n\u001B[0;32m    266\u001B[0m \u001B[43m    \u001B[49m\u001B[43mn_restarts_optimizer\u001B[49m\u001B[38;5;241;43m=\u001B[39;49m\u001B[43mn_restarts_optimizer\u001B[49m\u001B[43m,\u001B[49m\n\u001B[0;32m    267\u001B[0m \u001B[43m    \u001B[49m\u001B[43mx0\u001B[49m\u001B[38;5;241;43m=\u001B[39;49m\u001B[43mx0\u001B[49m\u001B[43m,\u001B[49m\u001B[43m \u001B[49m\u001B[43my0\u001B[49m\u001B[38;5;241;43m=\u001B[39;49m\u001B[43my0\u001B[49m\u001B[43m,\u001B[49m\u001B[43m \u001B[49m\u001B[43mrandom_state\u001B[49m\u001B[38;5;241;43m=\u001B[39;49m\u001B[43mrng\u001B[49m\u001B[43m,\u001B[49m\u001B[43m \u001B[49m\u001B[43mverbose\u001B[49m\u001B[38;5;241;43m=\u001B[39;49m\u001B[43mverbose\u001B[49m\u001B[43m,\u001B[49m\n\u001B[0;32m    268\u001B[0m \u001B[43m    \u001B[49m\u001B[43mcallback\u001B[49m\u001B[38;5;241;43m=\u001B[39;49m\u001B[43mcallback\u001B[49m\u001B[43m,\u001B[49m\u001B[43m \u001B[49m\u001B[43mn_jobs\u001B[49m\u001B[38;5;241;43m=\u001B[39;49m\u001B[43mn_jobs\u001B[49m\u001B[43m,\u001B[49m\u001B[43m \u001B[49m\u001B[43mmodel_queue_size\u001B[49m\u001B[38;5;241;43m=\u001B[39;49m\u001B[43mmodel_queue_size\u001B[49m\u001B[43m)\u001B[49m\n",
      "File \u001B[1;32m~\\miniconda3\\lib\\site-packages\\skopt\\optimizer\\base.py:299\u001B[0m, in \u001B[0;36mbase_minimize\u001B[1;34m(func, dimensions, base_estimator, n_calls, n_random_starts, n_initial_points, initial_point_generator, acq_func, acq_optimizer, x0, y0, random_state, verbose, callback, n_points, n_restarts_optimizer, xi, kappa, n_jobs, model_queue_size)\u001B[0m\n\u001B[0;32m    297\u001B[0m \u001B[38;5;28;01mfor\u001B[39;00m n \u001B[38;5;129;01min\u001B[39;00m \u001B[38;5;28mrange\u001B[39m(n_calls):\n\u001B[0;32m    298\u001B[0m     next_x \u001B[38;5;241m=\u001B[39m optimizer\u001B[38;5;241m.\u001B[39mask()\n\u001B[1;32m--> 299\u001B[0m     next_y \u001B[38;5;241m=\u001B[39m \u001B[43mfunc\u001B[49m\u001B[43m(\u001B[49m\u001B[43mnext_x\u001B[49m\u001B[43m)\u001B[49m\n\u001B[0;32m    300\u001B[0m     result \u001B[38;5;241m=\u001B[39m optimizer\u001B[38;5;241m.\u001B[39mtell(next_x, next_y)\n\u001B[0;32m    301\u001B[0m     result\u001B[38;5;241m.\u001B[39mspecs \u001B[38;5;241m=\u001B[39m specs\n",
      "File \u001B[1;32m~\\DataspellProjects\\Recommender-Systems-Challenge-2022\\HyperparameterTuning\\SearchBayesianSkopt.py:415\u001B[0m, in \u001B[0;36mSearchBayesianSkopt._objective_function_list_input\u001B[1;34m(self, current_fit_hyperparameters_list_of_values)\u001B[0m\n\u001B[0;32m    411\u001B[0m         \u001B[38;5;28;01mraise\u001B[39;00m \u001B[38;5;167;01mTimeoutError\u001B[39;00m(\u001B[38;5;28mself\u001B[39m\u001B[38;5;241m.\u001B[39mmax_total_time, total_current_time \u001B[38;5;241m+\u001B[39m estimated_last_time)\n\u001B[0;32m    414\u001B[0m current_fit_hyperparameters_dict \u001B[38;5;241m=\u001B[39m \u001B[38;5;28mdict\u001B[39m(\u001B[38;5;28mzip\u001B[39m(\u001B[38;5;28mself\u001B[39m\u001B[38;5;241m.\u001B[39mhyperparams_names, current_fit_hyperparameters_list_of_values))\n\u001B[1;32m--> 415\u001B[0m result \u001B[38;5;241m=\u001B[39m \u001B[38;5;28;43mself\u001B[39;49m\u001B[38;5;241;43m.\u001B[39;49m\u001B[43m_objective_function\u001B[49m\u001B[43m(\u001B[49m\u001B[43mcurrent_fit_hyperparameters_dict\u001B[49m\u001B[43m)\u001B[49m\n\u001B[0;32m    417\u001B[0m \u001B[38;5;66;03m# The search can only progress if there is at least a valid config in the initial random start\u001B[39;00m\n\u001B[0;32m    418\u001B[0m \u001B[38;5;28;01mif\u001B[39;00m \u001B[38;5;28mself\u001B[39m\u001B[38;5;241m.\u001B[39mmetadata_dict[\u001B[38;5;124m'\u001B[39m\u001B[38;5;124mresult_on_validation_df\u001B[39m\u001B[38;5;124m'\u001B[39m] \u001B[38;5;129;01mis\u001B[39;00m \u001B[38;5;28;01mNone\u001B[39;00m \u001B[38;5;129;01mand\u001B[39;00m \u001B[38;5;28mself\u001B[39m\u001B[38;5;241m.\u001B[39mmodel_counter \u001B[38;5;241m>\u001B[39m\u001B[38;5;241m=\u001B[39m \u001B[38;5;28mself\u001B[39m\u001B[38;5;241m.\u001B[39mn_random_starts:\n",
      "File \u001B[1;32m~\\DataspellProjects\\Recommender-Systems-Challenge-2022\\HyperparameterTuning\\SearchAbstractClass.py:539\u001B[0m, in \u001B[0;36mSearchAbstractClass._objective_function\u001B[1;34m(self, current_fit_hyperparameters_dict)\u001B[0m\n\u001B[0;32m    534\u001B[0m             recommender_instance\u001B[38;5;241m.\u001B[39msave_model(\u001B[38;5;28mself\u001B[39m\u001B[38;5;241m.\u001B[39moutput_folder_path, file_name \u001B[38;5;241m=\u001B[39m\u001B[38;5;28mself\u001B[39m\u001B[38;5;241m.\u001B[39moutput_file_name_root \u001B[38;5;241m+\u001B[39m \u001B[38;5;124m\"\u001B[39m\u001B[38;5;124m_best_model\u001B[39m\u001B[38;5;124m\"\u001B[39m)\n\u001B[0;32m    537\u001B[0m \u001B[38;5;28;01mexcept\u001B[39;00m (\u001B[38;5;167;01mKeyboardInterrupt\u001B[39;00m, \u001B[38;5;167;01mSystemExit\u001B[39;00m) \u001B[38;5;28;01mas\u001B[39;00m e:\n\u001B[0;32m    538\u001B[0m     \u001B[38;5;66;03m# If getting a interrupt, terminate without saving the exception\u001B[39;00m\n\u001B[1;32m--> 539\u001B[0m     \u001B[38;5;28;01mraise\u001B[39;00m e\n\u001B[0;32m    541\u001B[0m \u001B[38;5;66;03m# Catch exception only if terminate_on_memory_error is True\u001B[39;00m\n\u001B[0;32m    542\u001B[0m \u001B[38;5;28;01mexcept\u001B[39;00m MEMORY_ERROR_EXCEPTION_TUPLE \u001B[38;5;28;01mif\u001B[39;00m \u001B[38;5;28mself\u001B[39m\u001B[38;5;241m.\u001B[39mterminate_on_memory_error \u001B[38;5;28;01melse\u001B[39;00m (NeverMatch) \u001B[38;5;28;01mas\u001B[39;00m e:\n",
      "File \u001B[1;32m~\\DataspellProjects\\Recommender-Systems-Challenge-2022\\HyperparameterTuning\\SearchAbstractClass.py:468\u001B[0m, in \u001B[0;36mSearchAbstractClass._objective_function\u001B[1;34m(self, current_fit_hyperparameters_dict)\u001B[0m\n\u001B[0;32m    465\u001B[0m \u001B[38;5;28mself\u001B[39m\u001B[38;5;241m.\u001B[39m_print(\u001B[38;5;124m\"\u001B[39m\u001B[38;5;132;01m{}\u001B[39;00m\u001B[38;5;124m: Testing config: \u001B[39m\u001B[38;5;132;01m{}\u001B[39;00m\u001B[38;5;124m\"\u001B[39m\u001B[38;5;241m.\u001B[39mformat(\u001B[38;5;28mself\u001B[39m\u001B[38;5;241m.\u001B[39mALGORITHM_NAME, current_fit_hyperparameters_dict))\n\u001B[0;32m    467\u001B[0m was_already_evaluated_flag, was_already_evaluated_index \u001B[38;5;241m=\u001B[39m \u001B[38;5;28mself\u001B[39m\u001B[38;5;241m.\u001B[39m_was_already_evaluated_check(current_fit_hyperparameters_dict)\n\u001B[1;32m--> 468\u001B[0m result_df, recommender_instance \u001B[38;5;241m=\u001B[39m \u001B[38;5;28;43mself\u001B[39;49m\u001B[38;5;241;43m.\u001B[39;49m\u001B[43m_evaluate_on_validation\u001B[49m\u001B[43m(\u001B[49m\u001B[43mcurrent_fit_hyperparameters_dict\u001B[49m\u001B[43m,\u001B[49m\u001B[43m \u001B[49m\u001B[43mwas_already_evaluated_flag\u001B[49m\u001B[43m,\u001B[49m\u001B[43m \u001B[49m\u001B[43mwas_already_evaluated_index\u001B[49m\u001B[43m)\u001B[49m\n\u001B[0;32m    470\u001B[0m result_series \u001B[38;5;241m=\u001B[39m result_df\u001B[38;5;241m.\u001B[39mloc[\u001B[38;5;28mself\u001B[39m\u001B[38;5;241m.\u001B[39mmetadata_dict[\u001B[38;5;124m\"\u001B[39m\u001B[38;5;124mcutoff_to_optimize\u001B[39m\u001B[38;5;124m\"\u001B[39m]]\n\u001B[0;32m    471\u001B[0m current_result \u001B[38;5;241m=\u001B[39m \u001B[38;5;241m-\u001B[39m result_series[\u001B[38;5;28mself\u001B[39m\u001B[38;5;241m.\u001B[39mmetric_to_optimize]\n",
      "File \u001B[1;32m~\\DataspellProjects\\Recommender-Systems-Challenge-2022\\HyperparameterTuning\\SearchAbstractClass.py:326\u001B[0m, in \u001B[0;36mSearchAbstractClass._evaluate_on_validation\u001B[1;34m(self, current_fit_hyperparameters, was_already_evaluated_flag, was_already_evaluated_index)\u001B[0m\n\u001B[0;32m    323\u001B[0m \u001B[38;5;28;01mfor\u001B[39;00m key \u001B[38;5;129;01min\u001B[39;00m current_fit_hyperparameters\u001B[38;5;241m.\u001B[39mkeys():\n\u001B[0;32m    324\u001B[0m     \u001B[38;5;28mself\u001B[39m\u001B[38;5;241m.\u001B[39mmetadata_dict[\u001B[38;5;124m\"\u001B[39m\u001B[38;5;124mhyperparameters_df\u001B[39m\u001B[38;5;124m\"\u001B[39m]\u001B[38;5;241m.\u001B[39mloc[\u001B[38;5;28mself\u001B[39m\u001B[38;5;241m.\u001B[39mmodel_counter,key] \u001B[38;5;241m=\u001B[39m current_fit_hyperparameters[key]\n\u001B[1;32m--> 326\u001B[0m recommender_instance, train_time \u001B[38;5;241m=\u001B[39m \u001B[38;5;28;43mself\u001B[39;49m\u001B[38;5;241;43m.\u001B[39;49m\u001B[43m_fit_model\u001B[49m\u001B[43m(\u001B[49m\u001B[43mcurrent_fit_hyperparameters\u001B[49m\u001B[43m)\u001B[49m\n\u001B[0;32m    327\u001B[0m start_time \u001B[38;5;241m=\u001B[39m time\u001B[38;5;241m.\u001B[39mtime()\n\u001B[0;32m    329\u001B[0m \u001B[38;5;66;03m# Evaluate recommender and get results for the first cutoff\u001B[39;00m\n",
      "File \u001B[1;32m~\\DataspellProjects\\Recommender-Systems-Challenge-2022\\HyperparameterTuning\\SearchAbstractClass.py:297\u001B[0m, in \u001B[0;36mSearchAbstractClass._fit_model\u001B[1;34m(self, current_fit_hyperparameters)\u001B[0m\n\u001B[0;32m    293\u001B[0m \u001B[38;5;66;03m# Construct a new recommender instance\u001B[39;00m\n\u001B[0;32m    294\u001B[0m recommender_instance \u001B[38;5;241m=\u001B[39m \u001B[38;5;28mself\u001B[39m\u001B[38;5;241m.\u001B[39mrecommender_class(\u001B[38;5;241m*\u001B[39m\u001B[38;5;28mself\u001B[39m\u001B[38;5;241m.\u001B[39mrecommender_input_args\u001B[38;5;241m.\u001B[39mCONSTRUCTOR_POSITIONAL_ARGS,\n\u001B[0;32m    295\u001B[0m                                               \u001B[38;5;241m*\u001B[39m\u001B[38;5;241m*\u001B[39m\u001B[38;5;28mself\u001B[39m\u001B[38;5;241m.\u001B[39mrecommender_input_args\u001B[38;5;241m.\u001B[39mCONSTRUCTOR_KEYWORD_ARGS)\n\u001B[1;32m--> 297\u001B[0m recommender_instance\u001B[38;5;241m.\u001B[39mfit(\u001B[38;5;241m*\u001B[39m\u001B[38;5;28mself\u001B[39m\u001B[38;5;241m.\u001B[39mrecommender_input_args\u001B[38;5;241m.\u001B[39mFIT_POSITIONAL_ARGS,\n\u001B[0;32m    298\u001B[0m                          \u001B[38;5;241m*\u001B[39m\u001B[38;5;241m*\u001B[39m\u001B[38;5;28mself\u001B[39m\u001B[38;5;241m.\u001B[39mrecommender_input_args\u001B[38;5;241m.\u001B[39mFIT_KEYWORD_ARGS,\n\u001B[0;32m    299\u001B[0m                          \u001B[38;5;241m*\u001B[39m\u001B[38;5;241m*\u001B[39m\u001B[38;5;28mself\u001B[39m\u001B[38;5;241m.\u001B[39mrecommender_input_args\u001B[38;5;241m.\u001B[39mEARLYSTOPPING_KEYWORD_ARGS,\n\u001B[0;32m    300\u001B[0m                          \u001B[38;5;241m*\u001B[39m\u001B[38;5;241m*\u001B[39mcurrent_fit_hyperparameters)\n\u001B[0;32m    302\u001B[0m train_time \u001B[38;5;241m=\u001B[39m time\u001B[38;5;241m.\u001B[39mtime() \u001B[38;5;241m-\u001B[39m start_time\n\u001B[0;32m    304\u001B[0m \u001B[38;5;28;01mreturn\u001B[39;00m recommender_instance, train_time\n",
      "File \u001B[1;32m~\\miniconda3\\lib\\site-packages\\sklearn\\utils\\_testing.py:320\u001B[0m, in \u001B[0;36m_IgnoreWarnings.__call__.<locals>.wrapper\u001B[1;34m(*args, **kwargs)\u001B[0m\n\u001B[0;32m    318\u001B[0m \u001B[38;5;28;01mwith\u001B[39;00m warnings\u001B[38;5;241m.\u001B[39mcatch_warnings():\n\u001B[0;32m    319\u001B[0m     warnings\u001B[38;5;241m.\u001B[39msimplefilter(\u001B[38;5;124m\"\u001B[39m\u001B[38;5;124mignore\u001B[39m\u001B[38;5;124m\"\u001B[39m, \u001B[38;5;28mself\u001B[39m\u001B[38;5;241m.\u001B[39mcategory)\n\u001B[1;32m--> 320\u001B[0m     \u001B[38;5;28;01mreturn\u001B[39;00m fn(\u001B[38;5;241m*\u001B[39margs, \u001B[38;5;241m*\u001B[39m\u001B[38;5;241m*\u001B[39mkwargs)\n",
      "File \u001B[1;32m~\\DataspellProjects\\Recommender-Systems-Challenge-2022\\Recommenders\\SLIM\\SLIMElasticNetRecommender.py:87\u001B[0m, in \u001B[0;36mSLIMElasticNetRecommender.fit\u001B[1;34m(self, l1_ratio, alpha, positive_only, topK)\u001B[0m\n\u001B[0;32m     84\u001B[0m URM_train\u001B[38;5;241m.\u001B[39mdata[start_pos: end_pos] \u001B[38;5;241m=\u001B[39m \u001B[38;5;241m0.0\u001B[39m\n\u001B[0;32m     86\u001B[0m \u001B[38;5;66;03m# fit one ElasticNet model per column\u001B[39;00m\n\u001B[1;32m---> 87\u001B[0m \u001B[38;5;28;43mself\u001B[39;49m\u001B[38;5;241;43m.\u001B[39;49m\u001B[43mmodel\u001B[49m\u001B[38;5;241;43m.\u001B[39;49m\u001B[43mfit\u001B[49m\u001B[43m(\u001B[49m\u001B[43mURM_train\u001B[49m\u001B[43m,\u001B[49m\u001B[43m \u001B[49m\u001B[43my\u001B[49m\u001B[43m)\u001B[49m\n\u001B[0;32m     89\u001B[0m \u001B[38;5;66;03m# self.model.coef_ contains the coefficient of the ElasticNet model\u001B[39;00m\n\u001B[0;32m     90\u001B[0m \u001B[38;5;66;03m# let's keep only the non-zero values\u001B[39;00m\n\u001B[0;32m     91\u001B[0m \n\u001B[1;32m   (...)\u001B[0m\n\u001B[0;32m     95\u001B[0m \u001B[38;5;66;03m# - Sort only the relevant items\u001B[39;00m\n\u001B[0;32m     96\u001B[0m \u001B[38;5;66;03m# - Get the original item index\u001B[39;00m\n\u001B[0;32m     98\u001B[0m nonzero_model_coef_index \u001B[38;5;241m=\u001B[39m \u001B[38;5;28mself\u001B[39m\u001B[38;5;241m.\u001B[39mmodel\u001B[38;5;241m.\u001B[39msparse_coef_\u001B[38;5;241m.\u001B[39mindices\n",
      "File \u001B[1;32m~\\miniconda3\\lib\\site-packages\\sklearn\\linear_model\\_coordinate_descent.py:1054\u001B[0m, in \u001B[0;36mElasticNet.fit\u001B[1;34m(self, X, y, sample_weight, check_input)\u001B[0m\n\u001B[0;32m   1052\u001B[0m \u001B[38;5;28;01melse\u001B[39;00m:\n\u001B[0;32m   1053\u001B[0m     this_Xy \u001B[38;5;241m=\u001B[39m \u001B[38;5;28;01mNone\u001B[39;00m\n\u001B[1;32m-> 1054\u001B[0m _, this_coef, this_dual_gap, this_iter \u001B[38;5;241m=\u001B[39m \u001B[38;5;28;43mself\u001B[39;49m\u001B[38;5;241;43m.\u001B[39;49m\u001B[43mpath\u001B[49m\u001B[43m(\u001B[49m\n\u001B[0;32m   1055\u001B[0m \u001B[43m    \u001B[49m\u001B[43mX\u001B[49m\u001B[43m,\u001B[49m\n\u001B[0;32m   1056\u001B[0m \u001B[43m    \u001B[49m\u001B[43my\u001B[49m\u001B[43m[\u001B[49m\u001B[43m:\u001B[49m\u001B[43m,\u001B[49m\u001B[43m \u001B[49m\u001B[43mk\u001B[49m\u001B[43m]\u001B[49m\u001B[43m,\u001B[49m\n\u001B[0;32m   1057\u001B[0m \u001B[43m    \u001B[49m\u001B[43ml1_ratio\u001B[49m\u001B[38;5;241;43m=\u001B[39;49m\u001B[38;5;28;43mself\u001B[39;49m\u001B[38;5;241;43m.\u001B[39;49m\u001B[43ml1_ratio\u001B[49m\u001B[43m,\u001B[49m\n\u001B[0;32m   1058\u001B[0m \u001B[43m    \u001B[49m\u001B[43meps\u001B[49m\u001B[38;5;241;43m=\u001B[39;49m\u001B[38;5;28;43;01mNone\u001B[39;49;00m\u001B[43m,\u001B[49m\n\u001B[0;32m   1059\u001B[0m \u001B[43m    \u001B[49m\u001B[43mn_alphas\u001B[49m\u001B[38;5;241;43m=\u001B[39;49m\u001B[38;5;28;43;01mNone\u001B[39;49;00m\u001B[43m,\u001B[49m\n\u001B[0;32m   1060\u001B[0m \u001B[43m    \u001B[49m\u001B[43malphas\u001B[49m\u001B[38;5;241;43m=\u001B[39;49m\u001B[43m[\u001B[49m\u001B[43malpha\u001B[49m\u001B[43m]\u001B[49m\u001B[43m,\u001B[49m\n\u001B[0;32m   1061\u001B[0m \u001B[43m    \u001B[49m\u001B[43mprecompute\u001B[49m\u001B[38;5;241;43m=\u001B[39;49m\u001B[43mprecompute\u001B[49m\u001B[43m,\u001B[49m\n\u001B[0;32m   1062\u001B[0m \u001B[43m    \u001B[49m\u001B[43mXy\u001B[49m\u001B[38;5;241;43m=\u001B[39;49m\u001B[43mthis_Xy\u001B[49m\u001B[43m,\u001B[49m\n\u001B[0;32m   1063\u001B[0m \u001B[43m    \u001B[49m\u001B[43mcopy_X\u001B[49m\u001B[38;5;241;43m=\u001B[39;49m\u001B[38;5;28;43;01mTrue\u001B[39;49;00m\u001B[43m,\u001B[49m\n\u001B[0;32m   1064\u001B[0m \u001B[43m    \u001B[49m\u001B[43mcoef_init\u001B[49m\u001B[38;5;241;43m=\u001B[39;49m\u001B[43mcoef_\u001B[49m\u001B[43m[\u001B[49m\u001B[43mk\u001B[49m\u001B[43m]\u001B[49m\u001B[43m,\u001B[49m\n\u001B[0;32m   1065\u001B[0m \u001B[43m    \u001B[49m\u001B[43mverbose\u001B[49m\u001B[38;5;241;43m=\u001B[39;49m\u001B[38;5;28;43;01mFalse\u001B[39;49;00m\u001B[43m,\u001B[49m\n\u001B[0;32m   1066\u001B[0m \u001B[43m    \u001B[49m\u001B[43mreturn_n_iter\u001B[49m\u001B[38;5;241;43m=\u001B[39;49m\u001B[38;5;28;43;01mTrue\u001B[39;49;00m\u001B[43m,\u001B[49m\n\u001B[0;32m   1067\u001B[0m \u001B[43m    \u001B[49m\u001B[43mpositive\u001B[49m\u001B[38;5;241;43m=\u001B[39;49m\u001B[38;5;28;43mself\u001B[39;49m\u001B[38;5;241;43m.\u001B[39;49m\u001B[43mpositive\u001B[49m\u001B[43m,\u001B[49m\n\u001B[0;32m   1068\u001B[0m \u001B[43m    \u001B[49m\u001B[43mcheck_input\u001B[49m\u001B[38;5;241;43m=\u001B[39;49m\u001B[38;5;28;43;01mFalse\u001B[39;49;00m\u001B[43m,\u001B[49m\n\u001B[0;32m   1069\u001B[0m \u001B[43m    \u001B[49m\u001B[38;5;66;43;03m# from here on **params\u001B[39;49;00m\n\u001B[0;32m   1070\u001B[0m \u001B[43m    \u001B[49m\u001B[43mtol\u001B[49m\u001B[38;5;241;43m=\u001B[39;49m\u001B[38;5;28;43mself\u001B[39;49m\u001B[38;5;241;43m.\u001B[39;49m\u001B[43mtol\u001B[49m\u001B[43m,\u001B[49m\n\u001B[0;32m   1071\u001B[0m \u001B[43m    \u001B[49m\u001B[43mX_offset\u001B[49m\u001B[38;5;241;43m=\u001B[39;49m\u001B[43mX_offset\u001B[49m\u001B[43m,\u001B[49m\n\u001B[0;32m   1072\u001B[0m \u001B[43m    \u001B[49m\u001B[43mX_scale\u001B[49m\u001B[38;5;241;43m=\u001B[39;49m\u001B[43mX_scale\u001B[49m\u001B[43m,\u001B[49m\n\u001B[0;32m   1073\u001B[0m \u001B[43m    \u001B[49m\u001B[43mmax_iter\u001B[49m\u001B[38;5;241;43m=\u001B[39;49m\u001B[38;5;28;43mself\u001B[39;49m\u001B[38;5;241;43m.\u001B[39;49m\u001B[43mmax_iter\u001B[49m\u001B[43m,\u001B[49m\n\u001B[0;32m   1074\u001B[0m \u001B[43m    \u001B[49m\u001B[43mrandom_state\u001B[49m\u001B[38;5;241;43m=\u001B[39;49m\u001B[38;5;28;43mself\u001B[39;49m\u001B[38;5;241;43m.\u001B[39;49m\u001B[43mrandom_state\u001B[49m\u001B[43m,\u001B[49m\n\u001B[0;32m   1075\u001B[0m \u001B[43m    \u001B[49m\u001B[43mselection\u001B[49m\u001B[38;5;241;43m=\u001B[39;49m\u001B[38;5;28;43mself\u001B[39;49m\u001B[38;5;241;43m.\u001B[39;49m\u001B[43mselection\u001B[49m\u001B[43m,\u001B[49m\n\u001B[0;32m   1076\u001B[0m \u001B[43m    \u001B[49m\u001B[43msample_weight\u001B[49m\u001B[38;5;241;43m=\u001B[39;49m\u001B[43msample_weight\u001B[49m\u001B[43m,\u001B[49m\n\u001B[0;32m   1077\u001B[0m \u001B[43m\u001B[49m\u001B[43m)\u001B[49m\n\u001B[0;32m   1078\u001B[0m coef_[k] \u001B[38;5;241m=\u001B[39m this_coef[:, \u001B[38;5;241m0\u001B[39m]\n\u001B[0;32m   1079\u001B[0m dual_gaps_[k] \u001B[38;5;241m=\u001B[39m this_dual_gap[\u001B[38;5;241m0\u001B[39m]\n",
      "File \u001B[1;32m~\\miniconda3\\lib\\site-packages\\sklearn\\linear_model\\_coordinate_descent.py:609\u001B[0m, in \u001B[0;36menet_path\u001B[1;34m(X, y, l1_ratio, eps, n_alphas, alphas, precompute, Xy, copy_X, coef_init, verbose, return_n_iter, positive, check_input, **params)\u001B[0m\n\u001B[0;32m    607\u001B[0m l2_reg \u001B[38;5;241m=\u001B[39m alpha \u001B[38;5;241m*\u001B[39m (\u001B[38;5;241m1.0\u001B[39m \u001B[38;5;241m-\u001B[39m l1_ratio) \u001B[38;5;241m*\u001B[39m n_samples\n\u001B[0;32m    608\u001B[0m \u001B[38;5;28;01mif\u001B[39;00m \u001B[38;5;129;01mnot\u001B[39;00m multi_output \u001B[38;5;129;01mand\u001B[39;00m sparse\u001B[38;5;241m.\u001B[39misspmatrix(X):\n\u001B[1;32m--> 609\u001B[0m     model \u001B[38;5;241m=\u001B[39m \u001B[43mcd_fast\u001B[49m\u001B[38;5;241;43m.\u001B[39;49m\u001B[43msparse_enet_coordinate_descent\u001B[49m\u001B[43m(\u001B[49m\n\u001B[0;32m    610\u001B[0m \u001B[43m        \u001B[49m\u001B[43mw\u001B[49m\u001B[38;5;241;43m=\u001B[39;49m\u001B[43mcoef_\u001B[49m\u001B[43m,\u001B[49m\n\u001B[0;32m    611\u001B[0m \u001B[43m        \u001B[49m\u001B[43malpha\u001B[49m\u001B[38;5;241;43m=\u001B[39;49m\u001B[43ml1_reg\u001B[49m\u001B[43m,\u001B[49m\n\u001B[0;32m    612\u001B[0m \u001B[43m        \u001B[49m\u001B[43mbeta\u001B[49m\u001B[38;5;241;43m=\u001B[39;49m\u001B[43ml2_reg\u001B[49m\u001B[43m,\u001B[49m\n\u001B[0;32m    613\u001B[0m \u001B[43m        \u001B[49m\u001B[43mX_data\u001B[49m\u001B[38;5;241;43m=\u001B[39;49m\u001B[43mX\u001B[49m\u001B[38;5;241;43m.\u001B[39;49m\u001B[43mdata\u001B[49m\u001B[43m,\u001B[49m\n\u001B[0;32m    614\u001B[0m \u001B[43m        \u001B[49m\u001B[43mX_indices\u001B[49m\u001B[38;5;241;43m=\u001B[39;49m\u001B[43mX\u001B[49m\u001B[38;5;241;43m.\u001B[39;49m\u001B[43mindices\u001B[49m\u001B[43m,\u001B[49m\n\u001B[0;32m    615\u001B[0m \u001B[43m        \u001B[49m\u001B[43mX_indptr\u001B[49m\u001B[38;5;241;43m=\u001B[39;49m\u001B[43mX\u001B[49m\u001B[38;5;241;43m.\u001B[39;49m\u001B[43mindptr\u001B[49m\u001B[43m,\u001B[49m\n\u001B[0;32m    616\u001B[0m \u001B[43m        \u001B[49m\u001B[43my\u001B[49m\u001B[38;5;241;43m=\u001B[39;49m\u001B[43my\u001B[49m\u001B[43m,\u001B[49m\n\u001B[0;32m    617\u001B[0m \u001B[43m        \u001B[49m\u001B[43msample_weight\u001B[49m\u001B[38;5;241;43m=\u001B[39;49m\u001B[43msample_weight\u001B[49m\u001B[43m,\u001B[49m\n\u001B[0;32m    618\u001B[0m \u001B[43m        \u001B[49m\u001B[43mX_mean\u001B[49m\u001B[38;5;241;43m=\u001B[39;49m\u001B[43mX_sparse_scaling\u001B[49m\u001B[43m,\u001B[49m\n\u001B[0;32m    619\u001B[0m \u001B[43m        \u001B[49m\u001B[43mmax_iter\u001B[49m\u001B[38;5;241;43m=\u001B[39;49m\u001B[43mmax_iter\u001B[49m\u001B[43m,\u001B[49m\n\u001B[0;32m    620\u001B[0m \u001B[43m        \u001B[49m\u001B[43mtol\u001B[49m\u001B[38;5;241;43m=\u001B[39;49m\u001B[43mtol\u001B[49m\u001B[43m,\u001B[49m\n\u001B[0;32m    621\u001B[0m \u001B[43m        \u001B[49m\u001B[43mrng\u001B[49m\u001B[38;5;241;43m=\u001B[39;49m\u001B[43mrng\u001B[49m\u001B[43m,\u001B[49m\n\u001B[0;32m    622\u001B[0m \u001B[43m        \u001B[49m\u001B[43mrandom\u001B[49m\u001B[38;5;241;43m=\u001B[39;49m\u001B[43mrandom\u001B[49m\u001B[43m,\u001B[49m\n\u001B[0;32m    623\u001B[0m \u001B[43m        \u001B[49m\u001B[43mpositive\u001B[49m\u001B[38;5;241;43m=\u001B[39;49m\u001B[43mpositive\u001B[49m\u001B[43m,\u001B[49m\n\u001B[0;32m    624\u001B[0m \u001B[43m    \u001B[49m\u001B[43m)\u001B[49m\n\u001B[0;32m    625\u001B[0m \u001B[38;5;28;01melif\u001B[39;00m multi_output:\n\u001B[0;32m    626\u001B[0m     model \u001B[38;5;241m=\u001B[39m cd_fast\u001B[38;5;241m.\u001B[39menet_coordinate_descent_multi_task(\n\u001B[0;32m    627\u001B[0m         coef_, l1_reg, l2_reg, X, y, max_iter, tol, rng, random\n\u001B[0;32m    628\u001B[0m     )\n",
      "\u001B[1;31mKeyboardInterrupt\u001B[0m: "
     ]
    }
   ],
   "source": [
    "hyperparameterSearch.search(recommender_input_args = recommender_input_args,\n",
    "                            recommender_input_args_last_test = recommender_input_args_last_test,\n",
    "                            hyperparameter_search_space = hyperparameters_range_dictionary,\n",
    "                            n_cases = n_cases,\n",
    "                            n_random_starts = n_random_starts,\n",
    "                            save_model = \"last\",\n",
    "                            output_folder_path = output_folder_path, # Where to save the results\n",
    "                            output_file_name_root = recommender_class.RECOMMENDER_NAME, # How to call the files\n",
    "                            metric_to_optimize = metric_to_optimize,\n",
    "                            cutoff_to_optimize = cutoff_to_optimize,\n",
    "                            )"
   ],
   "metadata": {
    "collapsed": false
   }
  },
  {
   "cell_type": "code",
   "execution_count": 17,
   "outputs": [
    {
     "data": {
      "text/plain": "dict_keys(['algorithm_name_recommender', 'algorithm_name_search', 'cutoff_to_optimize', 'exception_list', 'hyperparameters_best', 'hyperparameters_best_index', 'hyperparameters_df', 'metric_to_optimize', 'result_on_earlystopping_df', 'result_on_last', 'result_on_test_best', 'result_on_test_df', 'result_on_validation_best', 'result_on_validation_df', 'time_df', 'time_on_last_df', 'time_on_test_avg', 'time_on_test_total', 'time_on_train_avg', 'time_on_train_total', 'time_on_validation_avg', 'time_on_validation_total'])"
     },
     "execution_count": 17,
     "metadata": {},
     "output_type": "execute_result"
    }
   ],
   "source": [
    "from Recommenders.DataIO import DataIO\n",
    "\n",
    "#explore the results of the search\n",
    "data_loader = DataIO(folder_path = output_folder_path)\n",
    "search_metadata = data_loader.load_data(recommender_class.RECOMMENDER_NAME + \"_metadata.zip\")\n",
    "\n",
    "search_metadata.keys()"
   ],
   "metadata": {
    "collapsed": false
   }
  },
  {
   "cell_type": "code",
   "execution_count": 18,
   "outputs": [
    {
     "data": {
      "text/plain": "    l1_ratio     alpha positive_only topK\n0   0.003184  0.071669          True  245\n1   0.008861  0.023103          True  420\n2    0.00422  0.072511          True  374\n3   0.003196   0.03916          True  237\n4   0.001331   0.01794          True  329\n5   0.001434  0.021192          True  446\n6   0.001355  0.038925          True  397\n7   0.003064  0.026527          True  367\n8   0.002845   0.02035          True  366\n9   0.002891  0.013004          True  339\n10  0.002168  0.017413          True  421\n11   0.00226   0.03241          True  290\n12  0.001584  0.027898          True  346\n13   0.00152    0.0266          True  257\n14   0.00571  0.027907          True  259\n15       NaN       NaN           NaN  NaN\n16       NaN       NaN           NaN  NaN\n17       NaN       NaN           NaN  NaN\n18       NaN       NaN           NaN  NaN\n19       NaN       NaN           NaN  NaN\n20       NaN       NaN           NaN  NaN\n21       NaN       NaN           NaN  NaN\n22       NaN       NaN           NaN  NaN\n23       NaN       NaN           NaN  NaN\n24       NaN       NaN           NaN  NaN\n25       NaN       NaN           NaN  NaN\n26       NaN       NaN           NaN  NaN\n27       NaN       NaN           NaN  NaN\n28       NaN       NaN           NaN  NaN\n29       NaN       NaN           NaN  NaN\n30       NaN       NaN           NaN  NaN\n31       NaN       NaN           NaN  NaN\n32       NaN       NaN           NaN  NaN\n33       NaN       NaN           NaN  NaN\n34       NaN       NaN           NaN  NaN\n35       NaN       NaN           NaN  NaN\n36       NaN       NaN           NaN  NaN\n37       NaN       NaN           NaN  NaN\n38       NaN       NaN           NaN  NaN\n39       NaN       NaN           NaN  NaN\n40       NaN       NaN           NaN  NaN\n41       NaN       NaN           NaN  NaN\n42       NaN       NaN           NaN  NaN\n43       NaN       NaN           NaN  NaN\n44       NaN       NaN           NaN  NaN\n45       NaN       NaN           NaN  NaN\n46       NaN       NaN           NaN  NaN\n47       NaN       NaN           NaN  NaN\n48       NaN       NaN           NaN  NaN\n49       NaN       NaN           NaN  NaN",
      "text/html": "<div>\n<style scoped>\n    .dataframe tbody tr th:only-of-type {\n        vertical-align: middle;\n    }\n\n    .dataframe tbody tr th {\n        vertical-align: top;\n    }\n\n    .dataframe thead th {\n        text-align: right;\n    }\n</style>\n<table border=\"1\" class=\"dataframe\">\n  <thead>\n    <tr style=\"text-align: right;\">\n      <th></th>\n      <th>l1_ratio</th>\n      <th>alpha</th>\n      <th>positive_only</th>\n      <th>topK</th>\n    </tr>\n  </thead>\n  <tbody>\n    <tr>\n      <th>0</th>\n      <td>0.003184</td>\n      <td>0.071669</td>\n      <td>True</td>\n      <td>245</td>\n    </tr>\n    <tr>\n      <th>1</th>\n      <td>0.008861</td>\n      <td>0.023103</td>\n      <td>True</td>\n      <td>420</td>\n    </tr>\n    <tr>\n      <th>2</th>\n      <td>0.00422</td>\n      <td>0.072511</td>\n      <td>True</td>\n      <td>374</td>\n    </tr>\n    <tr>\n      <th>3</th>\n      <td>0.003196</td>\n      <td>0.03916</td>\n      <td>True</td>\n      <td>237</td>\n    </tr>\n    <tr>\n      <th>4</th>\n      <td>0.001331</td>\n      <td>0.01794</td>\n      <td>True</td>\n      <td>329</td>\n    </tr>\n    <tr>\n      <th>5</th>\n      <td>0.001434</td>\n      <td>0.021192</td>\n      <td>True</td>\n      <td>446</td>\n    </tr>\n    <tr>\n      <th>6</th>\n      <td>0.001355</td>\n      <td>0.038925</td>\n      <td>True</td>\n      <td>397</td>\n    </tr>\n    <tr>\n      <th>7</th>\n      <td>0.003064</td>\n      <td>0.026527</td>\n      <td>True</td>\n      <td>367</td>\n    </tr>\n    <tr>\n      <th>8</th>\n      <td>0.002845</td>\n      <td>0.02035</td>\n      <td>True</td>\n      <td>366</td>\n    </tr>\n    <tr>\n      <th>9</th>\n      <td>0.002891</td>\n      <td>0.013004</td>\n      <td>True</td>\n      <td>339</td>\n    </tr>\n    <tr>\n      <th>10</th>\n      <td>0.002168</td>\n      <td>0.017413</td>\n      <td>True</td>\n      <td>421</td>\n    </tr>\n    <tr>\n      <th>11</th>\n      <td>0.00226</td>\n      <td>0.03241</td>\n      <td>True</td>\n      <td>290</td>\n    </tr>\n    <tr>\n      <th>12</th>\n      <td>0.001584</td>\n      <td>0.027898</td>\n      <td>True</td>\n      <td>346</td>\n    </tr>\n    <tr>\n      <th>13</th>\n      <td>0.00152</td>\n      <td>0.0266</td>\n      <td>True</td>\n      <td>257</td>\n    </tr>\n    <tr>\n      <th>14</th>\n      <td>0.00571</td>\n      <td>0.027907</td>\n      <td>True</td>\n      <td>259</td>\n    </tr>\n    <tr>\n      <th>15</th>\n      <td>NaN</td>\n      <td>NaN</td>\n      <td>NaN</td>\n      <td>NaN</td>\n    </tr>\n    <tr>\n      <th>16</th>\n      <td>NaN</td>\n      <td>NaN</td>\n      <td>NaN</td>\n      <td>NaN</td>\n    </tr>\n    <tr>\n      <th>17</th>\n      <td>NaN</td>\n      <td>NaN</td>\n      <td>NaN</td>\n      <td>NaN</td>\n    </tr>\n    <tr>\n      <th>18</th>\n      <td>NaN</td>\n      <td>NaN</td>\n      <td>NaN</td>\n      <td>NaN</td>\n    </tr>\n    <tr>\n      <th>19</th>\n      <td>NaN</td>\n      <td>NaN</td>\n      <td>NaN</td>\n      <td>NaN</td>\n    </tr>\n    <tr>\n      <th>20</th>\n      <td>NaN</td>\n      <td>NaN</td>\n      <td>NaN</td>\n      <td>NaN</td>\n    </tr>\n    <tr>\n      <th>21</th>\n      <td>NaN</td>\n      <td>NaN</td>\n      <td>NaN</td>\n      <td>NaN</td>\n    </tr>\n    <tr>\n      <th>22</th>\n      <td>NaN</td>\n      <td>NaN</td>\n      <td>NaN</td>\n      <td>NaN</td>\n    </tr>\n    <tr>\n      <th>23</th>\n      <td>NaN</td>\n      <td>NaN</td>\n      <td>NaN</td>\n      <td>NaN</td>\n    </tr>\n    <tr>\n      <th>24</th>\n      <td>NaN</td>\n      <td>NaN</td>\n      <td>NaN</td>\n      <td>NaN</td>\n    </tr>\n    <tr>\n      <th>25</th>\n      <td>NaN</td>\n      <td>NaN</td>\n      <td>NaN</td>\n      <td>NaN</td>\n    </tr>\n    <tr>\n      <th>26</th>\n      <td>NaN</td>\n      <td>NaN</td>\n      <td>NaN</td>\n      <td>NaN</td>\n    </tr>\n    <tr>\n      <th>27</th>\n      <td>NaN</td>\n      <td>NaN</td>\n      <td>NaN</td>\n      <td>NaN</td>\n    </tr>\n    <tr>\n      <th>28</th>\n      <td>NaN</td>\n      <td>NaN</td>\n      <td>NaN</td>\n      <td>NaN</td>\n    </tr>\n    <tr>\n      <th>29</th>\n      <td>NaN</td>\n      <td>NaN</td>\n      <td>NaN</td>\n      <td>NaN</td>\n    </tr>\n    <tr>\n      <th>30</th>\n      <td>NaN</td>\n      <td>NaN</td>\n      <td>NaN</td>\n      <td>NaN</td>\n    </tr>\n    <tr>\n      <th>31</th>\n      <td>NaN</td>\n      <td>NaN</td>\n      <td>NaN</td>\n      <td>NaN</td>\n    </tr>\n    <tr>\n      <th>32</th>\n      <td>NaN</td>\n      <td>NaN</td>\n      <td>NaN</td>\n      <td>NaN</td>\n    </tr>\n    <tr>\n      <th>33</th>\n      <td>NaN</td>\n      <td>NaN</td>\n      <td>NaN</td>\n      <td>NaN</td>\n    </tr>\n    <tr>\n      <th>34</th>\n      <td>NaN</td>\n      <td>NaN</td>\n      <td>NaN</td>\n      <td>NaN</td>\n    </tr>\n    <tr>\n      <th>35</th>\n      <td>NaN</td>\n      <td>NaN</td>\n      <td>NaN</td>\n      <td>NaN</td>\n    </tr>\n    <tr>\n      <th>36</th>\n      <td>NaN</td>\n      <td>NaN</td>\n      <td>NaN</td>\n      <td>NaN</td>\n    </tr>\n    <tr>\n      <th>37</th>\n      <td>NaN</td>\n      <td>NaN</td>\n      <td>NaN</td>\n      <td>NaN</td>\n    </tr>\n    <tr>\n      <th>38</th>\n      <td>NaN</td>\n      <td>NaN</td>\n      <td>NaN</td>\n      <td>NaN</td>\n    </tr>\n    <tr>\n      <th>39</th>\n      <td>NaN</td>\n      <td>NaN</td>\n      <td>NaN</td>\n      <td>NaN</td>\n    </tr>\n    <tr>\n      <th>40</th>\n      <td>NaN</td>\n      <td>NaN</td>\n      <td>NaN</td>\n      <td>NaN</td>\n    </tr>\n    <tr>\n      <th>41</th>\n      <td>NaN</td>\n      <td>NaN</td>\n      <td>NaN</td>\n      <td>NaN</td>\n    </tr>\n    <tr>\n      <th>42</th>\n      <td>NaN</td>\n      <td>NaN</td>\n      <td>NaN</td>\n      <td>NaN</td>\n    </tr>\n    <tr>\n      <th>43</th>\n      <td>NaN</td>\n      <td>NaN</td>\n      <td>NaN</td>\n      <td>NaN</td>\n    </tr>\n    <tr>\n      <th>44</th>\n      <td>NaN</td>\n      <td>NaN</td>\n      <td>NaN</td>\n      <td>NaN</td>\n    </tr>\n    <tr>\n      <th>45</th>\n      <td>NaN</td>\n      <td>NaN</td>\n      <td>NaN</td>\n      <td>NaN</td>\n    </tr>\n    <tr>\n      <th>46</th>\n      <td>NaN</td>\n      <td>NaN</td>\n      <td>NaN</td>\n      <td>NaN</td>\n    </tr>\n    <tr>\n      <th>47</th>\n      <td>NaN</td>\n      <td>NaN</td>\n      <td>NaN</td>\n      <td>NaN</td>\n    </tr>\n    <tr>\n      <th>48</th>\n      <td>NaN</td>\n      <td>NaN</td>\n      <td>NaN</td>\n      <td>NaN</td>\n    </tr>\n    <tr>\n      <th>49</th>\n      <td>NaN</td>\n      <td>NaN</td>\n      <td>NaN</td>\n      <td>NaN</td>\n    </tr>\n  </tbody>\n</table>\n</div>"
     },
     "execution_count": 18,
     "metadata": {},
     "output_type": "execute_result"
    }
   ],
   "source": [
    "hyperparameters_df = search_metadata[\"hyperparameters_df\"]\n",
    "hyperparameters_df"
   ],
   "metadata": {
    "collapsed": false
   }
  },
  {
   "cell_type": "code",
   "execution_count": 21,
   "outputs": [],
   "source": [
    "result_on_validation_df = search_metadata[\"result_on_validation_df\"]\n",
    "result_on_validation_df"
   ],
   "metadata": {
    "collapsed": false
   }
  },
  {
   "cell_type": "code",
   "execution_count": 22,
   "outputs": [],
   "source": [
    "best_hyperparameters = search_metadata[\"hyperparameters_best\"]\n",
    "best_hyperparameters"
   ],
   "metadata": {
    "collapsed": false
   }
  },
  {
   "cell_type": "code",
   "execution_count": null,
   "outputs": [],
   "source": [
    "recommender = SLIMElasticNetRecommender(URM_all)\n",
    "recommender.fit(...)"
   ],
   "metadata": {
    "collapsed": false
   }
  },
  {
   "cell_type": "code",
   "execution_count": null,
   "outputs": [],
   "source": [
    "recommender.save_model(output_folder_path, file_name = recommender.RECOMMENDER_NAME + \"_my_own_save.zip\" )"
   ],
   "metadata": {
    "collapsed": false
   }
  },
  {
   "cell_type": "code",
   "execution_count": null,
   "outputs": [],
   "source": [
    "test_users = pd.read_csv('../Dataset/data_target_users_test.csv')"
   ],
   "metadata": {
    "collapsed": false
   }
  },
  {
   "cell_type": "code",
   "execution_count": null,
   "outputs": [],
   "source": [
    "user_id = test_users['user_id']\n",
    "recommendations = []\n",
    "for user in user_id:\n",
    "    recommendations.append(recommender.recommend(user, cutoff=10))"
   ],
   "metadata": {
    "collapsed": false
   }
  },
  {
   "cell_type": "code",
   "execution_count": null,
   "outputs": [],
   "source": [
    "for index in range(len(recommendations)):\n",
    "    recommendations[index]=np.array(recommendations[index])\n",
    "\n",
    "test_users['item_list']= recommendations\n",
    "test_users['item_list'] = pd.DataFrame([str(line).strip('[').strip(']').replace(\"'\",\"\") for line in test_users['item_list']])\n",
    "test_users.to_csv('..\\Submissions\\Submission_04_RP3Beta_MixedRatings.csv', index=False)"
   ],
   "metadata": {
    "collapsed": false
   }
  }
 ],
 "metadata": {
  "kernelspec": {
   "display_name": "Python 3",
   "language": "python",
   "name": "python3"
  },
  "language_info": {
   "codemirror_mode": {
    "name": "ipython",
    "version": 2
   },
   "file_extension": ".py",
   "mimetype": "text/x-python",
   "name": "python",
   "nbconvert_exporter": "python",
   "pygments_lexer": "ipython2",
   "version": "2.7.6"
  }
 },
 "nbformat": 4,
 "nbformat_minor": 0
}
