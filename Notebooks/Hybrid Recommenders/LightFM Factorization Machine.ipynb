{
 "metadata": {
  "kernelspec": {
   "language": "python",
   "display_name": "Python 3",
   "name": "python3"
  },
  "language_info": {
   "name": "python",
   "version": "3.7.12",
   "mimetype": "text/x-python",
   "codemirror_mode": {
    "name": "ipython",
    "version": 3
   },
   "pygments_lexer": "ipython3",
   "nbconvert_exporter": "python",
   "file_extension": ".py"
  }
 },
 "nbformat_minor": 4,
 "nbformat": 4,
 "cells": [
  {
   "cell_type": "code",
   "source": [
    "import pandas as pd\n",
    "import numpy as np\n",
    "import scipy.sparse as sps\n",
    "import matplotlib.pyplot as pyplot\n",
    "\n",
    "from Evaluation.Evaluator import EvaluatorHoldout\n",
    "from Data_manager.split_functions.split_train_validation_random_holdout import split_train_in_two_percentage_global_sample\n",
    "from Utils.DataReader import load_urm, load_icm, load_target"
   ],
   "metadata": {
    "execution": {
     "iopub.status.busy": "2022-11-23T15:58:02.958044Z",
     "iopub.execute_input": "2022-11-23T15:58:02.958508Z",
     "iopub.status.idle": "2022-11-23T15:58:03.032580Z",
     "shell.execute_reply.started": "2022-11-23T15:58:02.958470Z",
     "shell.execute_reply": "2022-11-23T15:58:03.031309Z"
    },
    "trusted": true
   },
   "execution_count": 3,
   "outputs": []
  },
  {
   "cell_type": "code",
   "source": [
    "URM_all = load_urm()\n",
    "ICM_type_df = pd.read_csv(\"Dataset/data_ICM_type.csv\")\n",
    "\n",
    "\n",
    "URM_train, URM_test = split_train_in_two_percentage_global_sample(URM_all, train_percentage = 0.85)\n",
    "URM_train, URM_validation = split_train_in_two_percentage_global_sample(URM_train, train_percentage = 0.85)\n",
    "\n",
    "evaluator_validation = EvaluatorHoldout(URM_validation, cutoff_list=[10])\n",
    "evaluator_test = EvaluatorHoldout(URM_test, cutoff_list=[10])"
   ],
   "metadata": {
    "execution": {
     "iopub.status.busy": "2022-11-23T16:13:56.036326Z",
     "iopub.execute_input": "2022-11-23T16:13:56.036741Z",
     "iopub.status.idle": "2022-11-23T16:14:01.642347Z",
     "shell.execute_reply.started": "2022-11-23T16:13:56.036706Z",
     "shell.execute_reply": "2022-11-23T16:14:01.641027Z"
    },
    "trusted": true
   },
   "execution_count": 17,
   "outputs": [
    {
     "name": "stdout",
     "text": "Warning: 880 (2.11 %) of 41629 users have no sampled items\nWarning: 1579 (3.79 %) of 41629 users have no sampled items\nEvaluatorHoldout: Ignoring 1579 ( 3.8%) Users that have less than 1 test interactions\nEvaluatorHoldout: Ignoring 880 ( 2.1%) Users that have less than 1 test interactions\n",
     "output_type": "stream"
    }
   ]
  },
  {
   "cell_type": "code",
   "source": [
    "ICM_type_df"
   ],
   "metadata": {
    "execution": {
     "iopub.status.busy": "2022-11-23T16:16:23.089074Z",
     "iopub.execute_input": "2022-11-23T16:16:23.089543Z",
     "iopub.status.idle": "2022-11-23T16:16:23.103827Z",
     "shell.execute_reply.started": "2022-11-23T16:16:23.089508Z",
     "shell.execute_reply": "2022-11-23T16:16:23.102884Z"
    },
    "trusted": true
   },
   "execution_count": 21,
   "outputs": [
    {
     "execution_count": 21,
     "output_type": "execute_result",
     "data": {
      "text/plain": "       item_id  feature_id  data\n0            0           1     1\n1            1           3     1\n2            2           4     1\n3            3           1     1\n4            4           3     1\n...        ...         ...   ...\n23086    27963           1     1\n23087    27964           2     1\n23088    27965           1     1\n23089    27966           1     1\n23090    27967           4     1\n\n[23091 rows x 3 columns]",
      "text/html": "<div>\n<style scoped>\n    .dataframe tbody tr th:only-of-type {\n        vertical-align: middle;\n    }\n\n    .dataframe tbody tr th {\n        vertical-align: top;\n    }\n\n    .dataframe thead th {\n        text-align: right;\n    }\n</style>\n<table border=\"1\" class=\"dataframe\">\n  <thead>\n    <tr style=\"text-align: right;\">\n      <th></th>\n      <th>item_id</th>\n      <th>feature_id</th>\n      <th>data</th>\n    </tr>\n  </thead>\n  <tbody>\n    <tr>\n      <th>0</th>\n      <td>0</td>\n      <td>1</td>\n      <td>1</td>\n    </tr>\n    <tr>\n      <th>1</th>\n      <td>1</td>\n      <td>3</td>\n      <td>1</td>\n    </tr>\n    <tr>\n      <th>2</th>\n      <td>2</td>\n      <td>4</td>\n      <td>1</td>\n    </tr>\n    <tr>\n      <th>3</th>\n      <td>3</td>\n      <td>1</td>\n      <td>1</td>\n    </tr>\n    <tr>\n      <th>4</th>\n      <td>4</td>\n      <td>3</td>\n      <td>1</td>\n    </tr>\n    <tr>\n      <th>...</th>\n      <td>...</td>\n      <td>...</td>\n      <td>...</td>\n    </tr>\n    <tr>\n      <th>23086</th>\n      <td>27963</td>\n      <td>1</td>\n      <td>1</td>\n    </tr>\n    <tr>\n      <th>23087</th>\n      <td>27964</td>\n      <td>2</td>\n      <td>1</td>\n    </tr>\n    <tr>\n      <th>23088</th>\n      <td>27965</td>\n      <td>1</td>\n      <td>1</td>\n    </tr>\n    <tr>\n      <th>23089</th>\n      <td>27966</td>\n      <td>1</td>\n      <td>1</td>\n    </tr>\n    <tr>\n      <th>23090</th>\n      <td>27967</td>\n      <td>4</td>\n      <td>1</td>\n    </tr>\n  </tbody>\n</table>\n<p>23091 rows × 3 columns</p>\n</div>"
     },
     "metadata": {}
    }
   ]
  },
  {
   "cell_type": "code",
   "source": [
    "item_id_list = ICM_type_df['item_id'].values\n",
    "feature_id_list = ICM_type_df['feature_id'].values\n",
    "data_list = ICM_type_df['data'].values\n",
    "\n",
    "ICM_type = sps.csr_matrix((data_list, (item_id_list, feature_id_list)))\n",
    "ICM_type = ICM_type.astype(dtype=np.int32)\n",
    "ICM_type"
   ],
   "metadata": {
    "execution": {
     "iopub.status.busy": "2022-11-23T16:14:26.156512Z",
     "iopub.execute_input": "2022-11-23T16:14:26.156926Z",
     "iopub.status.idle": "2022-11-23T16:14:26.167680Z",
     "shell.execute_reply.started": "2022-11-23T16:14:26.156894Z",
     "shell.execute_reply": "2022-11-23T16:14:26.166352Z"
    },
    "trusted": true
   },
   "execution_count": 19,
   "outputs": [
    {
     "execution_count": 19,
     "output_type": "execute_result",
     "data": {
      "text/plain": "<27968x8 sparse matrix of type '<class 'numpy.int32'>'\n\twith 23091 stored elements in Compressed Sparse Row format>"
     },
     "metadata": {}
    }
   ]
  },
  {
   "cell_type": "code",
   "source": [
    "from Recommenders.BaseRecommender import BaseRecommender\n",
    "\n",
    "class LightFMCBFRecommender(BaseRecommender):\n",
    "    \"\"\"LightFMCBFRecommender\"\"\"\n",
    "\n",
    "    RECOMMENDER_NAME = \"LightFMCBFRecommender\"\n",
    "\n",
    "    def __init__(self, URM_train, ICM_train):\n",
    "        super(LightFMCBFRecommender, self).__init__(URM_train)\n",
    "        \n",
    "        self.ICM_train = ICM_train.copy()\n",
    "\n",
    "\n",
    "    def fit(self, epochs = 300, alpha = 1e-6, n_factors = 10, n_threads = 4):\n",
    "        \n",
    "        # Let's fit a WARP model\n",
    "        self.lightFM_model = LightFM(loss='warp',\n",
    "                                     item_alpha=alpha,\n",
    "                                     no_components=n_factors)\n",
    "\n",
    "        self.lightFM_model = self.lightFM_model.fit(URM_train, \n",
    "                                       item_features=self.ICM_train, \n",
    "                                       epochs=epochs, \n",
    "                                       num_threads=n_threads)\n",
    "\n",
    "\n",
    "    def _compute_item_score(self, user_id_array, items_to_compute = None):\n",
    "        \n",
    "        # Create a single (n_items, ) array with the item score, then copy it for every user\n",
    "        items_to_compute = np.arange(self.n_items)\n",
    "        \n",
    "        item_scores = - np.ones((len(user_id_array), self.n_items)) * np.inf\n",
    "\n",
    "        for user_index, user_id in enumerate(user_id_array):\n",
    "            item_scores[user_index] = self.lightFM_model.predict(int(user_id), \n",
    "                                                                 items_to_compute,\n",
    "                                                                 item_features = self.ICM_train)\n",
    "\n",
    "        return item_scores"
   ],
   "metadata": {
    "execution": {
     "iopub.status.busy": "2022-11-23T16:32:53.225499Z",
     "iopub.execute_input": "2022-11-23T16:32:53.225988Z",
     "iopub.status.idle": "2022-11-23T16:32:53.238376Z",
     "shell.execute_reply.started": "2022-11-23T16:32:53.225936Z",
     "shell.execute_reply": "2022-11-23T16:32:53.237067Z"
    },
    "trusted": true
   },
   "execution_count": 23,
   "outputs": []
  },
  {
   "cell_type": "code",
   "source": [
    "from lightfm import LightFM\n",
    "\n",
    "class LightFMItemHybridRecommender(LightFMCBFRecommender):\n",
    "    \"\"\"LightFMItemHybridRecommender\"\"\"\n",
    "\n",
    "    RECOMMENDER_NAME = \"LightFMItemHybridRecommender\"\n",
    "    \n",
    "    def __init__(self, URM_train, ICM_train):\n",
    "        super(LightFMItemHybridRecommender, self).__init__(URM_train, ICM_train)\n",
    "\n",
    "        # Need to hstack item_features to ensure each ItemIDs are present in the model\n",
    "        eye = sps.eye(self.n_items, self.n_items).tocsr()\n",
    "        self.ICM_train = sps.hstack((eye, self.ICM_train)).tocsr()"
   ],
   "metadata": {
    "execution": {
     "iopub.status.busy": "2022-11-23T16:40:15.828238Z",
     "iopub.execute_input": "2022-11-23T16:40:15.828720Z",
     "iopub.status.idle": "2022-11-23T16:40:15.836951Z",
     "shell.execute_reply.started": "2022-11-23T16:40:15.828674Z",
     "shell.execute_reply": "2022-11-23T16:40:15.835517Z"
    },
    "trusted": true
   },
   "execution_count": 33,
   "outputs": []
  },
  {
   "cell_type": "code",
   "source": [
    "recommender = LightFMItemHybridRecommender(URM_train, ICM_type)\n",
    "recommender.fit(epochs = 10)\n",
    "\n",
    "result_df, _ = evaluator_validation.evaluateRecommender(recommender)\n",
    "result_df"
   ],
   "metadata": {
    "execution": {
     "iopub.status.busy": "2022-11-23T16:40:17.396438Z",
     "iopub.execute_input": "2022-11-23T16:40:17.397213Z",
     "iopub.status.idle": "2022-11-23T16:40:17.470828Z",
     "shell.execute_reply.started": "2022-11-23T16:40:17.397172Z",
     "shell.execute_reply": "2022-11-23T16:40:17.469068Z"
    },
    "trusted": true
   },
   "execution_count": 34,
   "outputs": [
    {
     "traceback": [
      "\u001B[0;31m---------------------------------------------------------------------------\u001B[0m",
      "\u001B[0;31mValueError\u001B[0m                                Traceback (most recent call last)",
      "\u001B[0;32m/tmp/ipykernel_27/1778936187.py\u001B[0m in \u001B[0;36m<module>\u001B[0;34m\u001B[0m\n\u001B[0;32m----> 1\u001B[0;31m \u001B[0mrecommender\u001B[0m \u001B[0;34m=\u001B[0m \u001B[0mLightFMItemHybridRecommender\u001B[0m\u001B[0;34m(\u001B[0m\u001B[0mURM_train\u001B[0m\u001B[0;34m,\u001B[0m \u001B[0mICM_type\u001B[0m\u001B[0;34m)\u001B[0m\u001B[0;34m\u001B[0m\u001B[0;34m\u001B[0m\u001B[0m\n\u001B[0m\u001B[1;32m      2\u001B[0m \u001B[0mrecommender\u001B[0m\u001B[0;34m.\u001B[0m\u001B[0mfit\u001B[0m\u001B[0;34m(\u001B[0m\u001B[0mepochs\u001B[0m \u001B[0;34m=\u001B[0m \u001B[0;36m10\u001B[0m\u001B[0;34m)\u001B[0m\u001B[0;34m\u001B[0m\u001B[0;34m\u001B[0m\u001B[0m\n\u001B[1;32m      3\u001B[0m \u001B[0;34m\u001B[0m\u001B[0m\n\u001B[1;32m      4\u001B[0m \u001B[0mresult_df\u001B[0m\u001B[0;34m,\u001B[0m \u001B[0m_\u001B[0m \u001B[0;34m=\u001B[0m \u001B[0mevaluator_validation\u001B[0m\u001B[0;34m.\u001B[0m\u001B[0mevaluateRecommender\u001B[0m\u001B[0;34m(\u001B[0m\u001B[0mrecommender\u001B[0m\u001B[0;34m)\u001B[0m\u001B[0;34m\u001B[0m\u001B[0;34m\u001B[0m\u001B[0m\n\u001B[1;32m      5\u001B[0m \u001B[0mresult_df\u001B[0m\u001B[0;34m\u001B[0m\u001B[0;34m\u001B[0m\u001B[0m\n",
      "\u001B[0;32m/tmp/ipykernel_27/1528921052.py\u001B[0m in \u001B[0;36m__init__\u001B[0;34m(self, URM_train, ICM_train)\u001B[0m\n\u001B[1;32m     11\u001B[0m         \u001B[0;31m# Need to hstack item_features to ensure each ItemIDs are present in the model\u001B[0m\u001B[0;34m\u001B[0m\u001B[0;34m\u001B[0m\u001B[0;34m\u001B[0m\u001B[0m\n\u001B[1;32m     12\u001B[0m         \u001B[0meye\u001B[0m \u001B[0;34m=\u001B[0m \u001B[0msps\u001B[0m\u001B[0;34m.\u001B[0m\u001B[0meye\u001B[0m\u001B[0;34m(\u001B[0m\u001B[0mself\u001B[0m\u001B[0;34m.\u001B[0m\u001B[0mn_items\u001B[0m\u001B[0;34m,\u001B[0m \u001B[0mself\u001B[0m\u001B[0;34m.\u001B[0m\u001B[0mn_items\u001B[0m\u001B[0;34m)\u001B[0m\u001B[0;34m.\u001B[0m\u001B[0mtocsr\u001B[0m\u001B[0;34m(\u001B[0m\u001B[0;34m)\u001B[0m\u001B[0;34m\u001B[0m\u001B[0;34m\u001B[0m\u001B[0m\n\u001B[0;32m---> 13\u001B[0;31m         \u001B[0mself\u001B[0m\u001B[0;34m.\u001B[0m\u001B[0mICM_train\u001B[0m \u001B[0;34m=\u001B[0m \u001B[0msps\u001B[0m\u001B[0;34m.\u001B[0m\u001B[0mhstack\u001B[0m\u001B[0;34m(\u001B[0m\u001B[0;34m(\u001B[0m\u001B[0meye\u001B[0m\u001B[0;34m,\u001B[0m \u001B[0mself\u001B[0m\u001B[0;34m.\u001B[0m\u001B[0mICM_train\u001B[0m\u001B[0;34m)\u001B[0m\u001B[0;34m)\u001B[0m\u001B[0;34m.\u001B[0m\u001B[0mtocsr\u001B[0m\u001B[0;34m(\u001B[0m\u001B[0;34m)\u001B[0m\u001B[0;34m\u001B[0m\u001B[0;34m\u001B[0m\u001B[0m\n\u001B[0m",
      "\u001B[0;32m/opt/conda/lib/python3.7/site-packages/scipy/sparse/construct.py\u001B[0m in \u001B[0;36mhstack\u001B[0;34m(blocks, format, dtype)\u001B[0m\n\u001B[1;32m    465\u001B[0m \u001B[0;34m\u001B[0m\u001B[0m\n\u001B[1;32m    466\u001B[0m     \"\"\"\n\u001B[0;32m--> 467\u001B[0;31m     \u001B[0;32mreturn\u001B[0m \u001B[0mbmat\u001B[0m\u001B[0;34m(\u001B[0m\u001B[0;34m[\u001B[0m\u001B[0mblocks\u001B[0m\u001B[0;34m]\u001B[0m\u001B[0;34m,\u001B[0m \u001B[0mformat\u001B[0m\u001B[0;34m=\u001B[0m\u001B[0mformat\u001B[0m\u001B[0;34m,\u001B[0m \u001B[0mdtype\u001B[0m\u001B[0;34m=\u001B[0m\u001B[0mdtype\u001B[0m\u001B[0;34m)\u001B[0m\u001B[0;34m\u001B[0m\u001B[0;34m\u001B[0m\u001B[0m\n\u001B[0m\u001B[1;32m    468\u001B[0m \u001B[0;34m\u001B[0m\u001B[0m\n\u001B[1;32m    469\u001B[0m \u001B[0;34m\u001B[0m\u001B[0m\n",
      "\u001B[0;32m/opt/conda/lib/python3.7/site-packages/scipy/sparse/construct.py\u001B[0m in \u001B[0;36mbmat\u001B[0;34m(blocks, format, dtype)\u001B[0m\n\u001B[1;32m    586\u001B[0m                                                     \u001B[0mexp\u001B[0m\u001B[0;34m=\u001B[0m\u001B[0mbrow_lengths\u001B[0m\u001B[0;34m[\u001B[0m\u001B[0mi\u001B[0m\u001B[0;34m]\u001B[0m\u001B[0;34m,\u001B[0m\u001B[0;34m\u001B[0m\u001B[0;34m\u001B[0m\u001B[0m\n\u001B[1;32m    587\u001B[0m                                                     got=A.shape[0]))\n\u001B[0;32m--> 588\u001B[0;31m                     \u001B[0;32mraise\u001B[0m \u001B[0mValueError\u001B[0m\u001B[0;34m(\u001B[0m\u001B[0mmsg\u001B[0m\u001B[0;34m)\u001B[0m\u001B[0;34m\u001B[0m\u001B[0;34m\u001B[0m\u001B[0m\n\u001B[0m\u001B[1;32m    589\u001B[0m \u001B[0;34m\u001B[0m\u001B[0m\n\u001B[1;32m    590\u001B[0m                 \u001B[0;32mif\u001B[0m \u001B[0mbcol_lengths\u001B[0m\u001B[0;34m[\u001B[0m\u001B[0mj\u001B[0m\u001B[0;34m]\u001B[0m \u001B[0;34m==\u001B[0m \u001B[0;36m0\u001B[0m\u001B[0;34m:\u001B[0m\u001B[0;34m\u001B[0m\u001B[0;34m\u001B[0m\u001B[0m\n",
      "\u001B[0;31mValueError\u001B[0m: blocks[0,:] has incompatible row dimensions. Got blocks[0,1].shape[0] == 27968, expected 24507."
     ],
     "ename": "ValueError",
     "evalue": "blocks[0,:] has incompatible row dimensions. Got blocks[0,1].shape[0] == 27968, expected 24507.",
     "output_type": "error"
    }
   ]
  }
 ]
}
