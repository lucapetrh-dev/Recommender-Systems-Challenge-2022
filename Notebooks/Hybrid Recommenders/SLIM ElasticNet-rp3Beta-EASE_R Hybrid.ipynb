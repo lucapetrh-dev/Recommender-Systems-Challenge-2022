{
 "cells": [
  {
   "cell_type": "code",
   "execution_count": 1,
   "id": "5dce83bd",
   "metadata": {
    "_cell_guid": "b1076dfc-b9ad-4769-8c92-a6c4dae69d19",
    "_uuid": "8f2839f25d086af736a60e9eeb907d3b93b6e0e5",
    "execution": {
     "iopub.execute_input": "2023-01-15T12:31:51.512972Z",
     "iopub.status.busy": "2023-01-15T12:31:51.512448Z",
     "iopub.status.idle": "2023-01-15T12:32:04.815435Z",
     "shell.execute_reply": "2023-01-15T12:32:04.813236Z"
    },
    "papermill": {
     "duration": 13.315912,
     "end_time": "2023-01-15T12:32:04.819872",
     "exception": false,
     "start_time": "2023-01-15T12:31:51.503960",
     "status": "completed"
    },
    "tags": []
   },
   "outputs": [
    {
     "name": "stdout",
     "output_type": "stream",
     "text": [
      "Cloning into 'Recommender-Systems-Challenge-2022'...\r\n",
      "remote: Enumerating objects: 619, done.\u001B[K\r\n",
      "remote: Counting objects: 100% (215/215), done.\u001B[K\r\n",
      "remote: Compressing objects: 100% (162/162), done.\u001B[K\r\n",
      "remote: Total 619 (delta 107), reused 139 (delta 52), pack-reused 404\u001B[K\r\n",
      "Receiving objects: 100% (619/619), 106.18 MiB | 19.28 MiB/s, done.\r\n",
      "Resolving deltas: 100% (279/279), done.\r\n",
      "Updating files: 100% (254/254), done.\r\n"
     ]
    }
   ],
   "source": [
    "import pandas as pd\n",
    "import numpy as np\n",
    "import scipy.sparse as sps\n",
    "import matplotlib.pyplot as pyplot\n",
    "\n",
    "from Evaluation.Evaluator import EvaluatorHoldout\n",
    "from Data_manager.split_functions.split_train_validation_random_holdout import split_train_in_two_percentage_global_sample\n",
    "from Utils.DataReader import load_urm, load_icm, load_target"
   ]
  },
  {
   "cell_type": "code",
   "execution_count": 2,
   "id": "cbf09dc7",
   "metadata": {
    "execution": {
     "iopub.execute_input": "2023-01-15T12:32:04.838272Z",
     "iopub.status.busy": "2023-01-15T12:32:04.837652Z",
     "iopub.status.idle": "2023-01-15T12:32:05.514395Z",
     "shell.execute_reply": "2023-01-15T12:32:05.512987Z"
    },
    "papermill": {
     "duration": 0.688956,
     "end_time": "2023-01-15T12:32:05.517360",
     "exception": false,
     "start_time": "2023-01-15T12:32:04.828404",
     "status": "completed"
    },
    "tags": []
   },
   "outputs": [
    {
     "name": "stdout",
     "output_type": "stream",
     "text": [
      "EvaluatorHoldout: Ignoring 1541 ( 3.7%) Users that have less than 1 test interactions\n",
      "EvaluatorHoldout: Ignoring 958 ( 2.3%) Users that have less than 1 test interactions\n"
     ]
    }
   ],
   "source": [
    "URM_all = load_urm()\n",
    "\n",
    "#URM_train, URM_test = split_train_in_two_percentage_global_sample(URM_all, train_percentage = 0.85)\n",
    "#URM_train, URM_validation = split_train_in_two_percentage_global_sample(URM_train, train_percentage = 0.85)\n",
    "URM_train = sps.load_npz('Dataset/Split/URM_train.npz')\n",
    "URM_test =  sps.load_npz('Dataset/Split/URM_test.npz')\n",
    "URM_validation = sps.load_npz('Dataset/Split/URM_validation.npz')\n",
    "\n",
    "evaluator_validation = EvaluatorHoldout(URM_validation, cutoff_list=[10])\n",
    "evaluator_test = EvaluatorHoldout(URM_test, cutoff_list=[10])"
   ]
  },
  {
   "cell_type": "code",
   "execution_count": 3,
   "id": "ae226273",
   "metadata": {
    "execution": {
     "iopub.execute_input": "2023-01-15T12:32:05.538372Z",
     "iopub.status.busy": "2023-01-15T12:32:05.537503Z",
     "iopub.status.idle": "2023-01-15T13:18:41.494040Z",
     "shell.execute_reply": "2023-01-15T13:18:41.492453Z"
    },
    "papermill": {
     "duration": 2795.971422,
     "end_time": "2023-01-15T13:18:41.497056",
     "exception": false,
     "start_time": "2023-01-15T12:32:05.525634",
     "status": "completed"
    },
    "tags": []
   },
   "outputs": [
    {
     "name": "stdout",
     "output_type": "stream",
     "text": [
      "SLIMElasticNetRecommender: Processed 2472 (10.1%) in 5.00 min. Items per second: 8.24\n",
      "SLIMElasticNetRecommender: Processed 5070 (20.7%) in 10.00 min. Items per second: 8.45\n",
      "SLIMElasticNetRecommender: Processed 7747 (31.6%) in 15.00 min. Items per second: 8.60\n",
      "SLIMElasticNetRecommender: Processed 10418 (42.5%) in 20.00 min. Items per second: 8.68\n",
      "SLIMElasticNetRecommender: Processed 13081 (53.4%) in 25.00 min. Items per second: 8.72\n",
      "SLIMElasticNetRecommender: Processed 15721 (64.1%) in 30.01 min. Items per second: 8.73\n",
      "SLIMElasticNetRecommender: Processed 18343 (74.8%) in 35.01 min. Items per second: 8.73\n",
      "SLIMElasticNetRecommender: Processed 20985 (85.6%) in 40.01 min. Items per second: 8.74\n",
      "SLIMElasticNetRecommender: Processed 23651 (96.5%) in 45.01 min. Items per second: 8.76\n",
      "SLIMElasticNetRecommender: Processed 24507 (100.0%) in 46.56 min. Items per second: 8.77\n"
     ]
    }
   ],
   "source": [
    "from Recommenders.SLIM.SLIMElasticNetRecommender import SLIMElasticNetRecommender\n",
    "\n",
    "recommender_SLIMElasticNet = SLIMElasticNetRecommender(URM_all)\n",
    "recommender_SLIMElasticNet.fit(topK=585, l1_ratio=0.009929794168572358, alpha=0.0018687691383859428)"
   ]
  },
  {
   "cell_type": "code",
   "execution_count": 4,
   "id": "bbcd4739",
   "metadata": {
    "execution": {
     "iopub.execute_input": "2023-01-15T13:18:41.515488Z",
     "iopub.status.busy": "2023-01-15T13:18:41.515065Z",
     "iopub.status.idle": "2023-01-15T13:29:46.786226Z",
     "shell.execute_reply": "2023-01-15T13:29:46.785004Z"
    },
    "papermill": {
     "duration": 665.284751,
     "end_time": "2023-01-15T13:29:46.790117",
     "exception": false,
     "start_time": "2023-01-15T13:18:41.505366",
     "status": "completed"
    },
    "tags": []
   },
   "outputs": [
    {
     "name": "stdout",
     "output_type": "stream",
     "text": [
      "EASE_R_Recommender: Fitting model... \n",
      "EASE_R_Recommender: Fitting model... done in 11.06 min\n"
     ]
    }
   ],
   "source": [
    "from Recommenders.EASE_R.EASE_R_Recommender import EASE_R_Recommender\n",
    "\n",
    "recommender_EaseR = EASE_R_Recommender(URM_all)\n",
    "recommender_EaseR.fit(topK=None, normalize_matrix=False, l2_norm=225.7403645195658)"
   ]
  },
  {
   "cell_type": "code",
   "execution_count": 5,
   "id": "81692544",
   "metadata": {
    "execution": {
     "iopub.execute_input": "2023-01-15T13:29:46.808649Z",
     "iopub.status.busy": "2023-01-15T13:29:46.808216Z",
     "iopub.status.idle": "2023-01-15T13:30:13.599891Z",
     "shell.execute_reply": "2023-01-15T13:30:13.597981Z"
    },
    "papermill": {
     "duration": 26.804353,
     "end_time": "2023-01-15T13:30:13.603054",
     "exception": false,
     "start_time": "2023-01-15T13:29:46.798701",
     "status": "completed"
    },
    "tags": []
   },
   "outputs": [
    {
     "name": "stdout",
     "output_type": "stream",
     "text": [
      "RP3betaRecommender: Similarity column 24507 (100.0%), 960.34 column/sec. Elapsed time 25.52 sec\n"
     ]
    }
   ],
   "source": [
    "from Recommenders.GraphBased.RP3betaRecommender import RP3betaRecommender\n",
    "\n",
    "recommender_RP3beta = RP3betaRecommender(URM_all)\n",
    "recommender_RP3beta.fit(alpha=0.6949339074999242, beta=0.2853519331891143, topK=59, implicit=True)"
   ]
  },
  {
   "cell_type": "code",
   "execution_count": 6,
   "id": "d5043fe9",
   "metadata": {
    "execution": {
     "iopub.execute_input": "2023-01-15T13:30:13.626711Z",
     "iopub.status.busy": "2023-01-15T13:30:13.624178Z",
     "iopub.status.idle": "2023-01-15T13:32:44.002513Z",
     "shell.execute_reply": "2023-01-15T13:32:44.000990Z"
    },
    "papermill": {
     "duration": 150.391935,
     "end_time": "2023-01-15T13:32:44.005162",
     "exception": false,
     "start_time": "2023-01-15T13:30:13.613227",
     "status": "completed"
    },
    "tags": []
   },
   "outputs": [
    {
     "name": "stdout",
     "output_type": "stream",
     "text": [
      "MAP of the starting models\n",
      "EvaluatorHoldout: Processed 40088 (100.0%) in 55.43 sec. Users per second: 723\n",
      "SLIM ElasticNet - MAP: 0.0\n",
      "EvaluatorHoldout: Processed 40088 (100.0%) in 32.89 sec. Users per second: 1219\n",
      "RP3beta - MAP: 0.0\n",
      "EvaluatorHoldout: Processed 40088 (100.0%) in 1.03 min. Users per second: 647\n",
      "EaseR - MAP: 0.0\n"
     ]
    }
   ],
   "source": [
    "print(\"MAP of the starting models\")\n",
    "\n",
    "result_df, _ = evaluator_validation.evaluateRecommender(recommender_SLIMElasticNet)\n",
    "print(\"SLIM ElasticNet - MAP: {}\".format(result_df.loc[10][\"MAP\"]))\n",
    "\n",
    "result_df, _ = evaluator_validation.evaluateRecommender(recommender_RP3beta)\n",
    "print(\"RP3beta - MAP: {}\".format(result_df.loc[10][\"MAP\"]))\n",
    "\n",
    "result_df, _ = evaluator_validation.evaluateRecommender(recommender_EaseR)\n",
    "print(\"EaseR - MAP: {}\".format(result_df.loc[10][\"MAP\"]))"
   ]
  },
  {
   "cell_type": "code",
   "execution_count": 7,
   "id": "bd5c3c76",
   "metadata": {
    "execution": {
     "iopub.execute_input": "2023-01-15T13:32:44.025750Z",
     "iopub.status.busy": "2023-01-15T13:32:44.024927Z",
     "iopub.status.idle": "2023-01-15T13:32:44.038889Z",
     "shell.execute_reply": "2023-01-15T13:32:44.037621Z"
    },
    "papermill": {
     "duration": 0.027863,
     "end_time": "2023-01-15T13:32:44.041844",
     "exception": false,
     "start_time": "2023-01-15T13:32:44.013981",
     "status": "completed"
    },
    "tags": []
   },
   "outputs": [],
   "source": [
    "from numpy import linalg as LA\n",
    "from Recommenders.BaseRecommender import BaseRecommender\n",
    "\n",
    "class DifferentLossScoresHybridRecommender(BaseRecommender):\n",
    "    \"\"\" ScoresHybridRecommender\n",
    "    Hybrid of three predictions scores\n",
    "    R = R1*alpha + R2*beta + R3*(1-alpha-beta)\n",
    "    \n",
    "    Class from Dacrema exercise modified by Antonio Ercolani\n",
    "    The original took as input 2 recommender\n",
    "\n",
    "    \"\"\"\n",
    "\n",
    "    RECOMMENDER_NAME = \"DifferentLossScoresHybridRecommender\"\n",
    "\n",
    "\n",
    "    def __init__(self, URM_train, recommender_1, recommender_2, recommender_3):\n",
    "        super(DifferentLossScoresHybridRecommender, self).__init__(URM_train)\n",
    "\n",
    "        self.URM_train = sps.csr_matrix(URM_train)\n",
    "        self.recommender_1 = recommender_1\n",
    "        self.recommender_2 = recommender_2\n",
    "        self.recommender_3 = recommender_3\n",
    "        \n",
    "        \n",
    "        \n",
    "    def fit(self, norm, alpha = 0.5, beta = 0.5):\n",
    "\n",
    "        self.alpha = alpha\n",
    "        self.beta = beta\n",
    "        self.norm = norm\n",
    "\n",
    "\n",
    "    def _compute_item_score(self, user_id_array, items_to_compute):\n",
    "        \n",
    "        item_weights_1 = self.recommender_1._compute_item_score(user_id_array)\n",
    "        item_weights_2 = self.recommender_2._compute_item_score(user_id_array)\n",
    "        item_weights_3 = self.recommender_3._compute_item_score(user_id_array)\n",
    "\n",
    "        norm_item_weights_1 = LA.norm(item_weights_1, self.norm)\n",
    "        norm_item_weights_2 = LA.norm(item_weights_2, self.norm)\n",
    "        norm_item_weights_3 = LA.norm(item_weights_3, self.norm)\n",
    "        \n",
    "        \n",
    "        if norm_item_weights_1 == 0:\n",
    "            raise ValueError(\"Norm {} of item weights for recommender 1 is zero. Avoiding division by zero\".format(self.norm))\n",
    "        \n",
    "        if norm_item_weights_2 == 0:\n",
    "            raise ValueError(\"Norm {} of item weights for recommender 2 is zero. Avoiding division by zero\".format(self.norm))\n",
    "            \n",
    "        if norm_item_weights_3 == 0:\n",
    "            raise ValueError(\"Norm {} of item weights for recommender 3 is zero. Avoiding division by zero\".format(self.norm))\n",
    "        \n",
    "        item_weights = item_weights_1 / norm_item_weights_1 * (1.5 * self.alpha) + item_weights_2 / norm_item_weights_2 * self.beta + item_weights_3 / norm_item_weights_3 * (1-self.alpha-self.beta)\n",
    "\n",
    "        return item_weights"
   ]
  },
  {
   "cell_type": "code",
   "execution_count": 8,
   "id": "db14a4f6",
   "metadata": {
    "execution": {
     "iopub.execute_input": "2023-01-15T13:32:44.064115Z",
     "iopub.status.busy": "2023-01-15T13:32:44.063645Z",
     "iopub.status.idle": "2023-01-15T13:32:44.121658Z",
     "shell.execute_reply": "2023-01-15T13:32:44.120385Z"
    },
    "papermill": {
     "duration": 0.073622,
     "end_time": "2023-01-15T13:32:44.124484",
     "exception": false,
     "start_time": "2023-01-15T13:32:44.050862",
     "status": "completed"
    },
    "tags": []
   },
   "outputs": [],
   "source": [
    "recommender = DifferentLossScoresHybridRecommender(URM_all, recommender_SLIMElasticNet, recommender_EaseR, recommender_RP3beta)\n",
    "recommender.fit(norm=1, alpha = 0.4, beta = 0.4)"
   ]
  },
  {
   "cell_type": "markdown",
   "id": "ab4bb83c",
   "metadata": {
    "papermill": {
     "duration": 0.009569,
     "end_time": "2023-01-15T13:32:44.144505",
     "exception": false,
     "start_time": "2023-01-15T13:32:44.134936",
     "status": "completed"
    },
    "tags": []
   },
   "source": [
    "## Submissions"
   ]
  },
  {
   "cell_type": "code",
   "execution_count": 9,
   "id": "7c462b1e",
   "metadata": {
    "execution": {
     "iopub.execute_input": "2023-01-15T13:32:44.176723Z",
     "iopub.status.busy": "2023-01-15T13:32:44.175482Z",
     "iopub.status.idle": "2023-01-15T13:32:44.190107Z",
     "shell.execute_reply": "2023-01-15T13:32:44.188979Z"
    },
    "papermill": {
     "duration": 0.0362,
     "end_time": "2023-01-15T13:32:44.193693",
     "exception": false,
     "start_time": "2023-01-15T13:32:44.157493",
     "status": "completed"
    },
    "tags": []
   },
   "outputs": [],
   "source": [
    "test_users = pd.read_csv('Dataset/data_target_users_test.csv')"
   ]
  },
  {
   "cell_type": "code",
   "execution_count": 10,
   "id": "589cff36",
   "metadata": {
    "execution": {
     "iopub.execute_input": "2023-01-15T13:32:44.223442Z",
     "iopub.status.busy": "2023-01-15T13:32:44.222934Z",
     "iopub.status.idle": "2023-01-15T13:34:39.566949Z",
     "shell.execute_reply": "2023-01-15T13:34:39.565627Z"
    },
    "papermill": {
     "duration": 115.362969,
     "end_time": "2023-01-15T13:34:39.570220",
     "exception": false,
     "start_time": "2023-01-15T13:32:44.207251",
     "status": "completed"
    },
    "tags": []
   },
   "outputs": [],
   "source": [
    "user_id = test_users['user_id']\n",
    "recommendations = []\n",
    "for user in user_id:\n",
    "    recommendations.append(recommender.recommend(user, cutoff=10))"
   ]
  },
  {
   "cell_type": "code",
   "execution_count": 11,
   "id": "53b9e0b0",
   "metadata": {
    "execution": {
     "iopub.execute_input": "2023-01-15T13:34:39.591002Z",
     "iopub.status.busy": "2023-01-15T13:34:39.590580Z",
     "iopub.status.idle": "2023-01-15T13:34:42.362561Z",
     "shell.execute_reply": "2023-01-15T13:34:42.361497Z"
    },
    "papermill": {
     "duration": 2.785539,
     "end_time": "2023-01-15T13:34:42.365634",
     "exception": false,
     "start_time": "2023-01-15T13:34:39.580095",
     "status": "completed"
    },
    "tags": []
   },
   "outputs": [],
   "source": [
    "for index in range(len(recommendations)):\n",
    "    recommendations[index]=np.array(recommendations[index])\n",
    "\n",
    "test_users['item_list']= recommendations\n",
    "test_users['item_list'] = pd.DataFrame([str(line).strip('[').strip(']').replace(\"'\",\"\") for line in test_users['item_list']])\n",
    "test_users.to_csv('Submissions/Submission_SLIM_EN_rp3Beta_EaseR_Linear.csv', index=False)"
   ]
  }
 ],
 "metadata": {
  "kernelspec": {
   "display_name": "Python 3",
   "language": "python",
   "name": "python3"
  },
  "language_info": {
   "codemirror_mode": {
    "name": "ipython",
    "version": 3
   },
   "file_extension": ".py",
   "mimetype": "text/x-python",
   "name": "python",
   "nbconvert_exporter": "python",
   "pygments_lexer": "ipython3",
   "version": "3.7.12"
  },
  "papermill": {
   "default_parameters": {},
   "duration": 3783.893705,
   "end_time": "2023-01-15T13:34:43.410553",
   "environment_variables": {},
   "exception": null,
   "input_path": "__notebook__.ipynb",
   "output_path": "__notebook__.ipynb",
   "parameters": {},
   "start_time": "2023-01-15T12:31:39.516848",
   "version": "2.3.4"
  }
 },
 "nbformat": 4,
 "nbformat_minor": 5
}
