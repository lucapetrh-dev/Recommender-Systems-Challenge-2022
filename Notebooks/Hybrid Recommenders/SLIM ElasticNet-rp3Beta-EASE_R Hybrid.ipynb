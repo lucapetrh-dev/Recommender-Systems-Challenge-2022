{
 "metadata": {
  "kernelspec": {
   "language": "python",
   "display_name": "Python 3",
   "name": "python3"
  },
  "language_info": {
   "name": "python",
   "version": "3.7.12",
   "mimetype": "text/x-python",
   "codemirror_mode": {
    "name": "ipython",
    "version": 3
   },
   "pygments_lexer": "ipython3",
   "nbconvert_exporter": "python",
   "file_extension": ".py"
  }
 },
 "nbformat_minor": 4,
 "nbformat": 4,
 "cells": [
  {
   "cell_type": "code",
   "source": [
    "import pandas as pd\n",
    "import numpy as np\n",
    "import scipy.sparse as sps\n",
    "import matplotlib.pyplot as pyplot\n",
    "\n",
    "from Evaluation.Evaluator import EvaluatorHoldout\n",
    "from Data_manager.split_functions.split_train_validation_random_holdout import split_train_in_two_percentage_global_sample\n",
    "from Utils.DataReader import load_urm, load_icm, load_target"
   ],
   "metadata": {
    "_uuid": "8f2839f25d086af736a60e9eeb907d3b93b6e0e5",
    "_cell_guid": "b1076dfc-b9ad-4769-8c92-a6c4dae69d19",
    "execution": {
     "iopub.status.busy": "2022-11-30T15:43:16.908556Z",
     "iopub.execute_input": "2022-11-30T15:43:16.909453Z",
     "iopub.status.idle": "2022-11-30T15:43:30.478558Z",
     "shell.execute_reply.started": "2022-11-30T15:43:16.909345Z",
     "shell.execute_reply": "2022-11-30T15:43:30.476847Z"
    },
    "trusted": true
   },
   "execution_count": 1,
   "outputs": [
    {
     "name": "stdout",
     "text": "Cloning into 'Recommender-Systems-Challenge-2022'...\nremote: Enumerating objects: 547, done.\u001B[K\nremote: Counting objects: 100% (143/143), done.\u001B[K\nremote: Compressing objects: 100% (100/100), done.\u001B[K\nremote: Total 547 (delta 76), reused 92 (delta 42), pack-reused 404\u001B[K\nReceiving objects: 100% (547/547), 90.69 MiB | 12.05 MiB/s, done.\nResolving deltas: 100% (248/248), done.\nUpdating files: 100% (228/228), done.\n",
     "output_type": "stream"
    }
   ]
  },
  {
   "cell_type": "code",
   "source": [
    "URM_all = load_urm()\n",
    "\n",
    "URM_train, URM_test = split_train_in_two_percentage_global_sample(URM_all, train_percentage = 0.85)\n",
    "URM_train, URM_validation = split_train_in_two_percentage_global_sample(URM_train, train_percentage = 0.85)\n",
    "\n",
    "evaluator_validation = EvaluatorHoldout(URM_validation, cutoff_list=[10])\n",
    "evaluator_test = EvaluatorHoldout(URM_test, cutoff_list=[10])"
   ],
   "metadata": {
    "execution": {
     "iopub.status.busy": "2022-11-30T15:43:30.481786Z",
     "iopub.execute_input": "2022-11-30T15:43:30.482309Z",
     "iopub.status.idle": "2022-11-30T15:43:36.805587Z",
     "shell.execute_reply.started": "2022-11-30T15:43:30.482259Z",
     "shell.execute_reply": "2022-11-30T15:43:36.804112Z"
    },
    "trusted": true
   },
   "execution_count": 2,
   "outputs": [
    {
     "name": "stdout",
     "text": "Warning: 903 (2.17 %) of 41629 users have no sampled items\nWarning: 1582 (3.80 %) of 41629 users have no sampled items\nEvaluatorHoldout: Ignoring 1582 ( 3.8%) Users that have less than 1 test interactions\nEvaluatorHoldout: Ignoring 903 ( 2.2%) Users that have less than 1 test interactions\n",
     "output_type": "stream"
    }
   ]
  },
  {
   "cell_type": "code",
   "source": [
    "from Recommenders.SLIM.SLIMElasticNetRecommender import SLIMElasticNetRecommender\n",
    "\n",
    "recommender_SLIMElasticNet = SLIMElasticNetRecommender(URM_all)\n",
    "#recommender_SLIMElasticNet.fit(topK=405, l1_ratio=0.0010299956370568744, alpha=0.01) old values\n",
    "recommender_SLIMElasticNet.fit(topK=306, l1_ratio=0.0035658486108087256, alpha=0.004181961739488717)"
   ],
   "metadata": {
    "execution": {
     "iopub.status.busy": "2022-11-30T15:43:36.807202Z",
     "iopub.execute_input": "2022-11-30T15:43:36.807621Z",
     "iopub.status.idle": "2022-11-30T16:36:06.992901Z",
     "shell.execute_reply.started": "2022-11-30T15:43:36.807583Z",
     "shell.execute_reply": "2022-11-30T16:36:06.991858Z"
    },
    "trusted": true
   },
   "execution_count": 3,
   "outputs": [
    {
     "name": "stdout",
     "text": "SLIMElasticNetRecommender: Processed 2122 ( 8.7%) in 5.00 min. Items per second: 7.07\nSLIMElasticNetRecommender: Processed 4349 (17.7%) in 10.00 min. Items per second: 7.24\nSLIMElasticNetRecommender: Processed 6654 (27.2%) in 15.01 min. Items per second: 7.39\nSLIMElasticNetRecommender: Processed 8978 (36.6%) in 20.01 min. Items per second: 7.48\nSLIMElasticNetRecommender: Processed 11351 (46.3%) in 25.01 min. Items per second: 7.56\nSLIMElasticNetRecommender: Processed 13721 (56.0%) in 30.01 min. Items per second: 7.62\nSLIMElasticNetRecommender: Processed 16089 (65.7%) in 35.01 min. Items per second: 7.66\nSLIMElasticNetRecommender: Processed 18460 (75.3%) in 40.01 min. Items per second: 7.69\nSLIMElasticNetRecommender: Processed 23278 (95.0%) in 50.01 min. Items per second: 7.76\nSLIMElasticNetRecommender: Processed 24507 (100.0%) in 52.48 min. Items per second: 7.78\n",
     "output_type": "stream"
    }
   ]
  },
  {
   "cell_type": "code",
   "source": [
    "from Recommenders.GraphBased.RP3betaRecommender import RP3betaRecommender\n",
    "\n",
    "recommender_RP3beta = RP3betaRecommender(URM_all)\n",
    "recommender_RP3beta.fit(alpha=0.3196900461986604, beta=0.3530045735373658, topK=44, implicit=False)\n",
    "#recommender_RP3beta.fit(alpha=0.08934428697754494, beta=0.15025275671838492, topK=132, implicit=True)\n",
    "#recommender_RP3beta.fit(topK=167, alpha=1.0, beta=0.4520495673133021, implicit=True) old"
   ],
   "metadata": {
    "execution": {
     "iopub.status.busy": "2022-11-30T16:36:06.995594Z",
     "iopub.execute_input": "2022-11-30T16:36:06.996024Z",
     "iopub.status.idle": "2022-11-30T16:36:31.402383Z",
     "shell.execute_reply.started": "2022-11-30T16:36:06.995986Z",
     "shell.execute_reply": "2022-11-30T16:36:31.400944Z"
    },
    "trusted": true
   },
   "execution_count": 4,
   "outputs": [
    {
     "name": "stdout",
     "text": "RP3betaRecommender: Similarity column 24507 (100.0%), 1044.98 column/sec. Elapsed time 23.45 sec\n",
     "output_type": "stream"
    }
   ]
  },
  {
   "cell_type": "code",
   "source": [
    "from Recommenders.EASE_R.EASE_R_Recommender import EASE_R_Recommender\n",
    "\n",
    "recommender_EaseR = EASE_R_Recommender(URM_all)\n",
    "recommender_EaseR.fit(l2_norm=249.36129021601147)"
   ],
   "metadata": {
    "execution": {
     "iopub.status.busy": "2022-11-30T16:36:31.403988Z",
     "iopub.execute_input": "2022-11-30T16:36:31.404328Z",
     "iopub.status.idle": "2022-11-30T16:47:37.714003Z",
     "shell.execute_reply.started": "2022-11-30T16:36:31.404299Z",
     "shell.execute_reply": "2022-11-30T16:47:37.711077Z"
    },
    "trusted": true
   },
   "execution_count": 5,
   "outputs": [
    {
     "name": "stdout",
     "text": "EASE_R_Recommender: Fitting model... \nEASE_R_Recommender: Fitting model... done in 11.07 min\n",
     "output_type": "stream"
    }
   ]
  },
  {
   "cell_type": "code",
   "source": [
    "print(\"MAP of the starting models\")\n",
    "\n",
    "result_df, _ = evaluator_test.evaluateRecommender(recommender_SLIMElasticNet)\n",
    "print(\"SLIM ElasticNet - MAP: {}\".format(result_df.loc[10][\"MAP\"]))\n",
    "\n",
    "result_df, _ = evaluator_test.evaluateRecommender(recommender_RP3beta)\n",
    "print(\"RP3beta - MAP: {}\".format(result_df.loc[10][\"MAP\"]))\n",
    "\n",
    "result_df, _ = evaluator_test.evaluateRecommender(recommender_EaseR)\n",
    "print(\"EASE_R - MAP: {}\".format(result_df.loc[10][\"MAP\"]))"
   ],
   "metadata": {
    "execution": {
     "iopub.status.busy": "2022-11-30T16:47:37.717006Z",
     "iopub.execute_input": "2022-11-30T16:47:37.717608Z",
     "iopub.status.idle": "2022-11-30T16:50:05.443046Z",
     "shell.execute_reply.started": "2022-11-30T16:47:37.717548Z",
     "shell.execute_reply": "2022-11-30T16:50:05.441178Z"
    },
    "trusted": true
   },
   "execution_count": 6,
   "outputs": [
    {
     "name": "stdout",
     "text": "MAP of the starting models\nEvaluatorHoldout: Processed 40726 (100.0%) in 49.52 sec. Users per second: 822\nSLIM ElasticNet - MAP: 0.0\nEvaluatorHoldout: Processed 40726 (100.0%) in 34.28 sec. Users per second: 1188\nRP3beta - MAP: 0.0\nEvaluatorHoldout: Processed 40726 (100.0%) in 1.06 min. Users per second: 638\nEASE_R - MAP: 0.0\n",
     "output_type": "stream"
    }
   ]
  },
  {
   "cell_type": "code",
   "source": [
    "from numpy import linalg as LA\n",
    "from Recommenders.BaseRecommender import BaseRecommender\n",
    "\n",
    "class DifferentLossScoresHybridRecommender(BaseRecommender):\n",
    "    \"\"\" ScoresHybridRecommender\n",
    "    Hybrid of three predictions scores\n",
    "    R = R1*alpha + R2*beta + R3*(1-alpha-beta)\n",
    "    \n",
    "    Class from Dacrema exercise modified by Antonio Ercolani\n",
    "    The original took as input 2 recommender\n",
    "\n",
    "    \"\"\"\n",
    "\n",
    "    RECOMMENDER_NAME = \"DifferentLossScoresHybridRecommender\"\n",
    "\n",
    "\n",
    "    def __init__(self, URM_train, recommender_1, recommender_2, recommender_3):\n",
    "        super(DifferentLossScoresHybridRecommender, self).__init__(URM_train)\n",
    "\n",
    "        self.URM_train = sps.csr_matrix(URM_train)\n",
    "        self.recommender_1 = recommender_1\n",
    "        self.recommender_2 = recommender_2\n",
    "        self.recommender_3 = recommender_3\n",
    "        \n",
    "        \n",
    "        \n",
    "    def fit(self, norm, alpha = 0.5, beta = 0.5):\n",
    "\n",
    "        self.alpha = alpha\n",
    "        self.beta = beta\n",
    "        self.norm = norm\n",
    "\n",
    "\n",
    "    def _compute_item_score(self, user_id_array, items_to_compute):\n",
    "        \n",
    "        item_weights_1 = self.recommender_1._compute_item_score(user_id_array)\n",
    "        item_weights_2 = self.recommender_2._compute_item_score(user_id_array)\n",
    "        item_weights_3 = self.recommender_3._compute_item_score(user_id_array)\n",
    "\n",
    "        norm_item_weights_1 = LA.norm(item_weights_1, self.norm)\n",
    "        norm_item_weights_2 = LA.norm(item_weights_2, self.norm)\n",
    "        norm_item_weights_3 = LA.norm(item_weights_3, self.norm)\n",
    "        \n",
    "        \n",
    "        if norm_item_weights_1 == 0:\n",
    "            raise ValueError(\"Norm {} of item weights for recommender 1 is zero. Avoiding division by zero\".format(self.norm))\n",
    "        \n",
    "        if norm_item_weights_2 == 0:\n",
    "            raise ValueError(\"Norm {} of item weights for recommender 2 is zero. Avoiding division by zero\".format(self.norm))\n",
    "            \n",
    "        if norm_item_weights_3 == 0:\n",
    "            raise ValueError(\"Norm {} of item weights for recommender 3 is zero. Avoiding division by zero\".format(self.norm))\n",
    "        \n",
    "        item_weights = item_weights_1 / norm_item_weights_1 * self.alpha + item_weights_2 / norm_item_weights_2 * self.beta + item_weights_3 / norm_item_weights_3 * (1-self.alpha-self.beta)\n",
    "\n",
    "        return item_weights"
   ],
   "metadata": {
    "execution": {
     "iopub.status.busy": "2022-11-30T16:50:05.445119Z",
     "iopub.execute_input": "2022-11-30T16:50:05.445571Z",
     "iopub.status.idle": "2022-11-30T16:50:05.465273Z",
     "shell.execute_reply.started": "2022-11-30T16:50:05.445528Z",
     "shell.execute_reply": "2022-11-30T16:50:05.463061Z"
    },
    "trusted": true
   },
   "execution_count": 7,
   "outputs": []
  },
  {
   "cell_type": "code",
   "source": [
    "recommender_object = DifferentLossScoresHybridRecommender(URM_train, recommender_SLIMElasticNet, recommender_RP3beta, recommender_EaseR)\n",
    "best_model = {\n",
    "    \"MAP\" : 0,\n",
    "    \"alpha\" : 0,\n",
    "    \"beta\" : 0,\n",
    "    \"norm\" : 0\n",
    "}\n",
    "\n",
    "for norm in [1,2]:\n",
    "    for alpha in np.arange(0.0, 1.1, 0.1):\n",
    "        for beta in np.arange(0.0, 1.1, 0.1):\n",
    "\n",
    "            #truncate digits since np.arange sometimes doesn't\n",
    "            alpha = round(alpha,1)\n",
    "            beta = round(beta,1)\n",
    "\n",
    "\n",
    "            #discard cases in which the sum is greater than 1\n",
    "            if ( (alpha+beta) <= 1):\n",
    "                theta = round(1-alpha-beta,1)\n",
    "\n",
    "                print(\"----\")\n",
    "                recommender_object.fit(norm, alpha, beta)\n",
    "                result_df, _ = evaluator_validation.evaluateRecommender(recommender_object)\n",
    "                print(\"Norm: {}, Alpha: {}, Beta: {}, Theta: {}, Result: {}\".format(norm, alpha, beta, 1-alpha-beta, result_df.loc[10][\"MAP\"]))\n",
    "\n",
    "                if result_df.loc[10][\"MAP\"] > best_model[\"MAP\"]:\n",
    "                    best_model[\"MAP\"] = result_df.loc[10][\"MAP\"]\n",
    "                    best_model[\"alpha\"] = alpha\n",
    "                    best_model[\"beta\"] = beta\n",
    "                    best_model[\"norm\"] = norm\n",
    "\n",
    "                    print(\"*** New best model found! \")\n",
    "                    print(\"New best model has MAP: {} with alpha: {}, beta: {}, theta: {}, norm: {}\".format(best_model[\"MAP\"], best_model[\"alpha\"], best_model[\"beta\"],\n",
    "                                                                                                            1-best_model[\"alpha\"]-best_model[\"beta\"], best_model[\"norm\"]))\n",
    "\n",
    "print(\"----\")\n",
    "print(\"Best model has MAP: {} with alpha: {}, beta: {}, norm: {}\".format(best_model[\"MAP\"], best_model[\"alpha\"], best_model[\"beta\"], best_model[\"norm\"]))"
   ],
   "metadata": {
    "execution": {
     "iopub.status.busy": "2022-11-30T17:42:55.983441Z",
     "iopub.execute_input": "2022-11-30T17:42:55.985232Z",
     "iopub.status.idle": "2022-11-30T22:14:57.122736Z",
     "shell.execute_reply.started": "2022-11-30T17:42:55.985152Z",
     "shell.execute_reply": "2022-11-30T22:14:57.120928Z"
    },
    "trusted": true
   },
   "execution_count": 10,
   "outputs": [
    {
     "name": "stdout",
     "text": "----\nEvaluatorHoldout: Processed 40047 (100.0%) in 1.84 min. Users per second: 363\nNorm: 1, Alpha: 0.0, Beta: 0.0, Theta: 1.0, Result: 0.056185577184901865\n*** New best model found! \nNew best model has MAP: 0.056185577184901865 with alpha: 0.0, beta: 0.0, theta: 1.0, norm: 1\n----\nEvaluatorHoldout: Processed 40047 (100.0%) in 1.83 min. Users per second: 364\nNorm: 1, Alpha: 0.0, Beta: 0.1, Theta: 0.9, Result: 0.0538370698159811\n----\nEvaluatorHoldout: Processed 40047 (100.0%) in 1.84 min. Users per second: 363\nNorm: 1, Alpha: 0.0, Beta: 0.2, Theta: 0.8, Result: 0.050707665516825436\n----\nEvaluatorHoldout: Processed 40047 (100.0%) in 1.82 min. Users per second: 366\nNorm: 1, Alpha: 0.0, Beta: 0.3, Theta: 0.7, Result: 0.04793076666662491\n----\nEvaluatorHoldout: Processed 40047 (100.0%) in 1.78 min. Users per second: 375\nNorm: 1, Alpha: 0.0, Beta: 0.4, Theta: 0.6, Result: 0.04530175357446784\n----\nEvaluatorHoldout: Processed 40047 (100.0%) in 1.77 min. Users per second: 376\nNorm: 1, Alpha: 0.0, Beta: 0.5, Theta: 0.5, Result: 0.04314082143956743\n----\nEvaluatorHoldout: Processed 40047 (100.0%) in 1.78 min. Users per second: 376\nNorm: 1, Alpha: 0.0, Beta: 0.6, Theta: 0.4, Result: 0.04126833213037907\n----\nEvaluatorHoldout: Processed 40047 (100.0%) in 1.77 min. Users per second: 377\nNorm: 1, Alpha: 0.0, Beta: 0.7, Theta: 0.30000000000000004, Result: 0.039697583513971714\n----\nEvaluatorHoldout: Processed 40047 (100.0%) in 1.76 min. Users per second: 379\nNorm: 1, Alpha: 0.0, Beta: 0.8, Theta: 0.19999999999999996, Result: 0.03837428026037404\n----\nEvaluatorHoldout: Processed 40047 (100.0%) in 1.76 min. Users per second: 379\nNorm: 1, Alpha: 0.0, Beta: 0.9, Theta: 0.09999999999999998, Result: 0.037204272083473974\n----\nEvaluatorHoldout: Processed 40047 (100.0%) in 1.65 min. Users per second: 403\nNorm: 1, Alpha: 0.0, Beta: 1.0, Theta: 0.0, Result: 0.03624296808392753\n----\nEvaluatorHoldout: Processed 40047 (100.0%) in 1.77 min. Users per second: 376\nNorm: 1, Alpha: 0.1, Beta: 0.0, Theta: 0.9, Result: 0.04974724936295003\n----\nEvaluatorHoldout: Processed 40047 (100.0%) in 1.76 min. Users per second: 378\nNorm: 1, Alpha: 0.1, Beta: 0.1, Theta: 0.8, Result: 0.04814453532971648\n----\nEvaluatorHoldout: Processed 40047 (100.0%) in 1.77 min. Users per second: 376\nNorm: 1, Alpha: 0.1, Beta: 0.2, Theta: 0.7, Result: 0.04599495097228851\n----\nEvaluatorHoldout: Processed 40047 (100.0%) in 1.70 min. Users per second: 393\nNorm: 1, Alpha: 0.1, Beta: 0.3, Theta: 0.6000000000000001, Result: 0.044121304292850806\n----\nEvaluatorHoldout: Processed 40047 (100.0%) in 1.54 min. Users per second: 434\nNorm: 1, Alpha: 0.1, Beta: 0.4, Theta: 0.5, Result: 0.042275470171752115\n----\nEvaluatorHoldout: Processed 40047 (100.0%) in 1.52 min. Users per second: 439\nNorm: 1, Alpha: 0.1, Beta: 0.5, Theta: 0.4, Result: 0.04062418226044455\n----\nEvaluatorHoldout: Processed 40047 (100.0%) in 1.52 min. Users per second: 439\nNorm: 1, Alpha: 0.1, Beta: 0.6, Theta: 0.30000000000000004, Result: 0.03924875770968867\n----\nEvaluatorHoldout: Processed 40047 (100.0%) in 1.51 min. Users per second: 442\nNorm: 1, Alpha: 0.1, Beta: 0.7, Theta: 0.20000000000000007, Result: 0.037990729939937136\n----\nEvaluatorHoldout: Processed 40047 (100.0%) in 1.52 min. Users per second: 440\nNorm: 1, Alpha: 0.1, Beta: 0.8, Theta: 0.09999999999999998, Result: 0.03690038807575451\n----\nEvaluatorHoldout: Processed 40047 (100.0%) in 1.48 min. Users per second: 451\nNorm: 1, Alpha: 0.1, Beta: 0.9, Theta: 0.0, Result: 0.03598826339368462\n----\nEvaluatorHoldout: Processed 40047 (100.0%) in 1.52 min. Users per second: 440\nNorm: 1, Alpha: 0.2, Beta: 0.0, Theta: 0.8, Result: 0.04422020792235699\n----\nEvaluatorHoldout: Processed 40047 (100.0%) in 1.52 min. Users per second: 440\nNorm: 1, Alpha: 0.2, Beta: 0.1, Theta: 0.7000000000000001, Result: 0.043258814741883395\n----\nEvaluatorHoldout: Processed 40047 (100.0%) in 1.51 min. Users per second: 441\nNorm: 1, Alpha: 0.2, Beta: 0.2, Theta: 0.6000000000000001, Result: 0.0420193167869009\n----\nEvaluatorHoldout: Processed 40047 (100.0%) in 1.52 min. Users per second: 440\nNorm: 1, Alpha: 0.2, Beta: 0.3, Theta: 0.5, Result: 0.040876210531988096\n----\nEvaluatorHoldout: Processed 40047 (100.0%) in 1.52 min. Users per second: 440\nNorm: 1, Alpha: 0.2, Beta: 0.4, Theta: 0.4, Result: 0.03961664785939804\n----\nEvaluatorHoldout: Processed 40047 (100.0%) in 1.51 min. Users per second: 443\nNorm: 1, Alpha: 0.2, Beta: 0.5, Theta: 0.30000000000000004, Result: 0.03842109132879752\n----\nEvaluatorHoldout: Processed 40047 (100.0%) in 1.51 min. Users per second: 442\nNorm: 1, Alpha: 0.2, Beta: 0.6, Theta: 0.20000000000000007, Result: 0.03737790437505544\n----\nEvaluatorHoldout: Processed 40047 (100.0%) in 1.51 min. Users per second: 442\nNorm: 1, Alpha: 0.2, Beta: 0.7, Theta: 0.10000000000000009, Result: 0.036392563143066464\n----\nEvaluatorHoldout: Processed 40047 (100.0%) in 1.47 min. Users per second: 453\nNorm: 1, Alpha: 0.2, Beta: 0.8, Theta: 0.0, Result: 0.03554135200662789\n----\nEvaluatorHoldout: Processed 40047 (100.0%) in 1.51 min. Users per second: 443\nNorm: 1, Alpha: 0.3, Beta: 0.0, Theta: 0.7, Result: 0.03960607595598895\n----\nEvaluatorHoldout: Processed 40047 (100.0%) in 1.52 min. Users per second: 438\nNorm: 1, Alpha: 0.3, Beta: 0.1, Theta: 0.6, Result: 0.03901544950555998\n----\nEvaluatorHoldout: Processed 40047 (100.0%) in 1.51 min. Users per second: 441\nNorm: 1, Alpha: 0.3, Beta: 0.2, Theta: 0.49999999999999994, Result: 0.038648592863701044\n----\nEvaluatorHoldout: Processed 40047 (100.0%) in 1.52 min. Users per second: 440\nNorm: 1, Alpha: 0.3, Beta: 0.3, Theta: 0.39999999999999997, Result: 0.038072477140945096\n----\nEvaluatorHoldout: Processed 40047 (100.0%) in 1.50 min. Users per second: 444\nNorm: 1, Alpha: 0.3, Beta: 0.4, Theta: 0.29999999999999993, Result: 0.03728037413182173\n----\nEvaluatorHoldout: Processed 40047 (100.0%) in 1.49 min. Users per second: 448\nNorm: 1, Alpha: 0.3, Beta: 0.5, Theta: 0.19999999999999996, Result: 0.03645789114456958\n----\nEvaluatorHoldout: Processed 40047 (100.0%) in 1.48 min. Users per second: 452\nNorm: 1, Alpha: 0.3, Beta: 0.6, Theta: 0.09999999999999998, Result: 0.035681579104867085\n----\nEvaluatorHoldout: Processed 40047 (100.0%) in 1.44 min. Users per second: 464\nNorm: 1, Alpha: 0.3, Beta: 0.7, Theta: 0.0, Result: 0.0349507433923848\n----\nEvaluatorHoldout: Processed 40047 (100.0%) in 1.47 min. Users per second: 453\nNorm: 1, Alpha: 0.4, Beta: 0.0, Theta: 0.6, Result: 0.03566993504853926\n----\nEvaluatorHoldout: Processed 40047 (100.0%) in 1.48 min. Users per second: 452\nNorm: 1, Alpha: 0.4, Beta: 0.1, Theta: 0.5, Result: 0.035659121365727374\n----\nEvaluatorHoldout: Processed 40047 (100.0%) in 1.48 min. Users per second: 452\nNorm: 1, Alpha: 0.4, Beta: 0.2, Theta: 0.39999999999999997, Result: 0.03575153460556727\n----\nEvaluatorHoldout: Processed 40047 (100.0%) in 1.47 min. Users per second: 454\nNorm: 1, Alpha: 0.4, Beta: 0.3, Theta: 0.3, Result: 0.03560968639626068\n----\nEvaluatorHoldout: Processed 40047 (100.0%) in 1.48 min. Users per second: 451\nNorm: 1, Alpha: 0.4, Beta: 0.4, Theta: 0.19999999999999996, Result: 0.03515823966363147\n----\nEvaluatorHoldout: Processed 40047 (100.0%) in 1.49 min. Users per second: 449\nNorm: 1, Alpha: 0.4, Beta: 0.5, Theta: 0.09999999999999998, Result: 0.03469081765433357\n----\nEvaluatorHoldout: Processed 40047 (100.0%) in 1.44 min. Users per second: 463\nNorm: 1, Alpha: 0.4, Beta: 0.6, Theta: 0.0, Result: 0.03418508946432186\n----\nEvaluatorHoldout: Processed 40047 (100.0%) in 1.47 min. Users per second: 454\nNorm: 1, Alpha: 0.5, Beta: 0.0, Theta: 0.5, Result: 0.03246501134975832\n----\nEvaluatorHoldout: Processed 40047 (100.0%) in 1.47 min. Users per second: 454\nNorm: 1, Alpha: 0.5, Beta: 0.1, Theta: 0.4, Result: 0.032773404939671\n----\nEvaluatorHoldout: Processed 40047 (100.0%) in 1.47 min. Users per second: 455\nNorm: 1, Alpha: 0.5, Beta: 0.2, Theta: 0.3, Result: 0.03326574211808916\n----\nEvaluatorHoldout: Processed 40047 (100.0%) in 1.48 min. Users per second: 451\nNorm: 1, Alpha: 0.5, Beta: 0.3, Theta: 0.2, Result: 0.03338834805611191\n----\nEvaluatorHoldout: Processed 40047 (100.0%) in 1.53 min. Users per second: 436\nNorm: 1, Alpha: 0.5, Beta: 0.4, Theta: 0.09999999999999998, Result: 0.03327933130951907\n----\nEvaluatorHoldout: Processed 40047 (100.0%) in 1.50 min. Users per second: 446\nNorm: 1, Alpha: 0.5, Beta: 0.5, Theta: 0.0, Result: 0.03311508481502312\n----\nEvaluatorHoldout: Processed 40047 (100.0%) in 1.49 min. Users per second: 448\nNorm: 1, Alpha: 0.6, Beta: 0.0, Theta: 0.4, Result: 0.02983017573398778\n----\nEvaluatorHoldout: Processed 40047 (100.0%) in 1.48 min. Users per second: 451\nNorm: 1, Alpha: 0.6, Beta: 0.1, Theta: 0.30000000000000004, Result: 0.030381108744842837\n----\nEvaluatorHoldout: Processed 40047 (100.0%) in 1.47 min. Users per second: 454\nNorm: 1, Alpha: 0.6, Beta: 0.2, Theta: 0.2, Result: 0.031118721216854568\n----\nEvaluatorHoldout: Processed 40047 (100.0%) in 1.46 min. Users per second: 456\nNorm: 1, Alpha: 0.6, Beta: 0.3, Theta: 0.10000000000000003, Result: 0.03151472515825503\n----\nEvaluatorHoldout: Processed 40047 (100.0%) in 1.45 min. Users per second: 460\nNorm: 1, Alpha: 0.6, Beta: 0.4, Theta: 0.0, Result: 0.03168323747374459\n----\nEvaluatorHoldout: Processed 40047 (100.0%) in 1.47 min. Users per second: 454\nNorm: 1, Alpha: 0.7, Beta: 0.0, Theta: 0.30000000000000004, Result: 0.027785216457962413\n----\nEvaluatorHoldout: Processed 40047 (100.0%) in 1.49 min. Users per second: 448\nNorm: 1, Alpha: 0.7, Beta: 0.1, Theta: 0.20000000000000004, Result: 0.028373037672797013\n----\nEvaluatorHoldout: Processed 40047 (100.0%) in 1.53 min. Users per second: 435\nNorm: 1, Alpha: 0.7, Beta: 0.2, Theta: 0.10000000000000003, Result: 0.02926665136718198\n----\nEvaluatorHoldout: Processed 40047 (100.0%) in 1.52 min. Users per second: 440\nNorm: 1, Alpha: 0.7, Beta: 0.3, Theta: 5.551115123125783e-17, Result: 0.029878655476638868\n----\nEvaluatorHoldout: Processed 40047 (100.0%) in 1.50 min. Users per second: 444\nNorm: 1, Alpha: 0.8, Beta: 0.0, Theta: 0.19999999999999996, Result: 0.026028927914461458\n----\nEvaluatorHoldout: Processed 40047 (100.0%) in 1.52 min. Users per second: 440\nNorm: 1, Alpha: 0.8, Beta: 0.1, Theta: 0.09999999999999995, Result: 0.02662983296214138\n----\nEvaluatorHoldout: Processed 40047 (100.0%) in 1.49 min. Users per second: 449\nNorm: 1, Alpha: 0.8, Beta: 0.2, Theta: -5.551115123125783e-17, Result: 0.027615395164648532\n----\nEvaluatorHoldout: Processed 40047 (100.0%) in 1.48 min. Users per second: 450\nNorm: 1, Alpha: 0.9, Beta: 0.0, Theta: 0.09999999999999998, Result: 0.024606252336043886\n----\nEvaluatorHoldout: Processed 40047 (100.0%) in 1.50 min. Users per second: 444\nNorm: 1, Alpha: 0.9, Beta: 0.1, Theta: -2.7755575615628914e-17, Result: 0.025143851807458577\n----\nEvaluatorHoldout: Processed 40047 (100.0%) in 1.45 min. Users per second: 461\nNorm: 1, Alpha: 1.0, Beta: 0.0, Theta: 0.0, Result: 0.023390487407454134\n----\nEvaluatorHoldout: Processed 15000 (37.5%) in 5.22 min. Users per second: 48\nEvaluatorHoldout: Processed 30000 (74.9%) in 10.42 min. Users per second: 48\nEvaluatorHoldout: Processed 40047 (100.0%) in 13.92 min. Users per second: 48\nNorm: 2, Alpha: 0.0, Beta: 0.0, Theta: 1.0, Result: 0.056185577184901865\n----\nEvaluatorHoldout: Processed 15000 (37.5%) in 5.31 min. Users per second: 47\nEvaluatorHoldout: Processed 29000 (72.4%) in 10.31 min. Users per second: 47\nEvaluatorHoldout: Processed 40047 (100.0%) in 14.27 min. Users per second: 47\nNorm: 2, Alpha: 0.0, Beta: 0.1, Theta: 0.9, Result: 0.05447738193337025\n----\nEvaluatorHoldout: Processed 14000 (35.0%) in 5.20 min. Users per second: 45\nEvaluatorHoldout: Processed 28000 (69.9%) in 10.31 min. Users per second: 45\nEvaluatorHoldout: Processed 40047 (100.0%) in 14.61 min. Users per second: 46\nNorm: 2, Alpha: 0.0, Beta: 0.2, Theta: 0.8, Result: 0.05233499943122243\n----\nEvaluatorHoldout: Processed 14000 (35.0%) in 5.05 min. Users per second: 46\nEvaluatorHoldout: Processed 28000 (69.9%) in 10.06 min. Users per second: 46\nEvaluatorHoldout: Processed 40047 (100.0%) in 14.46 min. Users per second: 46\nNorm: 2, Alpha: 0.0, Beta: 0.3, Theta: 0.7, Result: 0.04971637096253009\n----\nEvaluatorHoldout: Processed 14000 (35.0%) in 5.29 min. Users per second: 44\nEvaluatorHoldout: Processed 28000 (69.9%) in 10.62 min. Users per second: 44\nEvaluatorHoldout: Processed 40047 (100.0%) in 15.04 min. Users per second: 44\nNorm: 2, Alpha: 0.0, Beta: 0.4, Theta: 0.6, Result: 0.047394075849763316\n----\nEvaluatorHoldout: Processed 14000 (35.0%) in 5.08 min. Users per second: 46\nEvaluatorHoldout: Processed 28000 (69.9%) in 10.15 min. Users per second: 46\nEvaluatorHoldout: Processed 40047 (100.0%) in 14.63 min. Users per second: 46\nNorm: 2, Alpha: 0.0, Beta: 0.5, Theta: 0.5, Result: 0.04504474008912304\n----\nEvaluatorHoldout: Processed 14000 (35.0%) in 5.33 min. Users per second: 44\nEvaluatorHoldout: Processed 28000 (69.9%) in 10.73 min. Users per second: 43\nEvaluatorHoldout: Processed 40047 (100.0%) in 15.59 min. Users per second: 43\nNorm: 2, Alpha: 0.0, Beta: 0.6, Theta: 0.4, Result: 0.042857323200791816\n----\nEvaluatorHoldout: Processed 13000 (32.5%) in 5.18 min. Users per second: 42\nEvaluatorHoldout: Processed 26000 (64.9%) in 10.25 min. Users per second: 42\nEvaluatorHoldout: Processed 40000 (99.9%) in 15.61 min. Users per second: 43\nEvaluatorHoldout: Processed 40047 (100.0%) in 15.62 min. Users per second: 43\nNorm: 2, Alpha: 0.0, Beta: 0.7, Theta: 0.30000000000000004, Result: 0.04091713863194596\n----\nEvaluatorHoldout: Processed 13000 (32.5%) in 5.15 min. Users per second: 42\nEvaluatorHoldout: Processed 26000 (64.9%) in 10.31 min. Users per second: 42\nEvaluatorHoldout: Processed 39000 (97.4%) in 15.38 min. Users per second: 42\nEvaluatorHoldout: Processed 40047 (100.0%) in 15.76 min. Users per second: 42\nNorm: 2, Alpha: 0.0, Beta: 0.8, Theta: 0.19999999999999996, Result: 0.039227493013167365\n----\nEvaluatorHoldout: Processed 13000 (32.5%) in 5.18 min. Users per second: 42\nEvaluatorHoldout: Processed 26000 (64.9%) in 10.40 min. Users per second: 42\nEvaluatorHoldout: Processed 39000 (97.4%) in 15.57 min. Users per second: 42\nEvaluatorHoldout: Processed 40047 (100.0%) in 15.97 min. Users per second: 42\nNorm: 2, Alpha: 0.0, Beta: 0.9, Theta: 0.09999999999999998, Result: 0.037624203267507345\n----\nEvaluatorHoldout: Processed 14000 (35.0%) in 5.34 min. Users per second: 44\nEvaluatorHoldout: Processed 28000 (69.9%) in 10.65 min. Users per second: 44\nEvaluatorHoldout: Processed 40047 (100.0%) in 15.16 min. Users per second: 44\nNorm: 2, Alpha: 0.0, Beta: 1.0, Theta: 0.0, Result: 0.03624296808392753\n----\n",
     "output_type": "stream"
    },
    {
     "traceback": [
      "\u001B[0;31m---------------------------------------------------------------------------\u001B[0m",
      "\u001B[0;31mKeyboardInterrupt\u001B[0m                         Traceback (most recent call last)",
      "\u001B[0;32m/tmp/ipykernel_27/711022923.py\u001B[0m in \u001B[0;36m<module>\u001B[0;34m\u001B[0m\n\u001B[1;32m     22\u001B[0m                 \u001B[0mprint\u001B[0m\u001B[0;34m(\u001B[0m\u001B[0;34m\"----\"\u001B[0m\u001B[0;34m)\u001B[0m\u001B[0;34m\u001B[0m\u001B[0;34m\u001B[0m\u001B[0m\n\u001B[1;32m     23\u001B[0m                 \u001B[0mrecommender_object\u001B[0m\u001B[0;34m.\u001B[0m\u001B[0mfit\u001B[0m\u001B[0;34m(\u001B[0m\u001B[0mnorm\u001B[0m\u001B[0;34m,\u001B[0m \u001B[0malpha\u001B[0m\u001B[0;34m,\u001B[0m \u001B[0mbeta\u001B[0m\u001B[0;34m)\u001B[0m\u001B[0;34m\u001B[0m\u001B[0;34m\u001B[0m\u001B[0m\n\u001B[0;32m---> 24\u001B[0;31m                 \u001B[0mresult_df\u001B[0m\u001B[0;34m,\u001B[0m \u001B[0m_\u001B[0m \u001B[0;34m=\u001B[0m \u001B[0mevaluator_validation\u001B[0m\u001B[0;34m.\u001B[0m\u001B[0mevaluateRecommender\u001B[0m\u001B[0;34m(\u001B[0m\u001B[0mrecommender_object\u001B[0m\u001B[0;34m)\u001B[0m\u001B[0;34m\u001B[0m\u001B[0;34m\u001B[0m\u001B[0m\n\u001B[0m\u001B[1;32m     25\u001B[0m                 \u001B[0mprint\u001B[0m\u001B[0;34m(\u001B[0m\u001B[0;34m\"Norm: {}, Alpha: {}, Beta: {}, Theta: {}, Result: {}\"\u001B[0m\u001B[0;34m.\u001B[0m\u001B[0mformat\u001B[0m\u001B[0;34m(\u001B[0m\u001B[0mnorm\u001B[0m\u001B[0;34m,\u001B[0m \u001B[0malpha\u001B[0m\u001B[0;34m,\u001B[0m \u001B[0mbeta\u001B[0m\u001B[0;34m,\u001B[0m \u001B[0;36m1\u001B[0m\u001B[0;34m-\u001B[0m\u001B[0malpha\u001B[0m\u001B[0;34m-\u001B[0m\u001B[0mbeta\u001B[0m\u001B[0;34m,\u001B[0m \u001B[0mresult_df\u001B[0m\u001B[0;34m.\u001B[0m\u001B[0mloc\u001B[0m\u001B[0;34m[\u001B[0m\u001B[0;36m10\u001B[0m\u001B[0;34m]\u001B[0m\u001B[0;34m[\u001B[0m\u001B[0;34m\"MAP\"\u001B[0m\u001B[0;34m]\u001B[0m\u001B[0;34m)\u001B[0m\u001B[0;34m)\u001B[0m\u001B[0;34m\u001B[0m\u001B[0;34m\u001B[0m\u001B[0m\n\u001B[1;32m     26\u001B[0m \u001B[0;34m\u001B[0m\u001B[0m\n",
      "\u001B[0;32m/kaggle/working/Recommender-Systems-Challenge-2022/Evaluation/Evaluator.py\u001B[0m in \u001B[0;36mevaluateRecommender\u001B[0;34m(self, recommender_object)\u001B[0m\n\u001B[1;32m    274\u001B[0m         \u001B[0mself\u001B[0m\u001B[0;34m.\u001B[0m\u001B[0m_n_users_evaluated\u001B[0m \u001B[0;34m=\u001B[0m \u001B[0;36m0\u001B[0m\u001B[0;34m\u001B[0m\u001B[0;34m\u001B[0m\u001B[0m\n\u001B[1;32m    275\u001B[0m \u001B[0;34m\u001B[0m\u001B[0m\n\u001B[0;32m--> 276\u001B[0;31m         \u001B[0mresults_dict\u001B[0m \u001B[0;34m=\u001B[0m \u001B[0mself\u001B[0m\u001B[0;34m.\u001B[0m\u001B[0m_run_evaluation_on_selected_users\u001B[0m\u001B[0;34m(\u001B[0m\u001B[0mrecommender_object\u001B[0m\u001B[0;34m,\u001B[0m \u001B[0mself\u001B[0m\u001B[0;34m.\u001B[0m\u001B[0musers_to_evaluate\u001B[0m\u001B[0;34m)\u001B[0m\u001B[0;34m\u001B[0m\u001B[0;34m\u001B[0m\u001B[0m\n\u001B[0m\u001B[1;32m    277\u001B[0m \u001B[0;34m\u001B[0m\u001B[0m\n\u001B[1;32m    278\u001B[0m \u001B[0;34m\u001B[0m\u001B[0m\n",
      "\u001B[0;32m/kaggle/working/Recommender-Systems-Challenge-2022/Evaluation/Evaluator.py\u001B[0m in \u001B[0;36m_run_evaluation_on_selected_users\u001B[0;34m(self, recommender_object, users_to_evaluate, block_size)\u001B[0m\n\u001B[1;32m    479\u001B[0m                                                                                       \u001B[0mremove_top_pop_flag\u001B[0m\u001B[0;34m=\u001B[0m\u001B[0;32mFalse\u001B[0m\u001B[0;34m,\u001B[0m\u001B[0;34m\u001B[0m\u001B[0;34m\u001B[0m\u001B[0m\n\u001B[1;32m    480\u001B[0m                                                                                       \u001B[0mremove_custom_items_flag\u001B[0m\u001B[0;34m=\u001B[0m\u001B[0mself\u001B[0m\u001B[0;34m.\u001B[0m\u001B[0mignore_items_flag\u001B[0m\u001B[0;34m,\u001B[0m\u001B[0;34m\u001B[0m\u001B[0;34m\u001B[0m\u001B[0m\n\u001B[0;32m--> 481\u001B[0;31m                                                                                       \u001B[0mreturn_scores\u001B[0m \u001B[0;34m=\u001B[0m \u001B[0;32mTrue\u001B[0m\u001B[0;34m\u001B[0m\u001B[0;34m\u001B[0m\u001B[0m\n\u001B[0m\u001B[1;32m    482\u001B[0m                                                                                       )\n\u001B[1;32m    483\u001B[0m \u001B[0;34m\u001B[0m\u001B[0m\n",
      "\u001B[0;32m/kaggle/working/Recommender-Systems-Challenge-2022/Recommenders/BaseRecommender.py\u001B[0m in \u001B[0;36mrecommend\u001B[0;34m(self, user_id_array, cutoff, remove_seen_flag, items_to_compute, remove_top_pop_flag, remove_custom_items_flag, return_scores)\u001B[0m\n\u001B[1;32m    145\u001B[0m         \u001B[0;31m# Compute the scores using the model-specific function\u001B[0m\u001B[0;34m\u001B[0m\u001B[0;34m\u001B[0m\u001B[0;34m\u001B[0m\u001B[0m\n\u001B[1;32m    146\u001B[0m         \u001B[0;31m# Vectorize over all users in user_id_array\u001B[0m\u001B[0;34m\u001B[0m\u001B[0;34m\u001B[0m\u001B[0;34m\u001B[0m\u001B[0m\n\u001B[0;32m--> 147\u001B[0;31m         \u001B[0mscores_batch\u001B[0m \u001B[0;34m=\u001B[0m \u001B[0mself\u001B[0m\u001B[0;34m.\u001B[0m\u001B[0m_compute_item_score\u001B[0m\u001B[0;34m(\u001B[0m\u001B[0muser_id_array\u001B[0m\u001B[0;34m,\u001B[0m \u001B[0mitems_to_compute\u001B[0m\u001B[0;34m=\u001B[0m\u001B[0mitems_to_compute\u001B[0m\u001B[0;34m)\u001B[0m\u001B[0;34m\u001B[0m\u001B[0;34m\u001B[0m\u001B[0m\n\u001B[0m\u001B[1;32m    148\u001B[0m \u001B[0;34m\u001B[0m\u001B[0m\n\u001B[1;32m    149\u001B[0m \u001B[0;34m\u001B[0m\u001B[0m\n",
      "\u001B[0;32m/tmp/ipykernel_27/2555241999.py\u001B[0m in \u001B[0;36m_compute_item_score\u001B[0;34m(self, user_id_array, items_to_compute)\u001B[0m\n\u001B[1;32m     40\u001B[0m         \u001B[0mnorm_item_weights_1\u001B[0m \u001B[0;34m=\u001B[0m \u001B[0mLA\u001B[0m\u001B[0;34m.\u001B[0m\u001B[0mnorm\u001B[0m\u001B[0;34m(\u001B[0m\u001B[0mitem_weights_1\u001B[0m\u001B[0;34m,\u001B[0m \u001B[0mself\u001B[0m\u001B[0;34m.\u001B[0m\u001B[0mnorm\u001B[0m\u001B[0;34m)\u001B[0m\u001B[0;34m\u001B[0m\u001B[0;34m\u001B[0m\u001B[0m\n\u001B[1;32m     41\u001B[0m         \u001B[0mnorm_item_weights_2\u001B[0m \u001B[0;34m=\u001B[0m \u001B[0mLA\u001B[0m\u001B[0;34m.\u001B[0m\u001B[0mnorm\u001B[0m\u001B[0;34m(\u001B[0m\u001B[0mitem_weights_2\u001B[0m\u001B[0;34m,\u001B[0m \u001B[0mself\u001B[0m\u001B[0;34m.\u001B[0m\u001B[0mnorm\u001B[0m\u001B[0;34m)\u001B[0m\u001B[0;34m\u001B[0m\u001B[0;34m\u001B[0m\u001B[0m\n\u001B[0;32m---> 42\u001B[0;31m         \u001B[0mnorm_item_weights_3\u001B[0m \u001B[0;34m=\u001B[0m \u001B[0mLA\u001B[0m\u001B[0;34m.\u001B[0m\u001B[0mnorm\u001B[0m\u001B[0;34m(\u001B[0m\u001B[0mitem_weights_3\u001B[0m\u001B[0;34m,\u001B[0m \u001B[0mself\u001B[0m\u001B[0;34m.\u001B[0m\u001B[0mnorm\u001B[0m\u001B[0;34m)\u001B[0m\u001B[0;34m\u001B[0m\u001B[0;34m\u001B[0m\u001B[0m\n\u001B[0m\u001B[1;32m     43\u001B[0m \u001B[0;34m\u001B[0m\u001B[0m\n\u001B[1;32m     44\u001B[0m \u001B[0;34m\u001B[0m\u001B[0m\n",
      "\u001B[0;32m<__array_function__ internals>\u001B[0m in \u001B[0;36mnorm\u001B[0;34m(*args, **kwargs)\u001B[0m\n",
      "\u001B[0;32m/opt/conda/lib/python3.7/site-packages/numpy/linalg/linalg.py\u001B[0m in \u001B[0;36mnorm\u001B[0;34m(x, ord, axis, keepdims)\u001B[0m\n\u001B[1;32m   2577\u001B[0m             \u001B[0;32mraise\u001B[0m \u001B[0mValueError\u001B[0m\u001B[0;34m(\u001B[0m\u001B[0;34m'Duplicate axes given.'\u001B[0m\u001B[0;34m)\u001B[0m\u001B[0;34m\u001B[0m\u001B[0;34m\u001B[0m\u001B[0m\n\u001B[1;32m   2578\u001B[0m         \u001B[0;32mif\u001B[0m \u001B[0mord\u001B[0m \u001B[0;34m==\u001B[0m \u001B[0;36m2\u001B[0m\u001B[0;34m:\u001B[0m\u001B[0;34m\u001B[0m\u001B[0;34m\u001B[0m\u001B[0m\n\u001B[0;32m-> 2579\u001B[0;31m             \u001B[0mret\u001B[0m \u001B[0;34m=\u001B[0m  \u001B[0m_multi_svd_norm\u001B[0m\u001B[0;34m(\u001B[0m\u001B[0mx\u001B[0m\u001B[0;34m,\u001B[0m \u001B[0mrow_axis\u001B[0m\u001B[0;34m,\u001B[0m \u001B[0mcol_axis\u001B[0m\u001B[0;34m,\u001B[0m \u001B[0mamax\u001B[0m\u001B[0;34m)\u001B[0m\u001B[0;34m\u001B[0m\u001B[0;34m\u001B[0m\u001B[0m\n\u001B[0m\u001B[1;32m   2580\u001B[0m         \u001B[0;32melif\u001B[0m \u001B[0mord\u001B[0m \u001B[0;34m==\u001B[0m \u001B[0;34m-\u001B[0m\u001B[0;36m2\u001B[0m\u001B[0;34m:\u001B[0m\u001B[0;34m\u001B[0m\u001B[0;34m\u001B[0m\u001B[0m\n\u001B[1;32m   2581\u001B[0m             \u001B[0mret\u001B[0m \u001B[0;34m=\u001B[0m \u001B[0m_multi_svd_norm\u001B[0m\u001B[0;34m(\u001B[0m\u001B[0mx\u001B[0m\u001B[0;34m,\u001B[0m \u001B[0mrow_axis\u001B[0m\u001B[0;34m,\u001B[0m \u001B[0mcol_axis\u001B[0m\u001B[0;34m,\u001B[0m \u001B[0mamin\u001B[0m\u001B[0;34m)\u001B[0m\u001B[0;34m\u001B[0m\u001B[0;34m\u001B[0m\u001B[0m\n",
      "\u001B[0;32m/opt/conda/lib/python3.7/site-packages/numpy/linalg/linalg.py\u001B[0m in \u001B[0;36m_multi_svd_norm\u001B[0;34m(x, row_axis, col_axis, op)\u001B[0m\n\u001B[1;32m   2353\u001B[0m     \"\"\"\n\u001B[1;32m   2354\u001B[0m     \u001B[0my\u001B[0m \u001B[0;34m=\u001B[0m \u001B[0mmoveaxis\u001B[0m\u001B[0;34m(\u001B[0m\u001B[0mx\u001B[0m\u001B[0;34m,\u001B[0m \u001B[0;34m(\u001B[0m\u001B[0mrow_axis\u001B[0m\u001B[0;34m,\u001B[0m \u001B[0mcol_axis\u001B[0m\u001B[0;34m)\u001B[0m\u001B[0;34m,\u001B[0m \u001B[0;34m(\u001B[0m\u001B[0;34m-\u001B[0m\u001B[0;36m2\u001B[0m\u001B[0;34m,\u001B[0m \u001B[0;34m-\u001B[0m\u001B[0;36m1\u001B[0m\u001B[0;34m)\u001B[0m\u001B[0;34m)\u001B[0m\u001B[0;34m\u001B[0m\u001B[0;34m\u001B[0m\u001B[0m\n\u001B[0;32m-> 2355\u001B[0;31m     \u001B[0mresult\u001B[0m \u001B[0;34m=\u001B[0m \u001B[0mop\u001B[0m\u001B[0;34m(\u001B[0m\u001B[0msvd\u001B[0m\u001B[0;34m(\u001B[0m\u001B[0my\u001B[0m\u001B[0;34m,\u001B[0m \u001B[0mcompute_uv\u001B[0m\u001B[0;34m=\u001B[0m\u001B[0;32mFalse\u001B[0m\u001B[0;34m)\u001B[0m\u001B[0;34m,\u001B[0m \u001B[0maxis\u001B[0m\u001B[0;34m=\u001B[0m\u001B[0;34m-\u001B[0m\u001B[0;36m1\u001B[0m\u001B[0;34m)\u001B[0m\u001B[0;34m\u001B[0m\u001B[0;34m\u001B[0m\u001B[0m\n\u001B[0m\u001B[1;32m   2356\u001B[0m     \u001B[0;32mreturn\u001B[0m \u001B[0mresult\u001B[0m\u001B[0;34m\u001B[0m\u001B[0;34m\u001B[0m\u001B[0m\n\u001B[1;32m   2357\u001B[0m \u001B[0;34m\u001B[0m\u001B[0m\n",
      "\u001B[0;32m<__array_function__ internals>\u001B[0m in \u001B[0;36msvd\u001B[0;34m(*args, **kwargs)\u001B[0m\n",
      "\u001B[0;32m/opt/conda/lib/python3.7/site-packages/numpy/linalg/linalg.py\u001B[0m in \u001B[0;36msvd\u001B[0;34m(a, full_matrices, compute_uv, hermitian)\u001B[0m\n\u001B[1;32m   1670\u001B[0m \u001B[0;34m\u001B[0m\u001B[0m\n\u001B[1;32m   1671\u001B[0m         \u001B[0msignature\u001B[0m \u001B[0;34m=\u001B[0m \u001B[0;34m'D->d'\u001B[0m \u001B[0;32mif\u001B[0m \u001B[0misComplexType\u001B[0m\u001B[0;34m(\u001B[0m\u001B[0mt\u001B[0m\u001B[0;34m)\u001B[0m \u001B[0;32melse\u001B[0m \u001B[0;34m'd->d'\u001B[0m\u001B[0;34m\u001B[0m\u001B[0;34m\u001B[0m\u001B[0m\n\u001B[0;32m-> 1672\u001B[0;31m         \u001B[0ms\u001B[0m \u001B[0;34m=\u001B[0m \u001B[0mgufunc\u001B[0m\u001B[0;34m(\u001B[0m\u001B[0ma\u001B[0m\u001B[0;34m,\u001B[0m \u001B[0msignature\u001B[0m\u001B[0;34m=\u001B[0m\u001B[0msignature\u001B[0m\u001B[0;34m,\u001B[0m \u001B[0mextobj\u001B[0m\u001B[0;34m=\u001B[0m\u001B[0mextobj\u001B[0m\u001B[0;34m)\u001B[0m\u001B[0;34m\u001B[0m\u001B[0;34m\u001B[0m\u001B[0m\n\u001B[0m\u001B[1;32m   1673\u001B[0m         \u001B[0ms\u001B[0m \u001B[0;34m=\u001B[0m \u001B[0ms\u001B[0m\u001B[0;34m.\u001B[0m\u001B[0mastype\u001B[0m\u001B[0;34m(\u001B[0m\u001B[0m_realType\u001B[0m\u001B[0;34m(\u001B[0m\u001B[0mresult_t\u001B[0m\u001B[0;34m)\u001B[0m\u001B[0;34m,\u001B[0m \u001B[0mcopy\u001B[0m\u001B[0;34m=\u001B[0m\u001B[0;32mFalse\u001B[0m\u001B[0;34m)\u001B[0m\u001B[0;34m\u001B[0m\u001B[0;34m\u001B[0m\u001B[0m\n\u001B[1;32m   1674\u001B[0m         \u001B[0;32mreturn\u001B[0m \u001B[0ms\u001B[0m\u001B[0;34m\u001B[0m\u001B[0;34m\u001B[0m\u001B[0m\n",
      "\u001B[0;31mKeyboardInterrupt\u001B[0m: "
     ],
     "ename": "KeyboardInterrupt",
     "evalue": "",
     "output_type": "error"
    }
   ]
  },
  {
   "cell_type": "code",
   "source": [
    "recommender = DifferentLossScoresHybridRecommender(URM_all, recommender_SLIMElasticNet, recommender_RP3beta, recommender_EaseR)\n",
    "recommender.fit(norm=1, alpha = 0, beta = 0)"
   ],
   "metadata": {
    "execution": {
     "iopub.status.busy": "2022-11-30T22:15:02.525795Z",
     "iopub.execute_input": "2022-11-30T22:15:02.527408Z",
     "iopub.status.idle": "2022-11-30T22:15:02.575319Z",
     "shell.execute_reply.started": "2022-11-30T22:15:02.527339Z",
     "shell.execute_reply": "2022-11-30T22:15:02.573968Z"
    },
    "trusted": true
   },
   "execution_count": 11,
   "outputs": []
  },
  {
   "cell_type": "markdown",
   "source": [
    "## Submissions"
   ],
   "metadata": {}
  },
  {
   "cell_type": "code",
   "source": [
    "test_users = pd.read_csv('/kaggle/working/Recommender-Systems-Challenge-2022/Dataset/data_target_users_test.csv')"
   ],
   "metadata": {
    "execution": {
     "iopub.status.busy": "2022-11-30T22:15:12.559944Z",
     "iopub.execute_input": "2022-11-30T22:15:12.560818Z",
     "iopub.status.idle": "2022-11-30T22:15:12.591359Z",
     "shell.execute_reply.started": "2022-11-30T22:15:12.560763Z",
     "shell.execute_reply": "2022-11-30T22:15:12.589899Z"
    },
    "trusted": true
   },
   "execution_count": 12,
   "outputs": []
  },
  {
   "cell_type": "code",
   "source": [
    "user_id = test_users['user_id']\n",
    "recommendations = []\n",
    "for user in user_id:\n",
    "    recommendations.append(recommender.recommend(user, cutoff=10))"
   ],
   "metadata": {
    "execution": {
     "iopub.status.busy": "2022-11-30T22:15:14.711469Z",
     "iopub.execute_input": "2022-11-30T22:15:14.711968Z",
     "iopub.status.idle": "2022-11-30T22:16:49.706266Z",
     "shell.execute_reply.started": "2022-11-30T22:15:14.711921Z",
     "shell.execute_reply": "2022-11-30T22:16:49.704738Z"
    },
    "trusted": true
   },
   "execution_count": 13,
   "outputs": []
  },
  {
   "cell_type": "code",
   "source": [
    "for index in range(len(recommendations)):\n",
    "    recommendations[index]=np.array(recommendations[index])\n",
    "\n",
    "test_users['item_list']= recommendations\n",
    "test_users['item_list'] = pd.DataFrame([str(line).strip('[').strip(']').replace(\"'\",\"\") for line in test_users['item_list']])\n",
    "test_users.to_csv('/kaggle/working/Submission_SLIM_EN_rp3Beta_EaseR.csv', index=False)"
   ],
   "metadata": {
    "execution": {
     "iopub.status.busy": "2022-11-30T22:16:49.708463Z",
     "iopub.execute_input": "2022-11-30T22:16:49.708842Z",
     "iopub.status.idle": "2022-11-30T22:16:52.317030Z",
     "shell.execute_reply.started": "2022-11-30T22:16:49.708808Z",
     "shell.execute_reply": "2022-11-30T22:16:52.315832Z"
    },
    "trusted": true
   },
   "execution_count": 14,
   "outputs": []
  }
 ]
}
