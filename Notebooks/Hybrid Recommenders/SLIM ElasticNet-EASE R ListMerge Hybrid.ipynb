{
 "cells": [
  {
   "cell_type": "code",
   "execution_count": 1,
   "id": "2fbfeb17",
   "metadata": {
    "_cell_guid": "b1076dfc-b9ad-4769-8c92-a6c4dae69d19",
    "_uuid": "8f2839f25d086af736a60e9eeb907d3b93b6e0e5",
    "execution": {
     "iopub.execute_input": "2022-12-13T15:04:13.008925Z",
     "iopub.status.busy": "2022-12-13T15:04:13.007931Z",
     "iopub.status.idle": "2022-12-13T15:04:24.145503Z",
     "shell.execute_reply": "2022-12-13T15:04:24.144232Z"
    },
    "papermill": {
     "duration": 11.147029,
     "end_time": "2022-12-13T15:04:24.148507",
     "exception": false,
     "start_time": "2022-12-13T15:04:13.001478",
     "status": "completed"
    },
    "tags": []
   },
   "outputs": [
    {
     "name": "stdout",
     "output_type": "stream",
     "text": [
      "Cloning into 'Recommender-Systems-Challenge-2022'...\r\n",
      "remote: Enumerating objects: 589, done.\u001B[K\r\n",
      "remote: Counting objects: 100% (185/185), done.\u001B[K\r\n",
      "remote: Compressing objects: 100% (134/134), done.\u001B[K\r\n",
      "remote: Total 589 (delta 96), reused 121 (delta 50), pack-reused 404\u001B[K\r\n",
      "Receiving objects: 100% (589/589), 96.00 MiB | 18.40 MiB/s, done.\r\n",
      "Resolving deltas: 100% (268/268), done.\r\n",
      "Updating files: 100% (244/244), done.\r\n"
     ]
    }
   ],
   "source": [
    "import pandas as pd\n",
    "import numpy as np\n",
    "import scipy.sparse as sps\n",
    "import matplotlib.pyplot as pyplot\n",
    "\n",
    "from Evaluation.Evaluator import EvaluatorHoldout\n",
    "from Data_manager.split_functions.split_train_validation_random_holdout import split_train_in_two_percentage_global_sample\n",
    "from Utils.DataReader import load_urm, load_icm, load_target"
   ]
  },
  {
   "cell_type": "code",
   "execution_count": 2,
   "id": "3a91e662",
   "metadata": {
    "execution": {
     "iopub.execute_input": "2022-12-13T15:04:24.163873Z",
     "iopub.status.busy": "2022-12-13T15:04:24.163439Z",
     "iopub.status.idle": "2022-12-13T15:04:29.992980Z",
     "shell.execute_reply": "2022-12-13T15:04:29.991688Z"
    },
    "papermill": {
     "duration": 5.842146,
     "end_time": "2022-12-13T15:04:29.997297",
     "exception": false,
     "start_time": "2022-12-13T15:04:24.155151",
     "status": "completed"
    },
    "tags": []
   },
   "outputs": [
    {
     "name": "stdout",
     "output_type": "stream",
     "text": [
      "Warning: 914 (2.20 %) of 41629 users have no sampled items\n",
      "Warning: 1511 (3.63 %) of 41629 users have no sampled items\n",
      "EvaluatorHoldout: Ignoring 1511 ( 3.6%) Users that have less than 1 test interactions\n",
      "EvaluatorHoldout: Ignoring 914 ( 2.2%) Users that have less than 1 test interactions\n"
     ]
    }
   ],
   "source": [
    "URM_all = load_urm()\n",
    "\n",
    "#URM_train, URM_test = split_train_in_two_percentage_global_sample(URM_all, train_percentage = 0.85)\n",
    "#URM_train, URM_validation = split_train_in_two_percentage_global_sample(URM_train, train_percentage = 0.85)\n",
    "URM_train = sps.load_npz('Dataset/Split/URM_train.npz')\n",
    "URM_test =  sps.load_npz('Dataset/Split/URM_test.npz')\n",
    "URM_validation = sps.load_npz('Dataset/Split/URM_validation.npz')\n",
    "\n",
    "evaluator_validation = EvaluatorHoldout(URM_validation, cutoff_list=[10])\n",
    "evaluator_test = EvaluatorHoldout(URM_test, cutoff_list=[10])"
   ]
  },
  {
   "cell_type": "code",
   "execution_count": 3,
   "id": "55c48bd6",
   "metadata": {
    "execution": {
     "iopub.execute_input": "2022-12-13T15:04:30.012677Z",
     "iopub.status.busy": "2022-12-13T15:04:30.012275Z",
     "iopub.status.idle": "2022-12-13T15:41:37.637068Z",
     "shell.execute_reply": "2022-12-13T15:41:37.635842Z"
    },
    "papermill": {
     "duration": 2227.635655,
     "end_time": "2022-12-13T15:41:37.639943",
     "exception": false,
     "start_time": "2022-12-13T15:04:30.004288",
     "status": "completed"
    },
    "tags": []
   },
   "outputs": [
    {
     "name": "stdout",
     "output_type": "stream",
     "text": [
      "SLIMElasticNetRecommender: Processed 3067 (12.5%) in 5.00 min. Items per second: 10.22\n",
      "SLIMElasticNetRecommender: Processed 6373 (26.0%) in 10.00 min. Items per second: 10.62\n",
      "SLIMElasticNetRecommender: Processed 9755 (39.8%) in 15.00 min. Items per second: 10.84\n",
      "SLIMElasticNetRecommender: Processed 13096 (53.4%) in 20.00 min. Items per second: 10.91\n",
      "SLIMElasticNetRecommender: Processed 16467 (67.2%) in 25.00 min. Items per second: 10.98\n",
      "SLIMElasticNetRecommender: Processed 19669 (80.3%) in 30.00 min. Items per second: 10.93\n",
      "SLIMElasticNetRecommender: Processed 23070 (94.1%) in 35.01 min. Items per second: 10.98\n",
      "SLIMElasticNetRecommender: Processed 24507 (100.0%) in 37.10 min. Items per second: 11.01\n"
     ]
    }
   ],
   "source": [
    "from Recommenders.SLIM.SLIMElasticNetRecommender import SLIMElasticNetRecommender\n",
    "\n",
    "recommender_SLIMElasticNet = SLIMElasticNetRecommender(URM_all)\n",
    "recommender_SLIMElasticNet.fit(topK=585, l1_ratio=0.009929794168572358, alpha=0.0018687691383859428) "
   ]
  },
  {
   "cell_type": "code",
   "execution_count": 4,
   "id": "509d132b",
   "metadata": {
    "execution": {
     "iopub.execute_input": "2022-12-13T15:41:37.656238Z",
     "iopub.status.busy": "2022-12-13T15:41:37.655824Z",
     "iopub.status.idle": "2022-12-13T15:52:07.287608Z",
     "shell.execute_reply": "2022-12-13T15:52:07.285076Z"
    },
    "papermill": {
     "duration": 629.645346,
     "end_time": "2022-12-13T15:52:07.292269",
     "exception": false,
     "start_time": "2022-12-13T15:41:37.646923",
     "status": "completed"
    },
    "tags": []
   },
   "outputs": [
    {
     "name": "stdout",
     "output_type": "stream",
     "text": [
      "EASE_R_Recommender: Fitting model... \n",
      "EASE_R_Recommender: Fitting model... done in 10.47 min\n"
     ]
    }
   ],
   "source": [
    "from Recommenders.EASE_R.EASE_R_Recommender import EASE_R_Recommender\n",
    "\n",
    "recommender_EaseR = EASE_R_Recommender(URM_all)\n",
    "recommender_EaseR.fit(topK=None, normalize_matrix=False, l2_norm=157.86876317814773)"
   ]
  },
  {
   "cell_type": "code",
   "execution_count": 5,
   "id": "2a65b8de",
   "metadata": {
    "execution": {
     "iopub.execute_input": "2022-12-13T15:52:07.324913Z",
     "iopub.status.busy": "2022-12-13T15:52:07.323579Z",
     "iopub.status.idle": "2022-12-13T15:52:07.347044Z",
     "shell.execute_reply": "2022-12-13T15:52:07.346123Z"
    },
    "papermill": {
     "duration": 0.04402,
     "end_time": "2022-12-13T15:52:07.350536",
     "exception": false,
     "start_time": "2022-12-13T15:52:07.306516",
     "status": "completed"
    },
    "tags": []
   },
   "outputs": [],
   "source": [
    "from numpy import linalg as LA\n",
    "from Recommenders.BaseRecommender import BaseRecommender\n",
    "\n",
    "class MergeRaccomandationsHybridRecommender(BaseRecommender):\n",
    "    \"\"\" ScoresHybridRecommender\n",
    "    Hybrid of two prediction scores R = R1/norm*alpha + R2/norm*(1-alpha) where R1 and R2 come from\n",
    "    algorithms trained on different loss functions.\n",
    "\n",
    "    \"\"\"\n",
    "\n",
    "    RECOMMENDER_NAME = \"MergeRaccomandationsHybridRecommender\"\n",
    "\n",
    "\n",
    "    def __init__(self, URM_train, recommender_1, recommender_2):\n",
    "        super(MergeRaccomandationsHybridRecommender, self).__init__(URM_train)\n",
    "\n",
    "        self.URM_train = sps.csr_matrix(URM_train)\n",
    "        self.recommender_1 = recommender_1\n",
    "        self.recommender_2 = recommender_2\n",
    "    \n",
    "    def _compute_item_score(self, user_id_array, items_to_compute):\n",
    "        \n",
    "        # In a simple extension this could be a loop over a list of pretrained recommender objects\n",
    "        item_weights_1 = self.recommender_1._compute_item_score(user_id_array)\n",
    "        item_weights_2 = self.recommender_2._compute_item_score(user_id_array)\n",
    "\n",
    "        item_weights = item_weights_1*0.5 + item_weights_2*0.5\n",
    "\n",
    "        return item_weights\n",
    "        \n",
    "    def recommend(self, user_id_array, cutoff = None, remove_seen_flag=True, items_to_compute = None,\n",
    "                  remove_top_pop_flag = False, remove_custom_items_flag = False, return_scores = False):\n",
    "\n",
    "        # If is a scalar transform it in a 1-cell array\n",
    "        if np.isscalar(user_id_array):\n",
    "            user_id_array = np.atleast_1d(user_id_array)\n",
    "            single_user = True\n",
    "        else:\n",
    "            single_user = False\n",
    "\n",
    "        if cutoff is None:\n",
    "            cutoff = self.URM_train.shape[1] - 1\n",
    "\n",
    "        cutoff = min(cutoff, self.URM_train.shape[1] - 1)\n",
    "\n",
    "        # Compute the scores using the model-specific function\n",
    "        # Vectorize over all users in user_id_array\n",
    "        scores_batch = self._compute_item_score(user_id_array, items_to_compute=items_to_compute)\n",
    "\n",
    "\n",
    "        for user_index in range(len(user_id_array)):\n",
    "\n",
    "            user_id = user_id_array[user_index]\n",
    "\n",
    "            if remove_seen_flag:\n",
    "                scores_batch[user_index,:] = self._remove_seen_on_scores(user_id, scores_batch[user_index, :])\n",
    "\n",
    "            # Sorting is done in three steps. Faster then plain np.argsort for higher number of items\n",
    "            # - Partition the data to extract the set of relevant items\n",
    "            # - Sort only the relevant items\n",
    "            # - Get the original item index\n",
    "            # relevant_items_partition = (-scores_user).argpartition(cutoff)[0:cutoff]\n",
    "            # relevant_items_partition_sorting = np.argsort(-scores_user[relevant_items_partition])\n",
    "            # ranking = relevant_items_partition[relevant_items_partition_sorting]\n",
    "            #\n",
    "            # ranking_list.append(ranking)\n",
    "\n",
    "\n",
    "        if remove_top_pop_flag:\n",
    "            scores_batch = self._remove_TopPop_on_scores(scores_batch)\n",
    "\n",
    "        if remove_custom_items_flag:\n",
    "            scores_batch = self._remove_custom_items_on_scores(scores_batch)\n",
    "\n",
    "        # relevant_items_partition is block_size x cutoff\n",
    "        relevant_items_partition = (-scores_batch).argpartition(cutoff, axis=1)[:,0:cutoff]\n",
    "\n",
    "        # Get original value and sort it\n",
    "        # [:, None] adds 1 dimension to the array, from (block_size,) to (block_size,1)\n",
    "        # This is done to correctly get scores_batch value as [row, relevant_items_partition[row,:]]\n",
    "        relevant_items_partition_original_value = scores_batch[np.arange(scores_batch.shape[0])[:, None], relevant_items_partition]\n",
    "        relevant_items_partition_sorting = np.argsort(-relevant_items_partition_original_value, axis=1)\n",
    "        ranking = relevant_items_partition[np.arange(relevant_items_partition.shape[0])[:, None], relevant_items_partition_sorting]\n",
    "        \n",
    "        ranking_list = [None] * ranking.shape[0]\n",
    "\n",
    "        # Remove from the recommendation list any item that has a -inf score\n",
    "        # Since -inf is a flag to indicate an item to remove\n",
    "        for user_index in range(len(user_id_array)):\n",
    "            user_recommendation_list = ranking[user_index]\n",
    "            user_item_scores = scores_batch[user_index, user_recommendation_list]\n",
    "\n",
    "            not_inf_scores_mask = np.logical_not(np.isinf(user_item_scores))\n",
    "\n",
    "            user_recommendation_list = user_recommendation_list[not_inf_scores_mask]\n",
    "            ranking_list[user_index] = user_recommendation_list.tolist()\n",
    "            \n",
    "            \n",
    "        # MODIFIED PART TO MERGE THE LISTS\n",
    "        list1 = self.recommender_1.recommend(user_id_array, cutoff = cutoff)\n",
    "        list2 = self.recommender_2.recommend(user_id_array, cutoff = cutoff)\n",
    "        \n",
    "        list1 = list1[0]\n",
    "        list2 = list2[0]\n",
    "        \n",
    "        result = []\n",
    "        i = 0\n",
    "            \n",
    "        while len(result) < cutoff:\n",
    "            if list1[i] not in result:\n",
    "                result.append(list1[i])\n",
    "            if (list2[i] != list1[i]):\n",
    "                if list2[i] not in result:\n",
    "                    if len(result) < cutoff:\n",
    "                        result.append(list2[i])\n",
    "            i = i + 1\n",
    "        \n",
    "        if return_scores:\n",
    "            return result, scores_batch\n",
    "        else:\n",
    "            return result"
   ]
  },
  {
   "cell_type": "code",
   "execution_count": 6,
   "id": "4f2d1cea",
   "metadata": {
    "execution": {
     "iopub.execute_input": "2022-12-13T15:52:07.380475Z",
     "iopub.status.busy": "2022-12-13T15:52:07.379695Z",
     "iopub.status.idle": "2022-12-13T15:52:07.393800Z",
     "shell.execute_reply": "2022-12-13T15:52:07.392992Z"
    },
    "papermill": {
     "duration": 0.031807,
     "end_time": "2022-12-13T15:52:07.396243",
     "exception": false,
     "start_time": "2022-12-13T15:52:07.364436",
     "status": "completed"
    },
    "tags": []
   },
   "outputs": [
    {
     "data": {
      "text/plain": [
       "[617, 752, 18484, 391, 2488, 56, 20, 107, 2792, 23]"
      ]
     },
     "execution_count": 6,
     "metadata": {},
     "output_type": "execute_result"
    }
   ],
   "source": [
    "recommender_SLIMElasticNet.recommend(user_id_array=0, cutoff = 10)"
   ]
  },
  {
   "cell_type": "code",
   "execution_count": 7,
   "id": "cc6c5979",
   "metadata": {
    "execution": {
     "iopub.execute_input": "2022-12-13T15:52:07.433954Z",
     "iopub.status.busy": "2022-12-13T15:52:07.433227Z",
     "iopub.status.idle": "2022-12-13T15:52:07.441438Z",
     "shell.execute_reply": "2022-12-13T15:52:07.440614Z"
    },
    "papermill": {
     "duration": 0.026534,
     "end_time": "2022-12-13T15:52:07.443875",
     "exception": false,
     "start_time": "2022-12-13T15:52:07.417341",
     "status": "completed"
    },
    "tags": []
   },
   "outputs": [
    {
     "data": {
      "text/plain": [
       "[20, 673, 391, 752, 617, 23, 25, 2488, 519, 29]"
      ]
     },
     "execution_count": 7,
     "metadata": {},
     "output_type": "execute_result"
    }
   ],
   "source": [
    "recommender_EaseR.recommend(user_id_array=0, cutoff = 10)"
   ]
  },
  {
   "cell_type": "code",
   "execution_count": 8,
   "id": "c01623a2",
   "metadata": {
    "execution": {
     "iopub.execute_input": "2022-12-13T15:52:07.460403Z",
     "iopub.status.busy": "2022-12-13T15:52:07.460012Z",
     "iopub.status.idle": "2022-12-13T15:52:07.520210Z",
     "shell.execute_reply": "2022-12-13T15:52:07.519015Z"
    },
    "papermill": {
     "duration": 0.071219,
     "end_time": "2022-12-13T15:52:07.522623",
     "exception": false,
     "start_time": "2022-12-13T15:52:07.451404",
     "status": "completed"
    },
    "tags": []
   },
   "outputs": [
    {
     "data": {
      "text/plain": [
       "[617, 20, 752, 673, 18484, 391, 2488, 56, 23, 25]"
      ]
     },
     "execution_count": 8,
     "metadata": {},
     "output_type": "execute_result"
    }
   ],
   "source": [
    "recommender = MergeRaccomandationsHybridRecommender(URM_all, recommender_SLIMElasticNet, recommender_EaseR)\n",
    "recommender.recommend(user_id_array=0, cutoff = 10)"
   ]
  },
  {
   "cell_type": "markdown",
   "id": "d4d0ae24",
   "metadata": {
    "papermill": {
     "duration": 0.00751,
     "end_time": "2022-12-13T15:52:07.537993",
     "exception": false,
     "start_time": "2022-12-13T15:52:07.530483",
     "status": "completed"
    },
    "tags": []
   },
   "source": [
    "## Submissions"
   ]
  },
  {
   "cell_type": "code",
   "execution_count": 9,
   "id": "c1504d73",
   "metadata": {
    "execution": {
     "iopub.execute_input": "2022-12-13T15:52:07.556042Z",
     "iopub.status.busy": "2022-12-13T15:52:07.554975Z",
     "iopub.status.idle": "2022-12-13T15:52:07.570189Z",
     "shell.execute_reply": "2022-12-13T15:52:07.569333Z"
    },
    "papermill": {
     "duration": 0.026944,
     "end_time": "2022-12-13T15:52:07.572752",
     "exception": false,
     "start_time": "2022-12-13T15:52:07.545808",
     "status": "completed"
    },
    "tags": []
   },
   "outputs": [],
   "source": [
    "test_users = pd.read_csv('Dataset/data_target_users_test.csv')"
   ]
  },
  {
   "cell_type": "code",
   "execution_count": 10,
   "id": "56bce13b",
   "metadata": {
    "execution": {
     "iopub.execute_input": "2022-12-13T15:52:07.591175Z",
     "iopub.status.busy": "2022-12-13T15:52:07.590450Z",
     "iopub.status.idle": "2022-12-13T15:54:52.520746Z",
     "shell.execute_reply": "2022-12-13T15:54:52.519472Z"
    },
    "papermill": {
     "duration": 164.943161,
     "end_time": "2022-12-13T15:54:52.523919",
     "exception": false,
     "start_time": "2022-12-13T15:52:07.580758",
     "status": "completed"
    },
    "tags": []
   },
   "outputs": [],
   "source": [
    "user_id = test_users['user_id']\n",
    "recommendations = []\n",
    "for user in user_id:\n",
    "    recommendations.append(recommender.recommend(user, cutoff=10))"
   ]
  },
  {
   "cell_type": "code",
   "execution_count": 11,
   "id": "60060ad9",
   "metadata": {
    "execution": {
     "iopub.execute_input": "2022-12-13T15:54:52.543107Z",
     "iopub.status.busy": "2022-12-13T15:54:52.542455Z",
     "iopub.status.idle": "2022-12-13T15:54:55.028546Z",
     "shell.execute_reply": "2022-12-13T15:54:55.027046Z"
    },
    "papermill": {
     "duration": 2.498832,
     "end_time": "2022-12-13T15:54:55.031522",
     "exception": false,
     "start_time": "2022-12-13T15:54:52.532690",
     "status": "completed"
    },
    "tags": []
   },
   "outputs": [],
   "source": [
    "for index in range(len(recommendations)):\n",
    "    recommendations[index]=np.array(recommendations[index])\n",
    "\n",
    "test_users['item_list']= recommendations\n",
    "test_users['item_list'] = pd.DataFrame([str(line).strip('[').strip(']').replace(\"'\",\"\") for line in test_users['item_list']])\n",
    "test_users.to_csv('Submissions/Submission_SLIM_EN_EaseR_ListMerge.csv', index=False)"
   ]
  }
 ],
 "metadata": {
  "kernelspec": {
   "display_name": "Python 3",
   "language": "python",
   "name": "python3"
  },
  "language_info": {
   "codemirror_mode": {
    "name": "ipython",
    "version": 3
   },
   "file_extension": ".py",
   "mimetype": "text/x-python",
   "name": "python",
   "nbconvert_exporter": "python",
   "pygments_lexer": "ipython3",
   "version": "3.7.12"
  },
  "papermill": {
   "default_parameters": {},
   "duration": 3051.560393,
   "end_time": "2022-12-13T15:54:56.074683",
   "environment_variables": {},
   "exception": null,
   "input_path": "__notebook__.ipynb",
   "output_path": "__notebook__.ipynb",
   "parameters": {},
   "start_time": "2022-12-13T15:04:04.514290",
   "version": "2.3.4"
  }
 },
 "nbformat": 4,
 "nbformat_minor": 5
}
