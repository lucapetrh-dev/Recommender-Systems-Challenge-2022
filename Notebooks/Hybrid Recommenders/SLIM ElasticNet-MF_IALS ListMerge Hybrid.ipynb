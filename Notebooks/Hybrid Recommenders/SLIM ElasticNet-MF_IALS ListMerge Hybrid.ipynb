{
 "cells": [
  {
   "cell_type": "code",
   "execution_count": 2,
   "id": "c5672b27",
   "metadata": {
    "execution": {
     "iopub.execute_input": "2022-12-06T11:34:26.557711Z",
     "iopub.status.busy": "2022-12-06T11:34:26.557250Z",
     "iopub.status.idle": "2022-12-06T11:34:26.689463Z",
     "shell.execute_reply": "2022-12-06T11:34:26.688308Z"
    },
    "papermill": {
     "duration": 0.143422,
     "end_time": "2022-12-06T11:34:26.692514",
     "exception": false,
     "start_time": "2022-12-06T11:34:26.549092",
     "status": "completed"
    },
    "tags": []
   },
   "outputs": [],
   "source": [
    "import pandas as pd\n",
    "import numpy as np\n",
    "import scipy.sparse as sps\n",
    "import matplotlib.pyplot as pyplot\n",
    "\n",
    "from Evaluation.Evaluator import EvaluatorHoldout\n",
    "from Data_manager.split_functions.split_train_validation_random_holdout import split_train_in_two_percentage_global_sample\n",
    "from Utils.DataReader import load_urm, load_icm, load_target\n",
    "from Data_manager.split_functions.split_train_validation_random_holdout import split_train_in_two_percentage_global_sample"
   ]
  },
  {
   "cell_type": "code",
   "execution_count": 3,
   "id": "2a3ebe46",
   "metadata": {
    "execution": {
     "iopub.execute_input": "2022-12-06T11:34:26.707245Z",
     "iopub.status.busy": "2022-12-06T11:34:26.706767Z",
     "iopub.status.idle": "2022-12-06T11:34:32.535046Z",
     "shell.execute_reply": "2022-12-06T11:34:32.533517Z"
    },
    "papermill": {
     "duration": 5.838651,
     "end_time": "2022-12-06T11:34:32.537622",
     "exception": false,
     "start_time": "2022-12-06T11:34:26.698971",
     "status": "completed"
    },
    "tags": []
   },
   "outputs": [
    {
     "name": "stdout",
     "output_type": "stream",
     "text": [
      "Warning: 936 (2.25 %) of 41629 users have no sampled items\n",
      "Warning: 1 (0.00 %) of 41629 users have no train items\n",
      "Warning: 1581 (3.80 %) of 41629 users have no sampled items\n",
      "EvaluatorHoldout: Ignoring 1581 ( 3.8%) Users that have less than 1 test interactions\n",
      "EvaluatorHoldout: Ignoring 936 ( 2.2%) Users that have less than 1 test interactions\n"
     ]
    }
   ],
   "source": [
    "URM_all = load_urm()\n",
    "\n",
    "#URM_train, URM_test = split_train_in_two_percentage_global_sample(URM_all, train_percentage = 0.85)\n",
    "#URM_train, URM_validation = split_train_in_two_percentage_global_sample(URM_train, train_percentage = 0.85)\n",
    "URM_train = sps.load_npz('Dataset/Split/URM_train.npz')\n",
    "URM_test =  sps.load_npz('Dataset/Split/URM_test.npz')\n",
    "URM_validation = sps.load_npz('Dataset/Split/URM_validation.npz')\n",
    "\n",
    "evaluator_validation = EvaluatorHoldout(URM_validation, cutoff_list=[10])\n",
    "evaluator_test = EvaluatorHoldout(URM_test, cutoff_list=[10])"
   ]
  },
  {
   "cell_type": "code",
   "execution_count": 4,
   "id": "a2163625",
   "metadata": {
    "execution": {
     "iopub.execute_input": "2022-12-06T11:34:32.552370Z",
     "iopub.status.busy": "2022-12-06T11:34:32.551984Z",
     "iopub.status.idle": "2022-12-06T12:16:13.551980Z",
     "shell.execute_reply": "2022-12-06T12:16:13.550930Z"
    },
    "papermill": {
     "duration": 2501.010383,
     "end_time": "2022-12-06T12:16:13.554460",
     "exception": false,
     "start_time": "2022-12-06T11:34:32.544077",
     "status": "completed"
    },
    "tags": []
   },
   "outputs": [
    {
     "name": "stdout",
     "output_type": "stream",
     "text": [
      "SLIMElasticNetRecommender: Processed 2791 (11.4%) in 5.00 min. Items per second: 9.30\n",
      "SLIMElasticNetRecommender: Processed 5783 (23.6%) in 10.00 min. Items per second: 9.64\n",
      "SLIMElasticNetRecommender: Processed 8817 (36.0%) in 15.00 min. Items per second: 9.79\n",
      "SLIMElasticNetRecommender: Processed 11853 (48.4%) in 20.00 min. Items per second: 9.87\n",
      "SLIMElasticNetRecommender: Processed 14927 (60.9%) in 25.01 min. Items per second: 9.95\n",
      "SLIMElasticNetRecommender: Processed 17799 (72.6%) in 30.01 min. Items per second: 9.89\n",
      "SLIMElasticNetRecommender: Processed 20633 (84.2%) in 35.01 min. Items per second: 9.82\n",
      "SLIMElasticNetRecommender: Processed 23504 (95.9%) in 40.01 min. Items per second: 9.79\n",
      "SLIMElasticNetRecommender: Processed 24507 (100.0%) in 41.65 min. Items per second: 9.81\n"
     ]
    }
   ],
   "source": [
    "from Recommenders.SLIM.SLIMElasticNetRecommender import SLIMElasticNetRecommender\n",
    "\n",
    "# create a Slim elasticnet object\n",
    "slim_en = SLIMElasticNetRecommender(URM_all)\n",
    "slim_en.fit(topK=799, l1_ratio=0.006782112530625445, alpha=0.0023657508503917664) "
   ]
  },
  {
   "cell_type": "code",
   "execution_count": 5,
   "id": "eb1db84c",
   "metadata": {
    "execution": {
     "iopub.execute_input": "2022-12-06T12:16:13.571270Z",
     "iopub.status.busy": "2022-12-06T12:16:13.570534Z",
     "iopub.status.idle": "2022-12-06T12:31:33.549443Z",
     "shell.execute_reply": "2022-12-06T12:31:33.546452Z"
    },
    "papermill": {
     "duration": 919.992301,
     "end_time": "2022-12-06T12:31:33.554030",
     "exception": false,
     "start_time": "2022-12-06T12:16:13.561729",
     "status": "completed"
    },
    "tags": []
   },
   "outputs": [
    {
     "name": "stdout",
     "output_type": "stream",
     "text": [
      "IALSRecommender: Epoch 1 of 45. Elapsed time 19.34 sec\n",
      "IALSRecommender: Epoch 2 of 45. Elapsed time 39.96 sec\n",
      "IALSRecommender: Epoch 3 of 45. Elapsed time 1.01 min\n",
      "IALSRecommender: Epoch 4 of 45. Elapsed time 1.34 min\n",
      "IALSRecommender: Epoch 5 of 45. Elapsed time 1.70 min\n",
      "IALSRecommender: Epoch 6 of 45. Elapsed time 2.05 min\n",
      "IALSRecommender: Epoch 7 of 45. Elapsed time 2.37 min\n",
      "IALSRecommender: Epoch 8 of 45. Elapsed time 2.72 min\n",
      "IALSRecommender: Epoch 9 of 45. Elapsed time 3.08 min\n",
      "IALSRecommender: Epoch 10 of 45. Elapsed time 3.41 min\n",
      "IALSRecommender: Epoch 11 of 45. Elapsed time 3.77 min\n",
      "IALSRecommender: Epoch 12 of 45. Elapsed time 4.13 min\n",
      "IALSRecommender: Epoch 13 of 45. Elapsed time 4.45 min\n",
      "IALSRecommender: Epoch 14 of 45. Elapsed time 4.80 min\n",
      "IALSRecommender: Epoch 15 of 45. Elapsed time 5.16 min\n",
      "IALSRecommender: Epoch 16 of 45. Elapsed time 5.48 min\n",
      "IALSRecommender: Epoch 17 of 45. Elapsed time 5.84 min\n",
      "IALSRecommender: Epoch 18 of 45. Elapsed time 6.16 min\n",
      "IALSRecommender: Epoch 19 of 45. Elapsed time 6.51 min\n",
      "IALSRecommender: Epoch 20 of 45. Elapsed time 6.85 min\n",
      "IALSRecommender: Epoch 21 of 45. Elapsed time 7.17 min\n",
      "IALSRecommender: Epoch 22 of 45. Elapsed time 7.53 min\n",
      "IALSRecommender: Epoch 23 of 45. Elapsed time 7.88 min\n",
      "IALSRecommender: Epoch 24 of 45. Elapsed time 8.20 min\n",
      "IALSRecommender: Epoch 25 of 45. Elapsed time 8.56 min\n",
      "IALSRecommender: Epoch 26 of 45. Elapsed time 8.91 min\n",
      "IALSRecommender: Epoch 27 of 45. Elapsed time 9.22 min\n",
      "IALSRecommender: Epoch 28 of 45. Elapsed time 9.57 min\n",
      "IALSRecommender: Epoch 29 of 45. Elapsed time 9.91 min\n",
      "IALSRecommender: Epoch 30 of 45. Elapsed time 10.24 min\n",
      "IALSRecommender: Epoch 31 of 45. Elapsed time 10.58 min\n",
      "IALSRecommender: Epoch 32 of 45. Elapsed time 10.90 min\n",
      "IALSRecommender: Epoch 33 of 45. Elapsed time 11.25 min\n",
      "IALSRecommender: Epoch 34 of 45. Elapsed time 11.60 min\n",
      "IALSRecommender: Epoch 35 of 45. Elapsed time 11.92 min\n",
      "IALSRecommender: Epoch 36 of 45. Elapsed time 12.26 min\n",
      "IALSRecommender: Epoch 37 of 45. Elapsed time 12.61 min\n",
      "IALSRecommender: Epoch 38 of 45. Elapsed time 12.92 min\n",
      "IALSRecommender: Epoch 39 of 45. Elapsed time 13.27 min\n",
      "IALSRecommender: Epoch 40 of 45. Elapsed time 13.62 min\n",
      "IALSRecommender: Epoch 41 of 45. Elapsed time 13.94 min\n",
      "IALSRecommender: Epoch 42 of 45. Elapsed time 14.29 min\n",
      "IALSRecommender: Epoch 43 of 45. Elapsed time 14.63 min\n",
      "IALSRecommender: Epoch 44 of 45. Elapsed time 14.98 min\n",
      "IALSRecommender: Epoch 45 of 45. Elapsed time 15.33 min\n",
      "IALSRecommender: Terminating at epoch 45. Elapsed time 15.33 min\n"
     ]
    }
   ],
   "source": [
    "from Recommenders.MatrixFactorization.IALSRecommender import IALSRecommender\n",
    "\n",
    "#fit the IALS model tuned in previous experiments\n",
    "mf_ials = IALSRecommender(URM_all)\n",
    "mf_ials.fit(num_factors = 53,\n",
    "            confidence_scaling= 'linear',\n",
    "            alpha = 1.0,\n",
    "            epsilon = 8.071768337775882,\n",
    "            reg = 1e-05,\n",
    "            epochs = 45)"
   ]
  },
  {
   "cell_type": "code",
   "execution_count": 6,
   "id": "f2bd2401",
   "metadata": {
    "execution": {
     "iopub.execute_input": "2022-12-06T12:31:33.605671Z",
     "iopub.status.busy": "2022-12-06T12:31:33.604829Z",
     "iopub.status.idle": "2022-12-06T12:31:33.649698Z",
     "shell.execute_reply": "2022-12-06T12:31:33.648096Z"
    },
    "papermill": {
     "duration": 0.074848,
     "end_time": "2022-12-06T12:31:33.653123",
     "exception": false,
     "start_time": "2022-12-06T12:31:33.578275",
     "status": "completed"
    },
    "tags": []
   },
   "outputs": [],
   "source": [
    "from numpy import linalg as LA\n",
    "from Recommenders.BaseRecommender import BaseRecommender\n",
    "\n",
    "class MergeRaccomandationsHybridRecommender(BaseRecommender):\n",
    "    \"\"\" ScoresHybridRecommender\n",
    "    Hybrid of two prediction scores R = R1/norm*alpha + R2/norm*(1-alpha) where R1 and R2 come from\n",
    "    algorithms trained on different loss functions.\n",
    "\n",
    "    \"\"\"\n",
    "\n",
    "    RECOMMENDER_NAME = \"MergeRaccomandationsHybridRecommender\"\n",
    "\n",
    "\n",
    "    def __init__(self, URM_train, recommender_1, recommender_2):\n",
    "        super(MergeRaccomandationsHybridRecommender, self).__init__(URM_train)\n",
    "\n",
    "        self.URM_train = sps.csr_matrix(URM_train)\n",
    "        self.recommender_1 = recommender_1\n",
    "        self.recommender_2 = recommender_2\n",
    "    \n",
    "    def _compute_item_score(self, user_id_array, items_to_compute):\n",
    "        \n",
    "        # In a simple extension this could be a loop over a list of pretrained recommender objects\n",
    "        item_weights_1 = self.recommender_1._compute_item_score(user_id_array)\n",
    "        item_weights_2 = self.recommender_2._compute_item_score(user_id_array)\n",
    "\n",
    "        item_weights = item_weights_1*0.5 + item_weights_2*0.5\n",
    "\n",
    "        return item_weights\n",
    "        \n",
    "    def recommend(self, user_id_array, cutoff = None, remove_seen_flag=True, items_to_compute = None,\n",
    "                  remove_top_pop_flag = False, remove_custom_items_flag = False, return_scores = False):\n",
    "\n",
    "        # If is a scalar transform it in a 1-cell array\n",
    "        if np.isscalar(user_id_array):\n",
    "            user_id_array = np.atleast_1d(user_id_array)\n",
    "            single_user = True\n",
    "        else:\n",
    "            single_user = False\n",
    "\n",
    "        if cutoff is None:\n",
    "            cutoff = self.URM_train.shape[1] - 1\n",
    "\n",
    "        cutoff = min(cutoff, self.URM_train.shape[1] - 1)\n",
    "\n",
    "        # Compute the scores using the model-specific function\n",
    "        # Vectorize over all users in user_id_array\n",
    "        scores_batch = self._compute_item_score(user_id_array, items_to_compute=items_to_compute)\n",
    "\n",
    "\n",
    "        for user_index in range(len(user_id_array)):\n",
    "\n",
    "            user_id = user_id_array[user_index]\n",
    "\n",
    "            if remove_seen_flag:\n",
    "                scores_batch[user_index,:] = self._remove_seen_on_scores(user_id, scores_batch[user_index, :])\n",
    "\n",
    "            # Sorting is done in three steps. Faster then plain np.argsort for higher number of items\n",
    "            # - Partition the data to extract the set of relevant items\n",
    "            # - Sort only the relevant items\n",
    "            # - Get the original item index\n",
    "            # relevant_items_partition = (-scores_user).argpartition(cutoff)[0:cutoff]\n",
    "            # relevant_items_partition_sorting = np.argsort(-scores_user[relevant_items_partition])\n",
    "            # ranking = relevant_items_partition[relevant_items_partition_sorting]\n",
    "            #\n",
    "            # ranking_list.append(ranking)\n",
    "\n",
    "\n",
    "        if remove_top_pop_flag:\n",
    "            scores_batch = self._remove_TopPop_on_scores(scores_batch)\n",
    "\n",
    "        if remove_custom_items_flag:\n",
    "            scores_batch = self._remove_custom_items_on_scores(scores_batch)\n",
    "\n",
    "        # relevant_items_partition is block_size x cutoff\n",
    "        relevant_items_partition = (-scores_batch).argpartition(cutoff, axis=1)[:,0:cutoff]\n",
    "\n",
    "        # Get original value and sort it\n",
    "        # [:, None] adds 1 dimension to the array, from (block_size,) to (block_size,1)\n",
    "        # This is done to correctly get scores_batch value as [row, relevant_items_partition[row,:]]\n",
    "        relevant_items_partition_original_value = scores_batch[np.arange(scores_batch.shape[0])[:, None], relevant_items_partition]\n",
    "        relevant_items_partition_sorting = np.argsort(-relevant_items_partition_original_value, axis=1)\n",
    "        ranking = relevant_items_partition[np.arange(relevant_items_partition.shape[0])[:, None], relevant_items_partition_sorting]\n",
    "        \n",
    "        ranking_list = [None] * ranking.shape[0]\n",
    "\n",
    "        # Remove from the recommendation list any item that has a -inf score\n",
    "        # Since -inf is a flag to indicate an item to remove\n",
    "        for user_index in range(len(user_id_array)):\n",
    "            user_recommendation_list = ranking[user_index]\n",
    "            user_item_scores = scores_batch[user_index, user_recommendation_list]\n",
    "\n",
    "            not_inf_scores_mask = np.logical_not(np.isinf(user_item_scores))\n",
    "\n",
    "            user_recommendation_list = user_recommendation_list[not_inf_scores_mask]\n",
    "            ranking_list[user_index] = user_recommendation_list.tolist()\n",
    "            \n",
    "            \n",
    "        # MODIFIED PART TO MERGE THE LISTS\n",
    "        list1 = self.recommender_1.recommend(user_id_array, cutoff = cutoff)\n",
    "        list2 = self.recommender_2.recommend(user_id_array, cutoff = cutoff)\n",
    "        \n",
    "        list1 = list1[0]\n",
    "        list2 = list2[0]\n",
    "        \n",
    "        result = []\n",
    "        i = 0\n",
    "            \n",
    "        while len(result) < cutoff:\n",
    "            if list1[i] not in result:\n",
    "                result.append(list1[i])\n",
    "            if (list2[i] != list1[i]):\n",
    "                if list2[i] not in result:\n",
    "                    if len(result) < cutoff:\n",
    "                        result.append(list2[i])\n",
    "            i = i + 1\n",
    "        \n",
    "        if return_scores:\n",
    "            return result, scores_batch\n",
    "        else:\n",
    "            return result"
   ]
  },
  {
   "cell_type": "code",
   "execution_count": 7,
   "id": "d4b84c3e",
   "metadata": {
    "execution": {
     "iopub.execute_input": "2022-12-06T12:31:33.678315Z",
     "iopub.status.busy": "2022-12-06T12:31:33.677897Z",
     "iopub.status.idle": "2022-12-06T12:31:33.690933Z",
     "shell.execute_reply": "2022-12-06T12:31:33.689786Z"
    },
    "papermill": {
     "duration": 0.029524,
     "end_time": "2022-12-06T12:31:33.693965",
     "exception": false,
     "start_time": "2022-12-06T12:31:33.664441",
     "status": "completed"
    },
    "tags": []
   },
   "outputs": [
    {
     "data": {
      "text/plain": [
       "[617, 752, 18484, 391, 20, 56, 2488, 107, 23, 673]"
      ]
     },
     "execution_count": 7,
     "metadata": {},
     "output_type": "execute_result"
    }
   ],
   "source": [
    "slim_en.recommend(user_id_array=0, cutoff = 10)"
   ]
  },
  {
   "cell_type": "code",
   "execution_count": 8,
   "id": "5b125707",
   "metadata": {
    "execution": {
     "iopub.execute_input": "2022-12-06T12:31:33.716370Z",
     "iopub.status.busy": "2022-12-06T12:31:33.715988Z",
     "iopub.status.idle": "2022-12-06T12:31:33.734842Z",
     "shell.execute_reply": "2022-12-06T12:31:33.732984Z"
    },
    "papermill": {
     "duration": 0.035323,
     "end_time": "2022-12-06T12:31:33.739780",
     "exception": false,
     "start_time": "2022-12-06T12:31:33.704457",
     "status": "completed"
    },
    "tags": []
   },
   "outputs": [
    {
     "data": {
      "text/plain": [
       "[519, 53, 1023, 560, 353, 432, 750, 102, 1064, 1024]"
      ]
     },
     "execution_count": 8,
     "metadata": {},
     "output_type": "execute_result"
    }
   ],
   "source": [
    "mf_ials.recommend(user_id_array=0, cutoff = 10)"
   ]
  },
  {
   "cell_type": "code",
   "execution_count": 9,
   "id": "339f63e0",
   "metadata": {
    "execution": {
     "iopub.execute_input": "2022-12-06T12:31:33.795225Z",
     "iopub.status.busy": "2022-12-06T12:31:33.794308Z",
     "iopub.status.idle": "2022-12-06T12:31:33.878136Z",
     "shell.execute_reply": "2022-12-06T12:31:33.876178Z"
    },
    "papermill": {
     "duration": 0.117666,
     "end_time": "2022-12-06T12:31:33.883455",
     "exception": false,
     "start_time": "2022-12-06T12:31:33.765789",
     "status": "completed"
    },
    "tags": []
   },
   "outputs": [
    {
     "data": {
      "text/plain": [
       "[617, 519, 752, 53, 18484, 1023, 391, 560, 20, 353]"
      ]
     },
     "execution_count": 9,
     "metadata": {},
     "output_type": "execute_result"
    }
   ],
   "source": [
    "recommender = MergeRaccomandationsHybridRecommender(URM_all, slim_en, mf_ials)\n",
    "recommender.recommend(user_id_array=0, cutoff = 10)"
   ]
  },
  {
   "cell_type": "markdown",
   "id": "ee73e386",
   "metadata": {
    "papermill": {
     "duration": 0.026541,
     "end_time": "2022-12-06T12:31:33.938583",
     "exception": false,
     "start_time": "2022-12-06T12:31:33.912042",
     "status": "completed"
    },
    "tags": []
   },
   "source": [
    "## Submissions"
   ]
  },
  {
   "cell_type": "code",
   "execution_count": 10,
   "id": "50246ac6",
   "metadata": {
    "execution": {
     "iopub.execute_input": "2022-12-06T12:31:33.991304Z",
     "iopub.status.busy": "2022-12-06T12:31:33.990872Z",
     "iopub.status.idle": "2022-12-06T12:31:34.004860Z",
     "shell.execute_reply": "2022-12-06T12:31:34.003723Z"
    },
    "papermill": {
     "duration": 0.041725,
     "end_time": "2022-12-06T12:31:34.007551",
     "exception": false,
     "start_time": "2022-12-06T12:31:33.965826",
     "status": "completed"
    },
    "tags": []
   },
   "outputs": [],
   "source": [
    "test_users = pd.read_csv('Dataset/data_target_users_test.csv')"
   ]
  },
  {
   "cell_type": "code",
   "execution_count": 11,
   "id": "dd16ae8a",
   "metadata": {
    "execution": {
     "iopub.execute_input": "2022-12-06T12:31:34.031423Z",
     "iopub.status.busy": "2022-12-06T12:31:34.031035Z",
     "iopub.status.idle": "2022-12-06T12:36:37.342104Z",
     "shell.execute_reply": "2022-12-06T12:36:37.340064Z"
    },
    "papermill": {
     "duration": 303.328167,
     "end_time": "2022-12-06T12:36:37.346604",
     "exception": false,
     "start_time": "2022-12-06T12:31:34.018437",
     "status": "completed"
    },
    "tags": []
   },
   "outputs": [],
   "source": [
    "user_id = test_users['user_id']\n",
    "recommendations = []\n",
    "for user in user_id:\n",
    "    recommendations.append(recommender.recommend(user, cutoff=10))"
   ]
  },
  {
   "cell_type": "code",
   "execution_count": 12,
   "id": "f8a15da0",
   "metadata": {
    "execution": {
     "iopub.execute_input": "2022-12-06T12:36:37.404065Z",
     "iopub.status.busy": "2022-12-06T12:36:37.403309Z",
     "iopub.status.idle": "2022-12-06T12:36:39.981090Z",
     "shell.execute_reply": "2022-12-06T12:36:39.979775Z"
    },
    "papermill": {
     "duration": 2.609491,
     "end_time": "2022-12-06T12:36:39.983879",
     "exception": false,
     "start_time": "2022-12-06T12:36:37.374388",
     "status": "completed"
    },
    "tags": []
   },
   "outputs": [],
   "source": [
    "for index in range(len(recommendations)):\n",
    "    recommendations[index]=np.array(recommendations[index])\n",
    "\n",
    "test_users['item_list']= recommendations\n",
    "test_users['item_list'] = pd.DataFrame([str(line).strip('[').strip(']').replace(\"'\",\"\") for line in test_users['item_list']])\n",
    "test_users.to_csv('Submissions/Submission_SLIM_EN_IALS_ListMerge.csv', index=False)"
   ]
  }
 ],
 "metadata": {
  "kernelspec": {
   "display_name": "Python 3",
   "language": "python",
   "name": "python3"
  },
  "language_info": {
   "codemirror_mode": {
    "name": "ipython",
    "version": 3
   },
   "file_extension": ".py",
   "mimetype": "text/x-python",
   "name": "python",
   "nbconvert_exporter": "python",
   "pygments_lexer": "ipython3",
   "version": "3.7.12"
  },
  "papermill": {
   "default_parameters": {},
   "duration": 3752.399575,
   "end_time": "2022-12-06T12:36:40.927589",
   "environment_variables": {},
   "exception": null,
   "input_path": "__notebook__.ipynb",
   "output_path": "__notebook__.ipynb",
   "parameters": {},
   "start_time": "2022-12-06T11:34:08.528014",
   "version": "2.3.4"
  }
 },
 "nbformat": 4,
 "nbformat_minor": 5
}
