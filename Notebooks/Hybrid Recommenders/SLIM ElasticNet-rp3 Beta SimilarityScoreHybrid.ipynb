{
 "cells": [
  {
   "cell_type": "code",
   "execution_count": 1,
   "id": "40b5bf8d",
   "metadata": {
    "_cell_guid": "b1076dfc-b9ad-4769-8c92-a6c4dae69d19",
    "_uuid": "8f2839f25d086af736a60e9eeb907d3b93b6e0e5",
    "execution": {
     "iopub.execute_input": "2023-01-10T14:28:08.971667Z",
     "iopub.status.busy": "2023-01-10T14:28:08.970860Z",
     "iopub.status.idle": "2023-01-10T14:28:21.759064Z",
     "shell.execute_reply": "2023-01-10T14:28:21.757495Z"
    },
    "papermill": {
     "duration": 12.801191,
     "end_time": "2023-01-10T14:28:21.762071",
     "exception": false,
     "start_time": "2023-01-10T14:28:08.960880",
     "status": "completed"
    },
    "tags": []
   },
   "outputs": [
    {
     "name": "stdout",
     "output_type": "stream",
     "text": [
      "Cloning into 'Recommender-Systems-Challenge-2022'...\r\n",
      "remote: Enumerating objects: 619, done.\u001B[K\r\n",
      "remote: Counting objects: 100% (215/215), done.\u001B[K\r\n",
      "remote: Compressing objects: 100% (162/162), done.\u001B[K\r\n",
      "remote: Total 619 (delta 107), reused 139 (delta 52), pack-reused 404\u001B[K\r\n",
      "Receiving objects: 100% (619/619), 106.18 MiB | 21.12 MiB/s, done.\r\n",
      "Resolving deltas: 100% (279/279), done.\r\n",
      "Updating files: 100% (254/254), done.\r\n"
     ]
    }
   ],
   "source": [
    "import pandas as pd\n",
    "import numpy as np\n",
    "import scipy.sparse as sps\n",
    "import matplotlib.pyplot as pyplot\n",
    "\n",
    "from Evaluation.Evaluator import EvaluatorHoldout\n",
    "from Data_manager.split_functions.split_train_validation_random_holdout import split_train_in_two_percentage_global_sample\n",
    "from Utils.DataReader import load_urm, load_icm, load_target"
   ]
  },
  {
   "cell_type": "code",
   "execution_count": 2,
   "id": "25136824",
   "metadata": {
    "execution": {
     "iopub.execute_input": "2023-01-10T14:28:21.781565Z",
     "iopub.status.busy": "2023-01-10T14:28:21.781081Z",
     "iopub.status.idle": "2023-01-10T14:28:22.440148Z",
     "shell.execute_reply": "2023-01-10T14:28:22.438520Z"
    },
    "papermill": {
     "duration": 0.67187,
     "end_time": "2023-01-10T14:28:22.442902",
     "exception": false,
     "start_time": "2023-01-10T14:28:21.771032",
     "status": "completed"
    },
    "tags": []
   },
   "outputs": [
    {
     "name": "stdout",
     "output_type": "stream",
     "text": [
      "EvaluatorHoldout: Ignoring 1541 ( 3.7%) Users that have less than 1 test interactions\n",
      "EvaluatorHoldout: Ignoring 958 ( 2.3%) Users that have less than 1 test interactions\n"
     ]
    }
   ],
   "source": [
    "URM_all = load_urm()\n",
    "\n",
    "#URM_train, URM_test = split_train_in_two_percentage_global_sample(URM_all, train_percentage = 0.85)\n",
    "#URM_train, URM_validation = split_train_in_two_percentage_global_sample(URM_train, train_percentage = 0.85)\n",
    "URM_train = sps.load_npz('Dataset/Split/URM_train.npz')\n",
    "URM_test =  sps.load_npz('Dataset/Split/URM_test.npz')\n",
    "URM_validation = sps.load_npz('Dataset/Split/URM_validation.npz')\n",
    "\n",
    "evaluator_validation = EvaluatorHoldout(URM_validation, cutoff_list=[10])\n",
    "evaluator_test = EvaluatorHoldout(URM_test, cutoff_list=[10])"
   ]
  },
  {
   "cell_type": "code",
   "execution_count": 3,
   "id": "57e2ab85",
   "metadata": {
    "execution": {
     "iopub.execute_input": "2023-01-10T14:28:22.460177Z",
     "iopub.status.busy": "2023-01-10T14:28:22.459770Z",
     "iopub.status.idle": "2023-01-10T15:11:30.385479Z",
     "shell.execute_reply": "2023-01-10T15:11:30.384142Z"
    },
    "papermill": {
     "duration": 2587.937742,
     "end_time": "2023-01-10T15:11:30.388490",
     "exception": false,
     "start_time": "2023-01-10T14:28:22.450748",
     "status": "completed"
    },
    "tags": []
   },
   "outputs": [
    {
     "name": "stdout",
     "output_type": "stream",
     "text": [
      "SLIMElasticNetRecommender: Processed 2608 (10.6%) in 5.00 min. Items per second: 8.69\n",
      "SLIMElasticNetRecommender: Processed 5542 (22.6%) in 10.00 min. Items per second: 9.23\n",
      "SLIMElasticNetRecommender: Processed 8429 (34.4%) in 15.00 min. Items per second: 9.36\n",
      "SLIMElasticNetRecommender: Processed 11261 (46.0%) in 20.00 min. Items per second: 9.38\n",
      "SLIMElasticNetRecommender: Processed 14095 (57.5%) in 25.00 min. Items per second: 9.39\n",
      "SLIMElasticNetRecommender: Processed 17023 (69.5%) in 30.00 min. Items per second: 9.46\n",
      "SLIMElasticNetRecommender: Processed 19828 (80.9%) in 35.01 min. Items per second: 9.44\n",
      "SLIMElasticNetRecommender: Processed 22736 (92.8%) in 40.01 min. Items per second: 9.47\n",
      "SLIMElasticNetRecommender: Processed 24507 (100.0%) in 43.10 min. Items per second: 9.48\n"
     ]
    }
   ],
   "source": [
    "from Recommenders.SLIM.SLIMElasticNetRecommender import SLIMElasticNetRecommender\n",
    "\n",
    "recommender_SLIMElasticNet = SLIMElasticNetRecommender(URM_all)\n",
    "recommender_SLIMElasticNet.fit(topK=585, l1_ratio=0.009929794168572358, alpha=0.0018687691383859428)"
   ]
  },
  {
   "cell_type": "code",
   "execution_count": 4,
   "id": "e86b3dad",
   "metadata": {
    "execution": {
     "iopub.execute_input": "2023-01-10T15:11:30.407578Z",
     "iopub.status.busy": "2023-01-10T15:11:30.407087Z",
     "iopub.status.idle": "2023-01-10T15:11:55.908031Z",
     "shell.execute_reply": "2023-01-10T15:11:55.906518Z"
    },
    "papermill": {
     "duration": 25.513516,
     "end_time": "2023-01-10T15:11:55.910780",
     "exception": false,
     "start_time": "2023-01-10T15:11:30.397264",
     "status": "completed"
    },
    "tags": []
   },
   "outputs": [
    {
     "name": "stdout",
     "output_type": "stream",
     "text": [
      "RP3betaRecommender: Similarity column 24507 (100.0%), 1003.61 column/sec. Elapsed time 24.42 sec\n"
     ]
    }
   ],
   "source": [
    "from Recommenders.GraphBased.RP3betaRecommender import RP3betaRecommender\n",
    "\n",
    "recommender_RP3beta = RP3betaRecommender(URM_all)\n",
    "recommender_RP3beta.fit(alpha=0.6949339074999242, beta=0.2853519331891143, topK=59, implicit=True)\n",
    "#recommender_RP3beta.fit(alpha=0.9440960931970539, beta=0.23362882450834893, topK=54, implicit=True)"
   ]
  },
  {
   "cell_type": "code",
   "execution_count": 5,
   "id": "b8617c91",
   "metadata": {
    "execution": {
     "iopub.execute_input": "2023-01-10T15:11:55.929922Z",
     "iopub.status.busy": "2023-01-10T15:11:55.929464Z",
     "iopub.status.idle": "2023-01-10T15:11:56.177923Z",
     "shell.execute_reply": "2023-01-10T15:11:56.176400Z"
    },
    "papermill": {
     "duration": 0.260817,
     "end_time": "2023-01-10T15:11:56.180612",
     "exception": false,
     "start_time": "2023-01-10T15:11:55.919795",
     "status": "completed"
    },
    "tags": []
   },
   "outputs": [],
   "source": [
    "from Recommenders.KNN.ItemKNNCustomSimilarityRecommender import ItemKNNCustomSimilarityRecommender\n",
    "\n",
    "alpha = 0.5\n",
    "new_similarity = (1 - alpha) * recommender_SLIMElasticNet.W_sparse + alpha * recommender_RP3beta.W_sparse\n",
    "\n",
    "recommender = ItemKNNCustomSimilarityRecommender(URM_all)\n",
    "recommender.fit(new_similarity)"
   ]
  },
  {
   "cell_type": "code",
   "execution_count": 6,
   "id": "0970008a",
   "metadata": {
    "execution": {
     "iopub.execute_input": "2023-01-10T15:11:56.200033Z",
     "iopub.status.busy": "2023-01-10T15:11:56.198885Z",
     "iopub.status.idle": "2023-01-10T15:11:56.204857Z",
     "shell.execute_reply": "2023-01-10T15:11:56.203614Z"
    },
    "papermill": {
     "duration": 0.018629,
     "end_time": "2023-01-10T15:11:56.207537",
     "exception": false,
     "start_time": "2023-01-10T15:11:56.188908",
     "status": "completed"
    },
    "tags": []
   },
   "outputs": [],
   "source": [
    "#from Recommenders.EASE_R.EASE_R_Recommender import EASE_R_Recommender\n",
    "\n",
    "#recommender_EaseR = EASE_R_Recommender(URM_all)\n",
    "#recommender_EaseR.fit(topK=None, normalize_matrix=False, l2_norm=157.86876317814773)"
   ]
  },
  {
   "cell_type": "code",
   "execution_count": 7,
   "id": "a1f83cac",
   "metadata": {
    "execution": {
     "iopub.execute_input": "2023-01-10T15:11:56.225721Z",
     "iopub.status.busy": "2023-01-10T15:11:56.225265Z",
     "iopub.status.idle": "2023-01-10T15:11:56.236822Z",
     "shell.execute_reply": "2023-01-10T15:11:56.235622Z"
    },
    "papermill": {
     "duration": 0.023672,
     "end_time": "2023-01-10T15:11:56.239416",
     "exception": false,
     "start_time": "2023-01-10T15:11:56.215744",
     "status": "completed"
    },
    "tags": []
   },
   "outputs": [],
   "source": [
    "from numpy import linalg as LA\n",
    "from Recommenders.BaseRecommender import BaseRecommender\n",
    "\n",
    "class DifferentLossScoresHybridRecommender(BaseRecommender):\n",
    "    \"\"\" ScoresHybridRecommender\n",
    "    Hybrid of two prediction scores R = R1/norm*alpha + R2/norm*(1-alpha) where R1 and R2 come from\n",
    "    algorithms trained on different loss functions.\n",
    "\n",
    "    \"\"\"\n",
    "\n",
    "    RECOMMENDER_NAME = \"DifferentLossScoresHybridRecommender\"\n",
    "\n",
    "\n",
    "    def __init__(self, URM_train, recommender_1, recommender_2):\n",
    "        super(DifferentLossScoresHybridRecommender, self).__init__(URM_train)\n",
    "\n",
    "        self.URM_train = sps.csr_matrix(URM_train)\n",
    "        self.recommender_1 = recommender_1\n",
    "        self.recommender_2 = recommender_2\n",
    "        \n",
    "        \n",
    "        \n",
    "    def fit(self, norm, alpha = 0.5):\n",
    "\n",
    "        self.alpha = alpha\n",
    "        self.norm = norm\n",
    "\n",
    "\n",
    "    def _compute_item_score(self, user_id_array, items_to_compute):\n",
    "        \n",
    "        item_weights_1 = self.recommender_1._compute_item_score(user_id_array)\n",
    "        item_weights_2 = self.recommender_2._compute_item_score(user_id_array)\n",
    "\n",
    "        norm_item_weights_1 = LA.norm(item_weights_1, self.norm)\n",
    "        norm_item_weights_2 = LA.norm(item_weights_2, self.norm)\n",
    "        \n",
    "        \n",
    "        if norm_item_weights_1 == 0:\n",
    "            raise ValueError(\"Norm {} of item weights for recommender 1 is zero. Avoiding division by zero\".format(self.norm))\n",
    "        \n",
    "        if norm_item_weights_2 == 0:\n",
    "            raise ValueError(\"Norm {} of item weights for recommender 2 is zero. Avoiding division by zero\".format(self.norm))\n",
    "        \n",
    "        item_weights = item_weights_1 / norm_item_weights_1 * self.alpha + item_weights_2 / norm_item_weights_2 * (1-self.alpha)\n",
    "\n",
    "        return item_weights"
   ]
  },
  {
   "cell_type": "code",
   "execution_count": 8,
   "id": "32eccabb",
   "metadata": {
    "execution": {
     "iopub.execute_input": "2023-01-10T15:11:56.258856Z",
     "iopub.status.busy": "2023-01-10T15:11:56.257960Z",
     "iopub.status.idle": "2023-01-10T15:11:56.262038Z",
     "shell.execute_reply": "2023-01-10T15:11:56.261157Z"
    },
    "papermill": {
     "duration": 0.016726,
     "end_time": "2023-01-10T15:11:56.264514",
     "exception": false,
     "start_time": "2023-01-10T15:11:56.247788",
     "status": "completed"
    },
    "tags": []
   },
   "outputs": [],
   "source": [
    "#recommender = DifferentLossScoresHybridRecommender(URM_all, recommender_SLIMElasticNet_RP3Beta, recommender_EaseR)\n",
    "#recommender.fit(norm=1, alpha = 1.0)"
   ]
  },
  {
   "cell_type": "markdown",
   "id": "c52f7695",
   "metadata": {
    "papermill": {
     "duration": 0.008521,
     "end_time": "2023-01-10T15:11:56.281275",
     "exception": false,
     "start_time": "2023-01-10T15:11:56.272754",
     "status": "completed"
    },
    "tags": []
   },
   "source": [
    "## Submissions\n"
   ]
  },
  {
   "cell_type": "code",
   "execution_count": 9,
   "id": "5412d203",
   "metadata": {
    "execution": {
     "iopub.execute_input": "2023-01-10T15:11:56.300478Z",
     "iopub.status.busy": "2023-01-10T15:11:56.299792Z",
     "iopub.status.idle": "2023-01-10T15:11:56.311827Z",
     "shell.execute_reply": "2023-01-10T15:11:56.310495Z"
    },
    "papermill": {
     "duration": 0.024824,
     "end_time": "2023-01-10T15:11:56.314709",
     "exception": false,
     "start_time": "2023-01-10T15:11:56.289885",
     "status": "completed"
    },
    "tags": []
   },
   "outputs": [],
   "source": [
    "test_users = pd.read_csv('Dataset/data_target_users_test.csv')"
   ]
  },
  {
   "cell_type": "code",
   "execution_count": 10,
   "id": "10afeb16",
   "metadata": {
    "execution": {
     "iopub.execute_input": "2023-01-10T15:11:56.336398Z",
     "iopub.status.busy": "2023-01-10T15:11:56.335505Z",
     "iopub.status.idle": "2023-01-10T15:12:44.147093Z",
     "shell.execute_reply": "2023-01-10T15:12:44.145912Z"
    },
    "papermill": {
     "duration": 47.825665,
     "end_time": "2023-01-10T15:12:44.149977",
     "exception": false,
     "start_time": "2023-01-10T15:11:56.324312",
     "status": "completed"
    },
    "tags": []
   },
   "outputs": [],
   "source": [
    "user_id = test_users['user_id']\n",
    "recommendations = []\n",
    "for user in user_id:\n",
    "    recommendations.append(recommender.recommend(user, cutoff=10))"
   ]
  },
  {
   "cell_type": "code",
   "execution_count": 11,
   "id": "96284497",
   "metadata": {
    "execution": {
     "iopub.execute_input": "2023-01-10T15:12:44.168541Z",
     "iopub.status.busy": "2023-01-10T15:12:44.168049Z",
     "iopub.status.idle": "2023-01-10T15:12:46.665241Z",
     "shell.execute_reply": "2023-01-10T15:12:46.663784Z"
    },
    "papermill": {
     "duration": 2.509763,
     "end_time": "2023-01-10T15:12:46.668115",
     "exception": false,
     "start_time": "2023-01-10T15:12:44.158352",
     "status": "completed"
    },
    "tags": []
   },
   "outputs": [],
   "source": [
    "for index in range(len(recommendations)):\n",
    "    recommendations[index]=np.array(recommendations[index])\n",
    "\n",
    "test_users['item_list']= recommendations\n",
    "test_users['item_list'] = pd.DataFrame([str(line).strip('[').strip(']').replace(\"'\",\"\") for line in test_users['item_list']])\n",
    "test_users.to_csv('Submissions/Submission_SLIM_EN_rp3Beta_Similarity.csv', index=False)"
   ]
  }
 ],
 "metadata": {
  "kernelspec": {
   "display_name": "Python 3",
   "language": "python",
   "name": "python3"
  },
  "language_info": {
   "codemirror_mode": {
    "name": "ipython",
    "version": 3
   },
   "file_extension": ".py",
   "mimetype": "text/x-python",
   "name": "python",
   "nbconvert_exporter": "python",
   "pygments_lexer": "ipython3",
   "version": "3.7.12"
  },
  "papermill": {
   "default_parameters": {},
   "duration": 2687.838708,
   "end_time": "2023-01-10T15:12:47.503676",
   "environment_variables": {},
   "exception": null,
   "input_path": "__notebook__.ipynb",
   "output_path": "__notebook__.ipynb",
   "parameters": {},
   "start_time": "2023-01-10T14:27:59.664968",
   "version": "2.3.4"
  }
 },
 "nbformat": 4,
 "nbformat_minor": 5
}
