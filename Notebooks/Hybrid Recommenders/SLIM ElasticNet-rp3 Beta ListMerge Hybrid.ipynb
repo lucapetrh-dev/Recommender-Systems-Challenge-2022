{
 "cells": [
  {
   "cell_type": "code",
   "execution_count": 1,
   "id": "57eccc45",
   "metadata": {
    "execution": {
     "iopub.execute_input": "2022-11-29T20:24:41.217456Z",
     "iopub.status.busy": "2022-11-29T20:24:41.216752Z",
     "iopub.status.idle": "2022-11-29T20:24:49.200307Z",
     "shell.execute_reply": "2022-11-29T20:24:49.198859Z"
    },
    "papermill": {
     "duration": 7.995368,
     "end_time": "2022-11-29T20:24:49.203522",
     "exception": false,
     "start_time": "2022-11-29T20:24:41.208154",
     "status": "completed"
    },
    "tags": []
   },
   "outputs": [
    {
     "name": "stdout",
     "output_type": "stream",
     "text": [
      "Cloning into 'Recommender-Systems-Challenge-2022'...\r\n",
      "remote: Enumerating objects: 547, done.\u001B[K\r\n",
      "remote: Counting objects: 100% (143/143), done.\u001B[K\r\n",
      "remote: Compressing objects: 100% (100/100), done.\u001B[K\r\n",
      "remote: Total 547 (delta 76), reused 92 (delta 42), pack-reused 404\u001B[K\r\n",
      "Receiving objects: 100% (547/547), 90.69 MiB | 24.02 MiB/s, done.\r\n",
      "Resolving deltas: 100% (248/248), done.\r\n",
      "Updating files: 100% (228/228), done.\r\n"
     ]
    }
   ],
   "source": [
    "import pandas as pd\n",
    "import numpy as np\n",
    "import scipy.sparse as sps\n",
    "import matplotlib.pyplot as pyplot\n",
    "\n",
    "from Evaluation.Evaluator import EvaluatorHoldout\n",
    "from Data_manager.split_functions.split_train_validation_random_holdout import split_train_in_two_percentage_global_sample\n",
    "from Utils.DataReader import load_urm, load_icm, load_target"
   ]
  },
  {
   "cell_type": "code",
   "execution_count": 2,
   "id": "b3c85068",
   "metadata": {
    "execution": {
     "iopub.execute_input": "2022-11-29T20:24:49.220387Z",
     "iopub.status.busy": "2022-11-29T20:24:49.219844Z",
     "iopub.status.idle": "2022-11-29T20:24:54.916288Z",
     "shell.execute_reply": "2022-11-29T20:24:54.913686Z"
    },
    "papermill": {
     "duration": 5.708501,
     "end_time": "2022-11-29T20:24:54.919021",
     "exception": false,
     "start_time": "2022-11-29T20:24:49.210520",
     "status": "completed"
    },
    "tags": []
   },
   "outputs": [
    {
     "name": "stdout",
     "output_type": "stream",
     "text": [
      "Warning: 936 (2.25 %) of 41629 users have no sampled items\n",
      "Warning: 1489 (3.58 %) of 41629 users have no sampled items\n",
      "EvaluatorHoldout: Ignoring 1489 ( 3.6%) Users that have less than 1 test interactions\n",
      "EvaluatorHoldout: Ignoring 936 ( 2.2%) Users that have less than 1 test interactions\n"
     ]
    }
   ],
   "source": [
    "URM_all = load_urm()\n",
    "\n",
    "URM_train, URM_test = split_train_in_two_percentage_global_sample(URM_all, train_percentage = 0.85)\n",
    "URM_train, URM_validation = split_train_in_two_percentage_global_sample(URM_train, train_percentage = 0.85)\n",
    "\n",
    "evaluator_validation = EvaluatorHoldout(URM_validation, cutoff_list=[10])\n",
    "evaluator_test = EvaluatorHoldout(URM_test, cutoff_list=[10])"
   ]
  },
  {
   "cell_type": "code",
   "execution_count": 3,
   "id": "018f8246",
   "metadata": {
    "execution": {
     "iopub.execute_input": "2022-11-29T20:24:54.934110Z",
     "iopub.status.busy": "2022-11-29T20:24:54.933713Z",
     "iopub.status.idle": "2022-11-29T21:08:54.132889Z",
     "shell.execute_reply": "2022-11-29T21:08:54.131325Z"
    },
    "papermill": {
     "duration": 2639.210263,
     "end_time": "2022-11-29T21:08:54.135958",
     "exception": false,
     "start_time": "2022-11-29T20:24:54.925695",
     "status": "completed"
    },
    "tags": []
   },
   "outputs": [
    {
     "name": "stdout",
     "output_type": "stream",
     "text": [
      "SLIMElasticNetRecommender: Processed 2422 ( 9.9%) in 5.00 min. Items per second: 8.07\n",
      "SLIMElasticNetRecommender: Processed 5136 (21.0%) in 10.00 min. Items per second: 8.56\n",
      "SLIMElasticNetRecommender: Processed 7847 (32.0%) in 15.00 min. Items per second: 8.72\n",
      "SLIMElasticNetRecommender: Processed 10698 (43.7%) in 20.00 min. Items per second: 8.91\n",
      "SLIMElasticNetRecommender: Processed 13493 (55.1%) in 25.00 min. Items per second: 8.99\n",
      "SLIMElasticNetRecommender: Processed 16540 (67.5%) in 30.00 min. Items per second: 9.19\n",
      "SLIMElasticNetRecommender: Processed 19542 (79.7%) in 35.00 min. Items per second: 9.30\n",
      "SLIMElasticNetRecommender: Processed 22423 (91.5%) in 40.01 min. Items per second: 9.34\n",
      "SLIMElasticNetRecommender: Processed 24507 (100.0%) in 43.96 min. Items per second: 9.29\n"
     ]
    }
   ],
   "source": [
    "from Recommenders.SLIM.SLIMElasticNetRecommender import SLIMElasticNetRecommender\n",
    "\n",
    "recommender_SLIMElasticNet = SLIMElasticNetRecommender(URM_all)\n",
    "#recommender_SLIMElasticNet.fit(topK=405, l1_ratio=0.0010299956370568744, alpha=0.01) old values\n",
    "recommender_SLIMElasticNet.fit(topK=306, l1_ratio=0.0035658486108087256, alpha=0.004181961739488717)"
   ]
  },
  {
   "cell_type": "code",
   "execution_count": 4,
   "id": "50df6e89",
   "metadata": {
    "execution": {
     "iopub.execute_input": "2022-11-29T21:08:54.154914Z",
     "iopub.status.busy": "2022-11-29T21:08:54.154425Z",
     "iopub.status.idle": "2022-11-29T21:09:18.165595Z",
     "shell.execute_reply": "2022-11-29T21:09:18.163739Z"
    },
    "papermill": {
     "duration": 24.024699,
     "end_time": "2022-11-29T21:09:18.168587",
     "exception": false,
     "start_time": "2022-11-29T21:08:54.143888",
     "status": "completed"
    },
    "tags": []
   },
   "outputs": [
    {
     "name": "stdout",
     "output_type": "stream",
     "text": [
      "RP3betaRecommender: Similarity column 24507 (100.0%), 1060.72 column/sec. Elapsed time 23.10 sec\n"
     ]
    }
   ],
   "source": [
    "from Recommenders.GraphBased.RP3betaRecommender import RP3betaRecommender\n",
    "\n",
    "recommender_RP3beta = RP3betaRecommender(URM_all)\n",
    "recommender_RP3beta.fit(alpha=0.3196900461986604, beta=0.3530045735373658, topK=44, implicit=False)\n",
    "#recommender_RP3beta.fit(alpha=0.08934428697754494, beta=0.15025275671838492, topK=132, implicit=True)\n",
    "#recommender_RP3beta.fit(topK=167, alpha=1.0, beta=0.4520495673133021, implicit=True) old"
   ]
  },
  {
   "cell_type": "code",
   "execution_count": 5,
   "id": "0a95f11c",
   "metadata": {
    "execution": {
     "iopub.execute_input": "2022-11-29T21:09:18.186203Z",
     "iopub.status.busy": "2022-11-29T21:09:18.185745Z",
     "iopub.status.idle": "2022-11-29T21:10:39.342199Z",
     "shell.execute_reply": "2022-11-29T21:10:39.340503Z"
    },
    "papermill": {
     "duration": 81.169839,
     "end_time": "2022-11-29T21:10:39.346089",
     "exception": false,
     "start_time": "2022-11-29T21:09:18.176250",
     "status": "completed"
    },
    "tags": []
   },
   "outputs": [
    {
     "name": "stdout",
     "output_type": "stream",
     "text": [
      "MAP of the starting models\n",
      "EvaluatorHoldout: Processed 40693 (100.0%) in 46.81 sec. Users per second: 869\n",
      "SLIM ElasticNet - MAP: 0.0\n",
      "EvaluatorHoldout: Processed 40693 (100.0%) in 34.29 sec. Users per second: 1187\n",
      "RP3beta - MAP: 0.0\n"
     ]
    }
   ],
   "source": [
    "print(\"MAP of the starting models\")\n",
    "\n",
    "result_df, _ = evaluator_test.evaluateRecommender(recommender_SLIMElasticNet)\n",
    "print(\"SLIM ElasticNet - MAP: {}\".format(result_df.loc[10][\"MAP\"]))\n",
    "\n",
    "result_df, _ = evaluator_test.evaluateRecommender(recommender_RP3beta)\n",
    "print(\"RP3beta - MAP: {}\".format(result_df.loc[10][\"MAP\"]))"
   ]
  },
  {
   "cell_type": "code",
   "execution_count": 6,
   "id": "5f4ed782",
   "metadata": {
    "execution": {
     "iopub.execute_input": "2022-11-29T21:10:39.364694Z",
     "iopub.status.busy": "2022-11-29T21:10:39.364259Z",
     "iopub.status.idle": "2022-11-29T21:10:39.387400Z",
     "shell.execute_reply": "2022-11-29T21:10:39.386212Z"
    },
    "papermill": {
     "duration": 0.035234,
     "end_time": "2022-11-29T21:10:39.390040",
     "exception": false,
     "start_time": "2022-11-29T21:10:39.354806",
     "status": "completed"
    },
    "tags": []
   },
   "outputs": [],
   "source": [
    "from numpy import linalg as LA\n",
    "from Recommenders.BaseRecommender import BaseRecommender\n",
    "\n",
    "class MergeRaccomandationsHybridRecommender(BaseRecommender):\n",
    "    \"\"\" ScoresHybridRecommender\n",
    "    Hybrid of two prediction scores R = R1/norm*alpha + R2/norm*(1-alpha) where R1 and R2 come from\n",
    "    algorithms trained on different loss functions.\n",
    "\n",
    "    \"\"\"\n",
    "\n",
    "    RECOMMENDER_NAME = \"MergeRaccomandationsHybridRecommender\"\n",
    "\n",
    "\n",
    "    def __init__(self, URM_train, recommender_1, recommender_2):\n",
    "        super(MergeRaccomandationsHybridRecommender, self).__init__(URM_train)\n",
    "\n",
    "        self.URM_train = sps.csr_matrix(URM_train)\n",
    "        self.recommender_1 = recommender_1\n",
    "        self.recommender_2 = recommender_2\n",
    "    \n",
    "    def _compute_item_score(self, user_id_array, items_to_compute):\n",
    "        \n",
    "        # In a simple extension this could be a loop over a list of pretrained recommender objects\n",
    "        item_weights_1 = self.recommender_1._compute_item_score(user_id_array)\n",
    "        item_weights_2 = self.recommender_2._compute_item_score(user_id_array)\n",
    "\n",
    "        item_weights = item_weights_1*0.5 + item_weights_2*0.5\n",
    "\n",
    "        return item_weights\n",
    "        \n",
    "    def recommend(self, user_id_array, cutoff = None, remove_seen_flag=True, items_to_compute = None,\n",
    "                  remove_top_pop_flag = False, remove_custom_items_flag = False, return_scores = False):\n",
    "\n",
    "        # If is a scalar transform it in a 1-cell array\n",
    "        if np.isscalar(user_id_array):\n",
    "            user_id_array = np.atleast_1d(user_id_array)\n",
    "            single_user = True\n",
    "        else:\n",
    "            single_user = False\n",
    "\n",
    "        if cutoff is None:\n",
    "            cutoff = self.URM_train.shape[1] - 1\n",
    "\n",
    "        cutoff = min(cutoff, self.URM_train.shape[1] - 1)\n",
    "\n",
    "        # Compute the scores using the model-specific function\n",
    "        # Vectorize over all users in user_id_array\n",
    "        scores_batch = self._compute_item_score(user_id_array, items_to_compute=items_to_compute)\n",
    "\n",
    "\n",
    "        for user_index in range(len(user_id_array)):\n",
    "\n",
    "            user_id = user_id_array[user_index]\n",
    "\n",
    "            if remove_seen_flag:\n",
    "                scores_batch[user_index,:] = self._remove_seen_on_scores(user_id, scores_batch[user_index, :])\n",
    "\n",
    "            # Sorting is done in three steps. Faster then plain np.argsort for higher number of items\n",
    "            # - Partition the data to extract the set of relevant items\n",
    "            # - Sort only the relevant items\n",
    "            # - Get the original item index\n",
    "            # relevant_items_partition = (-scores_user).argpartition(cutoff)[0:cutoff]\n",
    "            # relevant_items_partition_sorting = np.argsort(-scores_user[relevant_items_partition])\n",
    "            # ranking = relevant_items_partition[relevant_items_partition_sorting]\n",
    "            #\n",
    "            # ranking_list.append(ranking)\n",
    "\n",
    "\n",
    "        if remove_top_pop_flag:\n",
    "            scores_batch = self._remove_TopPop_on_scores(scores_batch)\n",
    "\n",
    "        if remove_custom_items_flag:\n",
    "            scores_batch = self._remove_custom_items_on_scores(scores_batch)\n",
    "\n",
    "        # relevant_items_partition is block_size x cutoff\n",
    "        relevant_items_partition = (-scores_batch).argpartition(cutoff, axis=1)[:,0:cutoff]\n",
    "\n",
    "        # Get original value and sort it\n",
    "        # [:, None] adds 1 dimension to the array, from (block_size,) to (block_size,1)\n",
    "        # This is done to correctly get scores_batch value as [row, relevant_items_partition[row,:]]\n",
    "        relevant_items_partition_original_value = scores_batch[np.arange(scores_batch.shape[0])[:, None], relevant_items_partition]\n",
    "        relevant_items_partition_sorting = np.argsort(-relevant_items_partition_original_value, axis=1)\n",
    "        ranking = relevant_items_partition[np.arange(relevant_items_partition.shape[0])[:, None], relevant_items_partition_sorting]\n",
    "        \n",
    "        ranking_list = [None] * ranking.shape[0]\n",
    "\n",
    "        # Remove from the recommendation list any item that has a -inf score\n",
    "        # Since -inf is a flag to indicate an item to remove\n",
    "        for user_index in range(len(user_id_array)):\n",
    "            user_recommendation_list = ranking[user_index]\n",
    "            user_item_scores = scores_batch[user_index, user_recommendation_list]\n",
    "\n",
    "            not_inf_scores_mask = np.logical_not(np.isinf(user_item_scores))\n",
    "\n",
    "            user_recommendation_list = user_recommendation_list[not_inf_scores_mask]\n",
    "            ranking_list[user_index] = user_recommendation_list.tolist()\n",
    "            \n",
    "            \n",
    "        # MODIFIED PART TO MERGE THE LISTS\n",
    "        list1 = self.recommender_1.recommend(user_id_array, cutoff = cutoff)\n",
    "        list2 = self.recommender_2.recommend(user_id_array, cutoff = cutoff)\n",
    "        \n",
    "        list1 = list1[0]\n",
    "        list2 = list2[0]\n",
    "        \n",
    "        result = []\n",
    "        i = 0\n",
    "            \n",
    "        while len(result) < cutoff:\n",
    "            if list1[i] not in result:\n",
    "                result.append(list1[i])\n",
    "            if (list2[i] != list1[i]):\n",
    "                if list2[i] not in result:\n",
    "                    if len(result) < cutoff:\n",
    "                        result.append(list2[i])\n",
    "            i = i + 1\n",
    "        \n",
    "        if return_scores:\n",
    "            return result, scores_batch\n",
    "        else:\n",
    "            return result"
   ]
  },
  {
   "cell_type": "code",
   "execution_count": 7,
   "id": "c06587a7",
   "metadata": {
    "execution": {
     "iopub.execute_input": "2022-11-29T21:10:39.408207Z",
     "iopub.status.busy": "2022-11-29T21:10:39.407804Z",
     "iopub.status.idle": "2022-11-29T21:10:39.422567Z",
     "shell.execute_reply": "2022-11-29T21:10:39.420718Z"
    },
    "papermill": {
     "duration": 0.028297,
     "end_time": "2022-11-29T21:10:39.426360",
     "exception": false,
     "start_time": "2022-11-29T21:10:39.398063",
     "status": "completed"
    },
    "tags": []
   },
   "outputs": [
    {
     "data": {
      "text/plain": [
       "[617, 752, 18484, 20, 391, 2488, 673, 23, 2495, 107]"
      ]
     },
     "execution_count": 7,
     "metadata": {},
     "output_type": "execute_result"
    }
   ],
   "source": [
    "recommender_SLIMElasticNet.recommend(user_id_array=0, cutoff = 10)"
   ]
  },
  {
   "cell_type": "code",
   "execution_count": 8,
   "id": "a86d47e4",
   "metadata": {
    "execution": {
     "iopub.execute_input": "2022-11-29T21:10:39.444591Z",
     "iopub.status.busy": "2022-11-29T21:10:39.444161Z",
     "iopub.status.idle": "2022-11-29T21:10:39.454340Z",
     "shell.execute_reply": "2022-11-29T21:10:39.453040Z"
    },
    "papermill": {
     "duration": 0.022748,
     "end_time": "2022-11-29T21:10:39.457191",
     "exception": false,
     "start_time": "2022-11-29T21:10:39.434443",
     "status": "completed"
    },
    "tags": []
   },
   "outputs": [
    {
     "data": {
      "text/plain": [
       "[20, 391, 23, 29, 25, 617, 752, 2259, 18484, 2488]"
      ]
     },
     "execution_count": 8,
     "metadata": {},
     "output_type": "execute_result"
    }
   ],
   "source": [
    "recommender_RP3beta.recommend(user_id_array=0, cutoff = 10)"
   ]
  },
  {
   "cell_type": "code",
   "execution_count": 9,
   "id": "7b62d280",
   "metadata": {
    "execution": {
     "iopub.execute_input": "2022-11-29T21:10:39.477001Z",
     "iopub.status.busy": "2022-11-29T21:10:39.476549Z",
     "iopub.status.idle": "2022-11-29T21:10:39.536258Z",
     "shell.execute_reply": "2022-11-29T21:10:39.534935Z"
    },
    "papermill": {
     "duration": 0.073242,
     "end_time": "2022-11-29T21:10:39.539502",
     "exception": false,
     "start_time": "2022-11-29T21:10:39.466260",
     "status": "completed"
    },
    "tags": []
   },
   "outputs": [
    {
     "data": {
      "text/plain": [
       "[617, 20, 752, 391, 18484, 23, 29, 25, 2488, 673]"
      ]
     },
     "execution_count": 9,
     "metadata": {},
     "output_type": "execute_result"
    }
   ],
   "source": [
    "recommender = MergeRaccomandationsHybridRecommender(URM_all, recommender_SLIMElasticNet, recommender_RP3beta)\n",
    "recommender.recommend(user_id_array=0, cutoff = 10)"
   ]
  },
  {
   "cell_type": "markdown",
   "id": "9420e3ad",
   "metadata": {
    "papermill": {
     "duration": 0.008619,
     "end_time": "2022-11-29T21:10:39.556906",
     "exception": false,
     "start_time": "2022-11-29T21:10:39.548287",
     "status": "completed"
    },
    "tags": []
   },
   "source": [
    "## Submissions"
   ]
  },
  {
   "cell_type": "code",
   "execution_count": 10,
   "id": "72840e8c",
   "metadata": {
    "execution": {
     "iopub.execute_input": "2022-11-29T21:10:39.576329Z",
     "iopub.status.busy": "2022-11-29T21:10:39.575899Z",
     "iopub.status.idle": "2022-11-29T21:10:39.587575Z",
     "shell.execute_reply": "2022-11-29T21:10:39.585942Z"
    },
    "papermill": {
     "duration": 0.02617,
     "end_time": "2022-11-29T21:10:39.591979",
     "exception": false,
     "start_time": "2022-11-29T21:10:39.565809",
     "status": "completed"
    },
    "tags": []
   },
   "outputs": [],
   "source": [
    "test_users = pd.read_csv('/kaggle/working/Recommender-Systems-Challenge-2022/Dataset/data_target_users_test.csv')"
   ]
  },
  {
   "cell_type": "code",
   "execution_count": 11,
   "id": "b54b9265",
   "metadata": {
    "execution": {
     "iopub.execute_input": "2022-11-29T21:10:39.611331Z",
     "iopub.status.busy": "2022-11-29T21:10:39.610893Z",
     "iopub.status.idle": "2022-11-29T21:12:32.255477Z",
     "shell.execute_reply": "2022-11-29T21:12:32.254232Z"
    },
    "papermill": {
     "duration": 112.657418,
     "end_time": "2022-11-29T21:12:32.258276",
     "exception": false,
     "start_time": "2022-11-29T21:10:39.600858",
     "status": "completed"
    },
    "tags": []
   },
   "outputs": [],
   "source": [
    "user_id = test_users['user_id']\n",
    "recommendations = []\n",
    "for user in user_id:\n",
    "    recommendations.append(recommender.recommend(user, cutoff=10))"
   ]
  },
  {
   "cell_type": "code",
   "execution_count": 12,
   "id": "719262b4",
   "metadata": {
    "execution": {
     "iopub.execute_input": "2022-11-29T21:12:32.277464Z",
     "iopub.status.busy": "2022-11-29T21:12:32.277083Z",
     "iopub.status.idle": "2022-11-29T21:12:34.839785Z",
     "shell.execute_reply": "2022-11-29T21:12:34.838376Z"
    },
    "papermill": {
     "duration": 2.575705,
     "end_time": "2022-11-29T21:12:34.842616",
     "exception": false,
     "start_time": "2022-11-29T21:12:32.266911",
     "status": "completed"
    },
    "tags": []
   },
   "outputs": [],
   "source": [
    "for index in range(len(recommendations)):\n",
    "    recommendations[index]=np.array(recommendations[index])\n",
    "\n",
    "test_users['item_list']= recommendations\n",
    "test_users['item_list'] = pd.DataFrame([str(line).strip('[').strip(']').replace(\"'\",\"\") for line in test_users['item_list']])\n",
    "test_users.to_csv('/kaggle/working/Submission_SLIM_EN_rp3Beta_ListMerge.csv', index=False)"
   ]
  }
 ],
 "metadata": {
  "kernelspec": {
   "display_name": "Python 3",
   "language": "python",
   "name": "python3"
  },
  "language_info": {
   "codemirror_mode": {
    "name": "ipython",
    "version": 3
   },
   "file_extension": ".py",
   "mimetype": "text/x-python",
   "name": "python",
   "nbconvert_exporter": "python",
   "pygments_lexer": "ipython3",
   "version": "3.7.12"
  },
  "papermill": {
   "default_parameters": {},
   "duration": 2883.764028,
   "end_time": "2022-11-29T21:12:35.681534",
   "environment_variables": {},
   "exception": null,
   "input_path": "__notebook__.ipynb",
   "output_path": "__notebook__.ipynb",
   "parameters": {},
   "start_time": "2022-11-29T20:24:31.917506",
   "version": "2.3.4"
  }
 },
 "nbformat": 4,
 "nbformat_minor": 5
}
