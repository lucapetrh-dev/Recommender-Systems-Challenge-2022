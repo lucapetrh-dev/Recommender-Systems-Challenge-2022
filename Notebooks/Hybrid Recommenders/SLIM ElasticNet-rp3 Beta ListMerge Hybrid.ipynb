{
 "cells": [
  {
   "cell_type": "code",
   "execution_count": 1,
   "id": "e9b17b5e",
   "metadata": {
    "execution": {
     "iopub.execute_input": "2022-12-13T15:07:00.931759Z",
     "iopub.status.busy": "2022-12-13T15:07:00.931110Z",
     "iopub.status.idle": "2022-12-13T15:07:11.232693Z",
     "shell.execute_reply": "2022-12-13T15:07:11.231271Z"
    },
    "papermill": {
     "duration": 10.31453,
     "end_time": "2022-12-13T15:07:11.236385",
     "exception": false,
     "start_time": "2022-12-13T15:07:00.921855",
     "status": "completed"
    },
    "tags": []
   },
   "outputs": [
    {
     "name": "stdout",
     "output_type": "stream",
     "text": [
      "Cloning into 'Recommender-Systems-Challenge-2022'...\r\n",
      "remote: Enumerating objects: 589, done.\u001B[K\r\n",
      "remote: Counting objects: 100% (185/185), done.\u001B[K\r\n",
      "remote: Compressing objects: 100% (134/134), done.\u001B[K\r\n",
      "remote: Total 589 (delta 96), reused 121 (delta 50), pack-reused 404\u001B[K\r\n",
      "Receiving objects: 100% (589/589), 96.00 MiB | 21.16 MiB/s, done.\r\n",
      "Resolving deltas: 100% (268/268), done.\r\n",
      "Updating files: 100% (244/244), done.\r\n"
     ]
    }
   ],
   "source": [
    "import pandas as pd\n",
    "import numpy as np\n",
    "import scipy.sparse as sps\n",
    "import matplotlib.pyplot as pyplot\n",
    "\n",
    "from Evaluation.Evaluator import EvaluatorHoldout\n",
    "from Data_manager.split_functions.split_train_validation_random_holdout import split_train_in_two_percentage_global_sample\n",
    "from Utils.DataReader import load_urm, load_icm, load_target"
   ]
  },
  {
   "cell_type": "code",
   "execution_count": 2,
   "id": "bc720e12",
   "metadata": {
    "execution": {
     "iopub.execute_input": "2022-12-13T15:07:11.256018Z",
     "iopub.status.busy": "2022-12-13T15:07:11.255502Z",
     "iopub.status.idle": "2022-12-13T15:07:17.220246Z",
     "shell.execute_reply": "2022-12-13T15:07:17.218924Z"
    },
    "papermill": {
     "duration": 5.97776,
     "end_time": "2022-12-13T15:07:17.223468",
     "exception": false,
     "start_time": "2022-12-13T15:07:11.245708",
     "status": "completed"
    },
    "tags": []
   },
   "outputs": [
    {
     "name": "stdout",
     "output_type": "stream",
     "text": [
      "Warning: 902 (2.17 %) of 41629 users have no sampled items\n",
      "Warning: 1539 (3.70 %) of 41629 users have no sampled items\n",
      "EvaluatorHoldout: Ignoring 1539 ( 3.7%) Users that have less than 1 test interactions\n",
      "EvaluatorHoldout: Ignoring 902 ( 2.2%) Users that have less than 1 test interactions\n"
     ]
    }
   ],
   "source": [
    "URM_all = load_urm()\n",
    "\n",
    "#URM_train, URM_test = split_train_in_two_percentage_global_sample(URM_all, train_percentage = 0.85)\n",
    "#URM_train, URM_validation = split_train_in_two_percentage_global_sample(URM_train, train_percentage = 0.85)\n",
    "URM_train = sps.load_npz('Dataset/Split/URM_train.npz')\n",
    "URM_test =  sps.load_npz('Dataset/Split/URM_test.npz')\n",
    "URM_validation = sps.load_npz('Dataset/Split/URM_validation.npz')\n",
    "\n",
    "evaluator_validation = EvaluatorHoldout(URM_validation, cutoff_list=[10])\n",
    "evaluator_test = EvaluatorHoldout(URM_test, cutoff_list=[10])"
   ]
  },
  {
   "cell_type": "code",
   "execution_count": 3,
   "id": "b9e18069",
   "metadata": {
    "execution": {
     "iopub.execute_input": "2022-12-13T15:07:17.241826Z",
     "iopub.status.busy": "2022-12-13T15:07:17.241337Z",
     "iopub.status.idle": "2022-12-13T15:53:42.482108Z",
     "shell.execute_reply": "2022-12-13T15:53:42.480717Z"
    },
    "papermill": {
     "duration": 2785.253224,
     "end_time": "2022-12-13T15:53:42.485264",
     "exception": false,
     "start_time": "2022-12-13T15:07:17.232040",
     "status": "completed"
    },
    "tags": []
   },
   "outputs": [
    {
     "name": "stdout",
     "output_type": "stream",
     "text": [
      "SLIMElasticNetRecommender: Processed 2435 ( 9.9%) in 5.00 min. Items per second: 8.11\n",
      "SLIMElasticNetRecommender: Processed 4919 (20.1%) in 10.00 min. Items per second: 8.20\n",
      "SLIMElasticNetRecommender: Processed 7515 (30.7%) in 15.00 min. Items per second: 8.35\n",
      "SLIMElasticNetRecommender: Processed 10175 (41.5%) in 20.00 min. Items per second: 8.48\n",
      "SLIMElasticNetRecommender: Processed 12902 (52.6%) in 25.00 min. Items per second: 8.60\n",
      "SLIMElasticNetRecommender: Processed 15621 (63.7%) in 30.01 min. Items per second: 8.68\n",
      "SLIMElasticNetRecommender: Processed 18302 (74.7%) in 35.01 min. Items per second: 8.71\n",
      "SLIMElasticNetRecommender: Processed 21019 (85.8%) in 40.01 min. Items per second: 8.76\n",
      "SLIMElasticNetRecommender: Processed 23755 (96.9%) in 45.01 min. Items per second: 8.80\n",
      "SLIMElasticNetRecommender: Processed 24507 (100.0%) in 46.39 min. Items per second: 8.80\n"
     ]
    }
   ],
   "source": [
    "from Recommenders.SLIM.SLIMElasticNetRecommender import SLIMElasticNetRecommender\n",
    "\n",
    "recommender_SLIMElasticNet = SLIMElasticNetRecommender(URM_all)\n",
    "recommender_SLIMElasticNet.fit(topK=585, l1_ratio=0.009929794168572358, alpha=0.0018687691383859428)\n",
    "#recommender_SLIMElasticNet.fit(topK=405, l1_ratio=0.0010299956370568744, alpha=0.01) old values\n",
    "#recommender_SLIMElasticNet.fit(topK=306, l1_ratio=0.0035658486108087256, alpha=0.004181961739488717) MAP=0.023007382689392016\n",
    "#recommender_SLIMElasticNet.fit(topK=799, l1_ratio=0.006782112530625445, alpha=0.0023657508503917664) "
   ]
  },
  {
   "cell_type": "code",
   "execution_count": 4,
   "id": "f2c2461a",
   "metadata": {
    "execution": {
     "iopub.execute_input": "2022-12-13T15:53:42.504078Z",
     "iopub.status.busy": "2022-12-13T15:53:42.503620Z",
     "iopub.status.idle": "2022-12-13T15:54:07.542906Z",
     "shell.execute_reply": "2022-12-13T15:54:07.541774Z"
    },
    "papermill": {
     "duration": 25.051537,
     "end_time": "2022-12-13T15:54:07.545497",
     "exception": false,
     "start_time": "2022-12-13T15:53:42.493960",
     "status": "completed"
    },
    "tags": []
   },
   "outputs": [
    {
     "name": "stdout",
     "output_type": "stream",
     "text": [
      "RP3betaRecommender: Similarity column 24507 (100.0%), 1017.89 column/sec. Elapsed time 24.08 sec\n"
     ]
    }
   ],
   "source": [
    "from Recommenders.GraphBased.RP3betaRecommender import RP3betaRecommender\n",
    "\n",
    "recommender_RP3beta = RP3betaRecommender(URM_all)\n",
    "recommender_RP3beta.fit(alpha=0.9440960931970539, beta=0.23362882450834893, topK=54, implicit=True)\n",
    "#recommender_RP3beta.fit(alpha=0.3196900461986604, beta=0.3530045735373658, topK=44, implicit=False) #MAP: 0.021632459998098784\n",
    "#recommender_RP3beta.fit(alpha=0.08934428697754494, beta=0.15025275671838492, topK=132, implicit=True)\n",
    "#recommender_RP3beta.fit(topK=167, alpha=1.0, beta=0.4520495673133021, implicit=True) old"
   ]
  },
  {
   "cell_type": "code",
   "execution_count": 5,
   "id": "75aeaa7a",
   "metadata": {
    "execution": {
     "iopub.execute_input": "2022-12-13T15:54:07.563918Z",
     "iopub.status.busy": "2022-12-13T15:54:07.563521Z",
     "iopub.status.idle": "2022-12-13T15:55:32.754770Z",
     "shell.execute_reply": "2022-12-13T15:55:32.753169Z"
    },
    "papermill": {
     "duration": 85.20346,
     "end_time": "2022-12-13T15:55:32.757433",
     "exception": false,
     "start_time": "2022-12-13T15:54:07.553973",
     "status": "completed"
    },
    "tags": []
   },
   "outputs": [
    {
     "name": "stdout",
     "output_type": "stream",
     "text": [
      "MAP of the starting models\n",
      "EvaluatorHoldout: Processed 40727 (100.0%) in 54.02 sec. Users per second: 754\n",
      "SLIM ElasticNet - MAP: 0.0\n",
      "EvaluatorHoldout: Processed 40727 (100.0%) in 31.11 sec. Users per second: 1309\n",
      "RP3beta - MAP: 0.0\n"
     ]
    }
   ],
   "source": [
    "print(\"MAP of the starting models\")\n",
    "\n",
    "result_df, _ = evaluator_test.evaluateRecommender(recommender_SLIMElasticNet)\n",
    "print(\"SLIM ElasticNet - MAP: {}\".format(result_df.loc[10][\"MAP\"]))\n",
    "\n",
    "result_df, _ = evaluator_test.evaluateRecommender(recommender_RP3beta)\n",
    "print(\"RP3beta - MAP: {}\".format(result_df.loc[10][\"MAP\"]))"
   ]
  },
  {
   "cell_type": "code",
   "execution_count": 6,
   "id": "45b6120a",
   "metadata": {
    "execution": {
     "iopub.execute_input": "2022-12-13T15:55:32.777388Z",
     "iopub.status.busy": "2022-12-13T15:55:32.776867Z",
     "iopub.status.idle": "2022-12-13T15:55:32.801969Z",
     "shell.execute_reply": "2022-12-13T15:55:32.800552Z"
    },
    "papermill": {
     "duration": 0.038339,
     "end_time": "2022-12-13T15:55:32.804576",
     "exception": false,
     "start_time": "2022-12-13T15:55:32.766237",
     "status": "completed"
    },
    "tags": []
   },
   "outputs": [],
   "source": [
    "from numpy import linalg as LA\n",
    "from Recommenders.BaseRecommender import BaseRecommender\n",
    "\n",
    "class MergeRaccomandationsHybridRecommender(BaseRecommender):\n",
    "    \"\"\" ScoresHybridRecommender\n",
    "    Hybrid of two prediction scores R = R1/norm*alpha + R2/norm*(1-alpha) where R1 and R2 come from\n",
    "    algorithms trained on different loss functions.\n",
    "\n",
    "    \"\"\"\n",
    "\n",
    "    RECOMMENDER_NAME = \"MergeRaccomandationsHybridRecommender\"\n",
    "\n",
    "\n",
    "    def __init__(self, URM_train, recommender_1, recommender_2):\n",
    "        super(MergeRaccomandationsHybridRecommender, self).__init__(URM_train)\n",
    "\n",
    "        self.URM_train = sps.csr_matrix(URM_train)\n",
    "        self.recommender_1 = recommender_1\n",
    "        self.recommender_2 = recommender_2\n",
    "    \n",
    "    def _compute_item_score(self, user_id_array, items_to_compute):\n",
    "        \n",
    "        # In a simple extension this could be a loop over a list of pretrained recommender objects\n",
    "        item_weights_1 = self.recommender_1._compute_item_score(user_id_array)\n",
    "        item_weights_2 = self.recommender_2._compute_item_score(user_id_array)\n",
    "\n",
    "        item_weights = item_weights_1*0.5 + item_weights_2*0.5\n",
    "\n",
    "        return item_weights\n",
    "        \n",
    "    def recommend(self, user_id_array, cutoff = None, remove_seen_flag=True, items_to_compute = None,\n",
    "                  remove_top_pop_flag = False, remove_custom_items_flag = False, return_scores = False):\n",
    "\n",
    "        # If is a scalar transform it in a 1-cell array\n",
    "        if np.isscalar(user_id_array):\n",
    "            user_id_array = np.atleast_1d(user_id_array)\n",
    "            single_user = True\n",
    "        else:\n",
    "            single_user = False\n",
    "\n",
    "        if cutoff is None:\n",
    "            cutoff = self.URM_train.shape[1] - 1\n",
    "\n",
    "        cutoff = min(cutoff, self.URM_train.shape[1] - 1)\n",
    "\n",
    "        # Compute the scores using the model-specific function\n",
    "        # Vectorize over all users in user_id_array\n",
    "        scores_batch = self._compute_item_score(user_id_array, items_to_compute=items_to_compute)\n",
    "\n",
    "\n",
    "        for user_index in range(len(user_id_array)):\n",
    "\n",
    "            user_id = user_id_array[user_index]\n",
    "\n",
    "            if remove_seen_flag:\n",
    "                scores_batch[user_index,:] = self._remove_seen_on_scores(user_id, scores_batch[user_index, :])\n",
    "\n",
    "            # Sorting is done in three steps. Faster then plain np.argsort for higher number of items\n",
    "            # - Partition the data to extract the set of relevant items\n",
    "            # - Sort only the relevant items\n",
    "            # - Get the original item index\n",
    "            # relevant_items_partition = (-scores_user).argpartition(cutoff)[0:cutoff]\n",
    "            # relevant_items_partition_sorting = np.argsort(-scores_user[relevant_items_partition])\n",
    "            # ranking = relevant_items_partition[relevant_items_partition_sorting]\n",
    "            #\n",
    "            # ranking_list.append(ranking)\n",
    "\n",
    "\n",
    "        if remove_top_pop_flag:\n",
    "            scores_batch = self._remove_TopPop_on_scores(scores_batch)\n",
    "\n",
    "        if remove_custom_items_flag:\n",
    "            scores_batch = self._remove_custom_items_on_scores(scores_batch)\n",
    "\n",
    "        # relevant_items_partition is block_size x cutoff\n",
    "        relevant_items_partition = (-scores_batch).argpartition(cutoff, axis=1)[:,0:cutoff]\n",
    "\n",
    "        # Get original value and sort it\n",
    "        # [:, None] adds 1 dimension to the array, from (block_size,) to (block_size,1)\n",
    "        # This is done to correctly get scores_batch value as [row, relevant_items_partition[row,:]]\n",
    "        relevant_items_partition_original_value = scores_batch[np.arange(scores_batch.shape[0])[:, None], relevant_items_partition]\n",
    "        relevant_items_partition_sorting = np.argsort(-relevant_items_partition_original_value, axis=1)\n",
    "        ranking = relevant_items_partition[np.arange(relevant_items_partition.shape[0])[:, None], relevant_items_partition_sorting]\n",
    "        \n",
    "        ranking_list = [None] * ranking.shape[0]\n",
    "\n",
    "        # Remove from the recommendation list any item that has a -inf score\n",
    "        # Since -inf is a flag to indicate an item to remove\n",
    "        for user_index in range(len(user_id_array)):\n",
    "            user_recommendation_list = ranking[user_index]\n",
    "            user_item_scores = scores_batch[user_index, user_recommendation_list]\n",
    "\n",
    "            not_inf_scores_mask = np.logical_not(np.isinf(user_item_scores))\n",
    "\n",
    "            user_recommendation_list = user_recommendation_list[not_inf_scores_mask]\n",
    "            ranking_list[user_index] = user_recommendation_list.tolist()\n",
    "            \n",
    "            \n",
    "        # MODIFIED PART TO MERGE THE LISTS\n",
    "        list1 = self.recommender_1.recommend(user_id_array, cutoff = cutoff)\n",
    "        list2 = self.recommender_2.recommend(user_id_array, cutoff = cutoff)\n",
    "        \n",
    "        list1 = list1[0]\n",
    "        list2 = list2[0]\n",
    "        \n",
    "        result = []\n",
    "        i = 0\n",
    "            \n",
    "        while len(result) < cutoff:\n",
    "            if list1[i] not in result:\n",
    "                result.append(list1[i])\n",
    "            if (list2[i] != list1[i]):\n",
    "                if list2[i] not in result:\n",
    "                    if len(result) < cutoff:\n",
    "                        result.append(list2[i])\n",
    "            i = i + 1\n",
    "        \n",
    "        if return_scores:\n",
    "            return result, scores_batch\n",
    "        else:\n",
    "            return result"
   ]
  },
  {
   "cell_type": "code",
   "execution_count": 7,
   "id": "cbba216d",
   "metadata": {
    "execution": {
     "iopub.execute_input": "2022-12-13T15:55:32.824310Z",
     "iopub.status.busy": "2022-12-13T15:55:32.823924Z",
     "iopub.status.idle": "2022-12-13T15:55:32.835384Z",
     "shell.execute_reply": "2022-12-13T15:55:32.834194Z"
    },
    "papermill": {
     "duration": 0.024573,
     "end_time": "2022-12-13T15:55:32.838142",
     "exception": false,
     "start_time": "2022-12-13T15:55:32.813569",
     "status": "completed"
    },
    "tags": []
   },
   "outputs": [
    {
     "data": {
      "text/plain": [
       "[617, 752, 18484, 391, 2488, 56, 20, 107, 2792, 23]"
      ]
     },
     "execution_count": 7,
     "metadata": {},
     "output_type": "execute_result"
    }
   ],
   "source": [
    "recommender_SLIMElasticNet.recommend(user_id_array=0, cutoff = 10)"
   ]
  },
  {
   "cell_type": "code",
   "execution_count": 8,
   "id": "f437cf11",
   "metadata": {
    "execution": {
     "iopub.execute_input": "2022-12-13T15:55:32.857720Z",
     "iopub.status.busy": "2022-12-13T15:55:32.857297Z",
     "iopub.status.idle": "2022-12-13T15:55:32.866341Z",
     "shell.execute_reply": "2022-12-13T15:55:32.865081Z"
    },
    "papermill": {
     "duration": 0.021864,
     "end_time": "2022-12-13T15:55:32.868944",
     "exception": false,
     "start_time": "2022-12-13T15:55:32.847080",
     "status": "completed"
    },
    "tags": []
   },
   "outputs": [
    {
     "data": {
      "text/plain": [
       "[391, 20, 2494, 23, 29, 617, 516, 828, 752, 18484]"
      ]
     },
     "execution_count": 8,
     "metadata": {},
     "output_type": "execute_result"
    }
   ],
   "source": [
    "recommender_RP3beta.recommend(user_id_array=0, cutoff = 10)"
   ]
  },
  {
   "cell_type": "code",
   "execution_count": 9,
   "id": "7e119007",
   "metadata": {
    "execution": {
     "iopub.execute_input": "2022-12-13T15:55:32.888516Z",
     "iopub.status.busy": "2022-12-13T15:55:32.888127Z",
     "iopub.status.idle": "2022-12-13T15:55:32.936078Z",
     "shell.execute_reply": "2022-12-13T15:55:32.934839Z"
    },
    "papermill": {
     "duration": 0.061208,
     "end_time": "2022-12-13T15:55:32.938969",
     "exception": false,
     "start_time": "2022-12-13T15:55:32.877761",
     "status": "completed"
    },
    "tags": []
   },
   "outputs": [
    {
     "data": {
      "text/plain": [
       "[617, 391, 752, 20, 18484, 2494, 23, 2488, 29, 56]"
      ]
     },
     "execution_count": 9,
     "metadata": {},
     "output_type": "execute_result"
    }
   ],
   "source": [
    "recommender = MergeRaccomandationsHybridRecommender(URM_all, recommender_SLIMElasticNet, recommender_RP3beta)\n",
    "recommender.recommend(user_id_array=0, cutoff = 10)"
   ]
  },
  {
   "cell_type": "markdown",
   "id": "37914d3b",
   "metadata": {
    "papermill": {
     "duration": 0.00871,
     "end_time": "2022-12-13T15:55:33.013688",
     "exception": false,
     "start_time": "2022-12-13T15:55:33.004978",
     "status": "completed"
    },
    "tags": []
   },
   "source": [
    "## Submissions"
   ]
  },
  {
   "cell_type": "code",
   "execution_count": 12,
   "id": "a7e33708",
   "metadata": {
    "execution": {
     "iopub.execute_input": "2022-12-13T15:55:33.033898Z",
     "iopub.status.busy": "2022-12-13T15:55:33.033116Z",
     "iopub.status.idle": "2022-12-13T15:55:33.043563Z",
     "shell.execute_reply": "2022-12-13T15:55:33.042545Z"
    },
    "papermill": {
     "duration": 0.023357,
     "end_time": "2022-12-13T15:55:33.045999",
     "exception": false,
     "start_time": "2022-12-13T15:55:33.022642",
     "status": "completed"
    },
    "tags": []
   },
   "outputs": [],
   "source": [
    "test_users = pd.read_csv('Dataset/data_target_users_test.csv')"
   ]
  },
  {
   "cell_type": "code",
   "execution_count": 13,
   "id": "7cf2baf4",
   "metadata": {
    "execution": {
     "iopub.execute_input": "2022-12-13T15:55:33.065468Z",
     "iopub.status.busy": "2022-12-13T15:55:33.065037Z",
     "iopub.status.idle": "2022-12-13T15:57:50.743086Z",
     "shell.execute_reply": "2022-12-13T15:57:50.741668Z"
    },
    "papermill": {
     "duration": 137.691301,
     "end_time": "2022-12-13T15:57:50.746131",
     "exception": false,
     "start_time": "2022-12-13T15:55:33.054830",
     "status": "completed"
    },
    "tags": []
   },
   "outputs": [],
   "source": [
    "user_id = test_users['user_id']\n",
    "recommendations = []\n",
    "for user in user_id:\n",
    "    recommendations.append(recommender.recommend(user, cutoff=10))"
   ]
  },
  {
   "cell_type": "code",
   "execution_count": 14,
   "id": "8f968631",
   "metadata": {
    "execution": {
     "iopub.execute_input": "2022-12-13T15:57:50.765981Z",
     "iopub.status.busy": "2022-12-13T15:57:50.765551Z",
     "iopub.status.idle": "2022-12-13T15:57:53.227824Z",
     "shell.execute_reply": "2022-12-13T15:57:53.226267Z"
    },
    "papermill": {
     "duration": 2.475467,
     "end_time": "2022-12-13T15:57:53.230839",
     "exception": false,
     "start_time": "2022-12-13T15:57:50.755372",
     "status": "completed"
    },
    "tags": []
   },
   "outputs": [],
   "source": [
    "for index in range(len(recommendations)):\n",
    "    recommendations[index]=np.array(recommendations[index])\n",
    "\n",
    "test_users['item_list']= recommendations\n",
    "test_users['item_list'] = pd.DataFrame([str(line).strip('[').strip(']').replace(\"'\",\"\") for line in test_users['item_list']])\n",
    "test_users.to_csv('Submissions/Submission_SLIM_EN_rp3Beta_ListMerge.csv', index=False)"
   ]
  }
 ],
 "metadata": {
  "kernelspec": {
   "display_name": "Python 3",
   "language": "python",
   "name": "python3"
  },
  "language_info": {
   "codemirror_mode": {
    "name": "ipython",
    "version": 3
   },
   "file_extension": ".py",
   "mimetype": "text/x-python",
   "name": "python",
   "nbconvert_exporter": "python",
   "pygments_lexer": "ipython3",
   "version": "3.7.12"
  },
  "papermill": {
   "default_parameters": {},
   "duration": 3062.510205,
   "end_time": "2022-12-13T15:57:54.068355",
   "environment_variables": {},
   "exception": null,
   "input_path": "__notebook__.ipynb",
   "output_path": "__notebook__.ipynb",
   "parameters": {},
   "start_time": "2022-12-13T15:06:51.558150",
   "version": "2.3.4"
  }
 },
 "nbformat": 4,
 "nbformat_minor": 5
}
