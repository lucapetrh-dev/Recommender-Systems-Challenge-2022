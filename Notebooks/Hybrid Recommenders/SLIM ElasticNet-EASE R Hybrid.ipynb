{
 "cells": [
  {
   "cell_type": "code",
   "execution_count": 1,
   "id": "8ef5f2ec",
   "metadata": {
    "_cell_guid": "b1076dfc-b9ad-4769-8c92-a6c4dae69d19",
    "_uuid": "8f2839f25d086af736a60e9eeb907d3b93b6e0e5",
    "execution": {
     "iopub.execute_input": "2022-12-05T21:35:48.757780Z",
     "iopub.status.busy": "2022-12-05T21:35:48.757198Z",
     "iopub.status.idle": "2022-12-05T21:35:56.475535Z",
     "shell.execute_reply": "2022-12-05T21:35:56.474136Z"
    },
    "papermill": {
     "duration": 7.726612,
     "end_time": "2022-12-05T21:35:56.478073",
     "exception": false,
     "start_time": "2022-12-05T21:35:48.751461",
     "status": "completed"
    },
    "tags": []
   },
   "outputs": [
    {
     "name": "stdout",
     "output_type": "stream",
     "text": [
      "Cloning into 'Recommender-Systems-Challenge-2022'...\r\n",
      "remote: Enumerating objects: 571, done.\u001B[K\r\n",
      "remote: Counting objects: 100% (167/167), done.\u001B[K\r\n",
      "remote: Compressing objects: 100% (119/119), done.\u001B[K\r\n",
      "remote: Total 571 (delta 87), reused 109 (delta 47), pack-reused 404\u001B[K\r\n",
      "Receiving objects: 100% (571/571), 91.68 MiB | 23.81 MiB/s, done.\r\n",
      "Resolving deltas: 100% (259/259), done.\r\n",
      "Updating files: 100% (236/236), done.\r\n"
     ]
    }
   ],
   "source": [
    "import pandas as pd\n",
    "import numpy as np\n",
    "import scipy.sparse as sps\n",
    "import matplotlib.pyplot as pyplot\n",
    "\n",
    "from Evaluation.Evaluator import EvaluatorHoldout\n",
    "from Data_manager.split_functions.split_train_validation_random_holdout import split_train_in_two_percentage_global_sample\n",
    "from Utils.DataReader import load_urm, load_icm, load_target"
   ]
  },
  {
   "cell_type": "code",
   "execution_count": 2,
   "id": "d476d2a3",
   "metadata": {
    "execution": {
     "iopub.execute_input": "2022-12-05T21:35:56.489126Z",
     "iopub.status.busy": "2022-12-05T21:35:56.488725Z",
     "iopub.status.idle": "2022-12-05T21:36:01.344863Z",
     "shell.execute_reply": "2022-12-05T21:36:01.343051Z"
    },
    "papermill": {
     "duration": 4.865378,
     "end_time": "2022-12-05T21:36:01.348280",
     "exception": false,
     "start_time": "2022-12-05T21:35:56.482902",
     "status": "completed"
    },
    "tags": []
   },
   "outputs": [
    {
     "name": "stdout",
     "output_type": "stream",
     "text": [
      "Warning: 949 (2.28 %) of 41629 users have no sampled items\n",
      "Warning: 1578 (3.79 %) of 41629 users have no sampled items\n",
      "EvaluatorHoldout: Ignoring 1578 ( 3.8%) Users that have less than 1 test interactions\n",
      "EvaluatorHoldout: Ignoring 949 ( 2.3%) Users that have less than 1 test interactions\n"
     ]
    }
   ],
   "source": [
    "URM_all = load_urm()\n",
    "\n",
    "#URM_train, URM_test = split_train_in_two_percentage_global_sample(URM_all, train_percentage = 0.85)\n",
    "#URM_train, URM_validation = split_train_in_two_percentage_global_sample(URM_train, train_percentage = 0.85)\n",
    "URM_train = sps.load_npz('Dataset/Split/URM_train.npz')\n",
    "URM_test =  sps.load_npz('Dataset/Split/URM_test.npz')\n",
    "URM_validation = sps.load_npz('Dataset/Split/URM_validation.npz')\n",
    "\n",
    "evaluator_validation = EvaluatorHoldout(URM_validation, cutoff_list=[10])\n",
    "evaluator_test = EvaluatorHoldout(URM_test, cutoff_list=[10])"
   ]
  },
  {
   "cell_type": "code",
   "execution_count": 3,
   "id": "fa7f1490",
   "metadata": {
    "execution": {
     "iopub.execute_input": "2022-12-05T21:36:01.359640Z",
     "iopub.status.busy": "2022-12-05T21:36:01.359297Z",
     "iopub.status.idle": "2022-12-05T22:03:44.053603Z",
     "shell.execute_reply": "2022-12-05T22:03:44.052134Z"
    },
    "papermill": {
     "duration": 1662.702399,
     "end_time": "2022-12-05T22:03:44.055828",
     "exception": false,
     "start_time": "2022-12-05T21:36:01.353429",
     "status": "completed"
    },
    "tags": []
   },
   "outputs": [
    {
     "name": "stdout",
     "output_type": "stream",
     "text": [
      "SLIMElasticNetRecommender: Processed 4038 (16.5%) in 5.00 min. Items per second: 13.45\n",
      "SLIMElasticNetRecommender: Processed 8490 (34.6%) in 10.00 min. Items per second: 14.15\n",
      "SLIMElasticNetRecommender: Processed 13001 (53.1%) in 15.00 min. Items per second: 14.44\n",
      "SLIMElasticNetRecommender: Processed 17492 (71.4%) in 20.00 min. Items per second: 14.57\n",
      "SLIMElasticNetRecommender: Processed 22053 (90.0%) in 25.00 min. Items per second: 14.70\n",
      "SLIMElasticNetRecommender: Processed 24507 (100.0%) in 27.68 min. Items per second: 14.75\n"
     ]
    }
   ],
   "source": [
    "from Recommenders.SLIM.SLIMElasticNetRecommender import SLIMElasticNetRecommender\n",
    "\n",
    "recommender_SLIMElasticNet = SLIMElasticNetRecommender(URM_all)\n",
    "recommender_SLIMElasticNet.fit(topK=799, l1_ratio=0.006782112530625445, alpha=0.0023657508503917664) "
   ]
  },
  {
   "cell_type": "code",
   "execution_count": 4,
   "id": "2143c1d4",
   "metadata": {
    "execution": {
     "iopub.execute_input": "2022-12-05T22:03:44.067642Z",
     "iopub.status.busy": "2022-12-05T22:03:44.067299Z",
     "iopub.status.idle": "2022-12-05T22:11:25.758129Z",
     "shell.execute_reply": "2022-12-05T22:11:25.757263Z"
    },
    "papermill": {
     "duration": 461.699396,
     "end_time": "2022-12-05T22:11:25.760401",
     "exception": false,
     "start_time": "2022-12-05T22:03:44.061005",
     "status": "completed"
    },
    "tags": []
   },
   "outputs": [
    {
     "name": "stdout",
     "output_type": "stream",
     "text": [
      "EASE_R_Recommender: Fitting model... \n",
      "EASE_R_Recommender: Fitting model... done in 7.69 min\n"
     ]
    }
   ],
   "source": [
    "from Recommenders.EASE_R.EASE_R_Recommender import EASE_R_Recommender\n",
    "\n",
    "recommender_EaseR = EASE_R_Recommender(URM_all)\n",
    "recommender_EaseR.fit(topK=None, normalize_matrix=False, l2_norm=157.86876317814773)"
   ]
  },
  {
   "cell_type": "code",
   "execution_count": 5,
   "id": "a11137d6",
   "metadata": {
    "execution": {
     "iopub.execute_input": "2022-12-05T22:11:25.772963Z",
     "iopub.status.busy": "2022-12-05T22:11:25.772132Z",
     "iopub.status.idle": "2022-12-05T22:11:25.779657Z",
     "shell.execute_reply": "2022-12-05T22:11:25.778994Z"
    },
    "papermill": {
     "duration": 0.015725,
     "end_time": "2022-12-05T22:11:25.781385",
     "exception": false,
     "start_time": "2022-12-05T22:11:25.765660",
     "status": "completed"
    },
    "tags": []
   },
   "outputs": [],
   "source": [
    "# create a recommender object which performs the hybridation of the 2 models\n",
    "from Recommenders.BaseRecommender import BaseRecommender\n",
    "\n",
    "class ScoresHybridRecommender(BaseRecommender):\n",
    "    \"\"\" ScoresHybridRecommender\n",
    "    Hybrid of two prediction scores R = R1*alpha + R2*(1-alpha)\n",
    "\n",
    "    \"\"\"\n",
    "\n",
    "    RECOMMENDER_NAME = \"ScoresHybridRecommender\"\n",
    "\n",
    "    def __init__(self, URM_train, recommender_1, recommender_2):\n",
    "        super(ScoresHybridRecommender, self).__init__(URM_train)\n",
    "\n",
    "        self.URM_train = sps.csr_matrix(URM_train)\n",
    "        self.recommender_1 = recommender_1\n",
    "        self.recommender_2 = recommender_2\n",
    "        \n",
    "        \n",
    "    def fit(self, alpha = 0.5):\n",
    "        self.alpha = alpha      \n",
    "\n",
    "\n",
    "    def _compute_item_score(self, user_id_array, items_to_compute):\n",
    "        \n",
    "        # In a simple extension this could be a loop over a list of pretrained recommender objects\n",
    "        item_weights_1 = self.recommender_1._compute_item_score(user_id_array)\n",
    "        item_weights_2 = self.recommender_2._compute_item_score(user_id_array)\n",
    "\n",
    "        item_weights = item_weights_1*self.alpha + item_weights_2*(1-self.alpha)\n",
    "\n",
    "        return item_weights"
   ]
  },
  {
   "cell_type": "code",
   "execution_count": 6,
   "id": "98e766c8",
   "metadata": {
    "execution": {
     "iopub.execute_input": "2022-12-05T22:11:25.792939Z",
     "iopub.status.busy": "2022-12-05T22:11:25.792461Z",
     "iopub.status.idle": "2022-12-05T22:11:25.832874Z",
     "shell.execute_reply": "2022-12-05T22:11:25.831836Z"
    },
    "papermill": {
     "duration": 0.048669,
     "end_time": "2022-12-05T22:11:25.835098",
     "exception": false,
     "start_time": "2022-12-05T22:11:25.786429",
     "status": "completed"
    },
    "tags": []
   },
   "outputs": [],
   "source": [
    "recommender = ScoresHybridRecommender(URM_train, recommender_SLIMElasticNet, recommender_EaseR)\n",
    "recommender.fit(alpha = 0)"
   ]
  },
  {
   "cell_type": "markdown",
   "id": "7150c3ad",
   "metadata": {
    "papermill": {
     "duration": 0.004796,
     "end_time": "2022-12-05T22:11:25.845139",
     "exception": false,
     "start_time": "2022-12-05T22:11:25.840343",
     "status": "completed"
    },
    "tags": []
   },
   "source": [
    "## Submissions"
   ]
  },
  {
   "cell_type": "code",
   "execution_count": 7,
   "id": "1a1dcbc7",
   "metadata": {
    "execution": {
     "iopub.execute_input": "2022-12-05T22:11:25.857002Z",
     "iopub.status.busy": "2022-12-05T22:11:25.856525Z",
     "iopub.status.idle": "2022-12-05T22:11:25.867764Z",
     "shell.execute_reply": "2022-12-05T22:11:25.867020Z"
    },
    "papermill": {
     "duration": 0.019881,
     "end_time": "2022-12-05T22:11:25.870018",
     "exception": false,
     "start_time": "2022-12-05T22:11:25.850137",
     "status": "completed"
    },
    "tags": []
   },
   "outputs": [],
   "source": [
    "test_users = pd.read_csv('Dataset/data_target_users_test.csv')"
   ]
  },
  {
   "cell_type": "code",
   "execution_count": 8,
   "id": "b5169ee0",
   "metadata": {
    "execution": {
     "iopub.execute_input": "2022-12-05T22:11:25.882648Z",
     "iopub.status.busy": "2022-12-05T22:11:25.882126Z",
     "iopub.status.idle": "2022-12-05T22:12:26.681671Z",
     "shell.execute_reply": "2022-12-05T22:12:26.679510Z"
    },
    "papermill": {
     "duration": 60.811511,
     "end_time": "2022-12-05T22:12:26.687060",
     "exception": false,
     "start_time": "2022-12-05T22:11:25.875549",
     "status": "completed"
    },
    "tags": []
   },
   "outputs": [],
   "source": [
    "user_id = test_users['user_id']\n",
    "recommendations = []\n",
    "for user in user_id:\n",
    "    recommendations.append(recommender.recommend(user, cutoff=10))"
   ]
  },
  {
   "cell_type": "code",
   "execution_count": 9,
   "id": "cebc81e1",
   "metadata": {
    "execution": {
     "iopub.execute_input": "2022-12-05T22:12:26.704276Z",
     "iopub.status.busy": "2022-12-05T22:12:26.703786Z",
     "iopub.status.idle": "2022-12-05T22:12:28.780055Z",
     "shell.execute_reply": "2022-12-05T22:12:28.778573Z"
    },
    "papermill": {
     "duration": 2.086782,
     "end_time": "2022-12-05T22:12:28.782637",
     "exception": false,
     "start_time": "2022-12-05T22:12:26.695855",
     "status": "completed"
    },
    "tags": []
   },
   "outputs": [],
   "source": [
    "for index in range(len(recommendations)):\n",
    "    recommendations[index]=np.array(recommendations[index])\n",
    "\n",
    "test_users['item_list']= recommendations\n",
    "test_users['item_list'] = pd.DataFrame([str(line).strip('[').strip(']').replace(\"'\",\"\") for line in test_users['item_list']])\n",
    "test_users.to_csv('Submissions/Submission_SLIM_EN_EaseR.csv', index=False)"
   ]
  }
 ],
 "metadata": {
  "kernelspec": {
   "display_name": "Python 3",
   "language": "python",
   "name": "python3"
  },
  "language_info": {
   "codemirror_mode": {
    "name": "ipython",
    "version": 3
   },
   "file_extension": ".py",
   "mimetype": "text/x-python",
   "name": "python",
   "nbconvert_exporter": "python",
   "pygments_lexer": "ipython3",
   "version": "3.7.12"
  },
  "papermill": {
   "default_parameters": {},
   "duration": 2208.484703,
   "end_time": "2022-12-05T22:12:29.617722",
   "environment_variables": {},
   "exception": null,
   "input_path": "__notebook__.ipynb",
   "output_path": "__notebook__.ipynb",
   "parameters": {},
   "start_time": "2022-12-05T21:35:41.133019",
   "version": "2.3.4"
  }
 },
 "nbformat": 4,
 "nbformat_minor": 5
}
