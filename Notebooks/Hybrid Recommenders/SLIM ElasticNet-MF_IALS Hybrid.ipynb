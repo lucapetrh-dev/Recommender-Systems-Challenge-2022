{
 "cells": [
  {
   "cell_type": "code",
   "execution_count": 2,
   "id": "517a1d8f",
   "metadata": {
    "execution": {
     "iopub.execute_input": "2022-12-06T09:19:30.370810Z",
     "iopub.status.busy": "2022-12-06T09:19:30.370309Z",
     "iopub.status.idle": "2022-12-06T09:19:30.518361Z",
     "shell.execute_reply": "2022-12-06T09:19:30.517044Z"
    },
    "papermill": {
     "duration": 0.158844,
     "end_time": "2022-12-06T09:19:30.521174",
     "exception": false,
     "start_time": "2022-12-06T09:19:30.362330",
     "status": "completed"
    },
    "tags": []
   },
   "outputs": [],
   "source": [
    "import pandas as pd\n",
    "import numpy as np\n",
    "import scipy.sparse as sps\n",
    "import matplotlib.pyplot as pyplot\n",
    "\n",
    "from Evaluation.Evaluator import EvaluatorHoldout\n",
    "from Data_manager.split_functions.split_train_validation_random_holdout import split_train_in_two_percentage_global_sample\n",
    "from Utils.DataReader import load_urm, load_icm, load_target\n",
    "from Data_manager.split_functions.split_train_validation_random_holdout import split_train_in_two_percentage_global_sample"
   ]
  },
  {
   "cell_type": "code",
   "execution_count": 3,
   "id": "70ca0b63",
   "metadata": {
    "execution": {
     "iopub.execute_input": "2022-12-06T09:19:30.535100Z",
     "iopub.status.busy": "2022-12-06T09:19:30.534675Z",
     "iopub.status.idle": "2022-12-06T09:19:36.862930Z",
     "shell.execute_reply": "2022-12-06T09:19:36.861098Z"
    },
    "papermill": {
     "duration": 6.338687,
     "end_time": "2022-12-06T09:19:36.865837",
     "exception": false,
     "start_time": "2022-12-06T09:19:30.527150",
     "status": "completed"
    },
    "tags": []
   },
   "outputs": [
    {
     "name": "stdout",
     "output_type": "stream",
     "text": [
      "Warning: 975 (2.34 %) of 41629 users have no sampled items\n",
      "Warning: 1515 (3.64 %) of 41629 users have no sampled items\n",
      "EvaluatorHoldout: Ignoring 1515 ( 3.6%) Users that have less than 1 test interactions\n",
      "EvaluatorHoldout: Ignoring 975 ( 2.3%) Users that have less than 1 test interactions\n"
     ]
    }
   ],
   "source": [
    "URM_all = load_urm()\n",
    "\n",
    "#URM_train, URM_test = split_train_in_two_percentage_global_sample(URM_all, train_percentage = 0.85)\n",
    "#URM_train, URM_validation = split_train_in_two_percentage_global_sample(URM_train, train_percentage = 0.85)\n",
    "URM_train = sps.load_npz('Dataset/Split/URM_train.npz')\n",
    "URM_test =  sps.load_npz('Dataset/Split/URM_test.npz')\n",
    "URM_validation = sps.load_npz('Dataset/Split/URM_validation.npz')\n",
    "\n",
    "evaluator_validation = EvaluatorHoldout(URM_validation, cutoff_list=[10])\n",
    "evaluator_test = EvaluatorHoldout(URM_test, cutoff_list=[10])"
   ]
  },
  {
   "cell_type": "code",
   "execution_count": 4,
   "id": "1bb648e0",
   "metadata": {
    "execution": {
     "iopub.execute_input": "2022-12-06T09:19:36.880121Z",
     "iopub.status.busy": "2022-12-06T09:19:36.879678Z",
     "iopub.status.idle": "2022-12-06T09:36:08.297631Z",
     "shell.execute_reply": "2022-12-06T09:36:08.295884Z"
    },
    "papermill": {
     "duration": 991.433624,
     "end_time": "2022-12-06T09:36:08.305772",
     "exception": false,
     "start_time": "2022-12-06T09:19:36.872148",
     "status": "completed"
    },
    "tags": []
   },
   "outputs": [
    {
     "name": "stdout",
     "output_type": "stream",
     "text": [
      "IALSRecommender: Epoch 1 of 45. Elapsed time 23.35 sec\n",
      "IALSRecommender: Epoch 2 of 45. Elapsed time 47.72 sec\n",
      "IALSRecommender: Epoch 3 of 45. Elapsed time 1.15 min\n",
      "IALSRecommender: Epoch 4 of 45. Elapsed time 1.53 min\n",
      "IALSRecommender: Epoch 5 of 45. Elapsed time 1.91 min\n",
      "IALSRecommender: Epoch 6 of 45. Elapsed time 2.29 min\n",
      "IALSRecommender: Epoch 7 of 45. Elapsed time 2.65 min\n",
      "IALSRecommender: Epoch 8 of 45. Elapsed time 3.02 min\n",
      "IALSRecommender: Epoch 9 of 45. Elapsed time 3.40 min\n",
      "IALSRecommender: Epoch 10 of 45. Elapsed time 3.74 min\n",
      "IALSRecommender: Epoch 11 of 45. Elapsed time 4.13 min\n",
      "IALSRecommender: Epoch 12 of 45. Elapsed time 4.50 min\n",
      "IALSRecommender: Epoch 13 of 45. Elapsed time 4.85 min\n",
      "IALSRecommender: Epoch 14 of 45. Elapsed time 5.23 min\n",
      "IALSRecommender: Epoch 15 of 45. Elapsed time 5.60 min\n",
      "IALSRecommender: Epoch 16 of 45. Elapsed time 5.97 min\n",
      "IALSRecommender: Epoch 17 of 45. Elapsed time 6.34 min\n",
      "IALSRecommender: Epoch 18 of 45. Elapsed time 6.72 min\n",
      "IALSRecommender: Epoch 19 of 45. Elapsed time 7.09 min\n",
      "IALSRecommender: Epoch 20 of 45. Elapsed time 7.46 min\n",
      "IALSRecommender: Epoch 21 of 45. Elapsed time 7.84 min\n",
      "IALSRecommender: Epoch 22 of 45. Elapsed time 8.22 min\n",
      "IALSRecommender: Epoch 23 of 45. Elapsed time 8.56 min\n",
      "IALSRecommender: Epoch 24 of 45. Elapsed time 8.95 min\n",
      "IALSRecommender: Epoch 25 of 45. Elapsed time 9.32 min\n",
      "IALSRecommender: Epoch 26 of 45. Elapsed time 9.66 min\n",
      "IALSRecommender: Epoch 27 of 45. Elapsed time 10.03 min\n",
      "IALSRecommender: Epoch 28 of 45. Elapsed time 10.39 min\n",
      "IALSRecommender: Epoch 29 of 45. Elapsed time 10.73 min\n",
      "IALSRecommender: Epoch 30 of 45. Elapsed time 11.11 min\n",
      "IALSRecommender: Epoch 31 of 45. Elapsed time 11.47 min\n",
      "IALSRecommender: Epoch 32 of 45. Elapsed time 11.81 min\n",
      "IALSRecommender: Epoch 33 of 45. Elapsed time 12.19 min\n",
      "IALSRecommender: Epoch 34 of 45. Elapsed time 12.56 min\n",
      "IALSRecommender: Epoch 35 of 45. Elapsed time 12.90 min\n",
      "IALSRecommender: Epoch 36 of 45. Elapsed time 13.27 min\n",
      "IALSRecommender: Epoch 37 of 45. Elapsed time 13.63 min\n",
      "IALSRecommender: Epoch 38 of 45. Elapsed time 13.98 min\n",
      "IALSRecommender: Epoch 39 of 45. Elapsed time 14.34 min\n",
      "IALSRecommender: Epoch 40 of 45. Elapsed time 14.71 min\n",
      "IALSRecommender: Epoch 41 of 45. Elapsed time 15.05 min\n",
      "IALSRecommender: Epoch 42 of 45. Elapsed time 15.42 min\n",
      "IALSRecommender: Epoch 43 of 45. Elapsed time 15.80 min\n",
      "IALSRecommender: Epoch 44 of 45. Elapsed time 16.17 min\n",
      "IALSRecommender: Epoch 45 of 45. Elapsed time 16.52 min\n",
      "IALSRecommender: Terminating at epoch 45. Elapsed time 16.52 min\n"
     ]
    }
   ],
   "source": [
    "from Recommenders.MatrixFactorization.IALSRecommender import IALSRecommender\n",
    "\n",
    "#fit the IALS model tuned in previous experiments\n",
    "mf_ials = IALSRecommender(URM_all)\n",
    "mf_ials.fit(num_factors = 53,\n",
    "            confidence_scaling= 'linear',\n",
    "            alpha = 1.0,\n",
    "            epsilon = 8.071768337775882,\n",
    "            reg = 1e-05,\n",
    "            epochs = 45)"
   ]
  },
  {
   "cell_type": "code",
   "execution_count": 6,
   "id": "2f1deb21",
   "metadata": {
    "execution": {
     "iopub.execute_input": "2022-12-06T09:36:46.943801Z",
     "iopub.status.busy": "2022-12-06T09:36:46.943142Z",
     "iopub.status.idle": "2022-12-06T10:25:39.651040Z",
     "shell.execute_reply": "2022-12-06T10:25:39.649353Z"
    },
    "papermill": {
     "duration": 2932.721492,
     "end_time": "2022-12-06T10:25:39.654122",
     "exception": false,
     "start_time": "2022-12-06T09:36:46.932630",
     "status": "completed"
    },
    "tags": []
   },
   "outputs": [
    {
     "name": "stdout",
     "output_type": "stream",
     "text": [
      "SLIMElasticNetRecommender: Processed 2363 ( 9.6%) in 5.00 min. Items per second: 7.87\n",
      "SLIMElasticNetRecommender: Processed 4854 (19.8%) in 10.00 min. Items per second: 8.09\n",
      "SLIMElasticNetRecommender: Processed 7425 (30.3%) in 15.00 min. Items per second: 8.25\n",
      "SLIMElasticNetRecommender: Processed 9913 (40.4%) in 20.00 min. Items per second: 8.26\n",
      "SLIMElasticNetRecommender: Processed 12371 (50.5%) in 25.00 min. Items per second: 8.25\n",
      "SLIMElasticNetRecommender: Processed 14883 (60.7%) in 30.01 min. Items per second: 8.27\n",
      "SLIMElasticNetRecommender: Processed 17410 (71.0%) in 35.01 min. Items per second: 8.29\n",
      "SLIMElasticNetRecommender: Processed 19975 (81.5%) in 40.01 min. Items per second: 8.32\n",
      "SLIMElasticNetRecommender: Processed 22541 (92.0%) in 45.01 min. Items per second: 8.35\n",
      "SLIMElasticNetRecommender: Processed 24507 (100.0%) in 48.84 min. Items per second: 8.36\n"
     ]
    }
   ],
   "source": [
    "from Recommenders.SLIM.SLIMElasticNetRecommender import SLIMElasticNetRecommender\n",
    "\n",
    "# create a Slim elasticnet object\n",
    "slim_en = SLIMElasticNetRecommender(URM_all)\n",
    "slim_en.fit(topK=799, l1_ratio=0.006782112530625445, alpha=0.0023657508503917664)"
   ]
  },
  {
   "cell_type": "code",
   "execution_count": 8,
   "id": "7edb4e6b",
   "metadata": {
    "execution": {
     "iopub.execute_input": "2022-12-06T10:26:38.331482Z",
     "iopub.status.busy": "2022-12-06T10:26:38.330349Z",
     "iopub.status.idle": "2022-12-06T10:26:38.341186Z",
     "shell.execute_reply": "2022-12-06T10:26:38.339970Z"
    },
    "papermill": {
     "duration": 0.024751,
     "end_time": "2022-12-06T10:26:38.343895",
     "exception": false,
     "start_time": "2022-12-06T10:26:38.319144",
     "status": "completed"
    },
    "tags": []
   },
   "outputs": [],
   "source": [
    "# create a recommender object which performs the hybridation of the 2 models\n",
    "from Recommenders.BaseRecommender import BaseRecommender\n",
    "\n",
    "class ScoresHybridRecommender(BaseRecommender):\n",
    "    \"\"\" ScoresHybridRecommender\n",
    "    Hybrid of two prediction scores R = R1*alpha + R2*(1-alpha)\n",
    "\n",
    "    \"\"\"\n",
    "\n",
    "    RECOMMENDER_NAME = \"ScoresHybridRecommender\"\n",
    "\n",
    "    def __init__(self, URM_train, recommender_1, recommender_2):\n",
    "        super(ScoresHybridRecommender, self).__init__(URM_train)\n",
    "\n",
    "        self.URM_train = sps.csr_matrix(URM_train)\n",
    "        self.recommender_1 = recommender_1\n",
    "        self.recommender_2 = recommender_2\n",
    "        \n",
    "        \n",
    "    def fit(self, alpha = 0.5):\n",
    "        self.alpha = alpha      \n",
    "\n",
    "\n",
    "    def _compute_item_score(self, user_id_array, items_to_compute):\n",
    "        \n",
    "        # In a simple extension this could be a loop over a list of pretrained recommender objects\n",
    "        item_weights_1 = self.recommender_1._compute_item_score(user_id_array)\n",
    "        item_weights_2 = self.recommender_2._compute_item_score(user_id_array)\n",
    "\n",
    "        item_weights = item_weights_1*self.alpha + item_weights_2*(1-self.alpha)\n",
    "\n",
    "        return item_weights"
   ]
  },
  {
   "cell_type": "code",
   "execution_count": 9,
   "id": "f2b49724",
   "metadata": {
    "execution": {
     "iopub.execute_input": "2022-12-06T10:26:38.372513Z",
     "iopub.status.busy": "2022-12-06T10:26:38.371387Z",
     "iopub.status.idle": "2022-12-06T10:39:25.921736Z",
     "shell.execute_reply": "2022-12-06T10:39:25.919388Z"
    },
    "papermill": {
     "duration": 767.570059,
     "end_time": "2022-12-06T10:39:25.925858",
     "exception": false,
     "start_time": "2022-12-06T10:26:38.355799",
     "status": "completed"
    },
    "tags": []
   },
   "outputs": [
    {
     "name": "stdout",
     "output_type": "stream",
     "text": [
      "Hybrid model with alpha weight:\n",
      "0.0\n",
      "EvaluatorHoldout: Processed 40114 (100.0%) in 1.28 min. Users per second: 521\n",
      "MAP: 0.04741515055108335\n",
      "Hybrid model with alpha weight:\n",
      "0.1\n",
      "EvaluatorHoldout: Processed 40114 (100.0%) in 1.27 min. Users per second: 526\n",
      "MAP: 0.04705265984008596\n",
      "Hybrid model with alpha weight:\n",
      "0.2\n",
      "EvaluatorHoldout: Processed 40114 (100.0%) in 1.27 min. Users per second: 526\n",
      "MAP: 0.046660727244808096\n",
      "Hybrid model with alpha weight:\n",
      "0.30000000000000004\n",
      "EvaluatorHoldout: Processed 40114 (100.0%) in 1.28 min. Users per second: 523\n",
      "MAP: 0.046104198273012875\n",
      "Hybrid model with alpha weight:\n",
      "0.4\n",
      "EvaluatorHoldout: Processed 40114 (100.0%) in 1.29 min. Users per second: 518\n",
      "MAP: 0.04527013092052322\n",
      "Hybrid model with alpha weight:\n",
      "0.5\n",
      "EvaluatorHoldout: Processed 40114 (100.0%) in 1.29 min. Users per second: 518\n",
      "MAP: 0.044089609493890985\n",
      "Hybrid model with alpha weight:\n",
      "0.6000000000000001\n",
      "EvaluatorHoldout: Processed 40114 (100.0%) in 1.28 min. Users per second: 523\n",
      "MAP: 0.04229577845995732\n",
      "Hybrid model with alpha weight:\n",
      "0.7000000000000001\n",
      "EvaluatorHoldout: Processed 40114 (100.0%) in 1.28 min. Users per second: 523\n",
      "MAP: 0.03963840356570791\n",
      "Hybrid model with alpha weight:\n",
      "0.8\n",
      "EvaluatorHoldout: Processed 40114 (100.0%) in 1.28 min. Users per second: 524\n",
      "MAP: 0.03574693472808641\n",
      "Hybrid model with alpha weight:\n",
      "0.9\n",
      "EvaluatorHoldout: Processed 40114 (100.0%) in 1.27 min. Users per second: 525\n",
      "MAP: 0.030815173778539175\n"
     ]
    }
   ],
   "source": [
    "for alpha in np.arange(0,1,0.1):\n",
    "    scoreshybridrecommender = ScoresHybridRecommender(URM_train, slim_en, mf_ials)\n",
    "    scoreshybridrecommender.fit(alpha = alpha)\n",
    "    print(\"Hybrid model with alpha weight:\")\n",
    "    print(alpha)\n",
    "    result_df, _ = evaluator_validation.evaluateRecommender(scoreshybridrecommender)\n",
    "    print(\"MAP: {}\".format(result_df.loc[10][\"MAP\"]))"
   ]
  },
  {
   "cell_type": "code",
   "execution_count": null,
   "outputs": [],
   "source": [
    "recommender = ScoresHybridRecommender(URM_all, slim_en, mf_ials)\n",
    "recommender.fit(norm=1, alpha = 0.1)"
   ],
   "metadata": {
    "collapsed": false
   }
  },
  {
   "cell_type": "markdown",
   "source": [
    "## Submissions"
   ],
   "metadata": {
    "collapsed": false
   }
  },
  {
   "cell_type": "code",
   "execution_count": null,
   "outputs": [],
   "source": [
    "test_users = pd.read_csv('Dataset/data_target_users_test.csv')"
   ],
   "metadata": {
    "collapsed": false
   }
  },
  {
   "cell_type": "code",
   "execution_count": null,
   "outputs": [],
   "source": [
    "user_id = test_users['user_id']\n",
    "recommendations = []\n",
    "for user in user_id:\n",
    "    recommendations.append(recommender.recommend(user, cutoff=10))"
   ],
   "metadata": {
    "collapsed": false
   }
  },
  {
   "cell_type": "code",
   "execution_count": null,
   "outputs": [],
   "source": [
    "for index in range(len(recommendations)):\n",
    "    recommendations[index]=np.array(recommendations[index])\n",
    "\n",
    "test_users['item_list']= recommendations\n",
    "test_users['item_list'] = pd.DataFrame([str(line).strip('[').strip(']').replace(\"'\",\"\") for line in test_users['item_list']])\n",
    "test_users.to_csv('Submissions\\Submission_SLIM_EN_IALS_Scores.csv', index=False)"
   ],
   "metadata": {
    "collapsed": false
   }
  }
 ],
 "metadata": {
  "kernelspec": {
   "display_name": "Python 3",
   "language": "python",
   "name": "python3"
  },
  "language_info": {
   "codemirror_mode": {
    "name": "ipython",
    "version": 3
   },
   "file_extension": ".py",
   "mimetype": "text/x-python",
   "name": "python",
   "nbconvert_exporter": "python",
   "pygments_lexer": "ipython3",
   "version": "3.7.12"
  },
  "papermill": {
   "default_parameters": {},
   "duration": 4817.31067,
   "end_time": "2022-12-06T10:39:26.771840",
   "environment_variables": {},
   "exception": null,
   "input_path": "__notebook__.ipynb",
   "output_path": "__notebook__.ipynb",
   "parameters": {},
   "start_time": "2022-12-06T09:19:09.461170",
   "version": "2.3.4"
  }
 },
 "nbformat": 4,
 "nbformat_minor": 5
}
