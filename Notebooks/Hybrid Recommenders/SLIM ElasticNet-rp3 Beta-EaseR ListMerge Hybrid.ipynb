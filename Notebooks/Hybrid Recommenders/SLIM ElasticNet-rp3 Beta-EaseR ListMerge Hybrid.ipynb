{
 "cells": [
  {
   "cell_type": "code",
   "execution_count": 2,
   "id": "981b72fb",
   "metadata": {
    "execution": {
     "iopub.execute_input": "2022-12-22T14:17:31.135706Z",
     "iopub.status.busy": "2022-12-22T14:17:31.135301Z",
     "iopub.status.idle": "2022-12-22T14:17:31.277368Z",
     "shell.execute_reply": "2022-12-22T14:17:31.276438Z"
    },
    "papermill": {
     "duration": 0.154767,
     "end_time": "2022-12-22T14:17:31.280058",
     "exception": false,
     "start_time": "2022-12-22T14:17:31.125291",
     "status": "completed"
    },
    "tags": []
   },
   "outputs": [],
   "source": [
    "import pandas as pd\n",
    "import numpy as np\n",
    "import scipy.sparse as sps\n",
    "import matplotlib.pyplot as pyplot\n",
    "\n",
    "from Evaluation.Evaluator import EvaluatorHoldout\n",
    "from Data_manager.split_functions.split_train_validation_random_holdout import split_train_in_two_percentage_global_sample\n",
    "from Utils.DataReader import load_urm, load_icm, load_target"
   ]
  },
  {
   "cell_type": "code",
   "execution_count": 3,
   "id": "6baab278",
   "metadata": {
    "execution": {
     "iopub.execute_input": "2022-12-22T14:17:31.298908Z",
     "iopub.status.busy": "2022-12-22T14:17:31.298472Z",
     "iopub.status.idle": "2022-12-22T14:17:31.835990Z",
     "shell.execute_reply": "2022-12-22T14:17:31.834646Z"
    },
    "papermill": {
     "duration": 0.549539,
     "end_time": "2022-12-22T14:17:31.838408",
     "exception": false,
     "start_time": "2022-12-22T14:17:31.288869",
     "status": "completed"
    },
    "tags": []
   },
   "outputs": [
    {
     "name": "stdout",
     "output_type": "stream",
     "text": [
      "EvaluatorHoldout: Ignoring 1541 ( 3.7%) Users that have less than 1 test interactions\n",
      "EvaluatorHoldout: Ignoring 958 ( 2.3%) Users that have less than 1 test interactions\n"
     ]
    }
   ],
   "source": [
    "URM_all = load_urm()\n",
    "\n",
    "#URM_train, URM_test = split_train_in_two_percentage_global_sample(URM_all, train_percentage = 0.85)\n",
    "#URM_train, URM_validation = split_train_in_two_percentage_global_sample(URM_train, train_percentage = 0.85)\n",
    "URM_train = sps.load_npz('Dataset/Split/URM_train.npz')\n",
    "URM_test =  sps.load_npz('Dataset/Split/URM_test.npz')\n",
    "URM_validation = sps.load_npz('Dataset/Split/URM_validation.npz')\n",
    "\n",
    "evaluator_validation = EvaluatorHoldout(URM_validation, cutoff_list=[10])\n",
    "evaluator_test = EvaluatorHoldout(URM_test, cutoff_list=[10])"
   ]
  },
  {
   "cell_type": "code",
   "execution_count": 4,
   "id": "8372027c",
   "metadata": {
    "execution": {
     "iopub.execute_input": "2022-12-22T14:17:31.857470Z",
     "iopub.status.busy": "2022-12-22T14:17:31.857044Z",
     "iopub.status.idle": "2022-12-22T14:45:54.719195Z",
     "shell.execute_reply": "2022-12-22T14:45:54.717960Z"
    },
    "papermill": {
     "duration": 1702.875195,
     "end_time": "2022-12-22T14:45:54.722008",
     "exception": false,
     "start_time": "2022-12-22T14:17:31.846813",
     "status": "completed"
    },
    "tags": []
   },
   "outputs": [
    {
     "name": "stdout",
     "output_type": "stream",
     "text": [
      "SLIMElasticNetRecommender: Processed 3975 (16.2%) in 5.00 min. Items per second: 13.24\n",
      "SLIMElasticNetRecommender: Processed 8347 (34.1%) in 10.00 min. Items per second: 13.91\n",
      "SLIMElasticNetRecommender: Processed 12844 (52.4%) in 15.00 min. Items per second: 14.27\n",
      "SLIMElasticNetRecommender: Processed 17187 (70.1%) in 20.00 min. Items per second: 14.32\n",
      "SLIMElasticNetRecommender: Processed 21452 (87.5%) in 25.00 min. Items per second: 14.30\n",
      "SLIMElasticNetRecommender: Processed 24507 (100.0%) in 28.35 min. Items per second: 14.41\n"
     ]
    }
   ],
   "source": [
    "from Recommenders.SLIM.SLIMElasticNetRecommender import SLIMElasticNetRecommender\n",
    "\n",
    "recommender_SLIMElasticNet = SLIMElasticNetRecommender(URM_train)\n",
    "recommender_SLIMElasticNet.fit(topK=585, l1_ratio=0.009929794168572358, alpha=0.0018687691383859428)\n",
    "#recommender_SLIMElasticNet.fit(topK=405, l1_ratio=0.0010299956370568744, alpha=0.01) old values\n",
    "#recommender_SLIMElasticNet.fit(topK=799, l1_ratio=0.006782112530625445, alpha=0.0023657508503917664)"
   ]
  },
  {
   "cell_type": "code",
   "execution_count": 5,
   "id": "465966b3",
   "metadata": {
    "collapsed": false,
    "execution": {
     "iopub.execute_input": "2022-12-22T14:45:54.741777Z",
     "iopub.status.busy": "2022-12-22T14:45:54.741376Z",
     "iopub.status.idle": "2022-12-22T14:56:23.941864Z",
     "shell.execute_reply": "2022-12-22T14:56:23.940787Z"
    },
    "jupyter": {
     "outputs_hidden": false
    },
    "papermill": {
     "duration": 629.213613,
     "end_time": "2022-12-22T14:56:23.944523",
     "exception": false,
     "start_time": "2022-12-22T14:45:54.730910",
     "status": "completed"
    },
    "tags": []
   },
   "outputs": [
    {
     "name": "stdout",
     "output_type": "stream",
     "text": [
      "EASE_R_Recommender: Fitting model... \n",
      "EASE_R_Recommender: Fitting model... done in 10.47 min\n"
     ]
    }
   ],
   "source": [
    "from Recommenders.EASE_R.EASE_R_Recommender import EASE_R_Recommender\n",
    "\n",
    "recommender_EaseR = EASE_R_Recommender(URM_train)\n",
    "recommender_EaseR.fit(topK=None, normalize_matrix=False, l2_norm=157.86876317814773)"
   ]
  },
  {
   "cell_type": "code",
   "execution_count": 6,
   "id": "1856d3de",
   "metadata": {
    "execution": {
     "iopub.execute_input": "2022-12-22T14:56:23.964845Z",
     "iopub.status.busy": "2022-12-22T14:56:23.963797Z",
     "iopub.status.idle": "2022-12-22T14:56:46.876367Z",
     "shell.execute_reply": "2022-12-22T14:56:46.874334Z"
    },
    "papermill": {
     "duration": 22.926559,
     "end_time": "2022-12-22T14:56:46.880063",
     "exception": false,
     "start_time": "2022-12-22T14:56:23.953504",
     "status": "completed"
    },
    "tags": []
   },
   "outputs": [
    {
     "name": "stdout",
     "output_type": "stream",
     "text": [
      "RP3betaRecommender: Similarity column 24507 (100.0%), 1129.58 column/sec. Elapsed time 21.70 sec\n"
     ]
    }
   ],
   "source": [
    "from Recommenders.GraphBased.RP3betaRecommender import RP3betaRecommender\n",
    "\n",
    "recommender_RP3beta = RP3betaRecommender(URM_train)\n",
    "recommender_RP3beta.fit(alpha=0.7291640172150433, beta=0.3085777595944686, topK=62, implicit=True)\n",
    "#recommender_RP3beta.fit(alpha=0.9170274010180015, beta=0.09897166685470696, topK=94, implicit=True)\n",
    "#recommender_RP3beta.fit(alpha=0.08934428697754494, beta=0.15025275671838492, topK=132, implicit=True)\n",
    "#recommender_RP3beta.fit(topK=167, alpha=1.0, beta=0.4520495673133021, implicit=True) old"
   ]
  },
  {
   "cell_type": "code",
   "execution_count": 7,
   "id": "a26efcf2",
   "metadata": {
    "execution": {
     "iopub.execute_input": "2022-12-22T14:56:46.904751Z",
     "iopub.status.busy": "2022-12-22T14:56:46.903430Z",
     "iopub.status.idle": "2022-12-22T14:58:56.931801Z",
     "shell.execute_reply": "2022-12-22T14:58:56.930425Z"
    },
    "papermill": {
     "duration": 130.043633,
     "end_time": "2022-12-22T14:58:56.934743",
     "exception": false,
     "start_time": "2022-12-22T14:56:46.891110",
     "status": "completed"
    },
    "tags": []
   },
   "outputs": [
    {
     "name": "stdout",
     "output_type": "stream",
     "text": [
      "MAP of the starting models\n",
      "EvaluatorHoldout: Processed 40671 (100.0%) in 50.72 sec. Users per second: 802\n",
      "SLIM ElasticNet - MAP: 0.022964874351795637\n",
      "EvaluatorHoldout: Processed 40671 (100.0%) in 30.57 sec. Users per second: 1331\n",
      "RP3beta - MAP: 0.02177199697299959\n",
      "EvaluatorHoldout: Processed 40671 (100.0%) in 48.66 sec. Users per second: 836\n",
      "EaseR - MAP: 0.022278946271532468\n"
     ]
    }
   ],
   "source": [
    "print(\"MAP of the starting models\")\n",
    "\n",
    "result_df, _ = evaluator_test.evaluateRecommender(recommender_SLIMElasticNet)\n",
    "print(\"SLIM ElasticNet - MAP: {}\".format(result_df.loc[10][\"MAP\"]))\n",
    "\n",
    "result_df, _ = evaluator_test.evaluateRecommender(recommender_RP3beta)\n",
    "print(\"RP3beta - MAP: {}\".format(result_df.loc[10][\"MAP\"]))\n",
    "\n",
    "result_df, _ = evaluator_test.evaluateRecommender(recommender_EaseR)\n",
    "print(\"EaseR - MAP: {}\".format(result_df.loc[10][\"MAP\"]))"
   ]
  },
  {
   "cell_type": "code",
   "execution_count": 8,
   "id": "7f8fc39a",
   "metadata": {
    "execution": {
     "iopub.execute_input": "2022-12-22T14:58:56.957655Z",
     "iopub.status.busy": "2022-12-22T14:58:56.956683Z",
     "iopub.status.idle": "2022-12-22T15:37:50.697170Z",
     "shell.execute_reply": "2022-12-22T15:37:50.695590Z"
    },
    "papermill": {
     "duration": 2333.755056,
     "end_time": "2022-12-22T15:37:50.700328",
     "exception": false,
     "start_time": "2022-12-22T14:58:56.945272",
     "status": "completed"
    },
    "tags": []
   },
   "outputs": [
    {
     "name": "stdout",
     "output_type": "stream",
     "text": [
      "SLIMElasticNetRecommender: Processed 2849 (11.6%) in 5.00 min. Items per second: 9.49\n",
      "SLIMElasticNetRecommender: Processed 6069 (24.8%) in 10.00 min. Items per second: 10.11\n",
      "SLIMElasticNetRecommender: Processed 9331 (38.1%) in 15.00 min. Items per second: 10.36\n",
      "SLIMElasticNetRecommender: Processed 12528 (51.1%) in 20.00 min. Items per second: 10.44\n",
      "SLIMElasticNetRecommender: Processed 15778 (64.4%) in 25.00 min. Items per second: 10.52\n",
      "SLIMElasticNetRecommender: Processed 18993 (77.5%) in 30.01 min. Items per second: 10.55\n",
      "SLIMElasticNetRecommender: Processed 22055 (90.0%) in 35.01 min. Items per second: 10.50\n",
      "SLIMElasticNetRecommender: Processed 24507 (100.0%) in 38.89 min. Items per second: 10.50\n"
     ]
    }
   ],
   "source": [
    "recommender_SLIMElasticNet = SLIMElasticNetRecommender(URM_all)\n",
    "recommender_SLIMElasticNet.fit(topK=585, l1_ratio=0.009929794168572358, alpha=0.0018687691383859428)"
   ]
  },
  {
   "cell_type": "code",
   "execution_count": 9,
   "id": "30bb31ed",
   "metadata": {
    "execution": {
     "iopub.execute_input": "2022-12-22T15:37:50.722853Z",
     "iopub.status.busy": "2022-12-22T15:37:50.722386Z",
     "iopub.status.idle": "2022-12-22T15:48:22.693607Z",
     "shell.execute_reply": "2022-12-22T15:48:22.692104Z"
    },
    "papermill": {
     "duration": 631.985698,
     "end_time": "2022-12-22T15:48:22.696441",
     "exception": false,
     "start_time": "2022-12-22T15:37:50.710743",
     "status": "completed"
    },
    "tags": []
   },
   "outputs": [
    {
     "name": "stdout",
     "output_type": "stream",
     "text": [
      "EASE_R_Recommender: Fitting model... \n",
      "EASE_R_Recommender: Fitting model... done in 10.51 min\n"
     ]
    }
   ],
   "source": [
    "recommender_EaseR = EASE_R_Recommender(URM_all)\n",
    "recommender_EaseR.fit(topK=None, normalize_matrix=False, l2_norm=157.86876317814773)"
   ]
  },
  {
   "cell_type": "code",
   "execution_count": 10,
   "id": "d62d94d8",
   "metadata": {
    "execution": {
     "iopub.execute_input": "2022-12-22T15:48:22.719529Z",
     "iopub.status.busy": "2022-12-22T15:48:22.719070Z",
     "iopub.status.idle": "2022-12-22T15:48:49.234842Z",
     "shell.execute_reply": "2022-12-22T15:48:49.233588Z"
    },
    "papermill": {
     "duration": 26.530401,
     "end_time": "2022-12-22T15:48:49.237722",
     "exception": false,
     "start_time": "2022-12-22T15:48:22.707321",
     "status": "completed"
    },
    "tags": []
   },
   "outputs": [
    {
     "name": "stdout",
     "output_type": "stream",
     "text": [
      "RP3betaRecommender: Similarity column 24507 (100.0%), 968.62 column/sec. Elapsed time 25.30 sec\n"
     ]
    }
   ],
   "source": [
    "recommender_RP3beta = RP3betaRecommender(URM_all)\n",
    "recommender_RP3beta.fit(alpha=0.7291640172150433, beta=0.3085777595944686, topK=62, implicit=True)"
   ]
  },
  {
   "cell_type": "code",
   "execution_count": 11,
   "id": "66a17429",
   "metadata": {
    "execution": {
     "iopub.execute_input": "2022-12-22T15:48:49.262052Z",
     "iopub.status.busy": "2022-12-22T15:48:49.261607Z",
     "iopub.status.idle": "2022-12-22T15:48:49.285462Z",
     "shell.execute_reply": "2022-12-22T15:48:49.284270Z"
    },
    "papermill": {
     "duration": 0.039206,
     "end_time": "2022-12-22T15:48:49.287919",
     "exception": false,
     "start_time": "2022-12-22T15:48:49.248713",
     "status": "completed"
    },
    "tags": []
   },
   "outputs": [],
   "source": [
    "from numpy import linalg as LA\n",
    "from Recommenders.BaseRecommender import BaseRecommender\n",
    "\n",
    "class MergeRaccomandationsHybridRecommender(BaseRecommender):\n",
    "    \"\"\" ScoresHybridRecommender\n",
    "    Hybrid of two prediction scores R = R1/norm*alpha + R2/norm*(1-alpha) where R1 and R2 come from\n",
    "    algorithms trained on different loss functions.\n",
    "\n",
    "    \"\"\"\n",
    "\n",
    "    RECOMMENDER_NAME = \"MergeRaccomandationsHybridRecommender\"\n",
    "\n",
    "\n",
    "    def __init__(self, URM_train, recommender_1, recommender_2, recommender_3):\n",
    "        super(MergeRaccomandationsHybridRecommender, self).__init__(URM_train)\n",
    "\n",
    "        self.URM_train = sps.csr_matrix(URM_train)\n",
    "        self.recommender_1 = recommender_1\n",
    "        self.recommender_2 = recommender_2\n",
    "        self.recommender_3 = recommender_3\n",
    "    \n",
    "    def _compute_item_score(self, user_id_array, items_to_compute):\n",
    "        \n",
    "        # In a simple extension this could be a loop over a list of pretrained recommender objects\n",
    "        item_weights_1 = self.recommender_1._compute_item_score(user_id_array)\n",
    "        item_weights_2 = self.recommender_2._compute_item_score(user_id_array)\n",
    "        item_weights_3 = self.recommender_3._compute_item_score(user_id_array)\n",
    "\n",
    "        item_weights = item_weights_1*0.3 + item_weights_2*0.3 + item_weights_3*0.3\n",
    "\n",
    "        return item_weights\n",
    "        \n",
    "    def recommend(self, user_id_array, cutoff = None, remove_seen_flag=True, items_to_compute = None,\n",
    "                  remove_top_pop_flag = False, remove_custom_items_flag = False, return_scores = False):\n",
    "\n",
    "        # If is a scalar transform it in a 1-cell array\n",
    "        if np.isscalar(user_id_array):\n",
    "            user_id_array = np.atleast_1d(user_id_array)\n",
    "            single_user = True\n",
    "        else:\n",
    "            single_user = False\n",
    "\n",
    "        if cutoff is None:\n",
    "            cutoff = self.URM_train.shape[1] - 1\n",
    "\n",
    "        cutoff = min(cutoff, self.URM_train.shape[1] - 1)\n",
    "\n",
    "        # Compute the scores using the model-specific function\n",
    "        # Vectorize over all users in user_id_array\n",
    "        scores_batch = self._compute_item_score(user_id_array, items_to_compute=items_to_compute)\n",
    "\n",
    "\n",
    "        for user_index in range(len(user_id_array)):\n",
    "\n",
    "            user_id = user_id_array[user_index]\n",
    "\n",
    "            if remove_seen_flag:\n",
    "                scores_batch[user_index,:] = self._remove_seen_on_scores(user_id, scores_batch[user_index, :])\n",
    "\n",
    "            # Sorting is done in three steps. Faster then plain np.argsort for higher number of items\n",
    "            # - Partition the data to extract the set of relevant items\n",
    "            # - Sort only the relevant items\n",
    "            # - Get the original item index\n",
    "            # relevant_items_partition = (-scores_user).argpartition(cutoff)[0:cutoff]\n",
    "            # relevant_items_partition_sorting = np.argsort(-scores_user[relevant_items_partition])\n",
    "            # ranking = relevant_items_partition[relevant_items_partition_sorting]\n",
    "            #\n",
    "            # ranking_list.append(ranking)\n",
    "\n",
    "\n",
    "        if remove_top_pop_flag:\n",
    "            scores_batch = self._remove_TopPop_on_scores(scores_batch)\n",
    "\n",
    "        if remove_custom_items_flag:\n",
    "            scores_batch = self._remove_custom_items_on_scores(scores_batch)\n",
    "\n",
    "        # relevant_items_partition is block_size x cutoff\n",
    "        relevant_items_partition = (-scores_batch).argpartition(cutoff, axis=1)[:,0:cutoff]\n",
    "\n",
    "        # Get original value and sort it\n",
    "        # [:, None] adds 1 dimension to the array, from (block_size,) to (block_size,1)\n",
    "        # This is done to correctly get scores_batch value as [row, relevant_items_partition[row,:]]\n",
    "        relevant_items_partition_original_value = scores_batch[np.arange(scores_batch.shape[0])[:, None], relevant_items_partition]\n",
    "        relevant_items_partition_sorting = np.argsort(-relevant_items_partition_original_value, axis=1)\n",
    "        ranking = relevant_items_partition[np.arange(relevant_items_partition.shape[0])[:, None], relevant_items_partition_sorting]\n",
    "        \n",
    "        ranking_list = [None] * ranking.shape[0]\n",
    "\n",
    "        # Remove from the recommendation list any item that has a -inf score\n",
    "        # Since -inf is a flag to indicate an item to remove\n",
    "        for user_index in range(len(user_id_array)):\n",
    "            user_recommendation_list = ranking[user_index]\n",
    "            user_item_scores = scores_batch[user_index, user_recommendation_list]\n",
    "\n",
    "            not_inf_scores_mask = np.logical_not(np.isinf(user_item_scores))\n",
    "\n",
    "            user_recommendation_list = user_recommendation_list[not_inf_scores_mask]\n",
    "            ranking_list[user_index] = user_recommendation_list.tolist()\n",
    "            \n",
    "            \n",
    "        # MODIFIED PART TO MERGE THE LISTS\n",
    "        list1 = self.recommender_1.recommend(user_id_array, cutoff = cutoff)\n",
    "        list2 = self.recommender_2.recommend(user_id_array, cutoff = cutoff)\n",
    "        list3 = self.recommender_3.recommend(user_id_array, cutoff = cutoff)\n",
    "        \n",
    "        list1 = list1[0]\n",
    "        list2 = list2[0]\n",
    "        list3 = list3[0]\n",
    "        \n",
    "        result = []\n",
    "        i = 0\n",
    "            \n",
    "        while len(result) < cutoff:\n",
    "            if list1[i] not in result:\n",
    "                result.append(list1[i])\n",
    "                if len(result) < cutoff:\n",
    "                        result.append(list1[i+1])\n",
    "            if (list2[i] != list1[i]):\n",
    "                if list2[i] not in result:\n",
    "                    if len(result) < cutoff:\n",
    "                        result.append(list2[i])\n",
    "            if(list3[i] != list2[i]):\n",
    "                if list3[i] not in result:\n",
    "                    if len(result) < cutoff :\n",
    "                        result.append(list3[i])\n",
    "            i = i + 1\n",
    "        \n",
    "        if return_scores:\n",
    "            return result, scores_batch\n",
    "        else:\n",
    "            return result"
   ]
  },
  {
   "cell_type": "code",
   "execution_count": 12,
   "id": "e49dd400",
   "metadata": {
    "execution": {
     "iopub.execute_input": "2022-12-22T15:48:49.310574Z",
     "iopub.status.busy": "2022-12-22T15:48:49.309871Z",
     "iopub.status.idle": "2022-12-22T15:48:49.323705Z",
     "shell.execute_reply": "2022-12-22T15:48:49.322468Z"
    },
    "papermill": {
     "duration": 0.029021,
     "end_time": "2022-12-22T15:48:49.327374",
     "exception": false,
     "start_time": "2022-12-22T15:48:49.298353",
     "status": "completed"
    },
    "tags": []
   },
   "outputs": [
    {
     "data": {
      "text/plain": [
       "[617, 752, 18484, 391, 2488, 56, 20, 107, 2792, 23]"
      ]
     },
     "execution_count": 12,
     "metadata": {},
     "output_type": "execute_result"
    }
   ],
   "source": [
    "recommender_SLIMElasticNet.recommend(user_id_array=0, cutoff = 10)"
   ]
  },
  {
   "cell_type": "code",
   "execution_count": 13,
   "id": "e6241cb9",
   "metadata": {
    "collapsed": false,
    "execution": {
     "iopub.execute_input": "2022-12-22T15:48:49.351401Z",
     "iopub.status.busy": "2022-12-22T15:48:49.350573Z",
     "iopub.status.idle": "2022-12-22T15:48:49.359935Z",
     "shell.execute_reply": "2022-12-22T15:48:49.358810Z"
    },
    "jupyter": {
     "outputs_hidden": false
    },
    "papermill": {
     "duration": 0.02372,
     "end_time": "2022-12-22T15:48:49.362407",
     "exception": false,
     "start_time": "2022-12-22T15:48:49.338687",
     "status": "completed"
    },
    "tags": []
   },
   "outputs": [
    {
     "data": {
      "text/plain": [
       "[20, 673, 391, 752, 617, 23, 25, 2488, 519, 29]"
      ]
     },
     "execution_count": 13,
     "metadata": {},
     "output_type": "execute_result"
    }
   ],
   "source": [
    "recommender_EaseR.recommend(user_id_array=0, cutoff = 10)"
   ]
  },
  {
   "cell_type": "code",
   "execution_count": 14,
   "id": "855bc083",
   "metadata": {
    "execution": {
     "iopub.execute_input": "2022-12-22T15:48:49.386133Z",
     "iopub.status.busy": "2022-12-22T15:48:49.385384Z",
     "iopub.status.idle": "2022-12-22T15:48:49.394281Z",
     "shell.execute_reply": "2022-12-22T15:48:49.393117Z"
    },
    "papermill": {
     "duration": 0.023325,
     "end_time": "2022-12-22T15:48:49.396633",
     "exception": false,
     "start_time": "2022-12-22T15:48:49.373308",
     "status": "completed"
    },
    "tags": []
   },
   "outputs": [
    {
     "data": {
      "text/plain": [
       "[391, 20, 25, 2494, 23, 29, 516, 1534, 617, 752]"
      ]
     },
     "execution_count": 14,
     "metadata": {},
     "output_type": "execute_result"
    }
   ],
   "source": [
    "recommender_RP3beta.recommend(user_id_array=0, cutoff = 10)"
   ]
  },
  {
   "cell_type": "code",
   "execution_count": 15,
   "id": "d2799587",
   "metadata": {
    "execution": {
     "iopub.execute_input": "2022-12-22T15:48:49.419949Z",
     "iopub.status.busy": "2022-12-22T15:48:49.419550Z",
     "iopub.status.idle": "2022-12-22T15:48:49.471024Z",
     "shell.execute_reply": "2022-12-22T15:48:49.469801Z"
    },
    "papermill": {
     "duration": 0.066324,
     "end_time": "2022-12-22T15:48:49.473787",
     "exception": false,
     "start_time": "2022-12-22T15:48:49.407463",
     "status": "completed"
    },
    "tags": []
   },
   "outputs": [
    {
     "data": {
      "text/plain": [
       "[617, 752, 20, 391, 673, 18484, 391, 25, 2494, 2488]"
      ]
     },
     "execution_count": 15,
     "metadata": {},
     "output_type": "execute_result"
    }
   ],
   "source": [
    "recommender = MergeRaccomandationsHybridRecommender(URM_all, recommender_SLIMElasticNet, recommender_EaseR, recommender_RP3beta)\n",
    "recommender.recommend(user_id_array=0, cutoff = 10)"
   ]
  },
  {
   "cell_type": "markdown",
   "id": "ddd73626",
   "metadata": {
    "papermill": {
     "duration": 0.010846,
     "end_time": "2022-12-22T15:48:49.496201",
     "exception": false,
     "start_time": "2022-12-22T15:48:49.485355",
     "status": "completed"
    },
    "tags": []
   },
   "source": [
    "## Submissions"
   ]
  },
  {
   "cell_type": "code",
   "execution_count": 16,
   "id": "c2a15d3b",
   "metadata": {
    "execution": {
     "iopub.execute_input": "2022-12-22T15:48:49.519822Z",
     "iopub.status.busy": "2022-12-22T15:48:49.519044Z",
     "iopub.status.idle": "2022-12-22T15:48:49.532000Z",
     "shell.execute_reply": "2022-12-22T15:48:49.530966Z"
    },
    "papermill": {
     "duration": 0.027751,
     "end_time": "2022-12-22T15:48:49.534713",
     "exception": false,
     "start_time": "2022-12-22T15:48:49.506962",
     "status": "completed"
    },
    "tags": []
   },
   "outputs": [],
   "source": [
    "test_users = pd.read_csv('Dataset/data_target_users_test.csv')"
   ]
  },
  {
   "cell_type": "code",
   "execution_count": 17,
   "id": "ee15eabe",
   "metadata": {
    "execution": {
     "iopub.execute_input": "2022-12-22T15:48:49.558695Z",
     "iopub.status.busy": "2022-12-22T15:48:49.558303Z",
     "iopub.status.idle": "2022-12-22T15:52:15.142077Z",
     "shell.execute_reply": "2022-12-22T15:52:15.141127Z"
    },
    "papermill": {
     "duration": 205.599083,
     "end_time": "2022-12-22T15:52:15.144801",
     "exception": false,
     "start_time": "2022-12-22T15:48:49.545718",
     "status": "completed"
    },
    "tags": []
   },
   "outputs": [],
   "source": [
    "user_id = test_users['user_id']\n",
    "recommendations = []\n",
    "for user in user_id:\n",
    "    recommendations.append(recommender.recommend(user, cutoff=10))"
   ]
  },
  {
   "cell_type": "code",
   "execution_count": 18,
   "id": "0be1cf48",
   "metadata": {
    "execution": {
     "iopub.execute_input": "2022-12-22T15:52:15.169780Z",
     "iopub.status.busy": "2022-12-22T15:52:15.168824Z",
     "iopub.status.idle": "2022-12-22T15:52:17.632608Z",
     "shell.execute_reply": "2022-12-22T15:52:17.631591Z"
    },
    "papermill": {
     "duration": 2.478748,
     "end_time": "2022-12-22T15:52:17.635292",
     "exception": false,
     "start_time": "2022-12-22T15:52:15.156544",
     "status": "completed"
    },
    "tags": []
   },
   "outputs": [],
   "source": [
    "for index in range(len(recommendations)):\n",
    "    recommendations[index]=np.array(recommendations[index])\n",
    "\n",
    "test_users['item_list']= recommendations\n",
    "test_users['item_list'] = pd.DataFrame([str(line).strip('[').strip(']').replace(\"'\",\"\") for line in test_users['item_list']])\n",
    "test_users.to_csv('Submissions/Submission_SLIM_EN_EaseR_rp3Beta_ListMerge_new.csv', index=False)"
   ]
  }
 ],
 "metadata": {
  "kernelspec": {
   "display_name": "Python 3",
   "language": "python",
   "name": "python3"
  },
  "language_info": {
   "codemirror_mode": {
    "name": "ipython",
    "version": 3
   },
   "file_extension": ".py",
   "mimetype": "text/x-python",
   "name": "python",
   "nbconvert_exporter": "python",
   "pygments_lexer": "ipython3",
   "version": "3.7.12"
  },
  "papermill": {
   "default_parameters": {},
   "duration": 5707.112879,
   "end_time": "2022-12-22T15:52:18.483107",
   "environment_variables": {},
   "exception": null,
   "input_path": "__notebook__.ipynb",
   "output_path": "__notebook__.ipynb",
   "parameters": {},
   "start_time": "2022-12-22T14:17:11.370228",
   "version": "2.3.4"
  }
 },
 "nbformat": 4,
 "nbformat_minor": 5
}
