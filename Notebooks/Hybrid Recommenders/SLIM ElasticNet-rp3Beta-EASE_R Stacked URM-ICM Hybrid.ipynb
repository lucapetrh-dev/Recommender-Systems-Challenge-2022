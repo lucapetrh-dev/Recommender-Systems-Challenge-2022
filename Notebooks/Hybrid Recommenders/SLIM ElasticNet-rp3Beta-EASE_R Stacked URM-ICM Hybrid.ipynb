{
 "cells": [
  {
   "cell_type": "code",
   "execution_count": 1,
   "id": "c85f9989",
   "metadata": {
    "_cell_guid": "b1076dfc-b9ad-4769-8c92-a6c4dae69d19",
    "_uuid": "8f2839f25d086af736a60e9eeb907d3b93b6e0e5",
    "execution": {
     "iopub.execute_input": "2023-01-13T09:17:39.168044Z",
     "iopub.status.busy": "2023-01-13T09:17:39.166726Z",
     "iopub.status.idle": "2023-01-13T09:17:51.769860Z",
     "shell.execute_reply": "2023-01-13T09:17:51.767557Z"
    },
    "papermill": {
     "duration": 12.613394,
     "end_time": "2023-01-13T09:17:51.772836",
     "exception": false,
     "start_time": "2023-01-13T09:17:39.159442",
     "status": "completed"
    },
    "tags": []
   },
   "outputs": [
    {
     "name": "stdout",
     "output_type": "stream",
     "text": [
      "Cloning into 'Recommender-Systems-Challenge-2022'...\r\n",
      "remote: Enumerating objects: 619, done.\u001B[K\r\n",
      "remote: Counting objects: 100% (215/215), done.\u001B[K\r\n",
      "remote: Compressing objects: 100% (162/162), done.\u001B[K\r\n",
      "remote: Total 619 (delta 107), reused 139 (delta 52), pack-reused 404\r\n",
      "Receiving objects: 100% (619/619), 106.18 MiB | 20.90 MiB/s, done.\r\n",
      "Resolving deltas: 100% (279/279), done.\r\n",
      "Updating files: 100% (254/254), done.\r\n"
     ]
    }
   ],
   "source": [
    "import pandas as pd\n",
    "import numpy as np\n",
    "import scipy.sparse as sps\n",
    "import matplotlib.pyplot as pyplot\n",
    "\n",
    "from Evaluation.Evaluator import EvaluatorHoldout\n",
    "from Data_manager.split_functions.split_train_validation_random_holdout import split_train_in_two_percentage_global_sample\n",
    "from Utils.DataReader import load_urm, load_icm, load_target"
   ]
  },
  {
   "cell_type": "code",
   "execution_count": 2,
   "id": "da3958ea",
   "metadata": {
    "execution": {
     "iopub.execute_input": "2023-01-13T09:17:51.791334Z",
     "iopub.status.busy": "2023-01-13T09:17:51.790603Z",
     "iopub.status.idle": "2023-01-13T09:17:52.562509Z",
     "shell.execute_reply": "2023-01-13T09:17:52.561205Z"
    },
    "papermill": {
     "duration": 0.784108,
     "end_time": "2023-01-13T09:17:52.565252",
     "exception": false,
     "start_time": "2023-01-13T09:17:51.781144",
     "status": "completed"
    },
    "tags": []
   },
   "outputs": [],
   "source": [
    "ICM_type_df = pd.read_csv(\"Dataset/data_ICM_type.csv\")\n",
    "ICM_type_df\n",
    "\n",
    "items = ICM_type_df.item_id\n",
    "features = ICM_type_df.feature_id\n",
    "data = ICM_type_df.data\n",
    "ICM_type = sps.csr_matrix((data, (items, features)))\n",
    "ICM_type = ICM_type.astype(dtype = np.int32)\n",
    "ICM_type.shape\n",
    "\n",
    "n_users = 41629\n",
    "n_itemsFromICM = ICM_type.shape[0]\n",
    "\n",
    "URM_all_dataframe = pd.read_csv(\"Dataset/Edited/URM_Binary_Ratings.csv\")\n",
    "URM_all_dataframe.columns = [\"UserID\", \"ItemID\", \"Data\"]\n",
    "URM_all = sps.coo_matrix((URM_all_dataframe[\"Data\"].values, \n",
    "                          (URM_all_dataframe[\"UserID\"].values, URM_all_dataframe[\"ItemID\"].values)), shape=(n_users,n_itemsFromICM))\n",
    "URM_all = URM_all.tocsr() # to obtain fast access to rows (users)"
   ]
  },
  {
   "cell_type": "code",
   "execution_count": 3,
   "id": "4adb1649",
   "metadata": {
    "execution": {
     "iopub.execute_input": "2023-01-13T09:17:52.582299Z",
     "iopub.status.busy": "2023-01-13T09:17:52.581851Z",
     "iopub.status.idle": "2023-01-13T09:17:52.651942Z",
     "shell.execute_reply": "2023-01-13T09:17:52.650317Z"
    },
    "papermill": {
     "duration": 0.081909,
     "end_time": "2023-01-13T09:17:52.654704",
     "exception": false,
     "start_time": "2023-01-13T09:17:52.572795",
     "status": "completed"
    },
    "tags": []
   },
   "outputs": [],
   "source": [
    "UCM_all = sps.vstack([URM_all, ICM_type.T])\n",
    "UCM_all = sps.csr_matrix(UCM_all)"
   ]
  },
  {
   "cell_type": "code",
   "execution_count": 4,
   "id": "fb6bc484",
   "metadata": {
    "execution": {
     "iopub.execute_input": "2023-01-13T09:17:52.671450Z",
     "iopub.status.busy": "2023-01-13T09:17:52.671052Z",
     "iopub.status.idle": "2023-01-13T09:17:58.567555Z",
     "shell.execute_reply": "2023-01-13T09:17:58.565989Z"
    },
    "papermill": {
     "duration": 5.908185,
     "end_time": "2023-01-13T09:17:58.570447",
     "exception": false,
     "start_time": "2023-01-13T09:17:52.662262",
     "status": "completed"
    },
    "tags": []
   },
   "outputs": [
    {
     "name": "stdout",
     "output_type": "stream",
     "text": [
      "Warning: 3 (0.01 %) of 41637 users have no train items\n",
      "Warning: 947 (2.27 %) of 41637 users have no sampled items\n",
      "Warning: 3 (0.01 %) of 41637 users have no train items\n",
      "Warning: 1555 (3.73 %) of 41637 users have no sampled items\n",
      "EvaluatorHoldout: Ignoring 1555 ( 3.7%) Users that have less than 1 test interactions\n",
      "EvaluatorHoldout: Ignoring 947 ( 2.3%) Users that have less than 1 test interactions\n"
     ]
    }
   ],
   "source": [
    "URM_train = sps.load_npz('Dataset/Split/URM_train.npz')\n",
    "URM_test =  sps.load_npz('Dataset/Split/URM_test.npz')\n",
    "URM_validation = sps.load_npz('Dataset/Split/URM_validation.npz')\n",
    "\n",
    "UCM_train, UCM_test = split_train_in_two_percentage_global_sample(UCM_all, train_percentage = 0.85)\n",
    "UCM_train, UCM_validation = split_train_in_two_percentage_global_sample(UCM_train, train_percentage = 0.85)\n",
    "\n",
    "evaluator_validation = EvaluatorHoldout(UCM_validation, cutoff_list=[10])\n",
    "evaluator_test = EvaluatorHoldout(UCM_test, cutoff_list=[10])"
   ]
  },
  {
   "cell_type": "code",
   "execution_count": 5,
   "id": "8e59f9ea",
   "metadata": {
    "execution": {
     "iopub.execute_input": "2023-01-13T09:17:58.588071Z",
     "iopub.status.busy": "2023-01-13T09:17:58.587594Z",
     "iopub.status.idle": "2023-01-13T09:18:29.224757Z",
     "shell.execute_reply": "2023-01-13T09:18:29.223475Z"
    },
    "papermill": {
     "duration": 30.649561,
     "end_time": "2023-01-13T09:18:29.228081",
     "exception": false,
     "start_time": "2023-01-13T09:17:58.578520",
     "status": "completed"
    },
    "tags": []
   },
   "outputs": [
    {
     "name": "stdout",
     "output_type": "stream",
     "text": [
      "RP3betaRecommender: URM Detected 3461 (12.4%) items with no interactions.\n",
      "RP3betaRecommender: Similarity column 27968 (100.0%), 980.88 column/sec. Elapsed time 28.51 sec\n"
     ]
    }
   ],
   "source": [
    "from Recommenders.GraphBased.RP3betaRecommender import RP3betaRecommender\n",
    "\n",
    "recommender_RP3beta = RP3betaRecommender(URM_all)\n",
    "recommender_RP3beta.fit(alpha=0.6949339074999242, beta=0.2853519331891143, topK=59, implicit=True)"
   ]
  },
  {
   "cell_type": "code",
   "execution_count": 6,
   "id": "1a2842a5",
   "metadata": {
    "execution": {
     "iopub.execute_input": "2023-01-13T09:18:29.247076Z",
     "iopub.status.busy": "2023-01-13T09:18:29.246593Z",
     "iopub.status.idle": "2023-01-13T10:12:50.258307Z",
     "shell.execute_reply": "2023-01-13T10:12:50.256935Z"
    },
    "papermill": {
     "duration": 3261.024686,
     "end_time": "2023-01-13T10:12:50.261251",
     "exception": false,
     "start_time": "2023-01-13T09:18:29.236565",
     "status": "completed"
    },
    "tags": []
   },
   "outputs": [
    {
     "name": "stdout",
     "output_type": "stream",
     "text": [
      "SLIMElasticNetRecommender: URM Detected 3 ( 0.0%) users with no interactions.\n",
      "SLIMElasticNetRecommender: Processed 2568 ( 9.2%) in 5.00 min. Items per second: 8.55\n",
      "SLIMElasticNetRecommender: Processed 5389 (19.3%) in 10.00 min. Items per second: 8.98\n",
      "SLIMElasticNetRecommender: Processed 8164 (29.2%) in 15.00 min. Items per second: 9.07\n",
      "SLIMElasticNetRecommender: Processed 10960 (39.2%) in 20.00 min. Items per second: 9.13\n",
      "SLIMElasticNetRecommender: Processed 13682 (48.9%) in 25.00 min. Items per second: 9.12\n",
      "SLIMElasticNetRecommender: Processed 16404 (58.7%) in 30.00 min. Items per second: 9.11\n",
      "SLIMElasticNetRecommender: Processed 19185 (68.6%) in 35.01 min. Items per second: 9.13\n",
      "SLIMElasticNetRecommender: Processed 21968 (78.5%) in 40.01 min. Items per second: 9.15\n",
      "SLIMElasticNetRecommender: Processed 24654 (88.2%) in 45.01 min. Items per second: 9.13\n",
      "SLIMElasticNetRecommender: Processed 26427 (94.5%) in 50.01 min. Items per second: 8.81\n",
      "SLIMElasticNetRecommender: Processed 27968 (100.0%) in 54.34 min. Items per second: 8.58\n"
     ]
    }
   ],
   "source": [
    "from Recommenders.SLIM.SLIMElasticNetRecommender import SLIMElasticNetRecommender\n",
    "\n",
    "recommender_SLIMElasticNet = SLIMElasticNetRecommender(UCM_all)\n",
    "recommender_SLIMElasticNet.fit(topK=585, l1_ratio=0.009929794168572358, alpha=0.0018687691383859428)"
   ]
  },
  {
   "cell_type": "code",
   "execution_count": 7,
   "id": "4e873564",
   "metadata": {
    "execution": {
     "iopub.execute_input": "2023-01-13T10:12:50.280325Z",
     "iopub.status.busy": "2023-01-13T10:12:50.279897Z",
     "iopub.status.idle": "2023-01-13T10:28:33.906830Z",
     "shell.execute_reply": "2023-01-13T10:28:33.905322Z"
    },
    "papermill": {
     "duration": 943.64021,
     "end_time": "2023-01-13T10:28:33.910038",
     "exception": false,
     "start_time": "2023-01-13T10:12:50.269828",
     "status": "completed"
    },
    "tags": []
   },
   "outputs": [
    {
     "name": "stdout",
     "output_type": "stream",
     "text": [
      "EASE_R_Recommender: URM Detected 3461 (12.4%) items with no interactions.\n",
      "EASE_R_Recommender: Fitting model... \n",
      "EASE_R_Recommender: Fitting model... done in 15.70 min\n"
     ]
    }
   ],
   "source": [
    "from Recommenders.EASE_R.EASE_R_Recommender import EASE_R_Recommender\n",
    "\n",
    "recommender_EaseR = EASE_R_Recommender(URM_all)\n",
    "recommender_EaseR.fit(topK=None, normalize_matrix=False, l2_norm=225.7403645195658)"
   ]
  },
  {
   "cell_type": "code",
   "execution_count": 8,
   "id": "f43d2683",
   "metadata": {
    "execution": {
     "iopub.execute_input": "2023-01-13T10:28:33.936102Z",
     "iopub.status.busy": "2023-01-13T10:28:33.935624Z",
     "iopub.status.idle": "2023-01-13T10:28:33.949801Z",
     "shell.execute_reply": "2023-01-13T10:28:33.948312Z"
    },
    "papermill": {
     "duration": 0.030435,
     "end_time": "2023-01-13T10:28:33.952777",
     "exception": false,
     "start_time": "2023-01-13T10:28:33.922342",
     "status": "completed"
    },
    "tags": []
   },
   "outputs": [],
   "source": [
    "from numpy import linalg as LA\n",
    "from Recommenders.BaseRecommender import BaseRecommender\n",
    "\n",
    "class DifferentLossScoresHybridRecommender(BaseRecommender):\n",
    "    \"\"\" ScoresHybridRecommender\n",
    "    Hybrid of three predictions scores\n",
    "    R = R1*alpha + R2*beta + R3*(1-alpha-beta)\n",
    "    \n",
    "    Class from Dacrema exercise modified by Antonio Ercolani\n",
    "    The original took as input 2 recommender\n",
    "\n",
    "    \"\"\"\n",
    "\n",
    "    RECOMMENDER_NAME = \"DifferentLossScoresHybridRecommender\"\n",
    "\n",
    "\n",
    "    def __init__(self, URM_train, recommender_1, recommender_2, recommender_3):\n",
    "        super(DifferentLossScoresHybridRecommender, self).__init__(URM_train)\n",
    "\n",
    "        self.URM_train = sps.csr_matrix(URM_train)\n",
    "        self.recommender_1 = recommender_1\n",
    "        self.recommender_2 = recommender_2\n",
    "        self.recommender_3 = recommender_3\n",
    "        \n",
    "        \n",
    "        \n",
    "    def fit(self, norm, alpha = 0.5, beta = 0.5):\n",
    "\n",
    "        self.alpha = alpha\n",
    "        self.beta = beta\n",
    "        self.norm = norm\n",
    "\n",
    "\n",
    "    def _compute_item_score(self, user_id_array, items_to_compute):\n",
    "        \n",
    "        item_weights_1 = self.recommender_1._compute_item_score(user_id_array)\n",
    "        item_weights_2 = self.recommender_2._compute_item_score(user_id_array)\n",
    "        item_weights_3 = self.recommender_3._compute_item_score(user_id_array)\n",
    "\n",
    "        norm_item_weights_1 = LA.norm(item_weights_1, self.norm)\n",
    "        norm_item_weights_2 = LA.norm(item_weights_2, self.norm)\n",
    "        norm_item_weights_3 = LA.norm(item_weights_3, self.norm)\n",
    "        \n",
    "        \n",
    "        if norm_item_weights_1 == 0:\n",
    "            raise ValueError(\"Norm {} of item weights for recommender 1 is zero. Avoiding division by zero\".format(self.norm))\n",
    "        \n",
    "        if norm_item_weights_2 == 0:\n",
    "            raise ValueError(\"Norm {} of item weights for recommender 2 is zero. Avoiding division by zero\".format(self.norm))\n",
    "            \n",
    "        if norm_item_weights_3 == 0:\n",
    "            raise ValueError(\"Norm {} of item weights for recommender 3 is zero. Avoiding division by zero\".format(self.norm))\n",
    "        \n",
    "        item_weights = item_weights_1 / norm_item_weights_1 * self.alpha + item_weights_2 / norm_item_weights_2 * self.beta + item_weights_3 / norm_item_weights_3 * (1-self.alpha-self.beta)\n",
    "\n",
    "        return item_weights"
   ]
  },
  {
   "cell_type": "code",
   "execution_count": 9,
   "id": "b52077c9",
   "metadata": {
    "execution": {
     "iopub.execute_input": "2023-01-13T10:28:33.981102Z",
     "iopub.status.busy": "2023-01-13T10:28:33.980023Z",
     "iopub.status.idle": "2023-01-13T10:28:34.035132Z",
     "shell.execute_reply": "2023-01-13T10:28:34.033993Z"
    },
    "papermill": {
     "duration": 0.071403,
     "end_time": "2023-01-13T10:28:34.037748",
     "exception": false,
     "start_time": "2023-01-13T10:28:33.966345",
     "status": "completed"
    },
    "tags": []
   },
   "outputs": [
    {
     "name": "stdout",
     "output_type": "stream",
     "text": [
      "DifferentLossScoresHybridRecommender: URM Detected 3 ( 0.0%) users with no interactions.\n"
     ]
    }
   ],
   "source": [
    "recommender = DifferentLossScoresHybridRecommender(UCM_all, recommender_SLIMElasticNet, recommender_EaseR, recommender_RP3beta)\n",
    "recommender.fit(norm=1, alpha = 0.5, beta = 0.3)"
   ]
  },
  {
   "cell_type": "markdown",
   "id": "6e665721",
   "metadata": {
    "papermill": {
     "duration": 0.009623,
     "end_time": "2023-01-13T10:28:34.057204",
     "exception": false,
     "start_time": "2023-01-13T10:28:34.047581",
     "status": "completed"
    },
    "tags": []
   },
   "source": [
    "## Submissions"
   ]
  },
  {
   "cell_type": "code",
   "execution_count": 10,
   "id": "1f42c8b2",
   "metadata": {
    "execution": {
     "iopub.execute_input": "2023-01-13T10:28:34.080213Z",
     "iopub.status.busy": "2023-01-13T10:28:34.078775Z",
     "iopub.status.idle": "2023-01-13T10:28:34.090982Z",
     "shell.execute_reply": "2023-01-13T10:28:34.089624Z"
    },
    "papermill": {
     "duration": 0.026972,
     "end_time": "2023-01-13T10:28:34.094111",
     "exception": false,
     "start_time": "2023-01-13T10:28:34.067139",
     "status": "completed"
    },
    "tags": []
   },
   "outputs": [],
   "source": [
    "test_users = pd.read_csv('Dataset/data_target_users_test.csv')"
   ]
  },
  {
   "cell_type": "code",
   "execution_count": 11,
   "id": "bda95345",
   "metadata": {
    "execution": {
     "iopub.execute_input": "2023-01-13T10:28:34.114826Z",
     "iopub.status.busy": "2023-01-13T10:28:34.114361Z",
     "iopub.status.idle": "2023-01-13T10:30:20.542306Z",
     "shell.execute_reply": "2023-01-13T10:30:20.540952Z"
    },
    "papermill": {
     "duration": 106.442222,
     "end_time": "2023-01-13T10:30:20.545390",
     "exception": false,
     "start_time": "2023-01-13T10:28:34.103168",
     "status": "completed"
    },
    "tags": []
   },
   "outputs": [],
   "source": [
    "user_id = test_users['user_id']\n",
    "recommendations = []\n",
    "for user in user_id:\n",
    "    recommendations.append(recommender.recommend(user, cutoff=10, remove_seen_flag = True))"
   ]
  },
  {
   "cell_type": "code",
   "execution_count": 12,
   "id": "aa74f9fd",
   "metadata": {
    "execution": {
     "iopub.execute_input": "2023-01-13T10:30:20.565675Z",
     "iopub.status.busy": "2023-01-13T10:30:20.565270Z",
     "iopub.status.idle": "2023-01-13T10:30:23.060639Z",
     "shell.execute_reply": "2023-01-13T10:30:23.059277Z"
    },
    "papermill": {
     "duration": 2.509163,
     "end_time": "2023-01-13T10:30:23.063648",
     "exception": false,
     "start_time": "2023-01-13T10:30:20.554485",
     "status": "completed"
    },
    "tags": []
   },
   "outputs": [],
   "source": [
    "for index in range(len(recommendations)):\n",
    "    recommendations[index]=np.array(recommendations[index])\n",
    "\n",
    "test_users['item_list']= recommendations\n",
    "test_users['item_list'] = pd.DataFrame([str(line).strip('[').strip(']').replace(\"'\",\"\") for line in test_users['item_list']])\n",
    "test_users.to_csv('Submissions/Submission_SLIM_EN_rp3Beta_EaseR_Stacked.csv', index=False)"
   ]
  }
 ],
 "metadata": {
  "kernelspec": {
   "display_name": "Python 3",
   "language": "python",
   "name": "python3"
  },
  "language_info": {
   "codemirror_mode": {
    "name": "ipython",
    "version": 3
   },
   "file_extension": ".py",
   "mimetype": "text/x-python",
   "name": "python",
   "nbconvert_exporter": "python",
   "pygments_lexer": "ipython3",
   "version": "3.7.12"
  },
  "papermill": {
   "default_parameters": {},
   "duration": 4376.296656,
   "end_time": "2023-01-13T10:30:24.004211",
   "environment_variables": {},
   "exception": null,
   "input_path": "__notebook__.ipynb",
   "output_path": "__notebook__.ipynb",
   "parameters": {},
   "start_time": "2023-01-13T09:17:27.707555",
   "version": "2.3.4"
  }
 },
 "nbformat": 4,
 "nbformat_minor": 5
}
