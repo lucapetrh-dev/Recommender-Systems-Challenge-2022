{
 "cells": [
  {
   "cell_type": "code",
   "execution_count": 1,
   "metadata": {},
   "outputs": [],
   "source": [
    "import pandas as pd\n",
    "import numpy as np\n",
    "import scipy.sparse as sps\n",
    "import matplotlib.pyplot as pyplot\n",
    "\n",
    "from Evaluation.Evaluator import EvaluatorHoldout\n",
    "from Data_manager.split_functions.split_train_validation_random_holdout import split_train_in_two_percentage_global_sample\n",
    "from Utils.DataReader import load_urm, load_icm, load_target"
   ]
  },
  {
   "cell_type": "code",
   "execution_count": 2,
   "metadata": {},
   "outputs": [
    {
     "name": "stdout",
     "output_type": "stream",
     "text": [
      "Warning: 936 (2.25 %) of 41629 users have no sampled items\n",
      "Warning: 1569 (3.77 %) of 41629 users have no sampled items\n",
      "EvaluatorHoldout: Ignoring 1569 ( 3.8%) Users that have less than 1 test interactions\n",
      "EvaluatorHoldout: Ignoring 936 ( 2.2%) Users that have less than 1 test interactions\n"
     ]
    }
   ],
   "source": [
    "URM_all = load_urm()\n",
    "\n",
    "#URM_train, URM_test = split_train_in_two_percentage_global_sample(URM_all, train_percentage = 0.85)\n",
    "#URM_train, URM_validation = split_train_in_two_percentage_global_sample(URM_train, train_percentage = 0.85)\n",
    "URM_train = sps.load_npz('Dataset/Split/URM_train.npz')\n",
    "URM_test =  sps.load_npz('Dataset/Split/URM_test.npz')\n",
    "URM_validation = sps.load_npz('Dataset/Split/URM_validation.npz')\n",
    "\n",
    "evaluator_validation = EvaluatorHoldout(URM_validation, cutoff_list=[10])\n",
    "evaluator_test = EvaluatorHoldout(URM_test, cutoff_list=[10])"
   ]
  },
  {
   "cell_type": "code",
   "execution_count": 3,
   "metadata": {},
   "outputs": [
    {
     "name": "stdout",
     "output_type": "stream",
     "text": [
      "SLIMElasticNetRecommender: Processed 8991 (36.7%) in 5.00 min. Items per second: 29.96\n",
      "SLIMElasticNetRecommender: Processed 18116 (73.9%) in 10.00 min. Items per second: 30.19\n",
      "SLIMElasticNetRecommender: Processed 24507 (100.0%) in 13.48 min. Items per second: 30.29\n"
     ]
    }
   ],
   "source": [
    "from Recommenders.SLIM.SLIMElasticNetRecommender import SLIMElasticNetRecommender\n",
    "\n",
    "recommender_SLIMElasticNet = SLIMElasticNetRecommender(URM_train)\n",
    "recommender_SLIMElasticNet.fit(topK=405, l1_ratio=0.0010299956370568744, alpha=0.01)"
   ]
  },
  {
   "cell_type": "code",
   "execution_count": 4,
   "metadata": {},
   "outputs": [
    {
     "name": "stdout",
     "output_type": "stream",
     "text": [
      "run_compile_all_cython: Found 10 Cython files in 4 folders...\n",
      "run_compile_all_cython: All files will be compiled using your current python environment: '/opt/miniconda3/envs/tensorflow/bin/python'\n",
      "Compiling [1/10]: MatrixFactorizationImpressions_Cython_Epoch.pyx... \n",
      "In file included from MatrixFactorizationImpressions_Cython_Epoch.c:746:\n",
      "In file included from /opt/miniconda3/envs/tensorflow/lib/python3.9/site-packages/numpy/core/include/numpy/arrayobject.h:5:\n",
      "In file included from /opt/miniconda3/envs/tensorflow/lib/python3.9/site-packages/numpy/core/include/numpy/ndarrayobject.h:12:\n",
      "In file included from /opt/miniconda3/envs/tensorflow/lib/python3.9/site-packages/numpy/core/include/numpy/ndarraytypes.h:1948:\n",
      "\u001B[1m/opt/miniconda3/envs/tensorflow/lib/python3.9/site-packages/numpy/core/include/numpy/npy_1_7_deprecated_api.h:17:2: \u001B[0m\u001B[0;1;35mwarning: \u001B[0m\u001B[1m\"Using deprecated NumPy API, disable it with \"          \"#define NPY_NO_DEPRECATED_API NPY_1_7_API_VERSION\" [-W#warnings]\u001B[0m\n",
      "#warning \"Using deprecated NumPy API, disable it with \" \\\n",
      "\u001B[0;1;32m ^\n",
      "\u001B[0m\u001B[1mMatrixFactorizationImpressions_Cython_Epoch.c:32418:21: \u001B[0m\u001B[0;1;35mwarning: \u001B[0m\u001B[1mfallthrough annotation in unreachable code [-Wunreachable-code-fallthrough]\u001B[0m\n",
      "                    CYTHON_FALLTHROUGH;\n",
      "\u001B[0;1;32m                    ^\n",
      "\u001B[0m\u001B[1mMatrixFactorizationImpressions_Cython_Epoch.c:341:34: \u001B[0m\u001B[0;1;30mnote: \u001B[0mexpanded from macro 'CYTHON_FALLTHROUGH'\u001B[0m\n",
      "      #define CYTHON_FALLTHROUGH __attribute__((fallthrough))\n",
      "\u001B[0;1;32m                                 ^\n",
      "\u001B[0m\u001B[1mMatrixFactorizationImpressions_Cython_Epoch.c:32429:21: \u001B[0m\u001B[0;1;35mwarning: \u001B[0m\u001B[1mfallthrough annotation in unreachable code [-Wunreachable-code-fallthrough]\u001B[0m\n",
      "                    CYTHON_FALLTHROUGH;\n",
      "\u001B[0;1;32m                    ^\n",
      "\u001B[0m\u001B[1mMatrixFactorizationImpressions_Cython_Epoch.c:341:34: \u001B[0m\u001B[0;1;30mnote: \u001B[0mexpanded from macro 'CYTHON_FALLTHROUGH'\u001B[0m\n",
      "      #define CYTHON_FALLTHROUGH __attribute__((fallthrough))\n",
      "\u001B[0;1;32m                                 ^\n",
      "\u001B[0m3 warnings generated.\n",
      "/opt/miniconda3/envs/tensorflow/lib/python3.9/site-packages/Cython/Compiler/Main.py:369: FutureWarning: Cython directive 'language_level' not set, using 2 for now (Py2). This will change in a later release! File: /Users/ema/Downloads/Recommender-Systems-Challenge-2022-main/Recommenders/MatrixFactorization/Cython/MatrixFactorizationImpressions_Cython_Epoch.pyx\n",
      "  tree = Parsing.p_module(s, pxd, full_module_name)\n",
      "Compiling [1/10]: MatrixFactorizationImpressions_Cython_Epoch.pyx... PASS\n",
      "\n",
      "Compiling [2/10]: MatrixFactorization_Cython_Epoch.pyx... \n",
      "In file included from MatrixFactorization_Cython_Epoch.c:746:\n",
      "In file included from /opt/miniconda3/envs/tensorflow/lib/python3.9/site-packages/numpy/core/include/numpy/arrayobject.h:5:\n",
      "In file included from /opt/miniconda3/envs/tensorflow/lib/python3.9/site-packages/numpy/core/include/numpy/ndarrayobject.h:12:\n",
      "In file included from /opt/miniconda3/envs/tensorflow/lib/python3.9/site-packages/numpy/core/include/numpy/ndarraytypes.h:1948:\n",
      "\u001B[1m/opt/miniconda3/envs/tensorflow/lib/python3.9/site-packages/numpy/core/include/numpy/npy_1_7_deprecated_api.h:17:2: \u001B[0m\u001B[0;1;35mwarning: \u001B[0m\u001B[1m\"Using deprecated NumPy API, disable it with \"          \"#define NPY_NO_DEPRECATED_API NPY_1_7_API_VERSION\" [-W#warnings]\u001B[0m\n",
      "#warning \"Using deprecated NumPy API, disable it with \" \\\n",
      "\u001B[0;1;32m ^\n",
      "\u001B[0m\u001B[1mMatrixFactorization_Cython_Epoch.c:32229:21: \u001B[0m\u001B[0;1;35mwarning: \u001B[0m\u001B[1mfallthrough annotation in unreachable code [-Wunreachable-code-fallthrough]\u001B[0m\n",
      "                    CYTHON_FALLTHROUGH;\n",
      "\u001B[0;1;32m                    ^\n",
      "\u001B[0m\u001B[1mMatrixFactorization_Cython_Epoch.c:341:34: \u001B[0m\u001B[0;1;30mnote: \u001B[0mexpanded from macro 'CYTHON_FALLTHROUGH'\u001B[0m\n",
      "      #define CYTHON_FALLTHROUGH __attribute__((fallthrough))\n",
      "\u001B[0;1;32m                                 ^\n",
      "\u001B[0m\u001B[1mMatrixFactorization_Cython_Epoch.c:32240:21: \u001B[0m\u001B[0;1;35mwarning: \u001B[0m\u001B[1mfallthrough annotation in unreachable code [-Wunreachable-code-fallthrough]\u001B[0m\n",
      "                    CYTHON_FALLTHROUGH;\n",
      "\u001B[0;1;32m                    ^\n",
      "\u001B[0m\u001B[1mMatrixFactorization_Cython_Epoch.c:341:34: \u001B[0m\u001B[0;1;30mnote: \u001B[0mexpanded from macro 'CYTHON_FALLTHROUGH'\u001B[0m\n",
      "      #define CYTHON_FALLTHROUGH __attribute__((fallthrough))\n",
      "\u001B[0;1;32m                                 ^\n",
      "\u001B[0m3 warnings generated.\n",
      "/opt/miniconda3/envs/tensorflow/lib/python3.9/site-packages/Cython/Compiler/Main.py:369: FutureWarning: Cython directive 'language_level' not set, using 2 for now (Py2). This will change in a later release! File: /Users/ema/Downloads/Recommender-Systems-Challenge-2022-main/Recommenders/MatrixFactorization/Cython/MatrixFactorization_Cython_Epoch.pyx\n",
      "  tree = Parsing.p_module(s, pxd, full_module_name)\n",
      "Compiling [2/10]: MatrixFactorization_Cython_Epoch.pyx... PASS\n",
      "\n",
      "Compiling [3/10]: Compute_Similarity_Cython.pyx... \n",
      "In file included from Compute_Similarity_Cython.c:746:\n",
      "In file included from /opt/miniconda3/envs/tensorflow/lib/python3.9/site-packages/numpy/core/include/numpy/arrayobject.h:5:\n",
      "In file included from /opt/miniconda3/envs/tensorflow/lib/python3.9/site-packages/numpy/core/include/numpy/ndarrayobject.h:12:\n",
      "In file included from /opt/miniconda3/envs/tensorflow/lib/python3.9/site-packages/numpy/core/include/numpy/ndarraytypes.h:1948:\n",
      "\u001B[1m/opt/miniconda3/envs/tensorflow/lib/python3.9/site-packages/numpy/core/include/numpy/npy_1_7_deprecated_api.h:17:2: \u001B[0m\u001B[0;1;35mwarning: \u001B[0m\u001B[1m\"Using deprecated NumPy API, disable it with \"          \"#define NPY_NO_DEPRECATED_API NPY_1_7_API_VERSION\" [-W#warnings]\u001B[0m\n",
      "#warning \"Using deprecated NumPy API, disable it with \" \\\n",
      "\u001B[0;1;32m ^\n",
      "\u001B[0m\u001B[1mCompute_Similarity_Cython.c:28901:21: \u001B[0m\u001B[0;1;35mwarning: \u001B[0m\u001B[1mfallthrough annotation in unreachable code [-Wunreachable-code-fallthrough]\u001B[0m\n",
      "                    CYTHON_FALLTHROUGH;\n",
      "\u001B[0;1;32m                    ^\n",
      "\u001B[0m\u001B[1mCompute_Similarity_Cython.c:341:34: \u001B[0m\u001B[0;1;30mnote: \u001B[0mexpanded from macro 'CYTHON_FALLTHROUGH'\u001B[0m\n",
      "      #define CYTHON_FALLTHROUGH __attribute__((fallthrough))\n",
      "\u001B[0;1;32m                                 ^\n",
      "\u001B[0m\u001B[1mCompute_Similarity_Cython.c:28912:21: \u001B[0m\u001B[0;1;35mwarning: \u001B[0m\u001B[1mfallthrough annotation in unreachable code [-Wunreachable-code-fallthrough]\u001B[0m\n",
      "                    CYTHON_FALLTHROUGH;\n",
      "\u001B[0;1;32m                    ^\n",
      "\u001B[0m\u001B[1mCompute_Similarity_Cython.c:341:34: \u001B[0m\u001B[0;1;30mnote: \u001B[0mexpanded from macro 'CYTHON_FALLTHROUGH'\u001B[0m\n",
      "      #define CYTHON_FALLTHROUGH __attribute__((fallthrough))\n",
      "\u001B[0;1;32m                                 ^\n",
      "\u001B[0m3 warnings generated.\n",
      "/opt/miniconda3/envs/tensorflow/lib/python3.9/site-packages/Cython/Compiler/Main.py:369: FutureWarning: Cython directive 'language_level' not set, using 2 for now (Py2). This will change in a later release! File: /Users/ema/Downloads/Recommender-Systems-Challenge-2022-main/Recommenders/Similarity/Cython/Compute_Similarity_Cython.pyx\n",
      "  tree = Parsing.p_module(s, pxd, full_module_name)\n",
      "Compiling [3/10]: Compute_Similarity_Cython.pyx... PASS\n",
      "\n",
      "Compiling [4/10]: Sparse_Matrix_Tree_CSR.pyx... \n",
      "/opt/miniconda3/envs/tensorflow/lib/python3.9/site-packages/Cython/Compiler/Main.py:369: FutureWarning: Cython directive 'language_level' not set, using 2 for now (Py2). This will change in a later release! File: /Users/ema/Downloads/Recommender-Systems-Challenge-2022-main/Recommenders/SLIM/Cython/Sparse_Matrix_Tree_CSR.pyx\n",
      "  tree = Parsing.p_module(s, pxd, full_module_name)\n",
      "warning: Sparse_Matrix_Tree_CSR.pyx:132:34: Non-trivial type declarators in shared declaration (e.g. mix of pointers and values). Each pointer declaration should be on its own line.\n",
      "warning: Sparse_Matrix_Tree_CSR.pyx:132:66: Non-trivial type declarators in shared declaration (e.g. mix of pointers and values). Each pointer declaration should be on its own line.\n",
      "warning: Sparse_Matrix_Tree_CSR.pyx:343:35: Non-trivial type declarators in shared declaration (e.g. mix of pointers and values). Each pointer declaration should be on its own line.\n",
      "warning: Sparse_Matrix_Tree_CSR.pyx:343:52: Non-trivial type declarators in shared declaration (e.g. mix of pointers and values). Each pointer declaration should be on its own line.\n",
      "warning: Sparse_Matrix_Tree_CSR.pyx:442:35: Non-trivial type declarators in shared declaration (e.g. mix of pointers and values). Each pointer declaration should be on its own line.\n",
      "warning: Sparse_Matrix_Tree_CSR.pyx:442:53: Non-trivial type declarators in shared declaration (e.g. mix of pointers and values). Each pointer declaration should be on its own line.\n",
      "warning: Sparse_Matrix_Tree_CSR.pyx:442:69: Non-trivial type declarators in shared declaration (e.g. mix of pointers and values). Each pointer declaration should be on its own line.\n",
      "warning: Sparse_Matrix_Tree_CSR.pyx:577:35: Non-trivial type declarators in shared declaration (e.g. mix of pointers and values). Each pointer declaration should be on its own line.\n",
      "warning: Sparse_Matrix_Tree_CSR.pyx:577:42: Non-trivial type declarators in shared declaration (e.g. mix of pointers and values). Each pointer declaration should be on its own line.\n",
      "warning: Sparse_Matrix_Tree_CSR.pyx:578:35: Non-trivial type declarators in shared declaration (e.g. mix of pointers and values). Each pointer declaration should be on its own line.\n",
      "warning: Sparse_Matrix_Tree_CSR.pyx:578:53: Non-trivial type declarators in shared declaration (e.g. mix of pointers and values). Each pointer declaration should be on its own line.\n"
     ]
    },
    {
     "name": "stdout",
     "output_type": "stream",
     "text": [
      "Compiling [4/10]: Sparse_Matrix_Tree_CSR.pyx... PASS\n",
      "\n",
      "Compiling [5/10]: Triangular_Matrix.pyx... \n",
      "In file included from Triangular_Matrix.c:746:\n",
      "In file included from /opt/miniconda3/envs/tensorflow/lib/python3.9/site-packages/numpy/core/include/numpy/arrayobject.h:5:\n",
      "In file included from /opt/miniconda3/envs/tensorflow/lib/python3.9/site-packages/numpy/core/include/numpy/ndarrayobject.h:12:\n",
      "In file included from /opt/miniconda3/envs/tensorflow/lib/python3.9/site-packages/numpy/core/include/numpy/ndarraytypes.h:1948:\n",
      "\u001B[1m/opt/miniconda3/envs/tensorflow/lib/python3.9/site-packages/numpy/core/include/numpy/npy_1_7_deprecated_api.h:17:2: \u001B[0m\u001B[0;1;35mwarning: \u001B[0m\u001B[1m\"Using deprecated NumPy API, disable it with \"          \"#define NPY_NO_DEPRECATED_API NPY_1_7_API_VERSION\" [-W#warnings]\u001B[0m\n",
      "#warning \"Using deprecated NumPy API, disable it with \" \\\n",
      "\u001B[0;1;32m ^\n",
      "\u001B[0m1 warning generated.\n",
      "/opt/miniconda3/envs/tensorflow/lib/python3.9/site-packages/Cython/Compiler/Main.py:369: FutureWarning: Cython directive 'language_level' not set, using 2 for now (Py2). This will change in a later release! File: /Users/ema/Downloads/Recommender-Systems-Challenge-2022-main/Recommenders/SLIM/Cython/Triangular_Matrix.pyx\n",
      "  tree = Parsing.p_module(s, pxd, full_module_name)\n",
      "Compiling [5/10]: Triangular_Matrix.pyx... PASS\n",
      "\n",
      "Compiling [6/10]: SLIM_BPR_Cython_Epoch.pyx... \n",
      "In file included from SLIM_BPR_Cython_Epoch.c:746:\n",
      "In file included from /opt/miniconda3/envs/tensorflow/lib/python3.9/site-packages/numpy/core/include/numpy/arrayobject.h:5:\n",
      "In file included from /opt/miniconda3/envs/tensorflow/lib/python3.9/site-packages/numpy/core/include/numpy/ndarrayobject.h:12:\n",
      "In file included from /opt/miniconda3/envs/tensorflow/lib/python3.9/site-packages/numpy/core/include/numpy/ndarraytypes.h:1948:\n",
      "\u001B[1m/opt/miniconda3/envs/tensorflow/lib/python3.9/site-packages/numpy/core/include/numpy/npy_1_7_deprecated_api.h:17:2: \u001B[0m\u001B[0;1;35mwarning: \u001B[0m\u001B[1m\"Using deprecated NumPy API, disable it with \"          \"#define NPY_NO_DEPRECATED_API NPY_1_7_API_VERSION\" [-W#warnings]\u001B[0m\n",
      "#warning \"Using deprecated NumPy API, disable it with \" \\\n",
      "\u001B[0;1;32m ^\n",
      "\u001B[0m\u001B[1mSLIM_BPR_Cython_Epoch.c:33996:21: \u001B[0m\u001B[0;1;35mwarning: \u001B[0m\u001B[1mfallthrough annotation in unreachable code [-Wunreachable-code-fallthrough]\u001B[0m\n",
      "                    CYTHON_FALLTHROUGH;\n",
      "\u001B[0;1;32m                    ^\n",
      "\u001B[0m\u001B[1mSLIM_BPR_Cython_Epoch.c:341:34: \u001B[0m\u001B[0;1;30mnote: \u001B[0mexpanded from macro 'CYTHON_FALLTHROUGH'\u001B[0m\n",
      "      #define CYTHON_FALLTHROUGH __attribute__((fallthrough))\n",
      "\u001B[0;1;32m                                 ^\n",
      "\u001B[0m\u001B[1mSLIM_BPR_Cython_Epoch.c:34007:21: \u001B[0m\u001B[0;1;35mwarning: \u001B[0m\u001B[1mfallthrough annotation in unreachable code [-Wunreachable-code-fallthrough]\u001B[0m\n",
      "                    CYTHON_FALLTHROUGH;\n",
      "\u001B[0;1;32m                    ^\n",
      "\u001B[0m\u001B[1mSLIM_BPR_Cython_Epoch.c:341:34: \u001B[0m\u001B[0;1;30mnote: \u001B[0mexpanded from macro 'CYTHON_FALLTHROUGH'\u001B[0m\n",
      "      #define CYTHON_FALLTHROUGH __attribute__((fallthrough))\n",
      "\u001B[0;1;32m                                 ^\n",
      "\u001B[0m3 warnings generated.\n",
      "/opt/miniconda3/envs/tensorflow/lib/python3.9/site-packages/Cython/Compiler/Main.py:369: FutureWarning: Cython directive 'language_level' not set, using 2 for now (Py2). This will change in a later release! File: /Users/ema/Downloads/Recommender-Systems-Challenge-2022-main/Recommenders/SLIM/Cython/SLIM_BPR_Cython_Epoch.pyx\n",
      "  tree = Parsing.p_module(s, pxd, full_module_name)\n",
      "warning: SLIM_BPR_Cython_Epoch.pyx:633:34: Non-trivial type declarators in shared declaration (e.g. mix of pointers and values). Each pointer declaration should be on its own line.\n",
      "warning: SLIM_BPR_Cython_Epoch.pyx:633:66: Non-trivial type declarators in shared declaration (e.g. mix of pointers and values). Each pointer declaration should be on its own line.\n",
      "warning: SLIM_BPR_Cython_Epoch.pyx:818:35: Non-trivial type declarators in shared declaration (e.g. mix of pointers and values). Each pointer declaration should be on its own line.\n",
      "warning: SLIM_BPR_Cython_Epoch.pyx:818:52: Non-trivial type declarators in shared declaration (e.g. mix of pointers and values). Each pointer declaration should be on its own line.\n",
      "warning: SLIM_BPR_Cython_Epoch.pyx:917:35: Non-trivial type declarators in shared declaration (e.g. mix of pointers and values). Each pointer declaration should be on its own line.\n",
      "warning: SLIM_BPR_Cython_Epoch.pyx:917:53: Non-trivial type declarators in shared declaration (e.g. mix of pointers and values). Each pointer declaration should be on its own line.\n",
      "warning: SLIM_BPR_Cython_Epoch.pyx:917:69: Non-trivial type declarators in shared declaration (e.g. mix of pointers and values). Each pointer declaration should be on its own line.\n",
      "warning: SLIM_BPR_Cython_Epoch.pyx:1052:35: Non-trivial type declarators in shared declaration (e.g. mix of pointers and values). Each pointer declaration should be on its own line.\n",
      "warning: SLIM_BPR_Cython_Epoch.pyx:1052:42: Non-trivial type declarators in shared declaration (e.g. mix of pointers and values). Each pointer declaration should be on its own line.\n",
      "warning: SLIM_BPR_Cython_Epoch.pyx:1053:35: Non-trivial type declarators in shared declaration (e.g. mix of pointers and values). Each pointer declaration should be on its own line.\n",
      "warning: SLIM_BPR_Cython_Epoch.pyx:1053:53: Non-trivial type declarators in shared declaration (e.g. mix of pointers and values). Each pointer declaration should be on its own line.\n",
      "Compiling [6/10]: SLIM_BPR_Cython_Epoch.pyx... PASS\n",
      "\n",
      "Compiling [7/10]: HP3_Similarity_Cython_SGD.pyx... \n",
      "In file included from HP3_Similarity_Cython_SGD.c:746:\n",
      "In file included from /opt/miniconda3/envs/tensorflow/lib/python3.9/site-packages/numpy/core/include/numpy/arrayobject.h:5:\n",
      "In file included from /opt/miniconda3/envs/tensorflow/lib/python3.9/site-packages/numpy/core/include/numpy/ndarrayobject.h:12:\n",
      "In file included from /opt/miniconda3/envs/tensorflow/lib/python3.9/site-packages/numpy/core/include/numpy/ndarraytypes.h:1948:\n",
      "\u001B[1m/opt/miniconda3/envs/tensorflow/lib/python3.9/site-packages/numpy/core/include/numpy/npy_1_7_deprecated_api.h:17:2: \u001B[0m\u001B[0;1;35mwarning: \u001B[0m\u001B[1m\"Using deprecated NumPy API, disable it with \"          \"#define NPY_NO_DEPRECATED_API NPY_1_7_API_VERSION\" [-W#warnings]\u001B[0m\n",
      "#warning \"Using deprecated NumPy API, disable it with \" \\\n",
      "\u001B[0;1;32m ^\n",
      "\u001B[0m\u001B[1mHP3_Similarity_Cython_SGD.c:28802:21: \u001B[0m\u001B[0;1;35mwarning: \u001B[0m\u001B[1mfallthrough annotation in unreachable code [-Wunreachable-code-fallthrough]\u001B[0m\n",
      "                    CYTHON_FALLTHROUGH;\n",
      "\u001B[0;1;32m                    ^\n",
      "\u001B[0m\u001B[1mHP3_Similarity_Cython_SGD.c:341:34: \u001B[0m\u001B[0;1;30mnote: \u001B[0mexpanded from macro 'CYTHON_FALLTHROUGH'\u001B[0m\n",
      "      #define CYTHON_FALLTHROUGH __attribute__((fallthrough))\n",
      "\u001B[0;1;32m                                 ^\n",
      "\u001B[0m\u001B[1mHP3_Similarity_Cython_SGD.c:28813:21: \u001B[0m\u001B[0;1;35mwarning: \u001B[0m\u001B[1mfallthrough annotation in unreachable code [-Wunreachable-code-fallthrough]\u001B[0m\n",
      "                    CYTHON_FALLTHROUGH;\n",
      "\u001B[0;1;32m                    ^\n",
      "\u001B[0m\u001B[1mHP3_Similarity_Cython_SGD.c:341:34: \u001B[0m\u001B[0;1;30mnote: \u001B[0mexpanded from macro 'CYTHON_FALLTHROUGH'\u001B[0m\n",
      "      #define CYTHON_FALLTHROUGH __attribute__((fallthrough))\n",
      "\u001B[0;1;32m                                 ^\n",
      "\u001B[0m3 warnings generated.\n",
      "/opt/miniconda3/envs/tensorflow/lib/python3.9/site-packages/Cython/Compiler/Main.py:369: FutureWarning: Cython directive 'language_level' not set, using 2 for now (Py2). This will change in a later release! File: /Users/ema/Downloads/Recommender-Systems-Challenge-2022-main/Recommenders/FeatureWeighting/Cython/HP3_Similarity_Cython_SGD.pyx\n",
      "  tree = Parsing.p_module(s, pxd, full_module_name)\n",
      "warning: HP3_Similarity_Cython_SGD.pyx:113:40: Index should be typed for more efficient access\n",
      "Compiling [7/10]: HP3_Similarity_Cython_SGD.pyx... PASS\n",
      "\n",
      "Compiling [8/10]: CFW_D_Similarity_Cython_SGD.pyx... \n",
      "In file included from CFW_D_Similarity_Cython_SGD.c:746:\n",
      "In file included from /opt/miniconda3/envs/tensorflow/lib/python3.9/site-packages/numpy/core/include/numpy/arrayobject.h:5:\n",
      "In file included from /opt/miniconda3/envs/tensorflow/lib/python3.9/site-packages/numpy/core/include/numpy/ndarrayobject.h:12:\n",
      "In file included from /opt/miniconda3/envs/tensorflow/lib/python3.9/site-packages/numpy/core/include/numpy/ndarraytypes.h:1948:\n",
      "\u001B[1m/opt/miniconda3/envs/tensorflow/lib/python3.9/site-packages/numpy/core/include/numpy/npy_1_7_deprecated_api.h:17:2: \u001B[0m\u001B[0;1;35mwarning: \u001B[0m\u001B[1m\"Using deprecated NumPy API, disable it with \"          \"#define NPY_NO_DEPRECATED_API NPY_1_7_API_VERSION\" [-W#warnings]\u001B[0m\n"
     ]
    },
    {
     "name": "stdout",
     "output_type": "stream",
     "text": [
      "#warning \"Using deprecated NumPy API, disable it with \" \\\n",
      "\u001B[0;1;32m ^\n",
      "\u001B[0m\u001B[1mCFW_D_Similarity_Cython_SGD.c:28563:21: \u001B[0m\u001B[0;1;35mwarning: \u001B[0m\u001B[1mfallthrough annotation in unreachable code [-Wunreachable-code-fallthrough]\u001B[0m\n",
      "                    CYTHON_FALLTHROUGH;\n",
      "\u001B[0;1;32m                    ^\n",
      "\u001B[0m\u001B[1mCFW_D_Similarity_Cython_SGD.c:341:34: \u001B[0m\u001B[0;1;30mnote: \u001B[0mexpanded from macro 'CYTHON_FALLTHROUGH'\u001B[0m\n",
      "      #define CYTHON_FALLTHROUGH __attribute__((fallthrough))\n",
      "\u001B[0;1;32m                                 ^\n",
      "\u001B[0m\u001B[1mCFW_D_Similarity_Cython_SGD.c:28574:21: \u001B[0m\u001B[0;1;35mwarning: \u001B[0m\u001B[1mfallthrough annotation in unreachable code [-Wunreachable-code-fallthrough]\u001B[0m\n",
      "                    CYTHON_FALLTHROUGH;\n",
      "\u001B[0;1;32m                    ^\n",
      "\u001B[0m\u001B[1mCFW_D_Similarity_Cython_SGD.c:341:34: \u001B[0m\u001B[0;1;30mnote: \u001B[0mexpanded from macro 'CYTHON_FALLTHROUGH'\u001B[0m\n",
      "      #define CYTHON_FALLTHROUGH __attribute__((fallthrough))\n",
      "\u001B[0;1;32m                                 ^\n",
      "\u001B[0m3 warnings generated.\n",
      "/opt/miniconda3/envs/tensorflow/lib/python3.9/site-packages/Cython/Compiler/Main.py:369: FutureWarning: Cython directive 'language_level' not set, using 2 for now (Py2). This will change in a later release! File: /Users/ema/Downloads/Recommender-Systems-Challenge-2022-main/Recommenders/FeatureWeighting/Cython/CFW_D_Similarity_Cython_SGD.pyx\n",
      "  tree = Parsing.p_module(s, pxd, full_module_name)\n",
      "Compiling [8/10]: CFW_D_Similarity_Cython_SGD.pyx... PASS\n",
      "\n",
      "Compiling [9/10]: FBSM_Rating_Cython_SGD.pyx... \n",
      "In file included from FBSM_Rating_Cython_SGD.c:746:\n",
      "In file included from /opt/miniconda3/envs/tensorflow/lib/python3.9/site-packages/numpy/core/include/numpy/arrayobject.h:5:\n",
      "In file included from /opt/miniconda3/envs/tensorflow/lib/python3.9/site-packages/numpy/core/include/numpy/ndarrayobject.h:12:\n",
      "In file included from /opt/miniconda3/envs/tensorflow/lib/python3.9/site-packages/numpy/core/include/numpy/ndarraytypes.h:1948:\n",
      "\u001B[1m/opt/miniconda3/envs/tensorflow/lib/python3.9/site-packages/numpy/core/include/numpy/npy_1_7_deprecated_api.h:17:2: \u001B[0m\u001B[0;1;35mwarning: \u001B[0m\u001B[1m\"Using deprecated NumPy API, disable it with \"          \"#define NPY_NO_DEPRECATED_API NPY_1_7_API_VERSION\" [-W#warnings]\u001B[0m\n",
      "#warning \"Using deprecated NumPy API, disable it with \" \\\n",
      "\u001B[0;1;32m ^\n",
      "\u001B[0m\u001B[1mFBSM_Rating_Cython_SGD.c:31139:21: \u001B[0m\u001B[0;1;35mwarning: \u001B[0m\u001B[1mfallthrough annotation in unreachable code [-Wunreachable-code-fallthrough]\u001B[0m\n",
      "                    CYTHON_FALLTHROUGH;\n",
      "\u001B[0;1;32m                    ^\n",
      "\u001B[0m\u001B[1mFBSM_Rating_Cython_SGD.c:341:34: \u001B[0m\u001B[0;1;30mnote: \u001B[0mexpanded from macro 'CYTHON_FALLTHROUGH'\u001B[0m\n",
      "      #define CYTHON_FALLTHROUGH __attribute__((fallthrough))\n",
      "\u001B[0;1;32m                                 ^\n",
      "\u001B[0m\u001B[1mFBSM_Rating_Cython_SGD.c:31150:21: \u001B[0m\u001B[0;1;35mwarning: \u001B[0m\u001B[1mfallthrough annotation in unreachable code [-Wunreachable-code-fallthrough]\u001B[0m\n",
      "                    CYTHON_FALLTHROUGH;\n",
      "\u001B[0;1;32m                    ^\n",
      "\u001B[0m\u001B[1mFBSM_Rating_Cython_SGD.c:341:34: \u001B[0m\u001B[0;1;30mnote: \u001B[0mexpanded from macro 'CYTHON_FALLTHROUGH'\u001B[0m\n",
      "      #define CYTHON_FALLTHROUGH __attribute__((fallthrough))\n",
      "\u001B[0;1;32m                                 ^\n",
      "\u001B[0m3 warnings generated.\n",
      "/opt/miniconda3/envs/tensorflow/lib/python3.9/site-packages/Cython/Compiler/Main.py:369: FutureWarning: Cython directive 'language_level' not set, using 2 for now (Py2). This will change in a later release! File: /Users/ema/Downloads/Recommender-Systems-Challenge-2022-main/Recommenders/FeatureWeighting/Cython/FBSM_Rating_Cython_SGD.pyx\n",
      "  tree = Parsing.p_module(s, pxd, full_module_name)\n",
      "Compiling [9/10]: FBSM_Rating_Cython_SGD.pyx... PASS\n",
      "\n",
      "Compiling [10/10]: CFW_DVV_Similarity_Cython_SGD.pyx... \n",
      "In file included from CFW_DVV_Similarity_Cython_SGD.c:746:\n",
      "In file included from /opt/miniconda3/envs/tensorflow/lib/python3.9/site-packages/numpy/core/include/numpy/arrayobject.h:5:\n",
      "In file included from /opt/miniconda3/envs/tensorflow/lib/python3.9/site-packages/numpy/core/include/numpy/ndarrayobject.h:12:\n",
      "In file included from /opt/miniconda3/envs/tensorflow/lib/python3.9/site-packages/numpy/core/include/numpy/ndarraytypes.h:1948:\n",
      "\u001B[1m/opt/miniconda3/envs/tensorflow/lib/python3.9/site-packages/numpy/core/include/numpy/npy_1_7_deprecated_api.h:17:2: \u001B[0m\u001B[0;1;35mwarning: \u001B[0m\u001B[1m\"Using deprecated NumPy API, disable it with \"          \"#define NPY_NO_DEPRECATED_API NPY_1_7_API_VERSION\" [-W#warnings]\u001B[0m\n",
      "#warning \"Using deprecated NumPy API, disable it with \" \\\n",
      "\u001B[0;1;32m ^\n",
      "\u001B[0m\u001B[1mCFW_DVV_Similarity_Cython_SGD.c:35093:21: \u001B[0m\u001B[0;1;35mwarning: \u001B[0m\u001B[1mfallthrough annotation in unreachable code [-Wunreachable-code-fallthrough]\u001B[0m\n",
      "                    CYTHON_FALLTHROUGH;\n",
      "\u001B[0;1;32m                    ^\n",
      "\u001B[0m\u001B[1mCFW_DVV_Similarity_Cython_SGD.c:341:34: \u001B[0m\u001B[0;1;30mnote: \u001B[0mexpanded from macro 'CYTHON_FALLTHROUGH'\u001B[0m\n",
      "      #define CYTHON_FALLTHROUGH __attribute__((fallthrough))\n",
      "\u001B[0;1;32m                                 ^\n",
      "\u001B[0m\u001B[1mCFW_DVV_Similarity_Cython_SGD.c:35104:21: \u001B[0m\u001B[0;1;35mwarning: \u001B[0m\u001B[1mfallthrough annotation in unreachable code [-Wunreachable-code-fallthrough]\u001B[0m\n",
      "                    CYTHON_FALLTHROUGH;\n",
      "\u001B[0;1;32m                    ^\n",
      "\u001B[0m\u001B[1mCFW_DVV_Similarity_Cython_SGD.c:341:34: \u001B[0m\u001B[0;1;30mnote: \u001B[0mexpanded from macro 'CYTHON_FALLTHROUGH'\u001B[0m\n",
      "      #define CYTHON_FALLTHROUGH __attribute__((fallthrough))\n",
      "\u001B[0;1;32m                                 ^\n",
      "\u001B[0m3 warnings generated.\n",
      "/opt/miniconda3/envs/tensorflow/lib/python3.9/site-packages/Cython/Compiler/Main.py:369: FutureWarning: Cython directive 'language_level' not set, using 2 for now (Py2). This will change in a later release! File: /Users/ema/Downloads/Recommender-Systems-Challenge-2022-main/Recommenders/FeatureWeighting/Cython/CFW_DVV_Similarity_Cython_SGD.pyx\n",
      "  tree = Parsing.p_module(s, pxd, full_module_name)\n",
      "Compiling [10/10]: CFW_DVV_Similarity_Cython_SGD.pyx... PASS\n",
      "\n",
      "run_compile_all_cython: Compilation finished. SUCCESS.\n",
      "Compilation log can be found here: './result_experiments/run_compile_all_cython.txt'\n"
     ]
    }
   ],
   "source": [
    "import pyximport\n",
    "pyximport.install()\n",
    "!python run_compile_all_cython.py"
   ]
  },
  {
   "cell_type": "code",
   "execution_count": 5,
   "metadata": {},
   "outputs": [
    {
     "name": "stdout",
     "output_type": "stream",
     "text": [
      "RP3betaRecommender: Similarity column 24507 (100.0%), 1861.94 column/sec. Elapsed time 13.16 sec\n"
     ]
    }
   ],
   "source": [
    "from Recommenders.GraphBased.RP3betaRecommender import RP3betaRecommender\n",
    "\n",
    "recommender_RP3beta = RP3betaRecommender(URM_train)\n",
    "recommender_RP3beta.fit(alpha=0.08934428697754494, beta=0.15025275671838492, topK=132, implicit=False)\n",
    "#recommender_RP3beta.fit(topK=167, alpha=1.0, beta=0.4520495673133021, implicit=True)"
   ]
  },
  {
   "cell_type": "code",
   "execution_count": null,
   "outputs": [],
   "source": [
    "recommender_SLIMElasticNet.W_sparse"
   ],
   "metadata": {
    "collapsed": false
   }
  },
  {
   "cell_type": "code",
   "execution_count": null,
   "outputs": [],
   "source": [
    "recommender_RP3beta.W_sparse"
   ],
   "metadata": {
    "collapsed": false
   }
  },
  {
   "cell_type": "code",
   "execution_count": 6,
   "metadata": {},
   "outputs": [
    {
     "name": "stdout",
     "output_type": "stream",
     "text": [
      "MAP of the starting models\n",
      "EvaluatorHoldout: Processed 40693 (100.0%) in 19.96 sec. Users per second: 2038\n",
      "SLIM ElasticNet - MAP: 0.022279966836462446\n",
      "EvaluatorHoldout: Processed 40693 (100.0%) in 13.78 sec. Users per second: 2954\n",
      "RP3beta - MAP: 0.021232793635970547\n"
     ]
    }
   ],
   "source": [
    "print(\"MAP of the starting models\")\n",
    "\n",
    "result_df, _ = evaluator_test.evaluateRecommender(recommender_SLIMElasticNet)\n",
    "print(\"SLIM ElasticNet - MAP: {}\".format(result_df.loc[10][\"MAP\"]))\n",
    "\n",
    "result_df, _ = evaluator_test.evaluateRecommender(recommender_RP3beta)\n",
    "print(\"RP3beta - MAP: {}\".format(result_df.loc[10][\"MAP\"]))"
   ]
  },
  {
   "cell_type": "code",
   "execution_count": null,
   "outputs": [],
   "source": [
    "user_id = 0\n",
    "\n",
    "item_scores_SLIM_EN = recommender_SLIMElasticNet._compute_item_score(user_id)\n",
    "item_scores_SLIM_EN"
   ],
   "metadata": {
    "collapsed": false
   }
  },
  {
   "cell_type": "code",
   "execution_count": null,
   "outputs": [],
   "source": [
    "item_scores_RP3 = recommender_RP3beta._compute_item_score(user_id)\n",
    "item_scores_RP3"
   ],
   "metadata": {
    "collapsed": false
   }
  },
  {
   "cell_type": "code",
   "execution_count": null,
   "outputs": [],
   "source": [
    "alpha = 0.5 #50/50 slim-rp3\n",
    "new_similarity = (1-alpha)*recommender_RP3beta.W_sparse + alpha * recommender_SLIMElasticNet.W_sparse\n",
    "new_similarity"
   ],
   "metadata": {
    "collapsed": false
   }
  },
  {
   "cell_type": "code",
   "execution_count": 7,
   "metadata": {},
   "outputs": [],
   "source": [
    "from Recommenders.BaseRecommender import BaseRecommender\n",
    "\n",
    "class ScoresHybridRecommender(BaseRecommender):\n",
    "    \"\"\" ScoresHybridRecommender\n",
    "    Hybrid of two prediction scores R = R1*alpha + R2*(1-alpha)\n",
    "\n",
    "    \"\"\"\n",
    "\n",
    "    RECOMMENDER_NAME = \"ScoresHybridRecommender\"\n",
    "\n",
    "    def __init__(self, URM_train, recommender_1, recommender_2):\n",
    "        super(ScoresHybridRecommender, self).__init__(URM_train)\n",
    "\n",
    "        self.URM_train = sps.csr_matrix(URM_train)\n",
    "        self.recommender_1 = recommender_1\n",
    "        self.recommender_2 = recommender_2\n",
    "\n",
    "\n",
    "    def fit(self, alpha = 0.5):\n",
    "        self.alpha = alpha\n",
    "\n",
    "\n",
    "    def _compute_item_score(self, user_id_array, items_to_compute):\n",
    "\n",
    "        # In a simple extension this could be a loop over a list of pretrained recommender objects\n",
    "        item_weights_1 = self.recommender_1._compute_item_score(user_id_array)\n",
    "        item_weights_2 = self.recommender_2._compute_item_score(user_id_array)\n",
    "\n",
    "        item_weights = item_weights_1*self.alpha + item_weights_2*(1-self.alpha)\n",
    "\n",
    "        return item_weights"
   ]
  },
  {
   "cell_type": "code",
   "execution_count": 8,
   "metadata": {},
   "outputs": [
    {
     "name": "stdout",
     "output_type": "stream",
     "text": [
      "EvaluatorHoldout: Processed 40060 (100.0%) in 25.33 sec. Users per second: 1582\n",
      "Norm: 1, Result: 0.01919768165212472\n",
      "EvaluatorHoldout: Processed 37000 (92.4%) in 5.07 min. Users per second: 122\n",
      "EvaluatorHoldout: Processed 40060 (100.0%) in 5.39 min. Users per second: 124\n",
      "Norm: 2, Result: 0.019198197743067625\n",
      "EvaluatorHoldout: Processed 40060 (100.0%) in 23.68 sec. Users per second: 1692\n",
      "Norm: inf, Result: 0.019207818232967737\n",
      "EvaluatorHoldout: Processed 40060 (100.0%) in 23.69 sec. Users per second: 1691\n",
      "Norm: -inf, Result: 0.01919809175126166\n"
     ]
    }
   ],
   "source": [
    "recommender_object = ScoresHybridRecommender(URM_train, recommender_SLIMElasticNet, recommender_RP3beta)\n",
    "\n",
    "best_model = {\n",
    "    \"MAP\" : 0,\n",
    "    \"alpha\" : 0,\n",
    "    \"norm\" : 0\n",
    "}\n",
    "\n",
    "for norm in [1,2]:\n",
    "    for alpha in np.arange(0.0, 1.1, 0.1):\n",
    "\n",
    "            #truncate digits since np.arange sometimes doesn't\n",
    "            alpha = round(alpha,1)\n",
    "            recommender_object.fit(norm, alpha)\n",
    "            result_df, _ = evaluator_validation.evaluateRecommender(recommender_object)\n",
    "            print(\"Norm: {}, Alpha: {}, Result: {}\".format(norm, alpha, 1-alpha, result_df.loc[10][\"MAP\"]))\n",
    "\n",
    "            if result_df.loc[10][\"MAP\"] > best_model[\"MAP\"]:\n",
    "                best_model[\"MAP\"] = result_df.loc[10][\"MAP\"]\n",
    "                best_model[\"alpha\"] = alpha\n",
    "                best_model[\"norm\"] = norm\n",
    "\n",
    "                print(\"*** New best model found! \")\n",
    "                print(\"New best model has MAP: {} with alpha: {}, norm: {}\".format(best_model[\"MAP\"], best_model[\"alpha\"], best_model[\"norm\"]))\n",
    "\n",
    "print(\"----\")\n",
    "print(\"Best model has MAP: {} with alpha: {}, norm: {}\".format(best_model[\"MAP\"], best_model[\"alpha\"], best_model[\"norm\"]))"
   ]
  },
  {
   "cell_type": "code",
   "execution_count": null,
   "outputs": [],
   "source": [
    "recommender = ScoresHybridRecommender(URM_train, recommender_SLIMElasticNet, recommender_RP3beta)\n",
    "recommender.fit(norm=1, alpha = 0.5)"
   ],
   "metadata": {
    "collapsed": false
   }
  },
  {
   "cell_type": "markdown",
   "metadata": {},
   "source": [
    "## Submissions"
   ]
  },
  {
   "cell_type": "code",
   "execution_count": 9,
   "metadata": {},
   "outputs": [],
   "source": [
    "test_users = pd.read_csv('Dataset/data_target_users_test.csv')"
   ]
  },
  {
   "cell_type": "code",
   "execution_count": 10,
   "metadata": {},
   "outputs": [],
   "source": [
    "user_id = test_users['user_id']\n",
    "recommendations = []\n",
    "for user in user_id:\n",
    "    recommendations.append(recommender_object.recommend(user, cutoff=10))"
   ]
  },
  {
   "cell_type": "code",
   "execution_count": 11,
   "metadata": {},
   "outputs": [],
   "source": [
    "for index in range(len(recommendations)):\n",
    "    recommendations[index]=np.array(recommendations[index])\n",
    "\n",
    "test_users['item_list']= recommendations\n",
    "test_users['item_list'] = pd.DataFrame([str(line).strip('[').strip(']').replace(\"'\",\"\") for line in test_users['item_list']])\n",
    "test_users.to_csv('Submissions\\Submission_SLIM_EN_rp3Beta_URM_Binary.csv', index=False)"
   ]
  }
 ],
 "metadata": {
  "kernelspec": {
   "display_name": "Python 3 (ipykernel)",
   "language": "python",
   "name": "python3"
  },
  "language_info": {
   "codemirror_mode": {
    "name": "ipython",
    "version": 3
   },
   "file_extension": ".py",
   "mimetype": "text/x-python",
   "name": "python",
   "nbconvert_exporter": "python",
   "pygments_lexer": "ipython3",
   "version": "3.9.13"
  }
 },
 "nbformat": 4,
 "nbformat_minor": 1
}
