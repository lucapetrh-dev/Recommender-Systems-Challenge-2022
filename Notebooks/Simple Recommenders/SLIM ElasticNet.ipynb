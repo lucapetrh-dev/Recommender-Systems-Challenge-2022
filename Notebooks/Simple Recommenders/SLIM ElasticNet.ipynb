{
 "cells": [
  {
   "cell_type": "code",
   "execution_count": 1,
   "id": "c8259259",
   "metadata": {
    "_cell_guid": "b1076dfc-b9ad-4769-8c92-a6c4dae69d19",
    "_uuid": "8f2839f25d086af736a60e9eeb907d3b93b6e0e5",
    "execution": {
     "iopub.execute_input": "2022-12-14T16:36:58.120976Z",
     "iopub.status.busy": "2022-12-14T16:36:58.119873Z",
     "iopub.status.idle": "2022-12-14T16:37:12.994408Z",
     "shell.execute_reply": "2022-12-14T16:37:12.993061Z"
    },
    "papermill": {
     "duration": 14.883253,
     "end_time": "2022-12-14T16:37:12.997443",
     "exception": false,
     "start_time": "2022-12-14T16:36:58.114190",
     "status": "completed"
    },
    "tags": []
   },
   "outputs": [
    {
     "name": "stdout",
     "output_type": "stream",
     "text": [
      "Cloning into 'Recommender-Systems-Challenge-2022'...\r\n",
      "remote: Enumerating objects: 596, done.\u001B[K\r\n",
      "remote: Counting objects: 100% (192/192), done.\u001B[K\r\n",
      "remote: Compressing objects: 100% (139/139), done.\u001B[K\r\n",
      "remote: Total 596 (delta 99), reused 127 (delta 52), pack-reused 404\u001B[K\r\n",
      "Receiving objects: 100% (596/596), 98.86 MiB | 13.23 MiB/s, done.\r\n",
      "Resolving deltas: 100% (271/271), done.\r\n",
      "Updating files: 100% (248/248), done.\r\n"
     ]
    }
   ],
   "source": [
    "import pandas as pd\n",
    "import numpy as np\n",
    "import scipy.sparse as sps\n",
    "import matplotlib.pyplot as pyplot\n",
    "\n",
    "from Evaluation.Evaluator import EvaluatorHoldout\n",
    "from Data_manager.split_functions.split_train_validation_random_holdout import split_train_in_two_percentage_global_sample\n",
    "from Utils.DataReader import load_urm, load_icm, load_target"
   ]
  },
  {
   "cell_type": "code",
   "execution_count": 2,
   "id": "5f74859f",
   "metadata": {
    "execution": {
     "iopub.execute_input": "2022-12-14T16:37:13.012849Z",
     "iopub.status.busy": "2022-12-14T16:37:13.011903Z",
     "iopub.status.idle": "2022-12-14T16:37:18.998070Z",
     "shell.execute_reply": "2022-12-14T16:37:18.996935Z"
    },
    "papermill": {
     "duration": 5.996467,
     "end_time": "2022-12-14T16:37:19.000603",
     "exception": false,
     "start_time": "2022-12-14T16:37:13.004136",
     "status": "completed"
    },
    "tags": []
   },
   "outputs": [
    {
     "name": "stdout",
     "output_type": "stream",
     "text": [
      "Warning: 940 (2.26 %) of 41629 users have no sampled items\n",
      "Warning: 1553 (3.73 %) of 41629 users have no sampled items\n",
      "EvaluatorHoldout: Ignoring 1553 ( 3.7%) Users that have less than 1 test interactions\n",
      "EvaluatorHoldout: Ignoring 940 ( 2.3%) Users that have less than 1 test interactions\n"
     ]
    }
   ],
   "source": [
    "URM_all = load_urm()\n",
    "\n",
    "URM_train, URM_test = split_train_in_two_percentage_global_sample(URM_all, train_percentage = 0.85)\n",
    "URM_train, URM_validation = split_train_in_two_percentage_global_sample(URM_train, train_percentage = 0.85)\n",
    "\n",
    "evaluator_validation = EvaluatorHoldout(URM_validation, cutoff_list=[10])\n",
    "evaluator_test = EvaluatorHoldout(URM_test, cutoff_list=[10])"
   ]
  },
  {
   "cell_type": "code",
   "execution_count": null,
   "outputs": [],
   "source": [
    "from Recommenders.SLIM.SLIMElasticNetRecommender import SLIMElasticNetRecommender\n",
    "\n",
    "recommender_SLIMElasticNet = SLIMElasticNetRecommender(URM_train)\n",
    "recommender_SLIMElasticNet.fit(topK=585, l1_ratio=0.009929794168572358, alpha=0.0018687691383859428)"
   ],
   "metadata": {
    "collapsed": false
   }
  },
  {
   "cell_type": "code",
   "execution_count": 4,
   "id": "31d4dac1",
   "metadata": {
    "execution": {
     "iopub.execute_input": "2022-12-14T17:16:34.112628Z",
     "iopub.status.busy": "2022-12-14T17:16:34.112247Z",
     "iopub.status.idle": "2022-12-14T17:17:27.739896Z",
     "shell.execute_reply": "2022-12-14T17:17:27.738522Z"
    },
    "papermill": {
     "duration": 53.638448,
     "end_time": "2022-12-14T17:17:27.742608",
     "exception": false,
     "start_time": "2022-12-14T17:16:34.104160",
     "status": "completed"
    },
    "tags": []
   },
   "outputs": [
    {
     "name": "stdout",
     "output_type": "stream",
     "text": [
      "EvaluatorHoldout: Processed 40689 (100.0%) in 53.60 sec. Users per second: 759\n",
      "SLIM ElasticNet - MAP: 0.0\n"
     ]
    }
   ],
   "source": [
    "result_df, _ = evaluator_test.evaluateRecommender(recommender_SLIMElasticNet)\n",
    "print(\"SLIM ElasticNet - MAP: {}\".format(result_df.loc[10][\"MAP\"]))"
   ]
  },
  {
   "cell_type": "code",
   "execution_count": 3,
   "outputs": [
    {
     "name": "stdout",
     "output_type": "stream",
     "text": [
      "SLIMElasticNetRecommender: Processed 2951 (12.0%) in 5.00 min. Items per second: 9.83\n",
      "SLIMElasticNetRecommender: Processed 6205 (25.3%) in 10.00 min. Items per second: 10.34\n",
      "SLIMElasticNetRecommender: Processed 9532 (38.9%) in 15.00 min. Items per second: 10.59\n",
      "SLIMElasticNetRecommender: Processed 12787 (52.2%) in 20.00 min. Items per second: 10.65\n",
      "SLIMElasticNetRecommender: Processed 15900 (64.9%) in 25.00 min. Items per second: 10.60\n",
      "SLIMElasticNetRecommender: Processed 18926 (77.2%) in 30.00 min. Items per second: 10.51\n",
      "SLIMElasticNetRecommender: Processed 21926 (89.5%) in 35.00 min. Items per second: 10.44\n",
      "SLIMElasticNetRecommender: Processed 24507 (100.0%) in 39.22 min. Items per second: 10.41\n"
     ]
    }
   ],
   "source": [
    "from Recommenders.SLIM.SLIMElasticNetRecommender import SLIMElasticNetRecommender\n",
    "\n",
    "recommender_SLIMElasticNet = SLIMElasticNetRecommender(URM_all)\n",
    "recommender_SLIMElasticNet.fit(topK=585, l1_ratio=0.009929794168572358, alpha=0.0018687691383859428)"
   ],
   "metadata": {
    "collapsed": false
   }
  },
  {
   "cell_type": "markdown",
   "id": "1592d0a8",
   "metadata": {
    "papermill": {
     "duration": 0.006567,
     "end_time": "2022-12-14T17:17:27.756718",
     "exception": false,
     "start_time": "2022-12-14T17:17:27.750151",
     "status": "completed"
    },
    "tags": []
   },
   "source": [
    "## Submissions"
   ]
  },
  {
   "cell_type": "code",
   "execution_count": 5,
   "id": "ff97775a",
   "metadata": {
    "execution": {
     "iopub.execute_input": "2022-12-14T17:17:27.772125Z",
     "iopub.status.busy": "2022-12-14T17:17:27.771742Z",
     "iopub.status.idle": "2022-12-14T17:17:27.783394Z",
     "shell.execute_reply": "2022-12-14T17:17:27.782384Z"
    },
    "papermill": {
     "duration": 0.022051,
     "end_time": "2022-12-14T17:17:27.785683",
     "exception": false,
     "start_time": "2022-12-14T17:17:27.763632",
     "status": "completed"
    },
    "tags": []
   },
   "outputs": [],
   "source": [
    "test_users = pd.read_csv('Dataset/data_target_users_test.csv')"
   ]
  },
  {
   "cell_type": "code",
   "execution_count": 6,
   "id": "19ce7f1c",
   "metadata": {
    "execution": {
     "iopub.execute_input": "2022-12-14T17:17:27.801194Z",
     "iopub.status.busy": "2022-12-14T17:17:27.800826Z",
     "iopub.status.idle": "2022-12-14T17:18:14.603093Z",
     "shell.execute_reply": "2022-12-14T17:18:14.601928Z"
    },
    "papermill": {
     "duration": 46.812958,
     "end_time": "2022-12-14T17:18:14.605596",
     "exception": false,
     "start_time": "2022-12-14T17:17:27.792638",
     "status": "completed"
    },
    "tags": []
   },
   "outputs": [],
   "source": [
    "user_id = test_users['user_id']\n",
    "recommendations = []\n",
    "for user in user_id:\n",
    "    recommendations.append(recommender_SLIMElasticNet.recommend(user, cutoff=10, remove_seen_flag=True))"
   ]
  },
  {
   "cell_type": "code",
   "execution_count": 7,
   "id": "86e73a28",
   "metadata": {
    "execution": {
     "iopub.execute_input": "2022-12-14T17:18:14.622905Z",
     "iopub.status.busy": "2022-12-14T17:18:14.621584Z",
     "iopub.status.idle": "2022-12-14T17:18:17.190706Z",
     "shell.execute_reply": "2022-12-14T17:18:17.189262Z"
    },
    "papermill": {
     "duration": 2.580584,
     "end_time": "2022-12-14T17:18:17.193665",
     "exception": false,
     "start_time": "2022-12-14T17:18:14.613081",
     "status": "completed"
    },
    "tags": []
   },
   "outputs": [],
   "source": [
    "for index in range(len(recommendations)):\n",
    "    recommendations[index]=np.array(recommendations[index])\n",
    "\n",
    "test_users['item_list']= recommendations\n",
    "test_users['item_list'] = pd.DataFrame([str(line).strip('[').strip(']').replace(\"'\",\"\") for line in test_users['item_list']])\n",
    "test_users.to_csv('Submissions/Submission_SLIM_EN_new.csv', index=False)"
   ]
  }
 ],
 "metadata": {
  "kernelspec": {
   "display_name": "Python 3",
   "language": "python",
   "name": "python3"
  },
  "language_info": {
   "codemirror_mode": {
    "name": "ipython",
    "version": 3
   },
   "file_extension": ".py",
   "mimetype": "text/x-python",
   "name": "python",
   "nbconvert_exporter": "python",
   "pygments_lexer": "ipython3",
   "version": "3.7.12"
  },
  "papermill": {
   "default_parameters": {},
   "duration": 2488.229707,
   "end_time": "2022-12-14T17:18:18.029013",
   "environment_variables": {},
   "exception": null,
   "input_path": "__notebook__.ipynb",
   "output_path": "__notebook__.ipynb",
   "parameters": {},
   "start_time": "2022-12-14T16:36:49.799306",
   "version": "2.3.4"
  }
 },
 "nbformat": 4,
 "nbformat_minor": 5
}
