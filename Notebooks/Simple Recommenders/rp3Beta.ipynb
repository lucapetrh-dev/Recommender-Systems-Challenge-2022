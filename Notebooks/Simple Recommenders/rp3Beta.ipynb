{
 "cells": [
  {
   "cell_type": "code",
   "execution_count": 1,
   "id": "a44ef884",
   "metadata": {
    "execution": {
     "iopub.execute_input": "2022-12-14T16:43:17.802499Z",
     "iopub.status.busy": "2022-12-14T16:43:17.801939Z",
     "iopub.status.idle": "2022-12-14T16:43:29.077404Z",
     "shell.execute_reply": "2022-12-14T16:43:29.075984Z"
    },
    "papermill": {
     "duration": 11.284863,
     "end_time": "2022-12-14T16:43:29.080837",
     "exception": false,
     "start_time": "2022-12-14T16:43:17.795974",
     "status": "completed"
    },
    "tags": []
   },
   "outputs": [
    {
     "name": "stdout",
     "output_type": "stream",
     "text": [
      "Cloning into 'Recommender-Systems-Challenge-2022'...\r\n",
      "remote: Enumerating objects: 596, done.\u001B[K\r\n",
      "remote: Counting objects: 100% (192/192), done.\u001B[K\r\n",
      "remote: Compressing objects: 100% (139/139), done.\u001B[K\r\n",
      "remote: Total 596 (delta 99), reused 127 (delta 52), pack-reused 404\u001B[K\r\n",
      "Receiving objects: 100% (596/596), 98.86 MiB | 21.42 MiB/s, done.\r\n",
      "Resolving deltas: 100% (271/271), done.\r\n",
      "Updating files: 100% (248/248), done.\r\n"
     ]
    }
   ],
   "source": [
    "import pandas as pd\n",
    "import numpy as np\n",
    "import scipy.sparse as sps\n",
    "import matplotlib.pyplot as pyplot\n",
    "\n",
    "from Evaluation.Evaluator import EvaluatorHoldout\n",
    "from Data_manager.split_functions.split_train_validation_random_holdout import split_train_in_two_percentage_global_sample\n",
    "from Utils.DataReader import load_urm, load_icm, load_target"
   ]
  },
  {
   "cell_type": "code",
   "execution_count": 2,
   "id": "5933cd24",
   "metadata": {
    "execution": {
     "iopub.execute_input": "2022-12-14T16:43:29.096566Z",
     "iopub.status.busy": "2022-12-14T16:43:29.096047Z",
     "iopub.status.idle": "2022-12-14T16:43:35.084355Z",
     "shell.execute_reply": "2022-12-14T16:43:35.082958Z"
    },
    "papermill": {
     "duration": 6.001311,
     "end_time": "2022-12-14T16:43:35.089072",
     "exception": false,
     "start_time": "2022-12-14T16:43:29.087761",
     "status": "completed"
    },
    "tags": []
   },
   "outputs": [
    {
     "name": "stdout",
     "output_type": "stream",
     "text": [
      "Warning: 958 (2.30 %) of 41629 users have no sampled items\n",
      "Warning: 1512 (3.63 %) of 41629 users have no sampled items\n",
      "EvaluatorHoldout: Ignoring 1512 ( 3.6%) Users that have less than 1 test interactions\n",
      "EvaluatorHoldout: Ignoring 958 ( 2.3%) Users that have less than 1 test interactions\n"
     ]
    }
   ],
   "source": [
    "URM_all = load_urm()\n",
    "\n",
    "URM_train, URM_test = split_train_in_two_percentage_global_sample(URM_all, train_percentage = 0.85)\n",
    "URM_train, URM_validation = split_train_in_two_percentage_global_sample(URM_train, train_percentage = 0.85)\n",
    "\n",
    "evaluator_validation = EvaluatorHoldout(URM_validation, cutoff_list=[10])\n",
    "evaluator_test = EvaluatorHoldout(URM_test, cutoff_list=[10])"
   ]
  },
  {
   "cell_type": "markdown",
   "id": "265983b7",
   "metadata": {
    "papermill": {
     "duration": 0.007122,
     "end_time": "2022-12-14T16:43:35.103547",
     "exception": false,
     "start_time": "2022-12-14T16:43:35.096425",
     "status": "completed"
    },
    "tags": []
   },
   "source": [
    "## RP3 Beta Recommender"
   ]
  },
  {
   "cell_type": "code",
   "execution_count": 3,
   "id": "7873707a",
   "metadata": {
    "execution": {
     "iopub.execute_input": "2022-12-14T16:43:35.119412Z",
     "iopub.status.busy": "2022-12-14T16:43:35.118916Z",
     "iopub.status.idle": "2022-12-14T16:44:01.660913Z",
     "shell.execute_reply": "2022-12-14T16:44:01.659274Z"
    },
    "papermill": {
     "duration": 26.553204,
     "end_time": "2022-12-14T16:44:01.663875",
     "exception": false,
     "start_time": "2022-12-14T16:43:35.110671",
     "status": "completed"
    },
    "tags": []
   },
   "outputs": [
    {
     "name": "stdout",
     "output_type": "stream",
     "text": [
      "RP3betaRecommender: Similarity column 24507 (100.0%), 1001.90 column/sec. Elapsed time 24.46 sec\n"
     ]
    }
   ],
   "source": [
    "from Recommenders.GraphBased.RP3betaRecommender import RP3betaRecommender\n",
    "\n",
    "recommender_RP3beta = RP3betaRecommender(URM_all)\n",
    "recommender_RP3beta.fit(alpha=0.7513264232341178, beta=0.3247853600339675, topK=58, implicit=True)\n",
    "#recommender_RP3beta.fit(alpha=0.3196900461986604, beta=0.3530045735373658, topK=44, implicit=False) #MAP: 0.021632459998098784\n",
    "#recommender_RP3beta.fit(alpha=0.08934428697754494, beta=0.15025275671838492, topK=132, implicit=True)\n",
    "#recommender_RP3beta.fit(topK=167, alpha=1.0, beta=0.4520495673133021, implicit=True) old"
   ]
  },
  {
   "cell_type": "markdown",
   "id": "0a856c1f",
   "metadata": {
    "papermill": {
     "duration": 0.006056,
     "end_time": "2022-12-14T16:44:01.676483",
     "exception": false,
     "start_time": "2022-12-14T16:44:01.670427",
     "status": "completed"
    },
    "tags": []
   },
   "source": [
    "### Submissions"
   ]
  },
  {
   "cell_type": "code",
   "execution_count": 4,
   "id": "f9683dce",
   "metadata": {
    "execution": {
     "iopub.execute_input": "2022-12-14T16:44:01.692577Z",
     "iopub.status.busy": "2022-12-14T16:44:01.691419Z",
     "iopub.status.idle": "2022-12-14T16:44:01.704096Z",
     "shell.execute_reply": "2022-12-14T16:44:01.702768Z"
    },
    "papermill": {
     "duration": 0.023436,
     "end_time": "2022-12-14T16:44:01.706965",
     "exception": false,
     "start_time": "2022-12-14T16:44:01.683529",
     "status": "completed"
    },
    "tags": []
   },
   "outputs": [],
   "source": [
    "test_users = pd.read_csv('Dataset/data_target_users_test.csv')"
   ]
  },
  {
   "cell_type": "code",
   "execution_count": 5,
   "id": "28bd5b2e",
   "metadata": {
    "execution": {
     "iopub.execute_input": "2022-12-14T16:44:01.723366Z",
     "iopub.status.busy": "2022-12-14T16:44:01.722574Z",
     "iopub.status.idle": "2022-12-14T16:44:01.830251Z",
     "shell.execute_reply": "2022-12-14T16:44:01.828289Z"
    },
    "papermill": {
     "duration": 0.11883,
     "end_time": "2022-12-14T16:44:01.832982",
     "exception": true,
     "start_time": "2022-12-14T16:44:01.714152",
     "status": "failed"
    },
    "tags": []
   },
   "outputs": [
    {
     "ename": "NameError",
     "evalue": "name 'recommender' is not defined",
     "output_type": "error",
     "traceback": [
      "\u001B[0;31m---------------------------------------------------------------------------\u001B[0m",
      "\u001B[0;31mNameError\u001B[0m                                 Traceback (most recent call last)",
      "\u001B[0;32m/tmp/ipykernel_20/3655667759.py\u001B[0m in \u001B[0;36m<module>\u001B[0;34m\u001B[0m\n\u001B[1;32m      2\u001B[0m \u001B[0mrecommendations\u001B[0m \u001B[0;34m=\u001B[0m \u001B[0;34m[\u001B[0m\u001B[0;34m]\u001B[0m\u001B[0;34m\u001B[0m\u001B[0;34m\u001B[0m\u001B[0m\n\u001B[1;32m      3\u001B[0m \u001B[0;32mfor\u001B[0m \u001B[0muser\u001B[0m \u001B[0;32min\u001B[0m \u001B[0muser_id\u001B[0m\u001B[0;34m:\u001B[0m\u001B[0;34m\u001B[0m\u001B[0;34m\u001B[0m\u001B[0m\n\u001B[0;32m----> 4\u001B[0;31m     \u001B[0mrecommendations\u001B[0m\u001B[0;34m.\u001B[0m\u001B[0mappend\u001B[0m\u001B[0;34m(\u001B[0m\u001B[0mrecommender\u001B[0m\u001B[0;34m.\u001B[0m\u001B[0mrecommend\u001B[0m\u001B[0;34m(\u001B[0m\u001B[0muser\u001B[0m\u001B[0;34m,\u001B[0m \u001B[0mcutoff\u001B[0m\u001B[0;34m=\u001B[0m\u001B[0;36m10\u001B[0m\u001B[0;34m)\u001B[0m\u001B[0;34m)\u001B[0m\u001B[0;34m\u001B[0m\u001B[0;34m\u001B[0m\u001B[0m\n\u001B[0m",
      "\u001B[0;31mNameError\u001B[0m: name 'recommender' is not defined"
     ]
    }
   ],
   "source": [
    "user_id = test_users['user_id']\n",
    "recommendations = []\n",
    "for user in user_id:\n",
    "    recommendations.append(recommender_RP3beta.recommend(user, cutoff=10))"
   ]
  },
  {
   "cell_type": "code",
   "execution_count": null,
   "id": "5c8002fb",
   "metadata": {
    "papermill": {
     "duration": null,
     "end_time": null,
     "exception": null,
     "start_time": null,
     "status": "pending"
    },
    "tags": []
   },
   "outputs": [],
   "source": [
    "for index in range(len(recommendations)):\n",
    "    recommendations[index]=np.array(recommendations[index])\n",
    "\n",
    "test_users['item_list']= recommendations\n",
    "test_users['item_list'] = pd.DataFrame([str(line).strip('[').strip(']').replace(\"'\",\"\") for line in test_users['item_list']])\n",
    "test_users.to_csv('Submissions/Submission_rp3Beta_new.csv', index=False)"
   ]
  }
 ],
 "metadata": {
  "kernelspec": {
   "display_name": "Python 3",
   "language": "python",
   "name": "python3"
  },
  "language_info": {
   "codemirror_mode": {
    "name": "ipython",
    "version": 3
   },
   "file_extension": ".py",
   "mimetype": "text/x-python",
   "name": "python",
   "nbconvert_exporter": "python",
   "pygments_lexer": "ipython3",
   "version": "3.7.12"
  },
  "papermill": {
   "default_parameters": {},
   "duration": 57.447619,
   "end_time": "2022-12-14T16:44:05.166746",
   "environment_variables": {},
   "exception": true,
   "input_path": "__notebook__.ipynb",
   "output_path": "__notebook__.ipynb",
   "parameters": {},
   "start_time": "2022-12-14T16:43:07.719127",
   "version": "2.3.4"
  }
 },
 "nbformat": 4,
 "nbformat_minor": 5
}
