{
 "cells": [
  {
   "cell_type": "code",
   "execution_count": 1,
   "metadata": {},
   "outputs": [],
   "source": [
    "import pandas as pd\n",
    "import numpy as np\n",
    "import scipy.sparse as sps\n",
    "import matplotlib.pyplot as pyplot\n",
    "\n",
    "from Evaluation.Evaluator import EvaluatorHoldout\n",
    "from Data_manager.split_functions.split_train_validation_random_holdout import split_train_in_two_percentage_global_sample\n",
    "from Utils.DataReader import load_urm, load_icm, load_target\n",
    "from Data_manager.split_functions.split_train_validation_random_holdout import split_train_in_two_percentage_global_sample"
   ]
  },
  {
   "cell_type": "code",
   "execution_count": 2,
   "metadata": {},
   "outputs": [
    {
     "name": "stdout",
     "output_type": "stream",
     "text": [
      "Warning: 927 (2.23 %) of 41629 users have no sampled items\n",
      "Warning: 1488 (3.57 %) of 41629 users have no sampled items\n",
      "EvaluatorHoldout: Ignoring 1488 ( 3.6%) Users that have less than 1 test interactions\n",
      "EvaluatorHoldout: Ignoring 927 ( 2.2%) Users that have less than 1 test interactions\n"
     ]
    }
   ],
   "source": [
    "URM_all = load_urm()\n",
    "\n",
    "URM_train, URM_test = split_train_in_two_percentage_global_sample(URM_all, train_percentage = 0.85)\n",
    "URM_train, URM_validation = split_train_in_two_percentage_global_sample(URM_train, train_percentage = 0.85)\n",
    "\n",
    "evaluator_validation = EvaluatorHoldout(URM_validation, cutoff_list=[10])\n",
    "evaluator_test = EvaluatorHoldout(URM_test, cutoff_list=[10])"
   ]
  },
  {
   "cell_type": "code",
   "execution_count": 3,
   "metadata": {},
   "outputs": [
    {
     "data": {
      "text/plain": [
       "<41629x24507 sparse matrix of type '<class 'numpy.int32'>'\n",
       "\twith 1554640 stored elements in Compressed Sparse Row format>"
      ]
     },
     "execution_count": 3,
     "metadata": {},
     "output_type": "execute_result"
    }
   ],
   "source": [
    "URM_all"
   ]
  },
  {
   "cell_type": "code",
   "execution_count": 4,
   "metadata": {},
   "outputs": [
    {
     "data": {
      "text/plain": [
       "<27968x1 sparse matrix of type '<class 'numpy.int32'>'\n",
       "\twith 23090 stored elements in Compressed Sparse Row format>"
      ]
     },
     "execution_count": 4,
     "metadata": {},
     "output_type": "execute_result"
    }
   ],
   "source": [
    "ICM_all = load_icm()\n",
    "ICM_all"
   ]
  },
  {
   "cell_type": "code",
   "execution_count": 5,
   "metadata": {},
   "outputs": [
    {
     "data": {
      "text/plain": [
       "(array([43, 15, 80, ..., 14, 39, 14], dtype=int32), (41629,))"
      ]
     },
     "execution_count": 5,
     "metadata": {},
     "output_type": "execute_result"
    }
   ],
   "source": [
    "profile_length = np.ediff1d(sps.csr_matrix(URM_train).indptr)\n",
    "profile_length, profile_length.shape"
   ]
  },
  {
   "cell_type": "code",
   "execution_count": 6,
   "metadata": {},
   "outputs": [
    {
     "data": {
      "text/plain": [
       "2081"
      ]
     },
     "execution_count": 6,
     "metadata": {},
     "output_type": "execute_result"
    }
   ],
   "source": [
    "block_size = int(len(profile_length)*0.05)\n",
    "block_size"
   ]
  },
  {
   "cell_type": "code",
   "execution_count": 7,
   "metadata": {},
   "outputs": [
    {
     "data": {
      "text/plain": [
       "array([28625, 10587, 38434, ..., 19407,  8693, 12454])"
      ]
     },
     "execution_count": 7,
     "metadata": {},
     "output_type": "execute_result"
    }
   ],
   "source": [
    "sorted_users = np.argsort(profile_length)\n",
    "sorted_users"
   ]
  },
  {
   "cell_type": "code",
   "execution_count": 8,
   "metadata": {},
   "outputs": [
    {
     "name": "stdout",
     "output_type": "stream",
     "text": [
      "Group 0, #users in group 2081, average p.len 8.57, median 9.0, min 2, max 10\n",
      "Group 1, #users in group 2081, average p.len 11.13, median 11.0, min 10, max 12\n",
      "Group 2, #users in group 2081, average p.len 12.54, median 13.0, min 12, max 13\n",
      "Group 3, #users in group 2081, average p.len 13.69, median 14.0, min 13, max 14\n",
      "Group 4, #users in group 2081, average p.len 14.74, median 15.0, min 14, max 15\n",
      "Group 5, #users in group 2081, average p.len 15.75, median 16.0, min 15, max 16\n",
      "Group 6, #users in group 2081, average p.len 16.80, median 17.0, min 16, max 17\n",
      "Group 7, #users in group 2081, average p.len 17.81, median 18.0, min 17, max 18\n",
      "Group 8, #users in group 2081, average p.len 18.94, median 19.0, min 18, max 20\n",
      "Group 9, #users in group 2081, average p.len 20.24, median 20.0, min 20, max 21\n",
      "Group 10, #users in group 2081, average p.len 21.45, median 21.0, min 21, max 22\n",
      "Group 11, #users in group 2081, average p.len 22.95, median 23.0, min 22, max 24\n",
      "Group 12, #users in group 2081, average p.len 24.70, median 25.0, min 24, max 26\n",
      "Group 13, #users in group 2081, average p.len 26.76, median 27.0, min 26, max 28\n",
      "Group 14, #users in group 2081, average p.len 29.26, median 29.0, min 28, max 31\n",
      "Group 15, #users in group 2081, average p.len 32.51, median 32.0, min 31, max 34\n",
      "Group 16, #users in group 2081, average p.len 36.78, median 37.0, min 34, max 39\n",
      "Group 17, #users in group 2081, average p.len 43.13, median 43.0, min 39, max 47\n",
      "Group 18, #users in group 2081, average p.len 53.58, median 53.0, min 47, max 62\n",
      "Group 19, #users in group 2081, average p.len 95.86, median 81.0, min 62, max 420\n"
     ]
    }
   ],
   "source": [
    "for group_id in range(0, 5):\n",
    "    start_pos = group_id * block_size\n",
    "    end_pos = min((group_id+1) * block_size, len(profile_length))\n",
    "\n",
    "    users_in_group = sorted_users[start_pos:end_pos]\n",
    "\n",
    "    users_in_group_p_len = profile_length[users_in_group]\n",
    "\n",
    "    print(\"Group {}, #users in group {}, average p.len {:.2f}, median {}, min {}, max {}\".format(\n",
    "        group_id,\n",
    "        users_in_group.shape[0],\n",
    "        users_in_group_p_len.mean(),\n",
    "        np.median(users_in_group_p_len),\n",
    "        users_in_group_p_len.min(),\n",
    "        users_in_group_p_len.max()))"
   ]
  },
  {
   "cell_type": "code",
   "execution_count": 11,
   "metadata": {},
   "outputs": [],
   "source": [
    "#here we will save MAPs of different user groups\n",
    "MAP_recommender_per_group = {}\n",
    "\n",
    "#here we will save pairs label : recommender_object\n",
    "recommender_object_dict = {}"
   ]
  },
  {
   "cell_type": "markdown",
   "metadata": {},
   "source": [
    "## Recommenders to try:"
   ]
  },
  {
   "cell_type": "code",
   "execution_count": null,
   "outputs": [],
   "source": [
    "from Recommenders.BaseCBFRecommender import BaseItemCBFRecommender\n",
    "from Recommenders.Hybrids.HybridRatings_EASE_R_hybrid_SLIM_Rp3 import HybridRatings_EASE_R_hybrid_SLIM_Rp3\n",
    "from Recommenders.Hybrids.HybridRatings_IALS_hybrid_EASE_R_hybrid_SLIM_Rp3 import \\\n",
    "    HybridRatings_IALS_hybrid_EASE_R_hybrid_SLIM_Rp3\n",
    "from Recommenders.Hybrids.HybridRatings_PureSVD_EASE_R import HybridRatings_PureSVD_EASE_R\n",
    "from Recommenders.Hybrids.HybridRatings_SLIM_EASE_R_PureSVD import HybridRatings_SLIM_PureSVD_EASE_R\n",
    "from Recommenders.Hybrids.HybridRatings_SLIM_Rp3 import HybridRatings_SLIM_Rp3\n",
    "from Recommenders.Hybrids.HybridSimilarity_SLIM_Rp3 import HybridSimilarity_SLIM_Rp3\n",
    "from Recommenders.Hybrids.HybridSimilarity_withGroupedUsers import HybridSimilarity_withGroupedusers\n",
    "from Recommenders.Hybrids.Hybrid_SLIM_EASE_R_IALS import Hybrid_SLIM_EASE_R_IALS\n",
    "from Recommenders.Hybrids.Hybrid_SlimElastic_Rp3 import Hybrid_SlimElastic_Rp3\n",
    "from Recommenders.Hybrids.Hybrid_SlimElastic_Rp3_PureSVD import Hybrid_SlimElastic_Rp3_PureSVD\n",
    "from Recommenders.Hybrids.scores.ScoresHybridRP3betaKNNCBF import ScoresHybridRP3betaKNNCBF\n",
    "from Recommenders.Recommender_import_list import *\n",
    "\n",
    "recommender_class_list = [\n",
    "    # UserKNNCBFRecommender, # UCM needed\n",
    "    # ItemKNNCBFRecommender,\n",
    "    # ItemKNNCBFWeightedSimilarityRecommender,  # new\n",
    "    # UserKNN_CFCBF_Hybrid_Recommender, # UCM needed\n",
    "    # ItemKNN_CFCBF_Hybrid_Recommender,\n",
    "    SLIMElasticNetRecommender,  # too slow to train\n",
    "    # UserKNNCFRecommender,\n",
    "    IALSRecommender,\n",
    "    # IALSRecommender_implicit,\n",
    "    # MatrixFactorization_BPR_Cython,\n",
    "    # MatrixFactorization_FunkSVD_Cython, # fix low values\n",
    "    # MatrixFactorization_AsySVD_Cython, # fix low values\n",
    "    # EASE_R_Recommender,\n",
    "    ItemKNNCFRecommender,\n",
    "    # P3alphaRecommender,\n",
    "    # SLIM_BPR_Cython,\n",
    "    RP3betaRecommender,\n",
    "    # PureSVDRecommender,\n",
    "    # PureSVDItemRecommender\n",
    "    # NMFRecommender,\n",
    "\n",
    "    LightFMCFRecommender,\n",
    "    LightFMItemHybridRecommender,\n",
    "\n",
    "    Hybrid_SlimElastic_Rp3,\n",
    "    Hybrid_SlimElastic_Rp3_PureSVD,\n",
    "    Hybrid_SLIM_EASE_R_IALS,\n",
    "\n",
    "    HybridSimilarity_SLIM_Rp3,\n",
    "    HybridSimilarity_withGroupedusers,\n",
    "\n",
    "    HybridRatings_SLIM_Rp3,\n",
    "    HybridRatings_EASE_R_hybrid_SLIM_Rp3,\n",
    "    HybridRatings_SLIM_PureSVD_EASE_R,\n",
    "    HybridRatings_IALS_hybrid_EASE_R_hybrid_SLIM_Rp3,\n",
    "\n",
    "    ScoresHybridRP3betaKNNCBF\n",
    "]"
   ],
   "metadata": {
    "collapsed": false
   }
  },
  {
   "cell_type": "code",
   "execution_count": null,
   "outputs": [],
   "source": [
    "def _get_instance(recommender_class, URM_train, ICM=None):\n",
    "    if issubclass(recommender_class, BaseItemCBFRecommender) or issubclass(recommender_class,\n",
    "                                                                           ScoresHybridRP3betaKNNCBF):\n",
    "        recommender_object = recommender_class(URM_train, ICM)\n",
    "    else:\n",
    "        recommender_object = recommender_class(URM_train)\n",
    "\n",
    "    return recommender_object"
   ],
   "metadata": {
    "collapsed": false
   }
  },
  {
   "cell_type": "code",
   "execution_count": null,
   "outputs": [],
   "source": [
    "def _get_params(recommender_object):\n",
    "    if isinstance(recommender_object, ItemKNNCFRecommender):\n",
    "        fit_params = {'topK': 100, 'shrink': 5, 'similarity': 'cosine', 'normalize': True,\n",
    "                      'feature_weighting': 'TF-IDF'} #updated by LP\n",
    "    elif isinstance(recommender_object, ItemKNNCBFRecommender):\n",
    "        fit_params = {'topK': 1000, 'shrink': 1000, 'similarity': 'cosine', 'normalize': False,\n",
    "                      'feature_weighting': 'TF-IDF'}\n",
    "    elif isinstance(recommender_object, SLIMElasticNetRecommender):\n",
    "        fit_params = {\"topK\": 405, 'l1_ratio': 0.0010299956370568744, 'alpha': 0.01} #updated by LP\n",
    "    elif isinstance(recommender_object, IALSRecommender):\n",
    "        fit_params = {'n_factors': 50, 'regularization': 0.001847510119137634}\n",
    "    elif isinstance(recommender_object, RP3betaRecommender):\n",
    "        fit_params = {'alpha':0.08934428697754494, 'beta':0.15025275671838492, 'topK':132, 'implicit':False} #updated by LP\n",
    "    elif isinstance(recommender_object, MultVAERecommender):\n",
    "        fit_params = {'topK': 615, 'l1_ratio': 0.007030044688343361, 'alpha': 0.07010526286528686}\n",
    "    elif isinstance(recommender_object, Hybrid_SlimElastic_Rp3):\n",
    "        fit_params = {'alpha': 0.9}\n",
    "    elif isinstance(recommender_object, HybridRatings_SLIM_Rp3):\n",
    "        fit_params = {'alpha': 0.9}\n",
    "    elif isinstance(recommender_object, HybridSimilarity_SLIM_Rp3):\n",
    "        fit_params = {'alpha': 0.9610229519605884, 'topK': 1199}\n",
    "    elif isinstance(recommender_object, HybridSimilarity_withGroupedusers):\n",
    "        fit_params = {'alpha': 0.979326712891909, 'topK': 1349}\n",
    "    elif isinstance(recommender_object, PureSVDRecommender):\n",
    "        fit_params = {'num_factors': 28, 'random_seed': 0}\n",
    "    elif isinstance(recommender_object, Hybrid_SlimElastic_Rp3_PureSVD):\n",
    "        fit_params = {'alpha': 0.95, 'beta': 0.1, 'gamma': 0.1}\n",
    "    elif isinstance(recommender_object, HybridRatings_EASE_R_hybrid_SLIM_Rp3):\n",
    "        fit_params = {'alpha': 0.9610229519605884}\n",
    "    elif isinstance(recommender_object, HybridRatings_PureSVD_EASE_R):\n",
    "        fit_params = {'alpha': 0.5}\n",
    "    elif isinstance(recommender_object, HybridRatings_SLIM_PureSVD_EASE_R):\n",
    "        fit_params = {'alpha': 0.95}\n",
    "    elif isinstance(recommender_object, Hybrid_SLIM_EASE_R_IALS):\n",
    "        fit_params = {'alpha': 0.3815016492157693, 'beta': 0.5802064204762605, 'gamma': 0.06145838241599496}\n",
    "    elif isinstance(recommender_object, HybridRatings_EASE_R_hybrid_SLIM_Rp3):\n",
    "        fit_params = {'alpha': 0.95}\n",
    "    elif isinstance(recommender_object, HybridRatings_IALS_hybrid_EASE_R_hybrid_SLIM_Rp3):\n",
    "        # Average 5-fold MAP: 0.2480472, diff: 0.0020975\n",
    "        fit_params = {'alpha': 0.9560759641998946, 'beta': 0.7550858561550403, 'gamma': 0.5227204586158875,\n",
    "                      'alpha1': 0.9739242060693925, 'beta1': 0.32744235125291515, 'topK1': 837}\n",
    "    else:\n",
    "        fit_params = {}\n",
    "\n",
    "    return fit_params"
   ],
   "metadata": {
    "collapsed": false
   }
  },
  {
   "cell_type": "code",
   "execution_count": null,
   "outputs": [],
   "source": [
    "for recommender_class in recommender_class_list:\n",
    "\n",
    "    print(\"Algorithm: {}\".format(recommender_class.RECOMMENDER_NAME))\n",
    "\n",
    "    recommender_object = _get_instance(recommender_class, URM_train)\n",
    "    fit_params = _get_params(recommender_object)\n",
    "    recommender_object.fit(**fit_params)"
   ],
   "metadata": {
    "collapsed": false
   }
  },
  {
   "cell_type": "markdown",
   "metadata": {},
   "source": [
    "## Plot results of models for different users groups"
   ]
  },
  {
   "cell_type": "code",
   "execution_count": 18,
   "metadata": {},
   "outputs": [
    {
     "name": "stdout",
     "output_type": "stream",
     "text": [
      "Group 0, #users in group 2081, average p.len 8.57, median 9.0, min 2, max 10\n",
      "EvaluatorHoldout: Ignoring 927 ( 2.2%) Users that have less than 1 test interactions\n",
      "EvaluatorHoldout: Ignoring 39548 Users\n",
      "EvaluatorHoldout: Processed 1984 (100.0%) in 1.31 sec. Users per second: 1517\n",
      "EvaluatorHoldout: Processed 1984 (100.0%) in 0.95 sec. Users per second: 2089\n",
      "EvaluatorHoldout: Processed 1984 (100.0%) in 1.23 sec. Users per second: 1619\n",
      "EvaluatorHoldout: Processed 1984 (100.0%) in 1.31 sec. Users per second: 1518\n",
      "EvaluatorHoldout: Processed 1984 (100.0%) in 1.18 sec. Users per second: 1681\n",
      "Group 1, #users in group 2081, average p.len 11.13, median 11.0, min 10, max 12\n",
      "EvaluatorHoldout: Ignoring 927 ( 2.2%) Users that have less than 1 test interactions\n",
      "EvaluatorHoldout: Ignoring 39548 Users\n",
      "EvaluatorHoldout: Processed 1978 (100.0%) in 1.34 sec. Users per second: 1474\n",
      "EvaluatorHoldout: Processed 1978 (100.0%) in 0.93 sec. Users per second: 2123\n",
      "EvaluatorHoldout: Processed 1978 (100.0%) in 1.36 sec. Users per second: 1451\n",
      "EvaluatorHoldout: Processed 1978 (100.0%) in 1.32 sec. Users per second: 1499\n",
      "EvaluatorHoldout: Processed 1978 (100.0%) in 1.06 sec. Users per second: 1861\n",
      "Group 2, #users in group 2081, average p.len 12.54, median 13.0, min 12, max 13\n",
      "EvaluatorHoldout: Ignoring 927 ( 2.2%) Users that have less than 1 test interactions\n",
      "EvaluatorHoldout: Ignoring 39548 Users\n",
      "EvaluatorHoldout: Processed 2003 (100.0%) in 1.29 sec. Users per second: 1557\n",
      "EvaluatorHoldout: Processed 2003 (100.0%) in 0.98 sec. Users per second: 2054\n",
      "EvaluatorHoldout: Processed 2003 (100.0%) in 1.32 sec. Users per second: 1514\n",
      "EvaluatorHoldout: Processed 2003 (100.0%) in 1.42 sec. Users per second: 1414\n",
      "EvaluatorHoldout: Processed 2003 (100.0%) in 1.05 sec. Users per second: 1915\n",
      "Group 3, #users in group 2081, average p.len 13.69, median 14.0, min 13, max 14\n",
      "EvaluatorHoldout: Ignoring 927 ( 2.2%) Users that have less than 1 test interactions\n",
      "EvaluatorHoldout: Ignoring 39548 Users\n",
      "EvaluatorHoldout: Processed 1999 (100.0%) in 1.23 sec. Users per second: 1626\n",
      "EvaluatorHoldout: Processed 1999 (100.0%) in 1.02 sec. Users per second: 1959\n",
      "EvaluatorHoldout: Processed 1999 (100.0%) in 1.43 sec. Users per second: 1398\n",
      "EvaluatorHoldout: Processed 1999 (100.0%) in 1.36 sec. Users per second: 1474\n",
      "EvaluatorHoldout: Processed 1999 (100.0%) in 1.00 sec. Users per second: 2001\n",
      "Group 4, #users in group 2081, average p.len 14.74, median 15.0, min 14, max 15\n",
      "EvaluatorHoldout: Ignoring 927 ( 2.2%) Users that have less than 1 test interactions\n",
      "EvaluatorHoldout: Ignoring 39548 Users\n",
      "EvaluatorHoldout: Processed 1990 (100.0%) in 1.17 sec. Users per second: 1706\n",
      "EvaluatorHoldout: Processed 1990 (100.0%) in 0.97 sec. Users per second: 2043\n",
      "EvaluatorHoldout: Processed 1990 (100.0%) in 1.52 sec. Users per second: 1305\n",
      "EvaluatorHoldout: Processed 1990 (100.0%) in 1.39 sec. Users per second: 1430\n",
      "EvaluatorHoldout: Processed 1990 (100.0%) in 1.00 sec. Users per second: 1998\n",
      "Group 5, #users in group 2081, average p.len 15.75, median 16.0, min 15, max 16\n",
      "EvaluatorHoldout: Ignoring 927 ( 2.2%) Users that have less than 1 test interactions\n",
      "EvaluatorHoldout: Ignoring 39548 Users\n",
      "EvaluatorHoldout: Processed 2005 (100.0%) in 1.23 sec. Users per second: 1628\n",
      "EvaluatorHoldout: Processed 2005 (100.0%) in 1.21 sec. Users per second: 1660\n",
      "EvaluatorHoldout: Processed 2005 (100.0%) in 1.57 sec. Users per second: 1276\n",
      "EvaluatorHoldout: Processed 2005 (100.0%) in 1.34 sec. Users per second: 1501\n",
      "EvaluatorHoldout: Processed 2005 (100.0%) in 0.89 sec. Users per second: 2245\n",
      "Group 6, #users in group 2081, average p.len 16.80, median 17.0, min 16, max 17\n",
      "EvaluatorHoldout: Ignoring 927 ( 2.2%) Users that have less than 1 test interactions\n",
      "EvaluatorHoldout: Ignoring 39548 Users\n",
      "EvaluatorHoldout: Processed 2012 (100.0%) in 1.43 sec. Users per second: 1411\n",
      "EvaluatorHoldout: Processed 2012 (100.0%) in 1.19 sec. Users per second: 1698\n",
      "EvaluatorHoldout: Processed 2012 (100.0%) in 1.44 sec. Users per second: 1400\n",
      "EvaluatorHoldout: Processed 2012 (100.0%) in 1.29 sec. Users per second: 1559\n",
      "EvaluatorHoldout: Processed 2012 (100.0%) in 1.05 sec. Users per second: 1918\n",
      "Group 7, #users in group 2081, average p.len 17.81, median 18.0, min 17, max 18\n",
      "EvaluatorHoldout: Ignoring 927 ( 2.2%) Users that have less than 1 test interactions\n",
      "EvaluatorHoldout: Ignoring 39548 Users\n",
      "EvaluatorHoldout: Processed 2013 (100.0%) in 1.50 sec. Users per second: 1346\n",
      "EvaluatorHoldout: Processed 2013 (100.0%) in 1.10 sec. Users per second: 1822\n",
      "EvaluatorHoldout: Processed 2013 (100.0%) in 1.31 sec. Users per second: 1536\n",
      "EvaluatorHoldout: Processed 2013 (100.0%) in 1.28 sec. Users per second: 1575\n",
      "EvaluatorHoldout: Processed 2013 (100.0%) in 1.11 sec. Users per second: 1816\n",
      "Group 8, #users in group 2081, average p.len 18.94, median 19.0, min 18, max 20\n",
      "EvaluatorHoldout: Ignoring 927 ( 2.2%) Users that have less than 1 test interactions\n",
      "EvaluatorHoldout: Ignoring 39548 Users\n",
      "EvaluatorHoldout: Processed 2011 (100.0%) in 1.44 sec. Users per second: 1401\n",
      "EvaluatorHoldout: Processed 2011 (100.0%) in 1.12 sec. Users per second: 1793\n",
      "EvaluatorHoldout: Processed 2011 (100.0%) in 1.21 sec. Users per second: 1655\n",
      "EvaluatorHoldout: Processed 2011 (100.0%) in 1.60 sec. Users per second: 1253\n",
      "EvaluatorHoldout: Processed 2011 (100.0%) in 1.12 sec. Users per second: 1800\n",
      "Group 9, #users in group 2081, average p.len 20.24, median 20.0, min 20, max 21\n",
      "EvaluatorHoldout: Ignoring 927 ( 2.2%) Users that have less than 1 test interactions\n",
      "EvaluatorHoldout: Ignoring 39548 Users\n",
      "EvaluatorHoldout: Processed 2020 (100.0%) in 1.39 sec. Users per second: 1450\n",
      "EvaluatorHoldout: Processed 2020 (100.0%) in 1.01 sec. Users per second: 1992\n",
      "EvaluatorHoldout: Processed 2020 (100.0%) in 1.35 sec. Users per second: 1492\n",
      "EvaluatorHoldout: Processed 2020 (100.0%) in 1.63 sec. Users per second: 1241\n",
      "EvaluatorHoldout: Processed 2020 (100.0%) in 1.14 sec. Users per second: 1779\n",
      "Group 10, #users in group 2081, average p.len 21.45, median 21.0, min 21, max 22\n",
      "EvaluatorHoldout: Ignoring 927 ( 2.2%) Users that have less than 1 test interactions\n",
      "EvaluatorHoldout: Ignoring 39548 Users\n",
      "EvaluatorHoldout: Processed 2044 (100.0%) in 1.24 sec. Users per second: 1652\n",
      "EvaluatorHoldout: Processed 2044 (100.0%) in 1.17 sec. Users per second: 1740\n",
      "EvaluatorHoldout: Processed 2044 (100.0%) in 1.47 sec. Users per second: 1390\n",
      "EvaluatorHoldout: Processed 2044 (100.0%) in 1.68 sec. Users per second: 1219\n",
      "EvaluatorHoldout: Processed 2044 (100.0%) in 0.97 sec. Users per second: 2108\n",
      "Group 11, #users in group 2081, average p.len 22.95, median 23.0, min 22, max 24\n",
      "EvaluatorHoldout: Ignoring 927 ( 2.2%) Users that have less than 1 test interactions\n",
      "EvaluatorHoldout: Ignoring 39548 Users\n",
      "EvaluatorHoldout: Processed 2060 (100.0%) in 1.19 sec. Users per second: 1733\n",
      "EvaluatorHoldout: Processed 2060 (100.0%) in 1.17 sec. Users per second: 1756\n",
      "EvaluatorHoldout: Processed 2060 (100.0%) in 1.58 sec. Users per second: 1300\n",
      "EvaluatorHoldout: Processed 2060 (100.0%) in 1.62 sec. Users per second: 1270\n",
      "EvaluatorHoldout: Processed 2060 (100.0%) in 0.95 sec. Users per second: 2176\n",
      "Group 12, #users in group 2081, average p.len 24.70, median 25.0, min 24, max 26\n",
      "EvaluatorHoldout: Ignoring 927 ( 2.2%) Users that have less than 1 test interactions\n",
      "EvaluatorHoldout: Ignoring 39548 Users\n",
      "EvaluatorHoldout: Processed 2053 (100.0%) in 1.29 sec. Users per second: 1589\n",
      "EvaluatorHoldout: Processed 2053 (100.0%) in 1.34 sec. Users per second: 1527\n",
      "EvaluatorHoldout: Processed 2053 (100.0%) in 1.45 sec. Users per second: 1412\n",
      "EvaluatorHoldout: Processed 2053 (100.0%) in 1.51 sec. Users per second: 1360\n",
      "EvaluatorHoldout: Processed 2053 (100.0%) in 1.00 sec. Users per second: 2049\n",
      "Group 13, #users in group 2081, average p.len 26.76, median 27.0, min 26, max 28\n",
      "EvaluatorHoldout: Ignoring 927 ( 2.2%) Users that have less than 1 test interactions\n",
      "EvaluatorHoldout: Ignoring 39548 Users\n",
      "EvaluatorHoldout: Processed 2062 (100.0%) in 1.39 sec. Users per second: 1482\n",
      "EvaluatorHoldout: Processed 2062 (100.0%) in 1.30 sec. Users per second: 1582\n",
      "EvaluatorHoldout: Processed 2062 (100.0%) in 1.36 sec. Users per second: 1512\n",
      "EvaluatorHoldout: Processed 2062 (100.0%) in 1.63 sec. Users per second: 1262\n"
     ]
    },
    {
     "name": "stdout",
     "output_type": "stream",
     "text": [
      "EvaluatorHoldout: Processed 2062 (100.0%) in 1.21 sec. Users per second: 1699\n",
      "Group 14, #users in group 2081, average p.len 29.26, median 29.0, min 28, max 31\n",
      "EvaluatorHoldout: Ignoring 927 ( 2.2%) Users that have less than 1 test interactions\n",
      "EvaluatorHoldout: Ignoring 39548 Users\n",
      "EvaluatorHoldout: Processed 2069 (100.0%) in 1.40 sec. Users per second: 1476\n",
      "EvaluatorHoldout: Processed 2069 (100.0%) in 1.14 sec. Users per second: 1821\n",
      "EvaluatorHoldout: Processed 2069 (100.0%) in 1.26 sec. Users per second: 1641\n",
      "EvaluatorHoldout: Processed 2069 (100.0%) in 1.94 sec. Users per second: 1067\n",
      "EvaluatorHoldout: Processed 2069 (100.0%) in 1.12 sec. Users per second: 1844\n",
      "Group 15, #users in group 2081, average p.len 32.51, median 32.0, min 31, max 34\n",
      "EvaluatorHoldout: Ignoring 927 ( 2.2%) Users that have less than 1 test interactions\n",
      "EvaluatorHoldout: Ignoring 39548 Users\n",
      "EvaluatorHoldout: Processed 2069 (100.0%) in 1.29 sec. Users per second: 1608\n",
      "EvaluatorHoldout: Processed 2069 (100.0%) in 1.14 sec. Users per second: 1810\n",
      "EvaluatorHoldout: Processed 2069 (100.0%) in 1.51 sec. Users per second: 1368\n",
      "EvaluatorHoldout: Processed 2069 (100.0%) in 1.96 sec. Users per second: 1055\n",
      "EvaluatorHoldout: Processed 2069 (100.0%) in 1.04 sec. Users per second: 1982\n",
      "Group 16, #users in group 2081, average p.len 36.78, median 37.0, min 34, max 39\n",
      "EvaluatorHoldout: Ignoring 927 ( 2.2%) Users that have less than 1 test interactions\n",
      "EvaluatorHoldout: Ignoring 39548 Users\n",
      "EvaluatorHoldout: Processed 2079 (100.0%) in 1.20 sec. Users per second: 1733\n",
      "EvaluatorHoldout: Processed 2079 (100.0%) in 1.28 sec. Users per second: 1620\n",
      "EvaluatorHoldout: Processed 2079 (100.0%) in 1.55 sec. Users per second: 1343\n",
      "EvaluatorHoldout: Processed 2079 (100.0%) in 1.93 sec. Users per second: 1079\n",
      "EvaluatorHoldout: Processed 2079 (100.0%) in 1.05 sec. Users per second: 1979\n",
      "Group 17, #users in group 2081, average p.len 43.13, median 43.0, min 39, max 47\n",
      "EvaluatorHoldout: Ignoring 927 ( 2.2%) Users that have less than 1 test interactions\n",
      "EvaluatorHoldout: Ignoring 39548 Users\n",
      "EvaluatorHoldout: Processed 2080 (100.0%) in 1.62 sec. Users per second: 1287\n",
      "EvaluatorHoldout: Processed 2080 (100.0%) in 1.49 sec. Users per second: 1398\n",
      "EvaluatorHoldout: Processed 2080 (100.0%) in 1.35 sec. Users per second: 1542\n",
      "EvaluatorHoldout: Processed 2080 (100.0%) in 1.94 sec. Users per second: 1073\n",
      "EvaluatorHoldout: Processed 2080 (100.0%) in 1.35 sec. Users per second: 1540\n",
      "Group 18, #users in group 2081, average p.len 53.58, median 53.0, min 47, max 62\n",
      "EvaluatorHoldout: Ignoring 927 ( 2.2%) Users that have less than 1 test interactions\n",
      "EvaluatorHoldout: Ignoring 39548 Users\n",
      "EvaluatorHoldout: Processed 2081 (100.0%) in 1.39 sec. Users per second: 1498\n",
      "EvaluatorHoldout: Processed 2081 (100.0%) in 1.21 sec. Users per second: 1716\n",
      "EvaluatorHoldout: Processed 2081 (100.0%) in 1.49 sec. Users per second: 1392\n",
      "EvaluatorHoldout: Processed 2081 (100.0%) in 2.30 sec. Users per second: 907\n",
      "EvaluatorHoldout: Processed 2081 (100.0%) in 1.14 sec. Users per second: 1823\n",
      "Group 19, #users in group 2081, average p.len 95.86, median 81.0, min 62, max 420\n",
      "EvaluatorHoldout: Ignoring 927 ( 2.2%) Users that have less than 1 test interactions\n",
      "EvaluatorHoldout: Ignoring 39548 Users\n",
      "EvaluatorHoldout: Processed 2081 (100.0%) in 1.22 sec. Users per second: 1705\n",
      "EvaluatorHoldout: Processed 2081 (100.0%) in 1.55 sec. Users per second: 1342\n",
      "EvaluatorHoldout: Processed 2081 (100.0%) in 1.64 sec. Users per second: 1272\n",
      "EvaluatorHoldout: Processed 2081 (100.0%) in 2.38 sec. Users per second: 874\n",
      "EvaluatorHoldout: Processed 2081 (100.0%) in 1.37 sec. Users per second: 1523\n"
     ]
    }
   ],
   "source": [
    "# here we perform validation over different user groups for each model\n",
    "# then we plot a graph to compare them\n",
    "cutoff = 10\n",
    "\n",
    "for group_id in range(0, 5):\n",
    "\n",
    "    start_pos = group_id*block_size\n",
    "    end_pos = min((group_id+1)*block_size, len(profile_length))\n",
    "\n",
    "    users_in_group = sorted_users[start_pos:end_pos]\n",
    "\n",
    "    users_in_group_p_len = profile_length[users_in_group]\n",
    "\n",
    "    print(\"Group {}, #users in group {}, average p.len {:.2f}, median {}, min {}, max {}\".format(\n",
    "        group_id,\n",
    "        users_in_group.shape[0],\n",
    "        users_in_group_p_len.mean(),\n",
    "        np.median(users_in_group_p_len),\n",
    "        users_in_group_p_len.min(),\n",
    "        users_in_group_p_len.max()))\n",
    "\n",
    "\n",
    "    users_not_in_group_flag = np.isin(sorted_users, users_in_group, invert=True)\n",
    "    users_not_in_group = sorted_users[users_not_in_group_flag]\n",
    "\n",
    "    evaluator_validation = EvaluatorHoldout(URM_test, cutoff_list=[cutoff], ignore_users=users_not_in_group)\n",
    "\n",
    "    for label, recommender in recommender_object_dict.items():\n",
    "        result_df, _ = evaluator_validation.evaluateRecommender(recommender)\n",
    "        if label in MAP_recommender_per_group:\n",
    "            MAP_recommender_per_group[label].append(result_df.loc[cutoff][\"MAP\"])\n",
    "        else:\n",
    "            MAP_recommender_per_group[label] = [result_df.loc[cutoff][\"MAP\"]]"
   ]
  },
  {
   "cell_type": "code",
   "execution_count": 19,
   "metadata": {},
   "outputs": [
    {
     "data": {
      "image/png": "[encoded data removed]",
      "text/plain": [
       "<Figure size 1600x900 with 1 Axes>"
      ]
     },
     "metadata": {},
     "output_type": "display_data"
    }
   ],
   "source": [
    "import matplotlib.pyplot as plt\n",
    "%matplotlib inline\n",
    "\n",
    "_ = plt.figure(figsize=(16, 9))\n",
    "for label, recommender in recommender_object_dict.items():\n",
    "    results = MAP_recommender_per_group[label]\n",
    "    plt.scatter(x=np.arange(0,len(results)), y=results, label=label)\n",
    "plt.ylabel('MAP')\n",
    "plt.xlabel('User Group')\n",
    "plt.legend()\n",
    "plt.show()"
   ]
  }
 ],
 "metadata": {
  "kernelspec": {
   "display_name": "Python 3 (ipykernel)",
   "language": "python",
   "name": "python3"
  },
  "language_info": {
   "codemirror_mode": {
    "name": "ipython",
    "version": 3
   },
   "file_extension": ".py",
   "mimetype": "text/x-python",
   "name": "python",
   "nbconvert_exporter": "python",
   "pygments_lexer": "ipython3",
   "version": "3.9.13"
  }
 },
 "nbformat": 4,
 "nbformat_minor": 1
}
