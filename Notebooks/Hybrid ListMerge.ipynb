{
 "metadata": {
  "kernelspec": {
   "language": "python",
   "display_name": "Python 3",
   "name": "python3"
  },
  "language_info": {
   "name": "python",
   "version": "3.7.12",
   "mimetype": "text/x-python",
   "codemirror_mode": {
    "name": "ipython",
    "version": 3
   },
   "pygments_lexer": "ipython3",
   "nbconvert_exporter": "python",
   "file_extension": ".py"
  }
 },
 "nbformat_minor": 4,
 "nbformat": 4,
 "cells": [
  {
   "cell_type": "code",
   "source": [
    "import pandas as pd\n",
    "import numpy as np\n",
    "import scipy.sparse as sps\n",
    "import matplotlib.pyplot as pyplot\n",
    "\n",
    "from Evaluation.Evaluator import EvaluatorHoldout\n",
    "from Data_manager.split_functions.split_train_validation_random_holdout import split_train_in_two_percentage_global_sample\n",
    "from Utils.DataReader import load_urm, load_icm, load_target"
   ],
   "metadata": {
    "_uuid": "8f2839f25d086af736a60e9eeb907d3b93b6e0e5",
    "_cell_guid": "b1076dfc-b9ad-4769-8c92-a6c4dae69d19",
    "execution": {
     "iopub.status.busy": "2023-01-09T09:10:02.350754Z",
     "iopub.execute_input": "2023-01-09T09:10:02.351159Z",
     "iopub.status.idle": "2023-01-09T09:10:20.200039Z",
     "shell.execute_reply.started": "2023-01-09T09:10:02.351128Z",
     "shell.execute_reply": "2023-01-09T09:10:20.198669Z"
    },
    "trusted": true
   },
   "execution_count": 3,
   "outputs": [
    {
     "name": "stdout",
     "text": "Cloning into 'Recommender-Systems-Challenge-2022'...\nremote: Enumerating objects: 619, done.\u001B[K\nremote: Counting objects: 100% (215/215), done.\u001B[K\nremote: Compressing objects: 100% (162/162), done.\u001B[K\nremote: Total 619 (delta 107), reused 139 (delta 52), pack-reused 404\u001B[K\nReceiving objects: 100% (619/619), 106.18 MiB | 11.85 MiB/s, done.\nResolving deltas: 100% (279/279), done.\nUpdating files: 100% (254/254), done.\n",
     "output_type": "stream"
    }
   ]
  },
  {
   "cell_type": "code",
   "source": [
    "URM_all = load_urm()\n",
    "\n",
    "URM_train, URM_test = split_train_in_two_percentage_global_sample(URM_all, train_percentage = 0.85)\n",
    "URM_train, URM_validation = split_train_in_two_percentage_global_sample(URM_train, train_percentage = 0.85)\n",
    "\n",
    "evaluator_validation = EvaluatorHoldout(URM_validation, cutoff_list=[10])\n",
    "evaluator_test = EvaluatorHoldout(URM_test, cutoff_list=[10])"
   ],
   "metadata": {
    "execution": {
     "iopub.status.busy": "2023-01-09T09:10:20.203266Z",
     "iopub.execute_input": "2023-01-09T09:10:20.203696Z",
     "iopub.status.idle": "2023-01-09T09:10:26.298334Z",
     "shell.execute_reply.started": "2023-01-09T09:10:20.203659Z",
     "shell.execute_reply": "2023-01-09T09:10:26.296866Z"
    },
    "trusted": true
   },
   "execution_count": 4,
   "outputs": [
    {
     "name": "stdout",
     "text": "Warning: 959 (2.30 %) of 41629 users have no sampled items\nWarning: 1536 (3.69 %) of 41629 users have no sampled items\nEvaluatorHoldout: Ignoring 1536 ( 3.7%) Users that have less than 1 test interactions\nEvaluatorHoldout: Ignoring 959 ( 2.3%) Users that have less than 1 test interactions\n",
     "output_type": "stream"
    }
   ]
  },
  {
   "cell_type": "code",
   "source": [
    "from Recommenders.SLIM.SLIMElasticNetRecommender import SLIMElasticNetRecommender\n",
    "\n",
    "recommender_SLIMElasticNet = SLIMElasticNetRecommender(URM_all)\n",
    "recommender_SLIMElasticNet.fit(topK=585, l1_ratio=0.009929794168572358, alpha=0.0018687691383859428) "
   ],
   "metadata": {
    "execution": {
     "iopub.status.busy": "2023-01-09T09:10:26.299652Z",
     "iopub.execute_input": "2023-01-09T09:10:26.299988Z",
     "iopub.status.idle": "2023-01-09T09:53:46.427751Z",
     "shell.execute_reply.started": "2023-01-09T09:10:26.299959Z",
     "shell.execute_reply": "2023-01-09T09:53:46.426340Z"
    },
    "trusted": true
   },
   "execution_count": 5,
   "outputs": [
    {
     "name": "stdout",
     "text": "SLIMElasticNetRecommender: Processed 2559 (10.4%) in 5.00 min. Items per second: 8.53\nSLIMElasticNetRecommender: Processed 5211 (21.3%) in 10.00 min. Items per second: 8.68\nSLIMElasticNetRecommender: Processed 7957 (32.5%) in 15.00 min. Items per second: 8.84\nSLIMElasticNetRecommender: Processed 10735 (43.8%) in 20.01 min. Items per second: 8.94\nSLIMElasticNetRecommender: Processed 13681 (55.8%) in 25.01 min. Items per second: 9.12\nSLIMElasticNetRecommender: Processed 16730 (68.3%) in 30.01 min. Items per second: 9.29\nSLIMElasticNetRecommender: Processed 19623 (80.1%) in 35.01 min. Items per second: 9.34\nSLIMElasticNetRecommender: Processed 22502 (91.8%) in 40.01 min. Items per second: 9.37\nSLIMElasticNetRecommender: Processed 24507 (100.0%) in 43.31 min. Items per second: 9.43\n",
     "output_type": "stream"
    }
   ]
  },
  {
   "cell_type": "code",
   "source": [
    "from Recommenders.EASE_R.EASE_R_Recommender import EASE_R_Recommender\n",
    "\n",
    "recommender_EaseR = EASE_R_Recommender(URM_all)\n",
    "recommender_EaseR.fit(topK=None, normalize_matrix=False, l2_norm=157.86876317814773)"
   ],
   "metadata": {
    "execution": {
     "iopub.status.busy": "2023-01-09T09:53:46.431103Z",
     "iopub.execute_input": "2023-01-09T09:53:46.431536Z",
     "iopub.status.idle": "2023-01-09T10:04:27.865783Z",
     "shell.execute_reply.started": "2023-01-09T09:53:46.431501Z",
     "shell.execute_reply": "2023-01-09T10:04:27.864527Z"
    },
    "trusted": true
   },
   "execution_count": 6,
   "outputs": [
    {
     "name": "stdout",
     "text": "EASE_R_Recommender: Fitting model... \nEASE_R_Recommender: Fitting model... done in 10.66 min\n",
     "output_type": "stream"
    }
   ]
  },
  {
   "cell_type": "code",
   "source": [
    "from Recommenders.GraphBased.RP3betaRecommender import RP3betaRecommender\n",
    "\n",
    "recommender_RP3beta = RP3betaRecommender(URM_all)\n",
    "recommender_RP3beta.fit(alpha=0.6949339074999242, beta=0.2853519331891143, topK=59, implicit=True)"
   ],
   "metadata": {
    "execution": {
     "iopub.status.busy": "2023-01-09T10:04:27.867353Z",
     "iopub.execute_input": "2023-01-09T10:04:27.867724Z",
     "iopub.status.idle": "2023-01-09T10:04:51.845610Z",
     "shell.execute_reply.started": "2023-01-09T10:04:27.867691Z",
     "shell.execute_reply": "2023-01-09T10:04:51.844483Z"
    },
    "trusted": true
   },
   "execution_count": 7,
   "outputs": [
    {
     "name": "stdout",
     "text": "RP3betaRecommender: Similarity column 24507 (100.0%), 1067.58 column/sec. Elapsed time 22.96 sec\n",
     "output_type": "stream"
    }
   ]
  },
  {
   "cell_type": "code",
   "source": [
    "from numpy import linalg as LA\n",
    "from Recommenders.BaseRecommender import BaseRecommender\n",
    "\n",
    "class DifferentLossScoresMultiHybridRecommender(BaseRecommender):\n",
    "    \"\"\" ScoresHybridRecommender\n",
    "    Hybrid of three predictions scores\n",
    "    R = R1*alpha + R2*beta + R3*(1-alpha-beta)\n",
    "    \n",
    "    Class from Dacrema exercise modified by Antonio Ercolani\n",
    "    The original took as input 2 recommender\n",
    "\n",
    "    \"\"\"\n",
    "\n",
    "    RECOMMENDER_NAME = \"DifferentLossScoresMultiHybridRecommender\"\n",
    "\n",
    "\n",
    "    def __init__(self, URM_train, recommender_1, recommender_2, recommender_3):\n",
    "        super(DifferentLossScoresMultiHybridRecommender, self).__init__(URM_train)\n",
    "\n",
    "        self.URM_train = sps.csr_matrix(URM_train)\n",
    "        self.recommender_1 = recommender_1\n",
    "        self.recommender_2 = recommender_2\n",
    "        self.recommender_3 = recommender_3\n",
    "        \n",
    "        \n",
    "        \n",
    "    def fit(self, norm, alpha = 0.5, beta = 0.5):\n",
    "\n",
    "        self.alpha = alpha\n",
    "        self.beta = beta\n",
    "        self.norm = norm\n",
    "\n",
    "\n",
    "    def _compute_item_score(self, user_id_array, items_to_compute):\n",
    "        \n",
    "        item_weights_1 = self.recommender_1._compute_item_score(user_id_array, items_to_compute = None)\n",
    "        item_weights_2 = self.recommender_2._compute_item_score(user_id_array, items_to_compute = None)\n",
    "        item_weights_3 = self.recommender_3._compute_item_score(user_id_array, items_to_compute = None)\n",
    "\n",
    "        norm_item_weights_1 = LA.norm(item_weights_1, self.norm)\n",
    "        norm_item_weights_2 = LA.norm(item_weights_2, self.norm)\n",
    "        norm_item_weights_3 = LA.norm(item_weights_3, self.norm)\n",
    "        \n",
    "        \n",
    "        if norm_item_weights_1 == 0:\n",
    "            raise ValueError(\"Norm {} of item weights for recommender 1 is zero. Avoiding division by zero\".format(self.norm))\n",
    "        \n",
    "        if norm_item_weights_2 == 0:\n",
    "            raise ValueError(\"Norm {} of item weights for recommender 2 is zero. Avoiding division by zero\".format(self.norm))\n",
    "            \n",
    "        if norm_item_weights_3 == 0:\n",
    "            raise ValueError(\"Norm {} of item weights for recommender 3 is zero. Avoiding division by zero\".format(self.norm))\n",
    "        \n",
    "        item_weights = item_weights_1 / norm_item_weights_1 * self.alpha + item_weights_2 / norm_item_weights_2 * self.beta + item_weights_3 / norm_item_weights_3 * (1-self.alpha-self.beta)\n",
    "\n",
    "        return item_weights"
   ],
   "metadata": {
    "execution": {
     "iopub.status.busy": "2023-01-09T10:16:58.805157Z",
     "iopub.execute_input": "2023-01-09T10:16:58.805666Z",
     "iopub.status.idle": "2023-01-09T10:16:58.818824Z",
     "shell.execute_reply.started": "2023-01-09T10:16:58.805629Z",
     "shell.execute_reply": "2023-01-09T10:16:58.817485Z"
    },
    "trusted": true
   },
   "execution_count": 20,
   "outputs": []
  },
  {
   "cell_type": "code",
   "source": [
    "recommender_multi = DifferentLossScoresMultiHybridRecommender(URM_all, recommender_SLIMElasticNet, recommender_EaseR, recommender_RP3beta)\n",
    "recommender_multi.fit(norm=1, alpha = 0.55, beta = 0.35)"
   ],
   "metadata": {
    "execution": {
     "iopub.status.busy": "2023-01-09T10:19:13.996810Z",
     "iopub.execute_input": "2023-01-09T10:19:13.997993Z",
     "iopub.status.idle": "2023-01-09T10:19:14.043012Z",
     "shell.execute_reply.started": "2023-01-09T10:19:13.997917Z",
     "shell.execute_reply": "2023-01-09T10:19:14.041700Z"
    },
    "trusted": true
   },
   "execution_count": 24,
   "outputs": []
  },
  {
   "cell_type": "code",
   "source": [
    "from numpy import linalg as LA\n",
    "from Recommenders.BaseRecommender import BaseRecommender\n",
    "\n",
    "class DifferentLossScoresHybridRecommender(BaseRecommender):\n",
    "    \"\"\" ScoresHybridRecommender\n",
    "    Hybrid of two prediction scores R = R1/norm*alpha + R2/norm*(1-alpha) where R1 and R2 come from\n",
    "    algorithms trained on different loss functions.\n",
    "\n",
    "    \"\"\"\n",
    "\n",
    "    RECOMMENDER_NAME = \"DifferentLossScoresHybridRecommender\"\n",
    "\n",
    "\n",
    "    def __init__(self, URM_train, recommender_1, recommender_2):\n",
    "        super(DifferentLossScoresHybridRecommender, self).__init__(URM_train)\n",
    "\n",
    "        self.URM_train = sps.csr_matrix(URM_train)\n",
    "        self.recommender_1 = recommender_1\n",
    "        self.recommender_2 = recommender_2\n",
    "        \n",
    "        \n",
    "        \n",
    "    def fit(self, norm, alpha = 0.5):\n",
    "\n",
    "        self.alpha = alpha\n",
    "        self.norm = norm\n",
    "\n",
    "\n",
    "    def _compute_item_score(self, user_id_array, items_to_compute):\n",
    "        \n",
    "        item_weights_1 = self.recommender_1._compute_item_score(user_id_array, items_to_compute = None)\n",
    "        item_weights_2 = self.recommender_2._compute_item_score(user_id_array, items_to_compute = None)\n",
    "\n",
    "        norm_item_weights_1 = LA.norm(item_weights_1, self.norm)\n",
    "        norm_item_weights_2 = LA.norm(item_weights_2, self.norm)\n",
    "        \n",
    "        \n",
    "        if norm_item_weights_1 == 0:\n",
    "            raise ValueError(\"Norm {} of item weights for recommender 1 is zero. Avoiding division by zero\".format(self.norm))\n",
    "        \n",
    "        if norm_item_weights_2 == 0:\n",
    "            raise ValueError(\"Norm {} of item weights for recommender 2 is zero. Avoiding division by zero\".format(self.norm))\n",
    "        \n",
    "        item_weights = item_weights_1 / norm_item_weights_1 * self.alpha + item_weights_2 / norm_item_weights_2 * (1-self.alpha)\n",
    "\n",
    "        return item_weights"
   ],
   "metadata": {
    "execution": {
     "iopub.status.busy": "2023-01-09T10:16:44.018853Z",
     "iopub.execute_input": "2023-01-09T10:16:44.019440Z",
     "iopub.status.idle": "2023-01-09T10:16:44.032004Z",
     "shell.execute_reply.started": "2023-01-09T10:16:44.019384Z",
     "shell.execute_reply": "2023-01-09T10:16:44.030526Z"
    },
    "trusted": true
   },
   "execution_count": 19,
   "outputs": []
  },
  {
   "cell_type": "code",
   "source": [
    "recommender_duo = DifferentLossScoresHybridRecommender(URM_all, recommender_SLIMElasticNet, recommender_EaseR)\n",
    "recommender_duo.fit(norm = 1, alpha = 0.4)"
   ],
   "metadata": {
    "execution": {
     "iopub.status.busy": "2023-01-09T10:19:56.443593Z",
     "iopub.execute_input": "2023-01-09T10:19:56.444165Z",
     "iopub.status.idle": "2023-01-09T10:19:56.499717Z",
     "shell.execute_reply.started": "2023-01-09T10:19:56.444122Z",
     "shell.execute_reply": "2023-01-09T10:19:56.498288Z"
    },
    "trusted": true
   },
   "execution_count": 26,
   "outputs": []
  },
  {
   "cell_type": "code",
   "source": [
    "from numpy import linalg as LA\n",
    "from Recommenders.BaseRecommender import BaseRecommender\n",
    "\n",
    "class MergeRaccomandationsHybridRecommender(BaseRecommender):\n",
    "    \"\"\" ScoresHybridRecommender\n",
    "    Hybrid of two prediction scores R = R1/norm*alpha + R2/norm*(1-alpha) where R1 and R2 come from\n",
    "    algorithms trained on different loss functions.\n",
    "\n",
    "    \"\"\"\n",
    "\n",
    "    RECOMMENDER_NAME = \"MergeRaccomandationsHybridRecommender\"\n",
    "\n",
    "\n",
    "    def __init__(self, URM_train, recommender_1, recommender_2):\n",
    "        super(MergeRaccomandationsHybridRecommender, self).__init__(URM_train)\n",
    "\n",
    "        self.URM_train = sps.csr_matrix(URM_train)\n",
    "        self.recommender_1 = recommender_1\n",
    "        self.recommender_2 = recommender_2\n",
    "    \n",
    "    def _compute_item_score(self, user_id_array, items_to_compute):\n",
    "        \n",
    "        # In a simple extension this could be a loop over a list of pretrained recommender objects\n",
    "        item_weights_1 = self.recommender_1._compute_item_score(user_id_array, items_to_compute = None)\n",
    "        item_weights_2 = self.recommender_2._compute_item_score(user_id_array, items_to_compute = None)\n",
    "\n",
    "        item_weights = item_weights_1*0.5 + item_weights_2*0.5\n",
    "\n",
    "        return item_weights\n",
    "        \n",
    "    def recommend(self, user_id_array, cutoff = None, remove_seen_flag=True, items_to_compute = None,\n",
    "                  remove_top_pop_flag = False, remove_custom_items_flag = False, return_scores = False):\n",
    "\n",
    "        # If is a scalar transform it in a 1-cell array\n",
    "        if np.isscalar(user_id_array):\n",
    "            user_id_array = np.atleast_1d(user_id_array)\n",
    "            single_user = True\n",
    "        else:\n",
    "            single_user = False\n",
    "\n",
    "        if cutoff is None:\n",
    "            cutoff = self.URM_train.shape[1] - 1\n",
    "\n",
    "        cutoff = min(cutoff, self.URM_train.shape[1] - 1)\n",
    "\n",
    "        # Compute the scores using the model-specific function\n",
    "        # Vectorize over all users in user_id_array\n",
    "        scores_batch = self._compute_item_score(user_id_array, items_to_compute=items_to_compute)\n",
    "\n",
    "\n",
    "        for user_index in range(len(user_id_array)):\n",
    "\n",
    "            user_id = user_id_array[user_index]\n",
    "\n",
    "            if remove_seen_flag:\n",
    "                scores_batch[user_index,:] = self._remove_seen_on_scores(user_id, scores_batch[user_index, :])\n",
    "\n",
    "            # Sorting is done in three steps. Faster then plain np.argsort for higher number of items\n",
    "            # - Partition the data to extract the set of relevant items\n",
    "            # - Sort only the relevant items\n",
    "            # - Get the original item index\n",
    "            # relevant_items_partition = (-scores_user).argpartition(cutoff)[0:cutoff]\n",
    "            # relevant_items_partition_sorting = np.argsort(-scores_user[relevant_items_partition])\n",
    "            # ranking = relevant_items_partition[relevant_items_partition_sorting]\n",
    "            #\n",
    "            # ranking_list.append(ranking)\n",
    "\n",
    "\n",
    "        if remove_top_pop_flag:\n",
    "            scores_batch = self._remove_TopPop_on_scores(scores_batch)\n",
    "\n",
    "        if remove_custom_items_flag:\n",
    "            scores_batch = self._remove_custom_items_on_scores(scores_batch)\n",
    "\n",
    "        # relevant_items_partition is block_size x cutoff\n",
    "        relevant_items_partition = (-scores_batch).argpartition(cutoff, axis=1)[:,0:cutoff]\n",
    "\n",
    "        # Get original value and sort it\n",
    "        # [:, None] adds 1 dimension to the array, from (block_size,) to (block_size,1)\n",
    "        # This is done to correctly get scores_batch value as [row, relevant_items_partition[row,:]]\n",
    "        relevant_items_partition_original_value = scores_batch[np.arange(scores_batch.shape[0])[:, None], relevant_items_partition]\n",
    "        relevant_items_partition_sorting = np.argsort(-relevant_items_partition_original_value, axis=1)\n",
    "        ranking = relevant_items_partition[np.arange(relevant_items_partition.shape[0])[:, None], relevant_items_partition_sorting]\n",
    "        \n",
    "        ranking_list = [None] * ranking.shape[0]\n",
    "\n",
    "        # Remove from the recommendation list any item that has a -inf score\n",
    "        # Since -inf is a flag to indicate an item to remove\n",
    "        for user_index in range(len(user_id_array)):\n",
    "            user_recommendation_list = ranking[user_index]\n",
    "            user_item_scores = scores_batch[user_index, user_recommendation_list]\n",
    "\n",
    "            not_inf_scores_mask = np.logical_not(np.isinf(user_item_scores))\n",
    "\n",
    "            user_recommendation_list = user_recommendation_list[not_inf_scores_mask]\n",
    "            ranking_list[user_index] = user_recommendation_list.tolist()\n",
    "            \n",
    "            \n",
    "        # MODIFIED PART TO MERGE THE LISTS\n",
    "        list1 = self.recommender_1.recommend(user_id_array, cutoff = cutoff)\n",
    "        list2 = self.recommender_2.recommend(user_id_array, cutoff = cutoff)\n",
    "        \n",
    "        list1 = list1[0]\n",
    "        list2 = list2[0]\n",
    "        \n",
    "        result = []\n",
    "        i = 0\n",
    "            \n",
    "        while len(result) < cutoff:\n",
    "            if list1[i] not in result:\n",
    "                result.append(list1[i])\n",
    "            if (list2[i] != list1[i]):\n",
    "                if list2[i] not in result:\n",
    "                    if len(result) < cutoff:\n",
    "                        result.append(list2[i])\n",
    "            i = i + 1\n",
    "        \n",
    "        if return_scores:\n",
    "            return result, scores_batch\n",
    "        else:\n",
    "            return result"
   ],
   "metadata": {
    "execution": {
     "iopub.status.busy": "2023-01-09T10:17:25.415377Z",
     "iopub.execute_input": "2023-01-09T10:17:25.415831Z",
     "iopub.status.idle": "2023-01-09T10:17:25.437808Z",
     "shell.execute_reply.started": "2023-01-09T10:17:25.415799Z",
     "shell.execute_reply": "2023-01-09T10:17:25.436560Z"
    },
    "trusted": true
   },
   "execution_count": 22,
   "outputs": []
  },
  {
   "cell_type": "code",
   "source": [
    "recommender_multi.recommend(user_id_array=0, cutoff = 10)"
   ],
   "metadata": {
    "execution": {
     "iopub.status.busy": "2023-01-09T10:19:33.953571Z",
     "iopub.execute_input": "2023-01-09T10:19:33.954017Z",
     "iopub.status.idle": "2023-01-09T10:19:33.966027Z",
     "shell.execute_reply.started": "2023-01-09T10:19:33.953984Z",
     "shell.execute_reply": "2023-01-09T10:19:33.964760Z"
    },
    "trusted": true
   },
   "execution_count": 25,
   "outputs": [
    {
     "execution_count": 25,
     "output_type": "execute_result",
     "data": {
      "text/plain": "[617, 752, 18484, 391, 20, 2488, 23, 673, 56, 107]"
     },
     "metadata": {}
    }
   ]
  },
  {
   "cell_type": "code",
   "source": [
    "recommender_duo.recommend(user_id_array=0, cutoff = 10)"
   ],
   "metadata": {
    "execution": {
     "iopub.status.busy": "2023-01-09T10:20:00.867345Z",
     "iopub.execute_input": "2023-01-09T10:20:00.868480Z",
     "iopub.status.idle": "2023-01-09T10:20:00.882044Z",
     "shell.execute_reply.started": "2023-01-09T10:20:00.868422Z",
     "shell.execute_reply": "2023-01-09T10:20:00.880474Z"
    },
    "trusted": true
   },
   "execution_count": 27,
   "outputs": [
    {
     "execution_count": 27,
     "output_type": "execute_result",
     "data": {
      "text/plain": "[752, 617, 20, 391, 18484, 673, 2488, 23, 56, 29]"
     },
     "metadata": {}
    }
   ]
  },
  {
   "cell_type": "code",
   "source": [
    "recommender = MergeRaccomandationsHybridRecommender(URM_all, recommender_multi, recommender_duo)\n",
    "recommender.recommend(user_id_array=0, cutoff = 10)"
   ],
   "metadata": {
    "execution": {
     "iopub.status.busy": "2023-01-09T10:20:04.752136Z",
     "iopub.execute_input": "2023-01-09T10:20:04.752634Z",
     "iopub.status.idle": "2023-01-09T10:20:04.815763Z",
     "shell.execute_reply.started": "2023-01-09T10:20:04.752596Z",
     "shell.execute_reply": "2023-01-09T10:20:04.814640Z"
    },
    "trusted": true
   },
   "execution_count": 28,
   "outputs": [
    {
     "execution_count": 28,
     "output_type": "execute_result",
     "data": {
      "text/plain": "[617, 752, 18484, 20, 391, 2488, 673, 23, 56, 107]"
     },
     "metadata": {}
    }
   ]
  },
  {
   "cell_type": "markdown",
   "source": [
    "## Submissions"
   ],
   "metadata": {}
  },
  {
   "cell_type": "code",
   "source": [
    "test_users = pd.read_csv('Dataset/data_target_users_test.csv')"
   ],
   "metadata": {
    "execution": {
     "iopub.status.busy": "2023-01-09T10:20:13.829182Z",
     "iopub.execute_input": "2023-01-09T10:20:13.829635Z",
     "iopub.status.idle": "2023-01-09T10:20:13.847435Z",
     "shell.execute_reply.started": "2023-01-09T10:20:13.829602Z",
     "shell.execute_reply": "2023-01-09T10:20:13.846538Z"
    },
    "trusted": true
   },
   "execution_count": 29,
   "outputs": []
  },
  {
   "cell_type": "code",
   "source": [
    "user_id = test_users['user_id']\n",
    "recommendations = []\n",
    "for user in user_id:\n",
    "    recommendations.append(recommender_multi.recommend(user, cutoff=10))"
   ],
   "metadata": {
    "execution": {
     "iopub.status.busy": "2023-01-09T10:31:43.001909Z",
     "iopub.execute_input": "2023-01-09T10:31:43.003983Z",
     "iopub.status.idle": "2023-01-09T10:33:32.983362Z",
     "shell.execute_reply.started": "2023-01-09T10:31:43.003907Z",
     "shell.execute_reply": "2023-01-09T10:33:32.982264Z"
    },
    "trusted": true
   },
   "execution_count": 32,
   "outputs": []
  },
  {
   "cell_type": "code",
   "source": [
    "for index in range(len(recommendations)):\n",
    "    recommendations[index]=np.array(recommendations[index])\n",
    "\n",
    "test_users['item_list']= recommendations\n",
    "test_users['item_list'] = pd.DataFrame([str(line).strip('[').strip(']').replace(\"'\",\"\") for line in test_users['item_list']])\n",
    "test_users.to_csv('Submissions/Submission_Hybrid_ListMerge.csv', index=False)"
   ],
   "metadata": {
    "execution": {
     "iopub.status.busy": "2023-01-09T10:33:32.985318Z",
     "iopub.execute_input": "2023-01-09T10:33:32.985680Z",
     "iopub.status.idle": "2023-01-09T10:33:35.554697Z",
     "shell.execute_reply.started": "2023-01-09T10:33:32.985649Z",
     "shell.execute_reply": "2023-01-09T10:33:35.553514Z"
    },
    "trusted": true
   },
   "execution_count": 33,
   "outputs": []
  }
 ]
}
