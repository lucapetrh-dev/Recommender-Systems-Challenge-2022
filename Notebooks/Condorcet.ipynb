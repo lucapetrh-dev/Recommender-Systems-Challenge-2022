{
 "cells": [
  {
   "cell_type": "markdown",
   "id": "fa82f55c",
   "metadata": {
    "papermill": {
     "duration": 0.004719,
     "end_time": "2023-01-10T00:05:24.092987",
     "exception": false,
     "start_time": "2023-01-10T00:05:24.088268",
     "status": "completed"
    },
    "tags": []
   },
   "source": [
    "# The Condorcet-Schulze method\n",
    "\n",
    "The Schulze method is a refinemnet of the original Condorcet methods that are used for deciding the winning candidate of an election in which all the voters can express a number of different preferences.\n",
    "\n",
    "To read all about the method we have been using, have a look at [Wikipedia](https://en.wikipedia.org/wiki/Schulze_method).\n",
    "\n",
    "## How to use the condorcet module\n",
    "\n",
    "Create a dataframe with the ordered poreferences for each voter. The first column shall be the first preference for the i-th voter.\n",
    "\n",
    "The entries of each cell are the names of the candidates.\n",
    "\n",
    "Each voter can vote for all or part of the candidates. The non voted candidates are considered to be less preferred than the voted ones.\n"
   ]
  },
  {
   "cell_type": "code",
   "execution_count": 2,
   "id": "d276df07",
   "metadata": {
    "collapsed": false,
    "execution": {
     "iopub.execute_input": "2023-01-10T00:05:37.097938Z",
     "iopub.status.busy": "2023-01-10T00:05:37.097485Z",
     "iopub.status.idle": "2023-01-10T00:05:37.123744Z",
     "shell.execute_reply": "2023-01-10T00:05:37.122588Z"
    },
    "jupyter": {
     "outputs_hidden": false
    },
    "papermill": {
     "duration": 0.038586,
     "end_time": "2023-01-10T00:05:37.126347",
     "exception": false,
     "start_time": "2023-01-10T00:05:37.087761",
     "status": "completed"
    },
    "tags": []
   },
   "outputs": [],
   "source": [
    "\"\"\"Ranks candidates by the Condorcet method with also unvoted candidates.\n",
    "\n",
    "For more information, please refer to https://en.wikipedia.org/wiki/Condorcet_method.\n",
    "\"\"\"\n",
    "\n",
    "__author__ = \"Matteo Caorsi\"\n",
    "## I thank Michael G. Parker (http://omgitsmgp.com/) from whom I took the code skeleton\n",
    "\n",
    "import numpy as np\n",
    "from collections import defaultdict\n",
    "\n",
    "def candidate_names_from_df(df):\n",
    "    return list(np.unique(df.values.flatten()))\n",
    "\n",
    "def weighted_ranks_from_df(df):\n",
    "    weighted_ranks = []\n",
    "    for row in df.values:\n",
    "        weighted_ranks.append((list(row),1))\n",
    "    return weighted_ranks\n",
    "\n",
    "\n",
    "def _add_remaining_ranks(d, candidate_name, remaining_ranks, weight):\n",
    "    for other_candidate_name in remaining_ranks:\n",
    "        d[candidate_name, other_candidate_name] += weight\n",
    "\n",
    "\n",
    "def _add_ranks_to_d(d, ranks, weight, unvoted_candidates):\n",
    "    for i, candidate_name in enumerate(ranks):\n",
    "        remaining_ranks = ranks[i+1:] + unvoted_candidates\n",
    "        _add_remaining_ranks(d, candidate_name, remaining_ranks, weight)\n",
    "\n",
    "\n",
    "def _compute_d(weighted_ranks, candidate_names):\n",
    "    \"\"\"Computes the d array in the Schulze method.\n",
    "\n",
    "        d[V,W] is the number of voters who prefer candidate V over W.\n",
    "\n",
    "        We consider unvoted candidates as being ranked less than any\n",
    "        other candidate voted by the voter.\n",
    "        \"\"\"\n",
    "    d = defaultdict(int)\n",
    "    for ranks, weight in weighted_ranks:\n",
    "        unvoted_candidates = list(set(candidate_names)-set(ranks))\n",
    "        #print(\"unoted:\", unvoted_candidates)\n",
    "        _add_ranks_to_d(d, ranks, weight, unvoted_candidates)\n",
    "    #print(d)\n",
    "    return d\n",
    "\n",
    "\n",
    "def _compute_p(d, candidate_names):\n",
    "    '''Computes the p array in the Schulze method.\n",
    "\n",
    "        p[V,W] is the strength of the strongest path from candidate V to W.\n",
    "    '''\n",
    "\n",
    "    # taken directly from wikipedia: https://en.wikipedia.org/wiki/Schulze_method#Implementation\n",
    "    p = {}\n",
    "    for candidate_name1 in candidate_names:\n",
    "        for candidate_name2 in candidate_names:\n",
    "            if candidate_name1 != candidate_name2:\n",
    "                # get the value from the d matrix or default it to 0\n",
    "                strength = d.get((candidate_name1, candidate_name2), 0)\n",
    "                if strength > d.get((candidate_name2, candidate_name1), 0):\n",
    "                    p[candidate_name1, candidate_name2] = strength\n",
    "                else:\n",
    "                    p[candidate_name1, candidate_name2] = 0\n",
    "\n",
    "    for candidate_name1 in candidate_names:\n",
    "        for candidate_name2 in candidate_names:\n",
    "            if candidate_name1 != candidate_name2:\n",
    "                for candidate_name3 in candidate_names:\n",
    "                    if (candidate_name1 != candidate_name3) and (candidate_name2 != candidate_name3):\n",
    "                        curr_value = p.get((candidate_name2, candidate_name3), 0)\n",
    "                        new_value = min(\n",
    "                            p.get((candidate_name2, candidate_name1), 0),\n",
    "                            p.get((candidate_name1, candidate_name3), 0))\n",
    "                        p[candidate_name2, candidate_name3] = max(curr_value,new_value)\n",
    "    return p\n",
    "\n",
    "\n",
    "def _rank_p(candidate_names, p):\n",
    "    \"\"\"Ranks the candidates by p.\"\"\"\n",
    "    # how many times does a candidate wins against each of the others?\n",
    "    candidate_wins = defaultdict(list)\n",
    "\n",
    "    for candidate_name1 in candidate_names:\n",
    "        num_wins = 0\n",
    "\n",
    "        # Compute the number of wins this candidate has over all other candidates.\n",
    "        for candidate_name2 in candidate_names:\n",
    "            if candidate_name1 != candidate_name2:\n",
    "                candidate1_score = p.get((candidate_name1, candidate_name2), 0)\n",
    "                candidate2_score = p.get((candidate_name2, candidate_name1), 0)\n",
    "                if candidate1_score > candidate2_score:\n",
    "                    num_wins += 1\n",
    "\n",
    "        candidate_wins[num_wins].append(candidate_name1)\n",
    "        #print(candidate_wins)\n",
    "    sorted_wins = sorted(candidate_wins.keys(), reverse=True)\n",
    "    return [candidate_wins[num_wins] for num_wins in sorted_wins]\n",
    "\n",
    "\n",
    "def compute_ranks(df):\n",
    "    weighted_ranks = weighted_ranks_from_df(df)\n",
    "    candidate_names = candidate_names_from_df(df)\n",
    "    #print(candidate_names)\n",
    "    d = _compute_d(weighted_ranks, candidate_names)\n",
    "    p = _compute_p(d, candidate_names)\n",
    "    return _rank_p(candidate_names, p)"
   ]
  },
  {
   "cell_type": "code",
   "execution_count": 3,
   "id": "629f09cd",
   "metadata": {
    "execution": {
     "iopub.execute_input": "2023-01-10T00:05:37.144042Z",
     "iopub.status.busy": "2023-01-10T00:05:37.143174Z",
     "iopub.status.idle": "2023-01-10T00:05:37.148959Z",
     "shell.execute_reply": "2023-01-10T00:05:37.147585Z"
    },
    "papermill": {
     "duration": 0.017897,
     "end_time": "2023-01-10T00:05:37.151585",
     "exception": false,
     "start_time": "2023-01-10T00:05:37.133688",
     "status": "completed"
    },
    "tags": []
   },
   "outputs": [],
   "source": [
    "import numpy as np\n",
    "import pandas as pd"
   ]
  },
  {
   "cell_type": "markdown",
   "id": "b6a2cbaa",
   "metadata": {
    "papermill": {
     "duration": 0.006917,
     "end_time": "2023-01-10T00:05:37.166231",
     "exception": false,
     "start_time": "2023-01-10T00:05:37.159314",
     "status": "completed"
    },
    "tags": []
   },
   "source": [
    "# Load the submissions to merge"
   ]
  },
  {
   "cell_type": "code",
   "execution_count": 4,
   "id": "286aa341",
   "metadata": {
    "collapsed": false,
    "execution": {
     "iopub.execute_input": "2023-01-10T00:05:37.182956Z",
     "iopub.status.busy": "2023-01-10T00:05:37.182527Z",
     "iopub.status.idle": "2023-01-10T00:05:37.287484Z",
     "shell.execute_reply": "2023-01-10T00:05:37.286525Z"
    },
    "jupyter": {
     "outputs_hidden": false
    },
    "papermill": {
     "duration": 0.116444,
     "end_time": "2023-01-10T00:05:37.289864",
     "exception": false,
     "start_time": "2023-01-10T00:05:37.173420",
     "status": "completed"
    },
    "tags": []
   },
   "outputs": [
    {
     "data": {
      "text/plain": [
       "18"
      ]
     },
     "execution_count": 4,
     "metadata": {},
     "output_type": "execute_result"
    }
   ],
   "source": [
    "import re\n",
    "\n",
    "#load submissions\n",
    "submissions = [] #files\n",
    "submissions_path = [\n",
    "    \"/kaggle/input/linear-hybrids/Submission_CS_055_035_05_04_01_ListMerge.csv\",\n",
    "    \"/kaggle/input/linear-hybrids/Submission_EaseR_SLIM_EN_rp3Beta_055_035.csv\",\n",
    "]\n",
    "submissions_lines = [] #lines\n",
    "\n",
    "#read lines of each submission\n",
    "for i, path in enumerate(submissions_path):\n",
    "    submissions.append(open(path, 'r'))\n",
    "    submissions_lines.append(submissions[i].readlines())\n",
    "\n",
    "sub_len = len(submissions_lines[0])\n",
    "\n",
    "#create final submission file\n",
    "new_sub = open('Submissions/Submission_CondorcetSchulze.csv', 'w')\n",
    "new_sub.write('user_id,item_list\\n')"
   ]
  },
  {
   "cell_type": "code",
   "execution_count": 5,
   "id": "192639f9",
   "metadata": {
    "collapsed": false,
    "execution": {
     "iopub.execute_input": "2023-01-10T00:05:37.307403Z",
     "iopub.status.busy": "2023-01-10T00:05:37.306550Z",
     "iopub.status.idle": "2023-01-10T00:05:37.312401Z",
     "shell.execute_reply": "2023-01-10T00:05:37.311063Z"
    },
    "jupyter": {
     "outputs_hidden": false
    },
    "papermill": {
     "duration": 0.017453,
     "end_time": "2023-01-10T00:05:37.314965",
     "exception": false,
     "start_time": "2023-01-10T00:05:37.297512",
     "status": "completed"
    },
    "tags": []
   },
   "outputs": [],
   "source": [
    "def unfold_list(list):\n",
    "    recommendations = []\n",
    "    for position in ranking:\n",
    "        for item in position:\n",
    "            recommendations.append(item)\n",
    "    del recommendations[10:]\n",
    "    return recommendations"
   ]
  },
  {
   "cell_type": "code",
   "execution_count": 6,
   "id": "22ece9b6",
   "metadata": {
    "collapsed": false,
    "execution": {
     "iopub.execute_input": "2023-01-10T00:05:37.332339Z",
     "iopub.status.busy": "2023-01-10T00:05:37.331854Z",
     "iopub.status.idle": "2023-01-10T00:11:00.316335Z",
     "shell.execute_reply": "2023-01-10T00:11:00.315047Z"
    },
    "jupyter": {
     "outputs_hidden": false
    },
    "papermill": {
     "duration": 322.997176,
     "end_time": "2023-01-10T00:11:00.319830",
     "exception": false,
     "start_time": "2023-01-10T00:05:37.322654",
     "status": "completed"
    },
    "tags": []
   },
   "outputs": [],
   "source": [
    "#iterate through each line\n",
    "for i in range(1, sub_len):\n",
    "    #print(\"Reading line {}\".format(i))\n",
    "    user = 0\n",
    "    recommendations_df = pd.DataFrame(columns=['r0', 'r1', 'r2', 'r3', 'r4', 'r5', 'r6', 'r7', 'r8', 'r9'])\n",
    "    #iterate through each submission\n",
    "    for o in range(len(submissions)):\n",
    "        #print(\"Of recommender {}\".format(o))\n",
    "        submission_line = submissions_lines[o][i]\n",
    "        #the line is formatted as \"user, rec1 rec2 rec3 ... rec10\"\n",
    "        #but sometimes there are more spaces (a tab perhaps?)\n",
    "        #regex to remove multiple spaces\n",
    "        submission_line = re.sub(' +', ' ', submission_line)\n",
    "        #regex to remove new line\n",
    "        submission_line = re.sub('\\n', '', submission_line)\n",
    "        #regex to remove the very first space\n",
    "        submission_line = re.sub(', ', ',', submission_line)\n",
    "        #we split the line to separate the user_id from the recommendations\n",
    "        submission_line_params = submission_line.split(sep=',')\n",
    "        #saving the user id\n",
    "        user = submission_line_params[0]\n",
    "        #getting the recommends as lists\n",
    "        recommendations_df.loc[len(recommendations_df)] = submission_line_params[1].split(' ')\n",
    "    ranking = compute_ranks(recommendations_df)\n",
    "    ranking = unfold_list(ranking)\n",
    "    #write line\n",
    "    new_rec_line = user + \", \" + \" \".join(ranking) + \"\\n\"\n",
    "    new_sub.write(new_rec_line)"
   ]
  },
  {
   "cell_type": "code",
   "execution_count": 7,
   "id": "7ca176c4",
   "metadata": {
    "collapsed": false,
    "execution": {
     "iopub.execute_input": "2023-01-10T00:11:00.339510Z",
     "iopub.status.busy": "2023-01-10T00:11:00.339069Z",
     "iopub.status.idle": "2023-01-10T00:11:00.345489Z",
     "shell.execute_reply": "2023-01-10T00:11:00.344255Z"
    },
    "jupyter": {
     "outputs_hidden": false
    },
    "papermill": {
     "duration": 0.020519,
     "end_time": "2023-01-10T00:11:00.348551",
     "exception": false,
     "start_time": "2023-01-10T00:11:00.328032",
     "status": "completed"
    },
    "tags": []
   },
   "outputs": [],
   "source": [
    "new_sub.close()\n",
    "for submission in submissions:\n",
    "    submission.close()"
   ]
  }
 ],
 "metadata": {
  "kernelspec": {
   "display_name": "Python 3",
   "language": "python",
   "name": "python3"
  },
  "language_info": {
   "codemirror_mode": {
    "name": "ipython",
    "version": 3
   },
   "file_extension": ".py",
   "mimetype": "text/x-python",
   "name": "python",
   "nbconvert_exporter": "python",
   "pygments_lexer": "ipython3",
   "version": "3.7.12"
  },
  "papermill": {
   "default_parameters": {},
   "duration": 346.351369,
   "end_time": "2023-01-10T00:11:01.197468",
   "environment_variables": {},
   "exception": null,
   "input_path": "__notebook__.ipynb",
   "output_path": "__notebook__.ipynb",
   "parameters": {},
   "start_time": "2023-01-10T00:05:14.846099",
   "version": "2.3.4"
  }
 },
 "nbformat": 4,
 "nbformat_minor": 5
}
