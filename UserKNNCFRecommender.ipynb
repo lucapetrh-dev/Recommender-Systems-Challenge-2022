{
 "cells": [
  {
   "cell_type": "code",
   "execution_count": 1,
   "metadata": {
    "collapsed": true
   },
   "outputs": [],
   "source": [
    "import numpy as np\n",
    "import matplotlib.pyplot as pyplot\n",
    "%matplotlib inline"
   ]
  },
  {
   "cell_type": "code",
   "execution_count": 2,
   "outputs": [],
   "source": [
    "from Evaluation.Evaluator import EvaluatorHoldout\n",
    "from Data_manager.split_functions.split_train_validation_random_holdout import split_train_in_two_percentage_global_sample\n",
    "from DataReader import load_urm, load_icm, load_target"
   ],
   "metadata": {
    "collapsed": false
   }
  },
  {
   "cell_type": "code",
   "execution_count": 3,
   "outputs": [
    {
     "name": "stdout",
     "output_type": "stream",
     "text": [
      "Warning: 3086 (7.41 %) of 41629 users have no sampled items\n",
      "Warning: 4339 (10.42 %) of 41629 users have no sampled items\n",
      "EvaluatorHoldout: Ignoring 4339 (10.4%) Users that have less than 1 test interactions\n",
      "EvaluatorHoldout: Ignoring 3086 ( 7.4%) Users that have less than 1 test interactions\n"
     ]
    }
   ],
   "source": [
    "URM_all = load_urm()\n",
    "\n",
    "URM_train, URM_test = split_train_in_two_percentage_global_sample(URM_all, train_percentage = 0.85)\n",
    "URM_train, URM_validation = split_train_in_two_percentage_global_sample(URM_train, train_percentage = 0.85)\n",
    "\n",
    "evaluator_validation = EvaluatorHoldout(URM_validation, cutoff_list=[10])\n",
    "evaluator_test = EvaluatorHoldout(URM_test, cutoff_list=[10])"
   ],
   "metadata": {
    "collapsed": false
   }
  },
  {
   "cell_type": "markdown",
   "source": [
    "## User Based Collaborative Filtering"
   ],
   "metadata": {
    "collapsed": false
   }
  },
  {
   "cell_type": "code",
   "execution_count": 4,
   "outputs": [],
   "source": [
    "user_id = 100\n",
    "shrink = 10\n",
    "\n",
    "numerator_vector = URM_train[user_id].dot(URM_train.T).toarray().ravel()\n",
    "\n",
    "user_norms = np.sqrt(np.array(URM_train.T.power(2).sum(axis=0))).ravel()\n",
    "denominator_vector = user_norms[user_id] * user_norms + shrink + 1e-6\n",
    "\n",
    "similarity_vector = numerator_vector/denominator_vector"
   ],
   "metadata": {
    "collapsed": false
   }
  },
  {
   "cell_type": "code",
   "execution_count": 5,
   "outputs": [
    {
     "data": {
      "text/plain": "<Figure size 640x480 with 1 Axes>",
      "image/png": "[encoded data removed]"
     },
     "metadata": {},
     "output_type": "display_data"
    }
   ],
   "source": [
    "sorted_user_indices = np.argsort(-similarity_vector)\n",
    "\n",
    "pyplot.plot(similarity_vector[sorted_user_indices], 'ro')\n",
    "pyplot.ylabel('Similarity')\n",
    "pyplot.xlabel('Item')\n",
    "pyplot.show()"
   ],
   "metadata": {
    "collapsed": false
   }
  },
  {
   "cell_type": "code",
   "execution_count": 6,
   "outputs": [
    {
     "name": "stdout",
     "output_type": "stream",
     "text": [
      "Similarity column 41629 (100.0%), 428.56 column/sec. Elapsed time 1.62 min\n"
     ]
    }
   ],
   "source": [
    "from Recommenders.Similarity.Compute_Similarity_Python import Compute_Similarity_Python\n",
    "\n",
    "similarity_object = Compute_Similarity_Python(URM_train.T, shrink=100,\n",
    "                                              topK=50, normalize=True,\n",
    "                                              similarity = \"cosine\")\n",
    "\n",
    "W_sparse = similarity_object.compute_similarity()"
   ],
   "metadata": {
    "collapsed": false
   }
  },
  {
   "cell_type": "code",
   "execution_count": 7,
   "outputs": [],
   "source": [
    "user_id = 100\n",
    "\n",
    "scores = W_sparse[user_id,:].dot(URM_train).toarray().ravel()\n",
    "\n",
    "ranking = scores.argsort()[::-1]"
   ],
   "metadata": {
    "collapsed": false
   }
  },
  {
   "cell_type": "code",
   "execution_count": 8,
   "outputs": [
    {
     "data": {
      "text/plain": "<Figure size 640x480 with 1 Axes>",
      "image/png": "[encoded data removed]"
     },
     "metadata": {},
     "output_type": "display_data"
    }
   ],
   "source": [
    "pyplot.plot(scores[ranking], 'ro')\n",
    "pyplot.ylabel('Similarity')\n",
    "pyplot.xlabel('Item')\n",
    "pyplot.show()"
   ],
   "metadata": {
    "collapsed": false
   }
  },
  {
   "cell_type": "code",
   "execution_count": 9,
   "outputs": [
    {
     "data": {
      "text/plain": "array([ 773,  541,  385,  155,  154,  942,  626,  775, 9382,  153],\n      dtype=int64)"
     },
     "execution_count": 9,
     "metadata": {},
     "output_type": "execute_result"
    }
   ],
   "source": [
    "ranking[0:10]"
   ],
   "metadata": {
    "collapsed": false
   }
  },
  {
   "cell_type": "code",
   "execution_count": 10,
   "outputs": [],
   "source": [
    "class UserKNNCFRecommender(object):\n",
    "\n",
    "    def __init__(self, URM):\n",
    "        self.URM = URM\n",
    "\n",
    "\n",
    "    def fit(self, topK=50, shrink=100, normalize=True, similarity=\"cosine\"):\n",
    "\n",
    "        similarity_object = Compute_Similarity_Python(self.URM.T, shrink=shrink,\n",
    "                                                      topK=topK, normalize=normalize,\n",
    "                                                      similarity = similarity)\n",
    "\n",
    "        self.W_sparse = similarity_object.compute_similarity()\n",
    "\n",
    "\n",
    "    def recommend(self, user_id, at=None, exclude_seen=True):\n",
    "        # compute the scores using the dot product\n",
    "\n",
    "        scores = self.W_sparse[user_id, :].dot(self.URM).toarray().ravel()\n",
    "\n",
    "        if exclude_seen:\n",
    "            scores = self.filter_seen(user_id, scores)\n",
    "\n",
    "        # rank items\n",
    "        ranking = scores.argsort()[::-1]\n",
    "\n",
    "        return ranking[:at]\n",
    "\n",
    "\n",
    "    def filter_seen(self, user_id, scores):\n",
    "\n",
    "        start_pos = self.URM.indptr[user_id]\n",
    "        end_pos = self.URM.indptr[user_id+1]\n",
    "\n",
    "        user_profile = self.URM.indices[start_pos:end_pos]\n",
    "\n",
    "        scores[user_profile] = -np.inf\n",
    "\n",
    "        return scores"
   ],
   "metadata": {
    "collapsed": false
   }
  },
  {
   "cell_type": "markdown",
   "source": [
    "## Testing the Recommender"
   ],
   "metadata": {
    "collapsed": false
   }
  },
  {
   "cell_type": "code",
   "execution_count": 13,
   "outputs": [
    {
     "name": "stdout",
     "output_type": "stream",
     "text": [
      "Similarity column 41629 (100.0%), 356.35 column/sec. Elapsed time 1.95 min\n"
     ]
    }
   ],
   "source": [
    "recommender = UserKNNCFRecommender(URM_train)\n",
    "recommender.fit(shrink=0.0, topK=50)"
   ],
   "metadata": {
    "collapsed": false
   }
  },
  {
   "cell_type": "markdown",
   "source": [
    "## Evaluation"
   ],
   "metadata": {
    "collapsed": false
   }
  },
  {
   "cell_type": "markdown",
   "source": [
    "### Number of neighbors"
   ],
   "metadata": {
    "collapsed": false
   }
  },
  {
   "cell_type": "code",
   "execution_count": 1,
   "outputs": [
    {
     "ename": "NameError",
     "evalue": "name 'URM_train' is not defined",
     "output_type": "error",
     "traceback": [
      "\u001B[1;31m---------------------------------------------------------------------------\u001B[0m",
      "\u001B[1;31mNameError\u001B[0m                                 Traceback (most recent call last)",
      "Input \u001B[1;32mIn [1]\u001B[0m, in \u001B[0;36m<cell line: 6>\u001B[1;34m()\u001B[0m\n\u001B[0;32m      4\u001B[0m MAP_per_k \u001B[38;5;241m=\u001B[39m []\n\u001B[0;32m      6\u001B[0m \u001B[38;5;28;01mfor\u001B[39;00m topK \u001B[38;5;129;01min\u001B[39;00m x_tick:\n\u001B[1;32m----> 8\u001B[0m     recommender \u001B[38;5;241m=\u001B[39m UserKNNCFRecommender(\u001B[43mURM_train\u001B[49m)\n\u001B[0;32m      9\u001B[0m     recommender\u001B[38;5;241m.\u001B[39mfit(shrink\u001B[38;5;241m=\u001B[39m\u001B[38;5;241m0.0\u001B[39m, topK\u001B[38;5;241m=\u001B[39mtopK)\n\u001B[0;32m     11\u001B[0m     result_df, _ \u001B[38;5;241m=\u001B[39m evaluator_validation\u001B[38;5;241m.\u001B[39mevaluateRecommender(recommender)\n",
      "\u001B[1;31mNameError\u001B[0m: name 'URM_train' is not defined"
     ]
    }
   ],
   "source": [
    "from Recommenders.KNN.UserKNNCFRecommender import UserKNNCFRecommender\n",
    "\n",
    "x_tick = [10, 50, 100, 200, 500]\n",
    "MAP_per_k = []\n",
    "\n",
    "for topK in x_tick:\n",
    "\n",
    "    recommender = UserKNNCFRecommender(URM_train)\n",
    "    recommender.fit(shrink=0.0, topK=topK)\n",
    "\n",
    "    result_df, _ = evaluator_validation.evaluateRecommender(recommender)\n",
    "\n",
    "    MAP_per_k.append(result_df.loc[10][\"MAP\"])"
   ],
   "metadata": {
    "collapsed": false
   }
  },
  {
   "cell_type": "markdown",
   "source": [
    "### Shrinkage"
   ],
   "metadata": {
    "collapsed": false
   }
  },
  {
   "cell_type": "code",
   "execution_count": null,
   "outputs": [],
   "source": [
    "pyplot.plot(x_tick, MAP_per_k)\n",
    "pyplot.ylabel('MAP')\n",
    "pyplot.xlabel('TopK')\n",
    "pyplot.show()"
   ],
   "metadata": {
    "collapsed": false
   }
  },
  {
   "cell_type": "code",
   "execution_count": null,
   "outputs": [],
   "source": [
    "x_tick = [0, 10, 50, 100, 200, 500]\n",
    "MAP_per_shrinkage = []\n",
    "\n",
    "for shrink in x_tick:\n",
    "\n",
    "    recommender = UserKNNCFRecommender(URM_train)\n",
    "    recommender.fit(shrink=shrink, topK=100)\n",
    "\n",
    "    result_df, _ = evaluator_validation.evaluateRecommender(recommender)\n",
    "\n",
    "    MAP_per_shrinkage.append(result_df.loc[10][\"MAP\"])"
   ],
   "metadata": {
    "collapsed": false
   }
  },
  {
   "cell_type": "code",
   "execution_count": null,
   "outputs": [],
   "source": [
    "pyplot.plot(x_tick, MAP_per_shrinkage)\n",
    "pyplot.ylabel('MAP')\n",
    "pyplot.xlabel('Shrinkage')\n",
    "pyplot.show()"
   ],
   "metadata": {
    "collapsed": false
   }
  }
 ],
 "metadata": {
  "kernelspec": {
   "display_name": "Python 3",
   "language": "python",
   "name": "python3"
  },
  "language_info": {
   "codemirror_mode": {
    "name": "ipython",
    "version": 2
   },
   "file_extension": ".py",
   "mimetype": "text/x-python",
   "name": "python",
   "nbconvert_exporter": "python",
   "pygments_lexer": "ipython2",
   "version": "2.7.6"
  }
 },
 "nbformat": 4,
 "nbformat_minor": 0
}
