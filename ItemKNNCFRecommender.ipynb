{
 "cells": [
  {
   "cell_type": "code",
   "execution_count": 1,
   "metadata": {
    "collapsed": true
   },
   "outputs": [],
   "source": [
    "import numpy as np\n",
    "import pandas as pd\n",
    "import matplotlib.pyplot as pyplot\n",
    "%matplotlib inline"
   ]
  },
  {
   "cell_type": "code",
   "execution_count": 2,
   "outputs": [],
   "source": [
    "from Evaluation.Evaluator import EvaluatorHoldout\n",
    "from Data_manager.split_functions.split_train_validation_random_holdout import split_train_in_two_percentage_global_sample\n",
    "from Utils.DataReader import load_urm, load_target"
   ],
   "metadata": {
    "collapsed": false
   }
  },
  {
   "cell_type": "code",
   "execution_count": 3,
   "outputs": [
    {
     "name": "stdout",
     "output_type": "stream",
     "text": [
      "Warning: 109 (0.26 %) of 41629 users have no train items\n",
      "Warning: 10186 (24.47 %) of 41629 users have no sampled items\n",
      "Warning: 244 (0.59 %) of 41629 users have no train items\n",
      "Warning: 12040 (28.92 %) of 41629 users have no sampled items\n",
      "EvaluatorHoldout: Ignoring 12040 (28.9%) Users that have less than 1 test interactions\n",
      "EvaluatorHoldout: Ignoring 10186 (24.5%) Users that have less than 1 test interactions\n"
     ]
    }
   ],
   "source": [
    "URM_all = load_urm()\n",
    "\n",
    "URM_train, URM_test = split_train_in_two_percentage_global_sample(URM_all, train_percentage = 0.85)\n",
    "URM_train, URM_validation = split_train_in_two_percentage_global_sample(URM_train, train_percentage = 0.85)\n",
    "\n",
    "evaluator_validation = EvaluatorHoldout(URM_validation, cutoff_list=[10])\n",
    "evaluator_test = EvaluatorHoldout(URM_test, cutoff_list=[10])"
   ],
   "metadata": {
    "collapsed": false
   }
  },
  {
   "cell_type": "markdown",
   "source": [
    "## Item Based Collaborative Filtering"
   ],
   "metadata": {
    "collapsed": false
   }
  },
  {
   "cell_type": "code",
   "execution_count": 4,
   "outputs": [
    {
     "data": {
      "text/plain": "array([0., 0., 0., ..., 1., 0., 0.])"
     },
     "execution_count": 4,
     "metadata": {},
     "output_type": "execute_result"
    }
   ],
   "source": [
    "item_id = 100\n",
    "shrink = 10\n",
    "\n",
    "numerator_vector = URM_train.T[item_id].dot(URM_train).toarray().ravel()\n",
    "numerator_vector"
   ],
   "metadata": {
    "collapsed": false
   }
  },
  {
   "cell_type": "code",
   "execution_count": 5,
   "outputs": [
    {
     "data": {
      "text/plain": "array([0.        , 0.        , 0.        , ..., 0.01767978, 0.        ,\n       0.        ])"
     },
     "execution_count": 5,
     "metadata": {},
     "output_type": "execute_result"
    }
   ],
   "source": [
    "item_norms = np.sqrt(np.array(URM_train.power(2).sum(axis=0))).ravel()\n",
    "denominator_vector = item_norms[item_id] * item_norms + shrink + 1e-6\n",
    "\n",
    "similarity_vector = numerator_vector/denominator_vector\n",
    "similarity_vector"
   ],
   "metadata": {
    "collapsed": false
   }
  },
  {
   "cell_type": "code",
   "execution_count": 6,
   "outputs": [
    {
     "data": {
      "text/plain": "<Figure size 640x480 with 1 Axes>",
      "image/png": "[encoded data removed]"
     },
     "metadata": {},
     "output_type": "display_data"
    }
   ],
   "source": [
    "sorted_item_indices = np.argsort(-similarity_vector)\n",
    "\n",
    "pyplot.plot(similarity_vector[sorted_item_indices], 'ro')\n",
    "pyplot.ylabel('Similarity')\n",
    "pyplot.xlabel('Item')\n",
    "pyplot.show()"
   ],
   "metadata": {
    "collapsed": false
   }
  },
  {
   "cell_type": "code",
   "execution_count": 7,
   "outputs": [
    {
     "name": "stdout",
     "output_type": "stream",
     "text": [
      "Similarity column 24507 (100.0%), 892.93 column/sec. Elapsed time 27.45 sec\n"
     ]
    }
   ],
   "source": [
    "from Recommenders.Similarity.Compute_Similarity_Python import Compute_Similarity_Python\n",
    "\n",
    "similarity_object = Compute_Similarity_Python(URM_train, shrink=100,\n",
    "                                              topK=50, normalize=True,\n",
    "                                              similarity = \"cosine\")\n",
    "\n",
    "W_sparse = similarity_object.compute_similarity()"
   ],
   "metadata": {
    "collapsed": false
   }
  },
  {
   "cell_type": "code",
   "execution_count": 8,
   "outputs": [],
   "source": [
    "user_id = 100\n",
    "\n",
    "user_profile = URM_train[user_id]\n",
    "scores = user_profile.dot(W_sparse).toarray().ravel()\n",
    "\n",
    "ranking = scores.argsort()[::-1]"
   ],
   "metadata": {
    "collapsed": false
   }
  },
  {
   "cell_type": "code",
   "execution_count": 9,
   "outputs": [
    {
     "data": {
      "text/plain": "<Figure size 640x480 with 1 Axes>",
      "image/png": "[encoded data removed]"
     },
     "metadata": {},
     "output_type": "display_data"
    }
   ],
   "source": [
    "import matplotlib.pyplot as pyplot\n",
    "%matplotlib inline\n",
    "\n",
    "pyplot.plot(scores[ranking], 'ro')\n",
    "pyplot.ylabel('Similarity')\n",
    "pyplot.xlabel('Item')\n",
    "pyplot.show()"
   ],
   "metadata": {
    "collapsed": false
   }
  },
  {
   "cell_type": "code",
   "execution_count": 10,
   "outputs": [
    {
     "data": {
      "text/plain": "array([ 385,  537,  773,  775,  153,  826,  555,  545,  993, 1108],\n      dtype=int64)"
     },
     "execution_count": 10,
     "metadata": {},
     "output_type": "execute_result"
    }
   ],
   "source": [
    "ranking[0:10]"
   ],
   "metadata": {
    "collapsed": false
   }
  },
  {
   "cell_type": "markdown",
   "source": [
    "## Let's create the Recommender"
   ],
   "metadata": {
    "collapsed": false
   }
  },
  {
   "cell_type": "code",
   "execution_count": 11,
   "outputs": [],
   "source": [
    "from Recommenders.Similarity.Compute_Similarity_Python import Compute_Similarity_Python\n",
    "\n",
    "class ItemKNNCFRecommender(object):\n",
    "\n",
    "    def __init__(self, URM):\n",
    "        self.URM = URM\n",
    "\n",
    "\n",
    "    def fit(self, topK=50, shrink=100, normalize=True, similarity=\"cosine\"):\n",
    "\n",
    "        similarity_object = Compute_Similarity_Python(self.URM, shrink=shrink,\n",
    "                                                      topK=topK, normalize=normalize,\n",
    "                                                      similarity = similarity)\n",
    "\n",
    "        self.W_sparse = similarity_object.compute_similarity()\n",
    "\n",
    "\n",
    "    def recommend(self, user_id, at=None, exclude_seen=True):\n",
    "        # compute the scores using the dot product\n",
    "        user_profile = self.URM[user_id]\n",
    "        scores = user_profile.dot(self.W_sparse).toarray().ravel()\n",
    "\n",
    "        if exclude_seen:\n",
    "            scores = self.filter_seen(user_id, scores)\n",
    "\n",
    "        # rank items\n",
    "        ranking = scores.argsort()[::-1]\n",
    "\n",
    "        return ranking[:at]\n",
    "\n",
    "\n",
    "    def filter_seen(self, user_id, scores):\n",
    "\n",
    "        start_pos = self.URM.indptr[user_id]\n",
    "        end_pos = self.URM.indptr[user_id+1]\n",
    "\n",
    "        user_profile = self.URM.indices[start_pos:end_pos]\n",
    "\n",
    "        scores[user_profile] = -np.inf\n",
    "\n",
    "        return scores"
   ],
   "metadata": {
    "collapsed": false
   }
  },
  {
   "cell_type": "markdown",
   "source": [
    "## Testing the Recommender"
   ],
   "metadata": {
    "collapsed": false
   }
  },
  {
   "cell_type": "code",
   "execution_count": 12,
   "outputs": [
    {
     "name": "stdout",
     "output_type": "stream",
     "text": [
      "Similarity column 24507 (100.0%), 875.30 column/sec. Elapsed time 28.00 sec\n"
     ]
    }
   ],
   "source": [
    "recommender = ItemKNNCFRecommender(URM_train)\n",
    "recommender.fit(shrink=50.0, topK=100)"
   ],
   "metadata": {
    "collapsed": false
   }
  },
  {
   "cell_type": "markdown",
   "source": [
    "## Evaluation - Hyperparameter Tuning"
   ],
   "metadata": {
    "collapsed": false
   }
  },
  {
   "cell_type": "markdown",
   "source": [
    "### Number of neighbors"
   ],
   "metadata": {
    "collapsed": false
   }
  },
  {
   "cell_type": "code",
   "execution_count": 13,
   "outputs": [
    {
     "name": "stdout",
     "output_type": "stream",
     "text": [
      "ItemKNNCFRecommender: URM Detected 244 ( 0.6%) users with no interactions.\n",
      "ItemKNNCFRecommender: URM Detected 11700 (47.7%) items with no interactions.\n",
      "Similarity column 24507 (100.0%), 5012.42 column/sec. Elapsed time 4.89 sec\n",
      "EvaluatorHoldout: Processed 29589 (100.0%) in 22.82 sec. Users per second: 1297\n",
      "ItemKNNCFRecommender: URM Detected 244 ( 0.6%) users with no interactions.\n",
      "ItemKNNCFRecommender: URM Detected 11700 (47.7%) items with no interactions.\n",
      "Similarity column 24507 (100.0%), 5373.49 column/sec. Elapsed time 4.56 sec\n",
      "EvaluatorHoldout: Processed 29589 (100.0%) in 25.09 sec. Users per second: 1179\n",
      "ItemKNNCFRecommender: URM Detected 244 ( 0.6%) users with no interactions.\n",
      "ItemKNNCFRecommender: URM Detected 11700 (47.7%) items with no interactions.\n",
      "Similarity column 24507 (100.0%), 4597.89 column/sec. Elapsed time 5.33 sec\n",
      "EvaluatorHoldout: Processed 29589 (100.0%) in 27.48 sec. Users per second: 1077\n",
      "ItemKNNCFRecommender: URM Detected 244 ( 0.6%) users with no interactions.\n",
      "ItemKNNCFRecommender: URM Detected 11700 (47.7%) items with no interactions.\n",
      "Similarity column 24507 (100.0%), 4603.46 column/sec. Elapsed time 5.32 sec\n",
      "EvaluatorHoldout: Processed 29589 (100.0%) in 29.67 sec. Users per second: 997\n",
      "ItemKNNCFRecommender: URM Detected 244 ( 0.6%) users with no interactions.\n",
      "ItemKNNCFRecommender: URM Detected 11700 (47.7%) items with no interactions.\n",
      "Similarity column 24507 (100.0%), 4144.21 column/sec. Elapsed time 5.91 sec\n",
      "EvaluatorHoldout: Processed 29589 (100.0%) in 34.25 sec. Users per second: 864\n"
     ]
    }
   ],
   "source": [
    "from Recommenders.KNN.ItemKNNCFRecommender import ItemKNNCFRecommender\n",
    "\n",
    "x_tick = [10, 50, 100, 200, 500]\n",
    "MAP_per_k = []\n",
    "\n",
    "for topK in x_tick:\n",
    "\n",
    "    recommender = ItemKNNCFRecommender(URM_train)\n",
    "    recommender.fit(shrink=0.0, topK=topK)\n",
    "\n",
    "    result_df, _ = evaluator_validation.evaluateRecommender(recommender)\n",
    "\n",
    "    MAP_per_k.append(result_df.loc[10][\"MAP\"])"
   ],
   "metadata": {
    "collapsed": false
   }
  },
  {
   "cell_type": "code",
   "execution_count": 14,
   "outputs": [
    {
     "data": {
      "text/plain": "       PRECISION PRECISION_RECALL_MIN_DEN    RECALL       MAP MAP_MIN_DEN  \\\ncutoff                                                                      \n10      0.025577                 0.098832  0.098704  0.011284    0.043311   \n\n            MRR     NDCG        F1  HIT_RATE ARHR_ALL_HITS  ... COVERAGE_USER  \\\ncutoff                                                      ...                 \n10      0.09162  0.06975  0.040627  0.206529      0.101501  ...      0.710779   \n\n       COVERAGE_USER_HIT USERS_IN_GT DIVERSITY_GINI SHANNON_ENTROPY  \\\ncutoff                                                                \n10              0.146797    0.710779       0.057455        9.752435   \n\n       RATIO_DIVERSITY_HERFINDAHL RATIO_DIVERSITY_GINI RATIO_SHANNON_ENTROPY  \\\ncutoff                                                                         \n10                       0.994885             0.278842              0.806008   \n\n       RATIO_AVERAGE_POPULARITY RATIO_NOVELTY  \ncutoff                                         \n10                     2.156746      1.053334  \n\n[1 rows x 27 columns]",
      "text/html": "<div>\n<style scoped>\n    .dataframe tbody tr th:only-of-type {\n        vertical-align: middle;\n    }\n\n    .dataframe tbody tr th {\n        vertical-align: top;\n    }\n\n    .dataframe thead th {\n        text-align: right;\n    }\n</style>\n<table border=\"1\" class=\"dataframe\">\n  <thead>\n    <tr style=\"text-align: right;\">\n      <th></th>\n      <th>PRECISION</th>\n      <th>PRECISION_RECALL_MIN_DEN</th>\n      <th>RECALL</th>\n      <th>MAP</th>\n      <th>MAP_MIN_DEN</th>\n      <th>MRR</th>\n      <th>NDCG</th>\n      <th>F1</th>\n      <th>HIT_RATE</th>\n      <th>ARHR_ALL_HITS</th>\n      <th>...</th>\n      <th>COVERAGE_USER</th>\n      <th>COVERAGE_USER_HIT</th>\n      <th>USERS_IN_GT</th>\n      <th>DIVERSITY_GINI</th>\n      <th>SHANNON_ENTROPY</th>\n      <th>RATIO_DIVERSITY_HERFINDAHL</th>\n      <th>RATIO_DIVERSITY_GINI</th>\n      <th>RATIO_SHANNON_ENTROPY</th>\n      <th>RATIO_AVERAGE_POPULARITY</th>\n      <th>RATIO_NOVELTY</th>\n    </tr>\n    <tr>\n      <th>cutoff</th>\n      <th></th>\n      <th></th>\n      <th></th>\n      <th></th>\n      <th></th>\n      <th></th>\n      <th></th>\n      <th></th>\n      <th></th>\n      <th></th>\n      <th></th>\n      <th></th>\n      <th></th>\n      <th></th>\n      <th></th>\n      <th></th>\n      <th></th>\n      <th></th>\n      <th></th>\n      <th></th>\n      <th></th>\n    </tr>\n  </thead>\n  <tbody>\n    <tr>\n      <th>10</th>\n      <td>0.025577</td>\n      <td>0.098832</td>\n      <td>0.098704</td>\n      <td>0.011284</td>\n      <td>0.043311</td>\n      <td>0.09162</td>\n      <td>0.06975</td>\n      <td>0.040627</td>\n      <td>0.206529</td>\n      <td>0.101501</td>\n      <td>...</td>\n      <td>0.710779</td>\n      <td>0.146797</td>\n      <td>0.710779</td>\n      <td>0.057455</td>\n      <td>9.752435</td>\n      <td>0.994885</td>\n      <td>0.278842</td>\n      <td>0.806008</td>\n      <td>2.156746</td>\n      <td>1.053334</td>\n    </tr>\n  </tbody>\n</table>\n<p>1 rows × 27 columns</p>\n</div>"
     },
     "execution_count": 14,
     "metadata": {},
     "output_type": "execute_result"
    }
   ],
   "source": [
    "result_df"
   ],
   "metadata": {
    "collapsed": false
   }
  },
  {
   "cell_type": "code",
   "execution_count": 15,
   "outputs": [
    {
     "data": {
      "text/plain": "<Figure size 640x480 with 1 Axes>",
      "image/png": "[encoded data removed]"
     },
     "metadata": {},
     "output_type": "display_data"
    }
   ],
   "source": [
    "pyplot.plot(x_tick, MAP_per_k)\n",
    "pyplot.ylabel('MAP')\n",
    "pyplot.xlabel('TopK')\n",
    "pyplot.show()"
   ],
   "metadata": {
    "collapsed": false
   }
  },
  {
   "cell_type": "markdown",
   "source": [
    "### Shrinkage"
   ],
   "metadata": {
    "collapsed": false
   }
  },
  {
   "cell_type": "code",
   "execution_count": 16,
   "outputs": [
    {
     "name": "stdout",
     "output_type": "stream",
     "text": [
      "ItemKNNCFRecommender: URM Detected 244 ( 0.6%) users with no interactions.\n",
      "ItemKNNCFRecommender: URM Detected 11700 (47.7%) items with no interactions.\n",
      "Similarity column 24507 (100.0%), 4836.93 column/sec. Elapsed time 5.07 sec\n",
      "EvaluatorHoldout: Processed 29589 (100.0%) in 27.26 sec. Users per second: 1085\n",
      "ItemKNNCFRecommender: URM Detected 244 ( 0.6%) users with no interactions.\n",
      "ItemKNNCFRecommender: URM Detected 11700 (47.7%) items with no interactions.\n",
      "Similarity column 24507 (100.0%), 5121.52 column/sec. Elapsed time 4.79 sec\n",
      "EvaluatorHoldout: Processed 29589 (100.0%) in 26.92 sec. Users per second: 1099\n",
      "ItemKNNCFRecommender: URM Detected 244 ( 0.6%) users with no interactions.\n",
      "ItemKNNCFRecommender: URM Detected 11700 (47.7%) items with no interactions.\n",
      "Similarity column 24507 (100.0%), 5175.94 column/sec. Elapsed time 4.73 sec\n",
      "EvaluatorHoldout: Processed 29589 (100.0%) in 27.97 sec. Users per second: 1058\n",
      "ItemKNNCFRecommender: URM Detected 244 ( 0.6%) users with no interactions.\n",
      "ItemKNNCFRecommender: URM Detected 11700 (47.7%) items with no interactions.\n",
      "Similarity column 24507 (100.0%), 5072.13 column/sec. Elapsed time 4.83 sec\n",
      "EvaluatorHoldout: Processed 29589 (100.0%) in 28.30 sec. Users per second: 1046\n",
      "ItemKNNCFRecommender: URM Detected 244 ( 0.6%) users with no interactions.\n",
      "ItemKNNCFRecommender: URM Detected 11700 (47.7%) items with no interactions.\n",
      "Similarity column 24507 (100.0%), 5106.57 column/sec. Elapsed time 4.80 sec\n",
      "EvaluatorHoldout: Processed 29589 (100.0%) in 28.37 sec. Users per second: 1043\n",
      "ItemKNNCFRecommender: URM Detected 244 ( 0.6%) users with no interactions.\n",
      "ItemKNNCFRecommender: URM Detected 11700 (47.7%) items with no interactions.\n",
      "Similarity column 24507 (100.0%), 5104.48 column/sec. Elapsed time 4.80 sec\n",
      "EvaluatorHoldout: Processed 29589 (100.0%) in 28.89 sec. Users per second: 1024\n"
     ]
    }
   ],
   "source": [
    "x_tick = [0, 10, 50, 100, 200, 500]\n",
    "MAP_per_shrinkage = []\n",
    "\n",
    "for shrink in x_tick:\n",
    "\n",
    "    recommender = ItemKNNCFRecommender(URM_train)\n",
    "    recommender.fit(shrink=shrink, topK=100)\n",
    "\n",
    "    result_df, _ = evaluator_validation.evaluateRecommender(recommender)\n",
    "\n",
    "    MAP_per_shrinkage.append(result_df.loc[10][\"MAP\"])"
   ],
   "metadata": {
    "collapsed": false
   }
  },
  {
   "cell_type": "code",
   "execution_count": 17,
   "outputs": [
    {
     "data": {
      "text/plain": "<Figure size 640x480 with 1 Axes>",
      "image/png": "[encoded data removed]"
     },
     "metadata": {},
     "output_type": "display_data"
    }
   ],
   "source": [
    "pyplot.plot(x_tick, MAP_per_shrinkage)\n",
    "pyplot.ylabel('MAP')\n",
    "pyplot.xlabel('Shrinkage')\n",
    "pyplot.show()"
   ],
   "metadata": {
    "collapsed": false
   }
  },
  {
   "cell_type": "markdown",
   "source": [
    "## Submissions"
   ],
   "metadata": {
    "collapsed": false
   }
  },
  {
   "cell_type": "code",
   "execution_count": 21,
   "outputs": [],
   "source": [
    "test_users = pd.read_csv('Dataset/data_target_users_test.csv')"
   ],
   "metadata": {
    "collapsed": false
   }
  },
  {
   "cell_type": "code",
   "execution_count": 22,
   "outputs": [],
   "source": [
    "user_id = test_users['user_id']\n",
    "recommendations = []\n",
    "for user in user_id:\n",
    "    recommendations.append(recommender.recommend(user, cutoff=10))"
   ],
   "metadata": {
    "collapsed": false
   }
  },
  {
   "cell_type": "code",
   "execution_count": 24,
   "outputs": [],
   "source": [
    "for index in range(len(recommendations)):\n",
    "    recommendations[index]=np.array(recommendations[index])\n",
    "\n",
    "test_users['item_list']= recommendations\n",
    "test_users['item_list'] = pd.DataFrame([str(line).strip('[').strip(']').replace(\"'\",\"\") for line in test_users['item_list']])\n",
    "test_users.to_csv('Submissions\\Submission_ItemKNN_URM_views_clicks.csv', index=False)"
   ],
   "metadata": {
    "collapsed": false
   }
  }
 ],
 "metadata": {
  "kernelspec": {
   "display_name": "Python 3",
   "language": "python",
   "name": "python3"
  },
  "language_info": {
   "codemirror_mode": {
    "name": "ipython",
    "version": 2
   },
   "file_extension": ".py",
   "mimetype": "text/x-python",
   "name": "python",
   "nbconvert_exporter": "python",
   "pygments_lexer": "ipython2",
   "version": "2.7.6"
  }
 },
 "nbformat": 4,
 "nbformat_minor": 0
}
