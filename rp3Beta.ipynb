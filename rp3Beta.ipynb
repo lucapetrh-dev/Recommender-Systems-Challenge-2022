{
 "cells": [
  {
   "cell_type": "code",
   "execution_count": 2,
   "outputs": [],
   "source": [
    "import pandas as pd\n",
    "import numpy as np\n",
    "import scipy.sparse as sps\n",
    "import matplotlib.pyplot as pyplot\n",
    "\n",
    "from Evaluation.Evaluator import EvaluatorHoldout\n",
    "from Data_manager.split_functions.split_train_validation_random_holdout import split_train_in_two_percentage_global_sample\n",
    "from Utils.DataReader import load_urm, load_icm, load_target"
   ],
   "metadata": {
    "collapsed": false
   }
  },
  {
   "cell_type": "code",
   "execution_count": 3,
   "outputs": [
    {
     "name": "stdout",
     "output_type": "stream",
     "text": [
      "Warning: 956 (2.30 %) of 41629 users have no sampled items\n",
      "Warning: 1524 (3.66 %) of 41629 users have no sampled items\n",
      "EvaluatorHoldout: Ignoring 1524 ( 3.7%) Users that have less than 1 test interactions\n",
      "EvaluatorHoldout: Ignoring 956 ( 2.3%) Users that have less than 1 test interactions\n"
     ]
    }
   ],
   "source": [
    "URM_all = load_urm()\n",
    "\n",
    "URM_train, URM_test = split_train_in_two_percentage_global_sample(URM_all, train_percentage = 0.85)\n",
    "URM_train, URM_validation = split_train_in_two_percentage_global_sample(URM_train, train_percentage = 0.85)\n",
    "\n",
    "evaluator_validation = EvaluatorHoldout(URM_validation, cutoff_list=[10])\n",
    "evaluator_test = EvaluatorHoldout(URM_test, cutoff_list=[10])"
   ],
   "metadata": {
    "collapsed": false
   }
  },
  {
   "cell_type": "markdown",
   "source": [
    "## RP3 Beta Recommender"
   ],
   "metadata": {
    "collapsed": false
   }
  },
  {
   "cell_type": "code",
   "execution_count": 4,
   "outputs": [],
   "source": [
    "from Recommenders.GraphBased.RP3betaRecommender import RP3betaRecommender\n",
    "\n",
    "recommender_class = RP3betaRecommender"
   ],
   "metadata": {
    "collapsed": false
   }
  },
  {
   "cell_type": "code",
   "execution_count": 5,
   "outputs": [],
   "source": [
    "import os\n",
    "\n",
    "output_folder_path = \"Experiments/\"\n",
    "\n",
    "# If directory does not exist, create\n",
    "if not os.path.exists(output_folder_path):\n",
    "    os.makedirs(output_folder_path)\n",
    "\n",
    "n_cases = 50\n",
    "n_random_starts = int(n_cases*0.3)\n",
    "metric_to_optimize = \"MAP\"\n",
    "cutoff_to_optimize = 10"
   ],
   "metadata": {
    "collapsed": false
   }
  },
  {
   "cell_type": "markdown",
   "source": [
    "### Hyperparameter Tuning"
   ],
   "metadata": {
    "collapsed": false
   }
  },
  {
   "cell_type": "code",
   "execution_count": 6,
   "outputs": [],
   "source": [
    "from skopt.space import Real, Integer, Categorical\n",
    "\n",
    "hyperparameters_range_dictionary = {\n",
    "    \"alpha\": Real(low=0, high=1, prior='uniform'),\n",
    "    \"beta\": Real(low=0, high=1, prior='uniform'),\n",
    "    \"topK\": Integer(1, 800),\n",
    "    \"implicit\": Categorical([True, False])\n",
    "}"
   ],
   "metadata": {
    "collapsed": false
   }
  },
  {
   "cell_type": "markdown",
   "source": [
    "We create a bayesian optimizer object, we pass the recommender and the evaluator"
   ],
   "metadata": {
    "collapsed": false
   }
  },
  {
   "cell_type": "code",
   "execution_count": 7,
   "outputs": [],
   "source": [
    "from HyperparameterTuning.SearchBayesianSkopt import SearchBayesianSkopt\n",
    "\n",
    "hyperparameterSearch = SearchBayesianSkopt(recommender_class,\n",
    "                                           evaluator_validation=evaluator_validation)"
   ],
   "metadata": {
    "collapsed": false
   }
  },
  {
   "cell_type": "markdown",
   "source": [
    "We provide data needed to create the instance of the model, one on the URM_train, the other on URM_all"
   ],
   "metadata": {
    "collapsed": false
   }
  },
  {
   "cell_type": "code",
   "execution_count": 8,
   "outputs": [],
   "source": [
    "from HyperparameterTuning.SearchAbstractClass import SearchInputRecommenderArgs\n",
    "\n",
    "recommender_input_args = SearchInputRecommenderArgs(\n",
    "    CONSTRUCTOR_POSITIONAL_ARGS = [URM_train],\n",
    "    CONSTRUCTOR_KEYWORD_ARGS = {},\n",
    "    FIT_POSITIONAL_ARGS = [],\n",
    "    FIT_KEYWORD_ARGS = {}\n",
    ")"
   ],
   "metadata": {
    "collapsed": false
   }
  },
  {
   "cell_type": "code",
   "execution_count": 9,
   "outputs": [],
   "source": [
    "recommender_input_args_last_test = SearchInputRecommenderArgs(\n",
    "    CONSTRUCTOR_POSITIONAL_ARGS = [URM_all],\n",
    "    CONSTRUCTOR_KEYWORD_ARGS = {},\n",
    "    FIT_POSITIONAL_ARGS = [],\n",
    "    FIT_KEYWORD_ARGS = {}\n",
    ")"
   ],
   "metadata": {
    "collapsed": false
   }
  },
  {
   "cell_type": "markdown",
   "source": [
    "### Bayesian Search"
   ],
   "metadata": {
    "collapsed": false
   }
  },
  {
   "cell_type": "code",
   "execution_count": 10,
   "outputs": [
    {
     "name": "stdout",
     "output_type": "stream",
     "text": [
      "Iteration No: 1 started. Evaluating function at random point.\n",
      "SearchBayesianSkopt: Testing config: {'alpha': 0.32608564773252674, 'beta': 0.27458231803951466, 'topK': 432, 'implicit': True}\n",
      "RP3betaRecommender: Similarity column 24507 (100.0%), 525.80 column/sec. Elapsed time 46.61 sec\n",
      "EvaluatorHoldout: Processed 40105 (100.0%) in 54.79 sec. Users per second: 732\n",
      "SearchBayesianSkopt: New best config found. Config 0: {'alpha': 0.32608564773252674, 'beta': 0.27458231803951466, 'topK': 432, 'implicit': True} - results: PRECISION: 0.0369754, PRECISION_RECALL_MIN_DEN: 0.0716020, RECALL: 0.0687944, MAP: 0.0164596, MAP_MIN_DEN: 0.0315123, MRR: 0.1243544, NDCG: 0.0710434, F1: 0.0480988, HIT_RATE: 0.2765241, ARHR_ALL_HITS: 0.1424863, NOVELTY: 0.0040926, AVERAGE_POPULARITY: 0.2782012, DIVERSITY_MEAN_INTER_LIST: 0.8494193, DIVERSITY_HERFINDAHL: 0.9849398, COVERAGE_ITEM: 0.4219203, COVERAGE_ITEM_HIT: 0.0416616, ITEMS_IN_GT: 0.9870241, COVERAGE_USER: 0.9633909, COVERAGE_USER_HIT: 0.2664008, USERS_IN_GT: 0.9633909, DIVERSITY_GINI: 0.0217745, SHANNON_ENTROPY: 7.9117567, RATIO_DIVERSITY_HERFINDAHL: 0.9852655, RATIO_DIVERSITY_GINI: 0.0430686, RATIO_SHANNON_ENTROPY: 0.5864891, RATIO_AVERAGE_POPULARITY: 5.4426344, RATIO_NOVELTY: 0.2755545, \n",
      "\n",
      "Iteration No: 1 ended. Evaluation done at random point.\n",
      "Time taken: 109.3538\n",
      "Function value obtained: -0.0165\n",
      "Current minimum: -0.0165\n",
      "Iteration No: 2 started. Evaluating function at random point.\n",
      "SearchBayesianSkopt: Testing config: {'alpha': 0.46878517928343744, 'beta': 0.9332538078136121, 'topK': 744, 'implicit': True}\n",
      "RP3betaRecommender: Similarity column 24507 (100.0%), 442.45 column/sec. Elapsed time 55.39 sec\n",
      "EvaluatorHoldout: Processed 40105 (100.0%) in 58.92 sec. Users per second: 681\n",
      "SearchBayesianSkopt: Config 1 is suboptimal. Config: {'alpha': 0.46878517928343744, 'beta': 0.9332538078136121, 'topK': 744, 'implicit': True} - results: PRECISION: 0.0174567, PRECISION_RECALL_MIN_DEN: 0.0295176, RECALL: 0.0277077, MAP: 0.0073757, MAP_MIN_DEN: 0.0125421, MRR: 0.0572332, NDCG: 0.0307858, F1: 0.0214188, HIT_RATE: 0.1351702, ARHR_ALL_HITS: 0.0646738, NOVELTY: 0.0059958, AVERAGE_POPULARITY: 0.0198476, DIVERSITY_MEAN_INTER_LIST: 0.9948612, DIVERSITY_HERFINDAHL: 0.9994836, COVERAGE_ITEM: 0.8096054, COVERAGE_ITEM_HIT: 0.0656955, ITEMS_IN_GT: 0.9870241, COVERAGE_USER: 0.9633909, COVERAGE_USER_HIT: 0.1302217, USERS_IN_GT: 0.9633909, DIVERSITY_GINI: 0.2447670, SHANNON_ENTROPY: 12.6642378, RATIO_DIVERSITY_HERFINDAHL: 0.9998141, RATIO_DIVERSITY_GINI: 0.4841339, RATIO_SHANNON_ENTROPY: 0.9387848, RATIO_AVERAGE_POPULARITY: 0.3882923, RATIO_NOVELTY: 0.4036961, \n",
      "\n",
      "Iteration No: 2 ended. Evaluation done at random point.\n",
      "Time taken: 124.2273\n",
      "Function value obtained: -0.0074\n",
      "Current minimum: -0.0165\n",
      "Iteration No: 3 started. Evaluating function at random point.\n",
      "SearchBayesianSkopt: Testing config: {'alpha': 0.7000397680192371, 'beta': 0.682301319897698, 'topK': 453, 'implicit': False}\n",
      "RP3betaRecommender: Similarity column 24507 (100.0%), 569.52 column/sec. Elapsed time 43.03 sec\n",
      "EvaluatorHoldout: Processed 40105 (100.0%) in 54.66 sec. Users per second: 734\n",
      "SearchBayesianSkopt: Config 2 is suboptimal. Config: {'alpha': 0.7000397680192371, 'beta': 0.682301319897698, 'topK': 453, 'implicit': False} - results: PRECISION: 0.0323127, PRECISION_RECALL_MIN_DEN: 0.0600926, RECALL: 0.0574729, MAP: 0.0138356, MAP_MIN_DEN: 0.0255680, MRR: 0.1045866, NDCG: 0.0630523, F1: 0.0413675, HIT_RATE: 0.2422890, ARHR_ALL_HITS: 0.1198039, NOVELTY: 0.0048809, AVERAGE_POPULARITY: 0.1403738, DIVERSITY_MEAN_INTER_LIST: 0.9475980, DIVERSITY_HERFINDAHL: 0.9947574, COVERAGE_ITEM: 0.7800220, COVERAGE_ITEM_HIT: 0.0554535, ITEMS_IN_GT: 0.9870241, COVERAGE_USER: 0.9633909, COVERAGE_USER_HIT: 0.2334190, USERS_IN_GT: 0.9633909, DIVERSITY_GINI: 0.1246352, SHANNON_ENTROPY: 10.4083166, RATIO_DIVERSITY_HERFINDAHL: 0.9950864, RATIO_DIVERSITY_GINI: 0.2465205, RATIO_SHANNON_ENTROPY: 0.7715561, RATIO_AVERAGE_POPULARITY: 2.7462262, RATIO_NOVELTY: 0.3286299, \n",
      "\n",
      "Iteration No: 3 ended. Evaluation done at random point.\n",
      "Time taken: 104.4461\n",
      "Function value obtained: -0.0138\n",
      "Current minimum: -0.0165\n",
      "Iteration No: 4 started. Evaluating function at random point.\n",
      "SearchBayesianSkopt: Testing config: {'alpha': 0.3366899663913591, 'beta': 0.47983234358078597, 'topK': 101, 'implicit': True}\n",
      "RP3betaRecommender: Similarity column 24507 (100.0%), 874.74 column/sec. Elapsed time 28.02 sec\n",
      "EvaluatorHoldout: Processed 40105 (100.0%) in 42.01 sec. Users per second: 955\n",
      "SearchBayesianSkopt: New best config found. Config 3: {'alpha': 0.3366899663913591, 'beta': 0.47983234358078597, 'topK': 101, 'implicit': True} - results: PRECISION: 0.0381922, PRECISION_RECALL_MIN_DEN: 0.0721207, RECALL: 0.0691172, MAP: 0.0172230, MAP_MIN_DEN: 0.0321773, MRR: 0.1268829, NDCG: 0.0732665, F1: 0.0491987, HIT_RATE: 0.2790924, ARHR_ALL_HITS: 0.1471289, NOVELTY: 0.0045594, AVERAGE_POPULARITY: 0.1669977, DIVERSITY_MEAN_INTER_LIST: 0.9562526, DIVERSITY_HERFINDAHL: 0.9956229, COVERAGE_ITEM: 0.6601787, COVERAGE_ITEM_HIT: 0.0623087, ITEMS_IN_GT: 0.9870241, COVERAGE_USER: 0.9633909, COVERAGE_USER_HIT: 0.2688751, USERS_IN_GT: 0.9633909, DIVERSITY_GINI: 0.0676527, SHANNON_ENTROPY: 9.8721356, RATIO_DIVERSITY_HERFINDAHL: 0.9959521, RATIO_DIVERSITY_GINI: 0.1338128, RATIO_SHANNON_ENTROPY: 0.7318096, RATIO_AVERAGE_POPULARITY: 3.2670869, RATIO_NOVELTY: 0.3069792, \n",
      "\n",
      "Iteration No: 4 ended. Evaluation done at random point.\n",
      "Time taken: 72.2393\n",
      "Function value obtained: -0.0172\n",
      "Current minimum: -0.0172\n",
      "Iteration No: 5 started. Evaluating function at random point.\n",
      "SearchBayesianSkopt: Testing config: {'alpha': 0.7182154609766359, 'beta': 0.016161368303486693, 'topK': 447, 'implicit': False}\n",
      "RP3betaRecommender: Similarity column 24507 (100.0%), 524.60 column/sec. Elapsed time 46.72 sec\n",
      "EvaluatorHoldout: Processed 40105 (100.0%) in 44.98 sec. Users per second: 892\n",
      "SearchBayesianSkopt: Config 4 is suboptimal. Config: {'alpha': 0.7182154609766359, 'beta': 0.016161368303486693, 'topK': 447, 'implicit': False} - results: PRECISION: 0.0360578, PRECISION_RECALL_MIN_DEN: 0.0695196, RECALL: 0.0667478, MAP: 0.0154056, MAP_MIN_DEN: 0.0293167, MRR: 0.1163682, NDCG: 0.0679942, F1: 0.0468220, HIT_RATE: 0.2701907, ARHR_ALL_HITS: 0.1333801, NOVELTY: 0.0039821, AVERAGE_POPULARITY: 0.2906886, DIVERSITY_MEAN_INTER_LIST: 0.8411155, DIVERSITY_HERFINDAHL: 0.9841094, COVERAGE_ITEM: 0.0955237, COVERAGE_ITEM_HIT: 0.0311340, ITEMS_IN_GT: 0.9870241, COVERAGE_USER: 0.9633909, COVERAGE_USER_HIT: 0.2602993, USERS_IN_GT: 0.9633909, DIVERSITY_GINI: 0.0069136, SHANNON_ENTROPY: 7.3275861, RATIO_DIVERSITY_HERFINDAHL: 0.9844349, RATIO_DIVERSITY_GINI: 0.0136746, RATIO_SHANNON_ENTROPY: 0.5431852, RATIO_AVERAGE_POPULARITY: 5.6869345, RATIO_NOVELTY: 0.2681152, \n",
      "\n",
      "Iteration No: 5 ended. Evaluation done at random point.\n",
      "Time taken: 97.3746\n",
      "Function value obtained: -0.0154\n",
      "Current minimum: -0.0172\n",
      "Iteration No: 6 started. Evaluating function at random point.\n",
      "SearchBayesianSkopt: Testing config: {'alpha': 0.33242810947284945, 'beta': 0.32837765689407655, 'topK': 47, 'implicit': False}\n",
      "RP3betaRecommender: Similarity column 24507 (100.0%), 1032.42 column/sec. Elapsed time 23.74 sec\n",
      "EvaluatorHoldout: Processed 40105 (100.0%) in 40.18 sec. Users per second: 998\n",
      "SearchBayesianSkopt: New best config found. Config 5: {'alpha': 0.33242810947284945, 'beta': 0.32837765689407655, 'topK': 47, 'implicit': False} - results: PRECISION: 0.0382122, PRECISION_RECALL_MIN_DEN: 0.0720958, RECALL: 0.0690887, MAP: 0.0173446, MAP_MIN_DEN: 0.0326110, MRR: 0.1282787, NDCG: 0.0730362, F1: 0.0492080, HIT_RATE: 0.2802892, ARHR_ALL_HITS: 0.1484789, NOVELTY: 0.0046670, AVERAGE_POPULARITY: 0.1500001, DIVERSITY_MEAN_INTER_LIST: 0.9668996, DIVERSITY_HERFINDAHL: 0.9966876, COVERAGE_ITEM: 0.7197127, COVERAGE_ITEM_HIT: 0.0679806, ITEMS_IN_GT: 0.9870241, COVERAGE_USER: 0.9633909, COVERAGE_USER_HIT: 0.2700281, USERS_IN_GT: 0.9633909, DIVERSITY_GINI: 0.0840441, SHANNON_ENTROPY: 10.3069729, RATIO_DIVERSITY_HERFINDAHL: 0.9970171, RATIO_DIVERSITY_GINI: 0.1662339, RATIO_SHANNON_ENTROPY: 0.7640436, RATIO_AVERAGE_POPULARITY: 2.9345511, RATIO_NOVELTY: 0.3142284, \n",
      "\n",
      "Iteration No: 6 ended. Evaluation done at random point.\n",
      "Time taken: 65.1269\n",
      "Function value obtained: -0.0173\n",
      "Current minimum: -0.0173\n",
      "Iteration No: 7 started. Evaluating function at random point.\n",
      "SearchBayesianSkopt: Testing config: {'alpha': 0.36365787677088995, 'beta': 0.7413927657834508, 'topK': 687, 'implicit': False}\n",
      "RP3betaRecommender: Similarity column 24507 (100.0%), 432.58 column/sec. Elapsed time 56.65 sec\n",
      "EvaluatorHoldout: Processed 40105 (100.0%) in 55.69 sec. Users per second: 720\n",
      "SearchBayesianSkopt: Config 6 is suboptimal. Config: {'alpha': 0.36365787677088995, 'beta': 0.7413927657834508, 'topK': 687, 'implicit': False} - results: PRECISION: 0.0309213, PRECISION_RECALL_MIN_DEN: 0.0561567, RECALL: 0.0535566, MAP: 0.0133523, MAP_MIN_DEN: 0.0240524, MRR: 0.1002487, NDCG: 0.0574357, F1: 0.0392065, HIT_RATE: 0.2307942, ARHR_ALL_HITS: 0.1152253, NOVELTY: 0.0051819, AVERAGE_POPULARITY: 0.0896525, DIVERSITY_MEAN_INTER_LIST: 0.9793867, DIVERSITY_HERFINDAHL: 0.9979362, COVERAGE_ITEM: 0.8566940, COVERAGE_ITEM_HIT: 0.0678174, ITEMS_IN_GT: 0.9870241, COVERAGE_USER: 0.9633909, COVERAGE_USER_HIT: 0.2223450, USERS_IN_GT: 0.9633909, DIVERSITY_GINI: 0.1847498, SHANNON_ENTROPY: 11.5094249, RATIO_DIVERSITY_HERFINDAHL: 0.9982662, RATIO_DIVERSITY_GINI: 0.3654236, RATIO_SHANNON_ENTROPY: 0.8531799, RATIO_AVERAGE_POPULARITY: 1.7539323, RATIO_NOVELTY: 0.3488945, \n",
      "\n",
      "Iteration No: 7 ended. Evaluation done at random point.\n",
      "Time taken: 121.3568\n",
      "Function value obtained: -0.0134\n",
      "Current minimum: -0.0173\n",
      "Iteration No: 8 started. Evaluating function at random point.\n",
      "SearchBayesianSkopt: Testing config: {'alpha': 0.7111226904191076, 'beta': 0.4700168607736217, 'topK': 782, 'implicit': False}\n",
      "RP3betaRecommender: Similarity column 24507 (100.0%), 396.72 column/sec. Elapsed time 1.03 min\n",
      "EvaluatorHoldout: Processed 40105 (100.0%) in 53.04 sec. Users per second: 756\n",
      "SearchBayesianSkopt: Config 7 is suboptimal. Config: {'alpha': 0.7111226904191076, 'beta': 0.4700168607736217, 'topK': 782, 'implicit': False} - results: PRECISION: 0.0354295, PRECISION_RECALL_MIN_DEN: 0.0675764, RECALL: 0.0648250, MAP: 0.0153184, MAP_MIN_DEN: 0.0288287, MRR: 0.1149046, NDCG: 0.0690131, F1: 0.0458177, HIT_RATE: 0.2647800, ARHR_ALL_HITS: 0.1321330, NOVELTY: 0.0044012, AVERAGE_POPULARITY: 0.2371941, DIVERSITY_MEAN_INTER_LIST: 0.8756259, DIVERSITY_HERFINDAHL: 0.9875604, COVERAGE_ITEM: 0.7396662, COVERAGE_ITEM_HIT: 0.0436202, ITEMS_IN_GT: 0.9870241, COVERAGE_USER: 0.9633909, COVERAGE_USER_HIT: 0.2550866, USERS_IN_GT: 0.9633909, DIVERSITY_GINI: 0.0744616, SHANNON_ENTROPY: 8.9359115, RATIO_DIVERSITY_HERFINDAHL: 0.9878870, RATIO_DIVERSITY_GINI: 0.1472805, RATIO_SHANNON_ENTROPY: 0.6624084, RATIO_AVERAGE_POPULARITY: 4.6403854, RATIO_NOVELTY: 0.2963325, \n",
      "\n",
      "Iteration No: 8 ended. Evaluation done at random point.\n",
      "Time taken: 125.3476\n",
      "Function value obtained: -0.0153\n",
      "Current minimum: -0.0173\n",
      "Iteration No: 9 started. Evaluating function at random point.\n",
      "SearchBayesianSkopt: Testing config: {'alpha': 0.819686643555641, 'beta': 0.597774314582846, 'topK': 721, 'implicit': False}\n",
      "RP3betaRecommender: Similarity column 24507 (100.0%), 423.24 column/sec. Elapsed time 57.90 sec\n",
      "EvaluatorHoldout: Processed 40105 (100.0%) in 56.90 sec. Users per second: 705\n",
      "SearchBayesianSkopt: Config 8 is suboptimal. Config: {'alpha': 0.819686643555641, 'beta': 0.597774314582846, 'topK': 721, 'implicit': False} - results: PRECISION: 0.0330557, PRECISION_RECALL_MIN_DEN: 0.0615088, RECALL: 0.0588205, MAP: 0.0140109, MAP_MIN_DEN: 0.0258083, MRR: 0.1051102, NDCG: 0.0641044, F1: 0.0423255, HIT_RATE: 0.2467523, ARHR_ALL_HITS: 0.1208750, NOVELTY: 0.0047593, AVERAGE_POPULARITY: 0.1734532, DIVERSITY_MEAN_INTER_LIST: 0.9249338, DIVERSITY_HERFINDAHL: 0.9924911, COVERAGE_ITEM: 0.7686783, COVERAGE_ITEM_HIT: 0.0481903, ITEMS_IN_GT: 0.9870241, COVERAGE_USER: 0.9633909, COVERAGE_USER_HIT: 0.2377189, USERS_IN_GT: 0.9633909, DIVERSITY_GINI: 0.1113785, SHANNON_ENTROPY: 9.9472396, RATIO_DIVERSITY_HERFINDAHL: 0.9928193, RATIO_DIVERSITY_GINI: 0.2202996, RATIO_SHANNON_ENTROPY: 0.7373770, RATIO_AVERAGE_POPULARITY: 3.3933802, RATIO_NOVELTY: 0.3204385, \n",
      "\n",
      "Iteration No: 9 ended. Evaluation done at random point.\n",
      "Time taken: 125.2454\n",
      "Function value obtained: -0.0140\n",
      "Current minimum: -0.0173\n",
      "Iteration No: 10 started. Evaluating function at random point.\n",
      "SearchBayesianSkopt: Testing config: {'alpha': 0.11555043367416964, 'beta': 0.15610680170072258, 'topK': 782, 'implicit': True}\n",
      "RP3betaRecommender: Similarity column 24507 (100.0%), 434.40 column/sec. Elapsed time 56.42 sec\n",
      "EvaluatorHoldout: Processed 40105 (100.0%) in 58.00 sec. Users per second: 691\n",
      "SearchBayesianSkopt: Config 9 is suboptimal. Config: {'alpha': 0.11555043367416964, 'beta': 0.15610680170072258, 'topK': 782, 'implicit': True} - results: PRECISION: 0.0352550, PRECISION_RECALL_MIN_DEN: 0.0684204, RECALL: 0.0656826, MAP: 0.0154636, MAP_MIN_DEN: 0.0297948, MRR: 0.1179147, NDCG: 0.0660454, F1: 0.0458826, HIT_RATE: 0.2671238, ARHR_ALL_HITS: 0.1344902, NOVELTY: 0.0039418, AVERAGE_POPULARITY: 0.3145320, DIVERSITY_MEAN_INTER_LIST: 0.8054590, DIVERSITY_HERFINDAHL: 0.9805439, COVERAGE_ITEM: 0.2293222, COVERAGE_ITEM_HIT: 0.0335414, ITEMS_IN_GT: 0.9870241, COVERAGE_USER: 0.9633909, COVERAGE_USER_HIT: 0.2573446, USERS_IN_GT: 0.9633909, DIVERSITY_GINI: 0.0099690, SHANNON_ENTROPY: 7.2314670, RATIO_DIVERSITY_HERFINDAHL: 0.9808681, RATIO_DIVERSITY_GINI: 0.0197180, RATIO_SHANNON_ENTROPY: 0.5360600, RATIO_AVERAGE_POPULARITY: 6.1533996, RATIO_NOVELTY: 0.2654018, \n",
      "\n",
      "Iteration No: 10 ended. Evaluation done at random point.\n",
      "Time taken: 126.5219\n",
      "Function value obtained: -0.0155\n",
      "Current minimum: -0.0173\n",
      "Iteration No: 11 started. Evaluating function at random point.\n",
      "SearchBayesianSkopt: Testing config: {'alpha': 0.02471249739860982, 'beta': 0.37614991279055887, 'topK': 687, 'implicit': False}\n",
      "RP3betaRecommender: Similarity column 24507 (100.0%), 406.39 column/sec. Elapsed time 1.01 min\n",
      "EvaluatorHoldout: Processed 40105 (100.0%) in 47.85 sec. Users per second: 838\n",
      "SearchBayesianSkopt: Config 10 is suboptimal. Config: {'alpha': 0.02471249739860982, 'beta': 0.37614991279055887, 'topK': 687, 'implicit': False} - results: PRECISION: 0.0371151, PRECISION_RECALL_MIN_DEN: 0.0711957, RECALL: 0.0683514, MAP: 0.0168585, MAP_MIN_DEN: 0.0321036, MRR: 0.1265348, NDCG: 0.0703425, F1: 0.0481076, HIT_RATE: 0.2755267, ARHR_ALL_HITS: 0.1454185, NOVELTY: 0.0042027, AVERAGE_POPULARITY: 0.2600964, DIVERSITY_MEAN_INTER_LIST: 0.8728725, DIVERSITY_HERFINDAHL: 0.9872851, COVERAGE_ITEM: 0.5970947, COVERAGE_ITEM_HIT: 0.0448035, ITEMS_IN_GT: 0.9870241, COVERAGE_USER: 0.9633909, COVERAGE_USER_HIT: 0.2654400, USERS_IN_GT: 0.9633909, DIVERSITY_GINI: 0.0407015, SHANNON_ENTROPY: 8.4200432, RATIO_DIVERSITY_HERFINDAHL: 0.9876116, RATIO_DIVERSITY_GINI: 0.0805050, RATIO_SHANNON_ENTROPY: 0.6241677, RATIO_AVERAGE_POPULARITY: 5.0884397, RATIO_NOVELTY: 0.2829649, \n",
      "\n",
      "Iteration No: 11 ended. Evaluation done at random point.\n",
      "Time taken: 118.0363\n",
      "Function value obtained: -0.0169\n",
      "Current minimum: -0.0173\n",
      "Iteration No: 12 started. Evaluating function at random point.\n",
      "SearchBayesianSkopt: Testing config: {'alpha': 0.671853057920411, 'beta': 0.5742079460478554, 'topK': 724, 'implicit': True}\n",
      "RP3betaRecommender: Similarity column 24507 (100.0%), 482.47 column/sec. Elapsed time 50.80 sec\n",
      "EvaluatorHoldout: Processed 40105 (100.0%) in 1.00 min. Users per second: 668\n",
      "SearchBayesianSkopt: Config 11 is suboptimal. Config: {'alpha': 0.671853057920411, 'beta': 0.5742079460478554, 'topK': 724, 'implicit': True} - results: PRECISION: 0.0350904, PRECISION_RECALL_MIN_DEN: 0.0658957, RECALL: 0.0631231, MAP: 0.0152372, MAP_MIN_DEN: 0.0283530, MRR: 0.1139185, NDCG: 0.0681962, F1: 0.0451061, HIT_RATE: 0.2606907, ARHR_ALL_HITS: 0.1311670, NOVELTY: 0.0046319, AVERAGE_POPULARITY: 0.1923402, DIVERSITY_MEAN_INTER_LIST: 0.9170836, DIVERSITY_HERFINDAHL: 0.9917061, COVERAGE_ITEM: 0.7959767, COVERAGE_ITEM_HIT: 0.0496593, ITEMS_IN_GT: 0.9870241, COVERAGE_USER: 0.9633909, COVERAGE_USER_HIT: 0.2511470, USERS_IN_GT: 0.9633909, DIVERSITY_GINI: 0.1091816, SHANNON_ENTROPY: 9.7607182, RATIO_DIVERSITY_HERFINDAHL: 0.9920340, RATIO_DIVERSITY_GINI: 0.2159543, RATIO_SHANNON_ENTROPY: 0.7235504, RATIO_AVERAGE_POPULARITY: 3.7628787, RATIO_NOVELTY: 0.3118640, \n",
      "\n",
      "Iteration No: 12 ended. Evaluation done at random point.\n",
      "Time taken: 120.0234\n",
      "Function value obtained: -0.0152\n",
      "Current minimum: -0.0173\n",
      "Iteration No: 13 started. Evaluating function at random point.\n",
      "SearchBayesianSkopt: Testing config: {'alpha': 0.13131723751402893, 'beta': 0.5042046665775604, 'topK': 96, 'implicit': True}\n",
      "RP3betaRecommender: Similarity column 24507 (100.0%), 818.40 column/sec. Elapsed time 29.95 sec\n",
      "EvaluatorHoldout: Processed 40105 (100.0%) in 37.43 sec. Users per second: 1071\n",
      "SearchBayesianSkopt: Config 12 is suboptimal. Config: {'alpha': 0.13131723751402893, 'beta': 0.5042046665775604, 'topK': 96, 'implicit': True} - results: PRECISION: 0.0375938, PRECISION_RECALL_MIN_DEN: 0.0708150, RECALL: 0.0677960, MAP: 0.0169908, MAP_MIN_DEN: 0.0316849, MRR: 0.1251034, NDCG: 0.0709880, F1: 0.0483673, HIT_RATE: 0.2743548, ARHR_ALL_HITS: 0.1451277, NOVELTY: 0.0046201, AVERAGE_POPULARITY: 0.1550413, DIVERSITY_MEAN_INTER_LIST: 0.9628234, DIVERSITY_HERFINDAHL: 0.9962799, COVERAGE_ITEM: 0.6463459, COVERAGE_ITEM_HIT: 0.0661036, ITEMS_IN_GT: 0.9870241, COVERAGE_USER: 0.9633909, COVERAGE_USER_HIT: 0.2643109, USERS_IN_GT: 0.9633909, DIVERSITY_GINI: 0.0730907, SHANNON_ENTROPY: 10.0996176, RATIO_DIVERSITY_HERFINDAHL: 0.9966094, RATIO_DIVERSITY_GINI: 0.1445688, RATIO_SHANNON_ENTROPY: 0.7486726, RATIO_AVERAGE_POPULARITY: 3.0331759, RATIO_NOVELTY: 0.3110719, \n",
      "\n",
      "Iteration No: 13 ended. Evaluation done at random point.\n",
      "Time taken: 69.4198\n",
      "Function value obtained: -0.0170\n",
      "Current minimum: -0.0173\n",
      "Iteration No: 14 started. Evaluating function at random point.\n",
      "SearchBayesianSkopt: Testing config: {'alpha': 0.6905606552653741, 'beta': 0.16168693453089025, 'topK': 535, 'implicit': False}\n",
      "RP3betaRecommender: Similarity column 24507 (100.0%), 454.00 column/sec. Elapsed time 53.98 sec\n",
      "EvaluatorHoldout: Processed 40105 (100.0%) in 47.72 sec. Users per second: 840\n",
      "SearchBayesianSkopt: Config 13 is suboptimal. Config: {'alpha': 0.6905606552653741, 'beta': 0.16168693453089025, 'topK': 535, 'implicit': False} - results: PRECISION: 0.0355367, PRECISION_RECALL_MIN_DEN: 0.0690378, RECALL: 0.0663334, MAP: 0.0152091, MAP_MIN_DEN: 0.0291310, MRR: 0.1157582, NDCG: 0.0678645, F1: 0.0462799, HIT_RATE: 0.2689191, ARHR_ALL_HITS: 0.1322203, NOVELTY: 0.0039935, AVERAGE_POPULARITY: 0.3023931, DIVERSITY_MEAN_INTER_LIST: 0.8133467, DIVERSITY_HERFINDAHL: 0.9813326, COVERAGE_ITEM: 0.2276900, COVERAGE_ITEM_HIT: 0.0337863, ITEMS_IN_GT: 0.9870241, COVERAGE_USER: 0.9633909, COVERAGE_USER_HIT: 0.2590742, USERS_IN_GT: 0.9633909, DIVERSITY_GINI: 0.0102821, SHANNON_ENTROPY: 7.3521731, RATIO_DIVERSITY_HERFINDAHL: 0.9816572, RATIO_DIVERSITY_GINI: 0.0203373, RATIO_SHANNON_ENTROPY: 0.5450078, RATIO_AVERAGE_POPULARITY: 5.9159174, RATIO_NOVELTY: 0.2688774, \n",
      "\n",
      "Iteration No: 14 ended. Evaluation done at random point.\n",
      "Time taken: 109.8782\n",
      "Function value obtained: -0.0152\n",
      "Current minimum: -0.0173\n",
      "Iteration No: 15 started. Evaluating function at random point.\n",
      "SearchBayesianSkopt: Testing config: {'alpha': 0.9567724651767571, 'beta': 0.12108471940361734, 'topK': 709, 'implicit': False}\n",
      "RP3betaRecommender: Similarity column 24507 (100.0%), 482.03 column/sec. Elapsed time 50.84 sec\n",
      "EvaluatorHoldout: Processed 40105 (100.0%) in 53.27 sec. Users per second: 753\n",
      "SearchBayesianSkopt: Config 14 is suboptimal. Config: {'alpha': 0.9567724651767571, 'beta': 0.12108471940361734, 'topK': 709, 'implicit': False} - results: PRECISION: 0.0342601, PRECISION_RECALL_MIN_DEN: 0.0663530, RECALL: 0.0637278, MAP: 0.0143189, MAP_MIN_DEN: 0.0271338, MRR: 0.1087584, NDCG: 0.0653424, F1: 0.0445630, HIT_RATE: 0.2601920, ARHR_ALL_HITS: 0.1243436, NOVELTY: 0.0040422, AVERAGE_POPULARITY: 0.2870933, DIVERSITY_MEAN_INTER_LIST: 0.8260828, DIVERSITY_HERFINDAHL: 0.9826062, COVERAGE_ITEM: 0.1283307, COVERAGE_ITEM_HIT: 0.0297874, ITEMS_IN_GT: 0.9870241, COVERAGE_USER: 0.9633909, COVERAGE_USER_HIT: 0.2506666, USERS_IN_GT: 0.9633909, DIVERSITY_GINI: 0.0076133, SHANNON_ENTROPY: 7.3152157, RATIO_DIVERSITY_HERFINDAHL: 0.9829312, RATIO_DIVERSITY_GINI: 0.0150586, RATIO_SHANNON_ENTROPY: 0.5422682, RATIO_AVERAGE_POPULARITY: 5.6165968, RATIO_NOVELTY: 0.2721598, \n",
      "\n",
      "Iteration No: 15 ended. Evaluation done at random point.\n",
      "Time taken: 113.0309\n",
      "Function value obtained: -0.0143\n",
      "Current minimum: -0.0173\n",
      "Iteration No: 16 started. Searching for the next optimal point.\n",
      "SearchBayesianSkopt: Testing config: {'alpha': 0.02451549541579124, 'beta': 0.01475354962781206, 'topK': 51, 'implicit': False}\n",
      "RP3betaRecommender: Similarity column 24507 (100.0%), 1056.72 column/sec. Elapsed time 23.19 sec\n",
      "EvaluatorHoldout: Processed 40105 (100.0%) in 33.76 sec. Users per second: 1188\n",
      "SearchBayesianSkopt: Config 15 is suboptimal. Config: {'alpha': 0.02451549541579124, 'beta': 0.01475354962781206, 'topK': 51, 'implicit': False} - results: PRECISION: 0.0287396, PRECISION_RECALL_MIN_DEN: 0.0528190, RECALL: 0.0503555, MAP: 0.0135607, MAP_MIN_DEN: 0.0252455, MRR: 0.1048680, NDCG: 0.0542027, F1: 0.0365938, HIT_RATE: 0.2186012, ARHR_ALL_HITS: 0.1188028, NOVELTY: 0.0047886, AVERAGE_POPULARITY: 0.0883166, DIVERSITY_MEAN_INTER_LIST: 0.9817803, DIVERSITY_HERFINDAHL: 0.9981756, COVERAGE_ITEM: 0.3980495, COVERAGE_ITEM_HIT: 0.0672869, ITEMS_IN_GT: 0.9870241, COVERAGE_USER: 0.9633909, COVERAGE_USER_HIT: 0.2105984, USERS_IN_GT: 0.9633909, DIVERSITY_GINI: 0.0529598, SHANNON_ENTROPY: 10.3988744, RATIO_DIVERSITY_HERFINDAHL: 0.9985057, RATIO_DIVERSITY_GINI: 0.1047511, RATIO_SHANNON_ENTROPY: 0.7708561, RATIO_AVERAGE_POPULARITY: 1.7277968, RATIO_NOVELTY: 0.3224131, \n",
      "\n",
      "Iteration No: 16 ended. Search finished for the next optimal point.\n",
      "Time taken: 58.6336\n",
      "Function value obtained: -0.0136\n",
      "Current minimum: -0.0173\n",
      "Iteration No: 17 started. Searching for the next optimal point.\n",
      "SearchBayesianSkopt: Testing config: {'alpha': 0.006543136635730919, 'beta': 0.9996681363259675, 'topK': 97, 'implicit': False}\n",
      "RP3betaRecommender: Similarity column 24507 (100.0%), 978.31 column/sec. Elapsed time 25.05 sec\n",
      "EvaluatorHoldout: Processed 40105 (100.0%) in 42.10 sec. Users per second: 953\n",
      "SearchBayesianSkopt: Config 16 is suboptimal. Config: {'alpha': 0.006543136635730919, 'beta': 0.9996681363259675, 'topK': 97, 'implicit': False} - results: PRECISION: 0.0129186, PRECISION_RECALL_MIN_DEN: 0.0233633, RECALL: 0.0220804, MAP: 0.0054687, MAP_MIN_DEN: 0.0099635, MRR: 0.0446816, NDCG: 0.0217351, F1: 0.0163003, HIT_RATE: 0.1055729, ARHR_ALL_HITS: 0.0492653, NOVELTY: 0.0058751, AVERAGE_POPULARITY: 0.0148147, DIVERSITY_MEAN_INTER_LIST: 0.9916726, DIVERSITY_HERFINDAHL: 0.9991648, COVERAGE_ITEM: 0.6829885, COVERAGE_ITEM_HIT: 0.0645122, ITEMS_IN_GT: 0.9870241, COVERAGE_USER: 0.9633909, COVERAGE_USER_HIT: 0.1017079, USERS_IN_GT: 0.9633909, DIVERSITY_GINI: 0.1681349, SHANNON_ENTROPY: 12.0332251, RATIO_DIVERSITY_HERFINDAHL: 0.9994952, RATIO_DIVERSITY_GINI: 0.3325604, RATIO_SHANNON_ENTROPY: 0.8920086, RATIO_AVERAGE_POPULARITY: 0.2898293, RATIO_NOVELTY: 0.3955667, \n",
      "\n",
      "Iteration No: 17 ended. Search finished for the next optimal point.\n",
      "Time taken: 69.6848\n",
      "Function value obtained: -0.0055\n",
      "Current minimum: -0.0173\n",
      "Iteration No: 18 started. Searching for the next optimal point.\n",
      "SearchBayesianSkopt: Testing config: {'alpha': 0.21810288411404988, 'beta': 0.4221797328394852, 'topK': 1, 'implicit': False}\n",
      "RP3betaRecommender: Similarity column 24507 (100.0%), 1132.82 column/sec. Elapsed time 21.63 sec\n",
      "EvaluatorHoldout: Processed 40105 (100.0%) in 33.59 sec. Users per second: 1194\n",
      "SearchBayesianSkopt: Config 17 is suboptimal. Config: {'alpha': 0.21810288411404988, 'beta': 0.4221797328394852, 'topK': 1, 'implicit': False} - results: PRECISION: 0.0106221, PRECISION_RECALL_MIN_DEN: 0.0186297, RECALL: 0.0175546, MAP: 0.0044660, MAP_MIN_DEN: 0.0079737, MRR: 0.0404741, NDCG: 0.0181649, F1: 0.0132355, HIT_RATE: 0.0954993, ARHR_ALL_HITS: 0.0424987, NOVELTY: 0.0059455, AVERAGE_POPULARITY: 0.0202280, DIVERSITY_MEAN_INTER_LIST: 0.9676209, DIVERSITY_HERFINDAHL: 0.9967597, COVERAGE_ITEM: 0.5724079, COVERAGE_ITEM_HIT: 0.0504754, ITEMS_IN_GT: 0.9870241, COVERAGE_USER: 0.9633909, COVERAGE_USER_HIT: 0.0920032, USERS_IN_GT: 0.9633909, DIVERSITY_GINI: 0.3017341, SHANNON_ENTROPY: 12.1776612, RATIO_DIVERSITY_HERFINDAHL: 0.9970893, RATIO_DIVERSITY_GINI: 0.5968112, RATIO_SHANNON_ENTROPY: 0.9027155, RATIO_AVERAGE_POPULARITY: 0.3957336, RATIO_NOVELTY: 0.4003069, \n",
      "\n",
      "Iteration No: 18 ended. Search finished for the next optimal point.\n",
      "Time taken: 56.8013\n",
      "Function value obtained: -0.0045\n",
      "Current minimum: -0.0173\n",
      "Iteration No: 19 started. Searching for the next optimal point.\n",
      "SearchBayesianSkopt: Testing config: {'alpha': 0.3985560576021999, 'beta': 0.010932745064991091, 'topK': 638, 'implicit': False}\n",
      "RP3betaRecommender: Similarity column 24507 (100.0%), 467.97 column/sec. Elapsed time 52.37 sec\n",
      "EvaluatorHoldout: Processed 40105 (100.0%) in 53.68 sec. Users per second: 747\n",
      "SearchBayesianSkopt: Config 18 is suboptimal. Config: {'alpha': 0.3985560576021999, 'beta': 0.010932745064991091, 'topK': 638, 'implicit': False} - results: PRECISION: 0.0351926, PRECISION_RECALL_MIN_DEN: 0.0684478, RECALL: 0.0657642, MAP: 0.0151543, MAP_MIN_DEN: 0.0291060, MRR: 0.1158337, NDCG: 0.0660247, F1: 0.0458496, HIT_RATE: 0.2671737, ARHR_ALL_HITS: 0.1320025, NOVELTY: 0.0038993, AVERAGE_POPULARITY: 0.3151466, DIVERSITY_MEAN_INTER_LIST: 0.8071767, DIVERSITY_HERFINDAHL: 0.9807157, COVERAGE_ITEM: 0.0958502, COVERAGE_ITEM_HIT: 0.0290121, ITEMS_IN_GT: 0.9870241, COVERAGE_USER: 0.9633909, COVERAGE_USER_HIT: 0.2573927, USERS_IN_GT: 0.9633909, DIVERSITY_GINI: 0.0057074, SHANNON_ENTROPY: 6.9996719, RATIO_DIVERSITY_HERFINDAHL: 0.9810400, RATIO_DIVERSITY_GINI: 0.0112888, RATIO_SHANNON_ENTROPY: 0.5188773, RATIO_AVERAGE_POPULARITY: 6.1654220, RATIO_NOVELTY: 0.2625409, \n",
      "\n",
      "Iteration No: 19 ended. Search finished for the next optimal point.\n",
      "Time taken: 114.5360\n",
      "Function value obtained: -0.0152\n",
      "Current minimum: -0.0173\n",
      "Iteration No: 20 started. Searching for the next optimal point.\n",
      "SearchBayesianSkopt: Testing config: {'alpha': 0.08188954700994587, 'beta': 0.5098835387346782, 'topK': 716, 'implicit': False}\n",
      "RP3betaRecommender: Similarity column 24507 (100.0%), 465.31 column/sec. Elapsed time 52.67 sec\n",
      "EvaluatorHoldout: Processed 40105 (100.0%) in 1.02 min. Users per second: 654\n",
      "SearchBayesianSkopt: Config 19 is suboptimal. Config: {'alpha': 0.08188954700994587, 'beta': 0.5098835387346782, 'topK': 716, 'implicit': False} - results: PRECISION: 0.0374791, PRECISION_RECALL_MIN_DEN: 0.0710938, RECALL: 0.0681865, MAP: 0.0170732, MAP_MIN_DEN: 0.0319952, MRR: 0.1269845, NDCG: 0.0708211, F1: 0.0483709, HIT_RATE: 0.2762000, ARHR_ALL_HITS: 0.1465957, NOVELTY: 0.0044554, AVERAGE_POPULARITY: 0.2071623, DIVERSITY_MEAN_INTER_LIST: 0.9218622, DIVERSITY_HERFINDAHL: 0.9921839, COVERAGE_ITEM: 0.7802669, COVERAGE_ITEM_HIT: 0.0524340, ITEMS_IN_GT: 0.9870241, COVERAGE_USER: 0.9633909, COVERAGE_USER_HIT: 0.2660885, USERS_IN_GT: 0.9633909, DIVERSITY_GINI: 0.0810312, SHANNON_ENTROPY: 9.4285985, RATIO_DIVERSITY_HERFINDAHL: 0.9925120, RATIO_DIVERSITY_GINI: 0.1602746, RATIO_SHANNON_ENTROPY: 0.6989307, RATIO_AVERAGE_POPULARITY: 4.0528535, RATIO_NOVELTY: 0.2999779, \n",
      "\n",
      "Iteration No: 20 ended. Search finished for the next optimal point.\n",
      "Time taken: 124.0851\n",
      "Function value obtained: -0.0171\n",
      "Current minimum: -0.0173\n",
      "Iteration No: 21 started. Searching for the next optimal point.\n",
      "SearchBayesianSkopt: Testing config: {'alpha': 1.0, 'beta': 1.0, 'topK': 66, 'implicit': True}\n",
      "RP3betaRecommender: Similarity column 24507 (100.0%), 854.65 column/sec. Elapsed time 28.67 sec\n",
      "EvaluatorHoldout: Processed 40105 (100.0%) in 42.07 sec. Users per second: 953\n",
      "SearchBayesianSkopt: Config 20 is suboptimal. Config: {'alpha': 1.0, 'beta': 1.0, 'topK': 66, 'implicit': True} - results: PRECISION: 0.0107044, PRECISION_RECALL_MIN_DEN: 0.0196508, RECALL: 0.0187346, MAP: 0.0044022, MAP_MIN_DEN: 0.0081046, MRR: 0.0362277, NDCG: 0.0212921, F1: 0.0136243, HIT_RATE: 0.0883930, ARHR_ALL_HITS: 0.0397932, NOVELTY: 0.0060258, AVERAGE_POPULARITY: 0.0161964, DIVERSITY_MEAN_INTER_LIST: 0.9806560, DIVERSITY_HERFINDAHL: 0.9980632, COVERAGE_ITEM: 0.5923206, COVERAGE_ITEM_HIT: 0.0339495, ITEMS_IN_GT: 0.9870241, COVERAGE_USER: 0.9633909, COVERAGE_USER_HIT: 0.0851570, USERS_IN_GT: 0.9633909, DIVERSITY_GINI: 0.1210364, SHANNON_ENTROPY: 11.2969220, RATIO_DIVERSITY_HERFINDAHL: 0.9983932, RATIO_DIVERSITY_GINI: 0.2394025, RATIO_SHANNON_ENTROPY: 0.8374273, RATIO_AVERAGE_POPULARITY: 0.3168615, RATIO_NOVELTY: 0.4057132, \n",
      "\n",
      "Iteration No: 21 ended. Search finished for the next optimal point.\n",
      "Time taken: 74.4689\n",
      "Function value obtained: -0.0044\n",
      "Current minimum: -0.0173\n",
      "Iteration No: 22 started. Searching for the next optimal point.\n",
      "SearchBayesianSkopt: Testing config: {'alpha': 0.5627859113399372, 'beta': 0.004384277539665749, 'topK': 117, 'implicit': True}\n",
      "RP3betaRecommender: Similarity column 24507 (100.0%), 858.43 column/sec. Elapsed time 28.55 sec\n",
      "EvaluatorHoldout: Processed 40105 (100.0%) in 46.09 sec. Users per second: 870\n",
      "SearchBayesianSkopt: Config 21 is suboptimal. Config: {'alpha': 0.5627859113399372, 'beta': 0.004384277539665749, 'topK': 117, 'implicit': True} - results: PRECISION: 0.0368607, PRECISION_RECALL_MIN_DEN: 0.0689910, RECALL: 0.0660517, MAP: 0.0166462, MAP_MIN_DEN: 0.0309375, MRR: 0.1236741, NDCG: 0.0689274, F1: 0.0473162, HIT_RATE: 0.2712879, ARHR_ALL_HITS: 0.1429306, NOVELTY: 0.0044068, AVERAGE_POPULARITY: 0.1637618, DIVERSITY_MEAN_INTER_LIST: 0.9563897, DIVERSITY_HERFINDAHL: 0.9956366, COVERAGE_ITEM: 0.2155711, COVERAGE_ITEM_HIT: 0.0512099, ITEMS_IN_GT: 0.9870241, COVERAGE_USER: 0.9633909, COVERAGE_USER_HIT: 0.2613563, USERS_IN_GT: 0.9633909, DIVERSITY_GINI: 0.0204365, SHANNON_ENTROPY: 9.0506748, RATIO_DIVERSITY_HERFINDAHL: 0.9959658, RATIO_DIVERSITY_GINI: 0.0404221, RATIO_SHANNON_ENTROPY: 0.6709157, RATIO_AVERAGE_POPULARITY: 3.2037811, RATIO_NOVELTY: 0.2967070, \n",
      "\n",
      "Iteration No: 22 ended. Search finished for the next optimal point.\n",
      "Time taken: 77.2482\n",
      "Function value obtained: -0.0166\n",
      "Current minimum: -0.0173\n",
      "Iteration No: 23 started. Searching for the next optimal point.\n",
      "SearchBayesianSkopt: Testing config: {'alpha': 0.8491925791043153, 'beta': 0.0, 'topK': 43, 'implicit': True}\n",
      "RP3betaRecommender: Similarity column 24507 (100.0%), 936.98 column/sec. Elapsed time 26.16 sec\n",
      "EvaluatorHoldout: Processed 40105 (100.0%) in 42.58 sec. Users per second: 942\n",
      "SearchBayesianSkopt: Config 22 is suboptimal. Config: {'alpha': 0.8491925791043153, 'beta': 0.0, 'topK': 43, 'implicit': True} - results: PRECISION: 0.0271612, PRECISION_RECALL_MIN_DEN: 0.0491507, RECALL: 0.0466866, MAP: 0.0125262, MAP_MIN_DEN: 0.0227900, MRR: 0.0970738, NDCG: 0.0505857, F1: 0.0343426, HIT_RATE: 0.2076549, ARHR_ALL_HITS: 0.1098454, NOVELTY: 0.0048578, AVERAGE_POPULARITY: 0.0826710, DIVERSITY_MEAN_INTER_LIST: 0.9829248, DIVERSITY_HERFINDAHL: 0.9982900, COVERAGE_ITEM: 0.3307218, COVERAGE_ITEM_HIT: 0.0542294, ITEMS_IN_GT: 0.9870241, COVERAGE_USER: 0.9633909, COVERAGE_USER_HIT: 0.2000528, USERS_IN_GT: 0.9633909, DIVERSITY_GINI: 0.0384944, SHANNON_ENTROPY: 10.1261831, RATIO_DIVERSITY_HERFINDAHL: 0.9986201, RATIO_DIVERSITY_GINI: 0.0761395, RATIO_SHANNON_ENTROPY: 0.7506418, RATIO_AVERAGE_POPULARITY: 1.6173477, RATIO_NOVELTY: 0.3270702, \n",
      "\n",
      "Iteration No: 23 ended. Search finished for the next optimal point.\n",
      "Time taken: 70.9817\n",
      "Function value obtained: -0.0125\n",
      "Current minimum: -0.0173\n",
      "Iteration No: 24 started. Searching for the next optimal point.\n",
      "SearchBayesianSkopt: Testing config: {'alpha': 0.5985197559868757, 'beta': 0.9888010240343948, 'topK': 681, 'implicit': True}\n",
      "RP3betaRecommender: Similarity column 24507 (100.0%), 403.69 column/sec. Elapsed time 1.01 min\n",
      "EvaluatorHoldout: Processed 40105 (100.0%) in 1.15 min. Users per second: 584\n",
      "SearchBayesianSkopt: Config 23 is suboptimal. Config: {'alpha': 0.5985197559868757, 'beta': 0.9888010240343948, 'topK': 681, 'implicit': True} - results: PRECISION: 0.0135594, PRECISION_RECALL_MIN_DEN: 0.0226993, RECALL: 0.0212197, MAP: 0.0056862, MAP_MIN_DEN: 0.0095175, MRR: 0.0444213, NDCG: 0.0240952, F1: 0.0165460, HIT_RATE: 0.1059718, ARHR_ALL_HITS: 0.0500529, NOVELTY: 0.0061734, AVERAGE_POPULARITY: 0.0130837, DIVERSITY_MEAN_INTER_LIST: 0.9952953, DIVERSITY_HERFINDAHL: 0.9995270, COVERAGE_ITEM: 0.7620272, COVERAGE_ITEM_HIT: 0.0570041, ITEMS_IN_GT: 0.9870241, COVERAGE_USER: 0.9633909, COVERAGE_USER_HIT: 0.1020923, USERS_IN_GT: 0.9633909, DIVERSITY_GINI: 0.2280964, SHANNON_ENTROPY: 12.6161981, RATIO_DIVERSITY_HERFINDAHL: 0.9998576, RATIO_DIVERSITY_GINI: 0.4511604, RATIO_SHANNON_ENTROPY: 0.9352237, RATIO_AVERAGE_POPULARITY: 0.2559655, RATIO_NOVELTY: 0.4156544, \n",
      "\n",
      "Iteration No: 24 ended. Search finished for the next optimal point.\n",
      "Time taken: 140.6448\n",
      "Function value obtained: -0.0057\n",
      "Current minimum: -0.0173\n",
      "Iteration No: 25 started. Searching for the next optimal point.\n",
      "SearchBayesianSkopt: Testing config: {'alpha': 0.487205370442318, 'beta': 0.0, 'topK': 125, 'implicit': False}\n",
      "RP3betaRecommender: Similarity column 24507 (100.0%), 730.01 column/sec. Elapsed time 33.57 sec\n",
      "EvaluatorHoldout: Processed 40105 (100.0%) in 50.11 sec. Users per second: 800\n",
      "SearchBayesianSkopt: Config 24 is suboptimal. Config: {'alpha': 0.487205370442318, 'beta': 0.0, 'topK': 125, 'implicit': False} - results: PRECISION: 0.0369729, PRECISION_RECALL_MIN_DEN: 0.0694159, RECALL: 0.0664842, MAP: 0.0166783, MAP_MIN_DEN: 0.0310695, MRR: 0.1239178, NDCG: 0.0694311, F1: 0.0475195, HIT_RATE: 0.2724847, ARHR_ALL_HITS: 0.1431922, NOVELTY: 0.0043729, AVERAGE_POPULARITY: 0.1699444, DIVERSITY_MEAN_INTER_LIST: 0.9527893, DIVERSITY_HERFINDAHL: 0.9952766, COVERAGE_ITEM: 0.2078998, COVERAGE_ITEM_HIT: 0.0508018, ITEMS_IN_GT: 0.9870241, COVERAGE_USER: 0.9633909, COVERAGE_USER_HIT: 0.2625093, USERS_IN_GT: 0.9633909, DIVERSITY_GINI: 0.0194781, SHANNON_ENTROPY: 8.9588807, RATIO_DIVERSITY_HERFINDAHL: 0.9956057, RATIO_DIVERSITY_GINI: 0.0385265, RATIO_SHANNON_ENTROPY: 0.6641111, RATIO_AVERAGE_POPULARITY: 3.3247346, RATIO_NOVELTY: 0.2944236, \n",
      "\n",
      "Iteration No: 25 ended. Search finished for the next optimal point.\n",
      "Time taken: 86.3711\n",
      "Function value obtained: -0.0167\n",
      "Current minimum: -0.0173\n",
      "Iteration No: 26 started. Searching for the next optimal point.\n",
      "SearchBayesianSkopt: Testing config: {'alpha': 0.3848682627100833, 'beta': 0.36189136978424513, 'topK': 64, 'implicit': True}\n",
      "RP3betaRecommender: Similarity column 24507 (100.0%), 723.64 column/sec. Elapsed time 33.87 sec\n",
      "EvaluatorHoldout: Processed 40105 (100.0%) in 54.17 sec. Users per second: 740\n",
      "SearchBayesianSkopt: New best config found. Config 25: {'alpha': 0.3848682627100833, 'beta': 0.36189136978424513, 'topK': 64, 'implicit': True} - results: PRECISION: 0.0384516, PRECISION_RECALL_MIN_DEN: 0.0728186, RECALL: 0.0698039, MAP: 0.0174985, MAP_MIN_DEN: 0.0327989, MRR: 0.1286055, NDCG: 0.0739459, F1: 0.0495877, HIT_RATE: 0.2804887, ARHR_ALL_HITS: 0.1493696, NOVELTY: 0.0045792, AVERAGE_POPULARITY: 0.1624009, DIVERSITY_MEAN_INTER_LIST: 0.9605251, DIVERSITY_HERFINDAHL: 0.9960501, COVERAGE_ITEM: 0.6861713, COVERAGE_ITEM_HIT: 0.0637369, ITEMS_IN_GT: 0.9870241, COVERAGE_USER: 0.9633909, COVERAGE_USER_HIT: 0.2702203, USERS_IN_GT: 0.9633909, DIVERSITY_GINI: 0.0707355, SHANNON_ENTROPY: 9.9832275, RATIO_DIVERSITY_HERFINDAHL: 0.9963795, RATIO_DIVERSITY_GINI: 0.1399103, RATIO_SHANNON_ENTROPY: 0.7400447, RATIO_AVERAGE_POPULARITY: 3.1771564, RATIO_NOVELTY: 0.3083131, \n",
      "\n",
      "Iteration No: 26 ended. Search finished for the next optimal point.\n",
      "Time taken: 90.7881\n",
      "Function value obtained: -0.0175\n",
      "Current minimum: -0.0175\n",
      "Iteration No: 27 started. Searching for the next optimal point.\n",
      "SearchBayesianSkopt: Testing config: {'alpha': 0.14306484285025872, 'beta': 1.0, 'topK': 751, 'implicit': True}\n",
      "RP3betaRecommender: Similarity column 24507 (100.0%), 393.37 column/sec. Elapsed time 1.04 min\n",
      "EvaluatorHoldout: Processed 40105 (100.0%) in 1.59 min. Users per second: 419\n",
      "SearchBayesianSkopt: Config 26 is suboptimal. Config: {'alpha': 0.14306484285025872, 'beta': 1.0, 'topK': 751, 'implicit': True} - results: PRECISION: 0.0119187, PRECISION_RECALL_MIN_DEN: 0.0205817, RECALL: 0.0193278, MAP: 0.0050043, MAP_MIN_DEN: 0.0087232, MRR: 0.0404406, NDCG: 0.0197692, F1: 0.0147448, HIT_RATE: 0.0964468, ARHR_ALL_HITS: 0.0448190, NOVELTY: 0.0061721, AVERAGE_POPULARITY: 0.0098203, DIVERSITY_MEAN_INTER_LIST: 0.9957543, DIVERSITY_HERFINDAHL: 0.9995729, COVERAGE_ITEM: 0.7813686, COVERAGE_ITEM_HIT: 0.0621863, ITEMS_IN_GT: 0.9870241, COVERAGE_USER: 0.9633909, COVERAGE_USER_HIT: 0.0929160, USERS_IN_GT: 0.9633909, DIVERSITY_GINI: 0.2248180, SHANNON_ENTROPY: 12.6062324, RATIO_DIVERSITY_HERFINDAHL: 0.9999035, RATIO_DIVERSITY_GINI: 0.4446759, RATIO_SHANNON_ENTROPY: 0.9344849, RATIO_AVERAGE_POPULARITY: 0.1921208, RATIO_NOVELTY: 0.4155680, \n",
      "\n",
      "Iteration No: 27 ended. Search finished for the next optimal point.\n",
      "Time taken: 170.4102\n",
      "Function value obtained: -0.0050\n",
      "Current minimum: -0.0175\n",
      "Iteration No: 28 started. Searching for the next optimal point.\n",
      "SearchBayesianSkopt: Testing config: {'alpha': 0.5315899260470722, 'beta': 0.37616243557242957, 'topK': 390, 'implicit': False}\n",
      "RP3betaRecommender: Similarity column 24507 (100.0%), 278.75 column/sec. Elapsed time 1.47 min\n",
      "EvaluatorHoldout: Processed 40105 (100.0%) in 1.69 min. Users per second: 397\n",
      "SearchBayesianSkopt: Config 27 is suboptimal. Config: {'alpha': 0.5315899260470722, 'beta': 0.37616243557242957, 'topK': 390, 'implicit': False} - results: PRECISION: 0.0370677, PRECISION_RECALL_MIN_DEN: 0.0715508, RECALL: 0.0687368, MAP: 0.0164166, MAP_MIN_DEN: 0.0312751, MRR: 0.1231649, NDCG: 0.0720975, F1: 0.0481627, HIT_RATE: 0.2761750, ARHR_ALL_HITS: 0.1415954, NOVELTY: 0.0042010, AVERAGE_POPULARITY: 0.2594981, DIVERSITY_MEAN_INTER_LIST: 0.8649619, DIVERSITY_HERFINDAHL: 0.9864940, COVERAGE_ITEM: 0.5837516, COVERAGE_ITEM_HIT: 0.0442731, ITEMS_IN_GT: 0.9870241, COVERAGE_USER: 0.9633909, COVERAGE_USER_HIT: 0.2660645, USERS_IN_GT: 0.9633909, DIVERSITY_GINI: 0.0376243, SHANNON_ENTROPY: 8.3354282, RATIO_DIVERSITY_HERFINDAHL: 0.9868202, RATIO_DIVERSITY_GINI: 0.0744185, RATIO_SHANNON_ENTROPY: 0.6178953, RATIO_AVERAGE_POPULARITY: 5.0767349, RATIO_NOVELTY: 0.2828512, \n",
      "\n",
      "Iteration No: 28 ended. Search finished for the next optimal point.\n",
      "Time taken: 201.8567\n",
      "Function value obtained: -0.0164\n",
      "Current minimum: -0.0175\n",
      "Iteration No: 29 started. Searching for the next optimal point.\n",
      "SearchBayesianSkopt: Testing config: {'alpha': 0.8126478171567251, 'beta': 1.0, 'topK': 196, 'implicit': True}\n",
      "RP3betaRecommender: Similarity column 24507 (100.0%), 437.36 column/sec. Elapsed time 56.03 sec\n",
      "EvaluatorHoldout: Processed 40105 (100.0%) in 1.36 min. Users per second: 490\n",
      "SearchBayesianSkopt: Config 28 is suboptimal. Config: {'alpha': 0.8126478171567251, 'beta': 1.0, 'topK': 196, 'implicit': True} - results: PRECISION: 0.0122154, PRECISION_RECALL_MIN_DEN: 0.0217116, RECALL: 0.0205727, MAP: 0.0051150, MAP_MIN_DEN: 0.0091235, MRR: 0.0414433, NDCG: 0.0235063, F1: 0.0153290, HIT_RATE: 0.0992395, ARHR_ALL_HITS: 0.0458691, NOVELTY: 0.0061160, AVERAGE_POPULARITY: 0.0148893, DIVERSITY_MEAN_INTER_LIST: 0.9890631, DIVERSITY_HERFINDAHL: 0.9989038, COVERAGE_ITEM: 0.6603827, COVERAGE_ITEM_HIT: 0.0443955, ITEMS_IN_GT: 0.9870241, COVERAGE_USER: 0.9633909, COVERAGE_USER_HIT: 0.0956064, USERS_IN_GT: 0.9633909, DIVERSITY_GINI: 0.1557777, SHANNON_ENTROPY: 11.8640469, RATIO_DIVERSITY_HERFINDAHL: 0.9992342, RATIO_DIVERSITY_GINI: 0.3081185, RATIO_SHANNON_ENTROPY: 0.8794676, RATIO_AVERAGE_POPULARITY: 0.2912899, RATIO_NOVELTY: 0.4117884, \n",
      "\n",
      "Iteration No: 29 ended. Search finished for the next optimal point.\n",
      "Time taken: 145.3185\n",
      "Function value obtained: -0.0051\n",
      "Current minimum: -0.0175\n",
      "Iteration No: 30 started. Searching for the next optimal point.\n",
      "SearchBayesianSkopt: Testing config: {'alpha': 0.601033461822827, 'beta': 0.28803383943437916, 'topK': 486, 'implicit': False}\n",
      "RP3betaRecommender: Similarity column 24507 (100.0%), 282.52 column/sec. Elapsed time 1.45 min\n",
      "EvaluatorHoldout: Processed 40105 (100.0%) in 1.50 min. Users per second: 445\n",
      "SearchBayesianSkopt: Config 29 is suboptimal. Config: {'alpha': 0.601033461822827, 'beta': 0.28803383943437916, 'topK': 486, 'implicit': False} - results: PRECISION: 0.0361725, PRECISION_RECALL_MIN_DEN: 0.0702152, RECALL: 0.0674497, MAP: 0.0156910, MAP_MIN_DEN: 0.0301399, MRR: 0.1188352, NDCG: 0.0698511, F1: 0.0470908, HIT_RATE: 0.2719860, ARHR_ALL_HITS: 0.1360328, NOVELTY: 0.0040837, AVERAGE_POPULARITY: 0.2886316, DIVERSITY_MEAN_INTER_LIST: 0.8271352, DIVERSITY_HERFINDAHL: 0.9827115, COVERAGE_ITEM: 0.4582364, COVERAGE_ITEM_HIT: 0.0390909, ITEMS_IN_GT: 0.9870241, COVERAGE_USER: 0.9633909, COVERAGE_USER_HIT: 0.2620289, USERS_IN_GT: 0.9633909, DIVERSITY_GINI: 0.0235717, SHANNON_ENTROPY: 7.7877883, RATIO_DIVERSITY_HERFINDAHL: 0.9830364, RATIO_DIVERSITY_GINI: 0.0466233, RATIO_SHANNON_ENTROPY: 0.5772994, RATIO_AVERAGE_POPULARITY: 5.6466912, RATIO_NOVELTY: 0.2749547, \n",
      "\n",
      "Iteration No: 30 ended. Search finished for the next optimal point.\n",
      "Time taken: 190.2156\n",
      "Function value obtained: -0.0157\n",
      "Current minimum: -0.0175\n",
      "Iteration No: 31 started. Searching for the next optimal point.\n",
      "SearchBayesianSkopt: Testing config: {'alpha': 0.9132069995335129, 'beta': 0.477467653691128, 'topK': 197, 'implicit': True}\n",
      "RP3betaRecommender: Similarity column 24507 (100.0%), 446.73 column/sec. Elapsed time 54.86 sec\n",
      "EvaluatorHoldout: Processed 40105 (100.0%) in 1.32 min. Users per second: 505\n",
      "SearchBayesianSkopt: Config 30 is suboptimal. Config: {'alpha': 0.9132069995335129, 'beta': 0.477467653691128, 'topK': 197, 'implicit': True} - results: PRECISION: 0.0355716, PRECISION_RECALL_MIN_DEN: 0.0677691, RECALL: 0.0650062, MAP: 0.0151565, MAP_MIN_DEN: 0.0284703, MRR: 0.1134991, NDCG: 0.0689733, F1: 0.0459818, HIT_RATE: 0.2656277, ARHR_ALL_HITS: 0.1306110, NOVELTY: 0.0044379, AVERAGE_POPULARITY: 0.2087718, DIVERSITY_MEAN_INTER_LIST: 0.9081014, DIVERSITY_HERFINDAHL: 0.9908079, COVERAGE_ITEM: 0.5616763, COVERAGE_ITEM_HIT: 0.0445179, ITEMS_IN_GT: 0.9870241, COVERAGE_USER: 0.9633909, COVERAGE_USER_HIT: 0.2559033, USERS_IN_GT: 0.9633909, DIVERSITY_GINI: 0.0443938, SHANNON_ENTROPY: 8.9575400, RATIO_DIVERSITY_HERFINDAHL: 0.9911355, RATIO_DIVERSITY_GINI: 0.0878081, RATIO_SHANNON_ENTROPY: 0.6640117, RATIO_AVERAGE_POPULARITY: 4.0843425, RATIO_NOVELTY: 0.2988023, \n",
      "\n",
      "Iteration No: 31 ended. Search finished for the next optimal point.\n",
      "Time taken: 142.0556\n",
      "Function value obtained: -0.0152\n",
      "Current minimum: -0.0175\n",
      "Iteration No: 32 started. Searching for the next optimal point.\n",
      "SearchBayesianSkopt: Testing config: {'alpha': 0.99852718244297, 'beta': 0.38542091374941245, 'topK': 711, 'implicit': True}\n",
      "RP3betaRecommender: Similarity column 24507 (100.0%), 246.68 column/sec. Elapsed time 1.66 min\n",
      "EvaluatorHoldout: Processed 40105 (100.0%) in 1.19 min. Users per second: 563\n",
      "SearchBayesianSkopt: Config 31 is suboptimal. Config: {'alpha': 0.99852718244297, 'beta': 0.38542091374941245, 'topK': 711, 'implicit': True} - results: PRECISION: 0.0331355, PRECISION_RECALL_MIN_DEN: 0.0632164, RECALL: 0.0606338, MAP: 0.0136484, MAP_MIN_DEN: 0.0256236, MRR: 0.1032800, NDCG: 0.0638515, F1: 0.0428527, HIT_RATE: 0.2513652, ARHR_ALL_HITS: 0.1182914, NOVELTY: 0.0043274, AVERAGE_POPULARITY: 0.2470824, DIVERSITY_MEAN_INTER_LIST: 0.8534523, DIVERSITY_HERFINDAHL: 0.9853431, COVERAGE_ITEM: 0.5022239, COVERAGE_ITEM_HIT: 0.0367242, ITEMS_IN_GT: 0.9870241, COVERAGE_USER: 0.9633909, COVERAGE_USER_HIT: 0.2421629, USERS_IN_GT: 0.9633909, DIVERSITY_GINI: 0.0331019, SHANNON_ENTROPY: 8.2558261, RATIO_DIVERSITY_HERFINDAHL: 0.9856689, RATIO_DIVERSITY_GINI: 0.0654734, RATIO_SHANNON_ENTROPY: 0.6119945, RATIO_AVERAGE_POPULARITY: 4.8338383, RATIO_NOVELTY: 0.2913623, \n",
      "\n",
      "Iteration No: 32 ended. Search finished for the next optimal point.\n",
      "Time taken: 187.1221\n",
      "Function value obtained: -0.0136\n",
      "Current minimum: -0.0175\n",
      "Iteration No: 33 started. Searching for the next optimal point.\n",
      "SearchBayesianSkopt: Testing config: {'alpha': 0.2816416413274006, 'beta': 0.9986438766602377, 'topK': 504, 'implicit': True}\n",
      "RP3betaRecommender: Similarity column 24507 (100.0%), 678.10 column/sec. Elapsed time 36.14 sec\n",
      "EvaluatorHoldout: Processed 40105 (100.0%) in 1.25 min. Users per second: 535\n",
      "SearchBayesianSkopt: Config 32 is suboptimal. Config: {'alpha': 0.2816416413274006, 'beta': 0.9986438766602377, 'topK': 504, 'implicit': True} - results: PRECISION: 0.0135370, PRECISION_RECALL_MIN_DEN: 0.0233955, RECALL: 0.0219943, MAP: 0.0057404, MAP_MIN_DEN: 0.0100724, MRR: 0.0460042, NDCG: 0.0231751, F1: 0.0167591, HIT_RATE: 0.1082159, ARHR_ALL_HITS: 0.0512002, NOVELTY: 0.0061123, AVERAGE_POPULARITY: 0.0124833, DIVERSITY_MEAN_INTER_LIST: 0.9952525, DIVERSITY_HERFINDAHL: 0.9995228, COVERAGE_ITEM: 0.7665973, COVERAGE_ITEM_HIT: 0.0629208, ITEMS_IN_GT: 0.9870241, COVERAGE_USER: 0.9633909, COVERAGE_USER_HIT: 0.1042542, USERS_IN_GT: 0.9633909, DIVERSITY_GINI: 0.2123168, SHANNON_ENTROPY: 12.5098860, RATIO_DIVERSITY_HERFINDAHL: 0.9998533, RATIO_DIVERSITY_GINI: 0.4199494, RATIO_SHANNON_ENTROPY: 0.9273429, RATIO_AVERAGE_POPULARITY: 0.2442185, RATIO_NOVELTY: 0.4115363, \n",
      "\n",
      "Iteration No: 33 ended. Search finished for the next optimal point.\n",
      "Time taken: 118.5052\n",
      "Function value obtained: -0.0057\n",
      "Current minimum: -0.0175\n",
      "Iteration No: 34 started. Searching for the next optimal point.\n",
      "SearchBayesianSkopt: Testing config: {'alpha': 0.46736002926257003, 'beta': 0.27547962932622766, 'topK': 745, 'implicit': False}\n",
      "RP3betaRecommender: Similarity column 24507 (100.0%), 212.18 column/sec. Elapsed time 1.92 min\n",
      "EvaluatorHoldout: Processed 40105 (100.0%) in 2.58 min. Users per second: 259\n",
      "SearchBayesianSkopt: Config 33 is suboptimal. Config: {'alpha': 0.46736002926257003, 'beta': 0.27547962932622766, 'topK': 745, 'implicit': False} - results: PRECISION: 0.0359082, PRECISION_RECALL_MIN_DEN: 0.0695201, RECALL: 0.0667958, MAP: 0.0156789, MAP_MIN_DEN: 0.0300737, MRR: 0.1192478, NDCG: 0.0688710, F1: 0.0467074, HIT_RATE: 0.2705398, ARHR_ALL_HITS: 0.1362135, NOVELTY: 0.0040371, AVERAGE_POPULARITY: 0.3037393, DIVERSITY_MEAN_INTER_LIST: 0.8084005, DIVERSITY_HERFINDAHL: 0.9808380, COVERAGE_ITEM: 0.4856164, COVERAGE_ITEM_HIT: 0.0376219, ITEMS_IN_GT: 0.9870241, COVERAGE_USER: 0.9633909, COVERAGE_USER_HIT: 0.2606356, USERS_IN_GT: 0.9633909, DIVERSITY_GINI: 0.0244026, SHANNON_ENTROPY: 7.6220516, RATIO_DIVERSITY_HERFINDAHL: 0.9811624, RATIO_DIVERSITY_GINI: 0.0482669, RATIO_SHANNON_ENTROPY: 0.5650136, RATIO_AVERAGE_POPULARITY: 5.9422533, RATIO_NOVELTY: 0.2718175, \n",
      "\n",
      "Iteration No: 34 ended. Search finished for the next optimal point.\n",
      "Time taken: 294.9730\n",
      "Function value obtained: -0.0157\n",
      "Current minimum: -0.0175\n",
      "Iteration No: 35 started. Searching for the next optimal point.\n",
      "SearchBayesianSkopt: Testing config: {'alpha': 0.7875503593984642, 'beta': 0.26025020598214527, 'topK': 65, 'implicit': False}\n",
      "RP3betaRecommender: Similarity column 24507 (100.0%), 333.72 column/sec. Elapsed time 1.22 min\n",
      "EvaluatorHoldout: Processed 40105 (100.0%) in 2.20 min. Users per second: 304\n",
      "SearchBayesianSkopt: Config 34 is suboptimal. Config: {'alpha': 0.7875503593984642, 'beta': 0.26025020598214527, 'topK': 65, 'implicit': False} - results: PRECISION: 0.0383543, PRECISION_RECALL_MIN_DEN: 0.0721892, RECALL: 0.0691119, MAP: 0.0170524, MAP_MIN_DEN: 0.0318333, MRR: 0.1253206, NDCG: 0.0730257, F1: 0.0493316, HIT_RATE: 0.2804638, ARHR_ALL_HITS: 0.1454803, NOVELTY: 0.0045401, AVERAGE_POPULARITY: 0.1736110, DIVERSITY_MEAN_INTER_LIST: 0.9524909, DIVERSITY_HERFINDAHL: 0.9952467, COVERAGE_ITEM: 0.5359285, COVERAGE_ITEM_HIT: 0.0549639, ITEMS_IN_GT: 0.9870241, COVERAGE_USER: 0.9633909, COVERAGE_USER_HIT: 0.2701963, USERS_IN_GT: 0.9633909, DIVERSITY_GINI: 0.0455042, SHANNON_ENTROPY: 9.5903122, RATIO_DIVERSITY_HERFINDAHL: 0.9955758, RATIO_DIVERSITY_GINI: 0.0900045, RATIO_SHANNON_ENTROPY: 0.7109184, RATIO_AVERAGE_POPULARITY: 3.3964677, RATIO_NOVELTY: 0.3056806, \n",
      "\n",
      "Iteration No: 35 ended. Search finished for the next optimal point.\n",
      "Time taken: 212.3315\n",
      "Function value obtained: -0.0171\n",
      "Current minimum: -0.0175\n",
      "Iteration No: 36 started. Searching for the next optimal point.\n",
      "SearchBayesianSkopt: Testing config: {'alpha': 0.9984940302059834, 'beta': 0.003011364354340969, 'topK': 354, 'implicit': False}\n",
      "RP3betaRecommender: Similarity column 24507 (100.0%), 184.51 column/sec. Elapsed time 2.21 min\n",
      "EvaluatorHoldout: Processed 40105 (100.0%) in 2.75 min. Users per second: 243\n",
      "SearchBayesianSkopt: Config 35 is suboptimal. Config: {'alpha': 0.9984940302059834, 'beta': 0.003011364354340969, 'topK': 354, 'implicit': False} - results: PRECISION: 0.0356863, PRECISION_RECALL_MIN_DEN: 0.0678493, RECALL: 0.0650375, MAP: 0.0152538, MAP_MIN_DEN: 0.0284886, MRR: 0.1141736, NDCG: 0.0673684, F1: 0.0460854, HIT_RATE: 0.2657275, ARHR_ALL_HITS: 0.1314581, NOVELTY: 0.0041395, AVERAGE_POPULARITY: 0.2471701, DIVERSITY_MEAN_INTER_LIST: 0.8864496, DIVERSITY_HERFINDAHL: 0.9886427, COVERAGE_ITEM: 0.0858122, COVERAGE_ITEM_HIT: 0.0319909, ITEMS_IN_GT: 0.9870241, COVERAGE_USER: 0.9633909, COVERAGE_USER_HIT: 0.2559994, USERS_IN_GT: 0.9633909, DIVERSITY_GINI: 0.0083941, SHANNON_ENTROPY: 7.7561326, RATIO_DIVERSITY_HERFINDAHL: 0.9889697, RATIO_DIVERSITY_GINI: 0.0166029, RATIO_SHANNON_ENTROPY: 0.5749528, RATIO_AVERAGE_POPULARITY: 4.8355533, RATIO_NOVELTY: 0.2787102, \n",
      "\n",
      "Iteration No: 36 ended. Search finished for the next optimal point.\n",
      "Time taken: 318.3410\n",
      "Function value obtained: -0.0153\n",
      "Current minimum: -0.0175\n",
      "Iteration No: 37 started. Searching for the next optimal point.\n",
      "SearchBayesianSkopt: Testing config: {'alpha': 0.20715423372117397, 'beta': 0.0032932702788879284, 'topK': 318, 'implicit': True}\n",
      "RP3betaRecommender: Similarity column 24507 (100.0%), 184.08 column/sec. Elapsed time 2.22 min\n",
      "EvaluatorHoldout: Processed 40105 (100.0%) in 2.72 min. Users per second: 245\n",
      "SearchBayesianSkopt: Config 36 is suboptimal. Config: {'alpha': 0.20715423372117397, 'beta': 0.0032932702788879284, 'topK': 318, 'implicit': True} - results: PRECISION: 0.0371325, PRECISION_RECALL_MIN_DEN: 0.0713355, RECALL: 0.0684573, MAP: 0.0161744, MAP_MIN_DEN: 0.0306343, MRR: 0.1212924, NDCG: 0.0689882, F1: 0.0481484, HIT_RATE: 0.2765241, ARHR_ALL_HITS: 0.1394963, NOVELTY: 0.0040400, AVERAGE_POPULARITY: 0.2647922, DIVERSITY_MEAN_INTER_LIST: 0.8772174, DIVERSITY_HERFINDAHL: 0.9877195, COVERAGE_ITEM: 0.1214755, COVERAGE_ITEM_HIT: 0.0370914, ITEMS_IN_GT: 0.9870241, COVERAGE_USER: 0.9633909, COVERAGE_USER_HIT: 0.2664008, USERS_IN_GT: 0.9633909, DIVERSITY_GINI: 0.0089636, SHANNON_ENTROPY: 7.6962841, RATIO_DIVERSITY_HERFINDAHL: 0.9880462, RATIO_DIVERSITY_GINI: 0.0177295, RATIO_SHANNON_ENTROPY: 0.5705163, RATIO_AVERAGE_POPULARITY: 5.1803063, RATIO_NOVELTY: 0.2720132, \n",
      "\n",
      "Iteration No: 37 ended. Search finished for the next optimal point.\n",
      "Time taken: 314.6984\n",
      "Function value obtained: -0.0162\n",
      "Current minimum: -0.0175\n",
      "Iteration No: 38 started. Searching for the next optimal point.\n",
      "SearchBayesianSkopt: Testing config: {'alpha': 0.1777476806808819, 'beta': 0.21786276378221264, 'topK': 480, 'implicit': True}\n",
      "RP3betaRecommender: Similarity column 24507 (100.0%), 151.32 column/sec. Elapsed time 2.70 min\n",
      "EvaluatorHoldout: Processed 40105 (100.0%) in 3.12 min. Users per second: 214\n",
      "SearchBayesianSkopt: Config 37 is suboptimal. Config: {'alpha': 0.1777476806808819, 'beta': 0.21786276378221264, 'topK': 480, 'implicit': True} - results: PRECISION: 0.0365142, PRECISION_RECALL_MIN_DEN: 0.0705530, RECALL: 0.0677400, MAP: 0.0162537, MAP_MIN_DEN: 0.0312029, MRR: 0.1233884, NDCG: 0.0693290, F1: 0.0474507, HIT_RATE: 0.2743798, ARHR_ALL_HITS: 0.1410580, NOVELTY: 0.0040425, AVERAGE_POPULARITY: 0.2876675, DIVERSITY_MEAN_INTER_LIST: 0.8407526, DIVERSITY_HERFINDAHL: 0.9840732, COVERAGE_ITEM: 0.3181540, COVERAGE_ITEM_HIT: 0.0393765, ITEMS_IN_GT: 0.9870241, COVERAGE_USER: 0.9633909, COVERAGE_USER_HIT: 0.2643350, USERS_IN_GT: 0.9633909, DIVERSITY_GINI: 0.0155494, SHANNON_ENTROPY: 7.6960655, RATIO_DIVERSITY_HERFINDAHL: 0.9843986, RATIO_DIVERSITY_GINI: 0.0307558, RATIO_SHANNON_ENTROPY: 0.5705001, RATIO_AVERAGE_POPULARITY: 5.6278317, RATIO_NOVELTY: 0.2721821, \n",
      "\n",
      "Iteration No: 38 ended. Search finished for the next optimal point.\n",
      "Time taken: 373.4014\n",
      "Function value obtained: -0.0163\n",
      "Current minimum: -0.0175\n",
      "Iteration No: 39 started. Searching for the next optimal point.\n",
      "SearchBayesianSkopt: Testing config: {'alpha': 0.16200474665759848, 'beta': 0.0, 'topK': 188, 'implicit': False}\n",
      "RP3betaRecommender: Similarity column 24507 (100.0%), 216.13 column/sec. Elapsed time 1.89 min\n",
      "EvaluatorHoldout: Processed 40105 (100.0%) in 2.87 min. Users per second: 233\n",
      "SearchBayesianSkopt: Config 38 is suboptimal. Config: {'alpha': 0.16200474665759848, 'beta': 0.0, 'topK': 188, 'implicit': False} - results: PRECISION: 0.0378232, PRECISION_RECALL_MIN_DEN: 0.0717864, RECALL: 0.0687994, MAP: 0.0168113, MAP_MIN_DEN: 0.0315824, MRR: 0.1251752, NDCG: 0.0705296, F1: 0.0488117, HIT_RATE: 0.2797905, ARHR_ALL_HITS: 0.1444610, NOVELTY: 0.0042394, AVERAGE_POPULARITY: 0.2037858, DIVERSITY_MEAN_INTER_LIST: 0.9323764, DIVERSITY_HERFINDAHL: 0.9932353, COVERAGE_ITEM: 0.1662382, COVERAGE_ITEM_HIT: 0.0469662, ITEMS_IN_GT: 0.9870241, COVERAGE_USER: 0.9633909, COVERAGE_USER_HIT: 0.2695477, USERS_IN_GT: 0.9633909, DIVERSITY_GINI: 0.0151151, SHANNON_ENTROPY: 8.5208678, RATIO_DIVERSITY_HERFINDAHL: 0.9935638, RATIO_DIVERSITY_GINI: 0.0298968, RATIO_SHANNON_ENTROPY: 0.6316417, RATIO_AVERAGE_POPULARITY: 3.9867978, RATIO_NOVELTY: 0.2854382, \n",
      "\n",
      "Iteration No: 39 ended. Search finished for the next optimal point.\n",
      "Time taken: 298.0650\n",
      "Function value obtained: -0.0168\n",
      "Current minimum: -0.0175\n",
      "Iteration No: 40 started. Searching for the next optimal point.\n",
      "SearchBayesianSkopt: Testing config: {'alpha': 0.6371057552567033, 'beta': 0.008815462697699951, 'topK': 300, 'implicit': True}\n",
      "RP3betaRecommender: Similarity column 24507 (100.0%), 180.58 column/sec. Elapsed time 2.26 min\n",
      "EvaluatorHoldout: Processed 40105 (100.0%) in 1.97 min. Users per second: 339\n",
      "SearchBayesianSkopt: Config 39 is suboptimal. Config: {'alpha': 0.6371057552567033, 'beta': 0.008815462697699951, 'topK': 300, 'implicit': True} - results: PRECISION: 0.0371475, PRECISION_RECALL_MIN_DEN: 0.0712998, RECALL: 0.0684381, MAP: 0.0160890, MAP_MIN_DEN: 0.0304333, MRR: 0.1206162, NDCG: 0.0698698, F1: 0.0481562, HIT_RATE: 0.2765491, ARHR_ALL_HITS: 0.1387882, NOVELTY: 0.0040589, AVERAGE_POPULARITY: 0.2624010, DIVERSITY_MEAN_INTER_LIST: 0.8790490, DIVERSITY_HERFINDAHL: 0.9879027, COVERAGE_ITEM: 0.1118456, COVERAGE_ITEM_HIT: 0.0361529, ITEMS_IN_GT: 0.9870241, COVERAGE_USER: 0.9633909, COVERAGE_USER_HIT: 0.2664248, USERS_IN_GT: 0.9633909, DIVERSITY_GINI: 0.0087747, SHANNON_ENTROPY: 7.7141672, RATIO_DIVERSITY_HERFINDAHL: 0.9882294, RATIO_DIVERSITY_GINI: 0.0173559, RATIO_SHANNON_ENTROPY: 0.5718420, RATIO_AVERAGE_POPULARITY: 5.1335255, RATIO_NOVELTY: 0.2732852, \n",
      "\n",
      "Iteration No: 40 ended. Search finished for the next optimal point.\n",
      "Time taken: 271.5732\n",
      "Function value obtained: -0.0161\n",
      "Current minimum: -0.0175\n",
      "Iteration No: 41 started. Searching for the next optimal point.\n",
      "SearchBayesianSkopt: Testing config: {'alpha': 0.8481765210625528, 'beta': 0.3460546945242736, 'topK': 754, 'implicit': True}\n",
      "RP3betaRecommender: Similarity column 24507 (100.0%), 216.79 column/sec. Elapsed time 1.88 min\n",
      "EvaluatorHoldout: Processed 40105 (100.0%) in 1.66 min. Users per second: 403\n",
      "SearchBayesianSkopt: Config 40 is suboptimal. Config: {'alpha': 0.8481765210625528, 'beta': 0.3460546945242736, 'topK': 754, 'implicit': True} - results: PRECISION: 0.0344994, PRECISION_RECALL_MIN_DEN: 0.0664920, RECALL: 0.0638453, MAP: 0.0145230, MAP_MIN_DEN: 0.0276121, MRR: 0.1102148, NDCG: 0.0667367, F1: 0.0447940, HIT_RATE: 0.2613639, ARHR_ALL_HITS: 0.1260862, NOVELTY: 0.0042023, AVERAGE_POPULARITY: 0.2730539, DIVERSITY_MEAN_INTER_LIST: 0.8317505, DIVERSITY_HERFINDAHL: 0.9831730, COVERAGE_ITEM: 0.5263802, COVERAGE_ITEM_HIT: 0.0370914, ITEMS_IN_GT: 0.9870241, COVERAGE_USER: 0.9633909, COVERAGE_USER_HIT: 0.2517956, USERS_IN_GT: 0.9633909, DIVERSITY_GINI: 0.0322857, SHANNON_ENTROPY: 8.0269359, RATIO_DIVERSITY_HERFINDAHL: 0.9834981, RATIO_DIVERSITY_GINI: 0.0638590, RATIO_SHANNON_ENTROPY: 0.5950272, RATIO_AVERAGE_POPULARITY: 5.3419344, RATIO_NOVELTY: 0.2829383, \n",
      "\n",
      "Iteration No: 41 ended. Search finished for the next optimal point.\n",
      "Time taken: 232.2543\n",
      "Function value obtained: -0.0145\n",
      "Current minimum: -0.0175\n",
      "Iteration No: 42 started. Searching for the next optimal point.\n",
      "SearchBayesianSkopt: Testing config: {'alpha': 0.9054238402430917, 'beta': 0.9667376736244921, 'topK': 365, 'implicit': False}\n",
      "RP3betaRecommender: Similarity column 24507 (100.0%), 244.54 column/sec. Elapsed time 1.67 min\n",
      "EvaluatorHoldout: Processed 40105 (100.0%) in 1.90 min. Users per second: 352\n",
      "SearchBayesianSkopt: Config 41 is suboptimal. Config: {'alpha': 0.9054238402430917, 'beta': 0.9667376736244921, 'topK': 365, 'implicit': False} - results: PRECISION: 0.0124448, PRECISION_RECALL_MIN_DEN: 0.0216737, RECALL: 0.0204680, MAP: 0.0050167, MAP_MIN_DEN: 0.0087974, MRR: 0.0402890, NDCG: 0.0238412, F1: 0.0154785, HIT_RATE: 0.1003117, ARHR_ALL_HITS: 0.0447824, NOVELTY: 0.0060505, AVERAGE_POPULARITY: 0.0170356, DIVERSITY_MEAN_INTER_LIST: 0.9856508, DIVERSITY_HERFINDAHL: 0.9985626, COVERAGE_ITEM: 0.6933121, COVERAGE_ITEM_HIT: 0.0445179, ITEMS_IN_GT: 0.9870241, COVERAGE_USER: 0.9633909, COVERAGE_USER_HIT: 0.0966394, USERS_IN_GT: 0.9633909, DIVERSITY_GINI: 0.1712792, SHANNON_ENTROPY: 11.8683705, RATIO_DIVERSITY_HERFINDAHL: 0.9988928, RATIO_DIVERSITY_GINI: 0.3387795, RATIO_SHANNON_ENTROPY: 0.8797881, RATIO_AVERAGE_POPULARITY: 0.3332778, RATIO_NOVELTY: 0.4073796, \n",
      "\n",
      "Iteration No: 42 ended. Search finished for the next optimal point.\n",
      "Time taken: 229.6315\n",
      "Function value obtained: -0.0050\n",
      "Current minimum: -0.0175\n",
      "Iteration No: 43 started. Searching for the next optimal point.\n",
      "SearchBayesianSkopt: Testing config: {'alpha': 0.0, 'beta': 0.34102115286817664, 'topK': 792, 'implicit': True}\n",
      "RP3betaRecommender: Similarity column 24507 (100.0%), 188.58 column/sec. Elapsed time 2.17 min\n",
      "EvaluatorHoldout: Processed 40105 (100.0%) in 2.10 min. Users per second: 318\n",
      "SearchBayesianSkopt: Config 42 is suboptimal. Config: {'alpha': 0.0, 'beta': 0.34102115286817664, 'topK': 792, 'implicit': True} - results: PRECISION: 0.0367161, PRECISION_RECALL_MIN_DEN: 0.0706298, RECALL: 0.0678003, MAP: 0.0165613, MAP_MIN_DEN: 0.0314999, MRR: 0.1245115, NDCG: 0.0690996, F1: 0.0476358, HIT_RATE: 0.2734572, ARHR_ALL_HITS: 0.1429782, NOVELTY: 0.0041504, AVERAGE_POPULARITY: 0.2730572, DIVERSITY_MEAN_INTER_LIST: 0.8583062, DIVERSITY_HERFINDAHL: 0.9858285, COVERAGE_ITEM: 0.5666544, COVERAGE_ITEM_HIT: 0.0422328, ITEMS_IN_GT: 0.9870241, COVERAGE_USER: 0.9633909, COVERAGE_USER_HIT: 0.2634462, USERS_IN_GT: 0.9633909, DIVERSITY_GINI: 0.0358896, SHANNON_ENTROPY: 8.1956133, RATIO_DIVERSITY_HERFINDAHL: 0.9861545, RATIO_DIVERSITY_GINI: 0.0709874, RATIO_SHANNON_ENTROPY: 0.6075310, RATIO_AVERAGE_POPULARITY: 5.3420005, RATIO_NOVELTY: 0.2794428, \n",
      "\n",
      "Iteration No: 43 ended. Search finished for the next optimal point.\n",
      "Time taken: 278.4944\n",
      "Function value obtained: -0.0166\n",
      "Current minimum: -0.0175\n",
      "Iteration No: 44 started. Searching for the next optimal point.\n",
      "SearchBayesianSkopt: Testing config: {'alpha': 0.9784089781812253, 'beta': 0.21467072035721474, 'topK': 556, 'implicit': True}\n",
      "RP3betaRecommender: Similarity column 24507 (100.0%), 227.56 column/sec. Elapsed time 1.79 min\n",
      "EvaluatorHoldout: Processed 40105 (100.0%) in 1.89 min. Users per second: 353\n",
      "SearchBayesianSkopt: Config 43 is suboptimal. Config: {'alpha': 0.9784089781812253, 'beta': 0.21467072035721474, 'topK': 556, 'implicit': True} - results: PRECISION: 0.0343972, PRECISION_RECALL_MIN_DEN: 0.0664214, RECALL: 0.0637827, MAP: 0.0143336, MAP_MIN_DEN: 0.0271844, MRR: 0.1086033, NDCG: 0.0658528, F1: 0.0446924, HIT_RATE: 0.2609899, ARHR_ALL_HITS: 0.1243230, NOVELTY: 0.0041113, AVERAGE_POPULARITY: 0.2795750, DIVERSITY_MEAN_INTER_LIST: 0.8310058, DIVERSITY_HERFINDAHL: 0.9830985, COVERAGE_ITEM: 0.2298119, COVERAGE_ITEM_HIT: 0.0322357, ITEMS_IN_GT: 0.9870241, COVERAGE_USER: 0.9633909, COVERAGE_USER_HIT: 0.2514353, USERS_IN_GT: 0.9633909, DIVERSITY_GINI: 0.0114493, SHANNON_ENTROPY: 7.5701370, RATIO_DIVERSITY_HERFINDAHL: 0.9834236, RATIO_DIVERSITY_GINI: 0.0226459, RATIO_SHANNON_ENTROPY: 0.5611652, RATIO_AVERAGE_POPULARITY: 5.4695120, RATIO_NOVELTY: 0.2768113, \n",
      "\n",
      "Iteration No: 44 ended. Search finished for the next optimal point.\n",
      "Time taken: 239.1021\n",
      "Function value obtained: -0.0143\n",
      "Current minimum: -0.0175\n",
      "Iteration No: 45 started. Searching for the next optimal point.\n",
      "SearchBayesianSkopt: Testing config: {'alpha': 0.9779461021668903, 'beta': 0.5281991352463946, 'topK': 376, 'implicit': False}\n",
      "RP3betaRecommender: Similarity column 24507 (100.0%), 268.20 column/sec. Elapsed time 1.52 min\n",
      "EvaluatorHoldout: Processed 40105 (100.0%) in 1.87 min. Users per second: 357\n",
      "SearchBayesianSkopt: Config 44 is suboptimal. Config: {'alpha': 0.9779461021668903, 'beta': 0.5281991352463946, 'topK': 376, 'implicit': False} - results: PRECISION: 0.0331854, PRECISION_RECALL_MIN_DEN: 0.0630261, RECALL: 0.0604294, MAP: 0.0138838, MAP_MIN_DEN: 0.0260093, MRR: 0.1047166, NDCG: 0.0647693, F1: 0.0428431, HIT_RATE: 0.2498442, ARHR_ALL_HITS: 0.1201148, NOVELTY: 0.0045219, AVERAGE_POPULARITY: 0.2062149, DIVERSITY_MEAN_INTER_LIST: 0.8949059, DIVERSITY_HERFINDAHL: 0.9894884, COVERAGE_ITEM: 0.6062758, COVERAGE_ITEM_HIT: 0.0421104, ITEMS_IN_GT: 0.9870241, COVERAGE_USER: 0.9633909, COVERAGE_USER_HIT: 0.2406976, USERS_IN_GT: 0.9633909, DIVERSITY_GINI: 0.0543904, SHANNON_ENTROPY: 8.9970619, RATIO_DIVERSITY_HERFINDAHL: 0.9898156, RATIO_DIVERSITY_GINI: 0.1075808, RATIO_SHANNON_ENTROPY: 0.6669414, RATIO_AVERAGE_POPULARITY: 4.0343189, RATIO_NOVELTY: 0.3044578, \n",
      "\n",
      "Iteration No: 45 ended. Search finished for the next optimal point.\n",
      "Time taken: 218.3162\n",
      "Function value obtained: -0.0139\n",
      "Current minimum: -0.0175\n",
      "Iteration No: 46 started. Searching for the next optimal point.\n",
      "SearchBayesianSkopt: Testing config: {'alpha': 0.00663272242520241, 'beta': 0.5721836284566523, 'topK': 54, 'implicit': False}\n",
      "RP3betaRecommender: Similarity column 24507 (100.0%), 418.84 column/sec. Elapsed time 58.51 sec\n",
      "EvaluatorHoldout: Processed 40105 (100.0%) in 1.43 min. Users per second: 467\n",
      "SearchBayesianSkopt: Config 45 is suboptimal. Config: {'alpha': 0.00663272242520241, 'beta': 0.5721836284566523, 'topK': 54, 'implicit': False} - results: PRECISION: 0.0353098, PRECISION_RECALL_MIN_DEN: 0.0659389, RECALL: 0.0630748, MAP: 0.0158160, MAP_MIN_DEN: 0.0293397, MRR: 0.1174989, NDCG: 0.0654338, F1: 0.0452746, HIT_RATE: 0.2608902, ARHR_ALL_HITS: 0.1356772, NOVELTY: 0.0047815, AVERAGE_POPULARITY: 0.1263805, DIVERSITY_MEAN_INTER_LIST: 0.9753911, DIVERSITY_HERFINDAHL: 0.9975367, COVERAGE_ITEM: 0.6587098, COVERAGE_ITEM_HIT: 0.0710409, ITEMS_IN_GT: 0.9870241, COVERAGE_USER: 0.9633909, COVERAGE_USER_HIT: 0.2513392, USERS_IN_GT: 0.9633909, DIVERSITY_GINI: 0.0916286, SHANNON_ENTROPY: 10.6259934, RATIO_DIVERSITY_HERFINDAHL: 0.9978666, RATIO_DIVERSITY_GINI: 0.1812357, RATIO_SHANNON_ENTROPY: 0.7876922, RATIO_AVERAGE_POPULARITY: 2.4724655, RATIO_NOVELTY: 0.3219337, \n",
      "\n",
      "Iteration No: 46 ended. Search finished for the next optimal point.\n",
      "Time taken: 149.9476\n",
      "Function value obtained: -0.0158\n",
      "Current minimum: -0.0175\n",
      "Iteration No: 47 started. Searching for the next optimal point.\n",
      "SearchBayesianSkopt: Testing config: {'alpha': 0.9928000907969742, 'beta': 0.8182814792968345, 'topK': 190, 'implicit': True}\n",
      "RP3betaRecommender: Similarity column 24507 (100.0%), 346.95 column/sec. Elapsed time 1.18 min\n",
      "EvaluatorHoldout: Processed 40105 (100.0%) in 52.36 sec. Users per second: 766\n",
      "SearchBayesianSkopt: Config 46 is suboptimal. Config: {'alpha': 0.9928000907969742, 'beta': 0.8182814792968345, 'topK': 190, 'implicit': True} - results: PRECISION: 0.0213664, PRECISION_RECALL_MIN_DEN: 0.0392784, RECALL: 0.0374973, MAP: 0.0084464, MAP_MIN_DEN: 0.0154835, MRR: 0.0657913, NDCG: 0.0415741, F1: 0.0272216, HIT_RATE: 0.1677098, ARHR_ALL_HITS: 0.0742768, NOVELTY: 0.0054101, AVERAGE_POPULARITY: 0.0664429, DIVERSITY_MEAN_INTER_LIST: 0.9661152, DIVERSITY_HERFINDAHL: 0.9966091, COVERAGE_ITEM: 0.6640144, COVERAGE_ITEM_HIT: 0.0476190, ITEMS_IN_GT: 0.9870241, COVERAGE_USER: 0.9633909, COVERAGE_USER_HIT: 0.1615701, USERS_IN_GT: 0.9633909, DIVERSITY_GINI: 0.1129076, SHANNON_ENTROPY: 10.7473644, RATIO_DIVERSITY_HERFINDAHL: 0.9969387, RATIO_DIVERSITY_GINI: 0.2233242, RATIO_SHANNON_ENTROPY: 0.7966893, RATIO_AVERAGE_POPULARITY: 1.2998672, RATIO_NOVELTY: 0.3642614, \n",
      "\n",
      "Iteration No: 47 ended. Search finished for the next optimal point.\n",
      "Time taken: 129.9499\n",
      "Function value obtained: -0.0084\n",
      "Current minimum: -0.0175\n",
      "Iteration No: 48 started. Searching for the next optimal point.\n",
      "SearchBayesianSkopt: Testing config: {'alpha': 0.03081244271050721, 'beta': 0.6422109405642826, 'topK': 595, 'implicit': False}\n",
      "RP3betaRecommender: Similarity column 24507 (100.0%), 232.41 column/sec. Elapsed time 1.76 min\n",
      "EvaluatorHoldout: Processed 40105 (100.0%) in 3.02 min. Users per second: 221\n",
      "SearchBayesianSkopt: Config 47 is suboptimal. Config: {'alpha': 0.03081244271050721, 'beta': 0.6422109405642826, 'topK': 595, 'implicit': False} - results: PRECISION: 0.0342576, PRECISION_RECALL_MIN_DEN: 0.0637298, RECALL: 0.0609664, MAP: 0.0151547, MAP_MIN_DEN: 0.0279101, MRR: 0.1129076, NDCG: 0.0624965, F1: 0.0438663, HIT_RATE: 0.2548061, ARHR_ALL_HITS: 0.1302398, NOVELTY: 0.0048243, AVERAGE_POPULARITY: 0.1308645, DIVERSITY_MEAN_INTER_LIST: 0.9668779, DIVERSITY_HERFINDAHL: 0.9966854, COVERAGE_ITEM: 0.8123393, COVERAGE_ITEM_HIT: 0.0639817, ITEMS_IN_GT: 0.9870241, COVERAGE_USER: 0.9633909, COVERAGE_USER_HIT: 0.2454779, USERS_IN_GT: 0.9633909, DIVERSITY_GINI: 0.1203333, SHANNON_ENTROPY: 10.6177072, RATIO_DIVERSITY_HERFINDAHL: 0.9970150, RATIO_DIVERSITY_GINI: 0.2380117, RATIO_SHANNON_ENTROPY: 0.7870779, RATIO_AVERAGE_POPULARITY: 2.5601893, RATIO_NOVELTY: 0.3248152, \n",
      "\n",
      "Iteration No: 48 ended. Search finished for the next optimal point.\n",
      "Time taken: 319.5936\n",
      "Function value obtained: -0.0152\n",
      "Current minimum: -0.0175\n",
      "Iteration No: 49 started. Searching for the next optimal point.\n",
      "SearchBayesianSkopt: Testing config: {'alpha': 0.4831600254559021, 'beta': 0.5119319953288699, 'topK': 323, 'implicit': False}\n",
      "RP3betaRecommender: Similarity column 24507 (100.0%), 201.98 column/sec. Elapsed time 2.02 min\n",
      "EvaluatorHoldout: Processed 40105 (100.0%) in 2.78 min. Users per second: 241\n",
      "SearchBayesianSkopt: Config 48 is suboptimal. Config: {'alpha': 0.4831600254559021, 'beta': 0.5119319953288699, 'topK': 323, 'implicit': False} - results: PRECISION: 0.0375988, PRECISION_RECALL_MIN_DEN: 0.0717984, RECALL: 0.0689253, MAP: 0.0166690, MAP_MIN_DEN: 0.0314266, MRR: 0.1240146, NDCG: 0.0730109, F1: 0.0486558, HIT_RATE: 0.2778706, ARHR_ALL_HITS: 0.1431537, NOVELTY: 0.0044099, AVERAGE_POPULARITY: 0.2115898, DIVERSITY_MEAN_INTER_LIST: 0.9136119, DIVERSITY_HERFINDAHL: 0.9913589, COVERAGE_ITEM: 0.7001265, COVERAGE_ITEM_HIT: 0.0515771, ITEMS_IN_GT: 0.9870241, COVERAGE_USER: 0.9633909, COVERAGE_USER_HIT: 0.2676980, USERS_IN_GT: 0.9633909, DIVERSITY_GINI: 0.0632935, SHANNON_ENTROPY: 9.1895368, RATIO_DIVERSITY_HERFINDAHL: 0.9916867, RATIO_DIVERSITY_GINI: 0.1251906, RATIO_SHANNON_ENTROPY: 0.6812094, RATIO_AVERAGE_POPULARITY: 4.1394722, RATIO_NOVELTY: 0.2969146, \n",
      "\n",
      "Iteration No: 49 ended. Search finished for the next optimal point.\n",
      "Time taken: 310.5617\n",
      "Function value obtained: -0.0167\n",
      "Current minimum: -0.0175\n",
      "Iteration No: 50 started. Searching for the next optimal point.\n",
      "SearchBayesianSkopt: Testing config: {'alpha': 0.00023346933634349481, 'beta': 0.8167156612251532, 'topK': 519, 'implicit': False}\n",
      "RP3betaRecommender: Similarity column 24507 (100.0%), 145.91 column/sec. Elapsed time 2.80 min\n",
      "EvaluatorHoldout: Processed 40105 (100.0%) in 1.61 min. Users per second: 415\n",
      "SearchBayesianSkopt: Config 49 is suboptimal. Config: {'alpha': 0.00023346933634349481, 'beta': 0.8167156612251532, 'topK': 519, 'implicit': False} - results: PRECISION: 0.0218127, PRECISION_RECALL_MIN_DEN: 0.0393851, RECALL: 0.0375004, MAP: 0.0091903, MAP_MIN_DEN: 0.0167580, MRR: 0.0714459, NDCG: 0.0376215, F1: 0.0275820, HIT_RATE: 0.1701783, ARHR_ALL_HITS: 0.0806960, NOVELTY: 0.0054947, AVERAGE_POPULARITY: 0.0397874, DIVERSITY_MEAN_INTER_LIST: 0.9897197, DIVERSITY_HERFINDAHL: 0.9989695, COVERAGE_ITEM: 0.8170727, COVERAGE_ITEM_HIT: 0.0734892, ITEMS_IN_GT: 0.9870241, COVERAGE_USER: 0.9633909, COVERAGE_USER_HIT: 0.1639482, USERS_IN_GT: 0.9633909, DIVERSITY_GINI: 0.1843944, SHANNON_ENTROPY: 11.9560890, RATIO_DIVERSITY_HERFINDAHL: 0.9992998, RATIO_DIVERSITY_GINI: 0.3647205, RATIO_SHANNON_ENTROPY: 0.8862906, RATIO_AVERAGE_POPULARITY: 0.7783867, RATIO_NOVELTY: 0.3699579, \n",
      "\n",
      "Iteration No: 50 ended. Search finished for the next optimal point.\n",
      "Time taken: 283.3130\n",
      "Function value obtained: -0.0092\n",
      "Current minimum: -0.0175\n",
      "SearchBayesianSkopt: Search complete. Best config is 25: {'alpha': 0.3848682627100833, 'beta': 0.36189136978424513, 'topK': 64, 'implicit': True}\n",
      "\n",
      "SearchBayesianSkopt: Evaluation with constructor data for final test. Using best config: {'alpha': 0.3848682627100833, 'beta': 0.36189136978424513, 'topK': 64, 'implicit': True}\n",
      "RP3betaRecommender: Similarity column 24507 (100.0%), 429.84 column/sec. Elapsed time 57.01 sec\n",
      "SearchBayesianSkopt: Saving model in Experiments/RP3betaRecommender\n",
      "\n",
      "RP3betaRecommender: Saving model in file 'Experiments/RP3betaRecommender_best_model_last'\n",
      "RP3betaRecommender: Saving complete\n"
     ]
    }
   ],
   "source": [
    "hyperparameterSearch.search(recommender_input_args,\n",
    "                            recommender_input_args_last_test = recommender_input_args_last_test,\n",
    "                            hyperparameter_search_space = hyperparameters_range_dictionary,\n",
    "                            n_cases = n_cases,\n",
    "                            n_random_starts = n_random_starts,\n",
    "                            save_model = \"last\",\n",
    "                            output_folder_path = output_folder_path, # Where to save the results\n",
    "                            output_file_name_root = recommender_class.RECOMMENDER_NAME, # How to call the files\n",
    "                            metric_to_optimize = metric_to_optimize,\n",
    "                            cutoff_to_optimize = cutoff_to_optimize,\n",
    "                            )"
   ],
   "metadata": {
    "collapsed": false
   }
  },
  {
   "cell_type": "markdown",
   "source": [
    "### Search Results"
   ],
   "metadata": {
    "collapsed": false
   }
  },
  {
   "cell_type": "code",
   "execution_count": 11,
   "outputs": [
    {
     "data": {
      "text/plain": "dict_keys(['algorithm_name_recommender', 'algorithm_name_search', 'cutoff_to_optimize', 'exception_list', 'hyperparameters_best', 'hyperparameters_best_index', 'hyperparameters_df', 'metric_to_optimize', 'result_on_earlystopping_df', 'result_on_last', 'result_on_test_best', 'result_on_test_df', 'result_on_validation_best', 'result_on_validation_df', 'time_df', 'time_on_last_df', 'time_on_test_avg', 'time_on_test_total', 'time_on_train_avg', 'time_on_train_total', 'time_on_validation_avg', 'time_on_validation_total'])"
     },
     "execution_count": 11,
     "metadata": {},
     "output_type": "execute_result"
    }
   ],
   "source": [
    "from Recommenders.DataIO import DataIO\n",
    "\n",
    "#explore the results of the search\n",
    "data_loader = DataIO(folder_path = output_folder_path)\n",
    "search_metadata = data_loader.load_data(recommender_class.RECOMMENDER_NAME + \"_metadata.zip\")\n",
    "\n",
    "search_metadata.keys()"
   ],
   "metadata": {
    "collapsed": false
   }
  },
  {
   "cell_type": "code",
   "execution_count": 12,
   "outputs": [
    {
     "data": {
      "text/plain": "       alpha      beta topK implicit\n0   0.326086  0.274582  432     True\n1   0.468785  0.933254  744     True\n2    0.70004  0.682301  453    False\n3    0.33669  0.479832  101     True\n4   0.718215  0.016161  447    False\n5   0.332428  0.328378   47    False\n6   0.363658  0.741393  687    False\n7   0.711123  0.470017  782    False\n8   0.819687  0.597774  721    False\n9    0.11555  0.156107  782     True\n10  0.024712   0.37615  687    False\n11  0.671853  0.574208  724     True\n12  0.131317  0.504205   96     True\n13  0.690561  0.161687  535    False\n14  0.956772  0.121085  709    False\n15  0.024515  0.014754   51    False\n16  0.006543  0.999668   97    False\n17  0.218103   0.42218    1    False\n18  0.398556  0.010933  638    False\n19   0.08189  0.509884  716    False\n20       1.0       1.0   66     True\n21  0.562786  0.004384  117     True\n22  0.849193       0.0   43     True\n23   0.59852  0.988801  681     True\n24  0.487205       0.0  125    False\n25  0.384868  0.361891   64     True\n26  0.143065       1.0  751     True\n27   0.53159  0.376162  390    False\n28  0.812648       1.0  196     True\n29  0.601033  0.288034  486    False\n30  0.913207  0.477468  197     True\n31  0.998527  0.385421  711     True\n32  0.281642  0.998644  504     True\n33   0.46736   0.27548  745    False\n34   0.78755   0.26025   65    False\n35  0.998494  0.003011  354    False\n36  0.207154  0.003293  318     True\n37  0.177748  0.217863  480     True\n38  0.162005       0.0  188    False\n39  0.637106  0.008815  300     True\n40  0.848177  0.346055  754     True\n41  0.905424  0.966738  365    False\n42       0.0  0.341021  792     True\n43  0.978409  0.214671  556     True\n44  0.977946  0.528199  376    False\n45  0.006633  0.572184   54    False\n46    0.9928  0.818281  190     True\n47  0.030812  0.642211  595    False\n48   0.48316  0.511932  323    False\n49  0.000233  0.816716  519    False",
      "text/html": "<div>\n<style scoped>\n    .dataframe tbody tr th:only-of-type {\n        vertical-align: middle;\n    }\n\n    .dataframe tbody tr th {\n        vertical-align: top;\n    }\n\n    .dataframe thead th {\n        text-align: right;\n    }\n</style>\n<table border=\"1\" class=\"dataframe\">\n  <thead>\n    <tr style=\"text-align: right;\">\n      <th></th>\n      <th>alpha</th>\n      <th>beta</th>\n      <th>topK</th>\n      <th>implicit</th>\n    </tr>\n  </thead>\n  <tbody>\n    <tr>\n      <th>0</th>\n      <td>0.326086</td>\n      <td>0.274582</td>\n      <td>432</td>\n      <td>True</td>\n    </tr>\n    <tr>\n      <th>1</th>\n      <td>0.468785</td>\n      <td>0.933254</td>\n      <td>744</td>\n      <td>True</td>\n    </tr>\n    <tr>\n      <th>2</th>\n      <td>0.70004</td>\n      <td>0.682301</td>\n      <td>453</td>\n      <td>False</td>\n    </tr>\n    <tr>\n      <th>3</th>\n      <td>0.33669</td>\n      <td>0.479832</td>\n      <td>101</td>\n      <td>True</td>\n    </tr>\n    <tr>\n      <th>4</th>\n      <td>0.718215</td>\n      <td>0.016161</td>\n      <td>447</td>\n      <td>False</td>\n    </tr>\n    <tr>\n      <th>5</th>\n      <td>0.332428</td>\n      <td>0.328378</td>\n      <td>47</td>\n      <td>False</td>\n    </tr>\n    <tr>\n      <th>6</th>\n      <td>0.363658</td>\n      <td>0.741393</td>\n      <td>687</td>\n      <td>False</td>\n    </tr>\n    <tr>\n      <th>7</th>\n      <td>0.711123</td>\n      <td>0.470017</td>\n      <td>782</td>\n      <td>False</td>\n    </tr>\n    <tr>\n      <th>8</th>\n      <td>0.819687</td>\n      <td>0.597774</td>\n      <td>721</td>\n      <td>False</td>\n    </tr>\n    <tr>\n      <th>9</th>\n      <td>0.11555</td>\n      <td>0.156107</td>\n      <td>782</td>\n      <td>True</td>\n    </tr>\n    <tr>\n      <th>10</th>\n      <td>0.024712</td>\n      <td>0.37615</td>\n      <td>687</td>\n      <td>False</td>\n    </tr>\n    <tr>\n      <th>11</th>\n      <td>0.671853</td>\n      <td>0.574208</td>\n      <td>724</td>\n      <td>True</td>\n    </tr>\n    <tr>\n      <th>12</th>\n      <td>0.131317</td>\n      <td>0.504205</td>\n      <td>96</td>\n      <td>True</td>\n    </tr>\n    <tr>\n      <th>13</th>\n      <td>0.690561</td>\n      <td>0.161687</td>\n      <td>535</td>\n      <td>False</td>\n    </tr>\n    <tr>\n      <th>14</th>\n      <td>0.956772</td>\n      <td>0.121085</td>\n      <td>709</td>\n      <td>False</td>\n    </tr>\n    <tr>\n      <th>15</th>\n      <td>0.024515</td>\n      <td>0.014754</td>\n      <td>51</td>\n      <td>False</td>\n    </tr>\n    <tr>\n      <th>16</th>\n      <td>0.006543</td>\n      <td>0.999668</td>\n      <td>97</td>\n      <td>False</td>\n    </tr>\n    <tr>\n      <th>17</th>\n      <td>0.218103</td>\n      <td>0.42218</td>\n      <td>1</td>\n      <td>False</td>\n    </tr>\n    <tr>\n      <th>18</th>\n      <td>0.398556</td>\n      <td>0.010933</td>\n      <td>638</td>\n      <td>False</td>\n    </tr>\n    <tr>\n      <th>19</th>\n      <td>0.08189</td>\n      <td>0.509884</td>\n      <td>716</td>\n      <td>False</td>\n    </tr>\n    <tr>\n      <th>20</th>\n      <td>1.0</td>\n      <td>1.0</td>\n      <td>66</td>\n      <td>True</td>\n    </tr>\n    <tr>\n      <th>21</th>\n      <td>0.562786</td>\n      <td>0.004384</td>\n      <td>117</td>\n      <td>True</td>\n    </tr>\n    <tr>\n      <th>22</th>\n      <td>0.849193</td>\n      <td>0.0</td>\n      <td>43</td>\n      <td>True</td>\n    </tr>\n    <tr>\n      <th>23</th>\n      <td>0.59852</td>\n      <td>0.988801</td>\n      <td>681</td>\n      <td>True</td>\n    </tr>\n    <tr>\n      <th>24</th>\n      <td>0.487205</td>\n      <td>0.0</td>\n      <td>125</td>\n      <td>False</td>\n    </tr>\n    <tr>\n      <th>25</th>\n      <td>0.384868</td>\n      <td>0.361891</td>\n      <td>64</td>\n      <td>True</td>\n    </tr>\n    <tr>\n      <th>26</th>\n      <td>0.143065</td>\n      <td>1.0</td>\n      <td>751</td>\n      <td>True</td>\n    </tr>\n    <tr>\n      <th>27</th>\n      <td>0.53159</td>\n      <td>0.376162</td>\n      <td>390</td>\n      <td>False</td>\n    </tr>\n    <tr>\n      <th>28</th>\n      <td>0.812648</td>\n      <td>1.0</td>\n      <td>196</td>\n      <td>True</td>\n    </tr>\n    <tr>\n      <th>29</th>\n      <td>0.601033</td>\n      <td>0.288034</td>\n      <td>486</td>\n      <td>False</td>\n    </tr>\n    <tr>\n      <th>30</th>\n      <td>0.913207</td>\n      <td>0.477468</td>\n      <td>197</td>\n      <td>True</td>\n    </tr>\n    <tr>\n      <th>31</th>\n      <td>0.998527</td>\n      <td>0.385421</td>\n      <td>711</td>\n      <td>True</td>\n    </tr>\n    <tr>\n      <th>32</th>\n      <td>0.281642</td>\n      <td>0.998644</td>\n      <td>504</td>\n      <td>True</td>\n    </tr>\n    <tr>\n      <th>33</th>\n      <td>0.46736</td>\n      <td>0.27548</td>\n      <td>745</td>\n      <td>False</td>\n    </tr>\n    <tr>\n      <th>34</th>\n      <td>0.78755</td>\n      <td>0.26025</td>\n      <td>65</td>\n      <td>False</td>\n    </tr>\n    <tr>\n      <th>35</th>\n      <td>0.998494</td>\n      <td>0.003011</td>\n      <td>354</td>\n      <td>False</td>\n    </tr>\n    <tr>\n      <th>36</th>\n      <td>0.207154</td>\n      <td>0.003293</td>\n      <td>318</td>\n      <td>True</td>\n    </tr>\n    <tr>\n      <th>37</th>\n      <td>0.177748</td>\n      <td>0.217863</td>\n      <td>480</td>\n      <td>True</td>\n    </tr>\n    <tr>\n      <th>38</th>\n      <td>0.162005</td>\n      <td>0.0</td>\n      <td>188</td>\n      <td>False</td>\n    </tr>\n    <tr>\n      <th>39</th>\n      <td>0.637106</td>\n      <td>0.008815</td>\n      <td>300</td>\n      <td>True</td>\n    </tr>\n    <tr>\n      <th>40</th>\n      <td>0.848177</td>\n      <td>0.346055</td>\n      <td>754</td>\n      <td>True</td>\n    </tr>\n    <tr>\n      <th>41</th>\n      <td>0.905424</td>\n      <td>0.966738</td>\n      <td>365</td>\n      <td>False</td>\n    </tr>\n    <tr>\n      <th>42</th>\n      <td>0.0</td>\n      <td>0.341021</td>\n      <td>792</td>\n      <td>True</td>\n    </tr>\n    <tr>\n      <th>43</th>\n      <td>0.978409</td>\n      <td>0.214671</td>\n      <td>556</td>\n      <td>True</td>\n    </tr>\n    <tr>\n      <th>44</th>\n      <td>0.977946</td>\n      <td>0.528199</td>\n      <td>376</td>\n      <td>False</td>\n    </tr>\n    <tr>\n      <th>45</th>\n      <td>0.006633</td>\n      <td>0.572184</td>\n      <td>54</td>\n      <td>False</td>\n    </tr>\n    <tr>\n      <th>46</th>\n      <td>0.9928</td>\n      <td>0.818281</td>\n      <td>190</td>\n      <td>True</td>\n    </tr>\n    <tr>\n      <th>47</th>\n      <td>0.030812</td>\n      <td>0.642211</td>\n      <td>595</td>\n      <td>False</td>\n    </tr>\n    <tr>\n      <th>48</th>\n      <td>0.48316</td>\n      <td>0.511932</td>\n      <td>323</td>\n      <td>False</td>\n    </tr>\n    <tr>\n      <th>49</th>\n      <td>0.000233</td>\n      <td>0.816716</td>\n      <td>519</td>\n      <td>False</td>\n    </tr>\n  </tbody>\n</table>\n</div>"
     },
     "execution_count": 12,
     "metadata": {},
     "output_type": "execute_result"
    }
   ],
   "source": [
    "hyperparameters_df = search_metadata[\"hyperparameters_df\"]\n",
    "hyperparameters_df"
   ],
   "metadata": {
    "collapsed": false
   }
  },
  {
   "cell_type": "code",
   "execution_count": 13,
   "outputs": [
    {
     "data": {
      "text/plain": "          PRECISION PRECISION_RECALL_MIN_DEN    RECALL       MAP MAP_MIN_DEN  \\\n   cutoff                                                                      \n0  10      0.036975                 0.071602  0.068794   0.01646    0.031512   \n1  10      0.017457                 0.029518  0.027708  0.007376    0.012542   \n2  10      0.032313                 0.060093  0.057473  0.013836    0.025568   \n3  10      0.038192                 0.072121  0.069117  0.017223    0.032177   \n4  10      0.036058                  0.06952  0.066748  0.015406    0.029317   \n5  10      0.038212                 0.072096  0.069089  0.017345    0.032611   \n6  10      0.030921                 0.056157  0.053557  0.013352    0.024052   \n7  10      0.035429                 0.067576  0.064825  0.015318    0.028829   \n8  10      0.033056                 0.061509   0.05882  0.014011    0.025808   \n9  10      0.035255                  0.06842  0.065683  0.015464    0.029795   \n10 10      0.037115                 0.071196  0.068351  0.016859    0.032104   \n11 10       0.03509                 0.065896  0.063123  0.015237    0.028353   \n12 10      0.037594                 0.070815  0.067796  0.016991    0.031685   \n13 10      0.035537                 0.069038  0.066333  0.015209    0.029131   \n14 10       0.03426                 0.066353  0.063728  0.014319    0.027134   \n15 10       0.02874                 0.052819  0.050355  0.013561    0.025245   \n16 10      0.012919                 0.023363   0.02208  0.005469    0.009964   \n17 10      0.010622                  0.01863  0.017555  0.004466    0.007974   \n18 10      0.035193                 0.068448  0.065764  0.015154    0.029106   \n19 10      0.037479                 0.071094  0.068187  0.017073    0.031995   \n20 10      0.010704                 0.019651  0.018735  0.004402    0.008105   \n21 10      0.036861                 0.068991  0.066052  0.016646    0.030938   \n22 10      0.027161                 0.049151  0.046687  0.012526     0.02279   \n23 10      0.013559                 0.022699   0.02122  0.005686    0.009518   \n24 10      0.036973                 0.069416  0.066484  0.016678    0.031069   \n25 10      0.038452                 0.072819  0.069804  0.017499    0.032799   \n26 10      0.011919                 0.020582  0.019328  0.005004    0.008723   \n27 10      0.037068                 0.071551  0.068737  0.016417    0.031275   \n28 10      0.012215                 0.021712  0.020573  0.005115    0.009123   \n29 10      0.036173                 0.070215   0.06745  0.015691     0.03014   \n30 10      0.035572                 0.067769  0.065006  0.015157     0.02847   \n31 10      0.033136                 0.063216  0.060634  0.013648    0.025624   \n32 10      0.013537                 0.023395  0.021994   0.00574    0.010072   \n33 10      0.035908                  0.06952  0.066796  0.015679    0.030074   \n34 10      0.038354                 0.072189  0.069112  0.017052    0.031833   \n35 10      0.035686                 0.067849  0.065037  0.015254    0.028489   \n36 10      0.037133                 0.071336  0.068457  0.016174    0.030634   \n37 10      0.036514                 0.070553   0.06774  0.016254    0.031203   \n38 10      0.037823                 0.071786  0.068799  0.016811    0.031582   \n39 10      0.037147                   0.0713  0.068438  0.016089    0.030433   \n40 10      0.034499                 0.066492  0.063845  0.014523    0.027612   \n41 10      0.012445                 0.021674  0.020468  0.005017    0.008797   \n42 10      0.036716                  0.07063    0.0678  0.016561      0.0315   \n43 10      0.034397                 0.066421  0.063783  0.014334    0.027184   \n44 10      0.033185                 0.063026  0.060429  0.013884    0.026009   \n45 10       0.03531                 0.065939  0.063075  0.015816     0.02934   \n46 10      0.021366                 0.039278  0.037497  0.008446    0.015483   \n47 10      0.034258                  0.06373  0.060966  0.015155     0.02791   \n48 10      0.037599                 0.071798  0.068925  0.016669    0.031427   \n49 10      0.021813                 0.039385    0.0375   0.00919    0.016758   \n\n                MRR      NDCG        F1  HIT_RATE ARHR_ALL_HITS  ...  \\\n   cutoff                                                        ...   \n0  10      0.124354  0.071043  0.048099  0.276524      0.142486  ...   \n1  10      0.057233  0.030786  0.021419   0.13517      0.064674  ...   \n2  10      0.104587  0.063052  0.041368  0.242289      0.119804  ...   \n3  10      0.126883  0.073267  0.049199  0.279092      0.147129  ...   \n4  10      0.116368  0.067994  0.046822  0.270191       0.13338  ...   \n5  10      0.128279  0.073036  0.049208  0.280289      0.148479  ...   \n6  10      0.100249  0.057436  0.039206  0.230794      0.115225  ...   \n7  10      0.114905  0.069013  0.045818   0.26478      0.132133  ...   \n8  10       0.10511  0.064104  0.042326  0.246752      0.120875  ...   \n9  10      0.117915  0.066045  0.045883  0.267124       0.13449  ...   \n10 10      0.126535  0.070342  0.048108  0.275527      0.145419  ...   \n11 10      0.113918  0.068196  0.045106  0.260691      0.131167  ...   \n12 10      0.125103  0.070988  0.048367  0.274355      0.145128  ...   \n13 10      0.115758  0.067865   0.04628  0.268919       0.13222  ...   \n14 10      0.108758  0.065342  0.044563  0.260192      0.124344  ...   \n15 10      0.104868  0.054203  0.036594  0.218601      0.118803  ...   \n16 10      0.044682  0.021735    0.0163  0.105573      0.049265  ...   \n17 10      0.040474  0.018165  0.013236  0.095499      0.042499  ...   \n18 10      0.115834  0.066025   0.04585  0.267174      0.132003  ...   \n19 10      0.126985  0.070821  0.048371    0.2762      0.146596  ...   \n20 10      0.036228  0.021292  0.013624  0.088393      0.039793  ...   \n21 10      0.123674  0.068927  0.047316  0.271288      0.142931  ...   \n22 10      0.097074  0.050586  0.034343  0.207655      0.109845  ...   \n23 10      0.044421  0.024095  0.016546  0.105972      0.050053  ...   \n24 10      0.123918  0.069431   0.04752  0.272485      0.143192  ...   \n25 10      0.128605  0.073946  0.049588  0.280489       0.14937  ...   \n26 10      0.040441  0.019769  0.014745  0.096447      0.044819  ...   \n27 10      0.123165  0.072097  0.048163  0.276175      0.141595  ...   \n28 10      0.041443  0.023506  0.015329  0.099239      0.045869  ...   \n29 10      0.118835  0.069851  0.047091  0.271986      0.136033  ...   \n30 10      0.113499  0.068973  0.045982  0.265628      0.130611  ...   \n31 10       0.10328  0.063852  0.042853  0.251365      0.118291  ...   \n32 10      0.046004  0.023175  0.016759  0.108216        0.0512  ...   \n33 10      0.119248  0.068871  0.046707   0.27054      0.136214  ...   \n34 10      0.125321  0.073026  0.049332  0.280464       0.14548  ...   \n35 10      0.114174  0.067368  0.046085  0.265727      0.131458  ...   \n36 10      0.121292  0.068988  0.048148  0.276524      0.139496  ...   \n37 10      0.123388  0.069329  0.047451   0.27438      0.141058  ...   \n38 10      0.125175   0.07053  0.048812  0.279791      0.144461  ...   \n39 10      0.120616   0.06987  0.048156  0.276549      0.138788  ...   \n40 10      0.110215  0.066737  0.044794  0.261364      0.126086  ...   \n41 10      0.040289  0.023841  0.015479  0.100312      0.044782  ...   \n42 10      0.124511    0.0691  0.047636  0.273457      0.142978  ...   \n43 10      0.108603  0.065853  0.044692   0.26099      0.124323  ...   \n44 10      0.104717  0.064769  0.042843  0.249844      0.120115  ...   \n45 10      0.117499  0.065434  0.045275   0.26089      0.135677  ...   \n46 10      0.065791  0.041574  0.027222   0.16771      0.074277  ...   \n47 10      0.112908  0.062496  0.043866  0.254806       0.13024  ...   \n48 10      0.124015  0.073011  0.048656  0.277871      0.143154  ...   \n49 10      0.071446  0.037622  0.027582  0.170178      0.080696  ...   \n\n          COVERAGE_USER COVERAGE_USER_HIT USERS_IN_GT DIVERSITY_GINI  \\\n   cutoff                                                              \n0  10          0.963391          0.266401    0.963391       0.021774   \n1  10          0.963391          0.130222    0.963391       0.244767   \n2  10          0.963391          0.233419    0.963391       0.124635   \n3  10          0.963391          0.268875    0.963391       0.067653   \n4  10          0.963391          0.260299    0.963391       0.006914   \n5  10          0.963391          0.270028    0.963391       0.084044   \n6  10          0.963391          0.222345    0.963391        0.18475   \n7  10          0.963391          0.255087    0.963391       0.074462   \n8  10          0.963391          0.237719    0.963391       0.111378   \n9  10          0.963391          0.257345    0.963391       0.009969   \n10 10          0.963391           0.26544    0.963391       0.040701   \n11 10          0.963391          0.251147    0.963391       0.109182   \n12 10          0.963391          0.264311    0.963391       0.073091   \n13 10          0.963391          0.259074    0.963391       0.010282   \n14 10          0.963391          0.250667    0.963391       0.007613   \n15 10          0.963391          0.210598    0.963391        0.05296   \n16 10          0.963391          0.101708    0.963391       0.168135   \n17 10          0.963391          0.092003    0.963391       0.301734   \n18 10          0.963391          0.257393    0.963391       0.005707   \n19 10          0.963391          0.266089    0.963391       0.081031   \n20 10          0.963391          0.085157    0.963391       0.121036   \n21 10          0.963391          0.261356    0.963391       0.020436   \n22 10          0.963391          0.200053    0.963391       0.038494   \n23 10          0.963391          0.102092    0.963391       0.228096   \n24 10          0.963391          0.262509    0.963391       0.019478   \n25 10          0.963391           0.27022    0.963391       0.070735   \n26 10          0.963391          0.092916    0.963391       0.224818   \n27 10          0.963391          0.266065    0.963391       0.037624   \n28 10          0.963391          0.095606    0.963391       0.155778   \n29 10          0.963391          0.262029    0.963391       0.023572   \n30 10          0.963391          0.255903    0.963391       0.044394   \n31 10          0.963391          0.242163    0.963391       0.033102   \n32 10          0.963391          0.104254    0.963391       0.212317   \n33 10          0.963391          0.260636    0.963391       0.024403   \n34 10          0.963391          0.270196    0.963391       0.045504   \n35 10          0.963391          0.255999    0.963391       0.008394   \n36 10          0.963391          0.266401    0.963391       0.008964   \n37 10          0.963391          0.264335    0.963391       0.015549   \n38 10          0.963391          0.269548    0.963391       0.015115   \n39 10          0.963391          0.266425    0.963391       0.008775   \n40 10          0.963391          0.251796    0.963391       0.032286   \n41 10          0.963391          0.096639    0.963391       0.171279   \n42 10          0.963391          0.263446    0.963391        0.03589   \n43 10          0.963391          0.251435    0.963391       0.011449   \n44 10          0.963391          0.240698    0.963391        0.05439   \n45 10          0.963391          0.251339    0.963391       0.091629   \n46 10          0.963391           0.16157    0.963391       0.112908   \n47 10          0.963391          0.245478    0.963391       0.120333   \n48 10          0.963391          0.267698    0.963391       0.063294   \n49 10          0.963391          0.163948    0.963391       0.184394   \n\n          SHANNON_ENTROPY RATIO_DIVERSITY_HERFINDAHL RATIO_DIVERSITY_GINI  \\\n   cutoff                                                                   \n0  10            7.911757                   0.985266             0.043069   \n1  10           12.664238                   0.999814             0.484134   \n2  10           10.408317                   0.995086             0.246521   \n3  10            9.872136                   0.995952             0.133813   \n4  10            7.327586                   0.984435             0.013675   \n5  10           10.306973                   0.997017             0.166234   \n6  10           11.509425                   0.998266             0.365424   \n7  10            8.935912                   0.987887              0.14728   \n8  10             9.94724                   0.992819               0.2203   \n9  10            7.231467                   0.980868             0.019718   \n10 10            8.420043                   0.987612             0.080505   \n11 10            9.760718                   0.992034             0.215954   \n12 10           10.099618                   0.996609             0.144569   \n13 10            7.352173                   0.981657             0.020337   \n14 10            7.315216                   0.982931             0.015059   \n15 10           10.398874                   0.998506             0.104751   \n16 10           12.033225                   0.999495              0.33256   \n17 10           12.177661                   0.997089             0.596811   \n18 10            6.999672                    0.98104             0.011289   \n19 10            9.428599                   0.992512             0.160275   \n20 10           11.296922                   0.998393             0.239403   \n21 10            9.050675                   0.995966             0.040422   \n22 10           10.126183                    0.99862              0.07614   \n23 10           12.616198                   0.999858              0.45116   \n24 10            8.958881                   0.995606             0.038527   \n25 10            9.983227                   0.996379              0.13991   \n26 10           12.606232                   0.999903             0.444676   \n27 10            8.335428                    0.98682             0.074419   \n28 10           11.864047                   0.999234             0.308118   \n29 10            7.787788                   0.983036             0.046623   \n30 10             8.95754                   0.991136             0.087808   \n31 10            8.255826                   0.985669             0.065473   \n32 10           12.509886                   0.999853             0.419949   \n33 10            7.622052                   0.981162             0.048267   \n34 10            9.590312                   0.995576             0.090005   \n35 10            7.756133                    0.98897             0.016603   \n36 10            7.696284                   0.988046              0.01773   \n37 10            7.696066                   0.984399             0.030756   \n38 10            8.520868                   0.993564             0.029897   \n39 10            7.714167                   0.988229             0.017356   \n40 10            8.026936                   0.983498             0.063859   \n41 10            11.86837                   0.998893             0.338779   \n42 10            8.195613                   0.986154             0.070987   \n43 10            7.570137                   0.983424             0.022646   \n44 10            8.997062                   0.989816             0.107581   \n45 10           10.625993                   0.997867             0.181236   \n46 10           10.747364                   0.996939             0.223324   \n47 10           10.617707                   0.997015             0.238012   \n48 10            9.189537                   0.991687             0.125191   \n49 10           11.956089                     0.9993             0.364721   \n\n          RATIO_SHANNON_ENTROPY RATIO_AVERAGE_POPULARITY RATIO_NOVELTY  \n   cutoff                                                               \n0  10                  0.586489                 5.442634      0.275554  \n1  10                  0.938785                 0.388292      0.403696  \n2  10                  0.771556                 2.746226       0.32863  \n3  10                   0.73181                 3.267087      0.306979  \n4  10                  0.543185                 5.686934      0.268115  \n5  10                  0.764044                 2.934551      0.314228  \n6  10                   0.85318                 1.753932      0.348895  \n7  10                  0.662408                 4.640385      0.296333  \n8  10                  0.737377                  3.39338      0.320439  \n9  10                   0.53606                   6.1534      0.265402  \n10 10                  0.624168                  5.08844      0.282965  \n11 10                   0.72355                 3.762879      0.311864  \n12 10                  0.748673                 3.033176      0.311072  \n13 10                  0.545008                 5.915917      0.268877  \n14 10                  0.542268                 5.616597       0.27216  \n15 10                  0.770856                 1.727797      0.322413  \n16 10                  0.892009                 0.289829      0.395567  \n17 10                  0.902715                 0.395734      0.400307  \n18 10                  0.518877                 6.165422      0.262541  \n19 10                  0.698931                 4.052854      0.299978  \n20 10                  0.837427                 0.316862      0.405713  \n21 10                  0.670916                 3.203781      0.296707  \n22 10                  0.750642                 1.617348       0.32707  \n23 10                  0.935224                 0.255965      0.415654  \n24 10                  0.664111                 3.324735      0.294424  \n25 10                  0.740045                 3.177156      0.308313  \n26 10                  0.934485                 0.192121      0.415568  \n27 10                  0.617895                 5.076735      0.282851  \n28 10                  0.879468                  0.29129      0.411788  \n29 10                  0.577299                 5.646691      0.274955  \n30 10                  0.664012                 4.084343      0.298802  \n31 10                  0.611995                 4.833838      0.291362  \n32 10                  0.927343                 0.244219      0.411536  \n33 10                  0.565014                 5.942253      0.271817  \n34 10                  0.710918                 3.396468      0.305681  \n35 10                  0.574953                 4.835553       0.27871  \n36 10                  0.570516                 5.180306      0.272013  \n37 10                    0.5705                 5.627832      0.272182  \n38 10                  0.631642                 3.986798      0.285438  \n39 10                  0.571842                 5.133526      0.273285  \n40 10                  0.595027                 5.341934      0.282938  \n41 10                  0.879788                 0.333278       0.40738  \n42 10                  0.607531                    5.342      0.279443  \n43 10                  0.561165                 5.469512      0.276811  \n44 10                  0.666941                 4.034319      0.304458  \n45 10                  0.787692                 2.472466      0.321934  \n46 10                  0.796689                 1.299867      0.364261  \n47 10                  0.787078                 2.560189      0.324815  \n48 10                  0.681209                 4.139472      0.296915  \n49 10                  0.886291                 0.778387      0.369958  \n\n[50 rows x 27 columns]",
      "text/html": "<div>\n<style scoped>\n    .dataframe tbody tr th:only-of-type {\n        vertical-align: middle;\n    }\n\n    .dataframe tbody tr th {\n        vertical-align: top;\n    }\n\n    .dataframe thead th {\n        text-align: right;\n    }\n</style>\n<table border=\"1\" class=\"dataframe\">\n  <thead>\n    <tr style=\"text-align: right;\">\n      <th></th>\n      <th></th>\n      <th>PRECISION</th>\n      <th>PRECISION_RECALL_MIN_DEN</th>\n      <th>RECALL</th>\n      <th>MAP</th>\n      <th>MAP_MIN_DEN</th>\n      <th>MRR</th>\n      <th>NDCG</th>\n      <th>F1</th>\n      <th>HIT_RATE</th>\n      <th>ARHR_ALL_HITS</th>\n      <th>...</th>\n      <th>COVERAGE_USER</th>\n      <th>COVERAGE_USER_HIT</th>\n      <th>USERS_IN_GT</th>\n      <th>DIVERSITY_GINI</th>\n      <th>SHANNON_ENTROPY</th>\n      <th>RATIO_DIVERSITY_HERFINDAHL</th>\n      <th>RATIO_DIVERSITY_GINI</th>\n      <th>RATIO_SHANNON_ENTROPY</th>\n      <th>RATIO_AVERAGE_POPULARITY</th>\n      <th>RATIO_NOVELTY</th>\n    </tr>\n    <tr>\n      <th></th>\n      <th>cutoff</th>\n      <th></th>\n      <th></th>\n      <th></th>\n      <th></th>\n      <th></th>\n      <th></th>\n      <th></th>\n      <th></th>\n      <th></th>\n      <th></th>\n      <th></th>\n      <th></th>\n      <th></th>\n      <th></th>\n      <th></th>\n      <th></th>\n      <th></th>\n      <th></th>\n      <th></th>\n      <th></th>\n      <th></th>\n    </tr>\n  </thead>\n  <tbody>\n    <tr>\n      <th>0</th>\n      <th>10</th>\n      <td>0.036975</td>\n      <td>0.071602</td>\n      <td>0.068794</td>\n      <td>0.01646</td>\n      <td>0.031512</td>\n      <td>0.124354</td>\n      <td>0.071043</td>\n      <td>0.048099</td>\n      <td>0.276524</td>\n      <td>0.142486</td>\n      <td>...</td>\n      <td>0.963391</td>\n      <td>0.266401</td>\n      <td>0.963391</td>\n      <td>0.021774</td>\n      <td>7.911757</td>\n      <td>0.985266</td>\n      <td>0.043069</td>\n      <td>0.586489</td>\n      <td>5.442634</td>\n      <td>0.275554</td>\n    </tr>\n    <tr>\n      <th>1</th>\n      <th>10</th>\n      <td>0.017457</td>\n      <td>0.029518</td>\n      <td>0.027708</td>\n      <td>0.007376</td>\n      <td>0.012542</td>\n      <td>0.057233</td>\n      <td>0.030786</td>\n      <td>0.021419</td>\n      <td>0.13517</td>\n      <td>0.064674</td>\n      <td>...</td>\n      <td>0.963391</td>\n      <td>0.130222</td>\n      <td>0.963391</td>\n      <td>0.244767</td>\n      <td>12.664238</td>\n      <td>0.999814</td>\n      <td>0.484134</td>\n      <td>0.938785</td>\n      <td>0.388292</td>\n      <td>0.403696</td>\n    </tr>\n    <tr>\n      <th>2</th>\n      <th>10</th>\n      <td>0.032313</td>\n      <td>0.060093</td>\n      <td>0.057473</td>\n      <td>0.013836</td>\n      <td>0.025568</td>\n      <td>0.104587</td>\n      <td>0.063052</td>\n      <td>0.041368</td>\n      <td>0.242289</td>\n      <td>0.119804</td>\n      <td>...</td>\n      <td>0.963391</td>\n      <td>0.233419</td>\n      <td>0.963391</td>\n      <td>0.124635</td>\n      <td>10.408317</td>\n      <td>0.995086</td>\n      <td>0.246521</td>\n      <td>0.771556</td>\n      <td>2.746226</td>\n      <td>0.32863</td>\n    </tr>\n    <tr>\n      <th>3</th>\n      <th>10</th>\n      <td>0.038192</td>\n      <td>0.072121</td>\n      <td>0.069117</td>\n      <td>0.017223</td>\n      <td>0.032177</td>\n      <td>0.126883</td>\n      <td>0.073267</td>\n      <td>0.049199</td>\n      <td>0.279092</td>\n      <td>0.147129</td>\n      <td>...</td>\n      <td>0.963391</td>\n      <td>0.268875</td>\n      <td>0.963391</td>\n      <td>0.067653</td>\n      <td>9.872136</td>\n      <td>0.995952</td>\n      <td>0.133813</td>\n      <td>0.73181</td>\n      <td>3.267087</td>\n      <td>0.306979</td>\n    </tr>\n    <tr>\n      <th>4</th>\n      <th>10</th>\n      <td>0.036058</td>\n      <td>0.06952</td>\n      <td>0.066748</td>\n      <td>0.015406</td>\n      <td>0.029317</td>\n      <td>0.116368</td>\n      <td>0.067994</td>\n      <td>0.046822</td>\n      <td>0.270191</td>\n      <td>0.13338</td>\n      <td>...</td>\n      <td>0.963391</td>\n      <td>0.260299</td>\n      <td>0.963391</td>\n      <td>0.006914</td>\n      <td>7.327586</td>\n      <td>0.984435</td>\n      <td>0.013675</td>\n      <td>0.543185</td>\n      <td>5.686934</td>\n      <td>0.268115</td>\n    </tr>\n    <tr>\n      <th>5</th>\n      <th>10</th>\n      <td>0.038212</td>\n      <td>0.072096</td>\n      <td>0.069089</td>\n      <td>0.017345</td>\n      <td>0.032611</td>\n      <td>0.128279</td>\n      <td>0.073036</td>\n      <td>0.049208</td>\n      <td>0.280289</td>\n      <td>0.148479</td>\n      <td>...</td>\n      <td>0.963391</td>\n      <td>0.270028</td>\n      <td>0.963391</td>\n      <td>0.084044</td>\n      <td>10.306973</td>\n      <td>0.997017</td>\n      <td>0.166234</td>\n      <td>0.764044</td>\n      <td>2.934551</td>\n      <td>0.314228</td>\n    </tr>\n    <tr>\n      <th>6</th>\n      <th>10</th>\n      <td>0.030921</td>\n      <td>0.056157</td>\n      <td>0.053557</td>\n      <td>0.013352</td>\n      <td>0.024052</td>\n      <td>0.100249</td>\n      <td>0.057436</td>\n      <td>0.039206</td>\n      <td>0.230794</td>\n      <td>0.115225</td>\n      <td>...</td>\n      <td>0.963391</td>\n      <td>0.222345</td>\n      <td>0.963391</td>\n      <td>0.18475</td>\n      <td>11.509425</td>\n      <td>0.998266</td>\n      <td>0.365424</td>\n      <td>0.85318</td>\n      <td>1.753932</td>\n      <td>0.348895</td>\n    </tr>\n    <tr>\n      <th>7</th>\n      <th>10</th>\n      <td>0.035429</td>\n      <td>0.067576</td>\n      <td>0.064825</td>\n      <td>0.015318</td>\n      <td>0.028829</td>\n      <td>0.114905</td>\n      <td>0.069013</td>\n      <td>0.045818</td>\n      <td>0.26478</td>\n      <td>0.132133</td>\n      <td>...</td>\n      <td>0.963391</td>\n      <td>0.255087</td>\n      <td>0.963391</td>\n      <td>0.074462</td>\n      <td>8.935912</td>\n      <td>0.987887</td>\n      <td>0.14728</td>\n      <td>0.662408</td>\n      <td>4.640385</td>\n      <td>0.296333</td>\n    </tr>\n    <tr>\n      <th>8</th>\n      <th>10</th>\n      <td>0.033056</td>\n      <td>0.061509</td>\n      <td>0.05882</td>\n      <td>0.014011</td>\n      <td>0.025808</td>\n      <td>0.10511</td>\n      <td>0.064104</td>\n      <td>0.042326</td>\n      <td>0.246752</td>\n      <td>0.120875</td>\n      <td>...</td>\n      <td>0.963391</td>\n      <td>0.237719</td>\n      <td>0.963391</td>\n      <td>0.111378</td>\n      <td>9.94724</td>\n      <td>0.992819</td>\n      <td>0.2203</td>\n      <td>0.737377</td>\n      <td>3.39338</td>\n      <td>0.320439</td>\n    </tr>\n    <tr>\n      <th>9</th>\n      <th>10</th>\n      <td>0.035255</td>\n      <td>0.06842</td>\n      <td>0.065683</td>\n      <td>0.015464</td>\n      <td>0.029795</td>\n      <td>0.117915</td>\n      <td>0.066045</td>\n      <td>0.045883</td>\n      <td>0.267124</td>\n      <td>0.13449</td>\n      <td>...</td>\n      <td>0.963391</td>\n      <td>0.257345</td>\n      <td>0.963391</td>\n      <td>0.009969</td>\n      <td>7.231467</td>\n      <td>0.980868</td>\n      <td>0.019718</td>\n      <td>0.53606</td>\n      <td>6.1534</td>\n      <td>0.265402</td>\n    </tr>\n    <tr>\n      <th>10</th>\n      <th>10</th>\n      <td>0.037115</td>\n      <td>0.071196</td>\n      <td>0.068351</td>\n      <td>0.016859</td>\n      <td>0.032104</td>\n      <td>0.126535</td>\n      <td>0.070342</td>\n      <td>0.048108</td>\n      <td>0.275527</td>\n      <td>0.145419</td>\n      <td>...</td>\n      <td>0.963391</td>\n      <td>0.26544</td>\n      <td>0.963391</td>\n      <td>0.040701</td>\n      <td>8.420043</td>\n      <td>0.987612</td>\n      <td>0.080505</td>\n      <td>0.624168</td>\n      <td>5.08844</td>\n      <td>0.282965</td>\n    </tr>\n    <tr>\n      <th>11</th>\n      <th>10</th>\n      <td>0.03509</td>\n      <td>0.065896</td>\n      <td>0.063123</td>\n      <td>0.015237</td>\n      <td>0.028353</td>\n      <td>0.113918</td>\n      <td>0.068196</td>\n      <td>0.045106</td>\n      <td>0.260691</td>\n      <td>0.131167</td>\n      <td>...</td>\n      <td>0.963391</td>\n      <td>0.251147</td>\n      <td>0.963391</td>\n      <td>0.109182</td>\n      <td>9.760718</td>\n      <td>0.992034</td>\n      <td>0.215954</td>\n      <td>0.72355</td>\n      <td>3.762879</td>\n      <td>0.311864</td>\n    </tr>\n    <tr>\n      <th>12</th>\n      <th>10</th>\n      <td>0.037594</td>\n      <td>0.070815</td>\n      <td>0.067796</td>\n      <td>0.016991</td>\n      <td>0.031685</td>\n      <td>0.125103</td>\n      <td>0.070988</td>\n      <td>0.048367</td>\n      <td>0.274355</td>\n      <td>0.145128</td>\n      <td>...</td>\n      <td>0.963391</td>\n      <td>0.264311</td>\n      <td>0.963391</td>\n      <td>0.073091</td>\n      <td>10.099618</td>\n      <td>0.996609</td>\n      <td>0.144569</td>\n      <td>0.748673</td>\n      <td>3.033176</td>\n      <td>0.311072</td>\n    </tr>\n    <tr>\n      <th>13</th>\n      <th>10</th>\n      <td>0.035537</td>\n      <td>0.069038</td>\n      <td>0.066333</td>\n      <td>0.015209</td>\n      <td>0.029131</td>\n      <td>0.115758</td>\n      <td>0.067865</td>\n      <td>0.04628</td>\n      <td>0.268919</td>\n      <td>0.13222</td>\n      <td>...</td>\n      <td>0.963391</td>\n      <td>0.259074</td>\n      <td>0.963391</td>\n      <td>0.010282</td>\n      <td>7.352173</td>\n      <td>0.981657</td>\n      <td>0.020337</td>\n      <td>0.545008</td>\n      <td>5.915917</td>\n      <td>0.268877</td>\n    </tr>\n    <tr>\n      <th>14</th>\n      <th>10</th>\n      <td>0.03426</td>\n      <td>0.066353</td>\n      <td>0.063728</td>\n      <td>0.014319</td>\n      <td>0.027134</td>\n      <td>0.108758</td>\n      <td>0.065342</td>\n      <td>0.044563</td>\n      <td>0.260192</td>\n      <td>0.124344</td>\n      <td>...</td>\n      <td>0.963391</td>\n      <td>0.250667</td>\n      <td>0.963391</td>\n      <td>0.007613</td>\n      <td>7.315216</td>\n      <td>0.982931</td>\n      <td>0.015059</td>\n      <td>0.542268</td>\n      <td>5.616597</td>\n      <td>0.27216</td>\n    </tr>\n    <tr>\n      <th>15</th>\n      <th>10</th>\n      <td>0.02874</td>\n      <td>0.052819</td>\n      <td>0.050355</td>\n      <td>0.013561</td>\n      <td>0.025245</td>\n      <td>0.104868</td>\n      <td>0.054203</td>\n      <td>0.036594</td>\n      <td>0.218601</td>\n      <td>0.118803</td>\n      <td>...</td>\n      <td>0.963391</td>\n      <td>0.210598</td>\n      <td>0.963391</td>\n      <td>0.05296</td>\n      <td>10.398874</td>\n      <td>0.998506</td>\n      <td>0.104751</td>\n      <td>0.770856</td>\n      <td>1.727797</td>\n      <td>0.322413</td>\n    </tr>\n    <tr>\n      <th>16</th>\n      <th>10</th>\n      <td>0.012919</td>\n      <td>0.023363</td>\n      <td>0.02208</td>\n      <td>0.005469</td>\n      <td>0.009964</td>\n      <td>0.044682</td>\n      <td>0.021735</td>\n      <td>0.0163</td>\n      <td>0.105573</td>\n      <td>0.049265</td>\n      <td>...</td>\n      <td>0.963391</td>\n      <td>0.101708</td>\n      <td>0.963391</td>\n      <td>0.168135</td>\n      <td>12.033225</td>\n      <td>0.999495</td>\n      <td>0.33256</td>\n      <td>0.892009</td>\n      <td>0.289829</td>\n      <td>0.395567</td>\n    </tr>\n    <tr>\n      <th>17</th>\n      <th>10</th>\n      <td>0.010622</td>\n      <td>0.01863</td>\n      <td>0.017555</td>\n      <td>0.004466</td>\n      <td>0.007974</td>\n      <td>0.040474</td>\n      <td>0.018165</td>\n      <td>0.013236</td>\n      <td>0.095499</td>\n      <td>0.042499</td>\n      <td>...</td>\n      <td>0.963391</td>\n      <td>0.092003</td>\n      <td>0.963391</td>\n      <td>0.301734</td>\n      <td>12.177661</td>\n      <td>0.997089</td>\n      <td>0.596811</td>\n      <td>0.902715</td>\n      <td>0.395734</td>\n      <td>0.400307</td>\n    </tr>\n    <tr>\n      <th>18</th>\n      <th>10</th>\n      <td>0.035193</td>\n      <td>0.068448</td>\n      <td>0.065764</td>\n      <td>0.015154</td>\n      <td>0.029106</td>\n      <td>0.115834</td>\n      <td>0.066025</td>\n      <td>0.04585</td>\n      <td>0.267174</td>\n      <td>0.132003</td>\n      <td>...</td>\n      <td>0.963391</td>\n      <td>0.257393</td>\n      <td>0.963391</td>\n      <td>0.005707</td>\n      <td>6.999672</td>\n      <td>0.98104</td>\n      <td>0.011289</td>\n      <td>0.518877</td>\n      <td>6.165422</td>\n      <td>0.262541</td>\n    </tr>\n    <tr>\n      <th>19</th>\n      <th>10</th>\n      <td>0.037479</td>\n      <td>0.071094</td>\n      <td>0.068187</td>\n      <td>0.017073</td>\n      <td>0.031995</td>\n      <td>0.126985</td>\n      <td>0.070821</td>\n      <td>0.048371</td>\n      <td>0.2762</td>\n      <td>0.146596</td>\n      <td>...</td>\n      <td>0.963391</td>\n      <td>0.266089</td>\n      <td>0.963391</td>\n      <td>0.081031</td>\n      <td>9.428599</td>\n      <td>0.992512</td>\n      <td>0.160275</td>\n      <td>0.698931</td>\n      <td>4.052854</td>\n      <td>0.299978</td>\n    </tr>\n    <tr>\n      <th>20</th>\n      <th>10</th>\n      <td>0.010704</td>\n      <td>0.019651</td>\n      <td>0.018735</td>\n      <td>0.004402</td>\n      <td>0.008105</td>\n      <td>0.036228</td>\n      <td>0.021292</td>\n      <td>0.013624</td>\n      <td>0.088393</td>\n      <td>0.039793</td>\n      <td>...</td>\n      <td>0.963391</td>\n      <td>0.085157</td>\n      <td>0.963391</td>\n      <td>0.121036</td>\n      <td>11.296922</td>\n      <td>0.998393</td>\n      <td>0.239403</td>\n      <td>0.837427</td>\n      <td>0.316862</td>\n      <td>0.405713</td>\n    </tr>\n    <tr>\n      <th>21</th>\n      <th>10</th>\n      <td>0.036861</td>\n      <td>0.068991</td>\n      <td>0.066052</td>\n      <td>0.016646</td>\n      <td>0.030938</td>\n      <td>0.123674</td>\n      <td>0.068927</td>\n      <td>0.047316</td>\n      <td>0.271288</td>\n      <td>0.142931</td>\n      <td>...</td>\n      <td>0.963391</td>\n      <td>0.261356</td>\n      <td>0.963391</td>\n      <td>0.020436</td>\n      <td>9.050675</td>\n      <td>0.995966</td>\n      <td>0.040422</td>\n      <td>0.670916</td>\n      <td>3.203781</td>\n      <td>0.296707</td>\n    </tr>\n    <tr>\n      <th>22</th>\n      <th>10</th>\n      <td>0.027161</td>\n      <td>0.049151</td>\n      <td>0.046687</td>\n      <td>0.012526</td>\n      <td>0.02279</td>\n      <td>0.097074</td>\n      <td>0.050586</td>\n      <td>0.034343</td>\n      <td>0.207655</td>\n      <td>0.109845</td>\n      <td>...</td>\n      <td>0.963391</td>\n      <td>0.200053</td>\n      <td>0.963391</td>\n      <td>0.038494</td>\n      <td>10.126183</td>\n      <td>0.99862</td>\n      <td>0.07614</td>\n      <td>0.750642</td>\n      <td>1.617348</td>\n      <td>0.32707</td>\n    </tr>\n    <tr>\n      <th>23</th>\n      <th>10</th>\n      <td>0.013559</td>\n      <td>0.022699</td>\n      <td>0.02122</td>\n      <td>0.005686</td>\n      <td>0.009518</td>\n      <td>0.044421</td>\n      <td>0.024095</td>\n      <td>0.016546</td>\n      <td>0.105972</td>\n      <td>0.050053</td>\n      <td>...</td>\n      <td>0.963391</td>\n      <td>0.102092</td>\n      <td>0.963391</td>\n      <td>0.228096</td>\n      <td>12.616198</td>\n      <td>0.999858</td>\n      <td>0.45116</td>\n      <td>0.935224</td>\n      <td>0.255965</td>\n      <td>0.415654</td>\n    </tr>\n    <tr>\n      <th>24</th>\n      <th>10</th>\n      <td>0.036973</td>\n      <td>0.069416</td>\n      <td>0.066484</td>\n      <td>0.016678</td>\n      <td>0.031069</td>\n      <td>0.123918</td>\n      <td>0.069431</td>\n      <td>0.04752</td>\n      <td>0.272485</td>\n      <td>0.143192</td>\n      <td>...</td>\n      <td>0.963391</td>\n      <td>0.262509</td>\n      <td>0.963391</td>\n      <td>0.019478</td>\n      <td>8.958881</td>\n      <td>0.995606</td>\n      <td>0.038527</td>\n      <td>0.664111</td>\n      <td>3.324735</td>\n      <td>0.294424</td>\n    </tr>\n    <tr>\n      <th>25</th>\n      <th>10</th>\n      <td>0.038452</td>\n      <td>0.072819</td>\n      <td>0.069804</td>\n      <td>0.017499</td>\n      <td>0.032799</td>\n      <td>0.128605</td>\n      <td>0.073946</td>\n      <td>0.049588</td>\n      <td>0.280489</td>\n      <td>0.14937</td>\n      <td>...</td>\n      <td>0.963391</td>\n      <td>0.27022</td>\n      <td>0.963391</td>\n      <td>0.070735</td>\n      <td>9.983227</td>\n      <td>0.996379</td>\n      <td>0.13991</td>\n      <td>0.740045</td>\n      <td>3.177156</td>\n      <td>0.308313</td>\n    </tr>\n    <tr>\n      <th>26</th>\n      <th>10</th>\n      <td>0.011919</td>\n      <td>0.020582</td>\n      <td>0.019328</td>\n      <td>0.005004</td>\n      <td>0.008723</td>\n      <td>0.040441</td>\n      <td>0.019769</td>\n      <td>0.014745</td>\n      <td>0.096447</td>\n      <td>0.044819</td>\n      <td>...</td>\n      <td>0.963391</td>\n      <td>0.092916</td>\n      <td>0.963391</td>\n      <td>0.224818</td>\n      <td>12.606232</td>\n      <td>0.999903</td>\n      <td>0.444676</td>\n      <td>0.934485</td>\n      <td>0.192121</td>\n      <td>0.415568</td>\n    </tr>\n    <tr>\n      <th>27</th>\n      <th>10</th>\n      <td>0.037068</td>\n      <td>0.071551</td>\n      <td>0.068737</td>\n      <td>0.016417</td>\n      <td>0.031275</td>\n      <td>0.123165</td>\n      <td>0.072097</td>\n      <td>0.048163</td>\n      <td>0.276175</td>\n      <td>0.141595</td>\n      <td>...</td>\n      <td>0.963391</td>\n      <td>0.266065</td>\n      <td>0.963391</td>\n      <td>0.037624</td>\n      <td>8.335428</td>\n      <td>0.98682</td>\n      <td>0.074419</td>\n      <td>0.617895</td>\n      <td>5.076735</td>\n      <td>0.282851</td>\n    </tr>\n    <tr>\n      <th>28</th>\n      <th>10</th>\n      <td>0.012215</td>\n      <td>0.021712</td>\n      <td>0.020573</td>\n      <td>0.005115</td>\n      <td>0.009123</td>\n      <td>0.041443</td>\n      <td>0.023506</td>\n      <td>0.015329</td>\n      <td>0.099239</td>\n      <td>0.045869</td>\n      <td>...</td>\n      <td>0.963391</td>\n      <td>0.095606</td>\n      <td>0.963391</td>\n      <td>0.155778</td>\n      <td>11.864047</td>\n      <td>0.999234</td>\n      <td>0.308118</td>\n      <td>0.879468</td>\n      <td>0.29129</td>\n      <td>0.411788</td>\n    </tr>\n    <tr>\n      <th>29</th>\n      <th>10</th>\n      <td>0.036173</td>\n      <td>0.070215</td>\n      <td>0.06745</td>\n      <td>0.015691</td>\n      <td>0.03014</td>\n      <td>0.118835</td>\n      <td>0.069851</td>\n      <td>0.047091</td>\n      <td>0.271986</td>\n      <td>0.136033</td>\n      <td>...</td>\n      <td>0.963391</td>\n      <td>0.262029</td>\n      <td>0.963391</td>\n      <td>0.023572</td>\n      <td>7.787788</td>\n      <td>0.983036</td>\n      <td>0.046623</td>\n      <td>0.577299</td>\n      <td>5.646691</td>\n      <td>0.274955</td>\n    </tr>\n    <tr>\n      <th>30</th>\n      <th>10</th>\n      <td>0.035572</td>\n      <td>0.067769</td>\n      <td>0.065006</td>\n      <td>0.015157</td>\n      <td>0.02847</td>\n      <td>0.113499</td>\n      <td>0.068973</td>\n      <td>0.045982</td>\n      <td>0.265628</td>\n      <td>0.130611</td>\n      <td>...</td>\n      <td>0.963391</td>\n      <td>0.255903</td>\n      <td>0.963391</td>\n      <td>0.044394</td>\n      <td>8.95754</td>\n      <td>0.991136</td>\n      <td>0.087808</td>\n      <td>0.664012</td>\n      <td>4.084343</td>\n      <td>0.298802</td>\n    </tr>\n    <tr>\n      <th>31</th>\n      <th>10</th>\n      <td>0.033136</td>\n      <td>0.063216</td>\n      <td>0.060634</td>\n      <td>0.013648</td>\n      <td>0.025624</td>\n      <td>0.10328</td>\n      <td>0.063852</td>\n      <td>0.042853</td>\n      <td>0.251365</td>\n      <td>0.118291</td>\n      <td>...</td>\n      <td>0.963391</td>\n      <td>0.242163</td>\n      <td>0.963391</td>\n      <td>0.033102</td>\n      <td>8.255826</td>\n      <td>0.985669</td>\n      <td>0.065473</td>\n      <td>0.611995</td>\n      <td>4.833838</td>\n      <td>0.291362</td>\n    </tr>\n    <tr>\n      <th>32</th>\n      <th>10</th>\n      <td>0.013537</td>\n      <td>0.023395</td>\n      <td>0.021994</td>\n      <td>0.00574</td>\n      <td>0.010072</td>\n      <td>0.046004</td>\n      <td>0.023175</td>\n      <td>0.016759</td>\n      <td>0.108216</td>\n      <td>0.0512</td>\n      <td>...</td>\n      <td>0.963391</td>\n      <td>0.104254</td>\n      <td>0.963391</td>\n      <td>0.212317</td>\n      <td>12.509886</td>\n      <td>0.999853</td>\n      <td>0.419949</td>\n      <td>0.927343</td>\n      <td>0.244219</td>\n      <td>0.411536</td>\n    </tr>\n    <tr>\n      <th>33</th>\n      <th>10</th>\n      <td>0.035908</td>\n      <td>0.06952</td>\n      <td>0.066796</td>\n      <td>0.015679</td>\n      <td>0.030074</td>\n      <td>0.119248</td>\n      <td>0.068871</td>\n      <td>0.046707</td>\n      <td>0.27054</td>\n      <td>0.136214</td>\n      <td>...</td>\n      <td>0.963391</td>\n      <td>0.260636</td>\n      <td>0.963391</td>\n      <td>0.024403</td>\n      <td>7.622052</td>\n      <td>0.981162</td>\n      <td>0.048267</td>\n      <td>0.565014</td>\n      <td>5.942253</td>\n      <td>0.271817</td>\n    </tr>\n    <tr>\n      <th>34</th>\n      <th>10</th>\n      <td>0.038354</td>\n      <td>0.072189</td>\n      <td>0.069112</td>\n      <td>0.017052</td>\n      <td>0.031833</td>\n      <td>0.125321</td>\n      <td>0.073026</td>\n      <td>0.049332</td>\n      <td>0.280464</td>\n      <td>0.14548</td>\n      <td>...</td>\n      <td>0.963391</td>\n      <td>0.270196</td>\n      <td>0.963391</td>\n      <td>0.045504</td>\n      <td>9.590312</td>\n      <td>0.995576</td>\n      <td>0.090005</td>\n      <td>0.710918</td>\n      <td>3.396468</td>\n      <td>0.305681</td>\n    </tr>\n    <tr>\n      <th>35</th>\n      <th>10</th>\n      <td>0.035686</td>\n      <td>0.067849</td>\n      <td>0.065037</td>\n      <td>0.015254</td>\n      <td>0.028489</td>\n      <td>0.114174</td>\n      <td>0.067368</td>\n      <td>0.046085</td>\n      <td>0.265727</td>\n      <td>0.131458</td>\n      <td>...</td>\n      <td>0.963391</td>\n      <td>0.255999</td>\n      <td>0.963391</td>\n      <td>0.008394</td>\n      <td>7.756133</td>\n      <td>0.98897</td>\n      <td>0.016603</td>\n      <td>0.574953</td>\n      <td>4.835553</td>\n      <td>0.27871</td>\n    </tr>\n    <tr>\n      <th>36</th>\n      <th>10</th>\n      <td>0.037133</td>\n      <td>0.071336</td>\n      <td>0.068457</td>\n      <td>0.016174</td>\n      <td>0.030634</td>\n      <td>0.121292</td>\n      <td>0.068988</td>\n      <td>0.048148</td>\n      <td>0.276524</td>\n      <td>0.139496</td>\n      <td>...</td>\n      <td>0.963391</td>\n      <td>0.266401</td>\n      <td>0.963391</td>\n      <td>0.008964</td>\n      <td>7.696284</td>\n      <td>0.988046</td>\n      <td>0.01773</td>\n      <td>0.570516</td>\n      <td>5.180306</td>\n      <td>0.272013</td>\n    </tr>\n    <tr>\n      <th>37</th>\n      <th>10</th>\n      <td>0.036514</td>\n      <td>0.070553</td>\n      <td>0.06774</td>\n      <td>0.016254</td>\n      <td>0.031203</td>\n      <td>0.123388</td>\n      <td>0.069329</td>\n      <td>0.047451</td>\n      <td>0.27438</td>\n      <td>0.141058</td>\n      <td>...</td>\n      <td>0.963391</td>\n      <td>0.264335</td>\n      <td>0.963391</td>\n      <td>0.015549</td>\n      <td>7.696066</td>\n      <td>0.984399</td>\n      <td>0.030756</td>\n      <td>0.5705</td>\n      <td>5.627832</td>\n      <td>0.272182</td>\n    </tr>\n    <tr>\n      <th>38</th>\n      <th>10</th>\n      <td>0.037823</td>\n      <td>0.071786</td>\n      <td>0.068799</td>\n      <td>0.016811</td>\n      <td>0.031582</td>\n      <td>0.125175</td>\n      <td>0.07053</td>\n      <td>0.048812</td>\n      <td>0.279791</td>\n      <td>0.144461</td>\n      <td>...</td>\n      <td>0.963391</td>\n      <td>0.269548</td>\n      <td>0.963391</td>\n      <td>0.015115</td>\n      <td>8.520868</td>\n      <td>0.993564</td>\n      <td>0.029897</td>\n      <td>0.631642</td>\n      <td>3.986798</td>\n      <td>0.285438</td>\n    </tr>\n    <tr>\n      <th>39</th>\n      <th>10</th>\n      <td>0.037147</td>\n      <td>0.0713</td>\n      <td>0.068438</td>\n      <td>0.016089</td>\n      <td>0.030433</td>\n      <td>0.120616</td>\n      <td>0.06987</td>\n      <td>0.048156</td>\n      <td>0.276549</td>\n      <td>0.138788</td>\n      <td>...</td>\n      <td>0.963391</td>\n      <td>0.266425</td>\n      <td>0.963391</td>\n      <td>0.008775</td>\n      <td>7.714167</td>\n      <td>0.988229</td>\n      <td>0.017356</td>\n      <td>0.571842</td>\n      <td>5.133526</td>\n      <td>0.273285</td>\n    </tr>\n    <tr>\n      <th>40</th>\n      <th>10</th>\n      <td>0.034499</td>\n      <td>0.066492</td>\n      <td>0.063845</td>\n      <td>0.014523</td>\n      <td>0.027612</td>\n      <td>0.110215</td>\n      <td>0.066737</td>\n      <td>0.044794</td>\n      <td>0.261364</td>\n      <td>0.126086</td>\n      <td>...</td>\n      <td>0.963391</td>\n      <td>0.251796</td>\n      <td>0.963391</td>\n      <td>0.032286</td>\n      <td>8.026936</td>\n      <td>0.983498</td>\n      <td>0.063859</td>\n      <td>0.595027</td>\n      <td>5.341934</td>\n      <td>0.282938</td>\n    </tr>\n    <tr>\n      <th>41</th>\n      <th>10</th>\n      <td>0.012445</td>\n      <td>0.021674</td>\n      <td>0.020468</td>\n      <td>0.005017</td>\n      <td>0.008797</td>\n      <td>0.040289</td>\n      <td>0.023841</td>\n      <td>0.015479</td>\n      <td>0.100312</td>\n      <td>0.044782</td>\n      <td>...</td>\n      <td>0.963391</td>\n      <td>0.096639</td>\n      <td>0.963391</td>\n      <td>0.171279</td>\n      <td>11.86837</td>\n      <td>0.998893</td>\n      <td>0.338779</td>\n      <td>0.879788</td>\n      <td>0.333278</td>\n      <td>0.40738</td>\n    </tr>\n    <tr>\n      <th>42</th>\n      <th>10</th>\n      <td>0.036716</td>\n      <td>0.07063</td>\n      <td>0.0678</td>\n      <td>0.016561</td>\n      <td>0.0315</td>\n      <td>0.124511</td>\n      <td>0.0691</td>\n      <td>0.047636</td>\n      <td>0.273457</td>\n      <td>0.142978</td>\n      <td>...</td>\n      <td>0.963391</td>\n      <td>0.263446</td>\n      <td>0.963391</td>\n      <td>0.03589</td>\n      <td>8.195613</td>\n      <td>0.986154</td>\n      <td>0.070987</td>\n      <td>0.607531</td>\n      <td>5.342</td>\n      <td>0.279443</td>\n    </tr>\n    <tr>\n      <th>43</th>\n      <th>10</th>\n      <td>0.034397</td>\n      <td>0.066421</td>\n      <td>0.063783</td>\n      <td>0.014334</td>\n      <td>0.027184</td>\n      <td>0.108603</td>\n      <td>0.065853</td>\n      <td>0.044692</td>\n      <td>0.26099</td>\n      <td>0.124323</td>\n      <td>...</td>\n      <td>0.963391</td>\n      <td>0.251435</td>\n      <td>0.963391</td>\n      <td>0.011449</td>\n      <td>7.570137</td>\n      <td>0.983424</td>\n      <td>0.022646</td>\n      <td>0.561165</td>\n      <td>5.469512</td>\n      <td>0.276811</td>\n    </tr>\n    <tr>\n      <th>44</th>\n      <th>10</th>\n      <td>0.033185</td>\n      <td>0.063026</td>\n      <td>0.060429</td>\n      <td>0.013884</td>\n      <td>0.026009</td>\n      <td>0.104717</td>\n      <td>0.064769</td>\n      <td>0.042843</td>\n      <td>0.249844</td>\n      <td>0.120115</td>\n      <td>...</td>\n      <td>0.963391</td>\n      <td>0.240698</td>\n      <td>0.963391</td>\n      <td>0.05439</td>\n      <td>8.997062</td>\n      <td>0.989816</td>\n      <td>0.107581</td>\n      <td>0.666941</td>\n      <td>4.034319</td>\n      <td>0.304458</td>\n    </tr>\n    <tr>\n      <th>45</th>\n      <th>10</th>\n      <td>0.03531</td>\n      <td>0.065939</td>\n      <td>0.063075</td>\n      <td>0.015816</td>\n      <td>0.02934</td>\n      <td>0.117499</td>\n      <td>0.065434</td>\n      <td>0.045275</td>\n      <td>0.26089</td>\n      <td>0.135677</td>\n      <td>...</td>\n      <td>0.963391</td>\n      <td>0.251339</td>\n      <td>0.963391</td>\n      <td>0.091629</td>\n      <td>10.625993</td>\n      <td>0.997867</td>\n      <td>0.181236</td>\n      <td>0.787692</td>\n      <td>2.472466</td>\n      <td>0.321934</td>\n    </tr>\n    <tr>\n      <th>46</th>\n      <th>10</th>\n      <td>0.021366</td>\n      <td>0.039278</td>\n      <td>0.037497</td>\n      <td>0.008446</td>\n      <td>0.015483</td>\n      <td>0.065791</td>\n      <td>0.041574</td>\n      <td>0.027222</td>\n      <td>0.16771</td>\n      <td>0.074277</td>\n      <td>...</td>\n      <td>0.963391</td>\n      <td>0.16157</td>\n      <td>0.963391</td>\n      <td>0.112908</td>\n      <td>10.747364</td>\n      <td>0.996939</td>\n      <td>0.223324</td>\n      <td>0.796689</td>\n      <td>1.299867</td>\n      <td>0.364261</td>\n    </tr>\n    <tr>\n      <th>47</th>\n      <th>10</th>\n      <td>0.034258</td>\n      <td>0.06373</td>\n      <td>0.060966</td>\n      <td>0.015155</td>\n      <td>0.02791</td>\n      <td>0.112908</td>\n      <td>0.062496</td>\n      <td>0.043866</td>\n      <td>0.254806</td>\n      <td>0.13024</td>\n      <td>...</td>\n      <td>0.963391</td>\n      <td>0.245478</td>\n      <td>0.963391</td>\n      <td>0.120333</td>\n      <td>10.617707</td>\n      <td>0.997015</td>\n      <td>0.238012</td>\n      <td>0.787078</td>\n      <td>2.560189</td>\n      <td>0.324815</td>\n    </tr>\n    <tr>\n      <th>48</th>\n      <th>10</th>\n      <td>0.037599</td>\n      <td>0.071798</td>\n      <td>0.068925</td>\n      <td>0.016669</td>\n      <td>0.031427</td>\n      <td>0.124015</td>\n      <td>0.073011</td>\n      <td>0.048656</td>\n      <td>0.277871</td>\n      <td>0.143154</td>\n      <td>...</td>\n      <td>0.963391</td>\n      <td>0.267698</td>\n      <td>0.963391</td>\n      <td>0.063294</td>\n      <td>9.189537</td>\n      <td>0.991687</td>\n      <td>0.125191</td>\n      <td>0.681209</td>\n      <td>4.139472</td>\n      <td>0.296915</td>\n    </tr>\n    <tr>\n      <th>49</th>\n      <th>10</th>\n      <td>0.021813</td>\n      <td>0.039385</td>\n      <td>0.0375</td>\n      <td>0.00919</td>\n      <td>0.016758</td>\n      <td>0.071446</td>\n      <td>0.037622</td>\n      <td>0.027582</td>\n      <td>0.170178</td>\n      <td>0.080696</td>\n      <td>...</td>\n      <td>0.963391</td>\n      <td>0.163948</td>\n      <td>0.963391</td>\n      <td>0.184394</td>\n      <td>11.956089</td>\n      <td>0.9993</td>\n      <td>0.364721</td>\n      <td>0.886291</td>\n      <td>0.778387</td>\n      <td>0.369958</td>\n    </tr>\n  </tbody>\n</table>\n<p>50 rows × 27 columns</p>\n</div>"
     },
     "execution_count": 13,
     "metadata": {},
     "output_type": "execute_result"
    }
   ],
   "source": [
    "result_on_validation_df = search_metadata[\"result_on_validation_df\"]\n",
    "result_on_validation_df.sort_values(by=\"MAP\")\n",
    "result_on_validation_df"
   ],
   "metadata": {
    "collapsed": false
   }
  },
  {
   "cell_type": "markdown",
   "source": [
    "This are the best hyperparameters found by the bayesian search -> We will train our model using these"
   ],
   "metadata": {
    "collapsed": false
   }
  },
  {
   "cell_type": "code",
   "execution_count": 14,
   "outputs": [
    {
     "data": {
      "text/plain": "{'alpha': 0.3848682627100833,\n 'beta': 0.36189136978424513,\n 'topK': 64,\n 'implicit': True}"
     },
     "execution_count": 14,
     "metadata": {},
     "output_type": "execute_result"
    }
   ],
   "source": [
    "best_hyperparameters = search_metadata[\"hyperparameters_best\"]\n",
    "best_hyperparameters"
   ],
   "metadata": {
    "collapsed": false
   }
  },
  {
   "cell_type": "markdown",
   "source": [
    "### Recommender Testing"
   ],
   "metadata": {
    "collapsed": false
   }
  },
  {
   "cell_type": "code",
   "execution_count": 15,
   "outputs": [
    {
     "name": "stdout",
     "output_type": "stream",
     "text": [
      "RP3betaRecommender: Similarity column 24507 (100.0%), 457.72 column/sec. Elapsed time 53.54 sec\n"
     ]
    }
   ],
   "source": [
    "recommender = RP3betaRecommender(URM_all)\n",
    "recommender.fit()"
   ],
   "metadata": {
    "collapsed": false
   }
  },
  {
   "cell_type": "markdown",
   "source": [
    "### Submissions"
   ],
   "metadata": {
    "collapsed": false
   }
  },
  {
   "cell_type": "code",
   "execution_count": 17,
   "outputs": [],
   "source": [
    "test_users = pd.read_csv('Dataset/data_target_users_test.csv')"
   ],
   "metadata": {
    "collapsed": false
   }
  },
  {
   "cell_type": "code",
   "execution_count": 18,
   "outputs": [],
   "source": [
    "user_id = test_users['user_id']\n",
    "recommendations = []\n",
    "for user in user_id:\n",
    "    recommendations.append(recommender.recommend(user, cutoff=10))"
   ],
   "metadata": {
    "collapsed": false
   }
  },
  {
   "cell_type": "code",
   "execution_count": 20,
   "outputs": [],
   "source": [
    "for index in range(len(recommendations)):\n",
    "    recommendations[index]=np.array(recommendations[index])\n",
    "\n",
    "test_users['item_list']= recommendations\n",
    "test_users['item_list'] = pd.DataFrame([str(line).strip('[').strip(']').replace(\"'\",\"\") for line in test_users['item_list']])\n",
    "test_users.to_csv('Submissions\\Submission_04_RP3Beta_MixedRatings.csv', index=False)"
   ],
   "metadata": {
    "collapsed": false
   }
  },
  {
   "cell_type": "code",
   "execution_count": null,
   "outputs": [],
   "source": [],
   "metadata": {
    "collapsed": false
   }
  }
 ],
 "metadata": {
  "kernelspec": {
   "display_name": "Python 3",
   "language": "python",
   "name": "python3"
  },
  "language_info": {
   "codemirror_mode": {
    "name": "ipython",
    "version": 2
   },
   "file_extension": ".py",
   "mimetype": "text/x-python",
   "name": "python",
   "nbconvert_exporter": "python",
   "pygments_lexer": "ipython2",
   "version": "2.7.6"
  }
 },
 "nbformat": 4,
 "nbformat_minor": 0
}
