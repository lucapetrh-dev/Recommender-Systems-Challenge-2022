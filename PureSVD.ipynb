{
 "cells": [
  {
   "cell_type": "code",
   "execution_count": 2,
   "outputs": [],
   "source": [
    "import pandas as pd\n",
    "import numpy as np\n",
    "import scipy.sparse as sps\n",
    "import matplotlib.pyplot as pyplot\n",
    "\n",
    "from Evaluation.Evaluator import EvaluatorHoldout\n",
    "from Data_manager.split_functions.split_train_validation_random_holdout import split_train_in_two_percentage_global_sample\n",
    "from Utils.DataReader import load_urm, load_icm, load_target"
   ],
   "metadata": {
    "collapsed": false
   }
  },
  {
   "cell_type": "code",
   "execution_count": 3,
   "outputs": [
    {
     "name": "stdout",
     "output_type": "stream",
     "text": [
      "Warning: 1 (0.00 %) of 41629 users have no train items\n",
      "Warning: 3112 (7.48 %) of 41629 users have no sampled items\n",
      "Warning: 1 (0.00 %) of 41629 users have no train items\n",
      "Warning: 4358 (10.47 %) of 41629 users have no sampled items\n",
      "EvaluatorHoldout: Ignoring 4358 (10.5%) Users that have less than 1 test interactions\n",
      "EvaluatorHoldout: Ignoring 3112 ( 7.5%) Users that have less than 1 test interactions\n"
     ]
    }
   ],
   "source": [
    "URM_all = load_urm()\n",
    "\n",
    "URM_train, URM_test = split_train_in_two_percentage_global_sample(URM_all, train_percentage = 0.85)\n",
    "URM_train, URM_validation = split_train_in_two_percentage_global_sample(URM_train, train_percentage = 0.85)\n",
    "\n",
    "evaluator_validation = EvaluatorHoldout(URM_validation, cutoff_list=[10])\n",
    "evaluator_test = EvaluatorHoldout(URM_test, cutoff_list=[10])"
   ],
   "metadata": {
    "collapsed": false
   }
  },
  {
   "cell_type": "markdown",
   "source": [
    "## Pure SVD"
   ],
   "metadata": {
    "collapsed": false
   }
  },
  {
   "cell_type": "code",
   "execution_count": 4,
   "outputs": [],
   "source": [
    "from Recommenders.MatrixFactorization.PureSVDRecommender import PureSVDRecommender\n",
    "\n",
    "recommender_class = PureSVDRecommender"
   ],
   "metadata": {
    "collapsed": false
   }
  },
  {
   "cell_type": "markdown",
   "source": [
    "### Hyperparameter Tuning"
   ],
   "metadata": {
    "collapsed": false
   }
  },
  {
   "cell_type": "code",
   "execution_count": 5,
   "outputs": [],
   "source": [
    "from skopt.space import Integer\n",
    "#basic tuning of hyperparamether: number of factors N_k\n",
    "\n",
    "hyperparameters_range_dictionary = {\n",
    "    \"num_factors\": Integer(30, 35),\n",
    "}"
   ],
   "metadata": {
    "collapsed": false
   }
  },
  {
   "cell_type": "markdown",
   "source": [
    "We create a bayesian optimizer object, we pass the recommender and the evaluator"
   ],
   "metadata": {
    "collapsed": false
   }
  },
  {
   "cell_type": "code",
   "execution_count": 6,
   "outputs": [],
   "source": [
    "from HyperparameterTuning.SearchBayesianSkopt import SearchBayesianSkopt\n",
    "\n",
    "hyperparameterSearch = SearchBayesianSkopt(recommender_class,\n",
    "                                           evaluator_validation=evaluator_validation)"
   ],
   "metadata": {
    "collapsed": false
   }
  },
  {
   "cell_type": "markdown",
   "source": [
    "We provide the data needed to create an instance of the model, one on the URM_train, the other on the URM_all"
   ],
   "metadata": {
    "collapsed": false
   }
  },
  {
   "cell_type": "code",
   "execution_count": 7,
   "outputs": [],
   "source": [
    "from HyperparameterTuning.SearchAbstractClass import SearchInputRecommenderArgs\n",
    "\n",
    "#provide data needed to create instance of model (one on URM_train, the other on URM_all)\n",
    "recommender_input_args = SearchInputRecommenderArgs(\n",
    "    CONSTRUCTOR_POSITIONAL_ARGS = [URM_train],     # For a CBF model simply put [URM_train, ICM_train]\n",
    "    CONSTRUCTOR_KEYWORD_ARGS = {},\n",
    "    FIT_POSITIONAL_ARGS = [],\n",
    "    FIT_KEYWORD_ARGS = {}\n",
    ")\n",
    "\n",
    "recommender_input_args_last_test = SearchInputRecommenderArgs(\n",
    "    CONSTRUCTOR_POSITIONAL_ARGS = [URM_all],\n",
    "    CONSTRUCTOR_KEYWORD_ARGS = {},\n",
    "    FIT_POSITIONAL_ARGS = [],\n",
    "    FIT_KEYWORD_ARGS = {}\n",
    ")"
   ],
   "metadata": {
    "collapsed": false
   }
  },
  {
   "cell_type": "markdown",
   "source": [
    "Let's do some experiments!"
   ],
   "metadata": {
    "collapsed": false
   }
  },
  {
   "cell_type": "code",
   "execution_count": 8,
   "outputs": [],
   "source": [
    "import os\n",
    "\n",
    "output_folder_path = \"result_experiments/\"\n",
    "\n",
    "# If directory does not exist, create\n",
    "if not os.path.exists(output_folder_path):\n",
    "    os.makedirs(output_folder_path)\n",
    "\n",
    "n_cases = 5\n",
    "n_random_starts = int(n_cases*0.3)\n",
    "metric_to_optimize = \"MAP\"\n",
    "cutoff_to_optimize = 10"
   ],
   "metadata": {
    "collapsed": false
   }
  },
  {
   "cell_type": "markdown",
   "source": [
    "### Bayesian Search"
   ],
   "metadata": {
    "collapsed": false
   }
  },
  {
   "cell_type": "code",
   "execution_count": 9,
   "outputs": [
    {
     "name": "stdout",
     "output_type": "stream",
     "text": [
      "Iteration No: 1 started. Evaluating function at random point.\n",
      "SearchBayesianSkopt: Testing config: {'num_factors': 32}\n",
      "PureSVDRecommender: URM Detected 1 ( 0.0%) users with no interactions.\n",
      "PureSVDRecommender: Computing SVD decomposition...\n",
      "PureSVDRecommender: Computing SVD decomposition... done in 1.20 sec\n",
      "EvaluatorHoldout: Processed 37271 (100.0%) in 41.32 sec. Users per second: 902\n",
      "SearchBayesianSkopt: New best config found. Config 0: {'num_factors': 32} - results: PRECISION: 0.0230716, PRECISION_RECALL_MIN_DEN: 0.0564688, RECALL: 0.0556349, MAP: 0.0097705, MAP_MIN_DEN: 0.0234995, MRR: 0.0779316, NDCG: 0.0448999, F1: 0.0326170, HIT_RATE: 0.1836012, ARHR_ALL_HITS: 0.0870259, NOVELTY: 0.0040073, AVERAGE_POPULARITY: 0.1753179, DIVERSITY_MEAN_INTER_LIST: 0.9224066, DIVERSITY_HERFINDAHL: 0.9922382, COVERAGE_ITEM: 0.0132207, COVERAGE_ITEM_HIT: 0.0102012, ITEMS_IN_GT: 0.9305505, COVERAGE_USER: 0.8953134, COVERAGE_USER_HIT: 0.1643806, USERS_IN_GT: 0.8953134, DIVERSITY_GINI: 0.0050018, SHANNON_ENTROPY: 7.3387934, RATIO_DIVERSITY_HERFINDAHL: 0.9926994, RATIO_DIVERSITY_GINI: 0.0114086, RATIO_SHANNON_ENTROPY: 0.5567037, RATIO_AVERAGE_POPULARITY: 2.8958770, RATIO_NOVELTY: 0.4080854, \n",
      "\n",
      "Iteration No: 1 ended. Evaluation done at random point.\n",
      "Time taken: 43.1038\n",
      "Function value obtained: -0.0098\n",
      "Current minimum: -0.0098\n",
      "Iteration No: 2 started. Searching for the next optimal point.\n",
      "SearchBayesianSkopt: Testing config: {'num_factors': 35}\n",
      "PureSVDRecommender: URM Detected 1 ( 0.0%) users with no interactions.\n",
      "PureSVDRecommender: Computing SVD decomposition...\n",
      "PureSVDRecommender: Computing SVD decomposition... done in 1.47 sec\n",
      "EvaluatorHoldout: Processed 37271 (100.0%) in 44.96 sec. Users per second: 829\n",
      "SearchBayesianSkopt: Config 1 is suboptimal. Config: {'num_factors': 35} - results: PRECISION: 0.0227067, PRECISION_RECALL_MIN_DEN: 0.0552163, RECALL: 0.0543974, MAP: 0.0094440, MAP_MIN_DEN: 0.0224912, MRR: 0.0749477, NDCG: 0.0434570, F1: 0.0320394, HIT_RATE: 0.1806767, ARHR_ALL_HITS: 0.0839089, NOVELTY: 0.0040216, AVERAGE_POPULARITY: 0.1708730, DIVERSITY_MEAN_INTER_LIST: 0.9255415, DIVERSITY_HERFINDAHL: 0.9925517, COVERAGE_ITEM: 0.0131391, COVERAGE_ITEM_HIT: 0.0104460, ITEMS_IN_GT: 0.9305505, COVERAGE_USER: 0.8953134, COVERAGE_USER_HIT: 0.1617622, USERS_IN_GT: 0.8953134, DIVERSITY_GINI: 0.0051780, SHANNON_ENTROPY: 7.3897665, RATIO_DIVERSITY_HERFINDAHL: 0.9930130, RATIO_DIVERSITY_GINI: 0.0118104, RATIO_SHANNON_ENTROPY: 0.5605704, RATIO_AVERAGE_POPULARITY: 2.8224564, RATIO_NOVELTY: 0.4095420, \n",
      "\n",
      "Iteration No: 2 ended. Search finished for the next optimal point.\n",
      "Time taken: 46.8210\n",
      "Function value obtained: -0.0094\n",
      "Current minimum: -0.0098\n",
      "Iteration No: 3 started. Searching for the next optimal point.\n",
      "SearchBayesianSkopt: Testing config: {'num_factors': 31}\n",
      "PureSVDRecommender: URM Detected 1 ( 0.0%) users with no interactions.\n",
      "PureSVDRecommender: Computing SVD decomposition...\n",
      "PureSVDRecommender: Computing SVD decomposition... done in 1.18 sec\n",
      "EvaluatorHoldout: Processed 37271 (100.0%) in 42.16 sec. Users per second: 884\n",
      "SearchBayesianSkopt: Config 2 is suboptimal. Config: {'num_factors': 31} - results: PRECISION: 0.0230742, PRECISION_RECALL_MIN_DEN: 0.0566416, RECALL: 0.0558242, MAP: 0.0097534, MAP_MIN_DEN: 0.0234902, MRR: 0.0777899, NDCG: 0.0449201, F1: 0.0326521, HIT_RATE: 0.1840573, ARHR_ALL_HITS: 0.0868755, NOVELTY: 0.0040002, AVERAGE_POPULARITY: 0.1771559, DIVERSITY_MEAN_INTER_LIST: 0.9202425, DIVERSITY_HERFINDAHL: 0.9920218, COVERAGE_ITEM: 0.0126903, COVERAGE_ITEM_HIT: 0.0101604, ITEMS_IN_GT: 0.9305505, COVERAGE_USER: 0.8953134, COVERAGE_USER_HIT: 0.1647890, USERS_IN_GT: 0.8953134, DIVERSITY_GINI: 0.0049080, SHANNON_ENTROPY: 7.3113102, RATIO_DIVERSITY_HERFINDAHL: 0.9924829, RATIO_DIVERSITY_GINI: 0.0111946, RATIO_SHANNON_ENTROPY: 0.5546189, RATIO_AVERAGE_POPULARITY: 2.9262368, RATIO_NOVELTY: 0.4073654, \n",
      "\n",
      "Iteration No: 3 ended. Search finished for the next optimal point.\n",
      "Time taken: 43.6632\n",
      "Function value obtained: -0.0098\n",
      "Current minimum: -0.0098\n",
      "Iteration No: 4 started. Searching for the next optimal point.\n",
      "SearchBayesianSkopt: Testing config: {'num_factors': 31}\n",
      "SearchBayesianSkopt: Config 3 was already explored at index 2. Config: {'num_factors': 31} - results: PRECISION: 0.0230742, PRECISION_RECALL_MIN_DEN: 0.0566416, RECALL: 0.0558242, MAP: 0.0097534, MAP_MIN_DEN: 0.0234902, MRR: 0.0777899, NDCG: 0.0449201, F1: 0.0326521, HIT_RATE: 0.1840573, ARHR_ALL_HITS: 0.0868755, NOVELTY: 0.0040002, AVERAGE_POPULARITY: 0.1771559, DIVERSITY_MEAN_INTER_LIST: 0.9202425, DIVERSITY_HERFINDAHL: 0.9920218, COVERAGE_ITEM: 0.0126903, COVERAGE_ITEM_HIT: 0.0101604, ITEMS_IN_GT: 0.9305505, COVERAGE_USER: 0.8953134, COVERAGE_USER_HIT: 0.1647890, USERS_IN_GT: 0.8953134, DIVERSITY_GINI: 0.0049080, SHANNON_ENTROPY: 7.3113102, RATIO_DIVERSITY_HERFINDAHL: 0.9924829, RATIO_DIVERSITY_GINI: 0.0111946, RATIO_SHANNON_ENTROPY: 0.5546189, RATIO_AVERAGE_POPULARITY: 2.9262368, RATIO_NOVELTY: 0.4073654, \n",
      "\n"
     ]
    },
    {
     "name": "stderr",
     "output_type": "stream",
     "text": [
      "C:\\Users\\Luca\\miniconda3\\lib\\site-packages\\skopt\\optimizer\\optimizer.py:449: UserWarning: The objective has been evaluated at this point before.\n",
      "  warnings.warn(\"The objective has been evaluated \"\n"
     ]
    },
    {
     "name": "stdout",
     "output_type": "stream",
     "text": [
      "Iteration No: 4 ended. Search finished for the next optimal point.\n",
      "Time taken: 0.3471\n",
      "Function value obtained: -0.0098\n",
      "Current minimum: -0.0098\n",
      "Iteration No: 5 started. Searching for the next optimal point.\n",
      "SearchBayesianSkopt: Testing config: {'num_factors': 30}\n",
      "PureSVDRecommender: URM Detected 1 ( 0.0%) users with no interactions.\n",
      "PureSVDRecommender: Computing SVD decomposition...\n",
      "PureSVDRecommender: Computing SVD decomposition... done in 1.00 sec\n",
      "EvaluatorHoldout: Processed 37271 (100.0%) in 43.27 sec. Users per second: 861\n",
      "SearchBayesianSkopt: New best config found. Config 4: {'num_factors': 30} - results: PRECISION: 0.0232245, PRECISION_RECALL_MIN_DEN: 0.0567925, RECALL: 0.0559642, MAP: 0.0099635, MAP_MIN_DEN: 0.0239475, MRR: 0.0792713, NDCG: 0.0454815, F1: 0.0328264, HIT_RATE: 0.1843256, ARHR_ALL_HITS: 0.0885838, NOVELTY: 0.0039943, AVERAGE_POPULARITY: 0.1792417, DIVERSITY_MEAN_INTER_LIST: 0.9188238, DIVERSITY_HERFINDAHL: 0.9918799, COVERAGE_ITEM: 0.0127311, COVERAGE_ITEM_HIT: 0.0102012, ITEMS_IN_GT: 0.9305505, COVERAGE_USER: 0.8953134, COVERAGE_USER_HIT: 0.1650292, USERS_IN_GT: 0.8953134, DIVERSITY_GINI: 0.0048072, SHANNON_ENTROPY: 7.2854457, RATIO_DIVERSITY_HERFINDAHL: 0.9923410, RATIO_DIVERSITY_GINI: 0.0109647, RATIO_SHANNON_ENTROPY: 0.5526569, RATIO_AVERAGE_POPULARITY: 2.9606896, RATIO_NOVELTY: 0.4067601, \n",
      "\n",
      "Iteration No: 5 ended. Search finished for the next optimal point.\n",
      "Time taken: 44.6946\n",
      "Function value obtained: -0.0100\n",
      "Current minimum: -0.0100\n",
      "SearchBayesianSkopt: Search complete. Best config is 4: {'num_factors': 30}\n",
      "\n",
      "SearchBayesianSkopt: Evaluation with constructor data for final test. Using best config: {'num_factors': 30}\n",
      "PureSVDRecommender: Computing SVD decomposition...\n",
      "PureSVDRecommender: Computing SVD decomposition... done in 1.46 sec\n",
      "SearchBayesianSkopt: Saving model in result_experiments/PureSVDRecommender\n",
      "\n",
      "PureSVDRecommender: Saving model in file 'result_experiments/PureSVDRecommender_best_model_last'\n",
      "PureSVDRecommender: Saving complete\n"
     ]
    }
   ],
   "source": [
    "hyperparameterSearch.search(recommender_input_args,\n",
    "                            recommender_input_args_last_test = recommender_input_args_last_test,\n",
    "                            hyperparameter_search_space = hyperparameters_range_dictionary,\n",
    "                            n_cases = n_cases,\n",
    "                            n_random_starts = n_random_starts,\n",
    "                            save_model = \"last\",\n",
    "                            output_folder_path = output_folder_path, # Where to save the results\n",
    "                            output_file_name_root = recommender_class.RECOMMENDER_NAME, # How to call the files\n",
    "                            metric_to_optimize = metric_to_optimize,\n",
    "                            cutoff_to_optimize = cutoff_to_optimize,\n",
    "                            )"
   ],
   "metadata": {
    "collapsed": false
   }
  },
  {
   "cell_type": "markdown",
   "source": [
    "### Search Results:"
   ],
   "metadata": {
    "collapsed": false
   }
  },
  {
   "cell_type": "code",
   "execution_count": 10,
   "outputs": [
    {
     "data": {
      "text/plain": "dict_keys(['algorithm_name_recommender', 'algorithm_name_search', 'cutoff_to_optimize', 'exception_list', 'hyperparameters_best', 'hyperparameters_best_index', 'hyperparameters_df', 'metric_to_optimize', 'result_on_earlystopping_df', 'result_on_last', 'result_on_test_best', 'result_on_test_df', 'result_on_validation_best', 'result_on_validation_df', 'time_df', 'time_on_last_df', 'time_on_test_avg', 'time_on_test_total', 'time_on_train_avg', 'time_on_train_total', 'time_on_validation_avg', 'time_on_validation_total'])"
     },
     "execution_count": 10,
     "metadata": {},
     "output_type": "execute_result"
    }
   ],
   "source": [
    "from Recommenders.DataIO import DataIO\n",
    "\n",
    "data_loader = DataIO(folder_path = output_folder_path)\n",
    "search_metadata = data_loader.load_data(recommender_class.RECOMMENDER_NAME + \"_metadata.zip\")\n",
    "\n",
    "search_metadata.keys()"
   ],
   "metadata": {
    "collapsed": false
   }
  },
  {
   "cell_type": "code",
   "execution_count": 11,
   "outputs": [
    {
     "data": {
      "text/plain": "  num_factors\n0          32\n1          35\n2          31\n3          31\n4          30",
      "text/html": "<div>\n<style scoped>\n    .dataframe tbody tr th:only-of-type {\n        vertical-align: middle;\n    }\n\n    .dataframe tbody tr th {\n        vertical-align: top;\n    }\n\n    .dataframe thead th {\n        text-align: right;\n    }\n</style>\n<table border=\"1\" class=\"dataframe\">\n  <thead>\n    <tr style=\"text-align: right;\">\n      <th></th>\n      <th>num_factors</th>\n    </tr>\n  </thead>\n  <tbody>\n    <tr>\n      <th>0</th>\n      <td>32</td>\n    </tr>\n    <tr>\n      <th>1</th>\n      <td>35</td>\n    </tr>\n    <tr>\n      <th>2</th>\n      <td>31</td>\n    </tr>\n    <tr>\n      <th>3</th>\n      <td>31</td>\n    </tr>\n    <tr>\n      <th>4</th>\n      <td>30</td>\n    </tr>\n  </tbody>\n</table>\n</div>"
     },
     "execution_count": 11,
     "metadata": {},
     "output_type": "execute_result"
    }
   ],
   "source": [
    "hyperparameters_df = search_metadata[\"hyperparameters_df\"]\n",
    "hyperparameters_df"
   ],
   "metadata": {
    "collapsed": false
   }
  },
  {
   "cell_type": "code",
   "execution_count": 12,
   "outputs": [
    {
     "data": {
      "text/plain": "         PRECISION PRECISION_RECALL_MIN_DEN    RECALL       MAP MAP_MIN_DEN  \\\n  cutoff                                                                      \n0 10      0.023072                 0.056469  0.055635   0.00977      0.0235   \n1 10      0.022707                 0.055216  0.054397  0.009444    0.022491   \n2 10      0.023074                 0.056642  0.055824  0.009753     0.02349   \n3 10      0.023074                 0.056642  0.055824  0.009753     0.02349   \n4 10      0.023224                 0.056793  0.055964  0.009964    0.023947   \n\n               MRR      NDCG        F1  HIT_RATE ARHR_ALL_HITS  ...  \\\n  cutoff                                                        ...   \n0 10      0.077932    0.0449  0.032617  0.183601      0.087026  ...   \n1 10      0.074948  0.043457  0.032039  0.180677      0.083909  ...   \n2 10       0.07779   0.04492  0.032652  0.184057      0.086875  ...   \n3 10       0.07779   0.04492  0.032652  0.184057      0.086875  ...   \n4 10      0.079271  0.045482  0.032826  0.184326      0.088584  ...   \n\n         COVERAGE_USER COVERAGE_USER_HIT USERS_IN_GT DIVERSITY_GINI  \\\n  cutoff                                                              \n0 10          0.895313          0.164381    0.895313       0.005002   \n1 10          0.895313          0.161762    0.895313       0.005178   \n2 10          0.895313          0.164789    0.895313       0.004908   \n3 10          0.895313          0.164789    0.895313       0.004908   \n4 10          0.895313          0.165029    0.895313       0.004807   \n\n         SHANNON_ENTROPY RATIO_DIVERSITY_HERFINDAHL RATIO_DIVERSITY_GINI  \\\n  cutoff                                                                   \n0 10            7.338793                   0.992699             0.011409   \n1 10            7.389767                   0.993013              0.01181   \n2 10             7.31131                   0.992483             0.011195   \n3 10             7.31131                   0.992483             0.011195   \n4 10            7.285446                   0.992341             0.010965   \n\n         RATIO_SHANNON_ENTROPY RATIO_AVERAGE_POPULARITY RATIO_NOVELTY  \n  cutoff                                                               \n0 10                  0.556704                 2.895877      0.408085  \n1 10                   0.56057                 2.822456      0.409542  \n2 10                  0.554619                 2.926237      0.407365  \n3 10                  0.554619                 2.926237      0.407365  \n4 10                  0.552657                  2.96069       0.40676  \n\n[5 rows x 27 columns]",
      "text/html": "<div>\n<style scoped>\n    .dataframe tbody tr th:only-of-type {\n        vertical-align: middle;\n    }\n\n    .dataframe tbody tr th {\n        vertical-align: top;\n    }\n\n    .dataframe thead th {\n        text-align: right;\n    }\n</style>\n<table border=\"1\" class=\"dataframe\">\n  <thead>\n    <tr style=\"text-align: right;\">\n      <th></th>\n      <th></th>\n      <th>PRECISION</th>\n      <th>PRECISION_RECALL_MIN_DEN</th>\n      <th>RECALL</th>\n      <th>MAP</th>\n      <th>MAP_MIN_DEN</th>\n      <th>MRR</th>\n      <th>NDCG</th>\n      <th>F1</th>\n      <th>HIT_RATE</th>\n      <th>ARHR_ALL_HITS</th>\n      <th>...</th>\n      <th>COVERAGE_USER</th>\n      <th>COVERAGE_USER_HIT</th>\n      <th>USERS_IN_GT</th>\n      <th>DIVERSITY_GINI</th>\n      <th>SHANNON_ENTROPY</th>\n      <th>RATIO_DIVERSITY_HERFINDAHL</th>\n      <th>RATIO_DIVERSITY_GINI</th>\n      <th>RATIO_SHANNON_ENTROPY</th>\n      <th>RATIO_AVERAGE_POPULARITY</th>\n      <th>RATIO_NOVELTY</th>\n    </tr>\n    <tr>\n      <th></th>\n      <th>cutoff</th>\n      <th></th>\n      <th></th>\n      <th></th>\n      <th></th>\n      <th></th>\n      <th></th>\n      <th></th>\n      <th></th>\n      <th></th>\n      <th></th>\n      <th></th>\n      <th></th>\n      <th></th>\n      <th></th>\n      <th></th>\n      <th></th>\n      <th></th>\n      <th></th>\n      <th></th>\n      <th></th>\n      <th></th>\n    </tr>\n  </thead>\n  <tbody>\n    <tr>\n      <th>0</th>\n      <th>10</th>\n      <td>0.023072</td>\n      <td>0.056469</td>\n      <td>0.055635</td>\n      <td>0.00977</td>\n      <td>0.0235</td>\n      <td>0.077932</td>\n      <td>0.0449</td>\n      <td>0.032617</td>\n      <td>0.183601</td>\n      <td>0.087026</td>\n      <td>...</td>\n      <td>0.895313</td>\n      <td>0.164381</td>\n      <td>0.895313</td>\n      <td>0.005002</td>\n      <td>7.338793</td>\n      <td>0.992699</td>\n      <td>0.011409</td>\n      <td>0.556704</td>\n      <td>2.895877</td>\n      <td>0.408085</td>\n    </tr>\n    <tr>\n      <th>1</th>\n      <th>10</th>\n      <td>0.022707</td>\n      <td>0.055216</td>\n      <td>0.054397</td>\n      <td>0.009444</td>\n      <td>0.022491</td>\n      <td>0.074948</td>\n      <td>0.043457</td>\n      <td>0.032039</td>\n      <td>0.180677</td>\n      <td>0.083909</td>\n      <td>...</td>\n      <td>0.895313</td>\n      <td>0.161762</td>\n      <td>0.895313</td>\n      <td>0.005178</td>\n      <td>7.389767</td>\n      <td>0.993013</td>\n      <td>0.01181</td>\n      <td>0.56057</td>\n      <td>2.822456</td>\n      <td>0.409542</td>\n    </tr>\n    <tr>\n      <th>2</th>\n      <th>10</th>\n      <td>0.023074</td>\n      <td>0.056642</td>\n      <td>0.055824</td>\n      <td>0.009753</td>\n      <td>0.02349</td>\n      <td>0.07779</td>\n      <td>0.04492</td>\n      <td>0.032652</td>\n      <td>0.184057</td>\n      <td>0.086875</td>\n      <td>...</td>\n      <td>0.895313</td>\n      <td>0.164789</td>\n      <td>0.895313</td>\n      <td>0.004908</td>\n      <td>7.31131</td>\n      <td>0.992483</td>\n      <td>0.011195</td>\n      <td>0.554619</td>\n      <td>2.926237</td>\n      <td>0.407365</td>\n    </tr>\n    <tr>\n      <th>3</th>\n      <th>10</th>\n      <td>0.023074</td>\n      <td>0.056642</td>\n      <td>0.055824</td>\n      <td>0.009753</td>\n      <td>0.02349</td>\n      <td>0.07779</td>\n      <td>0.04492</td>\n      <td>0.032652</td>\n      <td>0.184057</td>\n      <td>0.086875</td>\n      <td>...</td>\n      <td>0.895313</td>\n      <td>0.164789</td>\n      <td>0.895313</td>\n      <td>0.004908</td>\n      <td>7.31131</td>\n      <td>0.992483</td>\n      <td>0.011195</td>\n      <td>0.554619</td>\n      <td>2.926237</td>\n      <td>0.407365</td>\n    </tr>\n    <tr>\n      <th>4</th>\n      <th>10</th>\n      <td>0.023224</td>\n      <td>0.056793</td>\n      <td>0.055964</td>\n      <td>0.009964</td>\n      <td>0.023947</td>\n      <td>0.079271</td>\n      <td>0.045482</td>\n      <td>0.032826</td>\n      <td>0.184326</td>\n      <td>0.088584</td>\n      <td>...</td>\n      <td>0.895313</td>\n      <td>0.165029</td>\n      <td>0.895313</td>\n      <td>0.004807</td>\n      <td>7.285446</td>\n      <td>0.992341</td>\n      <td>0.010965</td>\n      <td>0.552657</td>\n      <td>2.96069</td>\n      <td>0.40676</td>\n    </tr>\n  </tbody>\n</table>\n<p>5 rows × 27 columns</p>\n</div>"
     },
     "execution_count": 12,
     "metadata": {},
     "output_type": "execute_result"
    }
   ],
   "source": [
    "result_on_validation_df = search_metadata[\"result_on_validation_df\"]\n",
    "result_on_validation_df"
   ],
   "metadata": {
    "collapsed": false
   }
  },
  {
   "cell_type": "code",
   "execution_count": 13,
   "outputs": [
    {
     "data": {
      "text/plain": "{'num_factors': 30}"
     },
     "execution_count": 13,
     "metadata": {},
     "output_type": "execute_result"
    }
   ],
   "source": [
    "best_hyperparameters = search_metadata[\"hyperparameters_best\"]\n",
    "best_hyperparameters"
   ],
   "metadata": {
    "collapsed": false
   }
  },
  {
   "cell_type": "markdown",
   "source": [
    "## Recommender Testing"
   ],
   "metadata": {
    "collapsed": false
   }
  },
  {
   "cell_type": "code",
   "execution_count": 15,
   "outputs": [
    {
     "name": "stdout",
     "output_type": "stream",
     "text": [
      "PureSVDRecommender: Computing SVD decomposition...\n",
      "PureSVDRecommender: Computing SVD decomposition... done in 1.35 sec\n"
     ]
    }
   ],
   "source": [
    "recommender = PureSVDRecommender(URM_all)\n",
    "recommender.fit(num_factors=30)"
   ],
   "metadata": {
    "collapsed": false
   }
  },
  {
   "cell_type": "markdown",
   "source": [
    "## Submissions"
   ],
   "metadata": {
    "collapsed": false
   }
  },
  {
   "cell_type": "code",
   "execution_count": 16,
   "outputs": [],
   "source": [
    "test_users = pd.read_csv('../Dataset/data_target_users_test.csv')"
   ],
   "metadata": {
    "collapsed": false
   }
  },
  {
   "cell_type": "code",
   "execution_count": 17,
   "outputs": [],
   "source": [
    "user_id = test_users['user_id']\n",
    "recommendations = []\n",
    "for user in user_id:\n",
    "    recommendations.append(recommender.recommend(user, cutoff=10))"
   ],
   "metadata": {
    "collapsed": false
   }
  },
  {
   "cell_type": "code",
   "execution_count": 18,
   "outputs": [],
   "source": [
    "for index in range(len(recommendations)):\n",
    "    recommendations[index]=np.array(recommendations[index])\n",
    "\n",
    "test_users['item_list']= recommendations\n",
    "test_users['item_list'] = pd.DataFrame([str(line).strip('[').strip(']').replace(\"'\",\"\") for line in test_users['item_list']])\n",
    "test_users.to_csv('..\\Submissions\\Submission_03_10933934_PureSVD.csv', index=False)"
   ],
   "metadata": {
    "collapsed": false
   }
  }
 ],
 "metadata": {
  "kernelspec": {
   "display_name": "Python 3",
   "language": "python",
   "name": "python3"
  },
  "language_info": {
   "codemirror_mode": {
    "name": "ipython",
    "version": 2
   },
   "file_extension": ".py",
   "mimetype": "text/x-python",
   "name": "python",
   "nbconvert_exporter": "python",
   "pygments_lexer": "ipython2",
   "version": "2.7.6"
  }
 },
 "nbformat": 4,
 "nbformat_minor": 0
}
