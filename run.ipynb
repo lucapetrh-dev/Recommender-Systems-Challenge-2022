{
 "metadata": {
  "kernelspec": {
   "language": "python",
   "display_name": "Python 3",
   "name": "python3"
  },
  "language_info": {
   "name": "python",
   "version": "3.7.12",
   "mimetype": "text/x-python",
   "codemirror_mode": {
    "name": "ipython",
    "version": 3
   },
   "pygments_lexer": "ipython3",
   "nbconvert_exporter": "python",
   "file_extension": ".py"
  }
 },
 "nbformat_minor": 4,
 "nbformat": 4,
 "cells": [
  {
   "cell_type": "code",
   "source": [
    "import os\n",
    "import traceback\n",
    "import numpy as np\n",
    "import pandas as pd\n",
    "import scipy.sparse as sps\n",
    "from tqdm import tqdm\n",
    "\n",
    "from Data_manager.split_functions.split_train_validation_random_holdout import split_train_in_two_percentage_global_sample\n",
    "from Evaluation.Evaluator import EvaluatorHoldout\n",
    "from Recommenders.BaseCBFRecommender import BaseItemCBFRecommender\n",
    "from Recommenders.Hybrids.HybridRatings_EASE_R_hybrid_SLIM_Rp3 import HybridRatings_EASE_R_hybrid_SLIM_Rp3\n",
    "from Recommenders.Hybrids.HybridRatings_IALS_hybrid_EASE_R_hybrid_SLIM_Rp3 import \\\n",
    "    HybridRatings_IALS_hybrid_EASE_R_hybrid_SLIM_Rp3\n",
    "from Recommenders.Hybrids.HybridRatings_PureSVD_EASE_R import HybridRatings_PureSVD_EASE_R\n",
    "from Recommenders.Hybrids.HybridRatings_SLIM_EASE_R_PureSVD import HybridRatings_SLIM_PureSVD_EASE_R\n",
    "from Recommenders.Hybrids.HybridRatings_SLIM_Rp3 import HybridRatings_SLIM_Rp3\n",
    "from Recommenders.Hybrids.HybridSimilarity_SLIM_Rp3 import HybridSimilarity_SLIM_Rp3\n",
    "from Recommenders.Hybrids.HybridSimilarity_withGroupedUsers import HybridSimilarity_withGroupedusers\n",
    "from Recommenders.Hybrids.Hybrid_SLIM_EASE_R_IALS import Hybrid_SLIM_EASE_R_IALS\n",
    "from Recommenders.Hybrids.Hybrid_SlimElastic_Rp3 import Hybrid_SlimElastic_Rp3\n",
    "from Recommenders.Hybrids.Hybrid_SlimElastic_Rp3_PureSVD import Hybrid_SlimElastic_Rp3_PureSVD\n",
    "from Recommenders.Hybrids.scores.ScoresHybridRP3betaKNNCBF import ScoresHybridRP3betaKNNCBF\n",
    "from Recommenders.Recommender_import_list import *\n",
    "from Recommenders.Recommender_utils import check_matrix\n",
    "from Utils.DataReader import load_urm, load_icm, load_target\n",
    "\n",
    "output_root_path = \"Experiments/\""
   ],
   "metadata": {
    "execution": {
     "iopub.status.busy": "2022-11-22T10:26:34.328597Z",
     "iopub.execute_input": "2022-11-22T10:26:34.328954Z",
     "iopub.status.idle": "2022-11-22T10:26:40.173822Z",
     "shell.execute_reply.started": "2022-11-22T10:26:34.328911Z",
     "shell.execute_reply": "2022-11-22T10:26:40.172941Z"
    },
    "trusted": true
   },
   "execution_count": 3,
   "outputs": []
  },
  {
   "cell_type": "code",
   "source": [
    "URM_all = load_urm()\n",
    "\n",
    "URM_train, URM_test = split_train_in_two_percentage_global_sample(URM_all, train_percentage = 0.85)\n",
    "URM_train, URM_validation = split_train_in_two_percentage_global_sample(URM_train, train_percentage = 0.85)\n",
    "\n",
    "evaluator_validation = EvaluatorHoldout(URM_validation, cutoff_list=[10])\n",
    "evaluator_test = EvaluatorHoldout(URM_test, cutoff_list=[10])"
   ],
   "metadata": {
    "execution": {
     "iopub.status.busy": "2022-11-22T10:26:40.226553Z",
     "iopub.execute_input": "2022-11-22T10:26:40.227419Z",
     "iopub.status.idle": "2022-11-22T10:26:46.408936Z",
     "shell.execute_reply.started": "2022-11-22T10:26:40.227388Z",
     "shell.execute_reply": "2022-11-22T10:26:46.407605Z"
    },
    "trusted": true
   },
   "execution_count": 8,
   "outputs": [
    {
     "name": "stdout",
     "text": "Warning: 949 (2.28 %) of 41629 users have no sampled items\nWarning: 1510 (3.63 %) of 41629 users have no sampled items\nEvaluatorHoldout: Ignoring 1510 ( 3.6%) Users that have less than 1 test interactions\nEvaluatorHoldout: Ignoring 949 ( 2.3%) Users that have less than 1 test interactions\n",
     "output_type": "stream"
    }
   ]
  },
  {
   "cell_type": "markdown",
   "source": [
    "## Recommenders List"
   ],
   "metadata": {
    "collapsed": false
   }
  },
  {
   "cell_type": "code",
   "execution_count": 4,
   "outputs": [],
   "source": [
    "recommender_class_list = [\n",
    "    # UserKNNCBFRecommender, # UCM needed\n",
    "    # ItemKNNCBFRecommender,\n",
    "    # ItemKNNCBFWeightedSimilarityRecommender,  # new\n",
    "    # UserKNN_CFCBF_Hybrid_Recommender, # UCM needed\n",
    "    # ItemKNN_CFCBF_Hybrid_Recommender,\n",
    "    # SLIMElasticNetRecommender,  # too slow to train\n",
    "    # UserKNNCFRecommender,\n",
    "    # IALSRecommender,\n",
    "    # IALSRecommender_implicit,\n",
    "    # MatrixFactorization_BPR_Cython,\n",
    "    # MatrixFactorization_FunkSVD_Cython, # fix low values\n",
    "    # MatrixFactorization_AsySVD_Cython, # fix low values\n",
    "    # EASE_R_Recommender,\n",
    "    # ItemKNNCFRecommender,\n",
    "    # P3alphaRecommender,\n",
    "    # SLIM_BPR_Cython,\n",
    "    # RP3betaRecommender,\n",
    "    # PureSVDRecommender,\n",
    "    # PureSVDItemRecommender\n",
    "    # NMFRecommender,\n",
    "\n",
    "    # LightFMCFRecommender,\n",
    "    # LightFMUserHybridRecommender, # UCM needed\n",
    "    # LightFMItemHybridRecommender,\n",
    "\n",
    "    # Hybrid_SlimElastic_Rp3,\n",
    "    Hybrid_SlimElastic_Rp3_PureSVD,\n",
    "    # Hybrid_SlimElastic_Rp3_ItemKNNCF\n",
    "    # Hybrid_SLIM_EASE_R_IALS\n",
    "\n",
    "    # HybridSimilarity_SLIM_Rp3,\n",
    "    # HybridSimilarity_withSlimPerGroup\n",
    "    # HybridSimilarity_withGroupedusers\n",
    "    # HybridGrouping_SLIM_TopPop\n",
    "\n",
    "    # HybridRatings_SLIM_Rp3,\n",
    "    # HybridRatings_SLIM_EASE_R,\n",
    "    # HybridRatings_EASE_R_hybrid_SLIM_Rp3\n",
    "    # HybridRatings_PureSVD_EASE_R\n",
    "    # HybridRatings_SLIM_PureSVD_EASE_R\n",
    "    # HybridRatings_IALS_hybrid_EASE_R_hybrid_SLIM_Rp3\n",
    "    # MultiRecommender\n",
    "]"
   ],
   "metadata": {
    "collapsed": false
   }
  },
  {
   "cell_type": "code",
   "execution_count": 5,
   "outputs": [],
   "source": [
    "# If directory does not exist, create\n",
    "if not os.path.exists(output_root_path):\n",
    "    os.makedirs(output_root_path)\n",
    "\n",
    "logFile = open(output_root_path + \"result_all_algorithms.txt\", \"a\")"
   ],
   "metadata": {
    "collapsed": false
   }
  },
  {
   "cell_type": "code",
   "execution_count": 6,
   "outputs": [],
   "source": [
    "def _get_instance(recommender_class, URM_train, ICM=None):\n",
    "    if issubclass(recommender_class, BaseItemCBFRecommender) or issubclass(recommender_class,\n",
    "                                                                           ScoresHybridRP3betaKNNCBF):\n",
    "        recommender_object = recommender_class(URM_train, ICM)\n",
    "    else:\n",
    "        recommender_object = recommender_class(URM_train)\n",
    "\n",
    "    return recommender_object"
   ],
   "metadata": {
    "collapsed": false
   }
  },
  {
   "cell_type": "markdown",
   "source": [
    "## Hyperparameter Tuning - Search Bayesian Skopt"
   ],
   "metadata": {
    "collapsed": false
   }
  },
  {
   "cell_type": "code",
   "execution_count": 7,
   "outputs": [],
   "source": [
    "def _get_params(recommender_object):\n",
    "    if isinstance(recommender_object, ItemKNNCFRecommender):\n",
    "        fit_params = {'topK': 189, 'shrink': 0, 'similarity': 'cosine', 'normalize': True,\n",
    "                      'feature_weighting': 'TF-IDF'}\n",
    "    elif isinstance(recommender_object, ItemKNNCBFRecommender):\n",
    "        fit_params = {'topK': 1000, 'shrink': 1000, 'similarity': 'cosine', 'normalize': False,\n",
    "                      'feature_weighting': 'TF-IDF'}\n",
    "    elif isinstance(recommender_object, SLIMElasticNetRecommender):\n",
    "        fit_params = {\"topK\": 453, 'l1_ratio': 0.00029920499017254754, 'alpha': 0.10734084960757517}\n",
    "    elif isinstance(recommender_object, IALSRecommender):\n",
    "        fit_params = {'n_factors': 50, 'regularization': 0.001847510119137634}\n",
    "    elif isinstance(recommender_object, RP3betaRecommender):\n",
    "        fit_params = {'topK': 40, 'alpha': 0.4208737801266599, 'beta': 0.5251543657397256}\n",
    "    elif isinstance(recommender_object, MultVAERecommender):\n",
    "        fit_params = {'topK': 615, 'l1_ratio': 0.007030044688343361, 'alpha': 0.07010526286528686}\n",
    "    elif isinstance(recommender_object, Hybrid_SlimElastic_Rp3):\n",
    "        fit_params = {'alpha': 0.9}\n",
    "    elif isinstance(recommender_object, HybridRatings_SLIM_Rp3):\n",
    "        fit_params = {'alpha': 0.9}\n",
    "    elif isinstance(recommender_object, HybridSimilarity_SLIM_Rp3):\n",
    "        fit_params = {'alpha': 0.9610229519605884, 'topK': 1199}\n",
    "    elif isinstance(recommender_object, HybridSimilarity_withGroupedusers):\n",
    "        fit_params = {'alpha': 0.979326712891909, 'topK': 1349}\n",
    "    elif isinstance(recommender_object, PureSVDRecommender):\n",
    "        fit_params = {'num_factors': 28, 'random_seed': 0}\n",
    "    elif isinstance(recommender_object, Hybrid_SlimElastic_Rp3_PureSVD):\n",
    "        fit_params = {'alpha': 0.95, 'beta': 0.1, 'gamma': 0.1}\n",
    "    elif isinstance(recommender_object, HybridRatings_EASE_R_hybrid_SLIM_Rp3):\n",
    "        fit_params = {'alpha': 0.9610229519605884}\n",
    "    elif isinstance(recommender_object, HybridRatings_PureSVD_EASE_R):\n",
    "        fit_params = {'alpha': 0.5}\n",
    "    elif isinstance(recommender_object, HybridRatings_SLIM_PureSVD_EASE_R):\n",
    "        fit_params = {'alpha': 0.95}\n",
    "    elif isinstance(recommender_object, Hybrid_SLIM_EASE_R_IALS):\n",
    "        fit_params = {'alpha': 0.3815016492157693, 'beta': 0.5802064204762605, 'gamma': 0.06145838241599496}\n",
    "    elif isinstance(recommender_object, HybridRatings_EASE_R_hybrid_SLIM_Rp3):\n",
    "        fit_params = {'alpha': 0.95}\n",
    "    elif isinstance(recommender_object, HybridRatings_IALS_hybrid_EASE_R_hybrid_SLIM_Rp3):\n",
    "        # Average 5-fold MAP: 0.2480472, diff: 0.0020975\n",
    "        fit_params = {'alpha': 0.9560759641998946, 'beta': 0.7550858561550403, 'gamma': 0.5227204586158875,\n",
    "                      'alpha1': 0.9739242060693925, 'beta1': 0.32744235125291515, 'topK1': 837}\n",
    "    else:\n",
    "        fit_params = {}\n",
    "\n",
    "    return fit_params"
   ],
   "metadata": {
    "collapsed": false
   }
  },
  {
   "cell_type": "markdown",
   "source": [
    "## Testing the Recommender"
   ],
   "metadata": {
    "collapsed": false
   }
  },
  {
   "cell_type": "code",
   "source": [
    "for recommender_class in recommender_class_list:\n",
    "\n",
    "    print(\"Algorithm: {}\".format(recommender_class.RECOMMENDER_NAME))\n",
    "\n",
    "    recommender_object = _get_instance(recommender_class, URM_train)\n",
    "    fit_params = _get_params(recommender_object)\n",
    "    recommender_object.fit(**fit_params)"
   ],
   "metadata": {
    "execution": {
     "iopub.status.busy": "2022-11-22T10:26:46.410555Z",
     "iopub.execute_input": "2022-11-22T10:26:46.412541Z"
    },
    "trusted": true
   },
   "execution_count": null,
   "outputs": [
    {
     "name": "stdout",
     "text": "Algorithm: HybridSlimElasticRp3PureSVD\nPureSVDRecommender: Computing SVD decomposition...\nPureSVDRecommender: Computing SVD decomposition... done in 1.42 sec\nSLIMElasticNetRecommender: Processed 4180 (17.1%) in 5.00 min. Items per second: 13.93\nSLIMElasticNetRecommender: Processed 8909 (36.4%) in 10.00 min. Items per second: 14.84\nSLIMElasticNetRecommender: Processed 13600 (55.5%) in 15.00 min. Items per second: 15.11\nSLIMElasticNetRecommender: Processed 18224 (74.4%) in 20.00 min. Items per second: 15.18\nSLIMElasticNetRecommender: Processed 22936 (93.6%) in 25.00 min. Items per second: 15.29\nSLIMElasticNetRecommender: Processed 24507 (100.0%) in 26.69 min. Items per second: 15.31\nRP3betaRecommender: Similarity column 24507 (100.0%), 998.59 column/sec. Elapsed time 24.54 sec\n",
     "output_type": "stream"
    }
   ]
  },
  {
   "cell_type": "markdown",
   "source": [
    "## Evaluation"
   ],
   "metadata": {
    "collapsed": false
   }
  },
  {
   "cell_type": "code",
   "source": [
    "results = evaluator_validation.evaluateRecommender(recommender_object)\n",
    "results"
   ],
   "metadata": {
    "execution": {
     "iopub.status.busy": "2022-11-22T11:00:35.283214Z",
     "iopub.execute_input": "2022-11-22T11:00:35.283781Z",
     "iopub.status.idle": "2022-11-22T11:00:35.382530Z",
     "shell.execute_reply.started": "2022-11-22T11:00:35.283671Z",
     "shell.execute_reply": "2022-11-22T11:00:35.380678Z"
    },
    "trusted": true
   },
   "execution_count": 1,
   "outputs": [
    {
     "traceback": [
      "\u001B[0;31m---------------------------------------------------------------------------\u001B[0m",
      "\u001B[0;31mNameError\u001B[0m                                 Traceback (most recent call last)",
      "\u001B[0;32m/tmp/ipykernel_111/3395563249.py\u001B[0m in \u001B[0;36m<module>\u001B[0;34m\u001B[0m\n\u001B[0;32m----> 1\u001B[0;31m \u001B[0mresults\u001B[0m \u001B[0;34m=\u001B[0m \u001B[0mevaluator_validation\u001B[0m\u001B[0;34m.\u001B[0m\u001B[0mevaluateRecommender\u001B[0m\u001B[0;34m(\u001B[0m\u001B[0mrecommender_object\u001B[0m\u001B[0;34m)\u001B[0m\u001B[0;34m\u001B[0m\u001B[0;34m\u001B[0m\u001B[0m\n\u001B[0m\u001B[1;32m      2\u001B[0m \u001B[0mresults\u001B[0m\u001B[0;34m\u001B[0m\u001B[0;34m\u001B[0m\u001B[0m\n",
      "\u001B[0;31mNameError\u001B[0m: name 'evaluator_validation' is not defined"
     ],
     "ename": "NameError",
     "evalue": "name 'evaluator_validation' is not defined",
     "output_type": "error"
    }
   ]
  },
  {
   "cell_type": "markdown",
   "source": [
    "## Submissions"
   ],
   "metadata": {}
  },
  {
   "cell_type": "code",
   "source": [
    "test_users = pd.read_csv(\"Dataset/data_target_users_test.csv\")"
   ],
   "metadata": {
    "trusted": true
   },
   "execution_count": null,
   "outputs": []
  },
  {
   "cell_type": "code",
   "source": [
    "user_id = test_users['user_id']\n",
    "recommendations = []\n",
    "for user in user_id:\n",
    "    recommendations.append(recommender_object.recommend(user, cutoff=10))"
   ],
   "metadata": {
    "trusted": true
   },
   "execution_count": null,
   "outputs": []
  },
  {
   "cell_type": "code",
   "source": [
    "for index in range(len(recommendations)):\n",
    "    recommendations[index]=np.array(recommendations[index])\n",
    "\n",
    "test_users['item_list']= recommendations\n",
    "test_users['item_list'] = pd.DataFrame([str(line).strip('[').strip(']').replace(\"'\",\"\") for line in test_users['item_list']])\n",
    "test_users.to_csv('Submissions\\Submission_SLIM_ElasticNet_rp3_PureSVD.csv', index=False)"
   ],
   "metadata": {
    "trusted": true
   },
   "execution_count": null,
   "outputs": []
  }
 ]
}
