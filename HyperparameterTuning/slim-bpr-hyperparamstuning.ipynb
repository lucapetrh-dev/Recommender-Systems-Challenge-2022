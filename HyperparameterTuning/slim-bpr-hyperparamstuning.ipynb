{
 "cells": [
  {
   "cell_type": "code",
   "execution_count": 2,
   "id": "829e618b",
   "metadata": {
    "execution": {
     "iopub.execute_input": "2022-12-01T01:39:28.387981Z",
     "iopub.status.busy": "2022-12-01T01:39:28.387700Z",
     "iopub.status.idle": "2022-12-01T01:39:28.464922Z",
     "shell.execute_reply": "2022-12-01T01:39:28.464201Z"
    },
    "papermill": {
     "duration": 0.086149,
     "end_time": "2022-12-01T01:39:28.466754",
     "exception": false,
     "start_time": "2022-12-01T01:39:28.380605",
     "status": "completed"
    },
    "tags": []
   },
   "outputs": [],
   "source": [
    "import numpy as np\n",
    "import pandas as pd\n",
    "import scipy.sparse as sps"
   ]
  },
  {
   "cell_type": "code",
   "execution_count": 3,
   "id": "5e9d4024",
   "metadata": {
    "collapsed": false,
    "execution": {
     "iopub.execute_input": "2022-12-01T01:39:28.480660Z",
     "iopub.status.busy": "2022-12-01T01:39:28.480430Z",
     "iopub.status.idle": "2022-12-01T01:39:28.513483Z",
     "shell.execute_reply": "2022-12-01T01:39:28.512675Z"
    },
    "jupyter": {
     "outputs_hidden": false
    },
    "papermill": {
     "duration": 0.042065,
     "end_time": "2022-12-01T01:39:28.515319",
     "exception": false,
     "start_time": "2022-12-01T01:39:28.473254",
     "status": "completed"
    },
    "tags": []
   },
   "outputs": [],
   "source": [
    "from Evaluation.Evaluator import EvaluatorHoldout\n",
    "from Data_manager.split_functions.split_train_validation_random_holdout import split_train_in_two_percentage_global_sample\n",
    "from Utils.DataReader import load_urm, load_icm, load_target"
   ]
  },
  {
   "cell_type": "code",
   "execution_count": 4,
   "id": "a01752ec",
   "metadata": {
    "collapsed": false,
    "execution": {
     "iopub.execute_input": "2022-12-01T01:39:28.529212Z",
     "iopub.status.busy": "2022-12-01T01:39:28.528979Z",
     "iopub.status.idle": "2022-12-01T01:39:33.337735Z",
     "shell.execute_reply": "2022-12-01T01:39:33.336662Z"
    },
    "jupyter": {
     "outputs_hidden": false
    },
    "papermill": {
     "duration": 4.817632,
     "end_time": "2022-12-01T01:39:33.339510",
     "exception": false,
     "start_time": "2022-12-01T01:39:28.521878",
     "status": "completed"
    },
    "tags": []
   },
   "outputs": [
    {
     "name": "stdout",
     "output_type": "stream",
     "text": [
      "Warning: 955 (2.29 %) of 41629 users have no sampled items\n",
      "Warning: 1580 (3.80 %) of 41629 users have no sampled items\n",
      "EvaluatorHoldout: Ignoring 1580 ( 3.8%) Users that have less than 1 test interactions\n",
      "EvaluatorHoldout: Ignoring 955 ( 2.3%) Users that have less than 1 test interactions\n"
     ]
    }
   ],
   "source": [
    "URM_all = load_urm()\n",
    "\n",
    "URM_train, URM_test = split_train_in_two_percentage_global_sample(URM_all, train_percentage = 0.85)\n",
    "URM_train, URM_validation = split_train_in_two_percentage_global_sample(URM_train, train_percentage = 0.85)\n",
    "\n",
    "evaluator_validation = EvaluatorHoldout(URM_validation, cutoff_list=[10])\n",
    "evaluator_test = EvaluatorHoldout(URM_test, cutoff_list=[10])"
   ]
  },
  {
   "cell_type": "markdown",
   "id": "ac73ef52",
   "metadata": {
    "papermill": {
     "duration": 0.006185,
     "end_time": "2022-12-01T01:39:33.352411",
     "exception": false,
     "start_time": "2022-12-01T01:39:33.346226",
     "status": "completed"
    },
    "tags": []
   },
   "source": [
    "## Slim BPR"
   ]
  },
  {
   "cell_type": "code",
   "execution_count": 5,
   "id": "da3ad4be",
   "metadata": {
    "collapsed": false,
    "execution": {
     "iopub.execute_input": "2022-12-01T01:39:33.367835Z",
     "iopub.status.busy": "2022-12-01T01:39:33.366919Z",
     "iopub.status.idle": "2022-12-01T01:39:33.376541Z",
     "shell.execute_reply": "2022-12-01T01:39:33.375861Z"
    },
    "jupyter": {
     "outputs_hidden": false
    },
    "papermill": {
     "duration": 0.018313,
     "end_time": "2022-12-01T01:39:33.378028",
     "exception": false,
     "start_time": "2022-12-01T01:39:33.359715",
     "status": "completed"
    },
    "tags": []
   },
   "outputs": [],
   "source": [
    "from Recommenders.SLIM.Cython.SLIM_BPR_Cython import SLIM_BPR_Cython\n",
    "\n",
    "#try a SLIM BPR model\n",
    "recommender_class = SLIM_BPR_Cython"
   ]
  },
  {
   "cell_type": "code",
   "execution_count": 6,
   "id": "1917c4b9",
   "metadata": {
    "collapsed": false,
    "execution": {
     "iopub.execute_input": "2022-12-01T01:39:33.392150Z",
     "iopub.status.busy": "2022-12-01T01:39:33.391422Z",
     "iopub.status.idle": "2022-12-01T01:39:33.396649Z",
     "shell.execute_reply": "2022-12-01T01:39:33.395829Z"
    },
    "jupyter": {
     "outputs_hidden": false
    },
    "papermill": {
     "duration": 0.013741,
     "end_time": "2022-12-01T01:39:33.398173",
     "exception": false,
     "start_time": "2022-12-01T01:39:33.384432",
     "status": "completed"
    },
    "tags": []
   },
   "outputs": [],
   "source": [
    "import os\n",
    "\n",
    "output_folder_path = \"Experiments/\"\n",
    "\n",
    "# If directory does not exist, create\n",
    "if not os.path.exists(output_folder_path):\n",
    "    os.makedirs(output_folder_path)\n",
    "\n",
    "n_cases = 10\n",
    "n_random_starts = int(n_cases*0.3)\n",
    "metric_to_optimize = \"MAP\"\n",
    "cutoff_to_optimize = 10"
   ]
  },
  {
   "cell_type": "code",
   "execution_count": 7,
   "id": "f01b494b",
   "metadata": {
    "collapsed": false,
    "execution": {
     "iopub.execute_input": "2022-12-01T01:39:33.412630Z",
     "iopub.status.busy": "2022-12-01T01:39:33.412076Z",
     "iopub.status.idle": "2022-12-01T01:39:34.317085Z",
     "shell.execute_reply": "2022-12-01T01:39:34.316222Z"
    },
    "jupyter": {
     "outputs_hidden": false
    },
    "papermill": {
     "duration": 0.914268,
     "end_time": "2022-12-01T01:39:34.319301",
     "exception": false,
     "start_time": "2022-12-01T01:39:33.405033",
     "status": "completed"
    },
    "tags": []
   },
   "outputs": [],
   "source": [
    "from skopt.space import Real, Integer, Categorical\n",
    "\n",
    "hyperparameters_range_dictionary = {\n",
    "    \"epochs\": Categorical([700]),\n",
    "    \"sgd_mode\": Categorical([\"sgd\", \"adagrad\", \"adam\"]),\n",
    "    \"topK\": Integer(1, 800),\n",
    "    \"lambda_i\": Real(low = 1e-4, high = 1e-1, prior = 'log-uniform'),\n",
    "    \"lambda_j\": Real(low = 1e-4, high = 1e-1, prior = 'log-uniform'),\n",
    "    \"learning_rate\": Real(low = 1e-4, high = 1e-1, prior = 'log-uniform')\n",
    "}"
   ]
  },
  {
   "cell_type": "code",
   "execution_count": 8,
   "id": "e58cdb0b",
   "metadata": {
    "collapsed": false,
    "execution": {
     "iopub.execute_input": "2022-12-01T01:39:34.333565Z",
     "iopub.status.busy": "2022-12-01T01:39:34.333304Z",
     "iopub.status.idle": "2022-12-01T01:39:34.338092Z",
     "shell.execute_reply": "2022-12-01T01:39:34.337118Z"
    },
    "jupyter": {
     "outputs_hidden": false
    },
    "papermill": {
     "duration": 0.01413,
     "end_time": "2022-12-01T01:39:34.340180",
     "exception": false,
     "start_time": "2022-12-01T01:39:34.326050",
     "status": "completed"
    },
    "tags": []
   },
   "outputs": [],
   "source": [
    "earlystopping_keywargs = {\"validation_every_n\": 15,\n",
    "                          \"stop_on_validation\": True,\n",
    "                          \"evaluator_object\": evaluator_validation,\n",
    "                          \"lower_validations_allowed\": 5,\n",
    "                          \"validation_metric\": metric_to_optimize,\n",
    "                          }"
   ]
  },
  {
   "cell_type": "code",
   "execution_count": 9,
   "id": "d530d22f",
   "metadata": {
    "collapsed": false,
    "execution": {
     "iopub.execute_input": "2022-12-01T01:39:34.354853Z",
     "iopub.status.busy": "2022-12-01T01:39:34.354573Z",
     "iopub.status.idle": "2022-12-01T01:39:38.618269Z",
     "shell.execute_reply": "2022-12-01T01:39:38.617306Z"
    },
    "jupyter": {
     "outputs_hidden": false
    },
    "papermill": {
     "duration": 4.274033,
     "end_time": "2022-12-01T01:39:38.621163",
     "exception": false,
     "start_time": "2022-12-01T01:39:34.347130",
     "status": "completed"
    },
    "tags": []
   },
   "outputs": [],
   "source": [
    "from HyperparameterTuning.SearchBayesianSkopt import SearchBayesianSkopt\n",
    "\n",
    "#create a bayesian optimizer object, we pass the recommender and the evaluator\n",
    "hyperparameterSearch = SearchBayesianSkopt(recommender_class,\n",
    "                                           evaluator_validation=evaluator_validation)"
   ]
  },
  {
   "cell_type": "code",
   "execution_count": 10,
   "id": "f91a3a61",
   "metadata": {
    "collapsed": false,
    "execution": {
     "iopub.execute_input": "2022-12-01T01:39:38.638832Z",
     "iopub.status.busy": "2022-12-01T01:39:38.637757Z",
     "iopub.status.idle": "2022-12-01T01:39:38.644521Z",
     "shell.execute_reply": "2022-12-01T01:39:38.643624Z"
    },
    "jupyter": {
     "outputs_hidden": false
    },
    "papermill": {
     "duration": 0.01779,
     "end_time": "2022-12-01T01:39:38.646611",
     "exception": false,
     "start_time": "2022-12-01T01:39:38.628821",
     "status": "completed"
    },
    "tags": []
   },
   "outputs": [],
   "source": [
    "from HyperparameterTuning.SearchAbstractClass import SearchInputRecommenderArgs\n",
    "\n",
    "#provide data needed to create instance of model (one on URM_train, the other on URM_all)\n",
    "recommender_input_args = SearchInputRecommenderArgs(\n",
    "    CONSTRUCTOR_POSITIONAL_ARGS = [URM_train],     # For a CBF model simply put [URM_train, ICM_train]\n",
    "    CONSTRUCTOR_KEYWORD_ARGS = {},\n",
    "    FIT_POSITIONAL_ARGS = [],\n",
    "    FIT_KEYWORD_ARGS = earlystopping_keywargs\n",
    ")\n",
    "recommender_input_args_last_test = SearchInputRecommenderArgs(\n",
    "    CONSTRUCTOR_POSITIONAL_ARGS = [URM_all],\n",
    "    CONSTRUCTOR_KEYWORD_ARGS = {},\n",
    "    FIT_POSITIONAL_ARGS = [],\n",
    "    FIT_KEYWORD_ARGS = earlystopping_keywargs\n",
    ")"
   ]
  },
  {
   "cell_type": "code",
   "execution_count": 12,
   "id": "67c24060",
   "metadata": {
    "collapsed": false,
    "execution": {
     "iopub.execute_input": "2022-12-01T01:39:39.449073Z",
     "iopub.status.busy": "2022-12-01T01:39:39.448625Z",
     "iopub.status.idle": "2022-12-01T01:39:39.452011Z",
     "shell.execute_reply": "2022-12-01T01:39:39.451438Z"
    },
    "jupyter": {
     "outputs_hidden": false
    },
    "papermill": {
     "duration": 0.012349,
     "end_time": "2022-12-01T01:39:39.453577",
     "exception": false,
     "start_time": "2022-12-01T01:39:39.441228",
     "status": "completed"
    },
    "tags": []
   },
   "outputs": [],
   "source": [
    "!python run_compile_all_cython.py"
   ]
  },
  {
   "cell_type": "code",
   "execution_count": 13,
   "id": "782f4366",
   "metadata": {
    "collapsed": false,
    "execution": {
     "iopub.execute_input": "2022-12-01T01:39:39.467645Z",
     "iopub.status.busy": "2022-12-01T01:39:39.467255Z",
     "iopub.status.idle": "2022-12-01T01:39:39.969201Z",
     "shell.execute_reply": "2022-12-01T01:39:39.968369Z"
    },
    "jupyter": {
     "outputs_hidden": false
    },
    "papermill": {
     "duration": 0.510852,
     "end_time": "2022-12-01T01:39:39.970957",
     "exception": false,
     "start_time": "2022-12-01T01:39:39.460105",
     "status": "completed"
    },
    "tags": []
   },
   "outputs": [
    {
     "name": "stdout",
     "output_type": "stream",
     "text": [
      "Iteration No: 1 started. Evaluating function at random point.\n",
      "SearchBayesianSkopt: Testing config: {'epochs': 700, 'sgd_mode': 'sgd', 'topK': 73, 'lambda_i': 0.00902834426038083, 'lambda_j': 0.03782342660009318, 'learning_rate': 0.001592760049267801}\n",
      "SearchBayesianSkopt: Config 0 Exception. Config: {'epochs': 700, 'sgd_mode': 'sgd', 'topK': 73, 'lambda_i': 0.00902834426038083, 'lambda_j': 0.03782342660009318, 'learning_rate': 0.001592760049267801} - Exception: Traceback (most recent call last):\n",
      "  File \"/kaggle/working/Recommender-Systems-Challenge-2022/HyperparameterTuning/SearchAbstractClass.py\", line 468, in _objective_function\n",
      "    result_df, recommender_instance = self._evaluate_on_validation(current_fit_hyperparameters_dict, was_already_evaluated_flag, was_already_evaluated_index)\n",
      "  File \"/kaggle/working/Recommender-Systems-Challenge-2022/HyperparameterTuning/SearchAbstractClass.py\", line 326, in _evaluate_on_validation\n",
      "    recommender_instance, train_time = self._fit_model(current_fit_hyperparameters)\n",
      "  File \"/kaggle/working/Recommender-Systems-Challenge-2022/HyperparameterTuning/SearchAbstractClass.py\", line 300, in _fit_model\n",
      "    **current_fit_hyperparameters)\n",
      "  File \"/kaggle/working/Recommender-Systems-Challenge-2022/Recommenders/SLIM/Cython/SLIM_BPR_Cython.py\", line 76, in fit\n",
      "    from Recommenders.SLIM.Cython.SLIM_BPR_Cython_Epoch import SLIM_BPR_Cython_Epoch\n",
      "ModuleNotFoundError: No module named 'Recommenders.SLIM.Cython.SLIM_BPR_Cython_Epoch'\n",
      "\n",
      "\n"
     ]
    },
    {
     "name": "stderr",
     "output_type": "stream",
     "text": [
      "Traceback (most recent call last):\n",
      "  File \"/kaggle/working/Recommender-Systems-Challenge-2022/HyperparameterTuning/SearchAbstractClass.py\", line 468, in _objective_function\n",
      "    result_df, recommender_instance = self._evaluate_on_validation(current_fit_hyperparameters_dict, was_already_evaluated_flag, was_already_evaluated_index)\n",
      "  File \"/kaggle/working/Recommender-Systems-Challenge-2022/HyperparameterTuning/SearchAbstractClass.py\", line 326, in _evaluate_on_validation\n",
      "    recommender_instance, train_time = self._fit_model(current_fit_hyperparameters)\n",
      "  File \"/kaggle/working/Recommender-Systems-Challenge-2022/HyperparameterTuning/SearchAbstractClass.py\", line 300, in _fit_model\n",
      "    **current_fit_hyperparameters)\n",
      "  File \"/kaggle/working/Recommender-Systems-Challenge-2022/Recommenders/SLIM/Cython/SLIM_BPR_Cython.py\", line 76, in fit\n",
      "    from Recommenders.SLIM.Cython.SLIM_BPR_Cython_Epoch import SLIM_BPR_Cython_Epoch\n",
      "ModuleNotFoundError: No module named 'Recommenders.SLIM.Cython.SLIM_BPR_Cython_Epoch'\n"
     ]
    },
    {
     "name": "stdout",
     "output_type": "stream",
     "text": [
      "Iteration No: 1 ended. Evaluation done at random point.\n",
      "Time taken: 0.2650\n",
      "Function value obtained: 65504.0000\n",
      "Current minimum: 65504.0000\n",
      "Iteration No: 2 started. Evaluating function at random point.\n",
      "SearchBayesianSkopt: Testing config: {'epochs': 700, 'sgd_mode': 'adam', 'topK': 585, 'lambda_i': 0.056611648521484814, 'lambda_j': 0.00031613430674430246, 'learning_rate': 0.0033139572601774757}\n",
      "SearchBayesianSkopt: Config 1 Exception. Config: {'epochs': 700, 'sgd_mode': 'adam', 'topK': 585, 'lambda_i': 0.056611648521484814, 'lambda_j': 0.00031613430674430246, 'learning_rate': 0.0033139572601774757} - Exception: Traceback (most recent call last):\n",
      "  File \"/kaggle/working/Recommender-Systems-Challenge-2022/HyperparameterTuning/SearchAbstractClass.py\", line 468, in _objective_function\n",
      "    result_df, recommender_instance = self._evaluate_on_validation(current_fit_hyperparameters_dict, was_already_evaluated_flag, was_already_evaluated_index)\n",
      "  File \"/kaggle/working/Recommender-Systems-Challenge-2022/HyperparameterTuning/SearchAbstractClass.py\", line 326, in _evaluate_on_validation\n",
      "    recommender_instance, train_time = self._fit_model(current_fit_hyperparameters)\n",
      "  File \"/kaggle/working/Recommender-Systems-Challenge-2022/HyperparameterTuning/SearchAbstractClass.py\", line 300, in _fit_model\n",
      "    **current_fit_hyperparameters)\n",
      "  File \"/kaggle/working/Recommender-Systems-Challenge-2022/Recommenders/SLIM/Cython/SLIM_BPR_Cython.py\", line 76, in fit\n",
      "    from Recommenders.SLIM.Cython.SLIM_BPR_Cython_Epoch import SLIM_BPR_Cython_Epoch\n",
      "ModuleNotFoundError: No module named 'Recommenders.SLIM.Cython.SLIM_BPR_Cython_Epoch'\n",
      "\n",
      "\n",
      "Iteration No: 2 ended. Evaluation done at random point.\n",
      "Time taken: 0.1072\n",
      "Function value obtained: 65504.0000\n",
      "Current minimum: 65504.0000\n",
      "Iteration No: 3 started. Evaluating function at random point.\n",
      "SearchBayesianSkopt: Testing config: {'epochs': 700, 'sgd_mode': 'sgd', 'topK': 639, 'lambda_i': 0.005171890188028663, 'lambda_j': 0.04161592809505306, 'learning_rate': 0.00038299162817987894}\n",
      "SearchBayesianSkopt: Config 2 Exception. Config: {'epochs': 700, 'sgd_mode': 'sgd', 'topK': 639, 'lambda_i': 0.005171890188028663, 'lambda_j': 0.04161592809505306, 'learning_rate': 0.00038299162817987894} - Exception: Traceback (most recent call last):\n",
      "  File \"/kaggle/working/Recommender-Systems-Challenge-2022/HyperparameterTuning/SearchAbstractClass.py\", line 468, in _objective_function\n",
      "    result_df, recommender_instance = self._evaluate_on_validation(current_fit_hyperparameters_dict, was_already_evaluated_flag, was_already_evaluated_index)\n",
      "  File \"/kaggle/working/Recommender-Systems-Challenge-2022/HyperparameterTuning/SearchAbstractClass.py\", line 326, in _evaluate_on_validation\n",
      "    recommender_instance, train_time = self._fit_model(current_fit_hyperparameters)\n",
      "  File \"/kaggle/working/Recommender-Systems-Challenge-2022/HyperparameterTuning/SearchAbstractClass.py\", line 300, in _fit_model\n",
      "    **current_fit_hyperparameters)\n",
      "  File \"/kaggle/working/Recommender-Systems-Challenge-2022/Recommenders/SLIM/Cython/SLIM_BPR_Cython.py\", line 76, in fit\n",
      "    from Recommenders.SLIM.Cython.SLIM_BPR_Cython_Epoch import SLIM_BPR_Cython_Epoch\n",
      "ModuleNotFoundError: No module named 'Recommenders.SLIM.Cython.SLIM_BPR_Cython_Epoch'\n",
      "\n",
      "\n",
      "SearchBayesianSkopt: Search interrupted. No valid config was found during the initial random initialization\n",
      "\n"
     ]
    },
    {
     "name": "stderr",
     "output_type": "stream",
     "text": [
      "Traceback (most recent call last):\n",
      "  File \"/kaggle/working/Recommender-Systems-Challenge-2022/HyperparameterTuning/SearchAbstractClass.py\", line 468, in _objective_function\n",
      "    result_df, recommender_instance = self._evaluate_on_validation(current_fit_hyperparameters_dict, was_already_evaluated_flag, was_already_evaluated_index)\n",
      "  File \"/kaggle/working/Recommender-Systems-Challenge-2022/HyperparameterTuning/SearchAbstractClass.py\", line 326, in _evaluate_on_validation\n",
      "    recommender_instance, train_time = self._fit_model(current_fit_hyperparameters)\n",
      "  File \"/kaggle/working/Recommender-Systems-Challenge-2022/HyperparameterTuning/SearchAbstractClass.py\", line 300, in _fit_model\n",
      "    **current_fit_hyperparameters)\n",
      "  File \"/kaggle/working/Recommender-Systems-Challenge-2022/Recommenders/SLIM/Cython/SLIM_BPR_Cython.py\", line 76, in fit\n",
      "    from Recommenders.SLIM.Cython.SLIM_BPR_Cython_Epoch import SLIM_BPR_Cython_Epoch\n",
      "ModuleNotFoundError: No module named 'Recommenders.SLIM.Cython.SLIM_BPR_Cython_Epoch'\n",
      "Traceback (most recent call last):\n",
      "  File \"/kaggle/working/Recommender-Systems-Challenge-2022/HyperparameterTuning/SearchAbstractClass.py\", line 468, in _objective_function\n",
      "    result_df, recommender_instance = self._evaluate_on_validation(current_fit_hyperparameters_dict, was_already_evaluated_flag, was_already_evaluated_index)\n",
      "  File \"/kaggle/working/Recommender-Systems-Challenge-2022/HyperparameterTuning/SearchAbstractClass.py\", line 326, in _evaluate_on_validation\n",
      "    recommender_instance, train_time = self._fit_model(current_fit_hyperparameters)\n",
      "  File \"/kaggle/working/Recommender-Systems-Challenge-2022/HyperparameterTuning/SearchAbstractClass.py\", line 300, in _fit_model\n",
      "    **current_fit_hyperparameters)\n",
      "  File \"/kaggle/working/Recommender-Systems-Challenge-2022/Recommenders/SLIM/Cython/SLIM_BPR_Cython.py\", line 76, in fit\n",
      "    from Recommenders.SLIM.Cython.SLIM_BPR_Cython_Epoch import SLIM_BPR_Cython_Epoch\n",
      "ModuleNotFoundError: No module named 'Recommenders.SLIM.Cython.SLIM_BPR_Cython_Epoch'\n"
     ]
    }
   ],
   "source": [
    "#let's run the bayesian search\n",
    "hyperparameterSearch.search(recommender_input_args,\n",
    "                            recommender_input_args_last_test = recommender_input_args_last_test,\n",
    "                            hyperparameter_search_space = hyperparameters_range_dictionary,\n",
    "                            n_cases = n_cases,\n",
    "                            n_random_starts = n_random_starts,\n",
    "                            save_model = \"last\",\n",
    "                            output_folder_path = output_folder_path, # Where to save the results\n",
    "                            output_file_name_root = recommender_class.RECOMMENDER_NAME, # How to call the files\n",
    "                            metric_to_optimize = metric_to_optimize,\n",
    "                            cutoff_to_optimize = cutoff_to_optimize,\n",
    "                            )"
   ]
  },
  {
   "cell_type": "code",
   "execution_count": 14,
   "id": "9c6c970a",
   "metadata": {
    "collapsed": false,
    "execution": {
     "iopub.execute_input": "2022-12-01T01:39:39.985918Z",
     "iopub.status.busy": "2022-12-01T01:39:39.985652Z",
     "iopub.status.idle": "2022-12-01T01:39:40.050083Z",
     "shell.execute_reply": "2022-12-01T01:39:40.049241Z"
    },
    "jupyter": {
     "outputs_hidden": false
    },
    "papermill": {
     "duration": 0.073767,
     "end_time": "2022-12-01T01:39:40.051775",
     "exception": false,
     "start_time": "2022-12-01T01:39:39.978008",
     "status": "completed"
    },
    "tags": []
   },
   "outputs": [
    {
     "data": {
      "text/plain": [
       "dict_keys(['result_on_validation_best', 'result_on_test_best', 'result_on_last', 'cutoff_to_optimize', 'algorithm_name_recommender', 'time_on_last_df', 'result_on_validation_df', 'time_on_validation_total', 'hyperparameters_df', 'hyperparameters_best_index', 'time_on_train_total', 'hyperparameters_best', 'result_on_earlystopping_df', 'algorithm_name_search', 'time_on_train_avg', 'exception_list', 'time_on_test_avg', 'result_on_test_df', 'metric_to_optimize', 'time_on_validation_avg', 'time_on_test_total', 'time_df'])"
      ]
     },
     "execution_count": 14,
     "metadata": {},
     "output_type": "execute_result"
    }
   ],
   "source": [
    "from Recommenders.DataIO import DataIO\n",
    "\n",
    "#explore the results of the search\n",
    "data_loader = DataIO(folder_path = output_folder_path)\n",
    "search_metadata = data_loader.load_data(recommender_class.RECOMMENDER_NAME + \"_metadata.zip\")\n",
    "\n",
    "search_metadata.keys()"
   ]
  },
  {
   "cell_type": "code",
   "execution_count": 15,
   "id": "68f3adde",
   "metadata": {
    "collapsed": false,
    "execution": {
     "iopub.execute_input": "2022-12-01T01:39:40.067261Z",
     "iopub.status.busy": "2022-12-01T01:39:40.066463Z",
     "iopub.status.idle": "2022-12-01T01:39:40.080178Z",
     "shell.execute_reply": "2022-12-01T01:39:40.079280Z"
    },
    "jupyter": {
     "outputs_hidden": false
    },
    "papermill": {
     "duration": 0.023228,
     "end_time": "2022-12-01T01:39:40.082116",
     "exception": false,
     "start_time": "2022-12-01T01:39:40.058888",
     "status": "completed"
    },
    "tags": []
   },
   "outputs": [
    {
     "data": {
      "text/html": [
       "<div>\n",
       "<style scoped>\n",
       "    .dataframe tbody tr th:only-of-type {\n",
       "        vertical-align: middle;\n",
       "    }\n",
       "\n",
       "    .dataframe tbody tr th {\n",
       "        vertical-align: top;\n",
       "    }\n",
       "\n",
       "    .dataframe thead th {\n",
       "        text-align: right;\n",
       "    }\n",
       "</style>\n",
       "<table border=\"1\" class=\"dataframe\">\n",
       "  <thead>\n",
       "    <tr style=\"text-align: right;\">\n",
       "      <th></th>\n",
       "      <th>epochs</th>\n",
       "      <th>sgd_mode</th>\n",
       "      <th>topK</th>\n",
       "      <th>lambda_i</th>\n",
       "      <th>lambda_j</th>\n",
       "      <th>learning_rate</th>\n",
       "    </tr>\n",
       "  </thead>\n",
       "  <tbody>\n",
       "    <tr>\n",
       "      <th>0</th>\n",
       "      <td>700</td>\n",
       "      <td>sgd</td>\n",
       "      <td>73</td>\n",
       "      <td>0.009028</td>\n",
       "      <td>0.037823</td>\n",
       "      <td>0.001593</td>\n",
       "    </tr>\n",
       "    <tr>\n",
       "      <th>1</th>\n",
       "      <td>700</td>\n",
       "      <td>adam</td>\n",
       "      <td>585</td>\n",
       "      <td>0.056612</td>\n",
       "      <td>0.000316</td>\n",
       "      <td>0.003314</td>\n",
       "    </tr>\n",
       "    <tr>\n",
       "      <th>2</th>\n",
       "      <td>700</td>\n",
       "      <td>sgd</td>\n",
       "      <td>639</td>\n",
       "      <td>0.005172</td>\n",
       "      <td>0.041616</td>\n",
       "      <td>0.000383</td>\n",
       "    </tr>\n",
       "    <tr>\n",
       "      <th>3</th>\n",
       "      <td>NaN</td>\n",
       "      <td>NaN</td>\n",
       "      <td>NaN</td>\n",
       "      <td>NaN</td>\n",
       "      <td>NaN</td>\n",
       "      <td>NaN</td>\n",
       "    </tr>\n",
       "    <tr>\n",
       "      <th>4</th>\n",
       "      <td>NaN</td>\n",
       "      <td>NaN</td>\n",
       "      <td>NaN</td>\n",
       "      <td>NaN</td>\n",
       "      <td>NaN</td>\n",
       "      <td>NaN</td>\n",
       "    </tr>\n",
       "    <tr>\n",
       "      <th>5</th>\n",
       "      <td>NaN</td>\n",
       "      <td>NaN</td>\n",
       "      <td>NaN</td>\n",
       "      <td>NaN</td>\n",
       "      <td>NaN</td>\n",
       "      <td>NaN</td>\n",
       "    </tr>\n",
       "    <tr>\n",
       "      <th>6</th>\n",
       "      <td>NaN</td>\n",
       "      <td>NaN</td>\n",
       "      <td>NaN</td>\n",
       "      <td>NaN</td>\n",
       "      <td>NaN</td>\n",
       "      <td>NaN</td>\n",
       "    </tr>\n",
       "    <tr>\n",
       "      <th>7</th>\n",
       "      <td>NaN</td>\n",
       "      <td>NaN</td>\n",
       "      <td>NaN</td>\n",
       "      <td>NaN</td>\n",
       "      <td>NaN</td>\n",
       "      <td>NaN</td>\n",
       "    </tr>\n",
       "    <tr>\n",
       "      <th>8</th>\n",
       "      <td>NaN</td>\n",
       "      <td>NaN</td>\n",
       "      <td>NaN</td>\n",
       "      <td>NaN</td>\n",
       "      <td>NaN</td>\n",
       "      <td>NaN</td>\n",
       "    </tr>\n",
       "    <tr>\n",
       "      <th>9</th>\n",
       "      <td>NaN</td>\n",
       "      <td>NaN</td>\n",
       "      <td>NaN</td>\n",
       "      <td>NaN</td>\n",
       "      <td>NaN</td>\n",
       "      <td>NaN</td>\n",
       "    </tr>\n",
       "  </tbody>\n",
       "</table>\n",
       "</div>"
      ],
      "text/plain": [
       "  epochs sgd_mode topK  lambda_i  lambda_j learning_rate\n",
       "0    700      sgd   73  0.009028  0.037823      0.001593\n",
       "1    700     adam  585  0.056612  0.000316      0.003314\n",
       "2    700      sgd  639  0.005172  0.041616      0.000383\n",
       "3    NaN      NaN  NaN       NaN       NaN           NaN\n",
       "4    NaN      NaN  NaN       NaN       NaN           NaN\n",
       "5    NaN      NaN  NaN       NaN       NaN           NaN\n",
       "6    NaN      NaN  NaN       NaN       NaN           NaN\n",
       "7    NaN      NaN  NaN       NaN       NaN           NaN\n",
       "8    NaN      NaN  NaN       NaN       NaN           NaN\n",
       "9    NaN      NaN  NaN       NaN       NaN           NaN"
      ]
     },
     "execution_count": 15,
     "metadata": {},
     "output_type": "execute_result"
    }
   ],
   "source": [
    "hyperparameters_df = search_metadata[\"hyperparameters_df\"]\n",
    "hyperparameters_df"
   ]
  },
  {
   "cell_type": "code",
   "execution_count": 16,
   "id": "e8d8a217",
   "metadata": {
    "collapsed": false,
    "execution": {
     "iopub.execute_input": "2022-12-01T01:39:40.098157Z",
     "iopub.status.busy": "2022-12-01T01:39:40.097132Z",
     "iopub.status.idle": "2022-12-01T01:39:40.101127Z",
     "shell.execute_reply": "2022-12-01T01:39:40.100465Z"
    },
    "jupyter": {
     "outputs_hidden": false
    },
    "papermill": {
     "duration": 0.013653,
     "end_time": "2022-12-01T01:39:40.102883",
     "exception": false,
     "start_time": "2022-12-01T01:39:40.089230",
     "status": "completed"
    },
    "tags": []
   },
   "outputs": [],
   "source": [
    "result_on_validation_df = search_metadata[\"result_on_validation_df\"]\n",
    "result_on_validation_df"
   ]
  },
  {
   "cell_type": "code",
   "execution_count": 17,
   "id": "010ddadc",
   "metadata": {
    "collapsed": false,
    "execution": {
     "iopub.execute_input": "2022-12-01T01:39:40.118149Z",
     "iopub.status.busy": "2022-12-01T01:39:40.117788Z",
     "iopub.status.idle": "2022-12-01T01:39:40.121116Z",
     "shell.execute_reply": "2022-12-01T01:39:40.120458Z"
    },
    "jupyter": {
     "outputs_hidden": false
    },
    "papermill": {
     "duration": 0.012758,
     "end_time": "2022-12-01T01:39:40.122795",
     "exception": false,
     "start_time": "2022-12-01T01:39:40.110037",
     "status": "completed"
    },
    "tags": []
   },
   "outputs": [],
   "source": [
    "best_hyperparameters = search_metadata[\"hyperparameters_best\"]\n",
    "best_hyperparameters"
   ]
  },
  {
   "cell_type": "code",
   "execution_count": 18,
   "id": "697dbac8",
   "metadata": {
    "collapsed": false,
    "execution": {
     "iopub.execute_input": "2022-12-01T01:39:40.137607Z",
     "iopub.status.busy": "2022-12-01T01:39:40.137395Z",
     "iopub.status.idle": "2022-12-01T01:39:40.170167Z",
     "shell.execute_reply": "2022-12-01T01:39:40.169296Z"
    },
    "jupyter": {
     "outputs_hidden": false
    },
    "papermill": {
     "duration": 0.042492,
     "end_time": "2022-12-01T01:39:40.172246",
     "exception": false,
     "start_time": "2022-12-01T01:39:40.129754",
     "status": "completed"
    },
    "tags": []
   },
   "outputs": [],
   "source": [
    "recommender = SLIM_BPR_Cython(URM_all)\n",
    "#recommender.fit(epochs=462, sgd_mode = \"sgd\", topK = 50, lambda_i = 0.0002100158148046903, lambda_j = 0.00021427617376060016, learning_rate = 0.02543769736452639)"
   ]
  },
  {
   "cell_type": "code",
   "execution_count": 19,
   "id": "1ae97f41",
   "metadata": {
    "collapsed": false,
    "execution": {
     "iopub.execute_input": "2022-12-01T01:39:40.187792Z",
     "iopub.status.busy": "2022-12-01T01:39:40.187541Z",
     "iopub.status.idle": "2022-12-01T01:39:41.282191Z",
     "shell.execute_reply": "2022-12-01T01:39:41.280949Z"
    },
    "jupyter": {
     "outputs_hidden": false
    },
    "papermill": {
     "duration": 1.104045,
     "end_time": "2022-12-01T01:39:41.283738",
     "exception": true,
     "start_time": "2022-12-01T01:39:40.179693",
     "status": "failed"
    },
    "tags": []
   },
   "outputs": [
    {
     "name": "stdout",
     "output_type": "stream",
     "text": [
      "MAP of the starting models\n"
     ]
    },
    {
     "ename": "AttributeError",
     "evalue": "'SLIM_BPR_Cython' object has no attribute 'W_sparse'",
     "output_type": "error",
     "traceback": [
      "\u001B[0;31m---------------------------------------------------------------------------\u001B[0m",
      "\u001B[0;31mAttributeError\u001B[0m                            Traceback (most recent call last)",
      "\u001B[0;32m/tmp/ipykernel_19/4094558354.py\u001B[0m in \u001B[0;36m<module>\u001B[0;34m\u001B[0m\n\u001B[1;32m      1\u001B[0m \u001B[0mprint\u001B[0m\u001B[0;34m(\u001B[0m\u001B[0;34m\"MAP of the starting models\"\u001B[0m\u001B[0;34m)\u001B[0m\u001B[0;34m\u001B[0m\u001B[0;34m\u001B[0m\u001B[0m\n\u001B[1;32m      2\u001B[0m \u001B[0;34m\u001B[0m\u001B[0m\n\u001B[0;32m----> 3\u001B[0;31m \u001B[0mresult_df\u001B[0m\u001B[0;34m,\u001B[0m \u001B[0m_\u001B[0m \u001B[0;34m=\u001B[0m \u001B[0mevaluator_test\u001B[0m\u001B[0;34m.\u001B[0m\u001B[0mevaluateRecommender\u001B[0m\u001B[0;34m(\u001B[0m\u001B[0mrecommender\u001B[0m\u001B[0;34m)\u001B[0m\u001B[0;34m\u001B[0m\u001B[0;34m\u001B[0m\u001B[0m\n\u001B[0m\u001B[1;32m      4\u001B[0m \u001B[0mprint\u001B[0m\u001B[0;34m(\u001B[0m\u001B[0;34m\"SLIM BPR - MAP: {}\"\u001B[0m\u001B[0;34m.\u001B[0m\u001B[0mformat\u001B[0m\u001B[0;34m(\u001B[0m\u001B[0mresult_df\u001B[0m\u001B[0;34m.\u001B[0m\u001B[0mloc\u001B[0m\u001B[0;34m[\u001B[0m\u001B[0;36m10\u001B[0m\u001B[0;34m]\u001B[0m\u001B[0;34m[\u001B[0m\u001B[0;34m\"MAP\"\u001B[0m\u001B[0;34m]\u001B[0m\u001B[0;34m)\u001B[0m\u001B[0;34m)\u001B[0m\u001B[0;34m\u001B[0m\u001B[0;34m\u001B[0m\u001B[0m\n",
      "\u001B[0;32m/kaggle/working/Recommender-Systems-Challenge-2022/Evaluation/Evaluator.py\u001B[0m in \u001B[0;36mevaluateRecommender\u001B[0;34m(self, recommender_object)\u001B[0m\n\u001B[1;32m    274\u001B[0m         \u001B[0mself\u001B[0m\u001B[0;34m.\u001B[0m\u001B[0m_n_users_evaluated\u001B[0m \u001B[0;34m=\u001B[0m \u001B[0;36m0\u001B[0m\u001B[0;34m\u001B[0m\u001B[0;34m\u001B[0m\u001B[0m\n\u001B[1;32m    275\u001B[0m \u001B[0;34m\u001B[0m\u001B[0m\n\u001B[0;32m--> 276\u001B[0;31m         \u001B[0mresults_dict\u001B[0m \u001B[0;34m=\u001B[0m \u001B[0mself\u001B[0m\u001B[0;34m.\u001B[0m\u001B[0m_run_evaluation_on_selected_users\u001B[0m\u001B[0;34m(\u001B[0m\u001B[0mrecommender_object\u001B[0m\u001B[0;34m,\u001B[0m \u001B[0mself\u001B[0m\u001B[0;34m.\u001B[0m\u001B[0musers_to_evaluate\u001B[0m\u001B[0;34m)\u001B[0m\u001B[0;34m\u001B[0m\u001B[0;34m\u001B[0m\u001B[0m\n\u001B[0m\u001B[1;32m    277\u001B[0m \u001B[0;34m\u001B[0m\u001B[0m\n\u001B[1;32m    278\u001B[0m \u001B[0;34m\u001B[0m\u001B[0m\n",
      "\u001B[0;32m/kaggle/working/Recommender-Systems-Challenge-2022/Evaluation/Evaluator.py\u001B[0m in \u001B[0;36m_run_evaluation_on_selected_users\u001B[0;34m(self, recommender_object, users_to_evaluate, block_size)\u001B[0m\n\u001B[1;32m    479\u001B[0m                                                                                       \u001B[0mremove_top_pop_flag\u001B[0m\u001B[0;34m=\u001B[0m\u001B[0;32mFalse\u001B[0m\u001B[0;34m,\u001B[0m\u001B[0;34m\u001B[0m\u001B[0;34m\u001B[0m\u001B[0m\n\u001B[1;32m    480\u001B[0m                                                                                       \u001B[0mremove_custom_items_flag\u001B[0m\u001B[0;34m=\u001B[0m\u001B[0mself\u001B[0m\u001B[0;34m.\u001B[0m\u001B[0mignore_items_flag\u001B[0m\u001B[0;34m,\u001B[0m\u001B[0;34m\u001B[0m\u001B[0;34m\u001B[0m\u001B[0m\n\u001B[0;32m--> 481\u001B[0;31m                                                                                       \u001B[0mreturn_scores\u001B[0m \u001B[0;34m=\u001B[0m \u001B[0;32mTrue\u001B[0m\u001B[0;34m\u001B[0m\u001B[0;34m\u001B[0m\u001B[0m\n\u001B[0m\u001B[1;32m    482\u001B[0m                                                                                       )\n\u001B[1;32m    483\u001B[0m \u001B[0;34m\u001B[0m\u001B[0m\n",
      "\u001B[0;32m/kaggle/working/Recommender-Systems-Challenge-2022/Recommenders/BaseRecommender.py\u001B[0m in \u001B[0;36mrecommend\u001B[0;34m(self, user_id_array, cutoff, remove_seen_flag, items_to_compute, remove_top_pop_flag, remove_custom_items_flag, return_scores)\u001B[0m\n\u001B[1;32m    145\u001B[0m         \u001B[0;31m# Compute the scores using the model-specific function\u001B[0m\u001B[0;34m\u001B[0m\u001B[0;34m\u001B[0m\u001B[0;34m\u001B[0m\u001B[0m\n\u001B[1;32m    146\u001B[0m         \u001B[0;31m# Vectorize over all users in user_id_array\u001B[0m\u001B[0;34m\u001B[0m\u001B[0;34m\u001B[0m\u001B[0;34m\u001B[0m\u001B[0m\n\u001B[0;32m--> 147\u001B[0;31m         \u001B[0mscores_batch\u001B[0m \u001B[0;34m=\u001B[0m \u001B[0mself\u001B[0m\u001B[0;34m.\u001B[0m\u001B[0m_compute_item_score\u001B[0m\u001B[0;34m(\u001B[0m\u001B[0muser_id_array\u001B[0m\u001B[0;34m,\u001B[0m \u001B[0mitems_to_compute\u001B[0m\u001B[0;34m=\u001B[0m\u001B[0mitems_to_compute\u001B[0m\u001B[0;34m)\u001B[0m\u001B[0;34m\u001B[0m\u001B[0;34m\u001B[0m\u001B[0m\n\u001B[0m\u001B[1;32m    148\u001B[0m \u001B[0;34m\u001B[0m\u001B[0m\n\u001B[1;32m    149\u001B[0m \u001B[0;34m\u001B[0m\u001B[0m\n",
      "\u001B[0;32m/kaggle/working/Recommender-Systems-Challenge-2022/Recommenders/BaseSimilarityMatrixRecommender.py\u001B[0m in \u001B[0;36m_compute_item_score\u001B[0;34m(self, user_id_array, items_to_compute)\u001B[0m\n\u001B[1;32m     79\u001B[0m         \"\"\"\n\u001B[1;32m     80\u001B[0m \u001B[0;34m\u001B[0m\u001B[0m\n\u001B[0;32m---> 81\u001B[0;31m         \u001B[0mself\u001B[0m\u001B[0;34m.\u001B[0m\u001B[0m_check_format\u001B[0m\u001B[0;34m(\u001B[0m\u001B[0;34m)\u001B[0m\u001B[0;34m\u001B[0m\u001B[0;34m\u001B[0m\u001B[0m\n\u001B[0m\u001B[1;32m     82\u001B[0m \u001B[0;34m\u001B[0m\u001B[0m\n\u001B[1;32m     83\u001B[0m         \u001B[0muser_profile_array\u001B[0m \u001B[0;34m=\u001B[0m \u001B[0mself\u001B[0m\u001B[0;34m.\u001B[0m\u001B[0mURM_train\u001B[0m\u001B[0;34m[\u001B[0m\u001B[0muser_id_array\u001B[0m\u001B[0;34m]\u001B[0m\u001B[0;34m\u001B[0m\u001B[0;34m\u001B[0m\u001B[0m\n",
      "\u001B[0;32m/kaggle/working/Recommender-Systems-Challenge-2022/Recommenders/BaseSimilarityMatrixRecommender.py\u001B[0m in \u001B[0;36m_check_format\u001B[0;34m(self)\u001B[0m\n\u001B[1;32m     38\u001B[0m         \u001B[0;32mif\u001B[0m \u001B[0;32mnot\u001B[0m \u001B[0mself\u001B[0m\u001B[0;34m.\u001B[0m\u001B[0m_W_sparse_format_checked\u001B[0m\u001B[0;34m:\u001B[0m\u001B[0;34m\u001B[0m\u001B[0;34m\u001B[0m\u001B[0m\n\u001B[1;32m     39\u001B[0m \u001B[0;34m\u001B[0m\u001B[0m\n\u001B[0;32m---> 40\u001B[0;31m             \u001B[0;32mif\u001B[0m \u001B[0mself\u001B[0m\u001B[0;34m.\u001B[0m\u001B[0mW_sparse\u001B[0m\u001B[0;34m.\u001B[0m\u001B[0mgetformat\u001B[0m\u001B[0;34m(\u001B[0m\u001B[0;34m)\u001B[0m \u001B[0;34m!=\u001B[0m \u001B[0;34m\"csr\"\u001B[0m\u001B[0;34m:\u001B[0m\u001B[0;34m\u001B[0m\u001B[0;34m\u001B[0m\u001B[0m\n\u001B[0m\u001B[1;32m     41\u001B[0m                 \u001B[0mself\u001B[0m\u001B[0;34m.\u001B[0m\u001B[0m_print\u001B[0m\u001B[0;34m(\u001B[0m\u001B[0;34m\"PERFORMANCE ALERT compute_item_score: {} is not {}, this will significantly slow down the computation.\"\u001B[0m\u001B[0;34m.\u001B[0m\u001B[0mformat\u001B[0m\u001B[0;34m(\u001B[0m\u001B[0;34m\"W_sparse\"\u001B[0m\u001B[0;34m,\u001B[0m \u001B[0;34m\"csr\"\u001B[0m\u001B[0;34m)\u001B[0m\u001B[0;34m)\u001B[0m\u001B[0;34m\u001B[0m\u001B[0;34m\u001B[0m\u001B[0m\n\u001B[1;32m     42\u001B[0m \u001B[0;34m\u001B[0m\u001B[0m\n",
      "\u001B[0;31mAttributeError\u001B[0m: 'SLIM_BPR_Cython' object has no attribute 'W_sparse'"
     ]
    }
   ],
   "source": [
    "print(\"MAP of the starting models\")\n",
    "\n",
    "result_df, _ = evaluator_test.evaluateRecommender(recommender)\n",
    "print(\"SLIM BPR - MAP: {}\".format(result_df.loc[10][\"MAP\"]))"
   ]
  }
 ],
 "metadata": {
  "kernelspec": {
   "display_name": "Python 3",
   "language": "python",
   "name": "python3"
  },
  "language_info": {
   "codemirror_mode": {
    "name": "ipython",
    "version": 3
   },
   "file_extension": ".py",
   "mimetype": "text/x-python",
   "name": "python",
   "nbconvert_exporter": "python",
   "pygments_lexer": "ipython3",
   "version": "3.7.12"
  },
  "papermill": {
   "default_parameters": {},
   "duration": 29.865041,
   "end_time": "2022-12-01T01:39:44.894681",
   "environment_variables": {},
   "exception": true,
   "input_path": "__notebook__.ipynb",
   "output_path": "__notebook__.ipynb",
   "parameters": {},
   "start_time": "2022-12-01T01:39:15.029640",
   "version": "2.3.4"
  }
 },
 "nbformat": 4,
 "nbformat_minor": 5
}
