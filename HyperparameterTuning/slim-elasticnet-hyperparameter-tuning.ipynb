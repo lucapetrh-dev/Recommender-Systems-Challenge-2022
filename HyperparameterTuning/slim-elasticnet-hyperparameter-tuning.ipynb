{
 "cells": [
  {
   "cell_type": "code",
   "execution_count": 2,
   "id": "0faced22",
   "metadata": {
    "execution": {
     "iopub.execute_input": "2022-11-28T23:39:12.189505Z",
     "iopub.status.busy": "2022-11-28T23:39:12.188615Z",
     "iopub.status.idle": "2022-11-28T23:39:13.307706Z",
     "shell.execute_reply": "2022-11-28T23:39:13.306744Z"
    },
    "papermill": {
     "duration": 1.128617,
     "end_time": "2022-11-28T23:39:13.310054",
     "exception": false,
     "start_time": "2022-11-28T23:39:12.181437",
     "status": "completed"
    },
    "tags": []
   },
   "outputs": [],
   "source": [
    "import pandas as pd\n",
    "import numpy as np\n",
    "\n",
    "from Evaluation.Evaluator import EvaluatorHoldout\n",
    "from Data_manager.split_functions.split_train_validation_random_holdout import split_train_in_two_percentage_global_sample\n",
    "from Utils.DataReader import load_urm, load_icm, load_target\n",
    "from Recommenders.SLIM.SLIMElasticNetRecommender import SLIMElasticNetRecommender"
   ]
  },
  {
   "cell_type": "code",
   "execution_count": 3,
   "id": "cb007ecd",
   "metadata": {
    "execution": {
     "iopub.execute_input": "2022-11-28T23:39:13.323216Z",
     "iopub.status.busy": "2022-11-28T23:39:13.322907Z",
     "iopub.status.idle": "2022-11-28T23:39:18.611162Z",
     "shell.execute_reply": "2022-11-28T23:39:18.610071Z"
    },
    "papermill": {
     "duration": 5.297776,
     "end_time": "2022-11-28T23:39:18.613990",
     "exception": false,
     "start_time": "2022-11-28T23:39:13.316214",
     "status": "completed"
    },
    "tags": []
   },
   "outputs": [
    {
     "name": "stdout",
     "output_type": "stream",
     "text": [
      "Warning: 893 (2.15 %) of 41629 users have no sampled items\n"
     ]
    },
    {
     "name": "stdout",
     "output_type": "stream",
     "text": [
      "Warning: 1503 (3.61 %) of 41629 users have no sampled items\n",
      "EvaluatorHoldout: Ignoring 1503 ( 3.6%) Users that have less than 1 test interactions\n",
      "EvaluatorHoldout: Ignoring 893 ( 2.1%) Users that have less than 1 test interactions\n"
     ]
    }
   ],
   "source": [
    "URM_all = load_urm()\n",
    "\n",
    "URM_train, URM_test = split_train_in_two_percentage_global_sample(URM_all, train_percentage = 0.85)\n",
    "URM_train, URM_validation = split_train_in_two_percentage_global_sample(URM_train, train_percentage = 0.85)\n",
    "\n",
    "evaluator_validation = EvaluatorHoldout(URM_validation, cutoff_list=[10])\n",
    "evaluator_test = EvaluatorHoldout(URM_test, cutoff_list=[10])"
   ]
  },
  {
   "cell_type": "code",
   "execution_count": 4,
   "id": "f074b693",
   "metadata": {
    "execution": {
     "iopub.execute_input": "2022-11-28T23:39:18.628285Z",
     "iopub.status.busy": "2022-11-28T23:39:18.627704Z",
     "iopub.status.idle": "2022-11-28T23:39:18.633504Z",
     "shell.execute_reply": "2022-11-28T23:39:18.632626Z"
    },
    "papermill": {
     "duration": 0.014588,
     "end_time": "2022-11-28T23:39:18.635565",
     "exception": false,
     "start_time": "2022-11-28T23:39:18.620977",
     "status": "completed"
    },
    "tags": []
   },
   "outputs": [],
   "source": [
    "recommender_class = SLIMElasticNetRecommender"
   ]
  },
  {
   "cell_type": "code",
   "execution_count": 5,
   "id": "2ae108f1",
   "metadata": {
    "execution": {
     "iopub.execute_input": "2022-11-28T23:39:18.648086Z",
     "iopub.status.busy": "2022-11-28T23:39:18.647828Z",
     "iopub.status.idle": "2022-11-28T23:39:18.653216Z",
     "shell.execute_reply": "2022-11-28T23:39:18.652165Z"
    },
    "papermill": {
     "duration": 0.014109,
     "end_time": "2022-11-28T23:39:18.655527",
     "exception": false,
     "start_time": "2022-11-28T23:39:18.641418",
     "status": "completed"
    },
    "tags": []
   },
   "outputs": [],
   "source": [
    "import os\n",
    "\n",
    "output_folder_path = \"Experiments/\"\n",
    "\n",
    "# If directory does not exist, create\n",
    "if not os.path.exists(output_folder_path):\n",
    "    os.makedirs(output_folder_path)\n",
    "\n",
    "n_cases = 50\n",
    "n_random_starts = int(n_cases*0.3)\n",
    "metric_to_optimize = \"MAP\"\n",
    "cutoff_to_optimize = 10"
   ]
  },
  {
   "cell_type": "code",
   "execution_count": 6,
   "id": "7198c42d",
   "metadata": {
    "execution": {
     "iopub.execute_input": "2022-11-28T23:39:18.667762Z",
     "iopub.status.busy": "2022-11-28T23:39:18.667502Z",
     "iopub.status.idle": "2022-11-28T23:39:18.834850Z",
     "shell.execute_reply": "2022-11-28T23:39:18.833886Z"
    },
    "papermill": {
     "duration": 0.176093,
     "end_time": "2022-11-28T23:39:18.837187",
     "exception": false,
     "start_time": "2022-11-28T23:39:18.661094",
     "status": "completed"
    },
    "tags": []
   },
   "outputs": [],
   "source": [
    "from skopt.space import Real, Integer, Categorical\n",
    "\n",
    "hyperparameters_range_dictionary = {\n",
    "    \"topK\": Integer(1,800),\n",
    "    \"l1_ratio\": Real(low = 0.001, high = 0.01, prior = 'log-uniform'),\n",
    "    \"alpha\": Real(low = 0.001, high = 0.02, prior = 'log-uniform'),\n",
    "    #\"positive_only\": Categorical([True]),\n",
    "}"
   ]
  },
  {
   "cell_type": "code",
   "execution_count": 7,
   "id": "d842be4f",
   "metadata": {
    "execution": {
     "iopub.execute_input": "2022-11-28T23:39:18.850472Z",
     "iopub.status.busy": "2022-11-28T23:39:18.850173Z",
     "iopub.status.idle": "2022-11-28T23:39:18.855334Z",
     "shell.execute_reply": "2022-11-28T23:39:18.854146Z"
    },
    "papermill": {
     "duration": 0.013959,
     "end_time": "2022-11-28T23:39:18.857259",
     "exception": false,
     "start_time": "2022-11-28T23:39:18.843300",
     "status": "completed"
    },
    "tags": []
   },
   "outputs": [],
   "source": [
    "earlystopping_keywargs = {\"validation_every_n\": 15,\n",
    "                          \"stop_on_validation\": True,\n",
    "                          \"evaluator_object\": evaluator_validation,\n",
    "                          \"lower_validations_allowed\": 5,\n",
    "                          \"validation_metric\": metric_to_optimize,\n",
    "                          }"
   ]
  },
  {
   "cell_type": "code",
   "execution_count": 8,
   "id": "3af72e39",
   "metadata": {
    "execution": {
     "iopub.execute_input": "2022-11-28T23:39:18.870281Z",
     "iopub.status.busy": "2022-11-28T23:39:18.869502Z",
     "iopub.status.idle": "2022-11-28T23:39:23.118226Z",
     "shell.execute_reply": "2022-11-28T23:39:23.117246Z"
    },
    "papermill": {
     "duration": 4.25776,
     "end_time": "2022-11-28T23:39:23.120698",
     "exception": false,
     "start_time": "2022-11-28T23:39:18.862938",
     "status": "completed"
    },
    "tags": []
   },
   "outputs": [],
   "source": [
    "from HyperparameterTuning.SearchBayesianSkopt import SearchBayesianSkopt\n",
    "\n",
    "#create a bayesian optimizer object, we pass the recommender and the evaluator\n",
    "hyperparameterSearch = SearchBayesianSkopt(recommender_class,\n",
    "                                           evaluator_validation=evaluator_validation)"
   ]
  },
  {
   "cell_type": "code",
   "execution_count": 9,
   "id": "3029ddb2",
   "metadata": {
    "execution": {
     "iopub.execute_input": "2022-11-28T23:39:23.134880Z",
     "iopub.status.busy": "2022-11-28T23:39:23.133877Z",
     "iopub.status.idle": "2022-11-28T23:39:23.139955Z",
     "shell.execute_reply": "2022-11-28T23:39:23.139141Z"
    },
    "papermill": {
     "duration": 0.015189,
     "end_time": "2022-11-28T23:39:23.142031",
     "exception": false,
     "start_time": "2022-11-28T23:39:23.126842",
     "status": "completed"
    },
    "tags": []
   },
   "outputs": [],
   "source": [
    "from HyperparameterTuning.SearchAbstractClass import SearchInputRecommenderArgs\n",
    "\n",
    "#provide data needed to create instance of model (one on URM_train, the other on URM_all)\n",
    "recommender_input_args = SearchInputRecommenderArgs(\n",
    "    CONSTRUCTOR_POSITIONAL_ARGS = [URM_train],     # For a CBF model simply put [URM_train, ICM_train]\n",
    "    CONSTRUCTOR_KEYWORD_ARGS = {},\n",
    "    FIT_POSITIONAL_ARGS = [],\n",
    "    FIT_KEYWORD_ARGS ={}\n",
    ")\n",
    "recommender_input_args_last_test = SearchInputRecommenderArgs(\n",
    "    CONSTRUCTOR_POSITIONAL_ARGS = [URM_all],\n",
    "    CONSTRUCTOR_KEYWORD_ARGS = {},\n",
    "    FIT_POSITIONAL_ARGS = [],\n",
    "    FIT_KEYWORD_ARGS ={}\n",
    ")"
   ]
  },
  {
   "cell_type": "code",
   "execution_count": 10,
   "id": "0f8790c6",
   "metadata": {
    "execution": {
     "iopub.execute_input": "2022-11-28T23:39:23.155303Z",
     "iopub.status.busy": "2022-11-28T23:39:23.154441Z"
    },
    "papermill": {
     "duration": null,
     "end_time": null,
     "exception": false,
     "start_time": "2022-11-28T23:39:23.147770",
     "status": "running"
    },
    "tags": []
   },
   "outputs": [
    {
     "name": "stdout",
     "output_type": "stream",
     "text": [
      "Iteration No: 1 started. Evaluating function at random point.\n",
      "SearchBayesianSkopt: Testing config: {'topK': 412, 'l1_ratio': 0.004085242368699656, 'alpha': 0.006454058682826422}\n"
     ]
    },
    {
     "name": "stdout",
     "output_type": "stream",
     "text": [
      "SLIMElasticNetRecommender: Processed 6063 (24.7%) in 5.00 min. Items per second: 20.20\n"
     ]
    },
    {
     "name": "stdout",
     "output_type": "stream",
     "text": [
      "SLIMElasticNetRecommender: Processed 12780 (52.1%) in 10.00 min. Items per second: 21.30\n"
     ]
    },
    {
     "name": "stdout",
     "output_type": "stream",
     "text": [
      "SLIMElasticNetRecommender: Processed 19444 (79.3%) in 15.00 min. Items per second: 21.60\n"
     ]
    },
    {
     "name": "stdout",
     "output_type": "stream",
     "text": [
      "SLIMElasticNetRecommender: Processed 24507 (100.0%) in 18.71 min. Items per second: 21.82\n"
     ]
    },
    {
     "name": "stdout",
     "output_type": "stream",
     "text": [
      "EvaluatorHoldout: Processed 40126 (100.0%) in 44.10 sec. Users per second: 910\n"
     ]
    },
    {
     "name": "stdout",
     "output_type": "stream",
     "text": [
      "SearchBayesianSkopt: New best config found. Config 0: {'topK': 412, 'l1_ratio': 0.004085242368699656, 'alpha': 0.006454058682826422} - results: PRECISION: 0.0425260, PRECISION_RECALL_MIN_DEN: 0.0814802, RECALL: 0.0781657, MAP: 0.0193480, MAP_MIN_DEN: 0.0365108, MRR: 0.1407086, NDCG: 0.0726265, F1: 0.0550838, HIT_RATE: 0.3056871, ARHR_ALL_HITS: 0.1643205, NOVELTY: 0.0042195, AVERAGE_POPULARITY: 0.2109872, DIVERSITY_MEAN_INTER_LIST: 0.9344878, DIVERSITY_HERFINDAHL: 0.9934465, COVERAGE_ITEM: 0.1541600, COVERAGE_ITEM_HIT: 0.0446811, ITEMS_IN_GT: 0.9865345, COVERAGE_USER: 0.9638954, COVERAGE_USER_HIT: 0.2946504, USERS_IN_GT: 0.9638954, DIVERSITY_GINI: 0.0161028, SHANNON_ENTROPY: 8.6573540, RATIO_DIVERSITY_HERFINDAHL: 0.9937752, RATIO_DIVERSITY_GINI: 0.0318572, RATIO_SHANNON_ENTROPY: 0.6417464, RATIO_AVERAGE_POPULARITY: 4.1672984, RATIO_NOVELTY: 0.2840904, \n",
      "\n"
     ]
    },
    {
     "name": "stdout",
     "output_type": "stream",
     "text": [
      "Iteration No: 1 ended. Evaluation done at random point.\n",
      "Time taken: 1167.3275\n",
      "Function value obtained: -0.0193\n",
      "Current minimum: -0.0193\n",
      "Iteration No: 2 started. Evaluating function at random point.\n",
      "SearchBayesianSkopt: Testing config: {'topK': 721, 'l1_ratio': 0.00907827951364489, 'alpha': 0.006461607605025803}\n"
     ]
    },
    {
     "name": "stdout",
     "output_type": "stream",
     "text": [
      "SLIMElasticNetRecommender: Processed 7205 (29.4%) in 5.00 min. Items per second: 24.01\n"
     ]
    },
    {
     "name": "stdout",
     "output_type": "stream",
     "text": [
      "SLIMElasticNetRecommender: Processed 15410 (62.9%) in 10.00 min. Items per second: 25.68\n"
     ]
    },
    {
     "name": "stdout",
     "output_type": "stream",
     "text": [
      "SLIMElasticNetRecommender: Processed 23922 (97.6%) in 15.00 min. Items per second: 26.58\n"
     ]
    },
    {
     "name": "stdout",
     "output_type": "stream",
     "text": [
      "SLIMElasticNetRecommender: Processed 24507 (100.0%) in 15.31 min. Items per second: 26.67\n"
     ]
    },
    {
     "name": "stdout",
     "output_type": "stream",
     "text": [
      "EvaluatorHoldout: Processed 40126 (100.0%) in 37.64 sec. Users per second: 1066\n"
     ]
    },
    {
     "name": "stdout",
     "output_type": "stream",
     "text": [
      "SearchBayesianSkopt: Config 1 is suboptimal. Config: {'topK': 721, 'l1_ratio': 0.00907827951364489, 'alpha': 0.006461607605025803} - results: PRECISION: 0.0420525, PRECISION_RECALL_MIN_DEN: 0.0808924, RECALL: 0.0776924, MAP: 0.0191301, MAP_MIN_DEN: 0.0362818, MRR: 0.1400158, NDCG: 0.0721291, F1: 0.0545687, HIT_RATE: 0.3045158, ARHR_ALL_HITS: 0.1629968, NOVELTY: 0.0041780, AVERAGE_POPULARITY: 0.2252376, DIVERSITY_MEAN_INTER_LIST: 0.9233721, DIVERSITY_HERFINDAHL: 0.9923349, COVERAGE_ITEM: 0.1528951, COVERAGE_ITEM_HIT: 0.0411311, ITEMS_IN_GT: 0.9865345, COVERAGE_USER: 0.9638954, COVERAGE_USER_HIT: 0.2935213, USERS_IN_GT: 0.9638954, DIVERSITY_GINI: 0.0149817, SHANNON_ENTROPY: 8.5020908, RATIO_DIVERSITY_HERFINDAHL: 0.9926633, RATIO_DIVERSITY_GINI: 0.0296391, RATIO_SHANNON_ENTROPY: 0.6302371, RATIO_AVERAGE_POPULARITY: 4.4487631, RATIO_NOVELTY: 0.2812979, \n",
      "\n",
      "Iteration No: 2 ended. Evaluation done at random point.\n",
      "Time taken: 956.5258\n",
      "Function value obtained: -0.0191\n",
      "Current minimum: -0.0193\n",
      "Iteration No: 3 started. Evaluating function at random point.\n",
      "SearchBayesianSkopt: Testing config: {'topK': 437, 'l1_ratio': 0.0011869983943696874, 'alpha': 0.002365220858523112}\n"
     ]
    },
    {
     "name": "stdout",
     "output_type": "stream",
     "text": [
      "SLIMElasticNetRecommender: Processed 5065 (20.7%) in 5.00 min. Items per second: 16.88\n"
     ]
    },
    {
     "name": "stdout",
     "output_type": "stream",
     "text": [
      "SLIMElasticNetRecommender: Processed 10598 (43.2%) in 10.00 min. Items per second: 17.66\n"
     ]
    },
    {
     "name": "stdout",
     "output_type": "stream",
     "text": [
      "SLIMElasticNetRecommender: Processed 16132 (65.8%) in 15.00 min. Items per second: 17.92\n"
     ]
    },
    {
     "name": "stdout",
     "output_type": "stream",
     "text": [
      "SLIMElasticNetRecommender: Processed 21711 (88.6%) in 20.00 min. Items per second: 18.09\n"
     ]
    },
    {
     "name": "stdout",
     "output_type": "stream",
     "text": [
      "SLIMElasticNetRecommender: Processed 24507 (100.0%) in 22.51 min. Items per second: 18.15\n"
     ]
    },
    {
     "name": "stdout",
     "output_type": "stream",
     "text": [
      "EvaluatorHoldout: Processed 40126 (100.0%) in 37.57 sec. Users per second: 1068\n"
     ]
    },
    {
     "name": "stdout",
     "output_type": "stream",
     "text": [
      "SearchBayesianSkopt: Config 2 is suboptimal. Config: {'topK': 437, 'l1_ratio': 0.0011869983943696874, 'alpha': 0.002365220858523112} - results: PRECISION: 0.0423765, PRECISION_RECALL_MIN_DEN: 0.0803910, RECALL: 0.0770558, MAP: 0.0193102, MAP_MIN_DEN: 0.0363511, MRR: 0.1394641, NDCG: 0.0720743, F1: 0.0546813, HIT_RATE: 0.3027214, ARHR_ALL_HITS: 0.1633987, NOVELTY: 0.0043790, AVERAGE_POPULARITY: 0.1729863, DIVERSITY_MEAN_INTER_LIST: 0.9584140, DIVERSITY_HERFINDAHL: 0.9958390, COVERAGE_ITEM: 0.1815808, COVERAGE_ITEM_HIT: 0.0554535, ITEMS_IN_GT: 0.9865345, COVERAGE_USER: 0.9638954, COVERAGE_USER_HIT: 0.2917918, USERS_IN_GT: 0.9638954, DIVERSITY_GINI: 0.0235462, SHANNON_ENTROPY: 9.2696156, RATIO_DIVERSITY_HERFINDAHL: 0.9961685, RATIO_DIVERSITY_GINI: 0.0465828, RATIO_SHANNON_ENTROPY: 0.6871317, RATIO_AVERAGE_POPULARITY: 3.4167248, RATIO_NOVELTY: 0.2948298, \n",
      "\n",
      "Iteration No: 3 ended. Evaluation done at random point.\n",
      "Time taken: 1388.4780\n",
      "Function value obtained: -0.0193\n",
      "Current minimum: -0.0193\n",
      "Iteration No: 4 started. Evaluating function at random point.\n",
      "SearchBayesianSkopt: Testing config: {'topK': 593, 'l1_ratio': 0.0028872501984600197, 'alpha': 0.008760392850542958}\n"
     ]
    },
    {
     "name": "stdout",
     "output_type": "stream",
     "text": [
      "SLIMElasticNetRecommender: Processed 5975 (24.4%) in 5.00 min. Items per second: 19.91\n"
     ]
    },
    {
     "name": "stdout",
     "output_type": "stream",
     "text": [
      "SLIMElasticNetRecommender: Processed 12651 (51.6%) in 10.00 min. Items per second: 21.08\n"
     ]
    },
    {
     "name": "stdout",
     "output_type": "stream",
     "text": [
      "SLIMElasticNetRecommender: Processed 19429 (79.3%) in 15.00 min. Items per second: 21.59\n"
     ]
    },
    {
     "name": "stdout",
     "output_type": "stream",
     "text": [
      "SLIMElasticNetRecommender: Processed 24507 (100.0%) in 18.70 min. Items per second: 21.84\n"
     ]
    },
    {
     "name": "stdout",
     "output_type": "stream",
     "text": [
      "EvaluatorHoldout: Processed 40126 (100.0%) in 43.43 sec. Users per second: 924\n"
     ]
    },
    {
     "name": "stdout",
     "output_type": "stream",
     "text": [
      "SearchBayesianSkopt: Config 3 is suboptimal. Config: {'topK': 593, 'l1_ratio': 0.0028872501984600197, 'alpha': 0.008760392850542958} - results: PRECISION: 0.0419902, PRECISION_RECALL_MIN_DEN: 0.0806578, RECALL: 0.0774151, MAP: 0.0190863, MAP_MIN_DEN: 0.0361276, MRR: 0.1394851, NDCG: 0.0718794, F1: 0.0544478, HIT_RATE: 0.3032697, ARHR_ALL_HITS: 0.1624732, NOVELTY: 0.0041714, AVERAGE_POPULARITY: 0.2236341, DIVERSITY_MEAN_INTER_LIST: 0.9248299, DIVERSITY_HERFINDAHL: 0.9924807, COVERAGE_ITEM: 0.1451422, COVERAGE_ITEM_HIT: 0.0406414, ITEMS_IN_GT: 0.9865345, COVERAGE_USER: 0.9638954, COVERAGE_USER_HIT: 0.2923203, USERS_IN_GT: 0.9638954, DIVERSITY_GINI: 0.0141521, SHANNON_ENTROPY: 8.4592919, RATIO_DIVERSITY_HERFINDAHL: 0.9928091, RATIO_DIVERSITY_GINI: 0.0279980, RATIO_SHANNON_ENTROPY: 0.6270645, RATIO_AVERAGE_POPULARITY: 4.4170922, RATIO_NOVELTY: 0.2808510, \n",
      "\n",
      "Iteration No: 4 ended. Evaluation done at random point.\n",
      "Time taken: 1165.8418\n",
      "Function value obtained: -0.0191\n",
      "Current minimum: -0.0193\n",
      "Iteration No: 5 started. Evaluating function at random point.\n",
      "SearchBayesianSkopt: Testing config: {'topK': 384, 'l1_ratio': 0.00232949667778259, 'alpha': 0.004949883898019812}\n"
     ]
    },
    {
     "name": "stdout",
     "output_type": "stream",
     "text": [
      "SLIMElasticNetRecommender: Processed 5224 (21.3%) in 5.00 min. Items per second: 17.41\n"
     ]
    },
    {
     "name": "stdout",
     "output_type": "stream",
     "text": [
      "SLIMElasticNetRecommender: Processed 10936 (44.6%) in 10.00 min. Items per second: 18.22\n"
     ]
    },
    {
     "name": "stdout",
     "output_type": "stream",
     "text": [
      "SLIMElasticNetRecommender: Processed 16661 (68.0%) in 15.00 min. Items per second: 18.51\n"
     ]
    },
    {
     "name": "stdout",
     "output_type": "stream",
     "text": [
      "SLIMElasticNetRecommender: Processed 22407 (91.4%) in 20.00 min. Items per second: 18.67\n"
     ]
    },
    {
     "name": "stdout",
     "output_type": "stream",
     "text": [
      "SLIMElasticNetRecommender: Processed 24507 (100.0%) in 21.83 min. Items per second: 18.71\n"
     ]
    },
    {
     "name": "stdout",
     "output_type": "stream",
     "text": [
      "EvaluatorHoldout: Processed 40126 (100.0%) in 38.00 sec. Users per second: 1056\n"
     ]
    },
    {
     "name": "stdout",
     "output_type": "stream",
     "text": [
      "SearchBayesianSkopt: New best config found. Config 4: {'topK': 384, 'l1_ratio': 0.00232949667778259, 'alpha': 0.004949883898019812} - results: PRECISION: 0.0427030, PRECISION_RECALL_MIN_DEN: 0.0814580, RECALL: 0.0781035, MAP: 0.0194389, MAP_MIN_DEN: 0.0366352, MRR: 0.1408374, NDCG: 0.0727671, F1: 0.0552165, HIT_RATE: 0.3058615, ARHR_ALL_HITS: 0.1647696, NOVELTY: 0.0042733, AVERAGE_POPULARITY: 0.1974115, DIVERSITY_MEAN_INTER_LIST: 0.9438324, DIVERSITY_HERFINDAHL: 0.9943809, COVERAGE_ITEM: 0.1586894, COVERAGE_ITEM_HIT: 0.0482719, ITEMS_IN_GT: 0.9865345, COVERAGE_USER: 0.9638954, COVERAGE_USER_HIT: 0.2948185, USERS_IN_GT: 0.9638954, DIVERSITY_GINI: 0.0182306, SHANNON_ENTROPY: 8.8656582, RATIO_DIVERSITY_HERFINDAHL: 0.9947099, RATIO_DIVERSITY_GINI: 0.0360667, RATIO_SHANNON_ENTROPY: 0.6571874, RATIO_AVERAGE_POPULARITY: 3.8991579, RATIO_NOVELTY: 0.2877148, \n",
      "\n",
      "Iteration No: 5 ended. Evaluation done at random point.\n",
      "Time taken: 1348.3387\n",
      "Function value obtained: -0.0194\n",
      "Current minimum: -0.0194\n",
      "Iteration No: 6 started. Evaluating function at random point.\n",
      "SearchBayesianSkopt: Testing config: {'topK': 636, 'l1_ratio': 0.005327175822892371, 'alpha': 0.0036887664268103874}\n"
     ]
    },
    {
     "name": "stdout",
     "output_type": "stream",
     "text": [
      "SLIMElasticNetRecommender: Processed 5547 (22.6%) in 5.00 min. Items per second: 18.48\n"
     ]
    },
    {
     "name": "stdout",
     "output_type": "stream",
     "text": [
      "SLIMElasticNetRecommender: Processed 11506 (46.9%) in 10.00 min. Items per second: 19.17\n"
     ]
    },
    {
     "name": "stdout",
     "output_type": "stream",
     "text": [
      "SLIMElasticNetRecommender: Processed 17477 (71.3%) in 15.00 min. Items per second: 19.41\n"
     ]
    },
    {
     "name": "stdout",
     "output_type": "stream",
     "text": [
      "SLIMElasticNetRecommender: Processed 23486 (95.8%) in 20.00 min. Items per second: 19.57\n"
     ]
    },
    {
     "name": "stdout",
     "output_type": "stream",
     "text": [
      "SLIMElasticNetRecommender: Processed 24507 (100.0%) in 20.84 min. Items per second: 19.60\n"
     ]
    },
    {
     "name": "stdout",
     "output_type": "stream",
     "text": [
      "EvaluatorHoldout: Processed 40126 (100.0%) in 47.57 sec. Users per second: 843\n"
     ]
    },
    {
     "name": "stdout",
     "output_type": "stream",
     "text": [
      "SearchBayesianSkopt: New best config found. Config 5: {'topK': 636, 'l1_ratio': 0.005327175822892371, 'alpha': 0.0036887664268103874} - results: PRECISION: 0.0427653, PRECISION_RECALL_MIN_DEN: 0.0816125, RECALL: 0.0782720, MAP: 0.0195206, MAP_MIN_DEN: 0.0368328, MRR: 0.1413005, NDCG: 0.0730163, F1: 0.0553106, HIT_RATE: 0.3061606, ARHR_ALL_HITS: 0.1654076, NOVELTY: 0.0042828, AVERAGE_POPULARITY: 0.1966709, DIVERSITY_MEAN_INTER_LIST: 0.9445137, DIVERSITY_HERFINDAHL: 0.9944490, COVERAGE_ITEM: 0.1562411, COVERAGE_ITEM_HIT: 0.0493736, ITEMS_IN_GT: 0.9865345, COVERAGE_USER: 0.9638954, COVERAGE_USER_HIT: 0.2951068, USERS_IN_GT: 0.9638954, DIVERSITY_GINI: 0.0189213, SHANNON_ENTROPY: 8.9113206, RATIO_DIVERSITY_HERFINDAHL: 0.9947781, RATIO_DIVERSITY_GINI: 0.0374332, RATIO_SHANNON_ENTROPY: 0.6605722, RATIO_AVERAGE_POPULARITY: 3.8845295, RATIO_NOVELTY: 0.2883522, \n",
      "\n",
      "Iteration No: 6 ended. Evaluation done at random point.\n",
      "Time taken: 1298.3188\n",
      "Function value obtained: -0.0195\n",
      "Current minimum: -0.0195\n",
      "Iteration No: 7 started. Evaluating function at random point.\n",
      "SearchBayesianSkopt: Testing config: {'topK': 475, 'l1_ratio': 0.00971878312962775, 'alpha': 0.018355768439588957}\n"
     ]
    },
    {
     "name": "stdout",
     "output_type": "stream",
     "text": [
      "SLIMElasticNetRecommender: Processed 16228 (66.2%) in 5.00 min. Items per second: 54.09\n"
     ]
    },
    {
     "name": "stdout",
     "output_type": "stream",
     "text": [
      "SLIMElasticNetRecommender: Processed 24507 (100.0%) in 6.98 min. Items per second: 58.54\n"
     ]
    },
    {
     "name": "stdout",
     "output_type": "stream",
     "text": [
      "EvaluatorHoldout: Processed 40126 (100.0%) in 28.56 sec. Users per second: 1405\n"
     ]
    },
    {
     "name": "stdout",
     "output_type": "stream",
     "text": [
      "SearchBayesianSkopt: Config 6 is suboptimal. Config: {'topK': 475, 'l1_ratio': 0.00971878312962775, 'alpha': 0.018355768439588957} - results: PRECISION: 0.0392987, PRECISION_RECALL_MIN_DEN: 0.0759922, RECALL: 0.0729619, MAP: 0.0177898, MAP_MIN_DEN: 0.0338700, MRR: 0.1323009, NDCG: 0.0676273, F1: 0.0510831, HIT_RATE: 0.2886657, ARHR_ALL_HITS: 0.1527485, NOVELTY: 0.0040735, AVERAGE_POPULARITY: 0.2556398, DIVERSITY_MEAN_INTER_LIST: 0.8950251, DIVERSITY_HERFINDAHL: 0.9895003, COVERAGE_ITEM: 0.0961766, COVERAGE_ITEM_HIT: 0.0272983, ITEMS_IN_GT: 0.9865345, COVERAGE_USER: 0.9638954, COVERAGE_USER_HIT: 0.2782435, USERS_IN_GT: 0.9638954, DIVERSITY_GINI: 0.0095296, SHANNON_ENTROPY: 7.9167415, RATIO_DIVERSITY_HERFINDAHL: 0.9898277, RATIO_DIVERSITY_GINI: 0.0188530, RATIO_SHANNON_ENTROPY: 0.5868467, RATIO_AVERAGE_POPULARITY: 5.0492494, RATIO_NOVELTY: 0.2742638, \n",
      "\n",
      "Iteration No: 7 ended. Evaluation done at random point.\n",
      "Time taken: 447.2958\n",
      "Function value obtained: -0.0178\n",
      "Current minimum: -0.0195\n",
      "Iteration No: 8 started. Evaluating function at random point.\n",
      "SearchBayesianSkopt: Testing config: {'topK': 502, 'l1_ratio': 0.0038504540583007437, 'alpha': 0.018589935988749955}\n"
     ]
    },
    {
     "name": "stdout",
     "output_type": "stream",
     "text": [
      "SLIMElasticNetRecommender: Processed 8451 (34.5%) in 5.00 min. Items per second: 28.16\n"
     ]
    },
    {
     "name": "stdout",
     "output_type": "stream",
     "text": [
      "SLIMElasticNetRecommender: Processed 18725 (76.4%) in 10.00 min. Items per second: 31.20\n"
     ]
    },
    {
     "name": "stdout",
     "output_type": "stream",
     "text": [
      "SLIMElasticNetRecommender: Processed 24507 (100.0%) in 12.68 min. Items per second: 32.20\n"
     ]
    },
    {
     "name": "stdout",
     "output_type": "stream",
     "text": [
      "EvaluatorHoldout: Processed 40126 (100.0%) in 35.08 sec. Users per second: 1144\n"
     ]
    },
    {
     "name": "stdout",
     "output_type": "stream",
     "text": [
      "SearchBayesianSkopt: Config 7 is suboptimal. Config: {'topK': 502, 'l1_ratio': 0.0038504540583007437, 'alpha': 0.018589935988749955} - results: PRECISION: 0.0400713, PRECISION_RECALL_MIN_DEN: 0.0772602, RECALL: 0.0741681, MAP: 0.0181490, MAP_MIN_DEN: 0.0345583, MRR: 0.1345487, NDCG: 0.0688904, F1: 0.0520313, HIT_RATE: 0.2935752, ARHR_ALL_HITS: 0.1556030, NOVELTY: 0.0040705, AVERAGE_POPULARITY: 0.2524247, DIVERSITY_MEAN_INTER_LIST: 0.8987624, DIVERSITY_HERFINDAHL: 0.9898740, COVERAGE_ITEM: 0.1380422, COVERAGE_ITEM_HIT: 0.0312564, ITEMS_IN_GT: 0.9865345, COVERAGE_USER: 0.9638954, COVERAGE_USER_HIT: 0.2829758, USERS_IN_GT: 0.9638954, DIVERSITY_GINI: 0.0109283, SHANNON_ENTROPY: 8.0200109, RATIO_DIVERSITY_HERFINDAHL: 0.9902015, RATIO_DIVERSITY_GINI: 0.0216201, RATIO_SHANNON_ENTROPY: 0.5945018, RATIO_AVERAGE_POPULARITY: 4.9857477, RATIO_NOVELTY: 0.2740590, \n",
      "\n",
      "Iteration No: 8 ended. Evaluation done at random point.\n",
      "Time taken: 796.3323\n",
      "Function value obtained: -0.0181\n",
      "Current minimum: -0.0195\n",
      "Iteration No: 9 started. Evaluating function at random point.\n",
      "SearchBayesianSkopt: Testing config: {'topK': 764, 'l1_ratio': 0.0014335861635494818, 'alpha': 0.011503702284947485}\n"
     ]
    },
    {
     "name": "stdout",
     "output_type": "stream",
     "text": [
      "SLIMElasticNetRecommender: Processed 5189 (21.2%) in 5.00 min. Items per second: 17.29\n"
     ]
    },
    {
     "name": "stdout",
     "output_type": "stream",
     "text": [
      "SLIMElasticNetRecommender: Processed 10833 (44.2%) in 10.00 min. Items per second: 18.05\n"
     ]
    },
    {
     "name": "stdout",
     "output_type": "stream",
     "text": [
      "SLIMElasticNetRecommender: Processed 16491 (67.3%) in 15.00 min. Items per second: 18.32\n"
     ]
    },
    {
     "name": "stdout",
     "output_type": "stream",
     "text": [
      "SLIMElasticNetRecommender: Processed 22214 (90.6%) in 20.00 min. Items per second: 18.51\n"
     ]
    },
    {
     "name": "stdout",
     "output_type": "stream",
     "text": [
      "SLIMElasticNetRecommender: Processed 24507 (100.0%) in 21.99 min. Items per second: 18.57\n"
     ]
    },
    {
     "name": "stdout",
     "output_type": "stream",
     "text": [
      "EvaluatorHoldout: Processed 40126 (100.0%) in 51.00 sec. Users per second: 787\n"
     ]
    },
    {
     "name": "stdout",
     "output_type": "stream",
     "text": [
      "SearchBayesianSkopt: Config 8 is suboptimal. Config: {'topK': 764, 'l1_ratio': 0.0014335861635494818, 'alpha': 0.011503702284947485} - results: PRECISION: 0.0415441, PRECISION_RECALL_MIN_DEN: 0.0798989, RECALL: 0.0766930, MAP: 0.0188460, MAP_MIN_DEN: 0.0356705, MRR: 0.1381368, NDCG: 0.0711013, F1: 0.0538941, HIT_RATE: 0.3011015, ARHR_ALL_HITS: 0.1606449, NOVELTY: 0.0041381, AVERAGE_POPULARITY: 0.2319320, DIVERSITY_MEAN_INTER_LIST: 0.9179274, DIVERSITY_HERFINDAHL: 0.9917905, COVERAGE_ITEM: 0.1375117, COVERAGE_ITEM_HIT: 0.0379075, ITEMS_IN_GT: 0.9865345, COVERAGE_USER: 0.9638954, COVERAGE_USER_HIT: 0.2902304, USERS_IN_GT: 0.9638954, DIVERSITY_GINI: 0.0128019, SHANNON_ENTROPY: 8.3145609, RATIO_DIVERSITY_HERFINDAHL: 0.9921186, RATIO_DIVERSITY_GINI: 0.0253269, RATIO_SHANNON_ENTROPY: 0.6163360, RATIO_AVERAGE_POPULARITY: 4.5809874, RATIO_NOVELTY: 0.2786105, \n",
      "\n",
      "Iteration No: 9 ended. Evaluation done at random point.\n",
      "Time taken: 1370.9854\n",
      "Function value obtained: -0.0188\n",
      "Current minimum: -0.0195\n",
      "Iteration No: 10 started. Evaluating function at random point.\n",
      "SearchBayesianSkopt: Testing config: {'topK': 486, 'l1_ratio': 0.0011470938633831324, 'alpha': 0.002051498256841854}\n"
     ]
    },
    {
     "name": "stdout",
     "output_type": "stream",
     "text": [
      "SLIMElasticNetRecommender: Processed 5138 (21.0%) in 5.00 min. Items per second: 17.12\n"
     ]
    },
    {
     "name": "stdout",
     "output_type": "stream",
     "text": [
      "SLIMElasticNetRecommender: Processed 10756 (43.9%) in 10.00 min. Items per second: 17.92\n"
     ]
    },
    {
     "name": "stdout",
     "output_type": "stream",
     "text": [
      "SLIMElasticNetRecommender: Processed 16411 (67.0%) in 15.00 min. Items per second: 18.23\n"
     ]
    },
    {
     "name": "stdout",
     "output_type": "stream",
     "text": [
      "SLIMElasticNetRecommender: Processed 22088 (90.1%) in 20.00 min. Items per second: 18.40\n"
     ]
    },
    {
     "name": "stdout",
     "output_type": "stream",
     "text": [
      "SLIMElasticNetRecommender: Processed 24507 (100.0%) in 22.13 min. Items per second: 18.45\n"
     ]
    },
    {
     "name": "stdout",
     "output_type": "stream",
     "text": [
      "EvaluatorHoldout: Processed 40126 (100.0%) in 37.93 sec. Users per second: 1058\n"
     ]
    },
    {
     "name": "stdout",
     "output_type": "stream",
     "text": [
      "SearchBayesianSkopt: Config 9 is suboptimal. Config: {'topK': 486, 'l1_ratio': 0.0011470938633831324, 'alpha': 0.002051498256841854} - results: PRECISION: 0.0421099, PRECISION_RECALL_MIN_DEN: 0.0797068, RECALL: 0.0763618, MAP: 0.0192162, MAP_MIN_DEN: 0.0361311, MRR: 0.1387429, NDCG: 0.0716053, F1: 0.0542844, HIT_RATE: 0.3005283, ARHR_ALL_HITS: 0.1625777, NOVELTY: 0.0043918, AVERAGE_POPULARITY: 0.1700619, DIVERSITY_MEAN_INTER_LIST: 0.9599776, DIVERSITY_HERFINDAHL: 0.9959954, COVERAGE_ITEM: 0.1858245, COVERAGE_ITEM_HIT: 0.0563512, ITEMS_IN_GT: 0.9865345, COVERAGE_USER: 0.9638954, COVERAGE_USER_HIT: 0.2896779, USERS_IN_GT: 0.9638954, DIVERSITY_GINI: 0.0243212, SHANNON_ENTROPY: 9.3194876, RATIO_DIVERSITY_HERFINDAHL: 0.9963249, RATIO_DIVERSITY_GINI: 0.0481162, RATIO_SHANNON_ENTROPY: 0.6908285, RATIO_AVERAGE_POPULARITY: 3.3589643, RATIO_NOVELTY: 0.2956923, \n",
      "\n",
      "Iteration No: 10 ended. Evaluation done at random point.\n",
      "Time taken: 1366.4344\n",
      "Function value obtained: -0.0192\n",
      "Current minimum: -0.0195\n",
      "Iteration No: 11 started. Evaluating function at random point.\n",
      "SearchBayesianSkopt: Testing config: {'topK': 729, 'l1_ratio': 0.002988881294002736, 'alpha': 0.0015729473672570508}\n"
     ]
    },
    {
     "name": "stdout",
     "output_type": "stream",
     "text": [
      "SLIMElasticNetRecommender: Processed 5183 (21.1%) in 5.00 min. Items per second: 17.27\n"
     ]
    },
    {
     "name": "stdout",
     "output_type": "stream",
     "text": [
      "SLIMElasticNetRecommender: Processed 10822 (44.2%) in 10.00 min. Items per second: 18.03\n"
     ]
    },
    {
     "name": "stdout",
     "output_type": "stream",
     "text": [
      "SLIMElasticNetRecommender: Processed 16473 (67.2%) in 15.00 min. Items per second: 18.30\n"
     ]
    },
    {
     "name": "stdout",
     "output_type": "stream",
     "text": [
      "SLIMElasticNetRecommender: Processed 22154 (90.4%) in 20.00 min. Items per second: 18.46\n"
     ]
    },
    {
     "name": "stdout",
     "output_type": "stream",
     "text": [
      "SLIMElasticNetRecommender: Processed 24507 (100.0%) in 22.08 min. Items per second: 18.50\n"
     ]
    },
    {
     "name": "stdout",
     "output_type": "stream",
     "text": [
      "EvaluatorHoldout: Processed 40126 (100.0%) in 40.62 sec. Users per second: 988\n"
     ]
    },
    {
     "name": "stdout",
     "output_type": "stream",
     "text": [
      "SearchBayesianSkopt: Config 10 is suboptimal. Config: {'topK': 729, 'l1_ratio': 0.002988881294002736, 'alpha': 0.0015729473672570508} - results: PRECISION: 0.0420052, PRECISION_RECALL_MIN_DEN: 0.0795389, RECALL: 0.0762286, MAP: 0.0191890, MAP_MIN_DEN: 0.0360196, MRR: 0.1386224, NDCG: 0.0714453, F1: 0.0541638, HIT_RATE: 0.3000797, ARHR_ALL_HITS: 0.1623782, NOVELTY: 0.0043861, AVERAGE_POPULARITY: 0.1716542, DIVERSITY_MEAN_INTER_LIST: 0.9594179, DIVERSITY_HERFINDAHL: 0.9959394, COVERAGE_ITEM: 0.1739911, COVERAGE_ITEM_HIT: 0.0576162, ITEMS_IN_GT: 0.9865345, COVERAGE_USER: 0.9638954, COVERAGE_USER_HIT: 0.2892455, USERS_IN_GT: 0.9638954, DIVERSITY_GINI: 0.0240831, SHANNON_ENTROPY: 9.3056354, RATIO_DIVERSITY_HERFINDAHL: 0.9962689, RATIO_DIVERSITY_GINI: 0.0476451, RATIO_SHANNON_ENTROPY: 0.6898017, RATIO_AVERAGE_POPULARITY: 3.3904157, RATIO_NOVELTY: 0.2953070, \n",
      "\n",
      "Iteration No: 11 ended. Evaluation done at random point.\n",
      "Time taken: 1365.6968\n",
      "Function value obtained: -0.0192\n",
      "Current minimum: -0.0195\n",
      "Iteration No: 12 started. Evaluating function at random point.\n",
      "SearchBayesianSkopt: Testing config: {'topK': 420, 'l1_ratio': 0.006448436713674145, 'alpha': 0.016927428493022638}\n"
     ]
    },
    {
     "name": "stdout",
     "output_type": "stream",
     "text": [
      "SLIMElasticNetRecommender: Processed 11514 (47.0%) in 5.00 min. Items per second: 38.37\n"
     ]
    },
    {
     "name": "stdout",
     "output_type": "stream",
     "text": [
      "SLIMElasticNetRecommender: Processed 24507 (100.0%) in 9.29 min. Items per second: 43.95\n"
     ]
    },
    {
     "name": "stdout",
     "output_type": "stream",
     "text": [
      "EvaluatorHoldout: Processed 40126 (100.0%) in 30.75 sec. Users per second: 1305\n"
     ]
    },
    {
     "name": "stdout",
     "output_type": "stream",
     "text": [
      "SearchBayesianSkopt: Config 11 is suboptimal. Config: {'topK': 420, 'l1_ratio': 0.006448436713674145, 'alpha': 0.016927428493022638} - results: PRECISION: 0.0399566, PRECISION_RECALL_MIN_DEN: 0.0770002, RECALL: 0.0739216, MAP: 0.0181096, MAP_MIN_DEN: 0.0344664, MRR: 0.1343304, NDCG: 0.0687163, F1: 0.0518740, HIT_RATE: 0.2929522, ARHR_ALL_HITS: 0.1553108, NOVELTY: 0.0040796, AVERAGE_POPULARITY: 0.2514492, DIVERSITY_MEAN_INTER_LIST: 0.8995739, DIVERSITY_HERFINDAHL: 0.9899551, COVERAGE_ITEM: 0.1242910, COVERAGE_ITEM_HIT: 0.0302771, ITEMS_IN_GT: 0.9865345, COVERAGE_USER: 0.9638954, COVERAGE_USER_HIT: 0.2823753, USERS_IN_GT: 0.9638954, DIVERSITY_GINI: 0.0107909, SHANNON_ENTROPY: 8.0310984, RATIO_DIVERSITY_HERFINDAHL: 0.9902827, RATIO_DIVERSITY_GINI: 0.0213483, RATIO_SHANNON_ENTROPY: 0.5953237, RATIO_AVERAGE_POPULARITY: 4.9664793, RATIO_NOVELTY: 0.2746752, \n",
      "\n",
      "Iteration No: 12 ended. Evaluation done at random point.\n",
      "Time taken: 588.4647\n",
      "Function value obtained: -0.0181\n",
      "Current minimum: -0.0195\n",
      "Iteration No: 13 started. Evaluating function at random point.\n",
      "SearchBayesianSkopt: Testing config: {'topK': 709, 'l1_ratio': 0.0020420371074051165, 'alpha': 0.002377389896393782}\n"
     ]
    },
    {
     "name": "stdout",
     "output_type": "stream",
     "text": [
      "SLIMElasticNetRecommender: Processed 5213 (21.3%) in 5.00 min. Items per second: 17.37\n"
     ]
    },
    {
     "name": "stdout",
     "output_type": "stream",
     "text": [
      "SLIMElasticNetRecommender: Processed 10880 (44.4%) in 10.00 min. Items per second: 18.13\n"
     ]
    },
    {
     "name": "stdout",
     "output_type": "stream",
     "text": [
      "SLIMElasticNetRecommender: Processed 16561 (67.6%) in 15.00 min. Items per second: 18.40\n"
     ]
    },
    {
     "name": "stdout",
     "output_type": "stream",
     "text": [
      "SLIMElasticNetRecommender: Processed 22280 (90.9%) in 20.00 min. Items per second: 18.57\n"
     ]
    },
    {
     "name": "stdout",
     "output_type": "stream",
     "text": [
      "SLIMElasticNetRecommender: Processed 24507 (100.0%) in 21.95 min. Items per second: 18.61\n"
     ]
    },
    {
     "name": "stdout",
     "output_type": "stream",
     "text": [
      "EvaluatorHoldout: Processed 40126 (100.0%) in 41.68 sec. Users per second: 963\n"
     ]
    },
    {
     "name": "stdout",
     "output_type": "stream",
     "text": [
      "SearchBayesianSkopt: Config 12 is suboptimal. Config: {'topK': 709, 'l1_ratio': 0.0020420371074051165, 'alpha': 0.002377389896393782} - results: PRECISION: 0.0425460, PRECISION_RECALL_MIN_DEN: 0.0808535, RECALL: 0.0775133, MAP: 0.0194724, MAP_MIN_DEN: 0.0366834, MRR: 0.1406295, NDCG: 0.0726043, F1: 0.0549375, HIT_RATE: 0.3033943, ARHR_ALL_HITS: 0.1647765, NOVELTY: 0.0043445, AVERAGE_POPULARITY: 0.1812215, DIVERSITY_MEAN_INTER_LIST: 0.9541400, DIVERSITY_HERFINDAHL: 0.9954116, COVERAGE_ITEM: 0.1647692, COVERAGE_ITEM_HIT: 0.0544742, ITEMS_IN_GT: 0.9865345, COVERAGE_USER: 0.9638954, COVERAGE_USER_HIT: 0.2924404, USERS_IN_GT: 0.9638954, DIVERSITY_GINI: 0.0217569, SHANNON_ENTROPY: 9.1468651, RATIO_DIVERSITY_HERFINDAHL: 0.9957410, RATIO_DIVERSITY_GINI: 0.0430431, RATIO_SHANNON_ENTROPY: 0.6780325, RATIO_AVERAGE_POPULARITY: 3.5793821, RATIO_NOVELTY: 0.2925106, \n",
      "\n",
      "Iteration No: 13 ended. Evaluation done at random point.\n",
      "Time taken: 1359.2480\n",
      "Function value obtained: -0.0195\n",
      "Current minimum: -0.0195\n",
      "Iteration No: 14 started. Evaluating function at random point.\n",
      "SearchBayesianSkopt: Testing config: {'topK': 543, 'l1_ratio': 0.005423542137504958, 'alpha': 0.0011053131569942047}\n"
     ]
    },
    {
     "name": "stdout",
     "output_type": "stream",
     "text": [
      "SLIMElasticNetRecommender: Processed 5213 (21.3%) in 5.00 min. Items per second: 17.37\n"
     ]
    },
    {
     "name": "stdout",
     "output_type": "stream",
     "text": [
      "SLIMElasticNetRecommender: Processed 10858 (44.3%) in 10.00 min. Items per second: 18.09\n"
     ]
    },
    {
     "name": "stdout",
     "output_type": "stream",
     "text": [
      "SLIMElasticNetRecommender: Processed 16521 (67.4%) in 15.00 min. Items per second: 18.35\n"
     ]
    },
    {
     "name": "stdout",
     "output_type": "stream",
     "text": [
      "SLIMElasticNetRecommender: Processed 22203 (90.6%) in 20.00 min. Items per second: 18.50\n"
     ]
    },
    {
     "name": "stdout",
     "output_type": "stream",
     "text": [
      "SLIMElasticNetRecommender: Processed 24507 (100.0%) in 22.03 min. Items per second: 18.54\n"
     ]
    },
    {
     "name": "stdout",
     "output_type": "stream",
     "text": [
      "EvaluatorHoldout: Processed 40126 (100.0%) in 38.54 sec. Users per second: 1041\n"
     ]
    },
    {
     "name": "stdout",
     "output_type": "stream",
     "text": [
      "SearchBayesianSkopt: Config 13 is suboptimal. Config: {'topK': 543, 'l1_ratio': 0.005423542137504958, 'alpha': 0.0011053131569942047} - results: PRECISION: 0.0413497, PRECISION_RECALL_MIN_DEN: 0.0775260, RECALL: 0.0742131, MAP: 0.0188517, MAP_MIN_DEN: 0.0352896, MRR: 0.1362223, NDCG: 0.0700119, F1: 0.0531086, HIT_RATE: 0.2946718, ARHR_ALL_HITS: 0.1595809, NOVELTY: 0.0044516, AVERAGE_POPULARITY: 0.1573374, DIVERSITY_MEAN_INTER_LIST: 0.9666187, DIVERSITY_HERFINDAHL: 0.9966595, COVERAGE_ITEM: 0.1890888, COVERAGE_ITEM_HIT: 0.0615334, ITEMS_IN_GT: 0.9865345, COVERAGE_USER: 0.9638954, COVERAGE_USER_HIT: 0.2840328, USERS_IN_GT: 0.9638954, DIVERSITY_GINI: 0.0278365, SHANNON_ENTROPY: 9.5434658, RATIO_DIVERSITY_HERFINDAHL: 0.9969892, RATIO_DIVERSITY_GINI: 0.0550707, RATIO_SHANNON_ENTROPY: 0.7074314, RATIO_AVERAGE_POPULARITY: 3.1076383, RATIO_NOVELTY: 0.2997148, \n",
      "\n",
      "Iteration No: 14 ended. Evaluation done at random point.\n",
      "Time taken: 1360.8789\n",
      "Function value obtained: -0.0189\n",
      "Current minimum: -0.0195\n",
      "Iteration No: 15 started. Evaluating function at random point.\n",
      "SearchBayesianSkopt: Testing config: {'topK': 437, 'l1_ratio': 0.0017179422304630305, 'alpha': 0.0011775314661376984}\n"
     ]
    },
    {
     "name": "stdout",
     "output_type": "stream",
     "text": [
      "SLIMElasticNetRecommender: Processed 5155 (21.0%) in 5.00 min. Items per second: 17.18\n"
     ]
    },
    {
     "name": "stdout",
     "output_type": "stream",
     "text": [
      "SLIMElasticNetRecommender: Processed 10734 (43.8%) in 10.00 min. Items per second: 17.89\n"
     ]
    },
    {
     "name": "stdout",
     "output_type": "stream",
     "text": [
      "SLIMElasticNetRecommender: Processed 16326 (66.6%) in 15.00 min. Items per second: 18.14\n"
     ]
    },
    {
     "name": "stdout",
     "output_type": "stream",
     "text": [
      "SLIMElasticNetRecommender: Processed 21918 (89.4%) in 20.00 min. Items per second: 18.26\n"
     ]
    },
    {
     "name": "stdout",
     "output_type": "stream",
     "text": [
      "SLIMElasticNetRecommender: Processed 24507 (100.0%) in 22.29 min. Items per second: 18.32\n"
     ]
    },
    {
     "name": "stdout",
     "output_type": "stream",
     "text": [
      "EvaluatorHoldout: Processed 40126 (100.0%) in 35.38 sec. Users per second: 1134\n"
     ]
    },
    {
     "name": "stdout",
     "output_type": "stream",
     "text": [
      "SearchBayesianSkopt: Config 14 is suboptimal. Config: {'topK': 437, 'l1_ratio': 0.0017179422304630305, 'alpha': 0.0011775314661376984} - results: PRECISION: 0.0410706, PRECISION_RECALL_MIN_DEN: 0.0769018, RECALL: 0.0735852, MAP: 0.0187320, MAP_MIN_DEN: 0.0349983, MRR: 0.1353947, NDCG: 0.0694917, F1: 0.0527176, HIT_RATE: 0.2924787, ARHR_ALL_HITS: 0.1585982, NOVELTY: 0.0044681, AVERAGE_POPULARITY: 0.1539390, DIVERSITY_MEAN_INTER_LIST: 0.9680158, DIVERSITY_HERFINDAHL: 0.9967992, COVERAGE_ITEM: 0.2222222, COVERAGE_ITEM_HIT: 0.0609214, ITEMS_IN_GT: 0.9865345, COVERAGE_USER: 0.9638954, COVERAGE_USER_HIT: 0.2819189, USERS_IN_GT: 0.9638954, DIVERSITY_GINI: 0.0292142, SHANNON_ENTROPY: 9.6047610, RATIO_DIVERSITY_HERFINDAHL: 0.9971290, RATIO_DIVERSITY_GINI: 0.0577963, RATIO_SHANNON_ENTROPY: 0.7119751, RATIO_AVERAGE_POPULARITY: 3.0405135, RATIO_NOVELTY: 0.3008294, \n",
      "\n"
     ]
    },
    {
     "name": "stdout",
     "output_type": "stream",
     "text": [
      "Iteration No: 15 ended. Evaluation done at random point.\n",
      "Time taken: 1373.7799\n",
      "Function value obtained: -0.0187\n",
      "Current minimum: -0.0195\n",
      "Iteration No: 16 started. Searching for the next optimal point.\n",
      "SearchBayesianSkopt: Testing config: {'topK': 257, 'l1_ratio': 0.0017127364472128077, 'alpha': 0.0012213746405622982}\n"
     ]
    },
    {
     "name": "stdout",
     "output_type": "stream",
     "text": [
      "SLIMElasticNetRecommender: Processed 5145 (21.0%) in 5.00 min. Items per second: 17.14\n"
     ]
    },
    {
     "name": "stdout",
     "output_type": "stream",
     "text": [
      "SLIMElasticNetRecommender: Processed 10774 (44.0%) in 10.00 min. Items per second: 17.95\n"
     ]
    },
    {
     "name": "stdout",
     "output_type": "stream",
     "text": [
      "SLIMElasticNetRecommender: Processed 16398 (66.9%) in 15.00 min. Items per second: 18.22\n"
     ]
    },
    {
     "name": "stdout",
     "output_type": "stream",
     "text": [
      "SLIMElasticNetRecommender: Processed 22014 (89.8%) in 20.00 min. Items per second: 18.34\n"
     ]
    },
    {
     "name": "stdout",
     "output_type": "stream",
     "text": [
      "SLIMElasticNetRecommender: Processed 24507 (100.0%) in 22.23 min. Items per second: 18.37\n"
     ]
    },
    {
     "name": "stdout",
     "output_type": "stream",
     "text": [
      "EvaluatorHoldout: Processed 40126 (100.0%) in 28.49 sec. Users per second: 1409\n"
     ]
    },
    {
     "name": "stdout",
     "output_type": "stream",
     "text": [
      "SearchBayesianSkopt: Config 15 is suboptimal. Config: {'topK': 257, 'l1_ratio': 0.0017127364472128077, 'alpha': 0.0012213746405622982} - results: PRECISION: 0.0409061, PRECISION_RECALL_MIN_DEN: 0.0764879, RECALL: 0.0731952, MAP: 0.0186404, MAP_MIN_DEN: 0.0349266, MRR: 0.1348409, NDCG: 0.0692421, F1: 0.0524820, HIT_RATE: 0.2917809, ARHR_ALL_HITS: 0.1578818, NOVELTY: 0.0045077, AVERAGE_POPULARITY: 0.1467264, DIVERSITY_MEAN_INTER_LIST: 0.9707407, DIVERSITY_HERFINDAHL: 0.9970717, COVERAGE_ITEM: 0.2390746, COVERAGE_ITEM_HIT: 0.0622679, ITEMS_IN_GT: 0.9865345, COVERAGE_USER: 0.9638954, COVERAGE_USER_HIT: 0.2812462, USERS_IN_GT: 0.9638954, DIVERSITY_GINI: 0.0317419, SHANNON_ENTROPY: 9.7309309, RATIO_DIVERSITY_HERFINDAHL: 0.9974016, RATIO_DIVERSITY_GINI: 0.0627969, RATIO_SHANNON_ENTROPY: 0.7213277, RATIO_AVERAGE_POPULARITY: 2.8980550, RATIO_NOVELTY: 0.3034923, \n",
      "\n"
     ]
    },
    {
     "name": "stdout",
     "output_type": "stream",
     "text": [
      "Iteration No: 16 ended. Search finished for the next optimal point.\n",
      "Time taken: 1362.9285\n",
      "Function value obtained: -0.0186\n",
      "Current minimum: -0.0195\n",
      "Iteration No: 17 started. Searching for the next optimal point.\n",
      "SearchBayesianSkopt: Testing config: {'topK': 1, 'l1_ratio': 0.01, 'alpha': 0.0037571429575512854}\n"
     ]
    },
    {
     "name": "stdout",
     "output_type": "stream",
     "text": [
      "SLIMElasticNetRecommender: Processed 6444 (26.3%) in 5.00 min. Items per second: 21.48\n"
     ]
    },
    {
     "name": "stdout",
     "output_type": "stream",
     "text": [
      "SLIMElasticNetRecommender: Processed 13446 (54.9%) in 10.00 min. Items per second: 22.41\n"
     ]
    },
    {
     "name": "stdout",
     "output_type": "stream",
     "text": [
      "SLIMElasticNetRecommender: Processed 20510 (83.7%) in 15.00 min. Items per second: 22.79\n"
     ]
    },
    {
     "name": "stdout",
     "output_type": "stream",
     "text": [
      "SLIMElasticNetRecommender: Processed 24507 (100.0%) in 17.80 min. Items per second: 22.95\n"
     ]
    },
    {
     "name": "stdout",
     "output_type": "stream",
     "text": [
      "EvaluatorHoldout: Processed 40126 (100.0%) in 23.32 sec. Users per second: 1721\n"
     ]
    },
    {
     "name": "stdout",
     "output_type": "stream",
     "text": [
      "SearchBayesianSkopt: Config 16 is suboptimal. Config: {'topK': 1, 'l1_ratio': 0.01, 'alpha': 0.0037571429575512854} - results: PRECISION: 0.0244629, PRECISION_RECALL_MIN_DEN: 0.0439797, RECALL: 0.0418625, MAP: 0.0114748, MAP_MIN_DEN: 0.0217542, MRR: 0.0925233, NDCG: 0.0431151, F1: 0.0308805, HIT_RATE: 0.1928924, ARHR_ALL_HITS: 0.1028618, NOVELTY: 0.0053622, AVERAGE_POPULARITY: 0.0477982, DIVERSITY_MEAN_INTER_LIST: 0.9948326, DIVERSITY_HERFINDAHL: 0.9994808, COVERAGE_ITEM: 0.8765251, COVERAGE_ITEM_HIT: 0.0687967, ITEMS_IN_GT: 0.9865345, COVERAGE_USER: 0.9638954, COVERAGE_USER_HIT: 0.1859281, USERS_IN_GT: 0.9638954, DIVERSITY_GINI: 0.2343084, SHANNON_ENTROPY: 12.5050899, RATIO_DIVERSITY_HERFINDAHL: 0.9998115, RATIO_DIVERSITY_GINI: 0.4635466, RATIO_SHANNON_ENTROPY: 0.9269687, RATIO_AVERAGE_POPULARITY: 0.9440829, RATIO_NOVELTY: 0.3610278, \n",
      "\n"
     ]
    },
    {
     "name": "stdout",
     "output_type": "stream",
     "text": [
      "Iteration No: 17 ended. Search finished for the next optimal point.\n",
      "Time taken: 1091.6733\n",
      "Function value obtained: -0.0115\n",
      "Current minimum: -0.0195\n",
      "Iteration No: 18 started. Searching for the next optimal point.\n",
      "SearchBayesianSkopt: Testing config: {'topK': 800, 'l1_ratio': 0.001, 'alpha': 0.003543585340203332}\n"
     ]
    },
    {
     "name": "stdout",
     "output_type": "stream",
     "text": [
      "SLIMElasticNetRecommender: Processed 5120 (20.9%) in 5.00 min. Items per second: 17.06\n"
     ]
    },
    {
     "name": "stdout",
     "output_type": "stream",
     "text": [
      "SLIMElasticNetRecommender: Processed 10717 (43.7%) in 10.00 min. Items per second: 17.86\n"
     ]
    },
    {
     "name": "stdout",
     "output_type": "stream",
     "text": [
      "SLIMElasticNetRecommender: Processed 16352 (66.7%) in 15.00 min. Items per second: 18.17\n"
     ]
    },
    {
     "name": "stdout",
     "output_type": "stream",
     "text": [
      "SLIMElasticNetRecommender: Processed 22014 (89.8%) in 20.00 min. Items per second: 18.34\n"
     ]
    },
    {
     "name": "stdout",
     "output_type": "stream",
     "text": [
      "SLIMElasticNetRecommender: Processed 24507 (100.0%) in 22.21 min. Items per second: 18.39\n"
     ]
    },
    {
     "name": "stdout",
     "output_type": "stream",
     "text": [
      "EvaluatorHoldout: Processed 40126 (100.0%) in 44.09 sec. Users per second: 910\n"
     ]
    },
    {
     "name": "stdout",
     "output_type": "stream",
     "text": [
      "SearchBayesianSkopt: Config 17 is suboptimal. Config: {'topK': 800, 'l1_ratio': 0.001, 'alpha': 0.003543585340203332} - results: PRECISION: 0.0427204, PRECISION_RECALL_MIN_DEN: 0.0815145, RECALL: 0.0781885, MAP: 0.0194905, MAP_MIN_DEN: 0.0367687, MRR: 0.1409410, NDCG: 0.0728960, F1: 0.0552523, HIT_RATE: 0.3052883, ARHR_ALL_HITS: 0.1650880, NOVELTY: 0.0042902, AVERAGE_POPULARITY: 0.1939019, DIVERSITY_MEAN_INTER_LIST: 0.9464396, DIVERSITY_HERFINDAHL: 0.9946416, COVERAGE_ITEM: 0.1565675, COVERAGE_ITEM_HIT: 0.0502714, ITEMS_IN_GT: 0.9865345, COVERAGE_USER: 0.9638954, COVERAGE_USER_HIT: 0.2942660, USERS_IN_GT: 0.9638954, DIVERSITY_GINI: 0.0190112, SHANNON_ENTROPY: 8.9366326, RATIO_DIVERSITY_HERFINDAHL: 0.9949707, RATIO_DIVERSITY_GINI: 0.0376110, RATIO_SHANNON_ENTROPY: 0.6624485, RATIO_AVERAGE_POPULARITY: 3.8298395, RATIO_NOVELTY: 0.2888491, \n",
      "\n"
     ]
    },
    {
     "name": "stdout",
     "output_type": "stream",
     "text": [
      "Iteration No: 18 ended. Search finished for the next optimal point.\n",
      "Time taken: 1377.5072\n",
      "Function value obtained: -0.0195\n",
      "Current minimum: -0.0195\n",
      "Iteration No: 19 started. Searching for the next optimal point.\n",
      "SearchBayesianSkopt: Testing config: {'topK': 11, 'l1_ratio': 0.0011051403160338518, 'alpha': 0.019855741522049258}\n"
     ]
    },
    {
     "name": "stdout",
     "output_type": "stream",
     "text": [
      "SLIMElasticNetRecommender: Processed 5591 (22.8%) in 5.00 min. Items per second: 18.63\n"
     ]
    },
    {
     "name": "stdout",
     "output_type": "stream",
     "text": [
      "SLIMElasticNetRecommender: Processed 11703 (47.8%) in 10.00 min. Items per second: 19.50\n"
     ]
    },
    {
     "name": "stdout",
     "output_type": "stream",
     "text": [
      "SLIMElasticNetRecommender: Processed 17885 (73.0%) in 15.00 min. Items per second: 19.87\n"
     ]
    },
    {
     "name": "stdout",
     "output_type": "stream",
     "text": [
      "SLIMElasticNetRecommender: Processed 24066 (98.2%) in 20.00 min. Items per second: 20.05\n"
     ]
    },
    {
     "name": "stdout",
     "output_type": "stream",
     "text": [
      "SLIMElasticNetRecommender: Processed 24507 (100.0%) in 20.35 min. Items per second: 20.07\n"
     ]
    },
    {
     "name": "stdout",
     "output_type": "stream",
     "text": [
      "EvaluatorHoldout: Processed 40126 (100.0%) in 26.83 sec. Users per second: 1495\n"
     ]
    },
    {
     "name": "stdout",
     "output_type": "stream",
     "text": [
      "SearchBayesianSkopt: Config 18 is suboptimal. Config: {'topK': 11, 'l1_ratio': 0.0011051403160338518, 'alpha': 0.019855741522049258} - results: PRECISION: 0.0381050, PRECISION_RECALL_MIN_DEN: 0.0726978, RECALL: 0.0697721, MAP: 0.0172088, MAP_MIN_DEN: 0.0326200, MRR: 0.1279199, NDCG: 0.0651816, F1: 0.0492906, HIT_RATE: 0.2808154, ARHR_ALL_HITS: 0.1478009, NOVELTY: 0.0043056, AVERAGE_POPULARITY: 0.1844424, DIVERSITY_MEAN_INTER_LIST: 0.9494455, DIVERSITY_HERFINDAHL: 0.9949422, COVERAGE_ITEM: 0.3148080, COVERAGE_ITEM_HIT: 0.0401518, ITEMS_IN_GT: 0.9865345, COVERAGE_USER: 0.9638954, COVERAGE_USER_HIT: 0.2706767, USERS_IN_GT: 0.9638954, DIVERSITY_GINI: 0.0241259, SHANNON_ENTROPY: 9.0068047, RATIO_DIVERSITY_HERFINDAHL: 0.9952714, RATIO_DIVERSITY_GINI: 0.0477298, RATIO_SHANNON_ENTROPY: 0.6676502, RATIO_AVERAGE_POPULARITY: 3.6429991, RATIO_NOVELTY: 0.2898880, \n",
      "\n"
     ]
    },
    {
     "name": "stdout",
     "output_type": "stream",
     "text": [
      "Iteration No: 19 ended. Search finished for the next optimal point.\n",
      "Time taken: 1248.5140\n",
      "Function value obtained: -0.0172\n",
      "Current minimum: -0.0195\n",
      "Iteration No: 20 started. Searching for the next optimal point.\n",
      "SearchBayesianSkopt: Testing config: {'topK': 3, 'l1_ratio': 0.0012860781958346224, 'alpha': 0.0010029524045592553}\n"
     ]
    },
    {
     "name": "stdout",
     "output_type": "stream",
     "text": [
      "SLIMElasticNetRecommender: Processed 5115 (20.9%) in 5.00 min. Items per second: 17.04\n"
     ]
    },
    {
     "name": "stdout",
     "output_type": "stream",
     "text": [
      "SLIMElasticNetRecommender: Processed 10685 (43.6%) in 10.00 min. Items per second: 17.80\n"
     ]
    },
    {
     "name": "stdout",
     "output_type": "stream",
     "text": [
      "SLIMElasticNetRecommender: Processed 16284 (66.4%) in 15.00 min. Items per second: 18.09\n"
     ]
    },
    {
     "name": "stdout",
     "output_type": "stream",
     "text": [
      "SLIMElasticNetRecommender: Processed 21900 (89.4%) in 20.00 min. Items per second: 18.25\n"
     ]
    },
    {
     "name": "stdout",
     "output_type": "stream",
     "text": [
      "SLIMElasticNetRecommender: Processed 24507 (100.0%) in 22.33 min. Items per second: 18.29\n"
     ]
    },
    {
     "name": "stdout",
     "output_type": "stream",
     "text": [
      "EvaluatorHoldout: Processed 40126 (100.0%) in 23.23 sec. Users per second: 1727\n"
     ]
    },
    {
     "name": "stdout",
     "output_type": "stream",
     "text": [
      "SearchBayesianSkopt: Config 19 is suboptimal. Config: {'topK': 3, 'l1_ratio': 0.0012860781958346224, 'alpha': 0.0010029524045592553} - results: PRECISION: 0.0295270, PRECISION_RECALL_MIN_DEN: 0.0536183, RECALL: 0.0511633, MAP: 0.0138303, MAP_MIN_DEN: 0.0259805, MRR: 0.1072095, NDCG: 0.0513831, F1: 0.0374444, HIT_RATE: 0.2242187, ARHR_ALL_HITS: 0.1214882, NOVELTY: 0.0051648, AVERAGE_POPULARITY: 0.0588623, DIVERSITY_MEAN_INTER_LIST: 0.9929143, DIVERSITY_HERFINDAHL: 0.9992890, COVERAGE_ITEM: 0.7030236, COVERAGE_ITEM_HIT: 0.0685518, ITEMS_IN_GT: 0.9865345, COVERAGE_USER: 0.9638954, COVERAGE_USER_HIT: 0.2161234, USERS_IN_GT: 0.9638954, DIVERSITY_GINI: 0.1572629, SHANNON_ENTROPY: 11.9402844, RATIO_DIVERSITY_HERFINDAHL: 0.9996196, RATIO_DIVERSITY_GINI: 0.3111228, RATIO_SHANNON_ENTROPY: 0.8851012, RATIO_AVERAGE_POPULARITY: 1.1626138, RATIO_NOVELTY: 0.3477393, \n",
      "\n"
     ]
    },
    {
     "name": "stdout",
     "output_type": "stream",
     "text": [
      "Iteration No: 20 ended. Search finished for the next optimal point.\n",
      "Time taken: 1363.4416\n",
      "Function value obtained: -0.0138\n",
      "Current minimum: -0.0195\n",
      "Iteration No: 21 started. Searching for the next optimal point.\n",
      "SearchBayesianSkopt: Testing config: {'topK': 245, 'l1_ratio': 0.0010220837564941818, 'alpha': 0.0189887560802854}\n"
     ]
    },
    {
     "name": "stdout",
     "output_type": "stream",
     "text": [
      "SLIMElasticNetRecommender: Processed 5308 (21.7%) in 5.00 min. Items per second: 17.69\n"
     ]
    },
    {
     "name": "stdout",
     "output_type": "stream",
     "text": [
      "SLIMElasticNetRecommender: Processed 11105 (45.3%) in 10.00 min. Items per second: 18.50\n"
     ]
    },
    {
     "name": "stdout",
     "output_type": "stream",
     "text": [
      "SLIMElasticNetRecommender: Processed 16911 (69.0%) in 15.00 min. Items per second: 18.79\n"
     ]
    },
    {
     "name": "stdout",
     "output_type": "stream",
     "text": [
      "SLIMElasticNetRecommender: Processed 22764 (92.9%) in 20.00 min. Items per second: 18.97\n"
     ]
    },
    {
     "name": "stdout",
     "output_type": "stream",
     "text": [
      "SLIMElasticNetRecommender: Processed 24507 (100.0%) in 21.48 min. Items per second: 19.01\n"
     ]
    },
    {
     "name": "stdout",
     "output_type": "stream",
     "text": [
      "EvaluatorHoldout: Processed 40126 (100.0%) in 41.30 sec. Users per second: 972\n"
     ]
    },
    {
     "name": "stdout",
     "output_type": "stream",
     "text": [
      "SearchBayesianSkopt: Config 20 is suboptimal. Config: {'topK': 245, 'l1_ratio': 0.0010220837564941818, 'alpha': 0.0189887560802854} - results: PRECISION: 0.0406046, PRECISION_RECALL_MIN_DEN: 0.0780542, RECALL: 0.0749079, MAP: 0.0184016, MAP_MIN_DEN: 0.0349306, MRR: 0.1357410, NDCG: 0.0696263, F1: 0.0526628, HIT_RATE: 0.2958182, ARHR_ALL_HITS: 0.1573586, NOVELTY: 0.0041049, AVERAGE_POPULARITY: 0.2407784, DIVERSITY_MEAN_INTER_LIST: 0.9094882, DIVERSITY_HERFINDAHL: 0.9909466, COVERAGE_ITEM: 0.1512629, COVERAGE_ITEM_HIT: 0.0339903, ITEMS_IN_GT: 0.9865345, COVERAGE_USER: 0.9638954, COVERAGE_USER_HIT: 0.2851378, USERS_IN_GT: 0.9638954, DIVERSITY_GINI: 0.0119937, SHANNON_ENTROPY: 8.1657011, RATIO_DIVERSITY_HERFINDAHL: 0.9912744, RATIO_DIVERSITY_GINI: 0.0237280, RATIO_SHANNON_ENTROPY: 0.6053015, RATIO_AVERAGE_POPULARITY: 4.7557159, RATIO_NOVELTY: 0.2763770, \n",
      "\n"
     ]
    },
    {
     "name": "stdout",
     "output_type": "stream",
     "text": [
      "Iteration No: 21 ended. Search finished for the next optimal point.\n",
      "Time taken: 1330.8914\n",
      "Function value obtained: -0.0184\n",
      "Current minimum: -0.0195\n",
      "Iteration No: 22 started. Searching for the next optimal point.\n",
      "SearchBayesianSkopt: Testing config: {'topK': 798, 'l1_ratio': 0.00996429268358216, 'alpha': 0.017769215749298774}\n"
     ]
    },
    {
     "name": "stdout",
     "output_type": "stream",
     "text": [
      "SLIMElasticNetRecommender: Processed 16355 (66.7%) in 5.00 min. Items per second: 54.51\n"
     ]
    },
    {
     "name": "stdout",
     "output_type": "stream",
     "text": [
      "SLIMElasticNetRecommender: Processed 24507 (100.0%) in 6.97 min. Items per second: 58.58\n"
     ]
    },
    {
     "name": "stdout",
     "output_type": "stream",
     "text": [
      "EvaluatorHoldout: Processed 40126 (100.0%) in 27.87 sec. Users per second: 1440\n"
     ]
    },
    {
     "name": "stdout",
     "output_type": "stream",
     "text": [
      "SearchBayesianSkopt: Config 21 is suboptimal. Config: {'topK': 798, 'l1_ratio': 0.00996429268358216, 'alpha': 0.017769215749298774} - results: PRECISION: 0.0393311, PRECISION_RECALL_MIN_DEN: 0.0759624, RECALL: 0.0729333, MAP: 0.0178151, MAP_MIN_DEN: 0.0338957, MRR: 0.1324968, NDCG: 0.0676777, F1: 0.0511034, HIT_RATE: 0.2890146, ARHR_ALL_HITS: 0.1529767, NOVELTY: 0.0040766, AVERAGE_POPULARITY: 0.2547490, DIVERSITY_MEAN_INTER_LIST: 0.8959490, DIVERSITY_HERFINDAHL: 0.9895927, COVERAGE_ITEM: 0.0963398, COVERAGE_ITEM_HIT: 0.0275432, ITEMS_IN_GT: 0.9865345, COVERAGE_USER: 0.9638954, COVERAGE_USER_HIT: 0.2785798, USERS_IN_GT: 0.9638954, DIVERSITY_GINI: 0.0096256, SHANNON_ENTROPY: 7.9320804, RATIO_DIVERSITY_HERFINDAHL: 0.9899201, RATIO_DIVERSITY_GINI: 0.0190430, RATIO_SHANNON_ENTROPY: 0.5879838, RATIO_AVERAGE_POPULARITY: 5.0316558, RATIO_NOVELTY: 0.2744723, \n",
      "\n"
     ]
    },
    {
     "name": "stdout",
     "output_type": "stream",
     "text": [
      "Iteration No: 22 ended. Search finished for the next optimal point.\n",
      "Time taken: 446.8285\n",
      "Function value obtained: -0.0178\n",
      "Current minimum: -0.0195\n",
      "Iteration No: 23 started. Searching for the next optimal point.\n",
      "SearchBayesianSkopt: Testing config: {'topK': 800, 'l1_ratio': 0.01, 'alpha': 0.002608889108665044}\n"
     ]
    },
    {
     "name": "stdout",
     "output_type": "stream",
     "text": [
      "SLIMElasticNetRecommender: Processed 6328 (25.8%) in 5.00 min. Items per second: 21.09\n"
     ]
    },
    {
     "name": "stdout",
     "output_type": "stream",
     "text": [
      "SLIMElasticNetRecommender: Processed 13254 (54.1%) in 10.00 min. Items per second: 22.09\n"
     ]
    },
    {
     "name": "stdout",
     "output_type": "stream",
     "text": [
      "SLIMElasticNetRecommender: Processed 20184 (82.4%) in 15.00 min. Items per second: 22.42\n"
     ]
    },
    {
     "name": "stdout",
     "output_type": "stream",
     "text": [
      "SLIMElasticNetRecommender: Processed 24507 (100.0%) in 18.10 min. Items per second: 22.57\n"
     ]
    },
    {
     "name": "stdout",
     "output_type": "stream",
     "text": [
      "EvaluatorHoldout: Processed 40126 (100.0%) in 40.99 sec. Users per second: 979\n"
     ]
    },
    {
     "name": "stdout",
     "output_type": "stream",
     "text": [
      "SearchBayesianSkopt: New best config found. Config 22: {'topK': 800, 'l1_ratio': 0.01, 'alpha': 0.002608889108665044} - results: PRECISION: 0.0429173, PRECISION_RECALL_MIN_DEN: 0.0818709, RECALL: 0.0785231, MAP: 0.0196275, MAP_MIN_DEN: 0.0369950, MRR: 0.1421459, NDCG: 0.0733349, F1: 0.0555005, HIT_RATE: 0.3074565, ARHR_ALL_HITS: 0.1663578, NOVELTY: 0.0043009, AVERAGE_POPULARITY: 0.1945715, DIVERSITY_MEAN_INTER_LIST: 0.9459549, DIVERSITY_HERFINDAHL: 0.9945931, COVERAGE_ITEM: 0.1606072, COVERAGE_ITEM_HIT: 0.0516995, ITEMS_IN_GT: 0.9865345, COVERAGE_USER: 0.9638954, COVERAGE_USER_HIT: 0.2963559, USERS_IN_GT: 0.9638954, DIVERSITY_GINI: 0.0202620, SHANNON_ENTROPY: 8.9908810, RATIO_DIVERSITY_HERFINDAHL: 0.9949222, RATIO_DIVERSITY_GINI: 0.0400856, RATIO_SHANNON_ENTROPY: 0.6664698, RATIO_AVERAGE_POPULARITY: 3.8430636, RATIO_NOVELTY: 0.2895723, \n",
      "\n"
     ]
    },
    {
     "name": "stdout",
     "output_type": "stream",
     "text": [
      "Iteration No: 23 ended. Search finished for the next optimal point.\n",
      "Time taken: 1127.4581\n",
      "Function value obtained: -0.0196\n",
      "Current minimum: -0.0196\n",
      "Iteration No: 24 started. Searching for the next optimal point.\n",
      "SearchBayesianSkopt: Testing config: {'topK': 100, 'l1_ratio': 0.009417030512972057, 'alpha': 0.01988236516111376}\n"
     ]
    },
    {
     "name": "stdout",
     "output_type": "stream",
     "text": [
      "SLIMElasticNetRecommender: Processed 16315 (66.6%) in 5.00 min. Items per second: 54.38\n"
     ]
    },
    {
     "name": "stdout",
     "output_type": "stream",
     "text": [
      "SLIMElasticNetRecommender: Processed 24507 (100.0%) in 6.94 min. Items per second: 58.85\n"
     ]
    },
    {
     "name": "stdout",
     "output_type": "stream",
     "text": [
      "EvaluatorHoldout: Processed 40126 (100.0%) in 27.63 sec. Users per second: 1452\n"
     ]
    },
    {
     "name": "stdout",
     "output_type": "stream",
     "text": [
      "SearchBayesianSkopt: Config 23 is suboptimal. Config: {'topK': 100, 'l1_ratio': 0.009417030512972057, 'alpha': 0.01988236516111376} - results: PRECISION: 0.0391342, PRECISION_RECALL_MIN_DEN: 0.0753727, RECALL: 0.0723395, MAP: 0.0177720, MAP_MIN_DEN: 0.0336923, MRR: 0.1321040, NDCG: 0.0673060, F1: 0.0507913, HIT_RATE: 0.2874445, ARHR_ALL_HITS: 0.1525598, NOVELTY: 0.0040977, AVERAGE_POPULARITY: 0.2453941, DIVERSITY_MEAN_INTER_LIST: 0.9046754, DIVERSITY_HERFINDAHL: 0.9904653, COVERAGE_ITEM: 0.0955237, COVERAGE_ITEM_HIT: 0.0273799, ITEMS_IN_GT: 0.9865345, COVERAGE_USER: 0.9638954, COVERAGE_USER_HIT: 0.2770665, USERS_IN_GT: 0.9638954, DIVERSITY_GINI: 0.0097000, SHANNON_ENTROPY: 7.9835521, RATIO_DIVERSITY_HERFINDAHL: 0.9907930, RATIO_DIVERSITY_GINI: 0.0191900, RATIO_SHANNON_ENTROPY: 0.5917992, RATIO_AVERAGE_POPULARITY: 4.8468833, RATIO_NOVELTY: 0.2758885, \n",
      "\n"
     ]
    },
    {
     "name": "stdout",
     "output_type": "stream",
     "text": [
      "Iteration No: 24 ended. Search finished for the next optimal point.\n",
      "Time taken: 444.6158\n",
      "Function value obtained: -0.0178\n",
      "Current minimum: -0.0196\n",
      "Iteration No: 25 started. Searching for the next optimal point.\n",
      "SearchBayesianSkopt: Testing config: {'topK': 491, 'l1_ratio': 0.001, 'alpha': 0.005169383523747917}\n"
     ]
    },
    {
     "name": "stdout",
     "output_type": "stream",
     "text": [
      "SLIMElasticNetRecommender: Processed 5062 (20.7%) in 5.00 min. Items per second: 16.87\n"
     ]
    },
    {
     "name": "stdout",
     "output_type": "stream",
     "text": [
      "SLIMElasticNetRecommender: Processed 10621 (43.3%) in 10.00 min. Items per second: 17.70\n"
     ]
    },
    {
     "name": "stdout",
     "output_type": "stream",
     "text": [
      "SLIMElasticNetRecommender: Processed 16227 (66.2%) in 15.00 min. Items per second: 18.03\n"
     ]
    },
    {
     "name": "stdout",
     "output_type": "stream",
     "text": [
      "SLIMElasticNetRecommender: Processed 21862 (89.2%) in 20.00 min. Items per second: 18.21\n"
     ]
    },
    {
     "name": "stdout",
     "output_type": "stream",
     "text": [
      "SLIMElasticNetRecommender: Processed 24507 (100.0%) in 22.35 min. Items per second: 18.28\n"
     ]
    },
    {
     "name": "stdout",
     "output_type": "stream",
     "text": [
      "EvaluatorHoldout: Processed 40126 (100.0%) in 41.05 sec. Users per second: 977\n"
     ]
    },
    {
     "name": "stdout",
     "output_type": "stream",
     "text": [
      "SearchBayesianSkopt: Config 24 is suboptimal. Config: {'topK': 491, 'l1_ratio': 0.001, 'alpha': 0.005169383523747917} - results: PRECISION: 0.0425634, PRECISION_RECALL_MIN_DEN: 0.0813888, RECALL: 0.0780522, MAP: 0.0193779, MAP_MIN_DEN: 0.0365625, MRR: 0.1404937, NDCG: 0.0726240, F1: 0.0550869, HIT_RATE: 0.3052634, ARHR_ALL_HITS: 0.1643257, NOVELTY: 0.0042618, AVERAGE_POPULARITY: 0.1999628, DIVERSITY_MEAN_INTER_LIST: 0.9421793, DIVERSITY_HERFINDAHL: 0.9942156, COVERAGE_ITEM: 0.1577100, COVERAGE_ITEM_HIT: 0.0476599, ITEMS_IN_GT: 0.9865345, COVERAGE_USER: 0.9638954, COVERAGE_USER_HIT: 0.2942420, USERS_IN_GT: 0.9638954, DIVERSITY_GINI: 0.0176614, SHANNON_ENTROPY: 8.8209436, RATIO_DIVERSITY_HERFINDAHL: 0.9945446, RATIO_DIVERSITY_GINI: 0.0349406, RATIO_SHANNON_ENTROPY: 0.6538728, RATIO_AVERAGE_POPULARITY: 3.9495497, RATIO_NOVELTY: 0.2869422, \n",
      "\n"
     ]
    },
    {
     "name": "stdout",
     "output_type": "stream",
     "text": [
      "Iteration No: 25 ended. Search finished for the next optimal point.\n",
      "Time taken: 1382.7162\n",
      "Function value obtained: -0.0194\n",
      "Current minimum: -0.0196\n",
      "Iteration No: 26 started. Searching for the next optimal point.\n",
      "SearchBayesianSkopt: Testing config: {'topK': 154, 'l1_ratio': 0.0010180237348532176, 'alpha': 0.00726195819910084}\n"
     ]
    },
    {
     "name": "stdout",
     "output_type": "stream",
     "text": [
      "SLIMElasticNetRecommender: Processed 5086 (20.8%) in 5.00 min. Items per second: 16.95\n"
     ]
    },
    {
     "name": "stdout",
     "output_type": "stream",
     "text": [
      "SLIMElasticNetRecommender: Processed 10683 (43.6%) in 10.00 min. Items per second: 17.80\n"
     ]
    },
    {
     "name": "stdout",
     "output_type": "stream",
     "text": [
      "SLIMElasticNetRecommender: Processed 16308 (66.5%) in 15.00 min. Items per second: 18.12\n"
     ]
    },
    {
     "name": "stdout",
     "output_type": "stream",
     "text": [
      "SLIMElasticNetRecommender: Processed 21966 (89.6%) in 20.00 min. Items per second: 18.30\n"
     ]
    },
    {
     "name": "stdout",
     "output_type": "stream",
     "text": [
      "SLIMElasticNetRecommender: Processed 24507 (100.0%) in 22.24 min. Items per second: 18.36\n"
     ]
    },
    {
     "name": "stdout",
     "output_type": "stream",
     "text": [
      "EvaluatorHoldout: Processed 40126 (100.0%) in 30.28 sec. Users per second: 1325\n"
     ]
    },
    {
     "name": "stdout",
     "output_type": "stream",
     "text": [
      "SearchBayesianSkopt: Config 25 is suboptimal. Config: {'topK': 154, 'l1_ratio': 0.0010180237348532176, 'alpha': 0.00726195819910084} - results: PRECISION: 0.0424463, PRECISION_RECALL_MIN_DEN: 0.0812835, RECALL: 0.0779567, MAP: 0.0193174, MAP_MIN_DEN: 0.0364765, MRR: 0.1402930, NDCG: 0.0724752, F1: 0.0549650, HIT_RATE: 0.3048148, ARHR_ALL_HITS: 0.1639405, NOVELTY: 0.0042489, AVERAGE_POPULARITY: 0.2022697, DIVERSITY_MEAN_INTER_LIST: 0.9402513, DIVERSITY_HERFINDAHL: 0.9940228, COVERAGE_ITEM: 0.1667279, COVERAGE_ITEM_HIT: 0.0456604, ITEMS_IN_GT: 0.9865345, COVERAGE_USER: 0.9638954, COVERAGE_USER_HIT: 0.2938096, USERS_IN_GT: 0.9638954, DIVERSITY_GINI: 0.0171895, SHANNON_ENTROPY: 8.7624562, RATIO_DIVERSITY_HERFINDAHL: 0.9943517, RATIO_DIVERSITY_GINI: 0.0340070, RATIO_SHANNON_ENTROPY: 0.6495373, RATIO_AVERAGE_POPULARITY: 3.9951155, RATIO_NOVELTY: 0.2860710, \n",
      "\n"
     ]
    },
    {
     "name": "stdout",
     "output_type": "stream",
     "text": [
      "Iteration No: 26 ended. Search finished for the next optimal point.\n",
      "Time taken: 1365.5274\n",
      "Function value obtained: -0.0193\n",
      "Current minimum: -0.0196\n",
      "Iteration No: 27 started. Searching for the next optimal point.\n",
      "SearchBayesianSkopt: Testing config: {'topK': 292, 'l1_ratio': 0.009635464384271111, 'alpha': 0.0010783960018123818}\n"
     ]
    },
    {
     "name": "stdout",
     "output_type": "stream",
     "text": [
      "SLIMElasticNetRecommender: Processed 5287 (21.6%) in 5.00 min. Items per second: 17.62\n"
     ]
    },
    {
     "name": "stdout",
     "output_type": "stream",
     "text": [
      "SLIMElasticNetRecommender: Processed 10994 (44.9%) in 10.00 min. Items per second: 18.32\n"
     ]
    },
    {
     "name": "stdout",
     "output_type": "stream",
     "text": [
      "SLIMElasticNetRecommender: Processed 16706 (68.2%) in 15.00 min. Items per second: 18.56\n"
     ]
    },
    {
     "name": "stdout",
     "output_type": "stream",
     "text": [
      "SLIMElasticNetRecommender: Processed 22451 (91.6%) in 20.00 min. Items per second: 18.71\n"
     ]
    },
    {
     "name": "stdout",
     "output_type": "stream",
     "text": [
      "SLIMElasticNetRecommender: Processed 24507 (100.0%) in 21.80 min. Items per second: 18.74\n"
     ]
    },
    {
     "name": "stdout",
     "output_type": "stream",
     "text": [
      "EvaluatorHoldout: Processed 40126 (100.0%) in 30.38 sec. Users per second: 1321\n"
     ]
    },
    {
     "name": "stdout",
     "output_type": "stream",
     "text": [
      "SearchBayesianSkopt: Config 26 is suboptimal. Config: {'topK': 292, 'l1_ratio': 0.009635464384271111, 'alpha': 0.0010783960018123818} - results: PRECISION: 0.0412152, PRECISION_RECALL_MIN_DEN: 0.0772505, RECALL: 0.0739142, MAP: 0.0188474, MAP_MIN_DEN: 0.0352977, MRR: 0.1361817, NDCG: 0.0698978, F1: 0.0529211, HIT_RATE: 0.2936251, ARHR_ALL_HITS: 0.1595223, NOVELTY: 0.0045054, AVERAGE_POPULARITY: 0.1474969, DIVERSITY_MEAN_INTER_LIST: 0.9705262, DIVERSITY_HERFINDAHL: 0.9970502, COVERAGE_ITEM: 0.1955360, COVERAGE_ITEM_HIT: 0.0635737, ITEMS_IN_GT: 0.9865345, COVERAGE_USER: 0.9638954, COVERAGE_USER_HIT: 0.2830239, USERS_IN_GT: 0.9638954, DIVERSITY_GINI: 0.0312320, SHANNON_ENTROPY: 9.7198081, RATIO_DIVERSITY_HERFINDAHL: 0.9973801, RATIO_DIVERSITY_GINI: 0.0617882, RATIO_SHANNON_ENTROPY: 0.7205032, RATIO_AVERAGE_POPULARITY: 2.9132741, RATIO_NOVELTY: 0.3033397, \n",
      "\n"
     ]
    },
    {
     "name": "stdout",
     "output_type": "stream",
     "text": [
      "Iteration No: 27 ended. Search finished for the next optimal point.\n",
      "Time taken: 1339.0204\n",
      "Function value obtained: -0.0188\n",
      "Current minimum: -0.0196\n",
      "Iteration No: 28 started. Searching for the next optimal point.\n",
      "SearchBayesianSkopt: Testing config: {'topK': 252, 'l1_ratio': 0.009875095444601127, 'alpha': 0.005562211496692411}\n"
     ]
    },
    {
     "name": "stdout",
     "output_type": "stream",
     "text": [
      "SLIMElasticNetRecommender: Processed 7320 (29.9%) in 5.00 min. Items per second: 24.40\n"
     ]
    },
    {
     "name": "stdout",
     "output_type": "stream",
     "text": [
      "SLIMElasticNetRecommender: Processed 15648 (63.9%) in 10.00 min. Items per second: 26.08\n"
     ]
    },
    {
     "name": "stdout",
     "output_type": "stream",
     "text": [
      "SLIMElasticNetRecommender: Processed 24158 (98.6%) in 15.00 min. Items per second: 26.84\n"
     ]
    },
    {
     "name": "stdout",
     "output_type": "stream",
     "text": [
      "SLIMElasticNetRecommender: Processed 24507 (100.0%) in 15.18 min. Items per second: 26.90\n"
     ]
    },
    {
     "name": "stdout",
     "output_type": "stream",
     "text": [
      "EvaluatorHoldout: Processed 40126 (100.0%) in 37.13 sec. Users per second: 1081\n"
     ]
    },
    {
     "name": "stdout",
     "output_type": "stream",
     "text": [
      "SearchBayesianSkopt: Config 27 is suboptimal. Config: {'topK': 252, 'l1_ratio': 0.009875095444601127, 'alpha': 0.005562211496692411} - results: PRECISION: 0.0423965, PRECISION_RECALL_MIN_DEN: 0.0812706, RECALL: 0.0779853, MAP: 0.0193162, MAP_MIN_DEN: 0.0364770, MRR: 0.1406927, NDCG: 0.0725180, F1: 0.0549303, HIT_RATE: 0.3055625, ARHR_ALL_HITS: 0.1641753, NOVELTY: 0.0042263, AVERAGE_POPULARITY: 0.2098867, DIVERSITY_MEAN_INTER_LIST: 0.9352929, DIVERSITY_HERFINDAHL: 0.9935270, COVERAGE_ITEM: 0.1622394, COVERAGE_ITEM_HIT: 0.0436610, ITEMS_IN_GT: 0.9865345, COVERAGE_USER: 0.9638954, COVERAGE_USER_HIT: 0.2945303, USERS_IN_GT: 0.9638954, DIVERSITY_GINI: 0.0166441, SHANNON_ENTROPY: 8.6920121, RATIO_DIVERSITY_HERFINDAHL: 0.9938557, RATIO_DIVERSITY_GINI: 0.0329280, RATIO_SHANNON_ENTROPY: 0.6443155, RATIO_AVERAGE_POPULARITY: 4.1455616, RATIO_NOVELTY: 0.2845464, \n",
      "\n"
     ]
    },
    {
     "name": "stdout",
     "output_type": "stream",
     "text": [
      "Iteration No: 28 ended. Search finished for the next optimal point.\n",
      "Time taken: 948.8117\n",
      "Function value obtained: -0.0193\n",
      "Current minimum: -0.0196\n",
      "Iteration No: 29 started. Searching for the next optimal point.\n",
      "SearchBayesianSkopt: Testing config: {'topK': 798, 'l1_ratio': 0.00385760822933662, 'alpha': 0.0010134683463396072}\n"
     ]
    },
    {
     "name": "stdout",
     "output_type": "stream",
     "text": [
      "SLIMElasticNetRecommender: Processed 5128 (20.9%) in 5.00 min. Items per second: 17.09\n"
     ]
    },
    {
     "name": "stdout",
     "output_type": "stream",
     "text": [
      "SLIMElasticNetRecommender: Processed 10701 (43.7%) in 10.00 min. Items per second: 17.83\n"
     ]
    },
    {
     "name": "stdout",
     "output_type": "stream",
     "text": [
      "SLIMElasticNetRecommender: Processed 16284 (66.4%) in 15.00 min. Items per second: 18.09\n"
     ]
    },
    {
     "name": "stdout",
     "output_type": "stream",
     "text": [
      "SLIMElasticNetRecommender: Processed 21904 (89.4%) in 20.00 min. Items per second: 18.25\n"
     ]
    },
    {
     "name": "stdout",
     "output_type": "stream",
     "text": [
      "SLIMElasticNetRecommender: Processed 24507 (100.0%) in 22.32 min. Items per second: 18.30\n"
     ]
    },
    {
     "name": "stdout",
     "output_type": "stream",
     "text": [
      "EvaluatorHoldout: Processed 40126 (100.0%) in 40.30 sec. Users per second: 996\n"
     ]
    },
    {
     "name": "stdout",
     "output_type": "stream",
     "text": [
      "SearchBayesianSkopt: Config 28 is suboptimal. Config: {'topK': 798, 'l1_ratio': 0.00385760822933662, 'alpha': 0.0010134683463396072} - results: PRECISION: 0.0412650, PRECISION_RECALL_MIN_DEN: 0.0772175, RECALL: 0.0739075, MAP: 0.0188455, MAP_MIN_DEN: 0.0352422, MRR: 0.1361745, NDCG: 0.0698704, F1: 0.0529605, HIT_RATE: 0.2938743, ARHR_ALL_HITS: 0.1594895, NOVELTY: 0.0044188, AVERAGE_POPULARITY: 0.1639162, DIVERSITY_MEAN_INTER_LIST: 0.9637314, DIVERSITY_HERFINDAHL: 0.9963707, COVERAGE_ITEM: 0.1857428, COVERAGE_ITEM_HIT: 0.0604317, ITEMS_IN_GT: 0.9865345, COVERAGE_USER: 0.9638954, COVERAGE_USER_HIT: 0.2832641, USERS_IN_GT: 0.9638954, DIVERSITY_GINI: 0.0261418, SHANNON_ENTROPY: 9.4360827, RATIO_DIVERSITY_HERFINDAHL: 0.9967004, RATIO_DIVERSITY_GINI: 0.0517180, RATIO_SHANNON_ENTROPY: 0.6994714, RATIO_AVERAGE_POPULARITY: 3.2375781, RATIO_NOVELTY: 0.2975090, \n",
      "\n"
     ]
    },
    {
     "name": "stdout",
     "output_type": "stream",
     "text": [
      "Iteration No: 29 ended. Search finished for the next optimal point.\n",
      "Time taken: 1380.5195\n",
      "Function value obtained: -0.0188\n",
      "Current minimum: -0.0196\n",
      "Iteration No: 30 started. Searching for the next optimal point.\n",
      "SearchBayesianSkopt: Testing config: {'topK': 270, 'l1_ratio': 0.001, 'alpha': 0.008522034156125641}\n"
     ]
    },
    {
     "name": "stdout",
     "output_type": "stream",
     "text": [
      "SLIMElasticNetRecommender: Processed 5124 (20.9%) in 5.00 min. Items per second: 17.07\n"
     ]
    },
    {
     "name": "stdout",
     "output_type": "stream",
     "text": [
      "SLIMElasticNetRecommender: Processed 10781 (44.0%) in 10.00 min. Items per second: 17.96\n"
     ]
    },
    {
     "name": "stdout",
     "output_type": "stream",
     "text": [
      "SLIMElasticNetRecommender: Processed 16438 (67.1%) in 15.00 min. Items per second: 18.26\n"
     ]
    },
    {
     "name": "stdout",
     "output_type": "stream",
     "text": [
      "SLIMElasticNetRecommender: Processed 22095 (90.2%) in 20.00 min. Items per second: 18.41\n"
     ]
    },
    {
     "name": "stdout",
     "output_type": "stream",
     "text": [
      "SLIMElasticNetRecommender: Processed 24507 (100.0%) in 22.13 min. Items per second: 18.46\n"
     ]
    },
    {
     "name": "stdout",
     "output_type": "stream",
     "text": [
      "EvaluatorHoldout: Processed 40126 (100.0%) in 33.29 sec. Users per second: 1205\n"
     ]
    },
    {
     "name": "stdout",
     "output_type": "stream",
     "text": [
      "SearchBayesianSkopt: Config 29 is suboptimal. Config: {'topK': 270, 'l1_ratio': 0.001, 'alpha': 0.008522034156125641} - results: PRECISION: 0.0421398, PRECISION_RECALL_MIN_DEN: 0.0806255, RECALL: 0.0773313, MAP: 0.0192093, MAP_MIN_DEN: 0.0362535, MRR: 0.1399215, NDCG: 0.0720477, F1: 0.0545525, HIT_RATE: 0.3035189, ARHR_ALL_HITS: 0.1632379, NOVELTY: 0.0042095, AVERAGE_POPULARITY: 0.2123151, DIVERSITY_MEAN_INTER_LIST: 0.9333021, DIVERSITY_HERFINDAHL: 0.9933279, COVERAGE_ITEM: 0.1565675, COVERAGE_ITEM_HIT: 0.0430489, ITEMS_IN_GT: 0.9865345, COVERAGE_USER: 0.9638954, COVERAGE_USER_HIT: 0.2925605, USERS_IN_GT: 0.9638954, DIVERSITY_GINI: 0.0155407, SHANNON_ENTROPY: 8.6074773, RATIO_DIVERSITY_HERFINDAHL: 0.9936566, RATIO_DIVERSITY_GINI: 0.0307451, RATIO_SHANNON_ENTROPY: 0.6380491, RATIO_AVERAGE_POPULARITY: 4.1935264, RATIO_NOVELTY: 0.2834149, \n",
      "\n"
     ]
    },
    {
     "name": "stdout",
     "output_type": "stream",
     "text": [
      "Iteration No: 30 ended. Search finished for the next optimal point.\n",
      "Time taken: 1361.9578\n",
      "Function value obtained: -0.0192\n",
      "Current minimum: -0.0196\n",
      "Iteration No: 31 started. Searching for the next optimal point.\n",
      "SearchBayesianSkopt: Testing config: {'topK': 398, 'l1_ratio': 0.01, 'alpha': 0.0025558681405858366}\n"
     ]
    },
    {
     "name": "stdout",
     "output_type": "stream",
     "text": [
      "SLIMElasticNetRecommender: Processed 6330 (25.8%) in 5.00 min. Items per second: 21.09\n"
     ]
    },
    {
     "name": "stdout",
     "output_type": "stream",
     "text": [
      "SLIMElasticNetRecommender: Processed 13284 (54.2%) in 10.00 min. Items per second: 22.14\n"
     ]
    },
    {
     "name": "stdout",
     "output_type": "stream",
     "text": [
      "SLIMElasticNetRecommender: Processed 20301 (82.8%) in 15.00 min. Items per second: 22.55\n"
     ]
    },
    {
     "name": "stdout",
     "output_type": "stream",
     "text": [
      "SLIMElasticNetRecommender: Processed 24507 (100.0%) in 17.98 min. Items per second: 22.72\n"
     ]
    },
    {
     "name": "stdout",
     "output_type": "stream",
     "text": [
      "EvaluatorHoldout: Processed 40126 (100.0%) in 40.16 sec. Users per second: 999\n"
     ]
    },
    {
     "name": "stdout",
     "output_type": "stream",
     "text": [
      "SearchBayesianSkopt: Config 30 is suboptimal. Config: {'topK': 398, 'l1_ratio': 0.01, 'alpha': 0.0025558681405858366} - results: PRECISION: 0.0428899, PRECISION_RECALL_MIN_DEN: 0.0816293, RECALL: 0.0782828, MAP: 0.0196217, MAP_MIN_DEN: 0.0369374, MRR: 0.1417759, NDCG: 0.0731856, F1: 0.0554175, HIT_RATE: 0.3064347, ARHR_ALL_HITS: 0.1661331, NOVELTY: 0.0043446, AVERAGE_POPULARITY: 0.1827340, DIVERSITY_MEAN_INTER_LIST: 0.9531248, DIVERSITY_HERFINDAHL: 0.9953101, COVERAGE_ITEM: 0.1687273, COVERAGE_ITEM_HIT: 0.0535357, ITEMS_IN_GT: 0.9865345, COVERAGE_USER: 0.9638954, COVERAGE_USER_HIT: 0.2953710, USERS_IN_GT: 0.9638954, DIVERSITY_GINI: 0.0221460, SHANNON_ENTROPY: 9.1493663, RATIO_DIVERSITY_HERFINDAHL: 0.9956394, RATIO_DIVERSITY_GINI: 0.0438128, RATIO_SHANNON_ENTROPY: 0.6782179, RATIO_AVERAGE_POPULARITY: 3.6092564, RATIO_NOVELTY: 0.2925122, \n",
      "\n"
     ]
    },
    {
     "name": "stdout",
     "output_type": "stream",
     "text": [
      "Iteration No: 31 ended. Search finished for the next optimal point.\n",
      "Time taken: 1119.7027\n",
      "Function value obtained: -0.0196\n",
      "Current minimum: -0.0196\n",
      "Iteration No: 32 started. Searching for the next optimal point.\n",
      "SearchBayesianSkopt: Testing config: {'topK': 135, 'l1_ratio': 0.009368314151085225, 'alpha': 0.0010242771790650064}\n"
     ]
    },
    {
     "name": "stdout",
     "output_type": "stream",
     "text": [
      "SLIMElasticNetRecommender: Processed 5289 (21.6%) in 5.00 min. Items per second: 17.62\n"
     ]
    },
    {
     "name": "stdout",
     "output_type": "stream",
     "text": [
      "SLIMElasticNetRecommender: Processed 10993 (44.9%) in 10.00 min. Items per second: 18.32\n"
     ]
    },
    {
     "name": "stdout",
     "output_type": "stream",
     "text": [
      "SLIMElasticNetRecommender: Processed 16738 (68.3%) in 15.00 min. Items per second: 18.59\n"
     ]
    },
    {
     "name": "stdout",
     "output_type": "stream",
     "text": [
      "SLIMElasticNetRecommender: Processed 22469 (91.7%) in 20.00 min. Items per second: 18.72\n"
     ]
    },
    {
     "name": "stdout",
     "output_type": "stream",
     "text": [
      "SLIMElasticNetRecommender: Processed 24507 (100.0%) in 21.77 min. Items per second: 18.76\n"
     ]
    },
    {
     "name": "stdout",
     "output_type": "stream",
     "text": [
      "EvaluatorHoldout: Processed 40126 (100.0%) in 27.98 sec. Users per second: 1434\n"
     ]
    },
    {
     "name": "stdout",
     "output_type": "stream",
     "text": [
      "SearchBayesianSkopt: Config 31 is suboptimal. Config: {'topK': 135, 'l1_ratio': 0.009368314151085225, 'alpha': 0.0010242771790650064} - results: PRECISION: 0.0400513, PRECISION_RECALL_MIN_DEN: 0.0748960, RECALL: 0.0716439, MAP: 0.0183240, MAP_MIN_DEN: 0.0343175, MRR: 0.1327424, NDCG: 0.0679492, F1: 0.0513797, HIT_RATE: 0.2867717, ARHR_ALL_HITS: 0.1553290, NOVELTY: 0.0045811, AVERAGE_POPULARITY: 0.1308330, DIVERSITY_MEAN_INTER_LIST: 0.9763056, DIVERSITY_HERFINDAHL: 0.9976281, COVERAGE_ITEM: 0.2148774, COVERAGE_ITEM_HIT: 0.0663892, ITEMS_IN_GT: 0.9865345, COVERAGE_USER: 0.9638954, COVERAGE_USER_HIT: 0.2764179, USERS_IN_GT: 0.9638954, DIVERSITY_GINI: 0.0357579, SHANNON_ENTROPY: 9.9497696, RATIO_DIVERSITY_HERFINDAHL: 0.9979582, RATIO_DIVERSITY_GINI: 0.0707420, RATIO_SHANNON_ENTROPY: 0.7375496, RATIO_AVERAGE_POPULARITY: 2.5841371, RATIO_NOVELTY: 0.3084381, \n",
      "\n"
     ]
    },
    {
     "name": "stdout",
     "output_type": "stream",
     "text": [
      "Iteration No: 32 ended. Search finished for the next optimal point.\n",
      "Time taken: 1335.1309\n",
      "Function value obtained: -0.0183\n",
      "Current minimum: -0.0196\n",
      "Iteration No: 33 started. Searching for the next optimal point.\n",
      "SearchBayesianSkopt: Testing config: {'topK': 665, 'l1_ratio': 0.0014236944580151942, 'alpha': 0.019827848161107123}\n"
     ]
    },
    {
     "name": "stdout",
     "output_type": "stream",
     "text": [
      "SLIMElasticNetRecommender: Processed 5936 (24.2%) in 5.00 min. Items per second: 19.78\n"
     ]
    },
    {
     "name": "stdout",
     "output_type": "stream",
     "text": [
      "SLIMElasticNetRecommender: Processed 12612 (51.5%) in 10.00 min. Items per second: 21.02\n"
     ]
    },
    {
     "name": "stdout",
     "output_type": "stream",
     "text": [
      "SLIMElasticNetRecommender: Processed 19366 (79.0%) in 15.00 min. Items per second: 21.52\n"
     ]
    },
    {
     "name": "stdout",
     "output_type": "stream",
     "text": [
      "SLIMElasticNetRecommender: Processed 24507 (100.0%) in 18.76 min. Items per second: 21.78\n"
     ]
    },
    {
     "name": "stdout",
     "output_type": "stream",
     "text": [
      "EvaluatorHoldout: Processed 40126 (100.0%) in 44.54 sec. Users per second: 901\n"
     ]
    },
    {
     "name": "stdout",
     "output_type": "stream",
     "text": [
      "SearchBayesianSkopt: Config 32 is suboptimal. Config: {'topK': 665, 'l1_ratio': 0.0014236944580151942, 'alpha': 0.019827848161107123} - results: PRECISION: 0.0402706, PRECISION_RECALL_MIN_DEN: 0.0777267, RECALL: 0.0746107, MAP: 0.0182221, MAP_MIN_DEN: 0.0346774, MRR: 0.1349260, NDCG: 0.0691721, F1: 0.0523083, HIT_RATE: 0.2949958, ARHR_ALL_HITS: 0.1561301, NOVELTY: 0.0040730, AVERAGE_POPULARITY: 0.2503362, DIVERSITY_MEAN_INTER_LIST: 0.9007850, DIVERSITY_HERFINDAHL: 0.9900763, COVERAGE_ITEM: 0.1341249, COVERAGE_ITEM_HIT: 0.0323989, ITEMS_IN_GT: 0.9865345, COVERAGE_USER: 0.9638954, COVERAGE_USER_HIT: 0.2843450, USERS_IN_GT: 0.9638954, DIVERSITY_GINI: 0.0107921, SHANNON_ENTROPY: 8.0268050, RATIO_DIVERSITY_HERFINDAHL: 0.9904039, RATIO_DIVERSITY_GINI: 0.0213506, RATIO_SHANNON_ENTROPY: 0.5950055, RATIO_AVERAGE_POPULARITY: 4.9444965, RATIO_NOVELTY: 0.2742279, \n",
      "\n"
     ]
    },
    {
     "name": "stdout",
     "output_type": "stream",
     "text": [
      "Iteration No: 33 ended. Search finished for the next optimal point.\n",
      "Time taken: 1170.7593\n",
      "Function value obtained: -0.0182\n",
      "Current minimum: -0.0196\n",
      "Iteration No: 34 started. Searching for the next optimal point.\n",
      "SearchBayesianSkopt: Testing config: {'topK': 653, 'l1_ratio': 0.0061712249208002185, 'alpha': 0.0010004592864013909}\n"
     ]
    },
    {
     "name": "stdout",
     "output_type": "stream",
     "text": [
      "SLIMElasticNetRecommender: Processed 5214 (21.3%) in 5.00 min. Items per second: 17.37\n"
     ]
    },
    {
     "name": "stdout",
     "output_type": "stream",
     "text": [
      "SLIMElasticNetRecommender: Processed 10826 (44.2%) in 10.00 min. Items per second: 18.04\n"
     ]
    },
    {
     "name": "stdout",
     "output_type": "stream",
     "text": [
      "SLIMElasticNetRecommender: Processed 16455 (67.1%) in 15.00 min. Items per second: 18.28\n"
     ]
    },
    {
     "name": "stdout",
     "output_type": "stream",
     "text": [
      "SLIMElasticNetRecommender: Processed 22098 (90.2%) in 20.00 min. Items per second: 18.41\n"
     ]
    },
    {
     "name": "stdout",
     "output_type": "stream",
     "text": [
      "SLIMElasticNetRecommender: Processed 24507 (100.0%) in 22.14 min. Items per second: 18.45\n"
     ]
    },
    {
     "name": "stdout",
     "output_type": "stream",
     "text": [
      "EvaluatorHoldout: Processed 40126 (100.0%) in 39.14 sec. Users per second: 1025\n"
     ]
    },
    {
     "name": "stdout",
     "output_type": "stream",
     "text": [
      "SearchBayesianSkopt: Config 33 is suboptimal. Config: {'topK': 653, 'l1_ratio': 0.0061712249208002185, 'alpha': 0.0010004592864013909} - results: PRECISION: 0.0412675, PRECISION_RECALL_MIN_DEN: 0.0773369, RECALL: 0.0740230, MAP: 0.0188125, MAP_MIN_DEN: 0.0352197, MRR: 0.1360466, NDCG: 0.0698701, F1: 0.0529921, HIT_RATE: 0.2945223, ARHR_ALL_HITS: 0.1592978, NOVELTY: 0.0044409, AVERAGE_POPULARITY: 0.1595179, DIVERSITY_MEAN_INTER_LIST: 0.9657232, DIVERSITY_HERFINDAHL: 0.9965699, COVERAGE_ITEM: 0.1847635, COVERAGE_ITEM_HIT: 0.0613702, ITEMS_IN_GT: 0.9865345, COVERAGE_USER: 0.9638954, COVERAGE_USER_HIT: 0.2838886, USERS_IN_GT: 0.9638954, DIVERSITY_GINI: 0.0272856, SHANNON_ENTROPY: 9.5095922, RATIO_DIVERSITY_HERFINDAHL: 0.9968997, RATIO_DIVERSITY_GINI: 0.0539809, RATIO_SHANNON_ENTROPY: 0.7049205, RATIO_AVERAGE_POPULARITY: 3.1507054, RATIO_NOVELTY: 0.2989983, \n",
      "\n"
     ]
    },
    {
     "name": "stdout",
     "output_type": "stream",
     "text": [
      "Iteration No: 34 ended. Search finished for the next optimal point.\n",
      "Time taken: 1368.5670\n",
      "Function value obtained: -0.0188\n",
      "Current minimum: -0.0196\n",
      "Iteration No: 35 started. Searching for the next optimal point.\n",
      "SearchBayesianSkopt: Testing config: {'topK': 127, 'l1_ratio': 0.0012111334234139776, 'alpha': 0.002770862950232215}\n"
     ]
    },
    {
     "name": "stdout",
     "output_type": "stream",
     "text": [
      "SLIMElasticNetRecommender: Processed 5206 (21.2%) in 5.00 min. Items per second: 17.35\n"
     ]
    },
    {
     "name": "stdout",
     "output_type": "stream",
     "text": [
      "SLIMElasticNetRecommender: Processed 10895 (44.5%) in 10.00 min. Items per second: 18.16\n"
     ]
    },
    {
     "name": "stdout",
     "output_type": "stream",
     "text": [
      "SLIMElasticNetRecommender: Processed 16609 (67.8%) in 15.00 min. Items per second: 18.45\n"
     ]
    },
    {
     "name": "stdout",
     "output_type": "stream",
     "text": [
      "SLIMElasticNetRecommender: Processed 22334 (91.1%) in 20.00 min. Items per second: 18.61\n"
     ]
    },
    {
     "name": "stdout",
     "output_type": "stream",
     "text": [
      "SLIMElasticNetRecommender: Processed 24507 (100.0%) in 21.90 min. Items per second: 18.65\n"
     ]
    },
    {
     "name": "stdout",
     "output_type": "stream",
     "text": [
      "EvaluatorHoldout: Processed 40126 (100.0%) in 27.66 sec. Users per second: 1451\n"
     ]
    },
    {
     "name": "stdout",
     "output_type": "stream",
     "text": [
      "SearchBayesianSkopt: Config 34 is suboptimal. Config: {'topK': 127, 'l1_ratio': 0.0012111334234139776, 'alpha': 0.002770862950232215} - results: PRECISION: 0.0421846, PRECISION_RECALL_MIN_DEN: 0.0798789, RECALL: 0.0765519, MAP: 0.0191926, MAP_MIN_DEN: 0.0361992, MRR: 0.1385813, NDCG: 0.0717047, F1: 0.0543946, HIT_RATE: 0.3017495, ARHR_ALL_HITS: 0.1624228, NOVELTY: 0.0044138, AVERAGE_POPULARITY: 0.1652500, DIVERSITY_MEAN_INTER_LIST: 0.9617958, DIVERSITY_HERFINDAHL: 0.9961772, COVERAGE_ITEM: 0.1914555, COVERAGE_ITEM_HIT: 0.0557392, ITEMS_IN_GT: 0.9865345, COVERAGE_USER: 0.9638954, COVERAGE_USER_HIT: 0.2908549, USERS_IN_GT: 0.9638954, DIVERSITY_GINI: 0.0253146, SHANNON_ENTROPY: 9.3789866, RATIO_DIVERSITY_HERFINDAHL: 0.9965068, RATIO_DIVERSITY_GINI: 0.0500813, RATIO_SHANNON_ENTROPY: 0.6952390, RATIO_AVERAGE_POPULARITY: 3.2639219, RATIO_NOVELTY: 0.2971725, \n",
      "\n"
     ]
    },
    {
     "name": "stdout",
     "output_type": "stream",
     "text": [
      "Iteration No: 35 ended. Search finished for the next optimal point.\n",
      "Time taken: 1342.5092\n",
      "Function value obtained: -0.0192\n",
      "Current minimum: -0.0196\n",
      "Iteration No: 36 started. Searching for the next optimal point.\n",
      "SearchBayesianSkopt: Testing config: {'topK': 306, 'l1_ratio': 0.0035658486108087256, 'alpha': 0.004181961739488717}\n"
     ]
    },
    {
     "name": "stdout",
     "output_type": "stream",
     "text": [
      "SLIMElasticNetRecommender: Processed 5432 (22.2%) in 5.00 min. Items per second: 18.10\n"
     ]
    },
    {
     "name": "stdout",
     "output_type": "stream",
     "text": [
      "SLIMElasticNetRecommender: Processed 11280 (46.0%) in 10.00 min. Items per second: 18.80\n"
     ]
    },
    {
     "name": "stdout",
     "output_type": "stream",
     "text": [
      "SLIMElasticNetRecommender: Processed 17112 (69.8%) in 15.00 min. Items per second: 19.01\n"
     ]
    },
    {
     "name": "stdout",
     "output_type": "stream",
     "text": [
      "SLIMElasticNetRecommender: Processed 22993 (93.8%) in 20.00 min. Items per second: 19.16\n"
     ]
    },
    {
     "name": "stdout",
     "output_type": "stream",
     "text": [
      "SLIMElasticNetRecommender: Processed 24507 (100.0%) in 21.27 min. Items per second: 19.20\n"
     ]
    },
    {
     "name": "stdout",
     "output_type": "stream",
     "text": [
      "EvaluatorHoldout: Processed 40126 (100.0%) in 32.98 sec. Users per second: 1217\n"
     ]
    },
    {
     "name": "stdout",
     "output_type": "stream",
     "text": [
      "SearchBayesianSkopt: Config 35 is suboptimal. Config: {'topK': 306, 'l1_ratio': 0.0035658486108087256, 'alpha': 0.004181961739488717} - results: PRECISION: 0.0427204, PRECISION_RECALL_MIN_DEN: 0.0815299, RECALL: 0.0781868, MAP: 0.0195649, MAP_MIN_DEN: 0.0369185, MRR: 0.1415616, NDCG: 0.0730724, F1: 0.0552518, HIT_RATE: 0.3057619, ARHR_ALL_HITS: 0.1657408, NOVELTY: 0.0043029, AVERAGE_POPULARITY: 0.1908674, DIVERSITY_MEAN_INTER_LIST: 0.9479826, DIVERSITY_HERFINDAHL: 0.9947959, COVERAGE_ITEM: 0.1636267, COVERAGE_ITEM_HIT: 0.0501081, ITEMS_IN_GT: 0.9865345, COVERAGE_USER: 0.9638954, COVERAGE_USER_HIT: 0.2947224, USERS_IN_GT: 0.9638954, DIVERSITY_GINI: 0.0197178, SHANNON_ENTROPY: 8.9816003, RATIO_DIVERSITY_HERFINDAHL: 0.9951251, RATIO_DIVERSITY_GINI: 0.0390089, RATIO_SHANNON_ENTROPY: 0.6657819, RATIO_AVERAGE_POPULARITY: 3.7699020, RATIO_NOVELTY: 0.2897087, \n",
      "\n"
     ]
    },
    {
     "name": "stdout",
     "output_type": "stream",
     "text": [
      "Iteration No: 36 ended. Search finished for the next optimal point.\n",
      "Time taken: 1310.4695\n",
      "Function value obtained: -0.0196\n",
      "Current minimum: -0.0196\n",
      "Iteration No: 37 started. Searching for the next optimal point.\n",
      "SearchBayesianSkopt: Testing config: {'topK': 191, 'l1_ratio': 0.001, 'alpha': 0.003063174578575231}\n"
     ]
    },
    {
     "name": "stdout",
     "output_type": "stream",
     "text": [
      "SLIMElasticNetRecommender: Processed 5190 (21.2%) in 5.00 min. Items per second: 17.29\n"
     ]
    },
    {
     "name": "stdout",
     "output_type": "stream",
     "text": [
      "SLIMElasticNetRecommender: Processed 10861 (44.3%) in 10.00 min. Items per second: 18.10\n"
     ]
    }
   ],
   "source": [
    "hyperparameterSearch.search(recommender_input_args = recommender_input_args,\n",
    "                            recommender_input_args_last_test = recommender_input_args_last_test,\n",
    "                            hyperparameter_search_space = hyperparameters_range_dictionary,\n",
    "                            n_cases = n_cases,\n",
    "                            n_random_starts = n_random_starts,\n",
    "                            save_model = \"last\",\n",
    "                            output_folder_path = output_folder_path, # Where to save the results\n",
    "                            output_file_name_root = recommender_class.RECOMMENDER_NAME, # How to call the files\n",
    "                            metric_to_optimize = metric_to_optimize,\n",
    "                            cutoff_to_optimize = cutoff_to_optimize,\n",
    "                            )"
   ]
  },
  {
   "cell_type": "code",
   "execution_count": null,
   "id": "c4b4961c",
   "metadata": {
    "papermill": {
     "duration": null,
     "end_time": null,
     "exception": null,
     "start_time": null,
     "status": "pending"
    },
    "tags": []
   },
   "outputs": [],
   "source": [
    "from Recommenders.DataIO import DataIO\n",
    "\n",
    "#explore the results of the search\n",
    "data_loader = DataIO(folder_path = output_folder_path)\n",
    "search_metadata = data_loader.load_data(recommender_class.RECOMMENDER_NAME + \"_metadata.zip\")\n",
    "\n",
    "search_metadata.keys()"
   ]
  },
  {
   "cell_type": "code",
   "execution_count": null,
   "id": "2460dab7",
   "metadata": {
    "papermill": {
     "duration": null,
     "end_time": null,
     "exception": null,
     "start_time": null,
     "status": "pending"
    },
    "tags": []
   },
   "outputs": [],
   "source": [
    "hyperparameters_df = search_metadata[\"hyperparameters_df\"]\n",
    "hyperparameters_df"
   ]
  },
  {
   "cell_type": "code",
   "execution_count": null,
   "id": "daadfe47",
   "metadata": {
    "papermill": {
     "duration": null,
     "end_time": null,
     "exception": null,
     "start_time": null,
     "status": "pending"
    },
    "tags": []
   },
   "outputs": [],
   "source": [
    "result_on_validation_df = search_metadata[\"result_on_validation_df\"]\n",
    "result_on_validation_df"
   ]
  },
  {
   "cell_type": "code",
   "execution_count": null,
   "id": "2afe30a0",
   "metadata": {
    "papermill": {
     "duration": null,
     "end_time": null,
     "exception": null,
     "start_time": null,
     "status": "pending"
    },
    "tags": []
   },
   "outputs": [],
   "source": [
    "best_hyperparameters = search_metadata[\"hyperparameters_best\"]\n",
    "best_hyperparameters"
   ]
  },
  {
   "cell_type": "code",
   "execution_count": null,
   "id": "5ef3b6b5",
   "metadata": {
    "papermill": {
     "duration": null,
     "end_time": null,
     "exception": null,
     "start_time": null,
     "status": "pending"
    },
    "tags": []
   },
   "outputs": [],
   "source": [
    "recommender = SLIMElasticNetRecommender(URM_train)\n",
    "recommender.fit(topK=405, l1_ratio=0.0010299956370568744, alpha=0.01)"
   ]
  },
  {
   "cell_type": "code",
   "execution_count": null,
   "id": "0c5ad430",
   "metadata": {
    "papermill": {
     "duration": null,
     "end_time": null,
     "exception": null,
     "start_time": null,
     "status": "pending"
    },
    "tags": []
   },
   "outputs": [],
   "source": [
    "recommender.save_model(output_folder_path, file_name = recommender.RECOMMENDER_NAME + \"_my_own_save.zip\" )"
   ]
  },
  {
   "cell_type": "code",
   "execution_count": null,
   "id": "485b954a",
   "metadata": {
    "papermill": {
     "duration": null,
     "end_time": null,
     "exception": null,
     "start_time": null,
     "status": "pending"
    },
    "tags": []
   },
   "outputs": [],
   "source": [
    "test_users = pd.read_csv('Dataset/data_target_users_test.csv')"
   ]
  },
  {
   "cell_type": "code",
   "execution_count": null,
   "id": "af03734e",
   "metadata": {
    "papermill": {
     "duration": null,
     "end_time": null,
     "exception": null,
     "start_time": null,
     "status": "pending"
    },
    "tags": []
   },
   "outputs": [],
   "source": [
    "user_id = test_users['user_id']\n",
    "recommendations = []\n",
    "for user in user_id:\n",
    "    recommendations.append(recommender.recommend(user, cutoff=10))"
   ]
  },
  {
   "cell_type": "code",
   "execution_count": null,
   "id": "158fd2ce",
   "metadata": {
    "papermill": {
     "duration": null,
     "end_time": null,
     "exception": null,
     "start_time": null,
     "status": "pending"
    },
    "tags": []
   },
   "outputs": [],
   "source": [
    "for index in range(len(recommendations)):\n",
    "    recommendations[index]=np.array(recommendations[index])\n",
    "\n",
    "test_users['item_list']= recommendations\n",
    "test_users['item_list'] = pd.DataFrame([str(line).strip('[').strip(']').replace(\"'\",\"\") for line in test_users['item_list']])\n",
    "test_users.to_csv('Submissions\\Submission_04_RP3Beta_MixedRatings.csv', index=False)"
   ]
  },
  {
   "cell_type": "code",
   "execution_count": null,
   "id": "1db364aa",
   "metadata": {
    "papermill": {
     "duration": null,
     "end_time": null,
     "exception": null,
     "start_time": null,
     "status": "pending"
    },
    "tags": []
   },
   "outputs": [],
   "source": []
  }
 ],
 "metadata": {
  "kernelspec": {
   "display_name": "Python 3",
   "language": "python",
   "name": "python3"
  },
  "language_info": {
   "codemirror_mode": {
    "name": "ipython",
    "version": 3
   },
   "file_extension": ".py",
   "mimetype": "text/x-python",
   "name": "python",
   "nbconvert_exporter": "python",
   "pygments_lexer": "ipython3",
   "version": "3.6.4"
  },
  "papermill": {
   "default_parameters": {},
   "duration": null,
   "end_time": null,
   "environment_variables": {},
   "exception": null,
   "input_path": "__notebook__.ipynb",
   "output_path": "__notebook__.ipynb",
   "parameters": {},
   "start_time": "2022-11-28T23:38:55.806611",
   "version": "2.3.4"
  }
 },
 "nbformat": 4,
 "nbformat_minor": 5
}
