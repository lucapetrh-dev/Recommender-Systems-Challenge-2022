{
 "cells": [
  {
   "cell_type": "code",
   "execution_count": 1,
   "id": "b05ada6d",
   "metadata": {
    "_cell_guid": "b1076dfc-b9ad-4769-8c92-a6c4dae69d19",
    "_uuid": "8f2839f25d086af736a60e9eeb907d3b93b6e0e5",
    "execution": {
     "iopub.execute_input": "2023-01-11T00:07:00.441304Z",
     "iopub.status.busy": "2023-01-11T00:07:00.440780Z",
     "iopub.status.idle": "2023-01-11T00:07:13.584717Z",
     "shell.execute_reply": "2023-01-11T00:07:13.583520Z"
    },
    "papermill": {
     "duration": 13.154569,
     "end_time": "2023-01-11T00:07:13.587471",
     "exception": false,
     "start_time": "2023-01-11T00:07:00.432902",
     "status": "completed"
    },
    "tags": []
   },
   "outputs": [
    {
     "name": "stdout",
     "output_type": "stream",
     "text": [
      "Cloning into 'Recommender-Systems-Challenge-2022'...\r\n",
      "remote: Enumerating objects: 619, done.\u001B[K\r\n",
      "remote: Counting objects: 100% (215/215), done.\u001B[K\r\n",
      "remote: Compressing objects: 100% (162/162), done.\u001B[K\r\n",
      "remote: Total 619 (delta 107), reused 139 (delta 52), pack-reused 404\u001B[K\r\n",
      "Receiving objects: 100% (619/619), 106.18 MiB | 22.24 MiB/s, done.\r\n",
      "Resolving deltas: 100% (279/279), done.\r\n",
      "Updating files: 100% (254/254), done.\r\n"
     ]
    }
   ],
   "source": [
    "import pandas as pd\n",
    "import numpy as np\n",
    "import scipy.sparse as sps\n",
    "import matplotlib.pyplot as pyplot\n",
    "\n",
    "from Evaluation.Evaluator import EvaluatorHoldout\n",
    "from Data_manager.split_functions.split_train_validation_random_holdout import split_train_in_two_percentage_global_sample\n",
    "from Utils.DataReader import load_urm, load_icm, load_target"
   ]
  },
  {
   "cell_type": "code",
   "execution_count": 2,
   "id": "bb825307",
   "metadata": {
    "execution": {
     "iopub.execute_input": "2023-01-11T00:07:13.607206Z",
     "iopub.status.busy": "2023-01-11T00:07:13.606787Z",
     "iopub.status.idle": "2023-01-11T00:07:14.255793Z",
     "shell.execute_reply": "2023-01-11T00:07:14.254426Z"
    },
    "papermill": {
     "duration": 0.661911,
     "end_time": "2023-01-11T00:07:14.258179",
     "exception": false,
     "start_time": "2023-01-11T00:07:13.596268",
     "status": "completed"
    },
    "tags": []
   },
   "outputs": [
    {
     "name": "stdout",
     "output_type": "stream",
     "text": [
      "EvaluatorHoldout: Ignoring 1541 ( 3.7%) Users that have less than 1 test interactions\n",
      "EvaluatorHoldout: Ignoring 958 ( 2.3%) Users that have less than 1 test interactions\n"
     ]
    }
   ],
   "source": [
    "URM_all = load_urm()\n",
    "\n",
    "#URM_train, URM_test = split_train_in_two_percentage_global_sample(URM_all, train_percentage = 0.85)\n",
    "#URM_train, URM_validation = split_train_in_two_percentage_global_sample(URM_train, train_percentage = 0.85)\n",
    "URM_train = sps.load_npz('Dataset/Split/URM_train.npz')\n",
    "URM_test =  sps.load_npz('Dataset/Split/URM_test.npz')\n",
    "URM_validation = sps.load_npz('Dataset/Split/URM_validation.npz')\n",
    "\n",
    "evaluator_validation = EvaluatorHoldout(URM_validation, cutoff_list=[10])\n",
    "evaluator_test = EvaluatorHoldout(URM_test, cutoff_list=[10])"
   ]
  },
  {
   "cell_type": "code",
   "execution_count": 3,
   "id": "7d910d5f",
   "metadata": {
    "execution": {
     "iopub.execute_input": "2023-01-11T00:07:14.276751Z",
     "iopub.status.busy": "2023-01-11T00:07:14.275638Z",
     "iopub.status.idle": "2023-01-11T00:36:10.491428Z",
     "shell.execute_reply": "2023-01-11T00:36:10.490161Z"
    },
    "papermill": {
     "duration": 1736.227864,
     "end_time": "2023-01-11T00:36:10.494152",
     "exception": false,
     "start_time": "2023-01-11T00:07:14.266288",
     "status": "completed"
    },
    "tags": []
   },
   "outputs": [
    {
     "name": "stdout",
     "output_type": "stream",
     "text": [
      "SLIMElasticNetRecommender: Processed 3850 (15.7%) in 5.00 min. Items per second: 12.83\n",
      "SLIMElasticNetRecommender: Processed 8046 (32.8%) in 10.00 min. Items per second: 13.41\n",
      "SLIMElasticNetRecommender: Processed 12392 (50.6%) in 15.00 min. Items per second: 13.77\n",
      "SLIMElasticNetRecommender: Processed 16783 (68.5%) in 20.00 min. Items per second: 13.98\n",
      "SLIMElasticNetRecommender: Processed 21086 (86.0%) in 25.00 min. Items per second: 14.06\n",
      "SLIMElasticNetRecommender: Processed 24507 (100.0%) in 28.91 min. Items per second: 14.13\n"
     ]
    }
   ],
   "source": [
    "from Recommenders.SLIM.SLIMElasticNetRecommender import SLIMElasticNetRecommender\n",
    "\n",
    "recommender_SLIMElasticNet = SLIMElasticNetRecommender(URM_train)\n",
    "recommender_SLIMElasticNet.fit(topK=585, l1_ratio=0.009929794168572358, alpha=0.0018687691383859428)"
   ]
  },
  {
   "cell_type": "code",
   "execution_count": 4,
   "id": "83c74317",
   "metadata": {
    "execution": {
     "iopub.execute_input": "2023-01-11T00:36:10.513505Z",
     "iopub.status.busy": "2023-01-11T00:36:10.513103Z",
     "iopub.status.idle": "2023-01-11T00:46:44.832877Z",
     "shell.execute_reply": "2023-01-11T00:46:44.831798Z"
    },
    "papermill": {
     "duration": 634.332814,
     "end_time": "2023-01-11T00:46:44.835940",
     "exception": false,
     "start_time": "2023-01-11T00:36:10.503126",
     "status": "completed"
    },
    "tags": []
   },
   "outputs": [
    {
     "name": "stdout",
     "output_type": "stream",
     "text": [
      "EASE_R_Recommender: Fitting model... \n",
      "EASE_R_Recommender: Fitting model... done in 10.55 min\n"
     ]
    }
   ],
   "source": [
    "from Recommenders.EASE_R.EASE_R_Recommender import EASE_R_Recommender\n",
    "\n",
    "recommender_EaseR = EASE_R_Recommender(URM_train)\n",
    "recommender_EaseR.fit(topK=None, normalize_matrix=False, l2_norm=225.7403645195658)"
   ]
  },
  {
   "cell_type": "code",
   "execution_count": 5,
   "id": "3e444523",
   "metadata": {
    "execution": {
     "iopub.execute_input": "2023-01-11T00:46:44.854911Z",
     "iopub.status.busy": "2023-01-11T00:46:44.854516Z",
     "iopub.status.idle": "2023-01-11T00:47:08.222234Z",
     "shell.execute_reply": "2023-01-11T00:47:08.220084Z"
    },
    "papermill": {
     "duration": 23.381237,
     "end_time": "2023-01-11T00:47:08.225943",
     "exception": false,
     "start_time": "2023-01-11T00:46:44.844706",
     "status": "completed"
    },
    "tags": []
   },
   "outputs": [
    {
     "name": "stdout",
     "output_type": "stream",
     "text": [
      "RP3betaRecommender: Similarity column 24507 (100.0%), 1107.24 column/sec. Elapsed time 22.13 sec\n"
     ]
    }
   ],
   "source": [
    "from Recommenders.GraphBased.RP3betaRecommender import RP3betaRecommender\n",
    "\n",
    "recommender_RP3beta = RP3betaRecommender(URM_train)\n",
    "recommender_RP3beta.fit(alpha=0.6949339074999242, beta=0.2853519331891143, topK=59, implicit=True)"
   ]
  },
  {
   "cell_type": "code",
   "execution_count": 6,
   "id": "1541b6d6",
   "metadata": {
    "execution": {
     "iopub.execute_input": "2023-01-11T00:47:08.254238Z",
     "iopub.status.busy": "2023-01-11T00:47:08.253528Z",
     "iopub.status.idle": "2023-01-11T00:49:17.656578Z",
     "shell.execute_reply": "2023-01-11T00:49:17.655135Z"
    },
    "papermill": {
     "duration": 129.421693,
     "end_time": "2023-01-11T00:49:17.659371",
     "exception": false,
     "start_time": "2023-01-11T00:47:08.237678",
     "status": "completed"
    },
    "tags": []
   },
   "outputs": [
    {
     "name": "stdout",
     "output_type": "stream",
     "text": [
      "MAP of the starting models\n",
      "EvaluatorHoldout: Processed 40088 (100.0%) in 50.81 sec. Users per second: 789\n",
      "SLIM ElasticNet - MAP: 0.01955257263385604\n",
      "EvaluatorHoldout: Processed 40088 (100.0%) in 30.09 sec. Users per second: 1332\n",
      "RP3beta - MAP: 0.01869520586455795\n",
      "EvaluatorHoldout: Processed 40088 (100.0%) in 48.44 sec. Users per second: 828\n",
      "EaseR - MAP: 0.019171919990306683\n"
     ]
    }
   ],
   "source": [
    "print(\"MAP of the starting models\")\n",
    "\n",
    "result_df, _ = evaluator_validation.evaluateRecommender(recommender_SLIMElasticNet)\n",
    "print(\"SLIM ElasticNet - MAP: {}\".format(result_df.loc[10][\"MAP\"]))\n",
    "\n",
    "result_df, _ = evaluator_validation.evaluateRecommender(recommender_RP3beta)\n",
    "print(\"RP3beta - MAP: {}\".format(result_df.loc[10][\"MAP\"]))\n",
    "\n",
    "result_df, _ = evaluator_validation.evaluateRecommender(recommender_EaseR)\n",
    "print(\"EaseR - MAP: {}\".format(result_df.loc[10][\"MAP\"]))"
   ]
  },
  {
   "cell_type": "code",
   "execution_count": 7,
   "id": "ff2ca1af",
   "metadata": {
    "execution": {
     "iopub.execute_input": "2023-01-11T00:49:17.683354Z",
     "iopub.status.busy": "2023-01-11T00:49:17.682849Z",
     "iopub.status.idle": "2023-01-11T00:49:17.697320Z",
     "shell.execute_reply": "2023-01-11T00:49:17.696026Z"
    },
    "papermill": {
     "duration": 0.030768,
     "end_time": "2023-01-11T00:49:17.700239",
     "exception": false,
     "start_time": "2023-01-11T00:49:17.669471",
     "status": "completed"
    },
    "tags": []
   },
   "outputs": [],
   "source": [
    "from numpy import linalg as LA\n",
    "from Recommenders.BaseRecommender import BaseRecommender\n",
    "\n",
    "class DifferentLossScoresHybridRecommender(BaseRecommender):\n",
    "    \"\"\" ScoresHybridRecommender\n",
    "    Hybrid of three predictions scores\n",
    "    R = R1*alpha + R2*beta + R3*(1-alpha-beta)\n",
    "    \n",
    "    Class from Dacrema exercise modified by Antonio Ercolani\n",
    "    The original took as input 2 recommender\n",
    "\n",
    "    \"\"\"\n",
    "\n",
    "    RECOMMENDER_NAME = \"DifferentLossScoresHybridRecommender\"\n",
    "\n",
    "\n",
    "    def __init__(self, URM_train, recommender_1, recommender_2, recommender_3):\n",
    "        super(DifferentLossScoresHybridRecommender, self).__init__(URM_train)\n",
    "\n",
    "        self.URM_train = sps.csr_matrix(URM_train)\n",
    "        self.recommender_1 = recommender_1\n",
    "        self.recommender_2 = recommender_2\n",
    "        self.recommender_3 = recommender_3\n",
    "        \n",
    "        \n",
    "        \n",
    "    def fit(self, norm, alpha = 0.5, beta = 0.5):\n",
    "\n",
    "        self.alpha = alpha\n",
    "        self.beta = beta\n",
    "        self.norm = norm\n",
    "\n",
    "\n",
    "    def _compute_item_score(self, user_id_array, items_to_compute):\n",
    "        \n",
    "        item_weights_1 = self.recommender_1._compute_item_score(user_id_array)\n",
    "        item_weights_2 = self.recommender_2._compute_item_score(user_id_array)\n",
    "        item_weights_3 = self.recommender_3._compute_item_score(user_id_array)\n",
    "\n",
    "        norm_item_weights_1 = LA.norm(item_weights_1, self.norm)\n",
    "        norm_item_weights_2 = LA.norm(item_weights_2, self.norm)\n",
    "        norm_item_weights_3 = LA.norm(item_weights_3, self.norm)\n",
    "        \n",
    "        \n",
    "        if norm_item_weights_1 == 0:\n",
    "            raise ValueError(\"Norm {} of item weights for recommender 1 is zero. Avoiding division by zero\".format(self.norm))\n",
    "        \n",
    "        if norm_item_weights_2 == 0:\n",
    "            raise ValueError(\"Norm {} of item weights for recommender 2 is zero. Avoiding division by zero\".format(self.norm))\n",
    "            \n",
    "        if norm_item_weights_3 == 0:\n",
    "            raise ValueError(\"Norm {} of item weights for recommender 3 is zero. Avoiding division by zero\".format(self.norm))\n",
    "        \n",
    "        item_weights = item_weights_1 / norm_item_weights_1 * self.alpha + item_weights_2 / norm_item_weights_2 * self.beta + item_weights_3 / norm_item_weights_3 * (1-self.alpha-self.beta)\n",
    "\n",
    "        return item_weights"
   ]
  },
  {
   "cell_type": "code",
   "execution_count": 10,
   "id": "ebc36176",
   "metadata": {
    "execution": {
     "iopub.execute_input": "2023-01-11T00:49:17.839205Z",
     "iopub.status.busy": "2023-01-11T00:49:17.838794Z",
     "iopub.status.idle": "2023-01-11T02:32:51.777938Z",
     "shell.execute_reply": "2023-01-11T02:32:51.776347Z"
    },
    "papermill": {
     "duration": 6213.957412,
     "end_time": "2023-01-11T02:32:51.784860",
     "exception": false,
     "start_time": "2023-01-11T00:49:17.827448",
     "status": "completed"
    },
    "tags": []
   },
   "outputs": [
    {
     "name": "stdout",
     "output_type": "stream",
     "text": [
      "----\n",
      "EvaluatorHoldout: Processed 40088 (100.0%) in 1.47 min. Users per second: 456\n",
      "Norm: 1, Alpha: 0.0, Beta: 0.0, Theta: 1.0, Result: 0.019171919990306683\n",
      "*** New best model found! \n",
      "New best model has MAP: 0.019171919990306683 with alpha: 0.0, beta: 0.0, theta: 1.0, norm: 1\n",
      "----\n",
      "EvaluatorHoldout: Processed 40088 (100.0%) in 1.46 min. Users per second: 457\n",
      "Norm: 1, Alpha: 0.0, Beta: 0.1, Theta: 0.9, Result: 0.01944167078459099\n",
      "*** New best model found! \n",
      "New best model has MAP: 0.01944167078459099 with alpha: 0.0, beta: 0.1, theta: 0.9, norm: 1\n",
      "----\n",
      "EvaluatorHoldout: Processed 40088 (100.0%) in 1.46 min. Users per second: 458\n",
      "Norm: 1, Alpha: 0.0, Beta: 0.2, Theta: 0.8, Result: 0.019546698651854422\n",
      "*** New best model found! \n",
      "New best model has MAP: 0.019546698651854422 with alpha: 0.0, beta: 0.2, theta: 0.8, norm: 1\n",
      "----\n",
      "EvaluatorHoldout: Processed 40088 (100.0%) in 1.48 min. Users per second: 452\n",
      "Norm: 1, Alpha: 0.0, Beta: 0.3, Theta: 0.7, Result: 0.01959932889706097\n",
      "*** New best model found! \n",
      "New best model has MAP: 0.01959932889706097 with alpha: 0.0, beta: 0.3, theta: 0.7, norm: 1\n",
      "----\n",
      "EvaluatorHoldout: Processed 40088 (100.0%) in 1.46 min. Users per second: 457\n",
      "Norm: 1, Alpha: 0.0, Beta: 0.4, Theta: 0.6, Result: 0.019548560626937772\n",
      "----\n",
      "EvaluatorHoldout: Processed 40088 (100.0%) in 1.67 min. Users per second: 399\n",
      "Norm: 1, Alpha: 0.0, Beta: 0.5, Theta: 0.5, Result: 0.01948812018321559\n",
      "----\n",
      "EvaluatorHoldout: Processed 40088 (100.0%) in 1.49 min. Users per second: 450\n",
      "Norm: 1, Alpha: 0.0, Beta: 0.6, Theta: 0.4, Result: 0.01933214586639516\n",
      "----\n",
      "EvaluatorHoldout: Processed 40088 (100.0%) in 1.50 min. Users per second: 446\n",
      "Norm: 1, Alpha: 0.0, Beta: 0.7, Theta: 0.30000000000000004, Result: 0.019207984497596996\n",
      "----\n",
      "EvaluatorHoldout: Processed 40088 (100.0%) in 1.49 min. Users per second: 447\n",
      "Norm: 1, Alpha: 0.0, Beta: 0.8, Theta: 0.19999999999999996, Result: 0.01904099374233789\n",
      "----\n",
      "EvaluatorHoldout: Processed 40088 (100.0%) in 1.50 min. Users per second: 445\n",
      "Norm: 1, Alpha: 0.0, Beta: 0.9, Theta: 0.09999999999999998, Result: 0.01886479506989343\n",
      "----\n",
      "EvaluatorHoldout: Processed 40088 (100.0%) in 1.37 min. Users per second: 488\n",
      "Norm: 1, Alpha: 0.0, Beta: 1.0, Theta: 0.0, Result: 0.01869520586455795\n",
      "----\n",
      "EvaluatorHoldout: Processed 40088 (100.0%) in 1.48 min. Users per second: 450\n",
      "Norm: 1, Alpha: 0.1, Beta: 0.0, Theta: 0.9, Result: 0.019396314219827144\n",
      "----\n",
      "EvaluatorHoldout: Processed 40088 (100.0%) in 1.74 min. Users per second: 385\n",
      "Norm: 1, Alpha: 0.1, Beta: 0.1, Theta: 0.8, Result: 0.019599873334219857\n",
      "*** New best model found! \n",
      "New best model has MAP: 0.019599873334219857 with alpha: 0.1, beta: 0.1, theta: 0.8, norm: 1\n",
      "----\n",
      "EvaluatorHoldout: Processed 40088 (100.0%) in 1.50 min. Users per second: 447\n",
      "Norm: 1, Alpha: 0.1, Beta: 0.2, Theta: 0.7, Result: 0.019688950182613806\n",
      "*** New best model found! \n",
      "New best model has MAP: 0.019688950182613806 with alpha: 0.1, beta: 0.2, theta: 0.7, norm: 1\n",
      "----\n",
      "EvaluatorHoldout: Processed 40088 (100.0%) in 1.50 min. Users per second: 445\n",
      "Norm: 1, Alpha: 0.1, Beta: 0.3, Theta: 0.6000000000000001, Result: 0.019688216677277843\n",
      "----\n",
      "EvaluatorHoldout: Processed 40088 (100.0%) in 1.50 min. Users per second: 446\n",
      "Norm: 1, Alpha: 0.1, Beta: 0.4, Theta: 0.5, Result: 0.01962376620640907\n",
      "----\n",
      "EvaluatorHoldout: Processed 40088 (100.0%) in 1.50 min. Users per second: 445\n",
      "Norm: 1, Alpha: 0.1, Beta: 0.5, Theta: 0.4, Result: 0.019544606033392833\n",
      "----\n",
      "EvaluatorHoldout: Processed 40088 (100.0%) in 1.50 min. Users per second: 446\n",
      "Norm: 1, Alpha: 0.1, Beta: 0.6, Theta: 0.30000000000000004, Result: 0.019418626244483934\n",
      "----\n",
      "EvaluatorHoldout: Processed 40088 (100.0%) in 1.51 min. Users per second: 442\n",
      "Norm: 1, Alpha: 0.1, Beta: 0.7, Theta: 0.20000000000000007, Result: 0.019275796620450526\n",
      "----\n",
      "EvaluatorHoldout: Processed 40088 (100.0%) in 1.76 min. Users per second: 380\n",
      "Norm: 1, Alpha: 0.1, Beta: 0.8, Theta: 0.09999999999999998, Result: 0.01915991267623886\n",
      "----\n",
      "EvaluatorHoldout: Processed 40088 (100.0%) in 1.48 min. Users per second: 450\n",
      "Norm: 1, Alpha: 0.1, Beta: 0.9, Theta: 0.0, Result: 0.018996684476690548\n",
      "----\n",
      "EvaluatorHoldout: Processed 40088 (100.0%) in 1.51 min. Users per second: 442\n",
      "Norm: 1, Alpha: 0.2, Beta: 0.0, Theta: 0.8, Result: 0.019555694733490694\n",
      "----\n",
      "EvaluatorHoldout: Processed 40088 (100.0%) in 1.50 min. Users per second: 446\n",
      "Norm: 1, Alpha: 0.2, Beta: 0.1, Theta: 0.7000000000000001, Result: 0.019714227904957953\n",
      "*** New best model found! \n",
      "New best model has MAP: 0.019714227904957953 with alpha: 0.2, beta: 0.1, theta: 0.7000000000000001, norm: 1\n",
      "----\n",
      "EvaluatorHoldout: Processed 40088 (100.0%) in 1.51 min. Users per second: 443\n",
      "Norm: 1, Alpha: 0.2, Beta: 0.2, Theta: 0.6000000000000001, Result: 0.019751906915895717\n",
      "*** New best model found! \n",
      "New best model has MAP: 0.019751906915895717 with alpha: 0.2, beta: 0.2, theta: 0.6000000000000001, norm: 1\n",
      "----\n",
      "EvaluatorHoldout: Processed 40088 (100.0%) in 1.51 min. Users per second: 443\n",
      "Norm: 1, Alpha: 0.2, Beta: 0.3, Theta: 0.5, Result: 0.01975435787299645\n",
      "*** New best model found! \n",
      "New best model has MAP: 0.01975435787299645 with alpha: 0.2, beta: 0.3, theta: 0.5, norm: 1\n",
      "----\n",
      "EvaluatorHoldout: Processed 40088 (100.0%) in 1.83 min. Users per second: 364\n",
      "Norm: 1, Alpha: 0.2, Beta: 0.4, Theta: 0.4, Result: 0.019675086832777005\n",
      "----\n",
      "EvaluatorHoldout: Processed 40088 (100.0%) in 1.54 min. Users per second: 434\n",
      "Norm: 1, Alpha: 0.2, Beta: 0.5, Theta: 0.30000000000000004, Result: 0.01960363984947364\n",
      "----\n",
      "EvaluatorHoldout: Processed 40088 (100.0%) in 1.50 min. Users per second: 445\n",
      "Norm: 1, Alpha: 0.2, Beta: 0.6, Theta: 0.20000000000000007, Result: 0.019490324658766184\n",
      "----\n",
      "EvaluatorHoldout: Processed 40088 (100.0%) in 1.49 min. Users per second: 448\n",
      "Norm: 1, Alpha: 0.2, Beta: 0.7, Theta: 0.10000000000000009, Result: 0.0193478929688016\n",
      "----\n",
      "EvaluatorHoldout: Processed 40088 (100.0%) in 1.50 min. Users per second: 446\n",
      "Norm: 1, Alpha: 0.2, Beta: 0.8, Theta: 0.0, Result: 0.01919320946299058\n",
      "----\n",
      "EvaluatorHoldout: Processed 40088 (100.0%) in 1.51 min. Users per second: 444\n",
      "Norm: 1, Alpha: 0.3, Beta: 0.0, Theta: 0.7, Result: 0.019638083913801948\n",
      "----\n",
      "EvaluatorHoldout: Processed 40088 (100.0%) in 1.50 min. Users per second: 444\n",
      "Norm: 1, Alpha: 0.3, Beta: 0.1, Theta: 0.6, Result: 0.019812861110318797\n",
      "*** New best model found! \n",
      "New best model has MAP: 0.019812861110318797 with alpha: 0.3, beta: 0.1, theta: 0.6, norm: 1\n",
      "----\n",
      "EvaluatorHoldout: Processed 40088 (100.0%) in 1.80 min. Users per second: 371\n",
      "Norm: 1, Alpha: 0.3, Beta: 0.2, Theta: 0.49999999999999994, Result: 0.019812949210149935\n",
      "*** New best model found! \n",
      "New best model has MAP: 0.019812949210149935 with alpha: 0.3, beta: 0.2, theta: 0.49999999999999994, norm: 1\n",
      "----\n",
      "EvaluatorHoldout: Processed 40088 (100.0%) in 1.52 min. Users per second: 440\n",
      "Norm: 1, Alpha: 0.3, Beta: 0.3, Theta: 0.39999999999999997, Result: 0.01981269381962819\n",
      "----\n",
      "EvaluatorHoldout: Processed 40088 (100.0%) in 1.50 min. Users per second: 446\n",
      "Norm: 1, Alpha: 0.3, Beta: 0.4, Theta: 0.29999999999999993, Result: 0.019749544058626167\n",
      "----\n",
      "EvaluatorHoldout: Processed 40088 (100.0%) in 1.49 min. Users per second: 448\n",
      "Norm: 1, Alpha: 0.3, Beta: 0.5, Theta: 0.19999999999999996, Result: 0.01960722422575059\n",
      "----\n",
      "EvaluatorHoldout: Processed 40088 (100.0%) in 1.50 min. Users per second: 445\n",
      "Norm: 1, Alpha: 0.3, Beta: 0.6, Theta: 0.09999999999999998, Result: 0.019526372337998883\n",
      "----\n",
      "EvaluatorHoldout: Processed 40088 (100.0%) in 1.47 min. Users per second: 453\n",
      "Norm: 1, Alpha: 0.3, Beta: 0.7, Theta: 0.0, Result: 0.01938098088966145\n",
      "----\n",
      "EvaluatorHoldout: Processed 40088 (100.0%) in 1.52 min. Users per second: 441\n",
      "Norm: 1, Alpha: 0.4, Beta: 0.0, Theta: 0.6, Result: 0.019707325431669014\n",
      "----\n",
      "EvaluatorHoldout: Processed 40088 (100.0%) in 1.89 min. Users per second: 354\n",
      "Norm: 1, Alpha: 0.4, Beta: 0.1, Theta: 0.5, Result: 0.01980923119929768\n",
      "----\n",
      "EvaluatorHoldout: Processed 40088 (100.0%) in 1.58 min. Users per second: 423\n",
      "Norm: 1, Alpha: 0.4, Beta: 0.2, Theta: 0.39999999999999997, Result: 0.01985422249622227\n",
      "*** New best model found! \n",
      "New best model has MAP: 0.01985422249622227 with alpha: 0.4, beta: 0.2, theta: 0.39999999999999997, norm: 1\n",
      "----\n",
      "EvaluatorHoldout: Processed 40088 (100.0%) in 1.57 min. Users per second: 425\n",
      "Norm: 1, Alpha: 0.4, Beta: 0.3, Theta: 0.3, Result: 0.01981762543040193\n",
      "----\n",
      "EvaluatorHoldout: Processed 40088 (100.0%) in 1.57 min. Users per second: 426\n",
      "Norm: 1, Alpha: 0.4, Beta: 0.4, Theta: 0.19999999999999996, Result: 0.01973724670803562\n",
      "----\n",
      "EvaluatorHoldout: Processed 40088 (100.0%) in 1.57 min. Users per second: 425\n",
      "Norm: 1, Alpha: 0.4, Beta: 0.5, Theta: 0.09999999999999998, Result: 0.019643746060254336\n",
      "----\n",
      "EvaluatorHoldout: Processed 40088 (100.0%) in 1.54 min. Users per second: 433\n",
      "Norm: 1, Alpha: 0.4, Beta: 0.6, Theta: 0.0, Result: 0.01954990588166311\n",
      "----\n",
      "EvaluatorHoldout: Processed 40088 (100.0%) in 1.68 min. Users per second: 397\n",
      "Norm: 1, Alpha: 0.5, Beta: 0.0, Theta: 0.5, Result: 0.019723142815963296\n",
      "----\n",
      "EvaluatorHoldout: Processed 40088 (100.0%) in 1.73 min. Users per second: 386\n",
      "Norm: 1, Alpha: 0.5, Beta: 0.1, Theta: 0.4, Result: 0.019826034509792315\n",
      "----\n",
      "EvaluatorHoldout: Processed 40088 (100.0%) in 1.54 min. Users per second: 433\n",
      "Norm: 1, Alpha: 0.5, Beta: 0.2, Theta: 0.3, Result: 0.019853611736718513\n",
      "----\n",
      "EvaluatorHoldout: Processed 40088 (100.0%) in 1.55 min. Users per second: 430\n",
      "Norm: 1, Alpha: 0.5, Beta: 0.3, Theta: 0.2, Result: 0.019822877764156584\n",
      "----\n",
      "EvaluatorHoldout: Processed 40088 (100.0%) in 1.56 min. Users per second: 429\n",
      "Norm: 1, Alpha: 0.5, Beta: 0.4, Theta: 0.09999999999999998, Result: 0.019744779738543102\n",
      "----\n",
      "EvaluatorHoldout: Processed 40088 (100.0%) in 1.54 min. Users per second: 434\n",
      "Norm: 1, Alpha: 0.5, Beta: 0.5, Theta: 0.0, Result: 0.019650378294735316\n",
      "----\n",
      "EvaluatorHoldout: Processed 40088 (100.0%) in 1.54 min. Users per second: 433\n",
      "Norm: 1, Alpha: 0.6, Beta: 0.0, Theta: 0.4, Result: 0.01971840423290945\n",
      "----\n",
      "EvaluatorHoldout: Processed 40088 (100.0%) in 1.86 min. Users per second: 360\n",
      "Norm: 1, Alpha: 0.6, Beta: 0.1, Theta: 0.30000000000000004, Result: 0.01980238712926755\n",
      "----\n",
      "EvaluatorHoldout: Processed 40088 (100.0%) in 1.59 min. Users per second: 421\n",
      "Norm: 1, Alpha: 0.6, Beta: 0.2, Theta: 0.2, Result: 0.019812382995504717\n",
      "----\n",
      "EvaluatorHoldout: Processed 40088 (100.0%) in 1.60 min. Users per second: 419\n",
      "Norm: 1, Alpha: 0.6, Beta: 0.3, Theta: 0.10000000000000003, Result: 0.019800727090875908\n",
      "----\n",
      "EvaluatorHoldout: Processed 40088 (100.0%) in 1.57 min. Users per second: 424\n",
      "Norm: 1, Alpha: 0.6, Beta: 0.4, Theta: 0.0, Result: 0.019739817441311296\n",
      "----\n",
      "EvaluatorHoldout: Processed 40088 (100.0%) in 1.59 min. Users per second: 419\n",
      "Norm: 1, Alpha: 0.7, Beta: 0.0, Theta: 0.30000000000000004, Result: 0.019697693843385454\n",
      "----\n",
      "EvaluatorHoldout: Processed 40088 (100.0%) in 1.59 min. Users per second: 420\n",
      "Norm: 1, Alpha: 0.7, Beta: 0.1, Theta: 0.20000000000000004, Result: 0.01976366180909891\n",
      "----\n",
      "EvaluatorHoldout: Processed 40088 (100.0%) in 1.68 min. Users per second: 397\n",
      "Norm: 1, Alpha: 0.7, Beta: 0.2, Theta: 0.10000000000000003, Result: 0.01977812502969622\n",
      "----\n",
      "EvaluatorHoldout: Processed 40088 (100.0%) in 1.84 min. Users per second: 363\n",
      "Norm: 1, Alpha: 0.7, Beta: 0.3, Theta: 5.551115123125783e-17, Result: 0.01973900870465895\n",
      "----\n",
      "EvaluatorHoldout: Processed 40088 (100.0%) in 1.61 min. Users per second: 415\n",
      "Norm: 1, Alpha: 0.8, Beta: 0.0, Theta: 0.19999999999999996, Result: 0.01964444689936073\n",
      "----\n",
      "EvaluatorHoldout: Processed 40088 (100.0%) in 1.60 min. Users per second: 417\n",
      "Norm: 1, Alpha: 0.8, Beta: 0.1, Theta: 0.09999999999999995, Result: 0.01969211682710695\n",
      "----\n",
      "EvaluatorHoldout: Processed 40088 (100.0%) in 1.60 min. Users per second: 418\n",
      "Norm: 1, Alpha: 0.8, Beta: 0.2, Theta: -5.551115123125783e-17, Result: 0.019728261515142512\n",
      "----\n",
      "EvaluatorHoldout: Processed 40088 (100.0%) in 1.59 min. Users per second: 420\n",
      "Norm: 1, Alpha: 0.9, Beta: 0.0, Theta: 0.09999999999999998, Result: 0.019591781018267435\n",
      "----\n",
      "EvaluatorHoldout: Processed 40088 (100.0%) in 1.62 min. Users per second: 413\n",
      "Norm: 1, Alpha: 0.9, Beta: 0.1, Theta: -2.7755575615628914e-17, Result: 0.01963714154257424\n",
      "----\n",
      "EvaluatorHoldout: Processed 40088 (100.0%) in 1.81 min. Users per second: 368\n",
      "Norm: 1, Alpha: 1.0, Beta: 0.0, Theta: 0.0, Result: 0.01955257263385604\n",
      "----\n",
      "Best model has MAP: 0.01985422249622227 with alpha: 0.4, beta: 0.2, norm: 1\n"
     ]
    }
   ],
   "source": [
    "recommender_object = DifferentLossScoresHybridRecommender(URM_train, recommender_SLIMElasticNet, recommender_RP3beta, recommender_EaseR)\n",
    "\n",
    "best_model = {\n",
    "    \"MAP\" : 0,\n",
    "    \"alpha\" : 0,\n",
    "    \"beta\" : 0,\n",
    "    \"norm\" : 0\n",
    "}\n",
    "\n",
    "norm = 1\n",
    "for alpha in np.arange(0.0, 1.1, 0.1):\n",
    "    for beta in np.arange(0.0, 1.1, 0.1):\n",
    "            \n",
    "        #truncate digits since np.arange sometimes doesn't\n",
    "        alpha = round(alpha,1)\n",
    "        beta = round(beta,1)\n",
    "            \n",
    "            \n",
    "        #discard cases in which the sum is greater than 1 \n",
    "        if ( (alpha+beta) <= 1): \n",
    "            theta = round(1-alpha-beta,1)\n",
    "            \n",
    "            print(\"----\")\n",
    "            recommender_object.fit(norm, alpha, beta)\n",
    "            result_df, _ = evaluator_validation.evaluateRecommender(recommender_object)\n",
    "            print(\"Norm: {}, Alpha: {}, Beta: {}, Theta: {}, Result: {}\".format(norm, alpha, beta, 1-alpha-beta, result_df.loc[10][\"MAP\"]))\n",
    "\n",
    "            if result_df.loc[10][\"MAP\"] > best_model[\"MAP\"]:\n",
    "                best_model[\"MAP\"] = result_df.loc[10][\"MAP\"]\n",
    "                best_model[\"alpha\"] = alpha\n",
    "                best_model[\"beta\"] = beta\n",
    "                best_model[\"norm\"] = norm\n",
    "\n",
    "                print(\"*** New best model found! \")\n",
    "                print(\"New best model has MAP: {} with alpha: {}, beta: {}, theta: {}, norm: {}\".format(best_model[\"MAP\"], best_model[\"alpha\"], best_model[\"beta\"],\n",
    "                                                                                                        1-best_model[\"alpha\"]-best_model[\"beta\"], best_model[\"norm\"]))\n",
    "print(\"----\")\n",
    "print(\"Best model has MAP: {} with alpha: {}, beta: {}, norm: {}\".format(best_model[\"MAP\"], best_model[\"alpha\"], best_model[\"beta\"], best_model[\"norm\"]))"
   ]
  }
 ],
 "metadata": {
  "kernelspec": {
   "display_name": "Python 3",
   "language": "python",
   "name": "python3"
  },
  "language_info": {
   "codemirror_mode": {
    "name": "ipython",
    "version": 3
   },
   "file_extension": ".py",
   "mimetype": "text/x-python",
   "name": "python",
   "nbconvert_exporter": "python",
   "pygments_lexer": "ipython3",
   "version": "3.7.12"
  },
  "papermill": {
   "default_parameters": {},
   "duration": 8944.487723,
   "end_time": "2023-01-11T02:35:55.191666",
   "environment_variables": {},
   "exception": true,
   "input_path": "__notebook__.ipynb",
   "output_path": "__notebook__.ipynb",
   "parameters": {},
   "start_time": "2023-01-11T00:06:50.703943",
   "version": "2.3.4"
  }
 },
 "nbformat": 4,
 "nbformat_minor": 5
}
