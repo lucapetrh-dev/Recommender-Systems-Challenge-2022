{
 "cells": [
  {
   "cell_type": "code",
   "execution_count": 1,
   "id": "e68ff3e7",
   "metadata": {
    "_cell_guid": "b1076dfc-b9ad-4769-8c92-a6c4dae69d19",
    "_uuid": "8f2839f25d086af736a60e9eeb907d3b93b6e0e5",
    "execution": {
     "iopub.execute_input": "2023-01-13T00:22:36.925835Z",
     "iopub.status.busy": "2023-01-13T00:22:36.924116Z",
     "iopub.status.idle": "2023-01-13T00:22:49.089246Z",
     "shell.execute_reply": "2023-01-13T00:22:49.087777Z"
    },
    "papermill": {
     "duration": 12.175575,
     "end_time": "2023-01-13T00:22:49.092337",
     "exception": false,
     "start_time": "2023-01-13T00:22:36.916762",
     "status": "completed"
    },
    "tags": []
   },
   "outputs": [
    {
     "name": "stdout",
     "output_type": "stream",
     "text": [
      "Cloning into 'Recommender-Systems-Challenge-2022'...\r\n",
      "remote: Enumerating objects: 619, done.\u001B[K\r\n",
      "remote: Counting objects: 100% (215/215), done.\u001B[K\r\n",
      "remote: Compressing objects: 100% (162/162), done.\u001B[K\r\n",
      "remote: Total 619 (delta 107), reused 139 (delta 52), pack-reused 404\u001B[K\r\n",
      "Receiving objects: 100% (619/619), 106.18 MiB | 21.90 MiB/s, done.\r\n",
      "Resolving deltas: 100% (279/279), done.\r\n",
      "Updating files: 100% (254/254), done.\r\n"
     ]
    }
   ],
   "source": [
    "import pandas as pd\n",
    "import numpy as np\n",
    "import scipy.sparse as sps\n",
    "import matplotlib.pyplot as pyplot\n",
    "\n",
    "from Evaluation.Evaluator import EvaluatorHoldout\n",
    "from Data_manager.split_functions.split_train_validation_random_holdout import split_train_in_two_percentage_global_sample\n",
    "from Utils.DataReader import load_urm, load_icm, load_target"
   ]
  },
  {
   "cell_type": "code",
   "execution_count": 2,
   "id": "f10e8d60",
   "metadata": {
    "execution": {
     "iopub.execute_input": "2023-01-13T00:22:49.111199Z",
     "iopub.status.busy": "2023-01-13T00:22:49.110779Z",
     "iopub.status.idle": "2023-01-13T00:22:49.918276Z",
     "shell.execute_reply": "2023-01-13T00:22:49.916986Z"
    },
    "papermill": {
     "duration": 0.820189,
     "end_time": "2023-01-13T00:22:49.921228",
     "exception": false,
     "start_time": "2023-01-13T00:22:49.101039",
     "status": "completed"
    },
    "tags": []
   },
   "outputs": [],
   "source": [
    "ICM_type_df = pd.read_csv(\"Dataset/Edited/data_ICM_type.csv\")\n",
    "ICM_type_df\n",
    "\n",
    "items = ICM_type_df.item_id\n",
    "features = ICM_type_df.feature_id\n",
    "data = ICM_type_df.data\n",
    "ICM_type = sps.csr_matrix((data, (items, features)))\n",
    "ICM_type = ICM_type.astype(dtype = np.int32)\n",
    "ICM_type.shape\n",
    "\n",
    "n_users = 41629\n",
    "n_itemsFromICM = ICM_type.shape[0]\n",
    "\n",
    "URM_all_dataframe = pd.read_csv(\"Dataset/Edited/URM_Binary_Ratings.csv\")\n",
    "URM_all_dataframe.columns = [\"UserID\", \"ItemID\", \"Data\"]\n",
    "URM_all = sps.coo_matrix((URM_all_dataframe[\"Data\"].values, \n",
    "                          (URM_all_dataframe[\"UserID\"].values, URM_all_dataframe[\"ItemID\"].values)), shape=(n_users,n_itemsFromICM))\n",
    "URM_all = URM_all.tocsr() # to obtain fast access to rows (users)"
   ]
  },
  {
   "cell_type": "code",
   "execution_count": 3,
   "id": "5ce1f024",
   "metadata": {
    "execution": {
     "iopub.execute_input": "2023-01-13T00:22:49.939785Z",
     "iopub.status.busy": "2023-01-13T00:22:49.938820Z",
     "iopub.status.idle": "2023-01-13T00:22:50.011602Z",
     "shell.execute_reply": "2023-01-13T00:22:50.010253Z"
    },
    "papermill": {
     "duration": 0.085202,
     "end_time": "2023-01-13T00:22:50.014518",
     "exception": false,
     "start_time": "2023-01-13T00:22:49.929316",
     "status": "completed"
    },
    "tags": []
   },
   "outputs": [],
   "source": [
    "UCM_all = sps.vstack([URM_all, ICM_type.T])\n",
    "UCM_all = sps.csr_matrix(UCM_all)"
   ]
  },
  {
   "cell_type": "code",
   "execution_count": 4,
   "id": "c4010ffd",
   "metadata": {
    "execution": {
     "iopub.execute_input": "2023-01-13T00:22:50.033136Z",
     "iopub.status.busy": "2023-01-13T00:22:50.032665Z",
     "iopub.status.idle": "2023-01-13T00:22:55.852451Z",
     "shell.execute_reply": "2023-01-13T00:22:55.850918Z"
    },
    "papermill": {
     "duration": 5.833079,
     "end_time": "2023-01-13T00:22:55.855880",
     "exception": false,
     "start_time": "2023-01-13T00:22:50.022801",
     "status": "completed"
    },
    "tags": []
   },
   "outputs": [
    {
     "name": "stdout",
     "output_type": "stream",
     "text": [
      "Warning: 3 (0.01 %) of 41637 users have no train items\n",
      "Warning: 929 (2.23 %) of 41637 users have no sampled items\n",
      "Warning: 3 (0.01 %) of 41637 users have no train items\n",
      "Warning: 1489 (3.58 %) of 41637 users have no sampled items\n",
      "EvaluatorHoldout: Ignoring 1541 ( 3.7%) Users that have less than 1 test interactions\n",
      "EvaluatorHoldout: Ignoring 958 ( 2.3%) Users that have less than 1 test interactions\n",
      "EvaluatorHoldout: Ignoring 1489 ( 3.6%) Users that have less than 1 test interactions\n",
      "EvaluatorHoldout: Ignoring 929 ( 2.2%) Users that have less than 1 test interactions\n"
     ]
    }
   ],
   "source": [
    "URM_train = sps.load_npz('Dataset/Split/URM_train.npz')\n",
    "URM_test =  sps.load_npz('Dataset/Split/URM_test.npz')\n",
    "URM_validation = sps.load_npz('Dataset/Split/URM_validation.npz')\n",
    "\n",
    "UCM_train, UCM_test = split_train_in_two_percentage_global_sample(UCM_all, train_percentage = 0.85)\n",
    "UCM_train, UCM_validation = split_train_in_two_percentage_global_sample(UCM_train, train_percentage = 0.85)\n",
    "\n",
    "evaluator_URM_validation = EvaluatorHoldout(URM_validation, cutoff_list=[10])\n",
    "evaluator_URM_test = EvaluatorHoldout(URM_test, cutoff_list=[10])\n",
    "evaluator_UCM_validation = EvaluatorHoldout(UCM_validation, cutoff_list=[10])\n",
    "evaluator_UCM_test = EvaluatorHoldout(UCM_test, cutoff_list=[10])"
   ]
  },
  {
   "cell_type": "code",
   "execution_count": 5,
   "id": "abd179d5",
   "metadata": {
    "execution": {
     "iopub.execute_input": "2023-01-13T00:22:55.874974Z",
     "iopub.status.busy": "2023-01-13T00:22:55.874567Z",
     "iopub.status.idle": "2023-01-13T00:23:29.656663Z",
     "shell.execute_reply": "2023-01-13T00:23:29.655004Z"
    },
    "papermill": {
     "duration": 33.795449,
     "end_time": "2023-01-13T00:23:29.659789",
     "exception": false,
     "start_time": "2023-01-13T00:22:55.864340",
     "status": "completed"
    },
    "tags": []
   },
   "outputs": [
    {
     "name": "stdout",
     "output_type": "stream",
     "text": [
      "RP3betaRecommender: URM Detected 3 ( 0.0%) users with no interactions.\n",
      "RP3betaRecommender: URM Detected 914 ( 3.3%) items with no interactions.\n",
      "RP3betaRecommender: Similarity column 27968 (100.0%), 884.57 column/sec. Elapsed time 31.62 sec\n"
     ]
    }
   ],
   "source": [
    "from Recommenders.GraphBased.RP3betaRecommender import RP3betaRecommender\n",
    "\n",
    "recommender_RP3beta = RP3betaRecommender(UCM_train)\n",
    "recommender_RP3beta.fit(alpha=0.6949339074999242, beta=0.2853519331891143, topK=59, implicit=True)"
   ]
  },
  {
   "cell_type": "code",
   "execution_count": 6,
   "id": "103f7f1c",
   "metadata": {
    "execution": {
     "iopub.execute_input": "2023-01-13T00:23:29.679070Z",
     "iopub.status.busy": "2023-01-13T00:23:29.678654Z",
     "iopub.status.idle": "2023-01-13T00:24:02.193048Z",
     "shell.execute_reply": "2023-01-13T00:24:02.191548Z"
    },
    "papermill": {
     "duration": 32.527867,
     "end_time": "2023-01-13T00:24:02.196599",
     "exception": false,
     "start_time": "2023-01-13T00:23:29.668732",
     "status": "completed"
    },
    "tags": []
   },
   "outputs": [
    {
     "name": "stdout",
     "output_type": "stream",
     "text": [
      "EvaluatorHoldout: Processed 40148 (100.0%) in 32.48 sec. Users per second: 1236\n",
      "RP3beta - MAP: 0.01871290115461654\n"
     ]
    }
   ],
   "source": [
    "result_df, _ = evaluator_UCM_validation.evaluateRecommender(recommender_RP3beta)\n",
    "print(\"RP3beta - MAP: {}\".format(result_df.loc[10][\"MAP\"]))"
   ]
  },
  {
   "cell_type": "code",
   "execution_count": 7,
   "id": "3db5b222",
   "metadata": {
    "execution": {
     "iopub.execute_input": "2023-01-13T00:24:02.216256Z",
     "iopub.status.busy": "2023-01-13T00:24:02.215728Z",
     "iopub.status.idle": "2023-01-13T01:12:00.316527Z",
     "shell.execute_reply": "2023-01-13T01:12:00.314777Z"
    },
    "papermill": {
     "duration": 2878.114455,
     "end_time": "2023-01-13T01:12:00.319683",
     "exception": false,
     "start_time": "2023-01-13T00:24:02.205228",
     "status": "completed"
    },
    "tags": []
   },
   "outputs": [
    {
     "name": "stdout",
     "output_type": "stream",
     "text": [
      "SLIMElasticNetRecommender: URM Detected 3 ( 0.0%) users with no interactions.\n",
      "SLIMElasticNetRecommender: URM Detected 914 ( 3.3%) items with no interactions.\n",
      "SLIMElasticNetRecommender: Processed 3397 (12.1%) in 5.00 min. Items per second: 11.32\n",
      "SLIMElasticNetRecommender: Processed 7049 (25.2%) in 10.00 min. Items per second: 11.75\n",
      "SLIMElasticNetRecommender: Processed 10793 (38.6%) in 15.00 min. Items per second: 11.99\n",
      "SLIMElasticNetRecommender: Processed 14527 (51.9%) in 20.00 min. Items per second: 12.10\n",
      "SLIMElasticNetRecommender: Processed 18243 (65.2%) in 25.00 min. Items per second: 12.16\n",
      "SLIMElasticNetRecommender: Processed 21986 (78.6%) in 30.00 min. Items per second: 12.21\n",
      "SLIMElasticNetRecommender: Processed 24893 (89.0%) in 35.00 min. Items per second: 11.85\n",
      "SLIMElasticNetRecommender: Processed 26094 (93.3%) in 40.01 min. Items per second: 10.87\n",
      "SLIMElasticNetRecommender: Processed 27275 (97.5%) in 45.01 min. Items per second: 10.10\n",
      "SLIMElasticNetRecommender: Processed 27968 (100.0%) in 47.96 min. Items per second: 9.72\n"
     ]
    }
   ],
   "source": [
    "from Recommenders.SLIM.SLIMElasticNetRecommender import SLIMElasticNetRecommender\n",
    "\n",
    "recommender_SLIMElasticNet = SLIMElasticNetRecommender(UCM_train)\n",
    "recommender_SLIMElasticNet.fit(topK=585, l1_ratio=0.009929794168572358, alpha=0.0018687691383859428)"
   ]
  },
  {
   "cell_type": "code",
   "execution_count": 8,
   "id": "9e5446b0",
   "metadata": {
    "execution": {
     "iopub.execute_input": "2023-01-13T01:12:00.340219Z",
     "iopub.status.busy": "2023-01-13T01:12:00.339455Z",
     "iopub.status.idle": "2023-01-13T01:12:54.522245Z",
     "shell.execute_reply": "2023-01-13T01:12:54.520933Z"
    },
    "papermill": {
     "duration": 54.196305,
     "end_time": "2023-01-13T01:12:54.525218",
     "exception": false,
     "start_time": "2023-01-13T01:12:00.328913",
     "status": "completed"
    },
    "tags": []
   },
   "outputs": [
    {
     "name": "stdout",
     "output_type": "stream",
     "text": [
      "EvaluatorHoldout: Processed 40148 (100.0%) in 54.16 sec. Users per second: 741\n",
      "SLIM ElasticNet - MAP: 0.019686434003709733\n"
     ]
    }
   ],
   "source": [
    "result_df, _ = evaluator_UCM_validation.evaluateRecommender(recommender_SLIMElasticNet)\n",
    "print(\"SLIM ElasticNet - MAP: {}\".format(result_df.loc[10][\"MAP\"]))"
   ]
  },
  {
   "cell_type": "code",
   "execution_count": 9,
   "id": "4909b362",
   "metadata": {
    "execution": {
     "iopub.execute_input": "2023-01-13T01:12:54.546443Z",
     "iopub.status.busy": "2023-01-13T01:12:54.545595Z",
     "iopub.status.idle": "2023-01-13T01:28:42.354344Z",
     "shell.execute_reply": "2023-01-13T01:28:42.353198Z"
    },
    "papermill": {
     "duration": 947.822482,
     "end_time": "2023-01-13T01:28:42.357144",
     "exception": false,
     "start_time": "2023-01-13T01:12:54.534662",
     "status": "completed"
    },
    "tags": []
   },
   "outputs": [
    {
     "name": "stdout",
     "output_type": "stream",
     "text": [
      "EASE_R_Recommender: URM Detected 3 ( 0.0%) users with no interactions.\n",
      "EASE_R_Recommender: URM Detected 914 ( 3.3%) items with no interactions.\n",
      "EASE_R_Recommender: Fitting model... \n",
      "EASE_R_Recommender: Fitting model... done in 15.77 min\n"
     ]
    }
   ],
   "source": [
    "from Recommenders.EASE_R.EASE_R_Recommender import EASE_R_Recommender\n",
    "\n",
    "recommender_EaseR = EASE_R_Recommender(UCM_train)\n",
    "recommender_EaseR.fit(topK=None, normalize_matrix=False, l2_norm=225.7403645195658)"
   ]
  },
  {
   "cell_type": "code",
   "execution_count": 10,
   "id": "138b33d0",
   "metadata": {
    "execution": {
     "iopub.execute_input": "2023-01-13T01:28:42.377704Z",
     "iopub.status.busy": "2023-01-13T01:28:42.377237Z",
     "iopub.status.idle": "2023-01-13T01:29:36.389448Z",
     "shell.execute_reply": "2023-01-13T01:29:36.388176Z"
    },
    "papermill": {
     "duration": 54.025341,
     "end_time": "2023-01-13T01:29:36.391890",
     "exception": false,
     "start_time": "2023-01-13T01:28:42.366549",
     "status": "completed"
    },
    "tags": []
   },
   "outputs": [
    {
     "name": "stdout",
     "output_type": "stream",
     "text": [
      "EvaluatorHoldout: Processed 40148 (100.0%) in 53.99 sec. Users per second: 744\n",
      "EaseR - MAP: 0.0189714593701713\n"
     ]
    }
   ],
   "source": [
    "result_df, _ = evaluator_UCM_validation.evaluateRecommender(recommender_EaseR)\n",
    "print(\"EaseR - MAP: {}\".format(result_df.loc[10][\"MAP\"]))"
   ]
  },
  {
   "cell_type": "code",
   "execution_count": 11,
   "id": "4780f821",
   "metadata": {
    "execution": {
     "iopub.execute_input": "2023-01-13T01:29:36.413105Z",
     "iopub.status.busy": "2023-01-13T01:29:36.412715Z",
     "iopub.status.idle": "2023-01-13T01:29:36.427379Z",
     "shell.execute_reply": "2023-01-13T01:29:36.425997Z"
    },
    "papermill": {
     "duration": 0.028472,
     "end_time": "2023-01-13T01:29:36.429923",
     "exception": false,
     "start_time": "2023-01-13T01:29:36.401451",
     "status": "completed"
    },
    "tags": []
   },
   "outputs": [],
   "source": [
    "from numpy import linalg as LA\n",
    "from Recommenders.BaseRecommender import BaseRecommender\n",
    "\n",
    "class DifferentLossScoresHybridRecommender(BaseRecommender):\n",
    "    \"\"\" ScoresHybridRecommender\n",
    "    Hybrid of three predictions scores\n",
    "    R = R1*alpha + R2*beta + R3*(1-alpha-beta)\n",
    "    \n",
    "    Class from Dacrema exercise modified by Antonio Ercolani\n",
    "    The original took as input 2 recommender\n",
    "\n",
    "    \"\"\"\n",
    "\n",
    "    RECOMMENDER_NAME = \"DifferentLossScoresHybridRecommender\"\n",
    "\n",
    "\n",
    "    def __init__(self, URM_train, recommender_1, recommender_2, recommender_3):\n",
    "        super(DifferentLossScoresHybridRecommender, self).__init__(URM_train)\n",
    "\n",
    "        self.URM_train = sps.csr_matrix(URM_train)\n",
    "        self.recommender_1 = recommender_1\n",
    "        self.recommender_2 = recommender_2\n",
    "        self.recommender_3 = recommender_3\n",
    "        \n",
    "        \n",
    "        \n",
    "    def fit(self, norm, alpha = 0.5, beta = 0.5):\n",
    "\n",
    "        self.alpha = alpha\n",
    "        self.beta = beta\n",
    "        self.norm = norm\n",
    "\n",
    "\n",
    "    def _compute_item_score(self, user_id_array, items_to_compute):\n",
    "        \n",
    "        item_weights_1 = self.recommender_1._compute_item_score(user_id_array)\n",
    "        item_weights_2 = self.recommender_2._compute_item_score(user_id_array)\n",
    "        item_weights_3 = self.recommender_3._compute_item_score(user_id_array)\n",
    "\n",
    "        norm_item_weights_1 = LA.norm(item_weights_1, self.norm)\n",
    "        norm_item_weights_2 = LA.norm(item_weights_2, self.norm)\n",
    "        norm_item_weights_3 = LA.norm(item_weights_3, self.norm)\n",
    "        \n",
    "        \n",
    "        if norm_item_weights_1 == 0:\n",
    "            raise ValueError(\"Norm {} of item weights for recommender 1 is zero. Avoiding division by zero\".format(self.norm))\n",
    "        \n",
    "        if norm_item_weights_2 == 0:\n",
    "            raise ValueError(\"Norm {} of item weights for recommender 2 is zero. Avoiding division by zero\".format(self.norm))\n",
    "            \n",
    "        if norm_item_weights_3 == 0:\n",
    "            raise ValueError(\"Norm {} of item weights for recommender 3 is zero. Avoiding division by zero\".format(self.norm))\n",
    "        \n",
    "        item_weights = item_weights_1 / norm_item_weights_1 * self.alpha + item_weights_2 / norm_item_weights_2 * self.beta + item_weights_3 / norm_item_weights_3 * (1-self.alpha-self.beta)\n",
    "\n",
    "        return item_weights"
   ]
  },
  {
   "cell_type": "code",
   "execution_count": 12,
   "id": "78c1e9e0",
   "metadata": {
    "execution": {
     "iopub.execute_input": "2023-01-13T01:29:36.451590Z",
     "iopub.status.busy": "2023-01-13T01:29:36.451174Z",
     "iopub.status.idle": "2023-01-13T03:18:59.223576Z",
     "shell.execute_reply": "2023-01-13T03:18:59.221245Z"
    },
    "papermill": {
     "duration": 6562.791258,
     "end_time": "2023-01-13T03:18:59.231190",
     "exception": false,
     "start_time": "2023-01-13T01:29:36.439932",
     "status": "completed"
    },
    "tags": []
   },
   "outputs": [
    {
     "name": "stdout",
     "output_type": "stream",
     "text": [
      "DifferentLossScoresHybridRecommender: URM Detected 3 ( 0.0%) users with no interactions.\n",
      "DifferentLossScoresHybridRecommender: URM Detected 914 ( 3.3%) items with no interactions.\n",
      "----\n",
      "EvaluatorHoldout: Processed 40148 (100.0%) in 1.48 min. Users per second: 451\n",
      "Norm: 1, Alpha: 0.0, Beta: 0.0, Theta: 1.0, Result: 0.01871290115461654\n",
      "*** New best model found! \n",
      "New best model has MAP: 0.01871290115461654 with alpha: 0.0, beta: 0.0, theta: 1.0, norm: 1\n",
      "----\n",
      "EvaluatorHoldout: Processed 40148 (100.0%) in 1.62 min. Users per second: 414\n",
      "Norm: 1, Alpha: 0.0, Beta: 0.1, Theta: 0.9, Result: 0.018932654535361762\n",
      "*** New best model found! \n",
      "New best model has MAP: 0.018932654535361762 with alpha: 0.0, beta: 0.1, theta: 0.9, norm: 1\n",
      "----\n",
      "EvaluatorHoldout: Processed 40148 (100.0%) in 1.62 min. Users per second: 413\n",
      "Norm: 1, Alpha: 0.0, Beta: 0.2, Theta: 0.8, Result: 0.019118747736549077\n",
      "*** New best model found! \n",
      "New best model has MAP: 0.019118747736549077 with alpha: 0.0, beta: 0.2, theta: 0.8, norm: 1\n",
      "----\n",
      "EvaluatorHoldout: Processed 40148 (100.0%) in 1.63 min. Users per second: 410\n",
      "Norm: 1, Alpha: 0.0, Beta: 0.3, Theta: 0.7, Result: 0.019253537704145125\n",
      "*** New best model found! \n",
      "New best model has MAP: 0.019253537704145125 with alpha: 0.0, beta: 0.3, theta: 0.7, norm: 1\n",
      "----\n",
      "EvaluatorHoldout: Processed 40148 (100.0%) in 1.63 min. Users per second: 411\n",
      "Norm: 1, Alpha: 0.0, Beta: 0.4, Theta: 0.6, Result: 0.019425400818558376\n",
      "*** New best model found! \n",
      "New best model has MAP: 0.019425400818558376 with alpha: 0.0, beta: 0.4, theta: 0.6, norm: 1\n",
      "----\n",
      "EvaluatorHoldout: Processed 40148 (100.0%) in 1.81 min. Users per second: 369\n",
      "Norm: 1, Alpha: 0.0, Beta: 0.5, Theta: 0.5, Result: 0.019526459441336606\n",
      "*** New best model found! \n",
      "New best model has MAP: 0.019526459441336606 with alpha: 0.0, beta: 0.5, theta: 0.5, norm: 1\n",
      "----\n",
      "EvaluatorHoldout: Processed 40148 (100.0%) in 1.64 min. Users per second: 409\n",
      "Norm: 1, Alpha: 0.0, Beta: 0.6, Theta: 0.4, Result: 0.019612229394098603\n",
      "*** New best model found! \n",
      "New best model has MAP: 0.019612229394098603 with alpha: 0.0, beta: 0.6, theta: 0.4, norm: 1\n",
      "----\n",
      "EvaluatorHoldout: Processed 40148 (100.0%) in 1.64 min. Users per second: 409\n",
      "Norm: 1, Alpha: 0.0, Beta: 0.7, Theta: 0.30000000000000004, Result: 0.019663240059398894\n",
      "*** New best model found! \n",
      "New best model has MAP: 0.019663240059398894 with alpha: 0.0, beta: 0.7, theta: 0.30000000000000004, norm: 1\n",
      "----\n",
      "EvaluatorHoldout: Processed 40148 (100.0%) in 1.63 min. Users per second: 411\n",
      "Norm: 1, Alpha: 0.0, Beta: 0.8, Theta: 0.19999999999999996, Result: 0.01955709114372025\n",
      "----\n",
      "EvaluatorHoldout: Processed 40148 (100.0%) in 1.63 min. Users per second: 410\n",
      "Norm: 1, Alpha: 0.0, Beta: 0.9, Theta: 0.09999999999999998, Result: 0.019371245044130077\n",
      "----\n",
      "EvaluatorHoldout: Processed 40148 (100.0%) in 1.63 min. Users per second: 411\n",
      "Norm: 1, Alpha: 0.0, Beta: 1.0, Theta: 0.0, Result: 0.0189714593701713\n",
      "----\n",
      "EvaluatorHoldout: Processed 40148 (100.0%) in 1.63 min. Users per second: 411\n",
      "Norm: 1, Alpha: 0.1, Beta: 0.0, Theta: 0.9, Result: 0.019011322788223026\n",
      "----\n",
      "EvaluatorHoldout: Processed 40148 (100.0%) in 1.86 min. Users per second: 360\n",
      "Norm: 1, Alpha: 0.1, Beta: 0.1, Theta: 0.8, Result: 0.019195404582409887\n",
      "----\n",
      "EvaluatorHoldout: Processed 40148 (100.0%) in 1.62 min. Users per second: 413\n",
      "Norm: 1, Alpha: 0.1, Beta: 0.2, Theta: 0.7, Result: 0.019374110434250122\n",
      "----\n",
      "EvaluatorHoldout: Processed 40148 (100.0%) in 1.63 min. Users per second: 411\n",
      "Norm: 1, Alpha: 0.1, Beta: 0.3, Theta: 0.6000000000000001, Result: 0.019507755827248365\n",
      "----\n",
      "EvaluatorHoldout: Processed 40148 (100.0%) in 1.64 min. Users per second: 409\n",
      "Norm: 1, Alpha: 0.1, Beta: 0.4, Theta: 0.5, Result: 0.019608767006519975\n",
      "----\n",
      "EvaluatorHoldout: Processed 40148 (100.0%) in 1.65 min. Users per second: 405\n",
      "Norm: 1, Alpha: 0.1, Beta: 0.5, Theta: 0.4, Result: 0.019725278374774915\n",
      "*** New best model found! \n",
      "New best model has MAP: 0.019725278374774915 with alpha: 0.1, beta: 0.5, theta: 0.4, norm: 1\n",
      "----\n",
      "EvaluatorHoldout: Processed 40148 (100.0%) in 1.64 min. Users per second: 409\n",
      "Norm: 1, Alpha: 0.1, Beta: 0.6, Theta: 0.30000000000000004, Result: 0.01977788037436054\n",
      "*** New best model found! \n",
      "New best model has MAP: 0.01977788037436054 with alpha: 0.1, beta: 0.6, theta: 0.30000000000000004, norm: 1\n",
      "----\n",
      "EvaluatorHoldout: Processed 40148 (100.0%) in 1.90 min. Users per second: 353\n",
      "Norm: 1, Alpha: 0.1, Beta: 0.7, Theta: 0.20000000000000007, Result: 0.019681100562837728\n",
      "----\n",
      "EvaluatorHoldout: Processed 40148 (100.0%) in 1.64 min. Users per second: 409\n",
      "Norm: 1, Alpha: 0.1, Beta: 0.8, Theta: 0.09999999999999998, Result: 0.019548311129771873\n",
      "----\n",
      "EvaluatorHoldout: Processed 40148 (100.0%) in 1.64 min. Users per second: 408\n",
      "Norm: 1, Alpha: 0.1, Beta: 0.9, Theta: 0.0, Result: 0.01923564161807623\n",
      "----\n",
      "EvaluatorHoldout: Processed 40148 (100.0%) in 1.62 min. Users per second: 413\n",
      "Norm: 1, Alpha: 0.2, Beta: 0.0, Theta: 0.8, Result: 0.019274929783609885\n",
      "----\n",
      "EvaluatorHoldout: Processed 40148 (100.0%) in 1.64 min. Users per second: 407\n",
      "Norm: 1, Alpha: 0.2, Beta: 0.1, Theta: 0.7000000000000001, Result: 0.019402301761260843\n",
      "----\n",
      "EvaluatorHoldout: Processed 40148 (100.0%) in 1.64 min. Users per second: 407\n",
      "Norm: 1, Alpha: 0.2, Beta: 0.2, Theta: 0.6000000000000001, Result: 0.01955241795831578\n",
      "----\n",
      "EvaluatorHoldout: Processed 40148 (100.0%) in 1.94 min. Users per second: 345\n",
      "Norm: 1, Alpha: 0.2, Beta: 0.3, Theta: 0.5, Result: 0.019670332863642295\n",
      "----\n",
      "EvaluatorHoldout: Processed 40148 (100.0%) in 1.65 min. Users per second: 405\n",
      "Norm: 1, Alpha: 0.2, Beta: 0.4, Theta: 0.4, Result: 0.019794101111600976\n",
      "*** New best model found! \n",
      "New best model has MAP: 0.019794101111600976 with alpha: 0.2, beta: 0.4, theta: 0.4, norm: 1\n",
      "----\n",
      "EvaluatorHoldout: Processed 40148 (100.0%) in 1.65 min. Users per second: 405\n",
      "Norm: 1, Alpha: 0.2, Beta: 0.5, Theta: 0.30000000000000004, Result: 0.019827490467808413\n",
      "*** New best model found! \n",
      "New best model has MAP: 0.019827490467808413 with alpha: 0.2, beta: 0.5, theta: 0.30000000000000004, norm: 1\n",
      "----\n",
      "EvaluatorHoldout: Processed 40148 (100.0%) in 1.65 min. Users per second: 405\n",
      "Norm: 1, Alpha: 0.2, Beta: 0.6, Theta: 0.20000000000000007, Result: 0.019760422152321773\n",
      "----\n",
      "EvaluatorHoldout: Processed 40148 (100.0%) in 1.65 min. Users per second: 405\n",
      "Norm: 1, Alpha: 0.2, Beta: 0.7, Theta: 0.10000000000000009, Result: 0.01968045019143422\n",
      "----\n",
      "EvaluatorHoldout: Processed 40148 (100.0%) in 1.65 min. Users per second: 405\n",
      "Norm: 1, Alpha: 0.2, Beta: 0.8, Theta: 0.0, Result: 0.019452004764909124\n",
      "----\n",
      "EvaluatorHoldout: Processed 40148 (100.0%) in 1.93 min. Users per second: 346\n",
      "Norm: 1, Alpha: 0.3, Beta: 0.0, Theta: 0.7, Result: 0.01946792008457566\n",
      "----\n",
      "EvaluatorHoldout: Processed 40148 (100.0%) in 1.65 min. Users per second: 407\n",
      "Norm: 1, Alpha: 0.3, Beta: 0.1, Theta: 0.6, Result: 0.019585060079293618\n",
      "----\n",
      "EvaluatorHoldout: Processed 40148 (100.0%) in 1.65 min. Users per second: 406\n",
      "Norm: 1, Alpha: 0.3, Beta: 0.2, Theta: 0.49999999999999994, Result: 0.019712448859853154\n",
      "----\n",
      "EvaluatorHoldout: Processed 40148 (100.0%) in 1.65 min. Users per second: 406\n",
      "Norm: 1, Alpha: 0.3, Beta: 0.3, Theta: 0.39999999999999997, Result: 0.019799340653866043\n",
      "----\n",
      "EvaluatorHoldout: Processed 40148 (100.0%) in 1.64 min. Users per second: 407\n",
      "Norm: 1, Alpha: 0.3, Beta: 0.4, Theta: 0.29999999999999993, Result: 0.019850967096346293\n",
      "*** New best model found! \n",
      "New best model has MAP: 0.019850967096346293 with alpha: 0.3, beta: 0.4, theta: 0.29999999999999993, norm: 1\n",
      "----\n",
      "EvaluatorHoldout: Processed 40148 (100.0%) in 1.65 min. Users per second: 405\n",
      "Norm: 1, Alpha: 0.3, Beta: 0.5, Theta: 0.19999999999999996, Result: 0.019826310310580665\n",
      "----\n",
      "EvaluatorHoldout: Processed 40148 (100.0%) in 1.65 min. Users per second: 406\n",
      "Norm: 1, Alpha: 0.3, Beta: 0.6, Theta: 0.09999999999999998, Result: 0.01973510511108863\n",
      "----\n",
      "EvaluatorHoldout: Processed 40148 (100.0%) in 1.64 min. Users per second: 409\n",
      "Norm: 1, Alpha: 0.3, Beta: 0.7, Theta: 0.0, Result: 0.019555795342945\n",
      "----\n",
      "EvaluatorHoldout: Processed 40148 (100.0%) in 1.63 min. Users per second: 411\n",
      "Norm: 1, Alpha: 0.4, Beta: 0.0, Theta: 0.6, Result: 0.019621137900877494\n",
      "----\n",
      "EvaluatorHoldout: Processed 40148 (100.0%) in 1.64 min. Users per second: 409\n",
      "Norm: 1, Alpha: 0.4, Beta: 0.1, Theta: 0.5, Result: 0.019737416005224762\n",
      "----\n",
      "EvaluatorHoldout: Processed 40148 (100.0%) in 1.65 min. Users per second: 405\n",
      "Norm: 1, Alpha: 0.4, Beta: 0.2, Theta: 0.39999999999999997, Result: 0.019807340815173977\n",
      "----\n",
      "EvaluatorHoldout: Processed 40148 (100.0%) in 1.65 min. Users per second: 407\n",
      "Norm: 1, Alpha: 0.4, Beta: 0.3, Theta: 0.3, Result: 0.019871998407479264\n",
      "*** New best model found! \n",
      "New best model has MAP: 0.019871998407479264 with alpha: 0.4, beta: 0.3, theta: 0.3, norm: 1\n",
      "----\n",
      "EvaluatorHoldout: Processed 40148 (100.0%) in 1.65 min. Users per second: 407\n",
      "Norm: 1, Alpha: 0.4, Beta: 0.4, Theta: 0.19999999999999996, Result: 0.019871617871019702\n",
      "----\n",
      "EvaluatorHoldout: Processed 40148 (100.0%) in 1.64 min. Users per second: 407\n",
      "Norm: 1, Alpha: 0.4, Beta: 0.5, Theta: 0.09999999999999998, Result: 0.019794633862644326\n",
      "----\n",
      "EvaluatorHoldout: Processed 40148 (100.0%) in 1.64 min. Users per second: 408\n",
      "Norm: 1, Alpha: 0.4, Beta: 0.6, Theta: 0.0, Result: 0.01963132145189742\n",
      "----\n",
      "EvaluatorHoldout: Processed 40148 (100.0%) in 1.64 min. Users per second: 408\n",
      "Norm: 1, Alpha: 0.5, Beta: 0.0, Theta: 0.5, Result: 0.01973936613102914\n",
      "----\n",
      "EvaluatorHoldout: Processed 40148 (100.0%) in 1.63 min. Users per second: 409\n",
      "Norm: 1, Alpha: 0.5, Beta: 0.1, Theta: 0.4, Result: 0.019826656252816616\n",
      "----\n",
      "EvaluatorHoldout: Processed 40148 (100.0%) in 1.64 min. Users per second: 409\n",
      "Norm: 1, Alpha: 0.5, Beta: 0.2, Theta: 0.3, Result: 0.019879246391525614\n",
      "*** New best model found! \n",
      "New best model has MAP: 0.019879246391525614 with alpha: 0.5, beta: 0.2, theta: 0.3, norm: 1\n",
      "----\n",
      "EvaluatorHoldout: Processed 40148 (100.0%) in 1.65 min. Users per second: 406\n",
      "Norm: 1, Alpha: 0.5, Beta: 0.3, Theta: 0.2, Result: 0.019898447174027206\n",
      "*** New best model found! \n",
      "New best model has MAP: 0.019898447174027206 with alpha: 0.5, beta: 0.3, theta: 0.2, norm: 1\n",
      "----\n",
      "EvaluatorHoldout: Processed 40148 (100.0%) in 1.65 min. Users per second: 406\n",
      "Norm: 1, Alpha: 0.5, Beta: 0.4, Theta: 0.09999999999999998, Result: 0.019840359518985648\n",
      "----\n",
      "EvaluatorHoldout: Processed 40148 (100.0%) in 1.64 min. Users per second: 409\n",
      "Norm: 1, Alpha: 0.5, Beta: 0.5, Theta: 0.0, Result: 0.019698504422525173\n",
      "----\n",
      "EvaluatorHoldout: Processed 40148 (100.0%) in 1.62 min. Users per second: 413\n",
      "Norm: 1, Alpha: 0.6, Beta: 0.0, Theta: 0.4, Result: 0.019814889274762416\n",
      "----\n",
      "EvaluatorHoldout: Processed 40148 (100.0%) in 1.65 min. Users per second: 405\n",
      "Norm: 1, Alpha: 0.6, Beta: 0.1, Theta: 0.30000000000000004, Result: 0.019859041388133398\n",
      "----\n",
      "EvaluatorHoldout: Processed 40148 (100.0%) in 1.65 min. Users per second: 406\n",
      "Norm: 1, Alpha: 0.6, Beta: 0.2, Theta: 0.2, Result: 0.019894733731225855\n",
      "----\n",
      "EvaluatorHoldout: Processed 40148 (100.0%) in 1.66 min. Users per second: 404\n",
      "Norm: 1, Alpha: 0.6, Beta: 0.3, Theta: 0.10000000000000003, Result: 0.01985287175545675\n",
      "----\n",
      "EvaluatorHoldout: Processed 40148 (100.0%) in 1.65 min. Users per second: 405\n",
      "Norm: 1, Alpha: 0.6, Beta: 0.4, Theta: 0.0, Result: 0.019725225989236202\n",
      "----\n",
      "EvaluatorHoldout: Processed 40148 (100.0%) in 1.62 min. Users per second: 413\n",
      "Norm: 1, Alpha: 0.7, Beta: 0.0, Theta: 0.30000000000000004, Result: 0.019860407365762202\n",
      "----\n",
      "EvaluatorHoldout: Processed 40148 (100.0%) in 1.65 min. Users per second: 406\n",
      "Norm: 1, Alpha: 0.7, Beta: 0.1, Theta: 0.20000000000000004, Result: 0.019891261459583292\n",
      "----\n",
      "EvaluatorHoldout: Processed 40148 (100.0%) in 1.65 min. Users per second: 406\n",
      "Norm: 1, Alpha: 0.7, Beta: 0.2, Theta: 0.10000000000000003, Result: 0.019883380895448353\n",
      "----\n",
      "EvaluatorHoldout: Processed 40148 (100.0%) in 1.65 min. Users per second: 407\n",
      "Norm: 1, Alpha: 0.7, Beta: 0.3, Theta: 5.551115123125783e-17, Result: 0.01977118194426608\n",
      "----\n",
      "EvaluatorHoldout: Processed 40148 (100.0%) in 1.63 min. Users per second: 410\n",
      "Norm: 1, Alpha: 0.8, Beta: 0.0, Theta: 0.19999999999999996, Result: 0.019852042482496966\n",
      "----\n",
      "EvaluatorHoldout: Processed 40148 (100.0%) in 1.65 min. Users per second: 405\n",
      "Norm: 1, Alpha: 0.8, Beta: 0.1, Theta: 0.09999999999999995, Result: 0.019844453498246584\n",
      "----\n",
      "EvaluatorHoldout: Processed 40148 (100.0%) in 1.66 min. Users per second: 404\n",
      "Norm: 1, Alpha: 0.8, Beta: 0.2, Theta: -5.551115123125783e-17, Result: 0.019756602950036825\n",
      "----\n",
      "EvaluatorHoldout: Processed 40148 (100.0%) in 1.64 min. Users per second: 408\n",
      "Norm: 1, Alpha: 0.9, Beta: 0.0, Theta: 0.09999999999999998, Result: 0.019797977641456372\n",
      "----\n",
      "EvaluatorHoldout: Processed 40148 (100.0%) in 1.66 min. Users per second: 404\n",
      "Norm: 1, Alpha: 0.9, Beta: 0.1, Theta: -2.7755575615628914e-17, Result: 0.019720499429886847\n",
      "----\n",
      "EvaluatorHoldout: Processed 40148 (100.0%) in 1.65 min. Users per second: 406\n",
      "Norm: 1, Alpha: 1.0, Beta: 0.0, Theta: 0.0, Result: 0.019686434003709733\n",
      "----\n",
      "Best model has MAP: 0.019898447174027206 with alpha: 0.5, beta: 0.3, norm: 1\n"
     ]
    }
   ],
   "source": [
    "recommender_object = DifferentLossScoresHybridRecommender(UCM_train, recommender_SLIMElasticNet, recommender_EaseR, recommender_RP3beta)\n",
    "\n",
    "best_model = {\n",
    "    \"MAP\" : 0,\n",
    "    \"alpha\" : 0,\n",
    "    \"beta\" : 0,\n",
    "    \"norm\" : 0\n",
    "}\n",
    "\n",
    "norm = 1\n",
    "for alpha in np.arange(0.0, 1.1, 0.1):\n",
    "    for beta in np.arange(0.0, 1.1, 0.1):\n",
    "            \n",
    "        #truncate digits since np.arange sometimes doesn't\n",
    "        alpha = round(alpha,1)\n",
    "        beta = round(beta,1)\n",
    "            \n",
    "            \n",
    "        #discard cases in which the sum is greater than 1 \n",
    "        if ( (alpha+beta) <= 1): \n",
    "            theta = round(1-alpha-beta,1)\n",
    "            \n",
    "            print(\"----\")\n",
    "            recommender_object.fit(norm, alpha, beta)\n",
    "            result_df, _ = evaluator_UCM_validation.evaluateRecommender(recommender_object)\n",
    "            print(\"Norm: {}, Alpha: {}, Beta: {}, Theta: {}, Result: {}\".format(norm, alpha, beta, 1-alpha-beta, result_df.loc[10][\"MAP\"]))\n",
    "\n",
    "            if result_df.loc[10][\"MAP\"] > best_model[\"MAP\"]:\n",
    "                best_model[\"MAP\"] = result_df.loc[10][\"MAP\"]\n",
    "                best_model[\"alpha\"] = alpha\n",
    "                best_model[\"beta\"] = beta\n",
    "                best_model[\"norm\"] = norm\n",
    "\n",
    "                print(\"*** New best model found! \")\n",
    "                print(\"New best model has MAP: {} with alpha: {}, beta: {}, theta: {}, norm: {}\".format(best_model[\"MAP\"], best_model[\"alpha\"], best_model[\"beta\"],\n",
    "                                                                                                        1-best_model[\"alpha\"]-best_model[\"beta\"], best_model[\"norm\"]))\n",
    "print(\"----\")\n",
    "print(\"Best model has MAP: {} with alpha: {}, beta: {}, norm: {}\".format(best_model[\"MAP\"], best_model[\"alpha\"], best_model[\"beta\"], best_model[\"norm\"]))"
   ]
  },
  {
   "cell_type": "markdown",
   "id": "35165565",
   "metadata": {
    "papermill": {
     "duration": 0.020454,
     "end_time": "2023-01-13T03:18:59.270243",
     "exception": false,
     "start_time": "2023-01-13T03:18:59.249789",
     "status": "completed"
    },
    "tags": []
   },
   "source": [
    "## Submissions"
   ]
  },
  {
   "cell_type": "code",
   "execution_count": 13,
   "id": "9258b59a",
   "metadata": {
    "execution": {
     "iopub.execute_input": "2023-01-13T03:18:59.312740Z",
     "iopub.status.busy": "2023-01-13T03:18:59.312265Z",
     "iopub.status.idle": "2023-01-13T03:18:59.318071Z",
     "shell.execute_reply": "2023-01-13T03:18:59.316831Z"
    },
    "papermill": {
     "duration": 0.031065,
     "end_time": "2023-01-13T03:18:59.320794",
     "exception": false,
     "start_time": "2023-01-13T03:18:59.289729",
     "status": "completed"
    },
    "tags": []
   },
   "outputs": [],
   "source": [
    "#test_users = pd.read_csv('/kaggle/working/Recommender-Systems-Challenge-2022/Dataset/data_target_users_test.csv')"
   ]
  },
  {
   "cell_type": "code",
   "execution_count": 14,
   "id": "725e387b",
   "metadata": {
    "execution": {
     "iopub.execute_input": "2023-01-13T03:18:59.361454Z",
     "iopub.status.busy": "2023-01-13T03:18:59.360610Z",
     "iopub.status.idle": "2023-01-13T03:18:59.365543Z",
     "shell.execute_reply": "2023-01-13T03:18:59.364405Z"
    },
    "papermill": {
     "duration": 0.028393,
     "end_time": "2023-01-13T03:18:59.368133",
     "exception": false,
     "start_time": "2023-01-13T03:18:59.339740",
     "status": "completed"
    },
    "tags": []
   },
   "outputs": [],
   "source": [
    "#user_id = test_users['user_id']\n",
    "#recommendations = []\n",
    "#for user in user_id:\n",
    "    #recommendations.append(recommender.recommend(user, cutoff=10))"
   ]
  },
  {
   "cell_type": "code",
   "execution_count": 15,
   "id": "fe77b5b2",
   "metadata": {
    "execution": {
     "iopub.execute_input": "2023-01-13T03:18:59.407611Z",
     "iopub.status.busy": "2023-01-13T03:18:59.407156Z",
     "iopub.status.idle": "2023-01-13T03:18:59.413044Z",
     "shell.execute_reply": "2023-01-13T03:18:59.411536Z"
    },
    "papermill": {
     "duration": 0.028599,
     "end_time": "2023-01-13T03:18:59.415937",
     "exception": false,
     "start_time": "2023-01-13T03:18:59.387338",
     "status": "completed"
    },
    "tags": []
   },
   "outputs": [],
   "source": [
    "#for index in range(len(recommendations)):\n",
    "    #recommendations[index]=np.array(recommendations[index])\n",
    "\n",
    "#test_users['item_list']= recommendations\n",
    "#test_users['item_list'] = pd.DataFrame([str(line).strip('[').strip(']').replace(\"'\",\"\") for line in test_users['item_list']])\n",
    "#test_users.to_csv('/kaggle/working/Submission_SLIM_EN_rp3Beta_EaseR_Linear.csv', index=False)"
   ]
  }
 ],
 "metadata": {
  "kernelspec": {
   "display_name": "Python 3",
   "language": "python",
   "name": "python3"
  },
  "language_info": {
   "codemirror_mode": {
    "name": "ipython",
    "version": 3
   },
   "file_extension": ".py",
   "mimetype": "text/x-python",
   "name": "python",
   "nbconvert_exporter": "python",
   "pygments_lexer": "ipython3",
   "version": "3.7.12"
  },
  "papermill": {
   "default_parameters": {},
   "duration": 10593.073374,
   "end_time": "2023-01-13T03:19:00.380728",
   "environment_variables": {},
   "exception": null,
   "input_path": "__notebook__.ipynb",
   "output_path": "__notebook__.ipynb",
   "parameters": {},
   "start_time": "2023-01-13T00:22:27.307354",
   "version": "2.3.4"
  }
 },
 "nbformat": 4,
 "nbformat_minor": 5
}
