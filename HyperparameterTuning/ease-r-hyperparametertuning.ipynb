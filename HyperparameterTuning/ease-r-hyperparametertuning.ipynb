{
 "cells": [
  {
   "cell_type": "code",
   "execution_count": 2,
   "id": "8bc214c4",
   "metadata": {
    "execution": {
     "iopub.execute_input": "2022-11-30T12:29:23.510909Z",
     "iopub.status.busy": "2022-11-30T12:29:23.510428Z",
     "iopub.status.idle": "2022-11-30T12:29:24.589674Z",
     "shell.execute_reply": "2022-11-30T12:29:24.588643Z"
    },
    "papermill": {
     "duration": 1.090941,
     "end_time": "2022-11-30T12:29:24.592366",
     "exception": false,
     "start_time": "2022-11-30T12:29:23.501425",
     "status": "completed"
    },
    "tags": []
   },
   "outputs": [],
   "source": [
    "import pandas as pd\n",
    "import numpy as np\n",
    "\n",
    "from Evaluation.Evaluator import EvaluatorHoldout\n",
    "from Data_manager.split_functions.split_train_validation_random_holdout import split_train_in_two_percentage_global_sample\n",
    "from Utils.DataReader import load_urm, load_icm, load_target\n",
    "from Recommenders.EASE_R.EASE_R_Recommender import EASE_R_Recommender"
   ]
  },
  {
   "cell_type": "code",
   "execution_count": 3,
   "id": "c79fa49d",
   "metadata": {
    "execution": {
     "iopub.execute_input": "2022-11-30T12:29:24.609575Z",
     "iopub.status.busy": "2022-11-30T12:29:24.608428Z",
     "iopub.status.idle": "2022-11-30T12:29:30.552368Z",
     "shell.execute_reply": "2022-11-30T12:29:30.550917Z"
    },
    "papermill": {
     "duration": 5.955518,
     "end_time": "2022-11-30T12:29:30.555253",
     "exception": false,
     "start_time": "2022-11-30T12:29:24.599735",
     "status": "completed"
    },
    "tags": []
   },
   "outputs": [
    {
     "name": "stdout",
     "output_type": "stream",
     "text": [
      "Warning: 948 (2.28 %) of 41629 users have no sampled items\n",
      "Warning: 1523 (3.66 %) of 41629 users have no sampled items\n",
      "EvaluatorHoldout: Ignoring 1523 ( 3.7%) Users that have less than 1 test interactions\n",
      "EvaluatorHoldout: Ignoring 948 ( 2.3%) Users that have less than 1 test interactions\n"
     ]
    }
   ],
   "source": [
    "URM_all = load_urm()\n",
    "\n",
    "URM_train, URM_test = split_train_in_two_percentage_global_sample(URM_all, train_percentage = 0.85)\n",
    "URM_train, URM_validation = split_train_in_two_percentage_global_sample(URM_train, train_percentage = 0.85)\n",
    "\n",
    "evaluator_validation = EvaluatorHoldout(URM_validation, cutoff_list=[10])\n",
    "evaluator_test = EvaluatorHoldout(URM_test, cutoff_list=[10])"
   ]
  },
  {
   "cell_type": "code",
   "execution_count": 4,
   "id": "674259cd",
   "metadata": {
    "execution": {
     "iopub.execute_input": "2022-11-30T12:29:30.572529Z",
     "iopub.status.busy": "2022-11-30T12:29:30.571743Z",
     "iopub.status.idle": "2022-11-30T12:29:30.577170Z",
     "shell.execute_reply": "2022-11-30T12:29:30.575868Z"
    },
    "papermill": {
     "duration": 0.016589,
     "end_time": "2022-11-30T12:29:30.579608",
     "exception": false,
     "start_time": "2022-11-30T12:29:30.563019",
     "status": "completed"
    },
    "tags": []
   },
   "outputs": [],
   "source": [
    "recommender_class = EASE_R_Recommender"
   ]
  },
  {
   "cell_type": "code",
   "execution_count": 5,
   "id": "72757f04",
   "metadata": {
    "execution": {
     "iopub.execute_input": "2022-11-30T12:29:30.596467Z",
     "iopub.status.busy": "2022-11-30T12:29:30.596065Z",
     "iopub.status.idle": "2022-11-30T12:29:30.602391Z",
     "shell.execute_reply": "2022-11-30T12:29:30.601301Z"
    },
    "papermill": {
     "duration": 0.017483,
     "end_time": "2022-11-30T12:29:30.604691",
     "exception": false,
     "start_time": "2022-11-30T12:29:30.587208",
     "status": "completed"
    },
    "tags": []
   },
   "outputs": [],
   "source": [
    "import os\n",
    "\n",
    "output_folder_path = \"Experiments/\"\n",
    "\n",
    "# If directory does not exist, create\n",
    "if not os.path.exists(output_folder_path):\n",
    "    os.makedirs(output_folder_path)\n",
    "\n",
    "n_cases = 10\n",
    "n_random_starts = int(n_cases*0.3)\n",
    "metric_to_optimize = \"MAP\"\n",
    "cutoff_to_optimize = 10"
   ]
  },
  {
   "cell_type": "code",
   "execution_count": 6,
   "id": "5b0f9980",
   "metadata": {
    "execution": {
     "iopub.execute_input": "2022-11-30T12:29:30.621500Z",
     "iopub.status.busy": "2022-11-30T12:29:30.621110Z",
     "iopub.status.idle": "2022-11-30T12:29:30.946844Z",
     "shell.execute_reply": "2022-11-30T12:29:30.945660Z"
    },
    "papermill": {
     "duration": 0.337326,
     "end_time": "2022-11-30T12:29:30.949509",
     "exception": false,
     "start_time": "2022-11-30T12:29:30.612183",
     "status": "completed"
    },
    "tags": []
   },
   "outputs": [],
   "source": [
    "from skopt.space import Real, Integer, Categorical\n",
    "\n",
    "hyperparameters_range_dictionary = {\n",
    "    \"l2_norm\": Real(low=1e0, high=1e7, prior='log-uniform'),\n",
    "}"
   ]
  },
  {
   "cell_type": "code",
   "execution_count": 7,
   "id": "16752482",
   "metadata": {
    "execution": {
     "iopub.execute_input": "2022-11-30T12:29:30.966998Z",
     "iopub.status.busy": "2022-11-30T12:29:30.966561Z",
     "iopub.status.idle": "2022-11-30T12:29:30.972517Z",
     "shell.execute_reply": "2022-11-30T12:29:30.971255Z"
    },
    "papermill": {
     "duration": 0.017526,
     "end_time": "2022-11-30T12:29:30.975009",
     "exception": false,
     "start_time": "2022-11-30T12:29:30.957483",
     "status": "completed"
    },
    "tags": []
   },
   "outputs": [],
   "source": [
    "earlystopping_keywargs = {\"validation_every_n\": 15,\n",
    "                          \"stop_on_validation\": True,\n",
    "                          \"evaluator_object\": evaluator_validation,\n",
    "                          \"lower_validations_allowed\": 5,\n",
    "                          \"validation_metric\": metric_to_optimize,\n",
    "                          }"
   ]
  },
  {
   "cell_type": "code",
   "execution_count": 8,
   "id": "43712208",
   "metadata": {
    "execution": {
     "iopub.execute_input": "2022-11-30T12:29:30.993308Z",
     "iopub.status.busy": "2022-11-30T12:29:30.992889Z",
     "iopub.status.idle": "2022-11-30T12:29:36.307375Z",
     "shell.execute_reply": "2022-11-30T12:29:36.306036Z"
    },
    "papermill": {
     "duration": 5.325771,
     "end_time": "2022-11-30T12:29:36.309887",
     "exception": false,
     "start_time": "2022-11-30T12:29:30.984116",
     "status": "completed"
    },
    "tags": []
   },
   "outputs": [],
   "source": [
    "from HyperparameterTuning.SearchBayesianSkopt import SearchBayesianSkopt\n",
    "\n",
    "#create a bayesian optimizer object, we pass the recommender and the evaluator\n",
    "hyperparameterSearch = SearchBayesianSkopt(recommender_class,\n",
    "                                           evaluator_validation=evaluator_validation)"
   ]
  },
  {
   "cell_type": "code",
   "execution_count": 9,
   "id": "2db63e7f",
   "metadata": {
    "execution": {
     "iopub.execute_input": "2022-11-30T12:29:36.326738Z",
     "iopub.status.busy": "2022-11-30T12:29:36.326082Z",
     "iopub.status.idle": "2022-11-30T12:29:36.332134Z",
     "shell.execute_reply": "2022-11-30T12:29:36.331094Z"
    },
    "papermill": {
     "duration": 0.017068,
     "end_time": "2022-11-30T12:29:36.334424",
     "exception": false,
     "start_time": "2022-11-30T12:29:36.317356",
     "status": "completed"
    },
    "tags": []
   },
   "outputs": [],
   "source": [
    "from HyperparameterTuning.SearchAbstractClass import SearchInputRecommenderArgs\n",
    "\n",
    "recommender_input_args = SearchInputRecommenderArgs(\n",
    "    CONSTRUCTOR_POSITIONAL_ARGS=[URM_train],\n",
    "    CONSTRUCTOR_KEYWORD_ARGS={},\n",
    "    FIT_POSITIONAL_ARGS=[],\n",
    "    FIT_KEYWORD_ARGS={}\n",
    ")\n",
    "recommender_input_args_last_test = SearchInputRecommenderArgs(\n",
    "    CONSTRUCTOR_POSITIONAL_ARGS = [URM_all],\n",
    "    CONSTRUCTOR_KEYWORD_ARGS = {},\n",
    "    FIT_POSITIONAL_ARGS = [],\n",
    "    FIT_KEYWORD_ARGS ={}\n",
    ")"
   ]
  },
  {
   "cell_type": "code",
   "execution_count": 10,
   "id": "6452ca70",
   "metadata": {
    "execution": {
     "iopub.execute_input": "2022-11-30T12:29:36.351061Z",
     "iopub.status.busy": "2022-11-30T12:29:36.350644Z"
    },
    "papermill": {
     "duration": 4133.555429,
     "end_time": "2022-11-30T13:38:29.897256",
     "exception": false,
     "start_time": "2022-11-30T12:29:36.341827",
     "status": "completed"
    },
    "tags": []
   },
   "outputs": [
    {
     "name": "stdout",
     "output_type": "stream",
     "text": [
      "Iteration No: 1 started. Evaluating function at random point.\n",
      "SearchBayesianSkopt: Testing config: {'l2_norm': 736137.6311073073}\n",
      "EASE_R_Recommender: Fitting model... \n",
      "EASE_R_Recommender: Fitting model... done in 10.55 min\n",
      "EvaluatorHoldout: Processed 40106 (100.0%) in 55.33 sec. Users per second: 725\n",
      "SearchBayesianSkopt: New best config found. Config 0: {'l2_norm': 736137.6311073073} - results: PRECISION: 0.0261457, PRECISION_RECALL_MIN_DEN: 0.0521288, RECALL: 0.0503586, MAP: 0.0110257, MAP_MIN_DEN: 0.0217706, MRR: 0.0893565, NDCG: 0.0450436, F1: 0.0344206, HIT_RATE: 0.2100683, ARHR_ALL_HITS: 0.0990413, NOVELTY: 0.0035316, AVERAGE_POPULARITY: 0.4625847, DIVERSITY_MEAN_INTER_LIST: 0.4587089, DIVERSITY_HERFINDAHL: 0.9458697, COVERAGE_ITEM: 0.0203615, COVERAGE_ITEM_HIT: 0.0082017, ITEMS_IN_GT: 0.9869833, COVERAGE_USER: 0.9634149, COVERAGE_USER_HIT: 0.2023830, USERS_IN_GT: 0.9634149, DIVERSITY_GINI: 0.0010041, SHANNON_ENTROPY: 4.8263749, RATIO_DIVERSITY_HERFINDAHL: 0.9461821, RATIO_DIVERSITY_GINI: 0.0019858, RATIO_SHANNON_ENTROPY: 0.3577445, RATIO_AVERAGE_POPULARITY: 9.0734643, RATIO_NOVELTY: 0.2377628, \n",
      "\n",
      "Iteration No: 1 ended. Evaluation done at random point.\n",
      "Time taken: 690.2052\n",
      "Function value obtained: -0.0110\n",
      "Current minimum: -0.0110\n",
      "Iteration No: 2 started. Evaluating function at random point.\n",
      "SearchBayesianSkopt: Testing config: {'l2_norm': 249.36129021601147}\n",
      "EASE_R_Recommender: Fitting model... \n",
      "EASE_R_Recommender: Fitting model... done in 10.79 min\n",
      "EvaluatorHoldout: Processed 40106 (100.0%) in 53.93 sec. Users per second: 744\n",
      "SearchBayesianSkopt: New best config found. Config 1: {'l2_norm': 249.36129021601147} - results: PRECISION: 0.0419563, PRECISION_RECALL_MIN_DEN: 0.0802772, RECALL: 0.0772061, MAP: 0.0189696, MAP_MIN_DEN: 0.0356619, MRR: 0.1392166, NDCG: 0.0714633, F1: 0.0543675, HIT_RATE: 0.3049170, ARHR_ALL_HITS: 0.1619252, NOVELTY: 0.0041026, AVERAGE_POPULARITY: 0.2472067, DIVERSITY_MEAN_INTER_LIST: 0.9067777, DIVERSITY_HERFINDAHL: 0.9906755, COVERAGE_ITEM: 0.1064594, COVERAGE_ITEM_HIT: 0.0418248, ITEMS_IN_GT: 0.9869833, COVERAGE_USER: 0.9634149, COVERAGE_USER_HIT: 0.2937616, USERS_IN_GT: 0.9634149, DIVERSITY_GINI: 0.0117681, SHANNON_ENTROPY: 8.2010858, RATIO_DIVERSITY_HERFINDAHL: 0.9910027, RATIO_DIVERSITY_GINI: 0.0232745, RATIO_SHANNON_ENTROPY: 0.6078875, RATIO_AVERAGE_POPULARITY: 4.8488865, RATIO_NOVELTY: 0.2762041, \n",
      "\n",
      "Iteration No: 2 ended. Evaluation done at random point.\n",
      "Time taken: 702.8210\n",
      "Function value obtained: -0.0190\n",
      "Current minimum: -0.0190\n",
      "Iteration No: 3 started. Evaluating function at random point.\n",
      "SearchBayesianSkopt: Testing config: {'l2_norm': 1638766.2003401406}\n",
      "EASE_R_Recommender: Fitting model... \n",
      "EASE_R_Recommender: Fitting model... done in 10.73 min\n",
      "EvaluatorHoldout: Processed 40106 (100.0%) in 52.70 sec. Users per second: 761\n",
      "SearchBayesianSkopt: Config 2 is suboptimal. Config: {'l2_norm': 1638766.2003401406} - results: PRECISION: 0.0260535, PRECISION_RECALL_MIN_DEN: 0.0519093, RECALL: 0.0501400, MAP: 0.0109882, MAP_MIN_DEN: 0.0216977, MRR: 0.0890777, NDCG: 0.0448856, F1: 0.0342896, HIT_RATE: 0.2092704, ARHR_ALL_HITS: 0.0987208, NOVELTY: 0.0035295, AVERAGE_POPULARITY: 0.4635454, DIVERSITY_MEAN_INTER_LIST: 0.4547979, DIVERSITY_HERFINDAHL: 0.9454787, COVERAGE_ITEM: 0.0200351, COVERAGE_ITEM_HIT: 0.0081609, ITEMS_IN_GT: 0.9869833, COVERAGE_USER: 0.9634149, COVERAGE_USER_HIT: 0.2016143, USERS_IN_GT: 0.9634149, DIVERSITY_GINI: 0.0009902, SHANNON_ENTROPY: 4.8088853, RATIO_DIVERSITY_HERFINDAHL: 0.9457909, RATIO_DIVERSITY_GINI: 0.0019584, RATIO_SHANNON_ENTROPY: 0.3564481, RATIO_AVERAGE_POPULARITY: 9.0923075, RATIO_NOVELTY: 0.2376201, \n",
      "\n",
      "Iteration No: 3 ended. Evaluation done at random point.\n",
      "Time taken: 698.3026\n",
      "Function value obtained: -0.0110\n",
      "Current minimum: -0.0190\n",
      "Iteration No: 4 started. Searching for the next optimal point.\n",
      "SearchBayesianSkopt: Testing config: {'l2_norm': 1.0}\n",
      "EASE_R_Recommender: Fitting model... \n",
      "EASE_R_Recommender: Fitting model... done in 10.78 min\n",
      "EvaluatorHoldout: Processed 40106 (100.0%) in 49.56 sec. Users per second: 809\n",
      "SearchBayesianSkopt: Config 3 is suboptimal. Config: {'l2_norm': 1.0} - results: PRECISION: 0.0242258, PRECISION_RECALL_MIN_DEN: 0.0440608, RECALL: 0.0421312, MAP: 0.0101134, MAP_MIN_DEN: 0.0183921, MRR: 0.0807435, NDCG: 0.0392232, F1: 0.0307628, HIT_RATE: 0.1922655, ARHR_ALL_HITS: 0.0901260, NOVELTY: 0.0040614, AVERAGE_POPULARITY: 0.2315981, DIVERSITY_MEAN_INTER_LIST: 0.9247404, DIVERSITY_HERFINDAHL: 0.9924717, COVERAGE_ITEM: 0.1000122, COVERAGE_ITEM_HIT: 0.0390909, ITEMS_IN_GT: 0.9869833, COVERAGE_USER: 0.9634149, COVERAGE_USER_HIT: 0.1852314, USERS_IN_GT: 0.9634149, DIVERSITY_GINI: 0.0094404, SHANNON_ENTROPY: 8.0620890, RATIO_DIVERSITY_HERFINDAHL: 0.9927995, RATIO_DIVERSITY_GINI: 0.0186707, RATIO_SHANNON_ENTROPY: 0.5975847, RATIO_AVERAGE_POPULARITY: 4.5427286, RATIO_NOVELTY: 0.2734285, \n",
      "\n",
      "Iteration No: 4 ended. Search finished for the next optimal point.\n",
      "Time taken: 697.7482\n",
      "Function value obtained: -0.0101\n",
      "Current minimum: -0.0190\n",
      "Iteration No: 5 started. Searching for the next optimal point.\n",
      "SearchBayesianSkopt: Testing config: {'l2_norm': 1887.9912414025375}\n",
      "EASE_R_Recommender: Fitting model... \n",
      "EASE_R_Recommender: Fitting model... done in 10.86 min\n",
      "EvaluatorHoldout: Processed 40106 (100.0%) in 51.39 sec. Users per second: 780\n",
      "SearchBayesianSkopt: Config 4 is suboptimal. Config: {'l2_norm': 1887.9912414025375} - results: PRECISION: 0.0385030, PRECISION_RECALL_MIN_DEN: 0.0744017, RECALL: 0.0716211, MAP: 0.0171122, MAP_MIN_DEN: 0.0325246, MRR: 0.1283854, NDCG: 0.0656951, F1: 0.0500822, HIT_RATE: 0.2864908, ARHR_ALL_HITS: 0.1477474, NOVELTY: 0.0039313, AVERAGE_POPULARITY: 0.2981678, DIVERSITY_MEAN_INTER_LIST: 0.8481220, DIVERSITY_HERFINDAHL: 0.9848101, COVERAGE_ITEM: 0.0860570, COVERAGE_ITEM_HIT: 0.0247276, ITEMS_IN_GT: 0.9869833, COVERAGE_USER: 0.9634149, COVERAGE_USER_HIT: 0.2760095, USERS_IN_GT: 0.9634149, DIVERSITY_GINI: 0.0066062, SHANNON_ENTROPY: 7.3495730, RATIO_DIVERSITY_HERFINDAHL: 0.9851353, RATIO_DIVERSITY_GINI: 0.0130655, RATIO_SHANNON_ENTROPY: 0.5447710, RATIO_AVERAGE_POPULARITY: 5.8484742, RATIO_NOVELTY: 0.2646697, \n",
      "\n",
      "Iteration No: 5 ended. Search finished for the next optimal point.\n",
      "Time taken: 705.1244\n",
      "Function value obtained: -0.0171\n",
      "Current minimum: -0.0190\n",
      "Iteration No: 6 started. Searching for the next optimal point.\n",
      "SearchBayesianSkopt: Testing config: {'l2_norm': 63.91554370767842}\n",
      "EASE_R_Recommender: Fitting model... \n"
     ]
    }
   ],
   "source": [
    "hyperparameterSearch.search(recommender_input_args = recommender_input_args,\n",
    "                            recommender_input_args_last_test = recommender_input_args_last_test,\n",
    "                            hyperparameter_search_space = hyperparameters_range_dictionary,\n",
    "                            n_cases = n_cases,\n",
    "                            n_random_starts = n_random_starts,\n",
    "                            save_model = \"last\",\n",
    "                            output_folder_path = output_folder_path, # Where to save the results\n",
    "                            output_file_name_root = recommender_class.RECOMMENDER_NAME, # How to call the files\n",
    "                            metric_to_optimize = metric_to_optimize,\n",
    "                            cutoff_to_optimize = cutoff_to_optimize,\n",
    "                            )"
   ]
  },
  {
   "cell_type": "code",
   "execution_count": null,
   "id": "4a18359e",
   "metadata": {
    "papermill": {
     "duration": null,
     "end_time": null,
     "exception": null,
     "start_time": null,
     "status": "completed"
    },
    "tags": []
   },
   "outputs": [],
   "source": [
    "from Recommenders.DataIO import DataIO\n",
    "\n",
    "#explore the results of the search\n",
    "data_loader = DataIO(folder_path = output_folder_path)\n",
    "search_metadata = data_loader.load_data(recommender_class.RECOMMENDER_NAME + \"_metadata.zip\")\n",
    "\n",
    "search_metadata.keys()"
   ]
  },
  {
   "cell_type": "code",
   "execution_count": null,
   "id": "866602e4",
   "metadata": {
    "papermill": {
     "duration": null,
     "end_time": null,
     "exception": null,
     "start_time": null,
     "status": "completed"
    },
    "tags": []
   },
   "outputs": [],
   "source": [
    "hyperparameters_df = search_metadata[\"hyperparameters_df\"]\n",
    "hyperparameters_df"
   ]
  },
  {
   "cell_type": "code",
   "execution_count": null,
   "id": "e057e54c",
   "metadata": {
    "papermill": {
     "duration": null,
     "end_time": null,
     "exception": null,
     "start_time": null,
     "status": "completed"
    },
    "tags": []
   },
   "outputs": [],
   "source": [
    "result_on_validation_df = search_metadata[\"result_on_validation_df\"]\n",
    "result_on_validation_df"
   ]
  },
  {
   "cell_type": "code",
   "execution_count": null,
   "id": "e212f283",
   "metadata": {
    "papermill": {
     "duration": null,
     "end_time": null,
     "exception": null,
     "start_time": null,
     "status": "completed"
    },
    "tags": []
   },
   "outputs": [],
   "source": [
    "best_hyperparameters = search_metadata[\"hyperparameters_best\"]\n",
    "best_hyperparameters"
   ]
  },
  {
   "cell_type": "code",
   "execution_count": null,
   "id": "15e61918",
   "metadata": {
    "papermill": {
     "duration": null,
     "end_time": null,
     "exception": null,
     "start_time": null,
     "status": "completed"
    },
    "tags": []
   },
   "outputs": [],
   "source": [
    "\"\"\"\"\n",
    "from Recommenders.EASE_R.EASE_R_Recommender import EASE_R_Recommender\n",
    "\n",
    "recommender = EASE_R(URM_all)\n",
    "recommender_EASE_R.fit(l2_norm=)"
   ]
  },
  {
   "cell_type": "code",
   "execution_count": null,
   "id": "a17fdb80",
   "metadata": {
    "papermill": {
     "duration": null,
     "end_time": null,
     "exception": null,
     "start_time": null,
     "status": "completed"
    },
    "tags": []
   },
   "outputs": [],
   "source": [
    "\"\"\"\"\n",
    "print(\"MAP of the starting model\")\n",
    "\n",
    "result_df, _ = evaluator_test.evaluateRecommender(recommender)\n",
    "print(\"EASE_R - MAP: {}\".format(result_df.loc[10][\"MAP\"]))"
   ]
  },
  {
   "cell_type": "markdown",
   "id": "2d93d3ff",
   "metadata": {
    "papermill": {
     "duration": null,
     "end_time": null,
     "exception": null,
     "start_time": null,
     "status": "completed"
    },
    "tags": []
   },
   "source": [
    "## Submissions"
   ]
  },
  {
   "cell_type": "code",
   "execution_count": null,
   "id": "93e83a19",
   "metadata": {
    "papermill": {
     "duration": null,
     "end_time": null,
     "exception": null,
     "start_time": null,
     "status": "completed"
    },
    "tags": []
   },
   "outputs": [],
   "source": [
    "#test_users = pd.read_csv('Dataset/data_target_users_test.csv')"
   ]
  },
  {
   "cell_type": "code",
   "execution_count": null,
   "id": "405e0917",
   "metadata": {
    "papermill": {
     "duration": null,
     "end_time": null,
     "exception": null,
     "start_time": null,
     "status": "completed"
    },
    "tags": []
   },
   "outputs": [],
   "source": [
    "\"\"\"\"\n",
    "user_id = test_users['user_id']\n",
    "recommendations = []\n",
    "for user in user_id:\n",
    "    recommendations.append(recommender_object.recommend(user, cutoff=10))"
   ]
  },
  {
   "cell_type": "code",
   "execution_count": null,
   "id": "15eb32fe",
   "metadata": {
    "papermill": {
     "duration": null,
     "end_time": null,
     "exception": null,
     "start_time": null,
     "status": "completed"
    },
    "tags": []
   },
   "outputs": [],
   "source": [
    "\"\"\"\"\n",
    "for index in range(len(recommendations)):\n",
    "    recommendations[index]=np.array(recommendations[index])\n",
    "\n",
    "test_users['item_list']= recommendations\n",
    "test_users['item_list'] = pd.DataFrame([str(line).strip('[').strip(']').replace(\"'\",\"\") for line in test_users['item_list']])\n",
    "test_users.to_csv('Submissions\\Submission_EASE_R_Recommender.csv', index=False)"
   ]
  }
 ],
 "metadata": {
  "kernelspec": {
   "display_name": "Python 3",
   "language": "python",
   "name": "python3"
  },
  "language_info": {
   "codemirror_mode": {
    "name": "ipython",
    "version": 3
   },
   "file_extension": ".py",
   "mimetype": "text/x-python",
   "name": "python",
   "nbconvert_exporter": "python",
   "pygments_lexer": "ipython3",
   "version": "3.6.4"
  },
  "papermill": {
   "default_parameters": {},
   "duration": 4163.803818,
   "end_time": "2022-11-30T13:38:29.946041",
   "environment_variables": {},
   "exception": null,
   "input_path": "__notebook__.ipynb",
   "output_path": "__notebook__.ipynb",
   "parameters": {},
   "start_time": "2022-11-30T12:29:06.142223",
   "version": "2.3.4"
  }
 },
 "nbformat": 4,
 "nbformat_minor": 5
}
