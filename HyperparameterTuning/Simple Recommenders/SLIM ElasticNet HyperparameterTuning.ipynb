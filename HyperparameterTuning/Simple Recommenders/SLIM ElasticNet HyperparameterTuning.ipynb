{
 "cells": [
  {
   "cell_type": "code",
   "execution_count": 2,
   "id": "9244bfb6",
   "metadata": {
    "execution": {
     "iopub.execute_input": "2023-01-07T13:21:15.471309Z",
     "iopub.status.busy": "2023-01-07T13:21:15.470544Z",
     "iopub.status.idle": "2023-01-07T13:21:16.875684Z",
     "shell.execute_reply": "2023-01-07T13:21:16.874768Z"
    },
    "papermill": {
     "duration": 1.417227,
     "end_time": "2023-01-07T13:21:16.878309",
     "exception": false,
     "start_time": "2023-01-07T13:21:15.461082",
     "status": "completed"
    },
    "tags": []
   },
   "outputs": [],
   "source": [
    "import pandas as pd\n",
    "import numpy as np\n",
    "import scipy.sparse as sps\n",
    "import matplotlib.pyplot as pyplot\n",
    "import time\n",
    "\n",
    "from Evaluation.Evaluator import EvaluatorHoldout\n",
    "from Data_manager.split_functions.split_train_validation_random_holdout import split_train_in_two_percentage_global_sample\n",
    "from Utils.DataReader import load_urm, load_icm, load_target\n",
    "from Recommenders.SLIM.SLIMElasticNetRecommender import SLIMElasticNetRecommender"
   ]
  },
  {
   "cell_type": "code",
   "execution_count": 3,
   "id": "f8e458f7",
   "metadata": {
    "execution": {
     "iopub.execute_input": "2023-01-07T13:21:16.896597Z",
     "iopub.status.busy": "2023-01-07T13:21:16.896165Z",
     "iopub.status.idle": "2023-01-07T13:21:22.790109Z",
     "shell.execute_reply": "2023-01-07T13:21:22.789073Z"
    },
    "papermill": {
     "duration": 5.905515,
     "end_time": "2023-01-07T13:21:22.792377",
     "exception": false,
     "start_time": "2023-01-07T13:21:16.886862",
     "status": "completed"
    },
    "tags": []
   },
   "outputs": [
    {
     "name": "stdout",
     "output_type": "stream",
     "text": [
      "Warning: 915 (2.20 %) of 41629 users have no sampled items\n"
     ]
    },
    {
     "name": "stdout",
     "output_type": "stream",
     "text": [
      "Warning: 1553 (3.73 %) of 41629 users have no sampled items\n",
      "EvaluatorHoldout: Ignoring 1553 ( 3.7%) Users that have less than 1 test interactions\n",
      "EvaluatorHoldout: Ignoring 915 ( 2.2%) Users that have less than 1 test interactions\n"
     ]
    }
   ],
   "source": [
    "URM_all = load_urm()\n",
    "\n",
    "URM_train = sps.load_npz('Dataset/Split/URM_train.npz')\n",
    "URM_test =  sps.load_npz('Dataset/Split/URM_test.npz')\n",
    "URM_validation = sps.load_npz('Dataset/Split/URM_validation.npz')\n",
    "\n",
    "evaluator_validation = EvaluatorHoldout(URM_validation, cutoff_list=[10])\n",
    "evaluator_test = EvaluatorHoldout(URM_test, cutoff_list=[10])"
   ]
  },
  {
   "cell_type": "code",
   "execution_count": 4,
   "id": "f2b3ec08",
   "metadata": {
    "execution": {
     "iopub.execute_input": "2023-01-07T13:21:22.810638Z",
     "iopub.status.busy": "2023-01-07T13:21:22.810106Z",
     "iopub.status.idle": "2023-01-07T13:21:22.816370Z",
     "shell.execute_reply": "2023-01-07T13:21:22.815049Z"
    },
    "papermill": {
     "duration": 0.018515,
     "end_time": "2023-01-07T13:21:22.819200",
     "exception": false,
     "start_time": "2023-01-07T13:21:22.800685",
     "status": "completed"
    },
    "tags": []
   },
   "outputs": [],
   "source": [
    "recommender_class = SLIMElasticNetRecommender"
   ]
  },
  {
   "cell_type": "code",
   "execution_count": 5,
   "id": "abcb0cfb",
   "metadata": {
    "execution": {
     "iopub.execute_input": "2023-01-07T13:21:22.839521Z",
     "iopub.status.busy": "2023-01-07T13:21:22.839137Z",
     "iopub.status.idle": "2023-01-07T13:21:22.845490Z",
     "shell.execute_reply": "2023-01-07T13:21:22.844376Z"
    },
    "papermill": {
     "duration": 0.017966,
     "end_time": "2023-01-07T13:21:22.847578",
     "exception": false,
     "start_time": "2023-01-07T13:21:22.829612",
     "status": "completed"
    },
    "tags": []
   },
   "outputs": [],
   "source": [
    "import os\n",
    "\n",
    "output_folder_path = \"Experiments/\"\n",
    "\n",
    "# If directory does not exist, create\n",
    "if not os.path.exists(output_folder_path):\n",
    "    os.makedirs(output_folder_path)\n",
    "\n",
    "n_cases = 50\n",
    "n_random_starts = int(n_cases*0.3)\n",
    "metric_to_optimize = \"MAP\"\n",
    "cutoff_to_optimize = 10"
   ]
  },
  {
   "cell_type": "code",
   "execution_count": 6,
   "id": "0dea4bf2",
   "metadata": {
    "execution": {
     "iopub.execute_input": "2023-01-07T13:21:22.865933Z",
     "iopub.status.busy": "2023-01-07T13:21:22.865479Z",
     "iopub.status.idle": "2023-01-07T13:21:23.076466Z",
     "shell.execute_reply": "2023-01-07T13:21:23.075202Z"
    },
    "papermill": {
     "duration": 0.223194,
     "end_time": "2023-01-07T13:21:23.079120",
     "exception": false,
     "start_time": "2023-01-07T13:21:22.855926",
     "status": "completed"
    },
    "tags": []
   },
   "outputs": [],
   "source": [
    "from skopt.space import Real, Integer, Categorical\n",
    "\n",
    "hyperparameters_range_dictionary = {\n",
    "    \"topK\": Integer(1,800),\n",
    "    \"l1_ratio\": Real(low = 0.001, high = 0.01, prior = 'log-uniform'),\n",
    "    \"alpha\": Real(low = 0.001, high = 0.005, prior = 'log-uniform'),\n",
    "    #\"positive_only\": Categorical([True]),\n",
    "}"
   ]
  },
  {
   "cell_type": "code",
   "execution_count": 7,
   "id": "437c72f3",
   "metadata": {
    "execution": {
     "iopub.execute_input": "2023-01-07T13:21:23.097139Z",
     "iopub.status.busy": "2023-01-07T13:21:23.096708Z",
     "iopub.status.idle": "2023-01-07T13:21:23.102187Z",
     "shell.execute_reply": "2023-01-07T13:21:23.101063Z"
    },
    "papermill": {
     "duration": 0.017082,
     "end_time": "2023-01-07T13:21:23.104451",
     "exception": false,
     "start_time": "2023-01-07T13:21:23.087369",
     "status": "completed"
    },
    "tags": []
   },
   "outputs": [],
   "source": [
    "earlystopping_keywargs = {\"validation_every_n\": 15,\n",
    "                          \"stop_on_validation\": True,\n",
    "                          \"evaluator_object\": evaluator_validation,\n",
    "                          \"lower_validations_allowed\": 5,\n",
    "                          \"validation_metric\": metric_to_optimize,\n",
    "                          }"
   ]
  },
  {
   "cell_type": "code",
   "execution_count": 8,
   "id": "866a1322",
   "metadata": {
    "execution": {
     "iopub.execute_input": "2023-01-07T13:21:23.123085Z",
     "iopub.status.busy": "2023-01-07T13:21:23.122675Z",
     "iopub.status.idle": "2023-01-07T13:21:28.263796Z",
     "shell.execute_reply": "2023-01-07T13:21:28.262902Z"
    },
    "papermill": {
     "duration": 5.152851,
     "end_time": "2023-01-07T13:21:28.266386",
     "exception": false,
     "start_time": "2023-01-07T13:21:23.113535",
     "status": "completed"
    },
    "tags": []
   },
   "outputs": [],
   "source": [
    "from HyperparameterTuning.SearchBayesianSkopt import SearchBayesianSkopt\n",
    "\n",
    "#create a bayesian optimizer object, we pass the recommender and the evaluator\n",
    "hyperparameterSearch = SearchBayesianSkopt(recommender_class,\n",
    "                                           evaluator_validation=evaluator_validation)"
   ]
  },
  {
   "cell_type": "code",
   "execution_count": 9,
   "id": "0f9a6f6e",
   "metadata": {
    "execution": {
     "iopub.execute_input": "2023-01-07T13:21:28.286599Z",
     "iopub.status.busy": "2023-01-07T13:21:28.285598Z",
     "iopub.status.idle": "2023-01-07T13:21:28.291874Z",
     "shell.execute_reply": "2023-01-07T13:21:28.291165Z"
    },
    "papermill": {
     "duration": 0.018867,
     "end_time": "2023-01-07T13:21:28.293934",
     "exception": false,
     "start_time": "2023-01-07T13:21:28.275067",
     "status": "completed"
    },
    "tags": []
   },
   "outputs": [],
   "source": [
    "from HyperparameterTuning.SearchAbstractClass import SearchInputRecommenderArgs\n",
    "\n",
    "#provide data needed to create instance of model (one on URM_train, the other on URM_all)\n",
    "recommender_input_args = SearchInputRecommenderArgs(\n",
    "    CONSTRUCTOR_POSITIONAL_ARGS = [URM_train],     # For a CBF model simply put [URM_train, ICM_train]\n",
    "    CONSTRUCTOR_KEYWORD_ARGS = {},\n",
    "    FIT_POSITIONAL_ARGS = [],\n",
    "    FIT_KEYWORD_ARGS ={}\n",
    ")\n",
    "recommender_input_args_last_test = SearchInputRecommenderArgs(\n",
    "    CONSTRUCTOR_POSITIONAL_ARGS = [URM_all],\n",
    "    CONSTRUCTOR_KEYWORD_ARGS = {},\n",
    "    FIT_POSITIONAL_ARGS = [],\n",
    "    FIT_KEYWORD_ARGS ={}\n",
    ")"
   ]
  },
  {
   "cell_type": "code",
   "execution_count": 10,
   "id": "a0aca555",
   "metadata": {
    "execution": {
     "iopub.execute_input": "2023-01-07T13:21:28.313538Z",
     "iopub.status.busy": "2023-01-07T13:21:28.312847Z"
    },
    "papermill": {
     "duration": null,
     "end_time": null,
     "exception": false,
     "start_time": "2023-01-07T13:21:28.302703",
     "status": "running"
    },
    "tags": []
   },
   "outputs": [
    {
     "name": "stdout",
     "output_type": "stream",
     "text": [
      "Iteration No: 1 started. Evaluating function at random point.\n",
      "SearchBayesianSkopt: Testing config: {'topK': 612, 'l1_ratio': 0.006189663115319857, 'alpha': 0.00442212948342893}\n"
     ]
    },
    {
     "name": "stdout",
     "output_type": "stream",
     "text": [
      "SLIMElasticNetRecommender: Processed 4862 (19.8%) in 5.00 min. Items per second: 16.20\n"
     ]
    },
    {
     "name": "stdout",
     "output_type": "stream",
     "text": [
      "SLIMElasticNetRecommender: Processed 10300 (42.0%) in 10.00 min. Items per second: 17.16\n"
     ]
    },
    {
     "name": "stdout",
     "output_type": "stream",
     "text": [
      "SLIMElasticNetRecommender: Processed 15489 (63.2%) in 15.00 min. Items per second: 17.21\n"
     ]
    },
    {
     "name": "stdout",
     "output_type": "stream",
     "text": [
      "SLIMElasticNetRecommender: Processed 20685 (84.4%) in 20.00 min. Items per second: 17.23\n"
     ]
    },
    {
     "name": "stdout",
     "output_type": "stream",
     "text": [
      "SLIMElasticNetRecommender: Processed 24507 (100.0%) in 23.54 min. Items per second: 17.35\n"
     ]
    },
    {
     "name": "stdout",
     "output_type": "stream",
     "text": [
      "EvaluatorHoldout: Processed 40076 (100.0%) in 51.00 sec. Users per second: 786\n"
     ]
    },
    {
     "name": "stdout",
     "output_type": "stream",
     "text": [
      "SearchBayesianSkopt: New best config found. Config 0: {'topK': 612, 'l1_ratio': 0.006189663115319857, 'alpha': 0.00442212948342893} - results: PRECISION: 0.0426614, PRECISION_RECALL_MIN_DEN: 0.0814487, RECALL: 0.0782393, MAP: 0.0196194, MAP_MIN_DEN: 0.0373439, MRR: 0.1425723, NDCG: 0.0734872, F1: 0.0552156, HIT_RATE: 0.3062930, ARHR_ALL_HITS: 0.1665479, NOVELTY: 0.0042523, AVERAGE_POPULARITY: 0.2048721, DIVERSITY_MEAN_INTER_LIST: 0.9394644, DIVERSITY_HERFINDAHL: 0.9939441, COVERAGE_ITEM: 0.1526095, COVERAGE_ITEM_HIT: 0.0457012, ITEMS_IN_GT: 0.9868201, COVERAGE_USER: 0.9626943, COVERAGE_USER_HIT: 0.2948666, USERS_IN_GT: 0.9626943, DIVERSITY_GINI: 0.0175792, SHANNON_ENTROPY: 8.7918829, RATIO_DIVERSITY_HERFINDAHL: 0.9942727, RATIO_DIVERSITY_GINI: 0.0347497, RATIO_SHANNON_ENTROPY: 0.6517202, RATIO_AVERAGE_POPULARITY: 4.0298815, RATIO_NOVELTY: 0.2863034, \n",
      "\n"
     ]
    },
    {
     "name": "stdout",
     "output_type": "stream",
     "text": [
      "Iteration No: 1 ended. Evaluation done at random point.\n",
      "Time taken: 1463.5854\n",
      "Function value obtained: -0.0196\n",
      "Current minimum: -0.0196\n",
      "Iteration No: 2 started. Evaluating function at random point.\n",
      "SearchBayesianSkopt: Testing config: {'topK': 628, 'l1_ratio': 0.0013132983626584279, 'alpha': 0.0011620768599088333}\n"
     ]
    },
    {
     "name": "stdout",
     "output_type": "stream",
     "text": [
      "SLIMElasticNetRecommender: Processed 3507 (14.3%) in 5.00 min. Items per second: 11.68\n"
     ]
    },
    {
     "name": "stdout",
     "output_type": "stream",
     "text": [
      "SLIMElasticNetRecommender: Processed 7079 (28.9%) in 10.00 min. Items per second: 11.79\n"
     ]
    },
    {
     "name": "stdout",
     "output_type": "stream",
     "text": [
      "SLIMElasticNetRecommender: Processed 11072 (45.2%) in 15.00 min. Items per second: 12.30\n"
     ]
    },
    {
     "name": "stdout",
     "output_type": "stream",
     "text": [
      "SLIMElasticNetRecommender: Processed 14226 (58.0%) in 20.00 min. Items per second: 11.85\n"
     ]
    },
    {
     "name": "stdout",
     "output_type": "stream",
     "text": [
      "SLIMElasticNetRecommender: Processed 17437 (71.2%) in 25.00 min. Items per second: 11.62\n"
     ]
    },
    {
     "name": "stdout",
     "output_type": "stream",
     "text": [
      "SLIMElasticNetRecommender: Processed 20453 (83.5%) in 30.00 min. Items per second: 11.36\n"
     ]
    },
    {
     "name": "stdout",
     "output_type": "stream",
     "text": [
      "SLIMElasticNetRecommender: Processed 23804 (97.1%) in 35.01 min. Items per second: 11.33\n"
     ]
    },
    {
     "name": "stdout",
     "output_type": "stream",
     "text": [
      "SLIMElasticNetRecommender: Processed 24507 (100.0%) in 36.05 min. Items per second: 11.33\n"
     ]
    },
    {
     "name": "stdout",
     "output_type": "stream",
     "text": [
      "EvaluatorHoldout: Processed 40076 (100.0%) in 47.62 sec. Users per second: 842\n"
     ]
    },
    {
     "name": "stdout",
     "output_type": "stream",
     "text": [
      "SearchBayesianSkopt: Config 1 is suboptimal. Config: {'topK': 628, 'l1_ratio': 0.0013132983626584279, 'alpha': 0.0011620768599088333} - results: PRECISION: 0.0410645, PRECISION_RECALL_MIN_DEN: 0.0766653, RECALL: 0.0734126, MAP: 0.0190509, MAP_MIN_DEN: 0.0356704, MRR: 0.1383839, NDCG: 0.0702688, F1: 0.0526682, HIT_RATE: 0.2946402, ARHR_ALL_HITS: 0.1615527, NOVELTY: 0.0044333, AVERAGE_POPULARITY: 0.1606104, DIVERSITY_MEAN_INTER_LIST: 0.9653517, DIVERSITY_HERFINDAHL: 0.9965328, COVERAGE_ITEM: 0.2060636, COVERAGE_ITEM_HIT: 0.0592484, ITEMS_IN_GT: 0.9868201, COVERAGE_USER: 0.9626943, COVERAGE_USER_HIT: 0.2836484, USERS_IN_GT: 0.9626943, DIVERSITY_GINI: 0.0269359, SHANNON_ENTROPY: 9.4839558, RATIO_DIVERSITY_HERFINDAHL: 0.9968622, RATIO_DIVERSITY_GINI: 0.0532457, RATIO_SHANNON_ENTROPY: 0.7030218, RATIO_AVERAGE_POPULARITY: 3.1592438, RATIO_NOVELTY: 0.2984864, \n",
      "\n",
      "Iteration No: 2 ended. Evaluation done at random point.\n",
      "Time taken: 2211.4929\n",
      "Function value obtained: -0.0191\n",
      "Current minimum: -0.0196\n",
      "Iteration No: 3 started. Evaluating function at random point.\n",
      "SearchBayesianSkopt: Testing config: {'topK': 576, 'l1_ratio': 0.0015021420046242443, 'alpha': 0.003727452781574648}\n"
     ]
    },
    {
     "name": "stdout",
     "output_type": "stream",
     "text": [
      "SLIMElasticNetRecommender: Processed 3204 (13.1%) in 5.00 min. Items per second: 10.67\n"
     ]
    },
    {
     "name": "stdout",
     "output_type": "stream",
     "text": [
      "SLIMElasticNetRecommender: Processed 6979 (28.5%) in 10.00 min. Items per second: 11.63\n"
     ]
    },
    {
     "name": "stdout",
     "output_type": "stream",
     "text": [
      "SLIMElasticNetRecommender: Processed 10769 (43.9%) in 15.00 min. Items per second: 11.96\n"
     ]
    },
    {
     "name": "stdout",
     "output_type": "stream",
     "text": [
      "SLIMElasticNetRecommender: Processed 14573 (59.5%) in 20.00 min. Items per second: 12.14\n"
     ]
    },
    {
     "name": "stdout",
     "output_type": "stream",
     "text": [
      "SLIMElasticNetRecommender: Processed 18398 (75.1%) in 25.00 min. Items per second: 12.26\n"
     ]
    },
    {
     "name": "stdout",
     "output_type": "stream",
     "text": [
      "SLIMElasticNetRecommender: Processed 22206 (90.6%) in 30.01 min. Items per second: 12.33\n"
     ]
    },
    {
     "name": "stdout",
     "output_type": "stream",
     "text": [
      "SLIMElasticNetRecommender: Processed 24507 (100.0%) in 32.95 min. Items per second: 12.40\n"
     ]
    },
    {
     "name": "stdout",
     "output_type": "stream",
     "text": [
      "EvaluatorHoldout: Processed 40076 (100.0%) in 49.84 sec. Users per second: 804\n"
     ]
    },
    {
     "name": "stdout",
     "output_type": "stream",
     "text": [
      "SearchBayesianSkopt: New best config found. Config 2: {'topK': 576, 'l1_ratio': 0.0015021420046242443, 'alpha': 0.003727452781574648} - results: PRECISION: 0.0426190, PRECISION_RECALL_MIN_DEN: 0.0811531, RECALL: 0.0779071, MAP: 0.0196296, MAP_MIN_DEN: 0.0372230, MRR: 0.1422276, NDCG: 0.0732704, F1: 0.0550972, HIT_RATE: 0.3054696, ARHR_ALL_HITS: 0.1663178, NOVELTY: 0.0042994, AVERAGE_POPULARITY: 0.1918256, DIVERSITY_MEAN_INTER_LIST: 0.9479619, DIVERSITY_HERFINDAHL: 0.9947938, COVERAGE_ITEM: 0.1582405, COVERAGE_ITEM_HIT: 0.0489656, ITEMS_IN_GT: 0.9868201, COVERAGE_USER: 0.9626943, COVERAGE_USER_HIT: 0.2940738, USERS_IN_GT: 0.9626943, DIVERSITY_GINI: 0.0193098, SHANNON_ENTROPY: 8.9663884, RATIO_DIVERSITY_HERFINDAHL: 0.9951227, RATIO_DIVERSITY_GINI: 0.0381708, RATIO_SHANNON_ENTROPY: 0.6646559, RATIO_AVERAGE_POPULARITY: 3.7732526, RATIO_NOVELTY: 0.2894740, \n",
      "\n",
      "Iteration No: 3 ended. Evaluation done at random point.\n",
      "Time taken: 2027.4300\n",
      "Function value obtained: -0.0196\n",
      "Current minimum: -0.0196\n",
      "Iteration No: 4 started. Evaluating function at random point.\n",
      "SearchBayesianSkopt: Testing config: {'topK': 517, 'l1_ratio': 0.0013701451767266118, 'alpha': 0.0010098246452307739}\n"
     ]
    },
    {
     "name": "stdout",
     "output_type": "stream",
     "text": [
      "SLIMElasticNetRecommender: Processed 3136 (12.8%) in 5.00 min. Items per second: 10.45\n"
     ]
    },
    {
     "name": "stdout",
     "output_type": "stream",
     "text": [
      "SLIMElasticNetRecommender: Processed 6375 (26.0%) in 10.00 min. Items per second: 10.62\n"
     ]
    },
    {
     "name": "stdout",
     "output_type": "stream",
     "text": [
      "SLIMElasticNetRecommender: Processed 9596 (39.2%) in 15.00 min. Items per second: 10.66\n"
     ]
    },
    {
     "name": "stdout",
     "output_type": "stream",
     "text": [
      "SLIMElasticNetRecommender: Processed 12942 (52.8%) in 20.00 min. Items per second: 10.78\n"
     ]
    },
    {
     "name": "stdout",
     "output_type": "stream",
     "text": [
      "SLIMElasticNetRecommender: Processed 16625 (67.8%) in 25.00 min. Items per second: 11.08\n"
     ]
    },
    {
     "name": "stdout",
     "output_type": "stream",
     "text": [
      "SLIMElasticNetRecommender: Processed 20565 (83.9%) in 30.00 min. Items per second: 11.42\n"
     ]
    },
    {
     "name": "stdout",
     "output_type": "stream",
     "text": [
      "SLIMElasticNetRecommender: Processed 24123 (98.4%) in 35.01 min. Items per second: 11.48\n"
     ]
    },
    {
     "name": "stdout",
     "output_type": "stream",
     "text": [
      "SLIMElasticNetRecommender: Processed 24507 (100.0%) in 35.56 min. Items per second: 11.49\n"
     ]
    },
    {
     "name": "stdout",
     "output_type": "stream",
     "text": [
      "EvaluatorHoldout: Processed 40076 (100.0%) in 44.70 sec. Users per second: 896\n"
     ]
    },
    {
     "name": "stdout",
     "output_type": "stream",
     "text": [
      "SearchBayesianSkopt: Config 3 is suboptimal. Config: {'topK': 517, 'l1_ratio': 0.0013701451767266118, 'alpha': 0.0010098246452307739} - results: PRECISION: 0.0405430, PRECISION_RECALL_MIN_DEN: 0.0755504, RECALL: 0.0723422, MAP: 0.0188393, MAP_MIN_DEN: 0.0352548, MRR: 0.1374747, NDCG: 0.0694725, F1: 0.0519637, HIT_RATE: 0.2918704, ARHR_ALL_HITS: 0.1601727, NOVELTY: 0.0044681, AVERAGE_POPULARITY: 0.1532656, DIVERSITY_MEAN_INTER_LIST: 0.9687126, DIVERSITY_HERFINDAHL: 0.9968688, COVERAGE_ITEM: 0.2289550, COVERAGE_ITEM_HIT: 0.0601053, ITEMS_IN_GT: 0.9868201, COVERAGE_USER: 0.9626943, COVERAGE_USER_HIT: 0.2809820, USERS_IN_GT: 0.9626943, DIVERSITY_GINI: 0.0292173, SHANNON_ENTROPY: 9.6105145, RATIO_DIVERSITY_HERFINDAHL: 0.9971984, RATIO_DIVERSITY_GINI: 0.0577555, RATIO_SHANNON_ENTROPY: 0.7124033, RATIO_AVERAGE_POPULARITY: 3.0147690, RATIO_NOVELTY: 0.3008298, \n",
      "\n",
      "Iteration No: 4 ended. Evaluation done at random point.\n",
      "Time taken: 2178.7845\n",
      "Function value obtained: -0.0188\n",
      "Current minimum: -0.0196\n",
      "Iteration No: 5 started. Evaluating function at random point.\n",
      "SearchBayesianSkopt: Testing config: {'topK': 437, 'l1_ratio': 0.0054009802146693904, 'alpha': 0.0019749383941290175}\n"
     ]
    },
    {
     "name": "stdout",
     "output_type": "stream",
     "text": [
      "SLIMElasticNetRecommender: Processed 3124 (12.7%) in 5.00 min. Items per second: 10.41\n"
     ]
    },
    {
     "name": "stdout",
     "output_type": "stream",
     "text": [
      "SLIMElasticNetRecommender: Processed 6651 (27.1%) in 10.00 min. Items per second: 11.08\n"
     ]
    },
    {
     "name": "stdout",
     "output_type": "stream",
     "text": [
      "SLIMElasticNetRecommender: Processed 10417 (42.5%) in 15.00 min. Items per second: 11.57\n"
     ]
    },
    {
     "name": "stdout",
     "output_type": "stream",
     "text": [
      "SLIMElasticNetRecommender: Processed 14004 (57.1%) in 20.00 min. Items per second: 11.67\n"
     ]
    },
    {
     "name": "stdout",
     "output_type": "stream",
     "text": [
      "SLIMElasticNetRecommender: Processed 17559 (71.6%) in 25.00 min. Items per second: 11.70\n"
     ]
    },
    {
     "name": "stdout",
     "output_type": "stream",
     "text": [
      "SLIMElasticNetRecommender: Processed 21741 (88.7%) in 30.00 min. Items per second: 12.08\n"
     ]
    },
    {
     "name": "stdout",
     "output_type": "stream",
     "text": [
      "SLIMElasticNetRecommender: Processed 24507 (100.0%) in 33.48 min. Items per second: 12.20\n"
     ]
    },
    {
     "name": "stdout",
     "output_type": "stream",
     "text": [
      "EvaluatorHoldout: Processed 40076 (100.0%) in 44.79 sec. Users per second: 895\n"
     ]
    },
    {
     "name": "stdout",
     "output_type": "stream",
     "text": [
      "SearchBayesianSkopt: Config 4 is suboptimal. Config: {'topK': 437, 'l1_ratio': 0.0054009802146693904, 'alpha': 0.0019749383941290175} - results: PRECISION: 0.0423595, PRECISION_RECALL_MIN_DEN: 0.0798417, RECALL: 0.0765518, MAP: 0.0195483, MAP_MIN_DEN: 0.0369740, MRR: 0.1416091, NDCG: 0.0726535, F1: 0.0545398, HIT_RATE: 0.3029993, ARHR_ALL_HITS: 0.1655419, NOVELTY: 0.0043975, AVERAGE_POPULARITY: 0.1697007, DIVERSITY_MEAN_INTER_LIST: 0.9603536, DIVERSITY_HERFINDAHL: 0.9960330, COVERAGE_ITEM: 0.1727262, COVERAGE_ITEM_HIT: 0.0553311, ITEMS_IN_GT: 0.9868201, COVERAGE_USER: 0.9626943, COVERAGE_USER_HIT: 0.2916957, USERS_IN_GT: 0.9626943, DIVERSITY_GINI: 0.0244570, SHANNON_ENTROPY: 9.3351815, RATIO_DIVERSITY_HERFINDAHL: 0.9963623, RATIO_DIVERSITY_GINI: 0.0483455, RATIO_SHANNON_ENTROPY: 0.6919936, RATIO_AVERAGE_POPULARITY: 3.3380515, RATIO_NOVELTY: 0.2960793, \n",
      "\n",
      "Iteration No: 5 ended. Evaluation done at random point.\n",
      "Time taken: 2054.0120\n",
      "Function value obtained: -0.0195\n",
      "Current minimum: -0.0196\n",
      "Iteration No: 6 started. Evaluating function at random point.\n",
      "SearchBayesianSkopt: Testing config: {'topK': 187, 'l1_ratio': 0.0026523125014943816, 'alpha': 0.0032521564041746095}\n"
     ]
    },
    {
     "name": "stdout",
     "output_type": "stream",
     "text": [
      "SLIMElasticNetRecommender: Processed 3761 (15.3%) in 5.00 min. Items per second: 12.53\n"
     ]
    },
    {
     "name": "stdout",
     "output_type": "stream",
     "text": [
      "SLIMElasticNetRecommender: Processed 8086 (33.0%) in 10.00 min. Items per second: 13.47\n"
     ]
    },
    {
     "name": "stdout",
     "output_type": "stream",
     "text": [
      "SLIMElasticNetRecommender: Processed 12103 (49.4%) in 15.00 min. Items per second: 13.44\n"
     ]
    },
    {
     "name": "stdout",
     "output_type": "stream",
     "text": [
      "SLIMElasticNetRecommender: Processed 16417 (67.0%) in 20.00 min. Items per second: 13.68\n"
     ]
    },
    {
     "name": "stdout",
     "output_type": "stream",
     "text": [
      "SLIMElasticNetRecommender: Processed 20887 (85.2%) in 25.00 min. Items per second: 13.92\n"
     ]
    },
    {
     "name": "stdout",
     "output_type": "stream",
     "text": [
      "SLIMElasticNetRecommender: Processed 24507 (100.0%) in 29.08 min. Items per second: 14.05\n"
     ]
    },
    {
     "name": "stdout",
     "output_type": "stream",
     "text": [
      "EvaluatorHoldout: Processed 40076 (100.0%) in 35.48 sec. Users per second: 1129\n"
     ]
    },
    {
     "name": "stdout",
     "output_type": "stream",
     "text": [
      "SearchBayesianSkopt: Config 5 is suboptimal. Config: {'topK': 187, 'l1_ratio': 0.0026523125014943816, 'alpha': 0.0032521564041746095} - results: PRECISION: 0.0424693, PRECISION_RECALL_MIN_DEN: 0.0804464, RECALL: 0.0772022, MAP: 0.0195344, MAP_MIN_DEN: 0.0370077, MRR: 0.1413960, NDCG: 0.0728251, F1: 0.0547954, HIT_RATE: 0.3044216, ARHR_ALL_HITS: 0.1654202, NOVELTY: 0.0043685, AVERAGE_POPULARITY: 0.1756777, DIVERSITY_MEAN_INTER_LIST: 0.9568035, DIVERSITY_HERFINDAHL: 0.9956780, COVERAGE_ITEM: 0.1744400, COVERAGE_ITEM_HIT: 0.0516995, ITEMS_IN_GT: 0.9868201, COVERAGE_USER: 0.9626943, COVERAGE_USER_HIT: 0.2930649, USERS_IN_GT: 0.9626943, DIVERSITY_GINI: 0.0226898, SHANNON_ENTROPY: 9.2157253, RATIO_DIVERSITY_HERFINDAHL: 0.9960071, RATIO_DIVERSITY_GINI: 0.0448522, RATIO_SHANNON_ENTROPY: 0.6831386, RATIO_AVERAGE_POPULARITY: 3.4556214, RATIO_NOVELTY: 0.2941246, \n",
      "\n",
      "Iteration No: 6 ended. Evaluation done at random point.\n",
      "Time taken: 1780.6200\n",
      "Function value obtained: -0.0195\n",
      "Current minimum: -0.0196\n",
      "Iteration No: 7 started. Evaluating function at random point.\n",
      "SearchBayesianSkopt: Testing config: {'topK': 730, 'l1_ratio': 0.003770884380506783, 'alpha': 0.003670662365132738}\n"
     ]
    },
    {
     "name": "stdout",
     "output_type": "stream",
     "text": [
      "SLIMElasticNetRecommender: Processed 4059 (16.6%) in 5.00 min. Items per second: 13.52\n"
     ]
    },
    {
     "name": "stdout",
     "output_type": "stream",
     "text": [
      "SLIMElasticNetRecommender: Processed 8597 (35.1%) in 10.00 min. Items per second: 14.32\n"
     ]
    },
    {
     "name": "stdout",
     "output_type": "stream",
     "text": [
      "SLIMElasticNetRecommender: Processed 13240 (54.0%) in 15.00 min. Items per second: 14.71\n"
     ]
    },
    {
     "name": "stdout",
     "output_type": "stream",
     "text": [
      "SLIMElasticNetRecommender: Processed 17707 (72.3%) in 20.00 min. Items per second: 14.75\n"
     ]
    },
    {
     "name": "stdout",
     "output_type": "stream",
     "text": [
      "SLIMElasticNetRecommender: Processed 22118 (90.3%) in 25.00 min. Items per second: 14.74\n"
     ]
    },
    {
     "name": "stdout",
     "output_type": "stream",
     "text": [
      "SLIMElasticNetRecommender: Processed 24507 (100.0%) in 27.75 min. Items per second: 14.72\n"
     ]
    },
    {
     "name": "stdout",
     "output_type": "stream",
     "text": [
      "EvaluatorHoldout: Processed 40076 (100.0%) in 54.34 sec. Users per second: 738\n"
     ]
    },
    {
     "name": "stdout",
     "output_type": "stream",
     "text": [
      "SearchBayesianSkopt: New best config found. Config 6: {'topK': 730, 'l1_ratio': 0.003770884380506783, 'alpha': 0.003670662365132738} - results: PRECISION: 0.0426764, PRECISION_RECALL_MIN_DEN: 0.0812831, RECALL: 0.0780466, MAP: 0.0197093, MAP_MIN_DEN: 0.0374387, MRR: 0.1429698, NDCG: 0.0735637, F1: 0.0551800, HIT_RATE: 0.3058189, ARHR_ALL_HITS: 0.1671413, NOVELTY: 0.0042832, AVERAGE_POPULARITY: 0.1968941, DIVERSITY_MEAN_INTER_LIST: 0.9448902, DIVERSITY_HERFINDAHL: 0.9944867, COVERAGE_ITEM: 0.1505692, COVERAGE_ITEM_HIT: 0.0481495, ITEMS_IN_GT: 0.9868201, COVERAGE_USER: 0.9626943, COVERAGE_USER_HIT: 0.2944101, USERS_IN_GT: 0.9626943, DIVERSITY_GINI: 0.0187205, SHANNON_ENTROPY: 8.9093734, RATIO_DIVERSITY_HERFINDAHL: 0.9948154, RATIO_DIVERSITY_GINI: 0.0370058, RATIO_SHANNON_ENTROPY: 0.6604295, RATIO_AVERAGE_POPULARITY: 3.8729514, RATIO_NOVELTY: 0.2883804, \n",
      "\n",
      "Iteration No: 7 ended. Evaluation done at random point.\n",
      "Time taken: 1719.8426\n",
      "Function value obtained: -0.0197\n",
      "Current minimum: -0.0197\n",
      "Iteration No: 8 started. Evaluating function at random point.\n",
      "SearchBayesianSkopt: Testing config: {'topK': 217, 'l1_ratio': 0.0013262099418931256, 'alpha': 0.004250960834744301}\n"
     ]
    },
    {
     "name": "stdout",
     "output_type": "stream",
     "text": [
      "SLIMElasticNetRecommender: Processed 3845 (15.7%) in 5.00 min. Items per second: 12.81\n"
     ]
    },
    {
     "name": "stdout",
     "output_type": "stream",
     "text": [
      "SLIMElasticNetRecommender: Processed 8207 (33.5%) in 10.00 min. Items per second: 13.67\n"
     ]
    },
    {
     "name": "stdout",
     "output_type": "stream",
     "text": [
      "SLIMElasticNetRecommender: Processed 12355 (50.4%) in 15.00 min. Items per second: 13.72\n"
     ]
    },
    {
     "name": "stdout",
     "output_type": "stream",
     "text": [
      "SLIMElasticNetRecommender: Processed 16744 (68.3%) in 20.00 min. Items per second: 13.95\n"
     ]
    },
    {
     "name": "stdout",
     "output_type": "stream",
     "text": [
      "SLIMElasticNetRecommender: Processed 21090 (86.1%) in 25.00 min. Items per second: 14.06\n"
     ]
    },
    {
     "name": "stdout",
     "output_type": "stream",
     "text": [
      "SLIMElasticNetRecommender: Processed 24507 (100.0%) in 29.11 min. Items per second: 14.03\n"
     ]
    },
    {
     "name": "stdout",
     "output_type": "stream",
     "text": [
      "EvaluatorHoldout: Processed 40076 (100.0%) in 36.49 sec. Users per second: 1098\n"
     ]
    },
    {
     "name": "stdout",
     "output_type": "stream",
     "text": [
      "SearchBayesianSkopt: Config 7 is suboptimal. Config: {'topK': 217, 'l1_ratio': 0.0013262099418931256, 'alpha': 0.004250960834744301} - results: PRECISION: 0.0425192, PRECISION_RECALL_MIN_DEN: 0.0811306, RECALL: 0.0778909, MAP: 0.0195172, MAP_MIN_DEN: 0.0371360, MRR: 0.1415692, NDCG: 0.0730974, F1: 0.0550096, HIT_RATE: 0.3048458, ARHR_ALL_HITS: 0.1654526, NOVELTY: 0.0043236, AVERAGE_POPULARITY: 0.1851647, DIVERSITY_MEAN_INTER_LIST: 0.9515690, DIVERSITY_HERFINDAHL: 0.9951545, COVERAGE_ITEM: 0.1708083, COVERAGE_ITEM_HIT: 0.0492920, ITEMS_IN_GT: 0.9868201, COVERAGE_USER: 0.9626943, COVERAGE_USER_HIT: 0.2934733, USERS_IN_GT: 0.9626943, DIVERSITY_GINI: 0.0204059, SHANNON_ENTROPY: 9.0486401, RATIO_DIVERSITY_HERFINDAHL: 0.9954835, RATIO_DIVERSITY_GINI: 0.0403374, RATIO_SHANNON_ENTROPY: 0.6707530, RATIO_AVERAGE_POPULARITY: 3.6422322, RATIO_NOVELTY: 0.2911015, \n",
      "\n",
      "Iteration No: 8 ended. Evaluation done at random point.\n",
      "Time taken: 1783.4876\n",
      "Function value obtained: -0.0195\n",
      "Current minimum: -0.0197\n",
      "Iteration No: 9 started. Evaluating function at random point.\n",
      "SearchBayesianSkopt: Testing config: {'topK': 364, 'l1_ratio': 0.001387729906025203, 'alpha': 0.004692124747025298}\n"
     ]
    },
    {
     "name": "stdout",
     "output_type": "stream",
     "text": [
      "SLIMElasticNetRecommender: Processed 3316 (13.5%) in 5.00 min. Items per second: 11.05\n"
     ]
    },
    {
     "name": "stdout",
     "output_type": "stream",
     "text": [
      "SLIMElasticNetRecommender: Processed 6942 (28.3%) in 10.00 min. Items per second: 11.57\n"
     ]
    },
    {
     "name": "stdout",
     "output_type": "stream",
     "text": [
      "SLIMElasticNetRecommender: Processed 10706 (43.7%) in 15.00 min. Items per second: 11.89\n"
     ]
    },
    {
     "name": "stdout",
     "output_type": "stream",
     "text": [
      "SLIMElasticNetRecommender: Processed 14486 (59.1%) in 20.00 min. Items per second: 12.07\n"
     ]
    },
    {
     "name": "stdout",
     "output_type": "stream",
     "text": [
      "SLIMElasticNetRecommender: Processed 18422 (75.2%) in 25.00 min. Items per second: 12.28\n"
     ]
    },
    {
     "name": "stdout",
     "output_type": "stream",
     "text": [
      "SLIMElasticNetRecommender: Processed 22536 (92.0%) in 30.00 min. Items per second: 12.52\n"
     ]
    },
    {
     "name": "stdout",
     "output_type": "stream",
     "text": [
      "SLIMElasticNetRecommender: Processed 24507 (100.0%) in 32.44 min. Items per second: 12.59\n"
     ]
    },
    {
     "name": "stdout",
     "output_type": "stream",
     "text": [
      "EvaluatorHoldout: Processed 40076 (100.0%) in 43.07 sec. Users per second: 930\n"
     ]
    },
    {
     "name": "stdout",
     "output_type": "stream",
     "text": [
      "SearchBayesianSkopt: Config 8 is suboptimal. Config: {'topK': 364, 'l1_ratio': 0.001387729906025203, 'alpha': 0.004692124747025298} - results: PRECISION: 0.0426016, PRECISION_RECALL_MIN_DEN: 0.0812648, RECALL: 0.0780259, MAP: 0.0195732, MAP_MIN_DEN: 0.0372582, MRR: 0.1421297, NDCG: 0.0733023, F1: 0.0551122, HIT_RATE: 0.3055944, ARHR_ALL_HITS: 0.1660411, NOVELTY: 0.0042881, AVERAGE_POPULARITY: 0.1938246, DIVERSITY_MEAN_INTER_LIST: 0.9465534, DIVERSITY_HERFINDAHL: 0.9946530, COVERAGE_ITEM: 0.1603623, COVERAGE_ITEM_HIT: 0.0473334, ITEMS_IN_GT: 0.9868201, COVERAGE_USER: 0.9626943, COVERAGE_USER_HIT: 0.2941940, USERS_IN_GT: 0.9626943, DIVERSITY_GINI: 0.0187190, SHANNON_ENTROPY: 8.9175245, RATIO_DIVERSITY_HERFINDAHL: 0.9949818, RATIO_DIVERSITY_GINI: 0.0370028, RATIO_SHANNON_ENTROPY: 0.6610337, RATIO_AVERAGE_POPULARITY: 3.8125745, RATIO_NOVELTY: 0.2887084, \n",
      "\n",
      "Iteration No: 9 ended. Evaluation done at random point.\n",
      "Time taken: 1990.2468\n",
      "Function value obtained: -0.0196\n",
      "Current minimum: -0.0197\n",
      "Iteration No: 10 started. Evaluating function at random point.\n",
      "SearchBayesianSkopt: Testing config: {'topK': 363, 'l1_ratio': 0.002338707383124273, 'alpha': 0.002492486279580718}\n"
     ]
    },
    {
     "name": "stdout",
     "output_type": "stream",
     "text": [
      "SLIMElasticNetRecommender: Processed 3110 (12.7%) in 5.00 min. Items per second: 10.36\n"
     ]
    },
    {
     "name": "stdout",
     "output_type": "stream",
     "text": [
      "SLIMElasticNetRecommender: Processed 7137 (29.1%) in 10.00 min. Items per second: 11.89\n"
     ]
    },
    {
     "name": "stdout",
     "output_type": "stream",
     "text": [
      "SLIMElasticNetRecommender: Processed 11434 (46.7%) in 15.00 min. Items per second: 12.70\n"
     ]
    },
    {
     "name": "stdout",
     "output_type": "stream",
     "text": [
      "SLIMElasticNetRecommender: Processed 15990 (65.2%) in 20.00 min. Items per second: 13.32\n"
     ]
    },
    {
     "name": "stdout",
     "output_type": "stream",
     "text": [
      "SLIMElasticNetRecommender: Processed 20445 (83.4%) in 25.00 min. Items per second: 13.63\n"
     ]
    },
    {
     "name": "stdout",
     "output_type": "stream",
     "text": [
      "SLIMElasticNetRecommender: Processed 24507 (100.0%) in 29.66 min. Items per second: 13.77\n"
     ]
    },
    {
     "name": "stdout",
     "output_type": "stream",
     "text": [
      "EvaluatorHoldout: Processed 40076 (100.0%) in 41.33 sec. Users per second: 970\n"
     ]
    },
    {
     "name": "stdout",
     "output_type": "stream",
     "text": [
      "SearchBayesianSkopt: Config 9 is suboptimal. Config: {'topK': 363, 'l1_ratio': 0.002338707383124273, 'alpha': 0.002492486279580718} - results: PRECISION: 0.0424693, PRECISION_RECALL_MIN_DEN: 0.0801848, RECALL: 0.0769090, MAP: 0.0195609, MAP_MIN_DEN: 0.0369938, MRR: 0.1414779, NDCG: 0.0727653, F1: 0.0547214, HIT_RATE: 0.3035982, ARHR_ALL_HITS: 0.1655539, NOVELTY: 0.0043803, AVERAGE_POPULARITY: 0.1734517, DIVERSITY_MEAN_INTER_LIST: 0.9583299, DIVERSITY_HERFINDAHL: 0.9958306, COVERAGE_ITEM: 0.1760313, COVERAGE_ITEM_HIT: 0.0533317, ITEMS_IN_GT: 0.9868201, COVERAGE_USER: 0.9626943, COVERAGE_USER_HIT: 0.2922722, USERS_IN_GT: 0.9626943, DIVERSITY_GINI: 0.0234148, SHANNON_ENTROPY: 9.2682221, RATIO_DIVERSITY_HERFINDAHL: 0.9961598, RATIO_DIVERSITY_GINI: 0.0462854, RATIO_SHANNON_ENTROPY: 0.6870300, RATIO_AVERAGE_POPULARITY: 3.4118349, RATIO_NOVELTY: 0.2949202, \n",
      "\n",
      "Iteration No: 10 ended. Evaluation done at random point.\n",
      "Time taken: 1821.3650\n",
      "Function value obtained: -0.0196\n",
      "Current minimum: -0.0197\n",
      "Iteration No: 11 started. Evaluating function at random point.\n",
      "SearchBayesianSkopt: Testing config: {'topK': 673, 'l1_ratio': 0.002181810692192432, 'alpha': 0.0016625596422512093}\n"
     ]
    },
    {
     "name": "stdout",
     "output_type": "stream",
     "text": [
      "SLIMElasticNetRecommender: Processed 3832 (15.6%) in 5.00 min. Items per second: 12.77\n"
     ]
    },
    {
     "name": "stdout",
     "output_type": "stream",
     "text": [
      "SLIMElasticNetRecommender: Processed 8225 (33.6%) in 10.00 min. Items per second: 13.71\n"
     ]
    },
    {
     "name": "stdout",
     "output_type": "stream",
     "text": [
      "SLIMElasticNetRecommender: Processed 12785 (52.2%) in 15.00 min. Items per second: 14.20\n"
     ]
    },
    {
     "name": "stdout",
     "output_type": "stream",
     "text": [
      "SLIMElasticNetRecommender: Processed 17274 (70.5%) in 20.00 min. Items per second: 14.39\n"
     ]
    },
    {
     "name": "stdout",
     "output_type": "stream",
     "text": [
      "SLIMElasticNetRecommender: Processed 21702 (88.6%) in 25.00 min. Items per second: 14.47\n"
     ]
    },
    {
     "name": "stdout",
     "output_type": "stream",
     "text": [
      "SLIMElasticNetRecommender: Processed 24507 (100.0%) in 28.16 min. Items per second: 14.51\n"
     ]
    },
    {
     "name": "stdout",
     "output_type": "stream",
     "text": [
      "EvaluatorHoldout: Processed 40076 (100.0%) in 47.63 sec. Users per second: 841\n"
     ]
    },
    {
     "name": "stdout",
     "output_type": "stream",
     "text": [
      "SearchBayesianSkopt: Config 10 is suboptimal. Config: {'topK': 673, 'l1_ratio': 0.002181810692192432, 'alpha': 0.0016625596422512093} - results: PRECISION: 0.0418929, PRECISION_RECALL_MIN_DEN: 0.0787147, RECALL: 0.0754380, MAP: 0.0194788, MAP_MIN_DEN: 0.0367170, MRR: 0.1412831, NDCG: 0.0720401, F1: 0.0538701, HIT_RATE: 0.3001298, ARHR_ALL_HITS: 0.1650472, NOVELTY: 0.0043891, AVERAGE_POPULARITY: 0.1709977, DIVERSITY_MEAN_INTER_LIST: 0.9599615, DIVERSITY_HERFINDAHL: 0.9959938, COVERAGE_ITEM: 0.1783164, COVERAGE_ITEM_HIT: 0.0558208, ITEMS_IN_GT: 0.9868201, COVERAGE_USER: 0.9626943, COVERAGE_USER_HIT: 0.2889332, USERS_IN_GT: 0.9626943, DIVERSITY_GINI: 0.0241096, SHANNON_ENTROPY: 9.3128965, RATIO_DIVERSITY_HERFINDAHL: 0.9963230, RATIO_DIVERSITY_GINI: 0.0476587, RATIO_SHANNON_ENTROPY: 0.6903416, RATIO_AVERAGE_POPULARITY: 3.3635640, RATIO_NOVELTY: 0.2955091, \n",
      "\n",
      "Iteration No: 11 ended. Evaluation done at random point.\n",
      "Time taken: 1737.5796\n",
      "Function value obtained: -0.0195\n",
      "Current minimum: -0.0197\n",
      "Iteration No: 12 started. Evaluating function at random point.\n",
      "SearchBayesianSkopt: Testing config: {'topK': 257, 'l1_ratio': 0.00503486204477083, 'alpha': 0.001580225098524577}\n"
     ]
    },
    {
     "name": "stdout",
     "output_type": "stream",
     "text": [
      "SLIMElasticNetRecommender: Processed 4404 (18.0%) in 5.00 min. Items per second: 14.68\n"
     ]
    },
    {
     "name": "stdout",
     "output_type": "stream",
     "text": [
      "SLIMElasticNetRecommender: Processed 9162 (37.4%) in 10.00 min. Items per second: 15.27\n"
     ]
    },
    {
     "name": "stdout",
     "output_type": "stream",
     "text": [
      "SLIMElasticNetRecommender: Processed 13970 (57.0%) in 15.00 min. Items per second: 15.52\n"
     ]
    },
    {
     "name": "stdout",
     "output_type": "stream",
     "text": [
      "SLIMElasticNetRecommender: Processed 18640 (76.1%) in 20.00 min. Items per second: 15.53\n"
     ]
    },
    {
     "name": "stdout",
     "output_type": "stream",
     "text": [
      "SLIMElasticNetRecommender: Processed 23094 (94.2%) in 25.00 min. Items per second: 15.39\n"
     ]
    },
    {
     "name": "stdout",
     "output_type": "stream",
     "text": [
      "SLIMElasticNetRecommender: Processed 24507 (100.0%) in 26.58 min. Items per second: 15.37\n"
     ]
    },
    {
     "name": "stdout",
     "output_type": "stream",
     "text": [
      "EvaluatorHoldout: Processed 40076 (100.0%) in 35.41 sec. Users per second: 1132\n"
     ]
    },
    {
     "name": "stdout",
     "output_type": "stream",
     "text": [
      "SearchBayesianSkopt: Config 11 is suboptimal. Config: {'topK': 257, 'l1_ratio': 0.00503486204477083, 'alpha': 0.001580225098524577} - results: PRECISION: 0.0415186, PRECISION_RECALL_MIN_DEN: 0.0778877, RECALL: 0.0746431, MAP: 0.0191944, MAP_MIN_DEN: 0.0361790, MRR: 0.1397621, NDCG: 0.0711841, F1: 0.0533580, HIT_RATE: 0.2983332, ARHR_ALL_HITS: 0.1629650, NOVELTY: 0.0044669, AVERAGE_POPULARITY: 0.1542732, DIVERSITY_MEAN_INTER_LIST: 0.9675186, DIVERSITY_HERFINDAHL: 0.9967494, COVERAGE_ITEM: 0.1937406, COVERAGE_ITEM_HIT: 0.0588811, ITEMS_IN_GT: 0.9868201, COVERAGE_USER: 0.9626943, COVERAGE_USER_HIT: 0.2872036, USERS_IN_GT: 0.9626943, DIVERSITY_GINI: 0.0283970, SHANNON_ENTROPY: 9.5763306, RATIO_DIVERSITY_HERFINDAHL: 0.9970790, RATIO_DIVERSITY_GINI: 0.0561338, RATIO_SHANNON_ENTROPY: 0.7098693, RATIO_AVERAGE_POPULARITY: 3.0345898, RATIO_NOVELTY: 0.3007483, \n",
      "\n",
      "Iteration No: 12 ended. Evaluation done at random point.\n",
      "Time taken: 1630.6488\n",
      "Function value obtained: -0.0192\n",
      "Current minimum: -0.0197\n",
      "Iteration No: 13 started. Evaluating function at random point.\n",
      "SearchBayesianSkopt: Testing config: {'topK': 348, 'l1_ratio': 0.0059724656458884475, 'alpha': 0.0026779746687659173}\n"
     ]
    },
    {
     "name": "stdout",
     "output_type": "stream",
     "text": [
      "SLIMElasticNetRecommender: Processed 4078 (16.6%) in 5.00 min. Items per second: 13.59\n"
     ]
    },
    {
     "name": "stdout",
     "output_type": "stream",
     "text": [
      "SLIMElasticNetRecommender: Processed 8534 (34.8%) in 10.00 min. Items per second: 14.22\n"
     ]
    },
    {
     "name": "stdout",
     "output_type": "stream",
     "text": [
      "SLIMElasticNetRecommender: Processed 13088 (53.4%) in 15.00 min. Items per second: 14.54\n"
     ]
    },
    {
     "name": "stdout",
     "output_type": "stream",
     "text": [
      "SLIMElasticNetRecommender: Processed 17553 (71.6%) in 20.00 min. Items per second: 14.62\n"
     ]
    },
    {
     "name": "stdout",
     "output_type": "stream",
     "text": [
      "SLIMElasticNetRecommender: Processed 22046 (90.0%) in 25.00 min. Items per second: 14.69\n"
     ]
    },
    {
     "name": "stdout",
     "output_type": "stream",
     "text": [
      "SLIMElasticNetRecommender: Processed 24507 (100.0%) in 27.70 min. Items per second: 14.74\n"
     ]
    },
    {
     "name": "stdout",
     "output_type": "stream",
     "text": [
      "EvaluatorHoldout: Processed 40076 (100.0%) in 43.52 sec. Users per second: 921\n"
     ]
    },
    {
     "name": "stdout",
     "output_type": "stream",
     "text": [
      "SearchBayesianSkopt: Config 12 is suboptimal. Config: {'topK': 348, 'l1_ratio': 0.0059724656458884475, 'alpha': 0.0026779746687659173} - results: PRECISION: 0.0425292, PRECISION_RECALL_MIN_DEN: 0.0806767, RECALL: 0.0774168, MAP: 0.0196642, MAP_MIN_DEN: 0.0372911, MRR: 0.1425126, NDCG: 0.0732295, F1: 0.0548993, HIT_RATE: 0.3046462, ARHR_ALL_HITS: 0.1666206, NOVELTY: 0.0043624, AVERAGE_POPULARITY: 0.1782022, DIVERSITY_MEAN_INTER_LIST: 0.9558061, DIVERSITY_HERFINDAHL: 0.9955782, COVERAGE_ITEM: 0.1673807, COVERAGE_ITEM_HIT: 0.0522708, ITEMS_IN_GT: 0.9868201, COVERAGE_USER: 0.9626943, COVERAGE_USER_HIT: 0.2932811, USERS_IN_GT: 0.9626943, DIVERSITY_GINI: 0.0226367, SHANNON_ENTROPY: 9.2042562, RATIO_DIVERSITY_HERFINDAHL: 0.9959074, RATIO_DIVERSITY_GINI: 0.0447472, RATIO_SHANNON_ENTROPY: 0.6822884, RATIO_AVERAGE_POPULARITY: 3.5052788, RATIO_NOVELTY: 0.2937116, \n",
      "\n",
      "Iteration No: 13 ended. Evaluation done at random point.\n",
      "Time taken: 1706.1947\n",
      "Function value obtained: -0.0197\n",
      "Current minimum: -0.0197\n",
      "Iteration No: 14 started. Evaluating function at random point.\n",
      "SearchBayesianSkopt: Testing config: {'topK': 62, 'l1_ratio': 0.0010605563723216976, 'alpha': 0.0021287976805725328}\n"
     ]
    },
    {
     "name": "stdout",
     "output_type": "stream",
     "text": [
      "SLIMElasticNetRecommender: Processed 3822 (15.6%) in 5.00 min. Items per second: 12.73\n"
     ]
    },
    {
     "name": "stdout",
     "output_type": "stream",
     "text": [
      "SLIMElasticNetRecommender: Processed 7962 (32.5%) in 10.00 min. Items per second: 13.27\n"
     ]
    },
    {
     "name": "stdout",
     "output_type": "stream",
     "text": [
      "SLIMElasticNetRecommender: Processed 12171 (49.7%) in 15.00 min. Items per second: 13.52\n"
     ]
    },
    {
     "name": "stdout",
     "output_type": "stream",
     "text": [
      "SLIMElasticNetRecommender: Processed 16741 (68.3%) in 20.00 min. Items per second: 13.95\n"
     ]
    },
    {
     "name": "stdout",
     "output_type": "stream",
     "text": [
      "SLIMElasticNetRecommender: Processed 21425 (87.4%) in 25.00 min. Items per second: 14.28\n"
     ]
    },
    {
     "name": "stdout",
     "output_type": "stream",
     "text": [
      "SLIMElasticNetRecommender: Processed 24507 (100.0%) in 28.26 min. Items per second: 14.45\n"
     ]
    },
    {
     "name": "stdout",
     "output_type": "stream",
     "text": [
      "EvaluatorHoldout: Processed 40076 (100.0%) in 30.64 sec. Users per second: 1308\n"
     ]
    },
    {
     "name": "stdout",
     "output_type": "stream",
     "text": [
      "SearchBayesianSkopt: Config 13 is suboptimal. Config: {'topK': 62, 'l1_ratio': 0.0010605563723216976, 'alpha': 0.0021287976805725328} - results: PRECISION: 0.0409547, PRECISION_RECALL_MIN_DEN: 0.0769234, RECALL: 0.0737229, MAP: 0.0189811, MAP_MIN_DEN: 0.0357754, MRR: 0.1385169, NDCG: 0.0703834, F1: 0.0526572, HIT_RATE: 0.2947400, ARHR_ALL_HITS: 0.1613656, NOVELTY: 0.0045014, AVERAGE_POPULARITY: 0.1462944, DIVERSITY_MEAN_INTER_LIST: 0.9705728, DIVERSITY_HERFINDAHL: 0.9970549, COVERAGE_ITEM: 0.2192435, COVERAGE_ITEM_HIT: 0.0586771, ITEMS_IN_GT: 0.9868201, COVERAGE_USER: 0.9626943, COVERAGE_USER_HIT: 0.2837445, USERS_IN_GT: 0.9626943, DIVERSITY_GINI: 0.0302036, SHANNON_ENTROPY: 9.6734840, RATIO_DIVERSITY_HERFINDAHL: 0.9973845, RATIO_DIVERSITY_GINI: 0.0597050, RATIO_SHANNON_ENTROPY: 0.7170711, RATIO_AVERAGE_POPULARITY: 2.8776437, RATIO_NOVELTY: 0.3030699, \n",
      "\n",
      "Iteration No: 14 ended. Evaluation done at random point.\n",
      "Time taken: 1726.5315\n",
      "Function value obtained: -0.0190\n",
      "Current minimum: -0.0197\n",
      "Iteration No: 15 started. Evaluating function at random point.\n",
      "SearchBayesianSkopt: Testing config: {'topK': 89, 'l1_ratio': 0.006938386810784539, 'alpha': 0.0010547851180105377}\n"
     ]
    },
    {
     "name": "stdout",
     "output_type": "stream",
     "text": [
      "SLIMElasticNetRecommender: Processed 4271 (17.4%) in 5.00 min. Items per second: 14.23\n"
     ]
    },
    {
     "name": "stdout",
     "output_type": "stream",
     "text": [
      "SLIMElasticNetRecommender: Processed 8843 (36.1%) in 10.00 min. Items per second: 14.74\n"
     ]
    },
    {
     "name": "stdout",
     "output_type": "stream",
     "text": [
      "SLIMElasticNetRecommender: Processed 13479 (55.0%) in 15.00 min. Items per second: 14.97\n"
     ]
    },
    {
     "name": "stdout",
     "output_type": "stream",
     "text": [
      "SLIMElasticNetRecommender: Processed 18093 (73.8%) in 20.00 min. Items per second: 15.08\n"
     ]
    },
    {
     "name": "stdout",
     "output_type": "stream",
     "text": [
      "SLIMElasticNetRecommender: Processed 22716 (92.7%) in 25.00 min. Items per second: 15.14\n"
     ]
    },
    {
     "name": "stdout",
     "output_type": "stream",
     "text": [
      "SLIMElasticNetRecommender: Processed 24507 (100.0%) in 26.91 min. Items per second: 15.18\n"
     ]
    },
    {
     "name": "stdout",
     "output_type": "stream",
     "text": [
      "EvaluatorHoldout: Processed 40076 (100.0%) in 31.54 sec. Users per second: 1271\n"
     ]
    },
    {
     "name": "stdout",
     "output_type": "stream",
     "text": [
      "SearchBayesianSkopt: Config 14 is suboptimal. Config: {'topK': 89, 'l1_ratio': 0.006938386810784539, 'alpha': 0.0010547851180105377} - results: PRECISION: 0.0394750, PRECISION_RECALL_MIN_DEN: 0.0733415, RECALL: 0.0701843, MAP: 0.0182625, MAP_MIN_DEN: 0.0342408, MRR: 0.1335390, NDCG: 0.0674988, F1: 0.0505297, HIT_RATE: 0.2844595, ARHR_ALL_HITS: 0.1554328, NOVELTY: 0.0045991, AVERAGE_POPULARITY: 0.1263009, DIVERSITY_MEAN_INTER_LIST: 0.9776595, DIVERSITY_HERFINDAHL: 0.9977635, COVERAGE_ITEM: 0.2283837, COVERAGE_ITEM_HIT: 0.0644306, ITEMS_IN_GT: 0.9868201, COVERAGE_USER: 0.9626943, COVERAGE_USER_HIT: 0.2738476, USERS_IN_GT: 0.9626943, DIVERSITY_GINI: 0.0367961, SHANNON_ENTROPY: 9.9995776, RATIO_DIVERSITY_HERFINDAHL: 0.9980934, RATIO_DIVERSITY_GINI: 0.0727368, RATIO_SHANNON_ENTROPY: 0.7412436, RATIO_AVERAGE_POPULARITY: 2.4843681, RATIO_NOVELTY: 0.3096471, \n",
      "\n"
     ]
    },
    {
     "name": "stdout",
     "output_type": "stream",
     "text": [
      "Iteration No: 15 ended. Evaluation done at random point.\n",
      "Time taken: 1647.0111\n",
      "Function value obtained: -0.0183\n",
      "Current minimum: -0.0197\n",
      "Iteration No: 16 started. Searching for the next optimal point.\n",
      "SearchBayesianSkopt: Testing config: {'topK': 386, 'l1_ratio': 0.0010910517887222527, 'alpha': 0.001104369384863674}\n"
     ]
    },
    {
     "name": "stdout",
     "output_type": "stream",
     "text": [
      "SLIMElasticNetRecommender: Processed 4055 (16.5%) in 5.00 min. Items per second: 13.51\n"
     ]
    },
    {
     "name": "stdout",
     "output_type": "stream",
     "text": [
      "SLIMElasticNetRecommender: Processed 8324 (34.0%) in 10.00 min. Items per second: 13.87\n"
     ]
    },
    {
     "name": "stdout",
     "output_type": "stream",
     "text": [
      "SLIMElasticNetRecommender: Processed 12662 (51.7%) in 15.00 min. Items per second: 14.07\n"
     ]
    },
    {
     "name": "stdout",
     "output_type": "stream",
     "text": [
      "SLIMElasticNetRecommender: Processed 17118 (69.8%) in 20.00 min. Items per second: 14.26\n"
     ]
    },
    {
     "name": "stdout",
     "output_type": "stream",
     "text": [
      "SLIMElasticNetRecommender: Processed 21663 (88.4%) in 25.00 min. Items per second: 14.44\n"
     ]
    },
    {
     "name": "stdout",
     "output_type": "stream",
     "text": [
      "SLIMElasticNetRecommender: Processed 24507 (100.0%) in 28.22 min. Items per second: 14.48\n"
     ]
    },
    {
     "name": "stdout",
     "output_type": "stream",
     "text": [
      "EvaluatorHoldout: Processed 40076 (100.0%) in 40.79 sec. Users per second: 983\n"
     ]
    },
    {
     "name": "stdout",
     "output_type": "stream",
     "text": [
      "SearchBayesianSkopt: Config 15 is suboptimal. Config: {'topK': 386, 'l1_ratio': 0.0010910517887222527, 'alpha': 0.001104369384863674} - results: PRECISION: 0.0405405, PRECISION_RECALL_MIN_DEN: 0.0755046, RECALL: 0.0722924, MAP: 0.0188385, MAP_MIN_DEN: 0.0353139, MRR: 0.1375628, NDCG: 0.0695187, F1: 0.0519488, HIT_RATE: 0.2917956, ARHR_ALL_HITS: 0.1602136, NOVELTY: 0.0044887, AVERAGE_POPULARITY: 0.1492900, DIVERSITY_MEAN_INTER_LIST: 0.9701461, DIVERSITY_HERFINDAHL: 0.9970122, COVERAGE_ITEM: 0.2443792, COVERAGE_ITEM_HIT: 0.0603909, ITEMS_IN_GT: 0.9868201, COVERAGE_USER: 0.9626943, COVERAGE_USER_HIT: 0.2809099, USERS_IN_GT: 0.9626943, DIVERSITY_GINI: 0.0305785, SHANNON_ENTROPY: 9.6762723, RATIO_DIVERSITY_HERFINDAHL: 0.9973418, RATIO_DIVERSITY_GINI: 0.0604462, RATIO_SHANNON_ENTROPY: 0.7172778, RATIO_AVERAGE_POPULARITY: 2.9365686, RATIO_NOVELTY: 0.3022194, \n",
      "\n"
     ]
    },
    {
     "name": "stdout",
     "output_type": "stream",
     "text": [
      "Iteration No: 16 ended. Search finished for the next optimal point.\n",
      "Time taken: 1734.7193\n",
      "Function value obtained: -0.0188\n",
      "Current minimum: -0.0197\n",
      "Iteration No: 17 started. Searching for the next optimal point.\n",
      "SearchBayesianSkopt: Testing config: {'topK': 160, 'l1_ratio': 0.008510495258399052, 'alpha': 0.0017778119710878267}\n"
     ]
    },
    {
     "name": "stdout",
     "output_type": "stream",
     "text": [
      "SLIMElasticNetRecommender: Processed 4353 (17.8%) in 5.00 min. Items per second: 14.51\n"
     ]
    },
    {
     "name": "stdout",
     "output_type": "stream",
     "text": [
      "SLIMElasticNetRecommender: Processed 9099 (37.1%) in 10.00 min. Items per second: 15.16\n"
     ]
    },
    {
     "name": "stdout",
     "output_type": "stream",
     "text": [
      "SLIMElasticNetRecommender: Processed 13531 (55.2%) in 15.00 min. Items per second: 15.03\n"
     ]
    },
    {
     "name": "stdout",
     "output_type": "stream",
     "text": [
      "SLIMElasticNetRecommender: Processed 18313 (74.7%) in 20.00 min. Items per second: 15.26\n"
     ]
    },
    {
     "name": "stdout",
     "output_type": "stream",
     "text": [
      "SLIMElasticNetRecommender: Processed 23162 (94.5%) in 25.00 min. Items per second: 15.44\n"
     ]
    },
    {
     "name": "stdout",
     "output_type": "stream",
     "text": [
      "SLIMElasticNetRecommender: Processed 24507 (100.0%) in 26.35 min. Items per second: 15.50\n"
     ]
    },
    {
     "name": "stdout",
     "output_type": "stream",
     "text": [
      "EvaluatorHoldout: Processed 40076 (100.0%) in 34.98 sec. Users per second: 1146\n"
     ]
    },
    {
     "name": "stdout",
     "output_type": "stream",
     "text": [
      "SearchBayesianSkopt: Config 16 is suboptimal. Config: {'topK': 160, 'l1_ratio': 0.008510495258399052, 'alpha': 0.0017778119710878267} - results: PRECISION: 0.0415935, PRECISION_RECALL_MIN_DEN: 0.0782167, RECALL: 0.0749825, MAP: 0.0192125, MAP_MIN_DEN: 0.0362800, MRR: 0.1396196, NDCG: 0.0713509, F1: 0.0535064, HIT_RATE: 0.2987823, ARHR_ALL_HITS: 0.1629487, NOVELTY: 0.0044717, AVERAGE_POPULARITY: 0.1533760, DIVERSITY_MEAN_INTER_LIST: 0.9675578, DIVERSITY_HERFINDAHL: 0.9967534, COVERAGE_ITEM: 0.1915371, COVERAGE_ITEM_HIT: 0.0590036, ITEMS_IN_GT: 0.9868201, COVERAGE_USER: 0.9626943, COVERAGE_USER_HIT: 0.2876360, USERS_IN_GT: 0.9626943, DIVERSITY_GINI: 0.0286920, SHANNON_ENTROPY: 9.5851383, RATIO_DIVERSITY_HERFINDAHL: 0.9970829, RATIO_DIVERSITY_GINI: 0.0567171, RATIO_SHANNON_ENTROPY: 0.7105222, RATIO_AVERAGE_POPULARITY: 3.0169416, RATIO_NOVELTY: 0.3010755, \n",
      "\n"
     ]
    },
    {
     "name": "stdout",
     "output_type": "stream",
     "text": [
      "Iteration No: 17 ended. Search finished for the next optimal point.\n",
      "Time taken: 1616.9955\n",
      "Function value obtained: -0.0192\n",
      "Current minimum: -0.0197\n",
      "Iteration No: 18 started. Searching for the next optimal point.\n",
      "SearchBayesianSkopt: Testing config: {'topK': 462, 'l1_ratio': 0.0071063051656091725, 'alpha': 0.0018803732496567355}\n"
     ]
    },
    {
     "name": "stdout",
     "output_type": "stream",
     "text": [
      "SLIMElasticNetRecommender: Processed 4105 (16.8%) in 5.00 min. Items per second: 13.68\n"
     ]
    },
    {
     "name": "stdout",
     "output_type": "stream",
     "text": [
      "SLIMElasticNetRecommender: Processed 8451 (34.5%) in 10.00 min. Items per second: 14.08\n"
     ]
    },
    {
     "name": "stdout",
     "output_type": "stream",
     "text": [
      "SLIMElasticNetRecommender: Processed 12379 (50.5%) in 15.00 min. Items per second: 13.75\n"
     ]
    },
    {
     "name": "stdout",
     "output_type": "stream",
     "text": [
      "SLIMElasticNetRecommender: Processed 16310 (66.6%) in 20.00 min. Items per second: 13.59\n"
     ]
    },
    {
     "name": "stdout",
     "output_type": "stream",
     "text": [
      "SLIMElasticNetRecommender: Processed 20637 (84.2%) in 25.00 min. Items per second: 13.75\n"
     ]
    },
    {
     "name": "stdout",
     "output_type": "stream",
     "text": [
      "SLIMElasticNetRecommender: Processed 24197 (98.7%) in 30.01 min. Items per second: 13.44\n"
     ]
    },
    {
     "name": "stdout",
     "output_type": "stream",
     "text": [
      "SLIMElasticNetRecommender: Processed 24507 (100.0%) in 30.42 min. Items per second: 13.42\n"
     ]
    },
    {
     "name": "stdout",
     "output_type": "stream",
     "text": [
      "EvaluatorHoldout: Processed 40076 (100.0%) in 47.13 sec. Users per second: 850\n"
     ]
    },
    {
     "name": "stdout",
     "output_type": "stream",
     "text": [
      "SearchBayesianSkopt: Config 17 is suboptimal. Config: {'topK': 462, 'l1_ratio': 0.0071063051656091725, 'alpha': 0.0018803732496567355} - results: PRECISION: 0.0423745, PRECISION_RECALL_MIN_DEN: 0.0798377, RECALL: 0.0765508, MAP: 0.0195718, MAP_MIN_DEN: 0.0369936, MRR: 0.1418175, NDCG: 0.0727022, F1: 0.0545519, HIT_RATE: 0.3030991, ARHR_ALL_HITS: 0.1657862, NOVELTY: 0.0043979, AVERAGE_POPULARITY: 0.1703289, DIVERSITY_MEAN_INTER_LIST: 0.9600925, DIVERSITY_HERFINDAHL: 0.9960069, COVERAGE_ITEM: 0.1718693, COVERAGE_ITEM_HIT: 0.0558616, ITEMS_IN_GT: 0.9868201, COVERAGE_USER: 0.9626943, COVERAGE_USER_HIT: 0.2917918, USERS_IN_GT: 0.9626943, DIVERSITY_GINI: 0.0246089, SHANNON_ENTROPY: 9.3393180, RATIO_DIVERSITY_HERFINDAHL: 0.9963361, RATIO_DIVERSITY_GINI: 0.0486457, RATIO_SHANNON_ENTROPY: 0.6923002, RATIO_AVERAGE_POPULARITY: 3.3504093, RATIO_NOVELTY: 0.2961053, \n",
      "\n"
     ]
    },
    {
     "name": "stdout",
     "output_type": "stream",
     "text": [
      "Iteration No: 18 ended. Search finished for the next optimal point.\n",
      "Time taken: 1873.7652\n",
      "Function value obtained: -0.0196\n",
      "Current minimum: -0.0197\n",
      "Iteration No: 19 started. Searching for the next optimal point.\n",
      "SearchBayesianSkopt: Testing config: {'topK': 534, 'l1_ratio': 0.0018061340070945993, 'alpha': 0.0018726731182919008}\n"
     ]
    },
    {
     "name": "stdout",
     "output_type": "stream",
     "text": [
      "SLIMElasticNetRecommender: Processed 3648 (14.9%) in 5.00 min. Items per second: 12.16\n"
     ]
    },
    {
     "name": "stdout",
     "output_type": "stream",
     "text": [
      "SLIMElasticNetRecommender: Processed 7761 (31.7%) in 10.00 min. Items per second: 12.93\n"
     ]
    },
    {
     "name": "stdout",
     "output_type": "stream",
     "text": [
      "SLIMElasticNetRecommender: Processed 11865 (48.4%) in 15.00 min. Items per second: 13.18\n"
     ]
    },
    {
     "name": "stdout",
     "output_type": "stream",
     "text": [
      "SLIMElasticNetRecommender: Processed 16086 (65.6%) in 20.00 min. Items per second: 13.40\n"
     ]
    },
    {
     "name": "stdout",
     "output_type": "stream",
     "text": [
      "SLIMElasticNetRecommender: Processed 20463 (83.5%) in 25.00 min. Items per second: 13.64\n"
     ]
    },
    {
     "name": "stdout",
     "output_type": "stream",
     "text": [
      "SLIMElasticNetRecommender: Processed 24507 (100.0%) in 29.51 min. Items per second: 13.84\n"
     ]
    },
    {
     "name": "stdout",
     "output_type": "stream",
     "text": [
      "EvaluatorHoldout: Processed 40076 (100.0%) in 46.33 sec. Users per second: 865\n"
     ]
    },
    {
     "name": "stdout",
     "output_type": "stream",
     "text": [
      "SearchBayesianSkopt: Config 18 is suboptimal. Config: {'topK': 534, 'l1_ratio': 0.0018061340070945993, 'alpha': 0.0018726731182919008} - results: PRECISION: 0.0420077, PRECISION_RECALL_MIN_DEN: 0.0789679, RECALL: 0.0756717, MAP: 0.0194465, MAP_MIN_DEN: 0.0366750, MRR: 0.1411079, NDCG: 0.0720844, F1: 0.0540246, HIT_RATE: 0.3011528, ARHR_ALL_HITS: 0.1647981, NOVELTY: 0.0043946, AVERAGE_POPULARITY: 0.1697608, DIVERSITY_MEAN_INTER_LIST: 0.9604517, DIVERSITY_HERFINDAHL: 0.9960428, COVERAGE_ITEM: 0.1831722, COVERAGE_ITEM_HIT: 0.0555352, ITEMS_IN_GT: 0.9868201, COVERAGE_USER: 0.9626943, COVERAGE_USER_HIT: 0.2899181, USERS_IN_GT: 0.9626943, DIVERSITY_GINI: 0.0243472, SHANNON_ENTROPY: 9.3285681, RATIO_DIVERSITY_HERFINDAHL: 0.9963721, RATIO_DIVERSITY_GINI: 0.0481284, RATIO_SHANNON_ENTROPY: 0.6915033, RATIO_AVERAGE_POPULARITY: 3.3392342, RATIO_NOVELTY: 0.2958839, \n",
      "\n"
     ]
    },
    {
     "name": "stdout",
     "output_type": "stream",
     "text": [
      "Iteration No: 19 ended. Search finished for the next optimal point.\n",
      "Time taken: 1817.6801\n",
      "Function value obtained: -0.0194\n",
      "Current minimum: -0.0197\n",
      "Iteration No: 20 started. Searching for the next optimal point.\n",
      "SearchBayesianSkopt: Testing config: {'topK': 800, 'l1_ratio': 0.01, 'alpha': 0.002414668595124124}\n"
     ]
    },
    {
     "name": "stdout",
     "output_type": "stream",
     "text": [
      "SLIMElasticNetRecommender: Processed 4889 (19.9%) in 5.00 min. Items per second: 16.29\n"
     ]
    },
    {
     "name": "stdout",
     "output_type": "stream",
     "text": [
      "SLIMElasticNetRecommender: Processed 10293 (42.0%) in 10.00 min. Items per second: 17.15\n"
     ]
    },
    {
     "name": "stdout",
     "output_type": "stream",
     "text": [
      "SLIMElasticNetRecommender: Processed 15088 (61.6%) in 15.00 min. Items per second: 16.76\n"
     ]
    },
    {
     "name": "stdout",
     "output_type": "stream",
     "text": [
      "SLIMElasticNetRecommender: Processed 20324 (82.9%) in 20.00 min. Items per second: 16.93\n"
     ]
    },
    {
     "name": "stdout",
     "output_type": "stream",
     "text": [
      "SLIMElasticNetRecommender: Processed 24507 (100.0%) in 23.58 min. Items per second: 17.32\n"
     ]
    },
    {
     "name": "stdout",
     "output_type": "stream",
     "text": [
      "EvaluatorHoldout: Processed 40076 (100.0%) in 47.18 sec. Users per second: 849\n"
     ]
    },
    {
     "name": "stdout",
     "output_type": "stream",
     "text": [
      "SearchBayesianSkopt: New best config found. Config 19: {'topK': 800, 'l1_ratio': 0.01, 'alpha': 0.002414668595124124} - results: PRECISION: 0.0427662, PRECISION_RECALL_MIN_DEN: 0.0812795, RECALL: 0.0780554, MAP: 0.0197674, MAP_MIN_DEN: 0.0374827, MRR: 0.1433214, NDCG: 0.0736633, F1: 0.0552573, HIT_RATE: 0.3065925, ARHR_ALL_HITS: 0.1675527, NOVELTY: 0.0043135, AVERAGE_POPULARITY: 0.1914584, DIVERSITY_MEAN_INTER_LIST: 0.9483822, DIVERSITY_HERFINDAHL: 0.9948359, COVERAGE_ITEM: 0.1596687, COVERAGE_ITEM_HIT: 0.0508426, ITEMS_IN_GT: 0.9868201, COVERAGE_USER: 0.9626943, COVERAGE_USER_HIT: 0.2951548, USERS_IN_GT: 0.9626943, DIVERSITY_GINI: 0.0206629, SHANNON_ENTROPY: 9.0344512, RATIO_DIVERSITY_HERFINDAHL: 0.9951648, RATIO_DIVERSITY_GINI: 0.0408455, RATIO_SHANNON_ENTROPY: 0.6697012, RATIO_AVERAGE_POPULARITY: 3.7660307, RATIO_NOVELTY: 0.2904211, \n",
      "\n"
     ]
    },
    {
     "name": "stdout",
     "output_type": "stream",
     "text": [
      "Iteration No: 20 ended. Search finished for the next optimal point.\n",
      "Time taken: 1463.0407\n",
      "Function value obtained: -0.0198\n",
      "Current minimum: -0.0198\n",
      "Iteration No: 21 started. Searching for the next optimal point.\n",
      "SearchBayesianSkopt: Testing config: {'topK': 289, 'l1_ratio': 0.005715831715055339, 'alpha': 0.0021800605431698083}\n"
     ]
    },
    {
     "name": "stdout",
     "output_type": "stream",
     "text": [
      "SLIMElasticNetRecommender: Processed 4336 (17.7%) in 5.00 min. Items per second: 14.45\n"
     ]
    },
    {
     "name": "stdout",
     "output_type": "stream",
     "text": [
      "SLIMElasticNetRecommender: Processed 9120 (37.2%) in 10.00 min. Items per second: 15.20\n"
     ]
    },
    {
     "name": "stdout",
     "output_type": "stream",
     "text": [
      "SLIMElasticNetRecommender: Processed 13917 (56.8%) in 15.00 min. Items per second: 15.46\n"
     ]
    },
    {
     "name": "stdout",
     "output_type": "stream",
     "text": [
      "SLIMElasticNetRecommender: Processed 18719 (76.4%) in 20.00 min. Items per second: 15.60\n"
     ]
    },
    {
     "name": "stdout",
     "output_type": "stream",
     "text": [
      "SLIMElasticNetRecommender: Processed 23470 (95.8%) in 25.00 min. Items per second: 15.64\n"
     ]
    },
    {
     "name": "stdout",
     "output_type": "stream",
     "text": [
      "SLIMElasticNetRecommender: Processed 24507 (100.0%) in 26.05 min. Items per second: 15.68\n"
     ]
    },
    {
     "name": "stdout",
     "output_type": "stream",
     "text": [
      "EvaluatorHoldout: Processed 40076 (100.0%) in 36.08 sec. Users per second: 1111\n"
     ]
    },
    {
     "name": "stdout",
     "output_type": "stream",
     "text": [
      "SearchBayesianSkopt: Config 20 is suboptimal. Config: {'topK': 289, 'l1_ratio': 0.005715831715055339, 'alpha': 0.0021800605431698083} - results: PRECISION: 0.0423421, PRECISION_RECALL_MIN_DEN: 0.0799071, RECALL: 0.0766269, MAP: 0.0195039, MAP_MIN_DEN: 0.0368671, MRR: 0.1412656, NDCG: 0.0725515, F1: 0.0545443, HIT_RATE: 0.3031989, ARHR_ALL_HITS: 0.1651675, NOVELTY: 0.0044079, AVERAGE_POPULARITY: 0.1672008, DIVERSITY_MEAN_INTER_LIST: 0.9614014, DIVERSITY_HERFINDAHL: 0.9961377, COVERAGE_ITEM: 0.1765210, COVERAGE_ITEM_HIT: 0.0554535, ITEMS_IN_GT: 0.9868201, COVERAGE_USER: 0.9626943, COVERAGE_USER_HIT: 0.2918879, USERS_IN_GT: 0.9626943, DIVERSITY_GINI: 0.0249779, SHANNON_ENTROPY: 9.3669440, RATIO_DIVERSITY_HERFINDAHL: 0.9964671, RATIO_DIVERSITY_GINI: 0.0493752, RATIO_SHANNON_ENTROPY: 0.6943480, RATIO_AVERAGE_POPULARITY: 3.2888779, RATIO_NOVELTY: 0.2967783, \n",
      "\n"
     ]
    },
    {
     "name": "stdout",
     "output_type": "stream",
     "text": [
      "Iteration No: 21 ended. Search finished for the next optimal point.\n",
      "Time taken: 1600.2908\n",
      "Function value obtained: -0.0195\n",
      "Current minimum: -0.0198\n",
      "Iteration No: 22 started. Searching for the next optimal point.\n",
      "SearchBayesianSkopt: Testing config: {'topK': 136, 'l1_ratio': 0.0061438172783567545, 'alpha': 0.0035886135786155917}\n"
     ]
    },
    {
     "name": "stdout",
     "output_type": "stream",
     "text": [
      "SLIMElasticNetRecommender: Processed 4633 (18.9%) in 5.00 min. Items per second: 15.44\n"
     ]
    },
    {
     "name": "stdout",
     "output_type": "stream",
     "text": [
      "SLIMElasticNetRecommender: Processed 9576 (39.1%) in 10.00 min. Items per second: 15.96\n"
     ]
    },
    {
     "name": "stdout",
     "output_type": "stream",
     "text": [
      "SLIMElasticNetRecommender: Processed 14600 (59.6%) in 15.00 min. Items per second: 16.22\n"
     ]
    },
    {
     "name": "stdout",
     "output_type": "stream",
     "text": [
      "SLIMElasticNetRecommender: Processed 19448 (79.4%) in 20.00 min. Items per second: 16.21\n"
     ]
    },
    {
     "name": "stdout",
     "output_type": "stream",
     "text": [
      "SLIMElasticNetRecommender: Processed 24112 (98.4%) in 25.00 min. Items per second: 16.07\n"
     ]
    },
    {
     "name": "stdout",
     "output_type": "stream",
     "text": [
      "SLIMElasticNetRecommender: Processed 24507 (100.0%) in 25.40 min. Items per second: 16.08\n"
     ]
    },
    {
     "name": "stdout",
     "output_type": "stream",
     "text": [
      "EvaluatorHoldout: Processed 40076 (100.0%) in 41.46 sec. Users per second: 967\n"
     ]
    },
    {
     "name": "stdout",
     "output_type": "stream",
     "text": [
      "SearchBayesianSkopt: Config 21 is suboptimal. Config: {'topK': 136, 'l1_ratio': 0.0061438172783567545, 'alpha': 0.0035886135786155917} - results: PRECISION: 0.0424568, PRECISION_RECALL_MIN_DEN: 0.0809806, RECALL: 0.0777512, MAP: 0.0195342, MAP_MIN_DEN: 0.0370838, MRR: 0.1415660, NDCG: 0.0730133, F1: 0.0549226, HIT_RATE: 0.3042968, ARHR_ALL_HITS: 0.1655286, NOVELTY: 0.0043494, AVERAGE_POPULARITY: 0.1800920, DIVERSITY_MEAN_INTER_LIST: 0.9544600, DIVERSITY_HERFINDAHL: 0.9954436, COVERAGE_ITEM: 0.1766434, COVERAGE_ITEM_HIT: 0.0503122, ITEMS_IN_GT: 0.9868201, COVERAGE_USER: 0.9626943, COVERAGE_USER_HIT: 0.2929448, USERS_IN_GT: 0.9626943, DIVERSITY_GINI: 0.0219318, SHANNON_ENTROPY: 9.1501220, RATIO_DIVERSITY_HERFINDAHL: 0.9957727, RATIO_DIVERSITY_GINI: 0.0433537, RATIO_SHANNON_ENTROPY: 0.6782756, RATIO_AVERAGE_POPULARITY: 3.5424505, RATIO_NOVELTY: 0.2928405, \n",
      "\n"
     ]
    },
    {
     "name": "stdout",
     "output_type": "stream",
     "text": [
      "Iteration No: 22 ended. Search finished for the next optimal point.\n",
      "Time taken: 1566.2134\n",
      "Function value obtained: -0.0195\n",
      "Current minimum: -0.0198\n",
      "Iteration No: 23 started. Searching for the next optimal point.\n",
      "SearchBayesianSkopt: Testing config: {'topK': 396, 'l1_ratio': 0.0022826792517872366, 'alpha': 0.0037181085267887683}\n"
     ]
    },
    {
     "name": "stdout",
     "output_type": "stream",
     "text": [
      "SLIMElasticNetRecommender: Processed 3938 (16.1%) in 5.00 min. Items per second: 13.12\n"
     ]
    },
    {
     "name": "stdout",
     "output_type": "stream",
     "text": [
      "SLIMElasticNetRecommender: Processed 8463 (34.5%) in 10.00 min. Items per second: 14.10\n"
     ]
    },
    {
     "name": "stdout",
     "output_type": "stream",
     "text": [
      "SLIMElasticNetRecommender: Processed 13048 (53.2%) in 15.00 min. Items per second: 14.49\n"
     ]
    },
    {
     "name": "stdout",
     "output_type": "stream",
     "text": [
      "SLIMElasticNetRecommender: Processed 17617 (71.9%) in 20.00 min. Items per second: 14.68\n"
     ]
    },
    {
     "name": "stdout",
     "output_type": "stream",
     "text": [
      "SLIMElasticNetRecommender: Processed 22265 (90.9%) in 25.00 min. Items per second: 14.84\n"
     ]
    },
    {
     "name": "stdout",
     "output_type": "stream",
     "text": [
      "SLIMElasticNetRecommender: Processed 24507 (100.0%) in 27.46 min. Items per second: 14.87\n"
     ]
    },
    {
     "name": "stdout",
     "output_type": "stream",
     "text": [
      "EvaluatorHoldout: Processed 40076 (100.0%) in 43.78 sec. Users per second: 915\n"
     ]
    },
    {
     "name": "stdout",
     "output_type": "stream",
     "text": [
      "SearchBayesianSkopt: Config 22 is suboptimal. Config: {'topK': 396, 'l1_ratio': 0.0022826792517872366, 'alpha': 0.0037181085267887683} - results: PRECISION: 0.0425067, PRECISION_RECALL_MIN_DEN: 0.0809705, RECALL: 0.0777263, MAP: 0.0195839, MAP_MIN_DEN: 0.0371884, MRR: 0.1420270, NDCG: 0.0731579, F1: 0.0549581, HIT_RATE: 0.3047460, ARHR_ALL_HITS: 0.1660158, NOVELTY: 0.0043164, AVERAGE_POPULARITY: 0.1874633, DIVERSITY_MEAN_INTER_LIST: 0.9504840, DIVERSITY_HERFINDAHL: 0.9950460, COVERAGE_ITEM: 0.1619129, COVERAGE_ITEM_HIT: 0.0491696, ITEMS_IN_GT: 0.9868201, COVERAGE_USER: 0.9626943, COVERAGE_USER_HIT: 0.2933772, USERS_IN_GT: 0.9626943, DIVERSITY_GINI: 0.0200937, SHANNON_ENTROPY: 9.0281635, RATIO_DIVERSITY_HERFINDAHL: 0.9953750, RATIO_DIVERSITY_GINI: 0.0397203, RATIO_SHANNON_ENTROPY: 0.6692351, RATIO_AVERAGE_POPULARITY: 3.6874451, RATIO_NOVELTY: 0.2906182, \n",
      "\n"
     ]
    },
    {
     "name": "stdout",
     "output_type": "stream",
     "text": [
      "Iteration No: 23 ended. Search finished for the next optimal point.\n",
      "Time taken: 1692.3695\n",
      "Function value obtained: -0.0196\n",
      "Current minimum: -0.0198\n",
      "Iteration No: 24 started. Searching for the next optimal point.\n",
      "SearchBayesianSkopt: Testing config: {'topK': 572, 'l1_ratio': 0.004130427591029129, 'alpha': 0.001970858754371783}\n"
     ]
    },
    {
     "name": "stdout",
     "output_type": "stream",
     "text": [
      "SLIMElasticNetRecommender: Processed 4160 (17.0%) in 5.00 min. Items per second: 13.86\n"
     ]
    },
    {
     "name": "stdout",
     "output_type": "stream",
     "text": [
      "SLIMElasticNetRecommender: Processed 8810 (35.9%) in 10.00 min. Items per second: 14.68\n"
     ]
    },
    {
     "name": "stdout",
     "output_type": "stream",
     "text": [
      "SLIMElasticNetRecommender: Processed 13454 (54.9%) in 15.00 min. Items per second: 14.95\n"
     ]
    },
    {
     "name": "stdout",
     "output_type": "stream",
     "text": [
      "SLIMElasticNetRecommender: Processed 18070 (73.7%) in 20.00 min. Items per second: 15.06\n"
     ]
    },
    {
     "name": "stdout",
     "output_type": "stream",
     "text": [
      "SLIMElasticNetRecommender: Processed 22708 (92.7%) in 25.00 min. Items per second: 15.14\n"
     ]
    },
    {
     "name": "stdout",
     "output_type": "stream",
     "text": [
      "SLIMElasticNetRecommender: Processed 24507 (100.0%) in 26.96 min. Items per second: 15.15\n"
     ]
    },
    {
     "name": "stdout",
     "output_type": "stream",
     "text": [
      "EvaluatorHoldout: Processed 40076 (100.0%) in 47.76 sec. Users per second: 839\n"
     ]
    },
    {
     "name": "stdout",
     "output_type": "stream",
     "text": [
      "SearchBayesianSkopt: Config 23 is suboptimal. Config: {'topK': 572, 'l1_ratio': 0.004130427591029129, 'alpha': 0.001970858754371783} - results: PRECISION: 0.0423969, PRECISION_RECALL_MIN_DEN: 0.0799217, RECALL: 0.0766212, MAP: 0.0195999, MAP_MIN_DEN: 0.0370338, MRR: 0.1418891, NDCG: 0.0727588, F1: 0.0545884, HIT_RATE: 0.3030492, ARHR_ALL_HITS: 0.1659474, NOVELTY: 0.0043792, AVERAGE_POPULARITY: 0.1742649, DIVERSITY_MEAN_INTER_LIST: 0.9581220, DIVERSITY_HERFINDAHL: 0.9958098, COVERAGE_ITEM: 0.1690129, COVERAGE_ITEM_HIT: 0.0543926, ITEMS_IN_GT: 0.9868201, COVERAGE_USER: 0.9626943, COVERAGE_USER_HIT: 0.2917437, USERS_IN_GT: 0.9626943, DIVERSITY_GINI: 0.0235058, SHANNON_ENTROPY: 9.2723019, RATIO_DIVERSITY_HERFINDAHL: 0.9961390, RATIO_DIVERSITY_GINI: 0.0464653, RATIO_SHANNON_ENTROPY: 0.6873325, RATIO_AVERAGE_POPULARITY: 3.4278306, RATIO_NOVELTY: 0.2948458, \n",
      "\n"
     ]
    },
    {
     "name": "stdout",
     "output_type": "stream",
     "text": [
      "Iteration No: 24 ended. Search finished for the next optimal point.\n",
      "Time taken: 1666.4386\n",
      "Function value obtained: -0.0196\n",
      "Current minimum: -0.0198\n",
      "Iteration No: 25 started. Searching for the next optimal point.\n",
      "SearchBayesianSkopt: Testing config: {'topK': 102, 'l1_ratio': 0.00249647785042239, 'alpha': 0.0014453141415612066}\n"
     ]
    },
    {
     "name": "stdout",
     "output_type": "stream",
     "text": [
      "SLIMElasticNetRecommender: Processed 3842 (15.7%) in 5.00 min. Items per second: 12.80\n"
     ]
    },
    {
     "name": "stdout",
     "output_type": "stream",
     "text": [
      "SLIMElasticNetRecommender: Processed 8206 (33.5%) in 10.00 min. Items per second: 13.67\n"
     ]
    }
   ],
   "source": [
    "hyperparameterSearch.search(recommender_input_args = recommender_input_args,\n",
    "                            recommender_input_args_last_test = recommender_input_args_last_test,\n",
    "                            hyperparameter_search_space = hyperparameters_range_dictionary,\n",
    "                            n_cases = n_cases,\n",
    "                            n_random_starts = n_random_starts,\n",
    "                            save_model = \"last\",\n",
    "                            output_folder_path = output_folder_path, # Where to save the results\n",
    "                            output_file_name_root = recommender_class.RECOMMENDER_NAME, # How to call the files\n",
    "                            metric_to_optimize = metric_to_optimize,\n",
    "                            cutoff_to_optimize = cutoff_to_optimize,\n",
    "                            )"
   ]
  },
  {
   "cell_type": "code",
   "execution_count": null,
   "id": "9d328548",
   "metadata": {
    "papermill": {
     "duration": null,
     "end_time": null,
     "exception": null,
     "start_time": null,
     "status": "pending"
    },
    "tags": []
   },
   "outputs": [],
   "source": [
    "from Recommenders.DataIO import DataIO\n",
    "\n",
    "#explore the results of the search\n",
    "data_loader = DataIO(folder_path = output_folder_path)\n",
    "search_metadata = data_loader.load_data(recommender_class.RECOMMENDER_NAME + \"_metadata.zip\")\n",
    "\n",
    "search_metadata.keys()"
   ]
  },
  {
   "cell_type": "code",
   "execution_count": null,
   "id": "47651933",
   "metadata": {
    "papermill": {
     "duration": null,
     "end_time": null,
     "exception": null,
     "start_time": null,
     "status": "pending"
    },
    "tags": []
   },
   "outputs": [],
   "source": [
    "hyperparameters_df = search_metadata[\"hyperparameters_df\"]\n",
    "hyperparameters_df"
   ]
  },
  {
   "cell_type": "code",
   "execution_count": null,
   "id": "67de86d5",
   "metadata": {
    "papermill": {
     "duration": null,
     "end_time": null,
     "exception": null,
     "start_time": null,
     "status": "pending"
    },
    "tags": []
   },
   "outputs": [],
   "source": [
    "result_on_validation_df = search_metadata[\"result_on_validation_df\"]\n",
    "result_on_validation_df"
   ]
  },
  {
   "cell_type": "code",
   "execution_count": null,
   "id": "b147bb76",
   "metadata": {
    "papermill": {
     "duration": null,
     "end_time": null,
     "exception": null,
     "start_time": null,
     "status": "pending"
    },
    "tags": []
   },
   "outputs": [],
   "source": [
    "best_hyperparameters = search_metadata[\"hyperparameters_best\"]\n",
    "best_hyperparameters"
   ]
  }
 ],
 "metadata": {
  "kernelspec": {
   "display_name": "Python 3",
   "language": "python",
   "name": "python3"
  },
  "language_info": {
   "codemirror_mode": {
    "name": "ipython",
    "version": 3
   },
   "file_extension": ".py",
   "mimetype": "text/x-python",
   "name": "python",
   "nbconvert_exporter": "python",
   "pygments_lexer": "ipython3",
   "version": "3.6.4"
  },
  "papermill": {
   "default_parameters": {},
   "duration": null,
   "end_time": null,
   "environment_variables": {},
   "exception": null,
   "input_path": "__notebook__.ipynb",
   "output_path": "__notebook__.ipynb",
   "parameters": {},
   "start_time": "2023-01-07T13:20:54.953565",
   "version": "2.3.4"
  }
 },
 "nbformat": 4,
 "nbformat_minor": 5
}
