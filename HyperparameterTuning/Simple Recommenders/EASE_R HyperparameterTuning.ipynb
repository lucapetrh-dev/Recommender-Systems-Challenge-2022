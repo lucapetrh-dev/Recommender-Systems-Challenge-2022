{
 "cells": [
  {
   "cell_type": "code",
   "execution_count": 2,
   "id": "ad19c210",
   "metadata": {
    "execution": {
     "iopub.execute_input": "2023-01-09T23:29:25.769665Z",
     "iopub.status.busy": "2023-01-09T23:29:25.769237Z",
     "iopub.status.idle": "2023-01-09T23:29:27.051629Z",
     "shell.execute_reply": "2023-01-09T23:29:27.050351Z"
    },
    "papermill": {
     "duration": 1.295444,
     "end_time": "2023-01-09T23:29:27.054632",
     "exception": false,
     "start_time": "2023-01-09T23:29:25.759188",
     "status": "completed"
    },
    "tags": []
   },
   "outputs": [],
   "source": [
    "import pandas as pd\n",
    "import numpy as np\n",
    "import scipy.sparse as sps\n",
    "import matplotlib.pyplot as pyplot\n",
    "\n",
    "from Evaluation.Evaluator import EvaluatorHoldout\n",
    "from Data_manager.split_functions.split_train_validation_random_holdout import split_train_in_two_percentage_global_sample\n",
    "from Utils.DataReader import load_urm, load_icm, load_target\n",
    "from Recommenders.EASE_R.EASE_R_Recommender import EASE_R_Recommender"
   ]
  },
  {
   "cell_type": "code",
   "execution_count": 3,
   "id": "42e86865",
   "metadata": {
    "execution": {
     "iopub.execute_input": "2023-01-09T23:29:27.072433Z",
     "iopub.status.busy": "2023-01-09T23:29:27.071999Z",
     "iopub.status.idle": "2023-01-09T23:29:33.116194Z",
     "shell.execute_reply": "2023-01-09T23:29:33.114536Z"
    },
    "papermill": {
     "duration": 6.05639,
     "end_time": "2023-01-09T23:29:33.119141",
     "exception": false,
     "start_time": "2023-01-09T23:29:27.062751",
     "status": "completed"
    },
    "tags": []
   },
   "outputs": [
    {
     "name": "stdout",
     "output_type": "stream",
     "text": [
      "Warning: 951 (2.28 %) of 41629 users have no sampled items\n",
      "Warning: 1481 (3.56 %) of 41629 users have no sampled items\n",
      "EvaluatorHoldout: Ignoring 1481 ( 3.6%) Users that have less than 1 test interactions\n",
      "EvaluatorHoldout: Ignoring 951 ( 2.3%) Users that have less than 1 test interactions\n"
     ]
    }
   ],
   "source": [
    "URM_all = load_urm()\n",
    "\n",
    "URM_train = sps.load_npz('Dataset/Split/URM_train.npz')\n",
    "URM_test =  sps.load_npz('Dataset/Split/URM_test.npz')\n",
    "URM_validation = sps.load_npz('Dataset/Split/URM_validation.npz')\n",
    "\n",
    "evaluator_validation = EvaluatorHoldout(URM_validation, cutoff_list=[10])\n",
    "evaluator_test = EvaluatorHoldout(URM_test, cutoff_list=[10])"
   ]
  },
  {
   "cell_type": "code",
   "execution_count": 4,
   "id": "e83dabfa",
   "metadata": {
    "execution": {
     "iopub.execute_input": "2023-01-09T23:29:33.138254Z",
     "iopub.status.busy": "2023-01-09T23:29:33.137812Z",
     "iopub.status.idle": "2023-01-09T23:29:33.143563Z",
     "shell.execute_reply": "2023-01-09T23:29:33.142570Z"
    },
    "papermill": {
     "duration": 0.019121,
     "end_time": "2023-01-09T23:29:33.146639",
     "exception": false,
     "start_time": "2023-01-09T23:29:33.127518",
     "status": "completed"
    },
    "tags": []
   },
   "outputs": [],
   "source": [
    "recommender_class = EASE_R_Recommender"
   ]
  },
  {
   "cell_type": "code",
   "execution_count": 5,
   "id": "b92323de",
   "metadata": {
    "execution": {
     "iopub.execute_input": "2023-01-09T23:29:33.165539Z",
     "iopub.status.busy": "2023-01-09T23:29:33.165126Z",
     "iopub.status.idle": "2023-01-09T23:29:33.171582Z",
     "shell.execute_reply": "2023-01-09T23:29:33.170636Z"
    },
    "papermill": {
     "duration": 0.018817,
     "end_time": "2023-01-09T23:29:33.173965",
     "exception": false,
     "start_time": "2023-01-09T23:29:33.155148",
     "status": "completed"
    },
    "tags": []
   },
   "outputs": [],
   "source": [
    "import os\n",
    "\n",
    "output_folder_path = \"Experiments/\"\n",
    "\n",
    "# If directory does not exist, create\n",
    "if not os.path.exists(output_folder_path):\n",
    "    os.makedirs(output_folder_path)\n",
    "\n",
    "n_cases = 10\n",
    "n_random_starts = int(n_cases*0.3)\n",
    "metric_to_optimize = \"MAP\"\n",
    "cutoff_to_optimize = 10"
   ]
  },
  {
   "cell_type": "code",
   "execution_count": 6,
   "id": "8b529d5c",
   "metadata": {
    "execution": {
     "iopub.execute_input": "2023-01-09T23:29:33.191699Z",
     "iopub.status.busy": "2023-01-09T23:29:33.191292Z",
     "iopub.status.idle": "2023-01-09T23:29:33.570759Z",
     "shell.execute_reply": "2023-01-09T23:29:33.569427Z"
    },
    "papermill": {
     "duration": 0.391448,
     "end_time": "2023-01-09T23:29:33.573340",
     "exception": false,
     "start_time": "2023-01-09T23:29:33.181892",
     "status": "completed"
    },
    "tags": []
   },
   "outputs": [],
   "source": [
    "from skopt.space import Real, Integer, Categorical\n",
    "\n",
    "hyperparameters_range_dictionary = {\n",
    "    \"topK\": Categorical([None]),\n",
    "    \"normalize_matrix\": Categorical([False]),\n",
    "    \"l2_norm\": Real(low=200, high=300, prior='log-uniform'),\n",
    "}"
   ]
  },
  {
   "cell_type": "code",
   "execution_count": 7,
   "id": "c2586536",
   "metadata": {
    "execution": {
     "iopub.execute_input": "2023-01-09T23:29:33.591331Z",
     "iopub.status.busy": "2023-01-09T23:29:33.590866Z",
     "iopub.status.idle": "2023-01-09T23:29:33.596477Z",
     "shell.execute_reply": "2023-01-09T23:29:33.595323Z"
    },
    "papermill": {
     "duration": 0.01747,
     "end_time": "2023-01-09T23:29:33.598920",
     "exception": false,
     "start_time": "2023-01-09T23:29:33.581450",
     "status": "completed"
    },
    "tags": []
   },
   "outputs": [],
   "source": [
    "earlystopping_keywargs = {\"validation_every_n\": 15,\n",
    "                          \"stop_on_validation\": True,\n",
    "                          \"evaluator_object\": evaluator_validation,\n",
    "                          \"lower_validations_allowed\": 5,\n",
    "                          \"validation_metric\": metric_to_optimize,\n",
    "                          }"
   ]
  },
  {
   "cell_type": "code",
   "execution_count": 8,
   "id": "4e20a51d",
   "metadata": {
    "execution": {
     "iopub.execute_input": "2023-01-09T23:29:33.617666Z",
     "iopub.status.busy": "2023-01-09T23:29:33.616809Z",
     "iopub.status.idle": "2023-01-09T23:29:39.392476Z",
     "shell.execute_reply": "2023-01-09T23:29:39.391291Z"
    },
    "papermill": {
     "duration": 5.788171,
     "end_time": "2023-01-09T23:29:39.395374",
     "exception": false,
     "start_time": "2023-01-09T23:29:33.607203",
     "status": "completed"
    },
    "tags": []
   },
   "outputs": [],
   "source": [
    "from HyperparameterTuning.SearchBayesianSkopt import SearchBayesianSkopt\n",
    "\n",
    "#create a bayesian optimizer object, we pass the recommender and the evaluator\n",
    "hyperparameterSearch = SearchBayesianSkopt(recommender_class,\n",
    "                                           evaluator_validation=evaluator_validation)"
   ]
  },
  {
   "cell_type": "code",
   "execution_count": 9,
   "id": "1d8f4212",
   "metadata": {
    "execution": {
     "iopub.execute_input": "2023-01-09T23:29:39.413775Z",
     "iopub.status.busy": "2023-01-09T23:29:39.413107Z",
     "iopub.status.idle": "2023-01-09T23:29:39.421437Z",
     "shell.execute_reply": "2023-01-09T23:29:39.419997Z"
    },
    "papermill": {
     "duration": 0.020436,
     "end_time": "2023-01-09T23:29:39.423798",
     "exception": false,
     "start_time": "2023-01-09T23:29:39.403362",
     "status": "completed"
    },
    "tags": []
   },
   "outputs": [],
   "source": [
    "from HyperparameterTuning.SearchAbstractClass import SearchInputRecommenderArgs\n",
    "\n",
    "recommender_input_args = SearchInputRecommenderArgs(\n",
    "    CONSTRUCTOR_POSITIONAL_ARGS=[URM_train],\n",
    "    CONSTRUCTOR_KEYWORD_ARGS={},\n",
    "    FIT_POSITIONAL_ARGS=[],\n",
    "    FIT_KEYWORD_ARGS={}\n",
    ")\n",
    "recommender_input_args_last_test = SearchInputRecommenderArgs(\n",
    "    CONSTRUCTOR_POSITIONAL_ARGS = [URM_all],\n",
    "    CONSTRUCTOR_KEYWORD_ARGS = {},\n",
    "    FIT_POSITIONAL_ARGS = [],\n",
    "    FIT_KEYWORD_ARGS ={}\n",
    ")"
   ]
  },
  {
   "cell_type": "code",
   "execution_count": 10,
   "id": "fa9ce674",
   "metadata": {
    "execution": {
     "iopub.execute_input": "2023-01-09T23:29:39.441720Z",
     "iopub.status.busy": "2023-01-09T23:29:39.441321Z"
    },
    "papermill": {
     "duration": 4187.647572,
     "end_time": "2023-01-10T00:39:27.079643",
     "exception": false,
     "start_time": "2023-01-09T23:29:39.432071",
     "status": "completed"
    },
    "tags": []
   },
   "outputs": [
    {
     "name": "stdout",
     "output_type": "stream",
     "text": [
      "Iteration No: 1 started. Evaluating function at random point.\n",
      "SearchBayesianSkopt: Testing config: {'topK': None, 'normalize_matrix': False, 'l2_norm': 225.7403645195658}\n",
      "EASE_R_Recommender: Fitting model... \n",
      "EASE_R_Recommender: Fitting model... done in 10.69 min\n",
      "EvaluatorHoldout: Processed 40148 (100.0%) in 52.29 sec. Users per second: 768\n",
      "SearchBayesianSkopt: New best config found. Config 0: {'topK': None, 'normalize_matrix': False, 'l2_norm': 225.7403645195658} - results: PRECISION: 0.0424479, PRECISION_RECALL_MIN_DEN: 0.0817520, RECALL: 0.0785336, MAP: 0.0193861, MAP_MIN_DEN: 0.0372616, MRR: 0.1416237, NDCG: 0.0732677, F1: 0.0551091, HIT_RATE: 0.3066404, ARHR_ALL_HITS: 0.1649593, NOVELTY: 0.0041089, AVERAGE_POPULARITY: 0.2452642, DIVERSITY_MEAN_INTER_LIST: 0.9088142, DIVERSITY_HERFINDAHL: 0.9908792, COVERAGE_ITEM: 0.1071939, COVERAGE_ITEM_HIT: 0.0437018, ITEMS_IN_GT: 0.9858408, COVERAGE_USER: 0.9644238, COVERAGE_USER_HIT: 0.2957313, USERS_IN_GT: 0.9644238, DIVERSITY_GINI: 0.0119725, SHANNON_ENTROPY: 8.2305306, RATIO_DIVERSITY_HERFINDAHL: 0.9912061, RATIO_DIVERSITY_GINI: 0.0236476, RATIO_SHANNON_ENTROPY: 0.6100272, RATIO_AVERAGE_POPULARITY: 4.8213484, RATIO_NOVELTY: 0.2766077, \n",
      "\n",
      "Iteration No: 1 ended. Evaluation done at random point.\n",
      "Time taken: 694.8650\n",
      "Function value obtained: -0.0194\n",
      "Current minimum: -0.0194\n",
      "Iteration No: 2 started. Evaluating function at random point.\n",
      "SearchBayesianSkopt: Testing config: {'topK': None, 'normalize_matrix': False, 'l2_norm': 276.04879824846586}\n",
      "EASE_R_Recommender: Fitting model... \n",
      "EASE_R_Recommender: Fitting model... done in 10.79 min\n",
      "EvaluatorHoldout: Processed 40148 (100.0%) in 49.95 sec. Users per second: 804\n",
      "SearchBayesianSkopt: Config 1 is suboptimal. Config: {'topK': None, 'normalize_matrix': False, 'l2_norm': 276.04879824846586} - results: PRECISION: 0.0424380, PRECISION_RECALL_MIN_DEN: 0.0819611, RECALL: 0.0787431, MAP: 0.0193185, MAP_MIN_DEN: 0.0371202, MRR: 0.1411591, NDCG: 0.0731493, F1: 0.0551521, HIT_RATE: 0.3067152, ARHR_ALL_HITS: 0.1643891, NOVELTY: 0.0040984, AVERAGE_POPULARITY: 0.2480774, DIVERSITY_MEAN_INTER_LIST: 0.9060181, DIVERSITY_HERFINDAHL: 0.9905995, COVERAGE_ITEM: 0.1062554, COVERAGE_ITEM_HIT: 0.0417432, ITEMS_IN_GT: 0.9858408, COVERAGE_USER: 0.9644238, COVERAGE_USER_HIT: 0.2958034, USERS_IN_GT: 0.9644238, DIVERSITY_GINI: 0.0115332, SHANNON_ENTROPY: 8.1782360, RATIO_DIVERSITY_HERFINDAHL: 0.9909264, RATIO_DIVERSITY_GINI: 0.0227800, RATIO_SHANNON_ENTROPY: 0.6061513, RATIO_AVERAGE_POPULARITY: 4.8766485, RATIO_NOVELTY: 0.2759008, \n",
      "\n",
      "Iteration No: 2 ended. Evaluation done at random point.\n",
      "Time taken: 698.6535\n",
      "Function value obtained: -0.0193\n",
      "Current minimum: -0.0194\n",
      "Iteration No: 3 started. Evaluating function at random point.\n",
      "SearchBayesianSkopt: Testing config: {'topK': None, 'normalize_matrix': False, 'l2_norm': 213.1149471624481}\n",
      "EASE_R_Recommender: Fitting model... \n",
      "EASE_R_Recommender: Fitting model... done in 10.90 min\n",
      "EvaluatorHoldout: Processed 40148 (100.0%) in 49.28 sec. Users per second: 815\n",
      "SearchBayesianSkopt: Config 2 is suboptimal. Config: {'topK': None, 'normalize_matrix': False, 'l2_norm': 213.1149471624481} - results: PRECISION: 0.0424405, PRECISION_RECALL_MIN_DEN: 0.0816711, RECALL: 0.0784537, MAP: 0.0193845, MAP_MIN_DEN: 0.0372312, MRR: 0.1415107, NDCG: 0.0732125, F1: 0.0550831, HIT_RATE: 0.3064910, ARHR_ALL_HITS: 0.1648845, NOVELTY: 0.0041116, AVERAGE_POPULARITY: 0.2445330, DIVERSITY_MEAN_INTER_LIST: 0.9095380, DIVERSITY_HERFINDAHL: 0.9909515, COVERAGE_ITEM: 0.1074795, COVERAGE_ITEM_HIT: 0.0442731, ITEMS_IN_GT: 0.9858408, COVERAGE_USER: 0.9644238, COVERAGE_USER_HIT: 0.2955872, USERS_IN_GT: 0.9644238, DIVERSITY_GINI: 0.0120965, SHANNON_ENTROPY: 8.2444007, RATIO_DIVERSITY_HERFINDAHL: 0.9912785, RATIO_DIVERSITY_GINI: 0.0238925, RATIO_SHANNON_ENTROPY: 0.6110552, RATIO_AVERAGE_POPULARITY: 4.8069732, RATIO_NOVELTY: 0.2767898, \n",
      "\n",
      "Iteration No: 3 ended. Evaluation done at random point.\n",
      "Time taken: 704.8793\n",
      "Function value obtained: -0.0194\n",
      "Current minimum: -0.0194\n",
      "Iteration No: 4 started. Searching for the next optimal point.\n",
      "SearchBayesianSkopt: Testing config: {'topK': None, 'normalize_matrix': False, 'l2_norm': 243.66363207671876}\n",
      "EASE_R_Recommender: Fitting model... \n",
      "EASE_R_Recommender: Fitting model... done in 10.98 min\n",
      "EvaluatorHoldout: Processed 40148 (100.0%) in 50.13 sec. Users per second: 801\n",
      "SearchBayesianSkopt: Config 3 is suboptimal. Config: {'topK': None, 'normalize_matrix': False, 'l2_norm': 243.66363207671876} - results: PRECISION: 0.0424679, PRECISION_RECALL_MIN_DEN: 0.0819345, RECALL: 0.0787250, MAP: 0.0193547, MAP_MIN_DEN: 0.0371873, MRR: 0.1414554, NDCG: 0.0732422, F1: 0.0551729, HIT_RATE: 0.3068646, ARHR_ALL_HITS: 0.1647426, NOVELTY: 0.0041051, AVERAGE_POPULARITY: 0.2462914, DIVERSITY_MEAN_INTER_LIST: 0.9077927, DIVERSITY_HERFINDAHL: 0.9907770, COVERAGE_ITEM: 0.1071123, COVERAGE_ITEM_HIT: 0.0428857, ITEMS_IN_GT: 0.9858408, COVERAGE_USER: 0.9644238, COVERAGE_USER_HIT: 0.2959475, USERS_IN_GT: 0.9644238, DIVERSITY_GINI: 0.0118171, SHANNON_ENTROPY: 8.2117190, RATIO_DIVERSITY_HERFINDAHL: 0.9911039, RATIO_DIVERSITY_GINI: 0.0233407, RATIO_SHANNON_ENTROPY: 0.6086330, RATIO_AVERAGE_POPULARITY: 4.8415396, RATIO_NOVELTY: 0.2763511, \n",
      "\n",
      "Iteration No: 4 ended. Search finished for the next optimal point.\n",
      "Time taken: 710.8470\n",
      "Function value obtained: -0.0194\n",
      "Current minimum: -0.0194\n",
      "Iteration No: 5 started. Searching for the next optimal point.\n",
      "SearchBayesianSkopt: Testing config: {'topK': None, 'normalize_matrix': False, 'l2_norm': 284.6698970485615}\n",
      "EASE_R_Recommender: Fitting model... \n",
      "EASE_R_Recommender: Fitting model... done in 11.30 min\n",
      "EvaluatorHoldout: Processed 40148 (100.0%) in 51.11 sec. Users per second: 786\n",
      "SearchBayesianSkopt: Config 4 is suboptimal. Config: {'topK': None, 'normalize_matrix': False, 'l2_norm': 284.6698970485615} - results: PRECISION: 0.0424355, PRECISION_RECALL_MIN_DEN: 0.0819722, RECALL: 0.0787521, MAP: 0.0193078, MAP_MIN_DEN: 0.0370955, MRR: 0.1411480, NDCG: 0.0731358, F1: 0.0551522, HIT_RATE: 0.3068646, ARHR_ALL_HITS: 0.1643372, NOVELTY: 0.0040964, AVERAGE_POPULARITY: 0.2486173, DIVERSITY_MEAN_INTER_LIST: 0.9054797, DIVERSITY_HERFINDAHL: 0.9905457, COVERAGE_ITEM: 0.1058881, COVERAGE_ITEM_HIT: 0.0414575, ITEMS_IN_GT: 0.9858408, COVERAGE_USER: 0.9644238, COVERAGE_USER_HIT: 0.2959475, USERS_IN_GT: 0.9644238, DIVERSITY_GINI: 0.0114577, SHANNON_ENTROPY: 8.1688601, RATIO_DIVERSITY_HERFINDAHL: 0.9908725, RATIO_DIVERSITY_GINI: 0.0226308, RATIO_SHANNON_ENTROPY: 0.6054564, RATIO_AVERAGE_POPULARITY: 4.8872621, RATIO_NOVELTY: 0.2757703, \n",
      "\n",
      "Iteration No: 5 ended. Search finished for the next optimal point.\n",
      "Time taken: 730.7661\n",
      "Function value obtained: -0.0193\n",
      "Current minimum: -0.0194\n",
      "Iteration No: 6 started. Searching for the next optimal point.\n",
      "SearchBayesianSkopt: Testing config: {'topK': None, 'normalize_matrix': False, 'l2_norm': 200.00000000000003}\n",
      "EASE_R_Recommender: Fitting model... \n"
     ]
    }
   ],
   "source": [
    "hyperparameterSearch.search(recommender_input_args = recommender_input_args,\n",
    "                            recommender_input_args_last_test = recommender_input_args_last_test,\n",
    "                            hyperparameter_search_space = hyperparameters_range_dictionary,\n",
    "                            n_cases = n_cases,\n",
    "                            n_random_starts = n_random_starts,\n",
    "                            save_model = \"last\",\n",
    "                            output_folder_path = output_folder_path, # Where to save the results\n",
    "                            output_file_name_root = recommender_class.RECOMMENDER_NAME, # How to call the files\n",
    "                            metric_to_optimize = metric_to_optimize,\n",
    "                            cutoff_to_optimize = cutoff_to_optimize,\n",
    "                            )"
   ]
  },
  {
   "cell_type": "code",
   "execution_count": null,
   "id": "066e8871",
   "metadata": {
    "papermill": {
     "duration": null,
     "end_time": null,
     "exception": null,
     "start_time": null,
     "status": "completed"
    },
    "tags": []
   },
   "outputs": [],
   "source": [
    "from Recommenders.DataIO import DataIO\n",
    "\n",
    "#explore the results of the search\n",
    "data_loader = DataIO(folder_path = output_folder_path)\n",
    "search_metadata = data_loader.load_data(recommender_class.RECOMMENDER_NAME + \"_metadata.zip\")\n",
    "\n",
    "search_metadata.keys()"
   ]
  },
  {
   "cell_type": "code",
   "execution_count": null,
   "id": "ca42413f",
   "metadata": {
    "papermill": {
     "duration": null,
     "end_time": null,
     "exception": null,
     "start_time": null,
     "status": "completed"
    },
    "tags": []
   },
   "outputs": [],
   "source": [
    "hyperparameters_df = search_metadata[\"hyperparameters_df\"]\n",
    "hyperparameters_df"
   ]
  },
  {
   "cell_type": "code",
   "execution_count": null,
   "id": "d77aa838",
   "metadata": {
    "papermill": {
     "duration": null,
     "end_time": null,
     "exception": null,
     "start_time": null,
     "status": "completed"
    },
    "tags": []
   },
   "outputs": [],
   "source": [
    "result_on_validation_df = search_metadata[\"result_on_validation_df\"]\n",
    "result_on_validation_df"
   ]
  },
  {
   "cell_type": "code",
   "execution_count": null,
   "id": "bc8ca32f",
   "metadata": {
    "papermill": {
     "duration": null,
     "end_time": null,
     "exception": null,
     "start_time": null,
     "status": "completed"
    },
    "tags": []
   },
   "outputs": [],
   "source": [
    "best_hyperparameters = search_metadata[\"hyperparameters_best\"]\n",
    "best_hyperparameters"
   ]
  }
 ],
 "metadata": {
  "kernelspec": {
   "display_name": "Python 3",
   "language": "python",
   "name": "python3"
  },
  "language_info": {
   "codemirror_mode": {
    "name": "ipython",
    "version": 3
   },
   "file_extension": ".py",
   "mimetype": "text/x-python",
   "name": "python",
   "nbconvert_exporter": "python",
   "pygments_lexer": "ipython3",
   "version": "3.6.4"
  },
  "papermill": {
   "default_parameters": {},
   "duration": 4225.079093,
   "end_time": "2023-01-10T00:39:28.120120",
   "environment_variables": {},
   "exception": null,
   "input_path": "__notebook__.ipynb",
   "output_path": "__notebook__.ipynb",
   "parameters": {},
   "start_time": "2023-01-09T23:29:03.041027",
   "version": "2.3.4"
  }
 },
 "nbformat": 4,
 "nbformat_minor": 5
}
