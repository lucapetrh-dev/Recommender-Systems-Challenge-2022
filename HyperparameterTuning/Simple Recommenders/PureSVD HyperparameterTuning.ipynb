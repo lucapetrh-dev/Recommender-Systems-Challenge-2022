{
 "cells": [
  {
   "cell_type": "code",
   "execution_count": 1,
   "outputs": [],
   "source": [
    "import pandas as pd\n",
    "import numpy as np\n",
    "import scipy.sparse as sps\n",
    "import matplotlib.pyplot as pyplot\n",
    "\n",
    "from Evaluation.Evaluator import EvaluatorHoldout\n",
    "from Data_manager.split_functions.split_train_validation_random_holdout import split_train_in_two_percentage_global_sample\n",
    "from Utils.DataReader import load_urm, load_icm, load_target"
   ],
   "metadata": {
    "collapsed": false
   }
  },
  {
   "cell_type": "code",
   "execution_count": 2,
   "outputs": [
    {
     "name": "stdout",
     "output_type": "stream",
     "text": [
      "Warning: 914 (2.20 %) of 41629 users have no sampled items\n",
      "Warning: 1555 (3.74 %) of 41629 users have no sampled items\n",
      "EvaluatorHoldout: Ignoring 1555 ( 3.7%) Users that have less than 1 test interactions\n",
      "EvaluatorHoldout: Ignoring 914 ( 2.2%) Users that have less than 1 test interactions\n"
     ]
    }
   ],
   "source": [
    "URM_all = load_urm()\n",
    "\n",
    "URM_train, URM_test = split_train_in_two_percentage_global_sample(URM_all, train_percentage = 0.85)\n",
    "URM_train, URM_validation = split_train_in_two_percentage_global_sample(URM_train, train_percentage = 0.85)\n",
    "\n",
    "evaluator_validation = EvaluatorHoldout(URM_validation, cutoff_list=[10])\n",
    "evaluator_test = EvaluatorHoldout(URM_test, cutoff_list=[10])"
   ],
   "metadata": {
    "collapsed": false
   }
  },
  {
   "cell_type": "markdown",
   "source": [
    "## Pure SVD"
   ],
   "metadata": {
    "collapsed": false
   }
  },
  {
   "cell_type": "code",
   "execution_count": 3,
   "outputs": [],
   "source": [
    "from Recommenders.MatrixFactorization.PureSVDRecommender import PureSVDRecommender\n",
    "\n",
    "recommender_class = PureSVDRecommender"
   ],
   "metadata": {
    "collapsed": false
   }
  },
  {
   "cell_type": "markdown",
   "source": [
    "### Hyperparameter Tuning"
   ],
   "metadata": {
    "collapsed": false
   }
  },
  {
   "cell_type": "code",
   "execution_count": 4,
   "outputs": [],
   "source": [
    "from skopt.space import Integer\n",
    "#basic tuning of hyperparamether: number of factors N_k\n",
    "\n",
    "hyperparameters_range_dictionary = {\n",
    "    \"num_factors\": Integer(30, 35),\n",
    "}"
   ],
   "metadata": {
    "collapsed": false
   }
  },
  {
   "cell_type": "markdown",
   "source": [
    "We create a bayesian optimizer object, we pass the recommender and the evaluator"
   ],
   "metadata": {
    "collapsed": false
   }
  },
  {
   "cell_type": "code",
   "execution_count": 5,
   "outputs": [],
   "source": [
    "from HyperparameterTuning.SearchBayesianSkopt import SearchBayesianSkopt\n",
    "\n",
    "hyperparameterSearch = SearchBayesianSkopt(recommender_class,\n",
    "                                           evaluator_validation=evaluator_validation)"
   ],
   "metadata": {
    "collapsed": false
   }
  },
  {
   "cell_type": "markdown",
   "source": [
    "We provide the data needed to create an instance of the model, one on the URM_train, the other on the URM_all"
   ],
   "metadata": {
    "collapsed": false
   }
  },
  {
   "cell_type": "code",
   "execution_count": 6,
   "outputs": [],
   "source": [
    "from HyperparameterTuning.SearchAbstractClass import SearchInputRecommenderArgs\n",
    "\n",
    "#provide data needed to create instance of model (one on URM_train, the other on URM_all)\n",
    "recommender_input_args = SearchInputRecommenderArgs(\n",
    "    CONSTRUCTOR_POSITIONAL_ARGS = [URM_train],     # For a CBF model simply put [URM_train, ICM_train]\n",
    "    CONSTRUCTOR_KEYWORD_ARGS = {},\n",
    "    FIT_POSITIONAL_ARGS = [],\n",
    "    FIT_KEYWORD_ARGS = {}\n",
    ")\n",
    "\n",
    "recommender_input_args_last_test = SearchInputRecommenderArgs(\n",
    "    CONSTRUCTOR_POSITIONAL_ARGS = [URM_all],\n",
    "    CONSTRUCTOR_KEYWORD_ARGS = {},\n",
    "    FIT_POSITIONAL_ARGS = [],\n",
    "    FIT_KEYWORD_ARGS = {}\n",
    ")"
   ],
   "metadata": {
    "collapsed": false
   }
  },
  {
   "cell_type": "markdown",
   "source": [
    "Let's do some experiments!"
   ],
   "metadata": {
    "collapsed": false
   }
  },
  {
   "cell_type": "code",
   "execution_count": 8,
   "outputs": [],
   "source": [
    "import os\n",
    "\n",
    "output_folder_path = \"Experiments/\"\n",
    "\n",
    "# If directory does not exist, create\n",
    "if not os.path.exists(output_folder_path):\n",
    "    os.makedirs(output_folder_path)\n",
    "\n",
    "n_cases = 10\n",
    "n_random_starts = int(n_cases*0.3)\n",
    "metric_to_optimize = \"MAP\"\n",
    "cutoff_to_optimize = 10"
   ],
   "metadata": {
    "collapsed": false
   }
  },
  {
   "cell_type": "markdown",
   "source": [
    "### Bayesian Search"
   ],
   "metadata": {
    "collapsed": false
   }
  },
  {
   "cell_type": "code",
   "execution_count": 9,
   "outputs": [
    {
     "name": "stdout",
     "output_type": "stream",
     "text": [
      "Iteration No: 1 started. Evaluating function at random point.\n",
      "SearchBayesianSkopt: Testing config: {'num_factors': 33}\n",
      "PureSVDRecommender: Computing SVD decomposition...\n",
      "PureSVDRecommender: Computing SVD decomposition... done in 2.94 sec\n",
      "EvaluatorHoldout: Processed 40074 (100.0%) in 1.06 min. Users per second: 633\n",
      "SearchBayesianSkopt: New best config found. Config 0: {'num_factors': 33} - results: PRECISION: 0.0252707, PRECISION_RECALL_MIN_DEN: 0.0466731, RECALL: 0.0443830, MAP: 0.0107460, MAP_MIN_DEN: 0.0196231, MRR: 0.0837180, NDCG: 0.0412209, F1: 0.0322048, HIT_RATE: 0.1966113, ARHR_ALL_HITS: 0.0943697, NOVELTY: 0.0041310, AVERAGE_POPULARITY: 0.1617287, DIVERSITY_MEAN_INTER_LIST: 0.9221194, DIVERSITY_HERFINDAHL: 0.9922096, COVERAGE_ITEM: 0.0143632, COVERAGE_ITEM_HIT: 0.0116701, ITEMS_IN_GT: 0.9860040, COVERAGE_USER: 0.9626462, COVERAGE_USER_HIT: 0.1892671, USERS_IN_GT: 0.9626462, DIVERSITY_GINI: 0.0050493, SHANNON_ENTROPY: 7.3624500, RATIO_DIVERSITY_HERFINDAHL: 0.9925382, RATIO_DIVERSITY_GINI: 0.0099757, RATIO_SHANNON_ENTROPY: 0.5457101, RATIO_AVERAGE_POPULARITY: 3.2105167, RATIO_NOVELTY: 0.2781101, \n",
      "\n",
      "Iteration No: 1 ended. Evaluation done at random point.\n",
      "Time taken: 66.8823\n",
      "Function value obtained: -0.0107\n",
      "Current minimum: -0.0107\n",
      "Iteration No: 2 started. Evaluating function at random point.\n",
      "SearchBayesianSkopt: Testing config: {'num_factors': 30}\n",
      "PureSVDRecommender: Computing SVD decomposition...\n",
      "PureSVDRecommender: Computing SVD decomposition... done in 1.99 sec\n",
      "EvaluatorHoldout: Processed 40074 (100.0%) in 58.12 sec. Users per second: 690\n",
      "SearchBayesianSkopt: New best config found. Config 1: {'num_factors': 30} - results: PRECISION: 0.0253805, PRECISION_RECALL_MIN_DEN: 0.0468931, RECALL: 0.0446061, MAP: 0.0108560, MAP_MIN_DEN: 0.0198803, MRR: 0.0846718, NDCG: 0.0416211, F1: 0.0323527, HIT_RATE: 0.1975346, ARHR_ALL_HITS: 0.0954310, NOVELTY: 0.0041094, AVERAGE_POPULARITY: 0.1682646, DIVERSITY_MEAN_INTER_LIST: 0.9181928, DIVERSITY_HERFINDAHL: 0.9918170, COVERAGE_ITEM: 0.0137920, COVERAGE_ITEM_HIT: 0.0111397, ITEMS_IN_GT: 0.9860040, COVERAGE_USER: 0.9626462, COVERAGE_USER_HIT: 0.1901559, USERS_IN_GT: 0.9626462, DIVERSITY_GINI: 0.0048279, SHANNON_ENTROPY: 7.2952357, RATIO_DIVERSITY_HERFINDAHL: 0.9921454, RATIO_DIVERSITY_GINI: 0.0095382, RATIO_SHANNON_ENTROPY: 0.5407281, RATIO_AVERAGE_POPULARITY: 3.3402613, RATIO_NOVELTY: 0.2766538, \n",
      "\n",
      "Iteration No: 2 ended. Evaluation done at random point.\n",
      "Time taken: 60.3489\n",
      "Function value obtained: -0.0109\n",
      "Current minimum: -0.0109\n",
      "Iteration No: 3 started. Evaluating function at random point.\n",
      "SearchBayesianSkopt: Testing config: {'num_factors': 31}\n",
      "PureSVDRecommender: Computing SVD decomposition...\n",
      "PureSVDRecommender: Computing SVD decomposition... done in 1.77 sec\n",
      "EvaluatorHoldout: Processed 40074 (100.0%) in 52.12 sec. Users per second: 769\n",
      "SearchBayesianSkopt: New best config found. Config 2: {'num_factors': 31} - results: PRECISION: 0.0255752, PRECISION_RECALL_MIN_DEN: 0.0469048, RECALL: 0.0445992, MAP: 0.0108858, MAP_MIN_DEN: 0.0198775, MRR: 0.0846326, NDCG: 0.0416747, F1: 0.0325085, HIT_RATE: 0.1985826, ARHR_ALL_HITS: 0.0954891, NOVELTY: 0.0041183, AVERAGE_POPULARITY: 0.1661883, DIVERSITY_MEAN_INTER_LIST: 0.9210189, DIVERSITY_HERFINDAHL: 0.9920996, COVERAGE_ITEM: 0.0140368, COVERAGE_ITEM_HIT: 0.0110581, ITEMS_IN_GT: 0.9860040, COVERAGE_USER: 0.9626462, COVERAGE_USER_HIT: 0.1911648, USERS_IN_GT: 0.9626462, DIVERSITY_GINI: 0.0049522, SHANNON_ENTROPY: 7.3336282, RATIO_DIVERSITY_HERFINDAHL: 0.9924281, RATIO_DIVERSITY_GINI: 0.0097838, RATIO_SHANNON_ENTROPY: 0.5435738, RATIO_AVERAGE_POPULARITY: 3.2990453, RATIO_NOVELTY: 0.2772551, \n",
      "\n",
      "Iteration No: 3 ended. Evaluation done at random point.\n",
      "Time taken: 54.3291\n",
      "Function value obtained: -0.0109\n",
      "Current minimum: -0.0109\n",
      "Iteration No: 4 started. Searching for the next optimal point.\n",
      "SearchBayesianSkopt: Testing config: {'num_factors': 33}\n",
      "SearchBayesianSkopt: Config 3 was already explored at index 0. Config: {'num_factors': 33} - results: PRECISION: 0.0252707, PRECISION_RECALL_MIN_DEN: 0.0466731, RECALL: 0.0443830, MAP: 0.0107460, MAP_MIN_DEN: 0.0196231, MRR: 0.0837180, NDCG: 0.0412209, F1: 0.0322048, HIT_RATE: 0.1966113, ARHR_ALL_HITS: 0.0943697, NOVELTY: 0.0041310, AVERAGE_POPULARITY: 0.1617287, DIVERSITY_MEAN_INTER_LIST: 0.9221194, DIVERSITY_HERFINDAHL: 0.9922096, COVERAGE_ITEM: 0.0143632, COVERAGE_ITEM_HIT: 0.0116701, ITEMS_IN_GT: 0.9860040, COVERAGE_USER: 0.9626462, COVERAGE_USER_HIT: 0.1892671, USERS_IN_GT: 0.9626462, DIVERSITY_GINI: 0.0050493, SHANNON_ENTROPY: 7.3624500, RATIO_DIVERSITY_HERFINDAHL: 0.9925382, RATIO_DIVERSITY_GINI: 0.0099757, RATIO_SHANNON_ENTROPY: 0.5457101, RATIO_AVERAGE_POPULARITY: 3.2105167, RATIO_NOVELTY: 0.2781101, \n",
      "\n"
     ]
    },
    {
     "name": "stderr",
     "output_type": "stream",
     "text": [
      "C:\\Users\\Luca\\miniconda3\\lib\\site-packages\\skopt\\optimizer\\optimizer.py:449: UserWarning: The objective has been evaluated at this point before.\n",
      "  warnings.warn(\"The objective has been evaluated \"\n"
     ]
    },
    {
     "name": "stdout",
     "output_type": "stream",
     "text": [
      "Iteration No: 4 ended. Search finished for the next optimal point.\n",
      "Time taken: 0.5530\n",
      "Function value obtained: -0.0107\n",
      "Current minimum: -0.0109\n",
      "Iteration No: 5 started. Searching for the next optimal point.\n",
      "SearchBayesianSkopt: Testing config: {'num_factors': 31}\n",
      "SearchBayesianSkopt: Config 4 was already explored at index 2. Config: {'num_factors': 31} - results: PRECISION: 0.0255752, PRECISION_RECALL_MIN_DEN: 0.0469048, RECALL: 0.0445992, MAP: 0.0108858, MAP_MIN_DEN: 0.0198775, MRR: 0.0846326, NDCG: 0.0416747, F1: 0.0325085, HIT_RATE: 0.1985826, ARHR_ALL_HITS: 0.0954891, NOVELTY: 0.0041183, AVERAGE_POPULARITY: 0.1661883, DIVERSITY_MEAN_INTER_LIST: 0.9210189, DIVERSITY_HERFINDAHL: 0.9920996, COVERAGE_ITEM: 0.0140368, COVERAGE_ITEM_HIT: 0.0110581, ITEMS_IN_GT: 0.9860040, COVERAGE_USER: 0.9626462, COVERAGE_USER_HIT: 0.1911648, USERS_IN_GT: 0.9626462, DIVERSITY_GINI: 0.0049522, SHANNON_ENTROPY: 7.3336282, RATIO_DIVERSITY_HERFINDAHL: 0.9924281, RATIO_DIVERSITY_GINI: 0.0097838, RATIO_SHANNON_ENTROPY: 0.5435738, RATIO_AVERAGE_POPULARITY: 3.2990453, RATIO_NOVELTY: 0.2772551, \n",
      "\n"
     ]
    },
    {
     "name": "stderr",
     "output_type": "stream",
     "text": [
      "C:\\Users\\Luca\\miniconda3\\lib\\site-packages\\skopt\\optimizer\\optimizer.py:449: UserWarning: The objective has been evaluated at this point before.\n",
      "  warnings.warn(\"The objective has been evaluated \"\n"
     ]
    },
    {
     "name": "stdout",
     "output_type": "stream",
     "text": [
      "Iteration No: 5 ended. Search finished for the next optimal point.\n",
      "Time taken: 0.4037\n",
      "Function value obtained: -0.0109\n",
      "Current minimum: -0.0109\n",
      "Iteration No: 6 started. Searching for the next optimal point.\n",
      "SearchBayesianSkopt: Testing config: {'num_factors': 35}\n",
      "PureSVDRecommender: Computing SVD decomposition...\n",
      "PureSVDRecommender: Computing SVD decomposition... done in 2.01 sec\n",
      "EvaluatorHoldout: Processed 40074 (100.0%) in 46.91 sec. Users per second: 854\n",
      "SearchBayesianSkopt: Config 5 is suboptimal. Config: {'num_factors': 35} - results: PRECISION: 0.0250287, PRECISION_RECALL_MIN_DEN: 0.0461878, RECALL: 0.0439390, MAP: 0.0106386, MAP_MIN_DEN: 0.0194352, MRR: 0.0830866, NDCG: 0.0408527, F1: 0.0318913, HIT_RATE: 0.1950891, ARHR_ALL_HITS: 0.0935450, NOVELTY: 0.0041353, AVERAGE_POPULARITY: 0.1606836, DIVERSITY_MEAN_INTER_LIST: 0.9221702, DIVERSITY_HERFINDAHL: 0.9922147, COVERAGE_ITEM: 0.0153426, COVERAGE_ITEM_HIT: 0.0116701, ITEMS_IN_GT: 0.9860040, COVERAGE_USER: 0.9626462, COVERAGE_USER_HIT: 0.1878018, USERS_IN_GT: 0.9626462, DIVERSITY_GINI: 0.0051065, SHANNON_ENTROPY: 7.3782866, RATIO_DIVERSITY_HERFINDAHL: 0.9925432, RATIO_DIVERSITY_GINI: 0.0100885, RATIO_SHANNON_ENTROPY: 0.5468839, RATIO_AVERAGE_POPULARITY: 3.1897706, RATIO_NOVELTY: 0.2783970, \n",
      "\n",
      "Iteration No: 6 ended. Search finished for the next optimal point.\n",
      "Time taken: 49.3805\n",
      "Function value obtained: -0.0106\n",
      "Current minimum: -0.0109\n",
      "Iteration No: 7 started. Searching for the next optimal point.\n",
      "SearchBayesianSkopt: Testing config: {'num_factors': 33}\n",
      "SearchBayesianSkopt: Config 6 was already explored at index 0. Config: {'num_factors': 33} - results: PRECISION: 0.0252707, PRECISION_RECALL_MIN_DEN: 0.0466731, RECALL: 0.0443830, MAP: 0.0107460, MAP_MIN_DEN: 0.0196231, MRR: 0.0837180, NDCG: 0.0412209, F1: 0.0322048, HIT_RATE: 0.1966113, ARHR_ALL_HITS: 0.0943697, NOVELTY: 0.0041310, AVERAGE_POPULARITY: 0.1617287, DIVERSITY_MEAN_INTER_LIST: 0.9221194, DIVERSITY_HERFINDAHL: 0.9922096, COVERAGE_ITEM: 0.0143632, COVERAGE_ITEM_HIT: 0.0116701, ITEMS_IN_GT: 0.9860040, COVERAGE_USER: 0.9626462, COVERAGE_USER_HIT: 0.1892671, USERS_IN_GT: 0.9626462, DIVERSITY_GINI: 0.0050493, SHANNON_ENTROPY: 7.3624500, RATIO_DIVERSITY_HERFINDAHL: 0.9925382, RATIO_DIVERSITY_GINI: 0.0099757, RATIO_SHANNON_ENTROPY: 0.5457101, RATIO_AVERAGE_POPULARITY: 3.2105167, RATIO_NOVELTY: 0.2781101, \n",
      "\n"
     ]
    },
    {
     "name": "stderr",
     "output_type": "stream",
     "text": [
      "C:\\Users\\Luca\\miniconda3\\lib\\site-packages\\skopt\\optimizer\\optimizer.py:449: UserWarning: The objective has been evaluated at this point before.\n",
      "  warnings.warn(\"The objective has been evaluated \"\n"
     ]
    },
    {
     "name": "stdout",
     "output_type": "stream",
     "text": [
      "Iteration No: 7 ended. Search finished for the next optimal point.\n",
      "Time taken: 0.3690\n",
      "Function value obtained: -0.0107\n",
      "Current minimum: -0.0109\n",
      "Iteration No: 8 started. Searching for the next optimal point.\n",
      "SearchBayesianSkopt: Testing config: {'num_factors': 30}\n",
      "SearchBayesianSkopt: Config 7 was already explored at index 1. Config: {'num_factors': 30} - results: PRECISION: 0.0253805, PRECISION_RECALL_MIN_DEN: 0.0468931, RECALL: 0.0446061, MAP: 0.0108560, MAP_MIN_DEN: 0.0198803, MRR: 0.0846718, NDCG: 0.0416211, F1: 0.0323527, HIT_RATE: 0.1975346, ARHR_ALL_HITS: 0.0954310, NOVELTY: 0.0041094, AVERAGE_POPULARITY: 0.1682646, DIVERSITY_MEAN_INTER_LIST: 0.9181928, DIVERSITY_HERFINDAHL: 0.9918170, COVERAGE_ITEM: 0.0137920, COVERAGE_ITEM_HIT: 0.0111397, ITEMS_IN_GT: 0.9860040, COVERAGE_USER: 0.9626462, COVERAGE_USER_HIT: 0.1901559, USERS_IN_GT: 0.9626462, DIVERSITY_GINI: 0.0048279, SHANNON_ENTROPY: 7.2952357, RATIO_DIVERSITY_HERFINDAHL: 0.9921454, RATIO_DIVERSITY_GINI: 0.0095382, RATIO_SHANNON_ENTROPY: 0.5407281, RATIO_AVERAGE_POPULARITY: 3.3402613, RATIO_NOVELTY: 0.2766538, \n",
      "\n"
     ]
    },
    {
     "name": "stderr",
     "output_type": "stream",
     "text": [
      "C:\\Users\\Luca\\miniconda3\\lib\\site-packages\\skopt\\optimizer\\optimizer.py:449: UserWarning: The objective has been evaluated at this point before.\n",
      "  warnings.warn(\"The objective has been evaluated \"\n"
     ]
    },
    {
     "name": "stdout",
     "output_type": "stream",
     "text": [
      "Iteration No: 8 ended. Search finished for the next optimal point.\n",
      "Time taken: 1.0798\n",
      "Function value obtained: -0.0109\n",
      "Current minimum: -0.0109\n",
      "Iteration No: 9 started. Searching for the next optimal point.\n",
      "SearchBayesianSkopt: Testing config: {'num_factors': 31}\n",
      "SearchBayesianSkopt: Config 8 was already explored at index 2. Config: {'num_factors': 31} - results: PRECISION: 0.0255752, PRECISION_RECALL_MIN_DEN: 0.0469048, RECALL: 0.0445992, MAP: 0.0108858, MAP_MIN_DEN: 0.0198775, MRR: 0.0846326, NDCG: 0.0416747, F1: 0.0325085, HIT_RATE: 0.1985826, ARHR_ALL_HITS: 0.0954891, NOVELTY: 0.0041183, AVERAGE_POPULARITY: 0.1661883, DIVERSITY_MEAN_INTER_LIST: 0.9210189, DIVERSITY_HERFINDAHL: 0.9920996, COVERAGE_ITEM: 0.0140368, COVERAGE_ITEM_HIT: 0.0110581, ITEMS_IN_GT: 0.9860040, COVERAGE_USER: 0.9626462, COVERAGE_USER_HIT: 0.1911648, USERS_IN_GT: 0.9626462, DIVERSITY_GINI: 0.0049522, SHANNON_ENTROPY: 7.3336282, RATIO_DIVERSITY_HERFINDAHL: 0.9924281, RATIO_DIVERSITY_GINI: 0.0097838, RATIO_SHANNON_ENTROPY: 0.5435738, RATIO_AVERAGE_POPULARITY: 3.2990453, RATIO_NOVELTY: 0.2772551, \n",
      "\n"
     ]
    },
    {
     "name": "stderr",
     "output_type": "stream",
     "text": [
      "C:\\Users\\Luca\\miniconda3\\lib\\site-packages\\skopt\\optimizer\\optimizer.py:449: UserWarning: The objective has been evaluated at this point before.\n",
      "  warnings.warn(\"The objective has been evaluated \"\n"
     ]
    },
    {
     "name": "stdout",
     "output_type": "stream",
     "text": [
      "Iteration No: 9 ended. Search finished for the next optimal point.\n",
      "Time taken: 1.0233\n",
      "Function value obtained: -0.0109\n",
      "Current minimum: -0.0109\n",
      "Iteration No: 10 started. Searching for the next optimal point.\n",
      "SearchBayesianSkopt: Testing config: {'num_factors': 31}\n",
      "SearchBayesianSkopt: Config 9 was already explored at index 2. Config: {'num_factors': 31} - results: PRECISION: 0.0255752, PRECISION_RECALL_MIN_DEN: 0.0469048, RECALL: 0.0445992, MAP: 0.0108858, MAP_MIN_DEN: 0.0198775, MRR: 0.0846326, NDCG: 0.0416747, F1: 0.0325085, HIT_RATE: 0.1985826, ARHR_ALL_HITS: 0.0954891, NOVELTY: 0.0041183, AVERAGE_POPULARITY: 0.1661883, DIVERSITY_MEAN_INTER_LIST: 0.9210189, DIVERSITY_HERFINDAHL: 0.9920996, COVERAGE_ITEM: 0.0140368, COVERAGE_ITEM_HIT: 0.0110581, ITEMS_IN_GT: 0.9860040, COVERAGE_USER: 0.9626462, COVERAGE_USER_HIT: 0.1911648, USERS_IN_GT: 0.9626462, DIVERSITY_GINI: 0.0049522, SHANNON_ENTROPY: 7.3336282, RATIO_DIVERSITY_HERFINDAHL: 0.9924281, RATIO_DIVERSITY_GINI: 0.0097838, RATIO_SHANNON_ENTROPY: 0.5435738, RATIO_AVERAGE_POPULARITY: 3.2990453, RATIO_NOVELTY: 0.2772551, \n",
      "\n"
     ]
    },
    {
     "name": "stderr",
     "output_type": "stream",
     "text": [
      "C:\\Users\\Luca\\miniconda3\\lib\\site-packages\\skopt\\optimizer\\optimizer.py:449: UserWarning: The objective has been evaluated at this point before.\n",
      "  warnings.warn(\"The objective has been evaluated \"\n"
     ]
    },
    {
     "name": "stdout",
     "output_type": "stream",
     "text": [
      "Iteration No: 10 ended. Search finished for the next optimal point.\n",
      "Time taken: 1.0271\n",
      "Function value obtained: -0.0109\n",
      "Current minimum: -0.0109\n",
      "SearchBayesianSkopt: Search complete. Best config is 2: {'num_factors': 31}\n",
      "\n",
      "SearchBayesianSkopt: Evaluation with constructor data for final test. Using best config: {'num_factors': 31}\n",
      "PureSVDRecommender: Computing SVD decomposition...\n",
      "PureSVDRecommender: Computing SVD decomposition... done in 1.98 sec\n",
      "SearchBayesianSkopt: Saving model in result_experiments/PureSVDRecommender\n",
      "\n",
      "PureSVDRecommender: Saving model in file 'result_experiments/PureSVDRecommender_best_model_last'\n",
      "PureSVDRecommender: Saving complete\n"
     ]
    }
   ],
   "source": [
    "hyperparameterSearch.search(recommender_input_args,\n",
    "                            recommender_input_args_last_test = recommender_input_args_last_test,\n",
    "                            hyperparameter_search_space = hyperparameters_range_dictionary,\n",
    "                            n_cases = n_cases,\n",
    "                            n_random_starts = n_random_starts,\n",
    "                            save_model = \"last\",\n",
    "                            output_folder_path = output_folder_path, # Where to save the results\n",
    "                            output_file_name_root = recommender_class.RECOMMENDER_NAME, # How to call the files\n",
    "                            metric_to_optimize = metric_to_optimize,\n",
    "                            cutoff_to_optimize = cutoff_to_optimize,\n",
    "                            )"
   ],
   "metadata": {
    "collapsed": false
   }
  },
  {
   "cell_type": "markdown",
   "source": [
    "### Search Results:"
   ],
   "metadata": {
    "collapsed": false
   }
  },
  {
   "cell_type": "code",
   "execution_count": 10,
   "outputs": [
    {
     "data": {
      "text/plain": "dict_keys(['algorithm_name_recommender', 'algorithm_name_search', 'cutoff_to_optimize', 'exception_list', 'hyperparameters_best', 'hyperparameters_best_index', 'hyperparameters_df', 'metric_to_optimize', 'result_on_earlystopping_df', 'result_on_last', 'result_on_test_best', 'result_on_test_df', 'result_on_validation_best', 'result_on_validation_df', 'time_df', 'time_on_last_df', 'time_on_test_avg', 'time_on_test_total', 'time_on_train_avg', 'time_on_train_total', 'time_on_validation_avg', 'time_on_validation_total'])"
     },
     "execution_count": 10,
     "metadata": {},
     "output_type": "execute_result"
    }
   ],
   "source": [
    "from Recommenders.DataIO import DataIO\n",
    "\n",
    "data_loader = DataIO(folder_path = output_folder_path)\n",
    "search_metadata = data_loader.load_data(recommender_class.RECOMMENDER_NAME + \"_metadata.zip\")\n",
    "\n",
    "search_metadata.keys()"
   ],
   "metadata": {
    "collapsed": false
   }
  },
  {
   "cell_type": "code",
   "execution_count": 11,
   "outputs": [
    {
     "data": {
      "text/plain": "  num_factors\n0          33\n1          30\n2          31\n3          33\n4          31\n5          35\n6          33\n7          30\n8          31\n9          31",
      "text/html": "<div>\n<style scoped>\n    .dataframe tbody tr th:only-of-type {\n        vertical-align: middle;\n    }\n\n    .dataframe tbody tr th {\n        vertical-align: top;\n    }\n\n    .dataframe thead th {\n        text-align: right;\n    }\n</style>\n<table border=\"1\" class=\"dataframe\">\n  <thead>\n    <tr style=\"text-align: right;\">\n      <th></th>\n      <th>num_factors</th>\n    </tr>\n  </thead>\n  <tbody>\n    <tr>\n      <th>0</th>\n      <td>33</td>\n    </tr>\n    <tr>\n      <th>1</th>\n      <td>30</td>\n    </tr>\n    <tr>\n      <th>2</th>\n      <td>31</td>\n    </tr>\n    <tr>\n      <th>3</th>\n      <td>33</td>\n    </tr>\n    <tr>\n      <th>4</th>\n      <td>31</td>\n    </tr>\n    <tr>\n      <th>5</th>\n      <td>35</td>\n    </tr>\n    <tr>\n      <th>6</th>\n      <td>33</td>\n    </tr>\n    <tr>\n      <th>7</th>\n      <td>30</td>\n    </tr>\n    <tr>\n      <th>8</th>\n      <td>31</td>\n    </tr>\n    <tr>\n      <th>9</th>\n      <td>31</td>\n    </tr>\n  </tbody>\n</table>\n</div>"
     },
     "execution_count": 11,
     "metadata": {},
     "output_type": "execute_result"
    }
   ],
   "source": [
    "hyperparameters_df = search_metadata[\"hyperparameters_df\"]\n",
    "hyperparameters_df"
   ],
   "metadata": {
    "collapsed": false
   }
  },
  {
   "cell_type": "code",
   "execution_count": 12,
   "outputs": [
    {
     "data": {
      "text/plain": "         PRECISION PRECISION_RECALL_MIN_DEN    RECALL       MAP MAP_MIN_DEN  \\\n  cutoff                                                                      \n0 10      0.025271                 0.046673  0.044383  0.010746    0.019623   \n1 10      0.025381                 0.046893  0.044606  0.010856     0.01988   \n2 10      0.025575                 0.046905  0.044599  0.010886    0.019878   \n3 10      0.025271                 0.046673  0.044383  0.010746    0.019623   \n4 10      0.025575                 0.046905  0.044599  0.010886    0.019878   \n5 10      0.025029                 0.046188  0.043939  0.010639    0.019435   \n6 10      0.025271                 0.046673  0.044383  0.010746    0.019623   \n7 10      0.025381                 0.046893  0.044606  0.010856     0.01988   \n8 10      0.025575                 0.046905  0.044599  0.010886    0.019878   \n9 10      0.025575                 0.046905  0.044599  0.010886    0.019878   \n\n               MRR      NDCG        F1  HIT_RATE ARHR_ALL_HITS  ...  \\\n  cutoff                                                        ...   \n0 10      0.083718  0.041221  0.032205  0.196611       0.09437  ...   \n1 10      0.084672  0.041621  0.032353  0.197535      0.095431  ...   \n2 10      0.084633  0.041675  0.032509  0.198583      0.095489  ...   \n3 10      0.083718  0.041221  0.032205  0.196611       0.09437  ...   \n4 10      0.084633  0.041675  0.032509  0.198583      0.095489  ...   \n5 10      0.083087  0.040853  0.031891  0.195089      0.093545  ...   \n6 10      0.083718  0.041221  0.032205  0.196611       0.09437  ...   \n7 10      0.084672  0.041621  0.032353  0.197535      0.095431  ...   \n8 10      0.084633  0.041675  0.032509  0.198583      0.095489  ...   \n9 10      0.084633  0.041675  0.032509  0.198583      0.095489  ...   \n\n         COVERAGE_USER COVERAGE_USER_HIT USERS_IN_GT DIVERSITY_GINI  \\\n  cutoff                                                              \n0 10          0.962646          0.189267    0.962646       0.005049   \n1 10          0.962646          0.190156    0.962646       0.004828   \n2 10          0.962646          0.191165    0.962646       0.004952   \n3 10          0.962646          0.189267    0.962646       0.005049   \n4 10          0.962646          0.191165    0.962646       0.004952   \n5 10          0.962646          0.187802    0.962646       0.005106   \n6 10          0.962646          0.189267    0.962646       0.005049   \n7 10          0.962646          0.190156    0.962646       0.004828   \n8 10          0.962646          0.191165    0.962646       0.004952   \n9 10          0.962646          0.191165    0.962646       0.004952   \n\n         SHANNON_ENTROPY RATIO_DIVERSITY_HERFINDAHL RATIO_DIVERSITY_GINI  \\\n  cutoff                                                                   \n0 10             7.36245                   0.992538             0.009976   \n1 10            7.295236                   0.992145             0.009538   \n2 10            7.333628                   0.992428             0.009784   \n3 10             7.36245                   0.992538             0.009976   \n4 10            7.333628                   0.992428             0.009784   \n5 10            7.378287                   0.992543             0.010089   \n6 10             7.36245                   0.992538             0.009976   \n7 10            7.295236                   0.992145             0.009538   \n8 10            7.333628                   0.992428             0.009784   \n9 10            7.333628                   0.992428             0.009784   \n\n         RATIO_SHANNON_ENTROPY RATIO_AVERAGE_POPULARITY RATIO_NOVELTY  \n  cutoff                                                               \n0 10                   0.54571                 3.210517       0.27811  \n1 10                  0.540728                 3.340261      0.276654  \n2 10                  0.543574                 3.299045      0.277255  \n3 10                   0.54571                 3.210517       0.27811  \n4 10                  0.543574                 3.299045      0.277255  \n5 10                  0.546884                 3.189771      0.278397  \n6 10                   0.54571                 3.210517       0.27811  \n7 10                  0.540728                 3.340261      0.276654  \n8 10                  0.543574                 3.299045      0.277255  \n9 10                  0.543574                 3.299045      0.277255  \n\n[10 rows x 27 columns]",
      "text/html": "<div>\n<style scoped>\n    .dataframe tbody tr th:only-of-type {\n        vertical-align: middle;\n    }\n\n    .dataframe tbody tr th {\n        vertical-align: top;\n    }\n\n    .dataframe thead th {\n        text-align: right;\n    }\n</style>\n<table border=\"1\" class=\"dataframe\">\n  <thead>\n    <tr style=\"text-align: right;\">\n      <th></th>\n      <th></th>\n      <th>PRECISION</th>\n      <th>PRECISION_RECALL_MIN_DEN</th>\n      <th>RECALL</th>\n      <th>MAP</th>\n      <th>MAP_MIN_DEN</th>\n      <th>MRR</th>\n      <th>NDCG</th>\n      <th>F1</th>\n      <th>HIT_RATE</th>\n      <th>ARHR_ALL_HITS</th>\n      <th>...</th>\n      <th>COVERAGE_USER</th>\n      <th>COVERAGE_USER_HIT</th>\n      <th>USERS_IN_GT</th>\n      <th>DIVERSITY_GINI</th>\n      <th>SHANNON_ENTROPY</th>\n      <th>RATIO_DIVERSITY_HERFINDAHL</th>\n      <th>RATIO_DIVERSITY_GINI</th>\n      <th>RATIO_SHANNON_ENTROPY</th>\n      <th>RATIO_AVERAGE_POPULARITY</th>\n      <th>RATIO_NOVELTY</th>\n    </tr>\n    <tr>\n      <th></th>\n      <th>cutoff</th>\n      <th></th>\n      <th></th>\n      <th></th>\n      <th></th>\n      <th></th>\n      <th></th>\n      <th></th>\n      <th></th>\n      <th></th>\n      <th></th>\n      <th></th>\n      <th></th>\n      <th></th>\n      <th></th>\n      <th></th>\n      <th></th>\n      <th></th>\n      <th></th>\n      <th></th>\n      <th></th>\n      <th></th>\n    </tr>\n  </thead>\n  <tbody>\n    <tr>\n      <th>0</th>\n      <th>10</th>\n      <td>0.025271</td>\n      <td>0.046673</td>\n      <td>0.044383</td>\n      <td>0.010746</td>\n      <td>0.019623</td>\n      <td>0.083718</td>\n      <td>0.041221</td>\n      <td>0.032205</td>\n      <td>0.196611</td>\n      <td>0.09437</td>\n      <td>...</td>\n      <td>0.962646</td>\n      <td>0.189267</td>\n      <td>0.962646</td>\n      <td>0.005049</td>\n      <td>7.36245</td>\n      <td>0.992538</td>\n      <td>0.009976</td>\n      <td>0.54571</td>\n      <td>3.210517</td>\n      <td>0.27811</td>\n    </tr>\n    <tr>\n      <th>1</th>\n      <th>10</th>\n      <td>0.025381</td>\n      <td>0.046893</td>\n      <td>0.044606</td>\n      <td>0.010856</td>\n      <td>0.01988</td>\n      <td>0.084672</td>\n      <td>0.041621</td>\n      <td>0.032353</td>\n      <td>0.197535</td>\n      <td>0.095431</td>\n      <td>...</td>\n      <td>0.962646</td>\n      <td>0.190156</td>\n      <td>0.962646</td>\n      <td>0.004828</td>\n      <td>7.295236</td>\n      <td>0.992145</td>\n      <td>0.009538</td>\n      <td>0.540728</td>\n      <td>3.340261</td>\n      <td>0.276654</td>\n    </tr>\n    <tr>\n      <th>2</th>\n      <th>10</th>\n      <td>0.025575</td>\n      <td>0.046905</td>\n      <td>0.044599</td>\n      <td>0.010886</td>\n      <td>0.019878</td>\n      <td>0.084633</td>\n      <td>0.041675</td>\n      <td>0.032509</td>\n      <td>0.198583</td>\n      <td>0.095489</td>\n      <td>...</td>\n      <td>0.962646</td>\n      <td>0.191165</td>\n      <td>0.962646</td>\n      <td>0.004952</td>\n      <td>7.333628</td>\n      <td>0.992428</td>\n      <td>0.009784</td>\n      <td>0.543574</td>\n      <td>3.299045</td>\n      <td>0.277255</td>\n    </tr>\n    <tr>\n      <th>3</th>\n      <th>10</th>\n      <td>0.025271</td>\n      <td>0.046673</td>\n      <td>0.044383</td>\n      <td>0.010746</td>\n      <td>0.019623</td>\n      <td>0.083718</td>\n      <td>0.041221</td>\n      <td>0.032205</td>\n      <td>0.196611</td>\n      <td>0.09437</td>\n      <td>...</td>\n      <td>0.962646</td>\n      <td>0.189267</td>\n      <td>0.962646</td>\n      <td>0.005049</td>\n      <td>7.36245</td>\n      <td>0.992538</td>\n      <td>0.009976</td>\n      <td>0.54571</td>\n      <td>3.210517</td>\n      <td>0.27811</td>\n    </tr>\n    <tr>\n      <th>4</th>\n      <th>10</th>\n      <td>0.025575</td>\n      <td>0.046905</td>\n      <td>0.044599</td>\n      <td>0.010886</td>\n      <td>0.019878</td>\n      <td>0.084633</td>\n      <td>0.041675</td>\n      <td>0.032509</td>\n      <td>0.198583</td>\n      <td>0.095489</td>\n      <td>...</td>\n      <td>0.962646</td>\n      <td>0.191165</td>\n      <td>0.962646</td>\n      <td>0.004952</td>\n      <td>7.333628</td>\n      <td>0.992428</td>\n      <td>0.009784</td>\n      <td>0.543574</td>\n      <td>3.299045</td>\n      <td>0.277255</td>\n    </tr>\n    <tr>\n      <th>5</th>\n      <th>10</th>\n      <td>0.025029</td>\n      <td>0.046188</td>\n      <td>0.043939</td>\n      <td>0.010639</td>\n      <td>0.019435</td>\n      <td>0.083087</td>\n      <td>0.040853</td>\n      <td>0.031891</td>\n      <td>0.195089</td>\n      <td>0.093545</td>\n      <td>...</td>\n      <td>0.962646</td>\n      <td>0.187802</td>\n      <td>0.962646</td>\n      <td>0.005106</td>\n      <td>7.378287</td>\n      <td>0.992543</td>\n      <td>0.010089</td>\n      <td>0.546884</td>\n      <td>3.189771</td>\n      <td>0.278397</td>\n    </tr>\n    <tr>\n      <th>6</th>\n      <th>10</th>\n      <td>0.025271</td>\n      <td>0.046673</td>\n      <td>0.044383</td>\n      <td>0.010746</td>\n      <td>0.019623</td>\n      <td>0.083718</td>\n      <td>0.041221</td>\n      <td>0.032205</td>\n      <td>0.196611</td>\n      <td>0.09437</td>\n      <td>...</td>\n      <td>0.962646</td>\n      <td>0.189267</td>\n      <td>0.962646</td>\n      <td>0.005049</td>\n      <td>7.36245</td>\n      <td>0.992538</td>\n      <td>0.009976</td>\n      <td>0.54571</td>\n      <td>3.210517</td>\n      <td>0.27811</td>\n    </tr>\n    <tr>\n      <th>7</th>\n      <th>10</th>\n      <td>0.025381</td>\n      <td>0.046893</td>\n      <td>0.044606</td>\n      <td>0.010856</td>\n      <td>0.01988</td>\n      <td>0.084672</td>\n      <td>0.041621</td>\n      <td>0.032353</td>\n      <td>0.197535</td>\n      <td>0.095431</td>\n      <td>...</td>\n      <td>0.962646</td>\n      <td>0.190156</td>\n      <td>0.962646</td>\n      <td>0.004828</td>\n      <td>7.295236</td>\n      <td>0.992145</td>\n      <td>0.009538</td>\n      <td>0.540728</td>\n      <td>3.340261</td>\n      <td>0.276654</td>\n    </tr>\n    <tr>\n      <th>8</th>\n      <th>10</th>\n      <td>0.025575</td>\n      <td>0.046905</td>\n      <td>0.044599</td>\n      <td>0.010886</td>\n      <td>0.019878</td>\n      <td>0.084633</td>\n      <td>0.041675</td>\n      <td>0.032509</td>\n      <td>0.198583</td>\n      <td>0.095489</td>\n      <td>...</td>\n      <td>0.962646</td>\n      <td>0.191165</td>\n      <td>0.962646</td>\n      <td>0.004952</td>\n      <td>7.333628</td>\n      <td>0.992428</td>\n      <td>0.009784</td>\n      <td>0.543574</td>\n      <td>3.299045</td>\n      <td>0.277255</td>\n    </tr>\n    <tr>\n      <th>9</th>\n      <th>10</th>\n      <td>0.025575</td>\n      <td>0.046905</td>\n      <td>0.044599</td>\n      <td>0.010886</td>\n      <td>0.019878</td>\n      <td>0.084633</td>\n      <td>0.041675</td>\n      <td>0.032509</td>\n      <td>0.198583</td>\n      <td>0.095489</td>\n      <td>...</td>\n      <td>0.962646</td>\n      <td>0.191165</td>\n      <td>0.962646</td>\n      <td>0.004952</td>\n      <td>7.333628</td>\n      <td>0.992428</td>\n      <td>0.009784</td>\n      <td>0.543574</td>\n      <td>3.299045</td>\n      <td>0.277255</td>\n    </tr>\n  </tbody>\n</table>\n<p>10 rows × 27 columns</p>\n</div>"
     },
     "execution_count": 12,
     "metadata": {},
     "output_type": "execute_result"
    }
   ],
   "source": [
    "result_on_validation_df = search_metadata[\"result_on_validation_df\"]\n",
    "result_on_validation_df"
   ],
   "metadata": {
    "collapsed": false
   }
  },
  {
   "cell_type": "code",
   "execution_count": 13,
   "outputs": [
    {
     "data": {
      "text/plain": "{'num_factors': 31}"
     },
     "execution_count": 13,
     "metadata": {},
     "output_type": "execute_result"
    }
   ],
   "source": [
    "best_hyperparameters = search_metadata[\"hyperparameters_best\"]\n",
    "best_hyperparameters"
   ],
   "metadata": {
    "collapsed": false
   }
  },
  {
   "cell_type": "markdown",
   "source": [
    "## Recommender Testing"
   ],
   "metadata": {
    "collapsed": false
   }
  },
  {
   "cell_type": "code",
   "execution_count": 15,
   "outputs": [
    {
     "name": "stdout",
     "output_type": "stream",
     "text": [
      "PureSVDRecommender: Computing SVD decomposition...\n",
      "PureSVDRecommender: Computing SVD decomposition... done in 1.35 sec\n"
     ]
    }
   ],
   "source": [
    "recommender = PureSVDRecommender(URM_all)\n",
    "recommender.fit(num_factors=31)"
   ],
   "metadata": {
    "collapsed": false
   }
  },
  {
   "cell_type": "markdown",
   "source": [
    "## Submissions"
   ],
   "metadata": {
    "collapsed": false
   }
  },
  {
   "cell_type": "code",
   "execution_count": 16,
   "outputs": [],
   "source": [
    "test_users = pd.read_csv('../Dataset/data_target_users_test.csv')"
   ],
   "metadata": {
    "collapsed": false
   }
  },
  {
   "cell_type": "code",
   "execution_count": 17,
   "outputs": [],
   "source": [
    "user_id = test_users['user_id']\n",
    "recommendations = []\n",
    "for user in user_id:\n",
    "    recommendations.append(recommender.recommend(user, cutoff=10))"
   ],
   "metadata": {
    "collapsed": false
   }
  },
  {
   "cell_type": "code",
   "execution_count": 18,
   "outputs": [],
   "source": [
    "for index in range(len(recommendations)):\n",
    "    recommendations[index]=np.array(recommendations[index])\n",
    "\n",
    "test_users['item_list']= recommendations\n",
    "test_users['item_list'] = pd.DataFrame([str(line).strip('[').strip(']').replace(\"'\",\"\") for line in test_users['item_list']])\n",
    "test_users.to_csv('..\\Submissions\\Submission_03_10933934_PureSVD.csv', index=False)"
   ],
   "metadata": {
    "collapsed": false
   }
  }
 ],
 "metadata": {
  "kernelspec": {
   "display_name": "Python 3",
   "language": "python",
   "name": "python3"
  },
  "language_info": {
   "codemirror_mode": {
    "name": "ipython",
    "version": 2
   },
   "file_extension": ".py",
   "mimetype": "text/x-python",
   "name": "python",
   "nbconvert_exporter": "python",
   "pygments_lexer": "ipython2",
   "version": "2.7.6"
  }
 },
 "nbformat": 4,
 "nbformat_minor": 0
}
